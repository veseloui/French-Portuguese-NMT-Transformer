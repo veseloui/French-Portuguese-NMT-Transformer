{
  "cells": [
    {
      "cell_type": "markdown",
      "metadata": {
        "id": "s_qNSzzyaCbD"
      },
      "source": [
        "##### Copyright 2019 The TensorFlow Authors."
      ]
    },
    {
      "cell_type": "code",
      "execution_count": null,
      "metadata": {
        "execution": {
          "iopub.execute_input": "2021-11-02T15:31:58.393317Z",
          "iopub.status.busy": "2021-11-02T15:31:58.392652Z",
          "iopub.status.idle": "2021-11-02T15:31:58.395087Z",
          "shell.execute_reply": "2021-11-02T15:31:58.395485Z"
        },
        "id": "jmjh290raIky",
        "cellView": "form"
      },
      "outputs": [],
      "source": [
        "#@title Licensed under the Apache License, Version 2.0 (the \"License\");\n",
        "# you may not use this file except in compliance with the License.\n",
        "# You may obtain a copy of the License at\n",
        "#\n",
        "# https://www.apache.org/licenses/LICENSE-2.0\n",
        "#\n",
        "# Unless required by applicable law or agreed to in writing, software\n",
        "# distributed under the License is distributed on an \"AS IS\" BASIS,\n",
        "# WITHOUT WARRANTIES OR CONDITIONS OF ANY KIND, either express or implied.\n",
        "# See the License for the specific language governing permissions and\n",
        "# limitations under the License."
      ]
    },
    {
      "cell_type": "markdown",
      "metadata": {
        "id": "J0Qjg6vuaHNt"
      },
      "source": [
        "# Transformer model for language understanding"
      ]
    },
    {
      "cell_type": "markdown",
      "metadata": {
        "id": "M-f8TnGpE_ex"
      },
      "source": [
        "This notebook trains a <a href=\"https://arxiv.org/abs/1706.03762\" class=\"external\">Transformer model</a> to translate a [French to Portuguese dataset](https://www.tensorflow.org/datasets/catalog/ted_hrlr_translate#ted_hrlr_translatefr_to_pt).\n",
        "\n",
        "The core idea behind the Transformer model is *self-attention*—the ability to attend to different positions of the input sequence to compute a representation of that sequence. Transformer creates stacks of self-attention layers and is explained below in the sections *Scaled dot product attention* and *Multi-head attention*.\n",
        "\n",
        "A transformer model handles variable-sized input using stacks of self-attention layers instead of [RNNs](https://www.tensorflow.org/text/tutorials/text_classification_rnn) or [CNNs](https://www.tensorflow.org/tutorials/images/cnn). This general architecture has a number of advantages:\n",
        "\n",
        "* It makes no assumptions about the temporal/spatial relationships across the data. This is ideal for processing a set of objects (for example, [StarCraft units](https://deepmind.com/blog/alphastar-mastering-real-time-strategy-game-starcraft-ii/#block-8)).\n",
        "* Layer outputs can be calculated in parallel, instead of a series like an RNN.\n",
        "* Distant items can affect each other's output without passing through many RNN-steps, or convolution layers (see [Scene Memory Transformer](https://arxiv.org/pdf/1903.03878.pdf) for example).\n",
        "* It can learn long-range dependencies. This is a challenge in many sequence tasks.\n",
        "\n",
        "The downsides of this architecture are:\n",
        "\n",
        "* For a time-series, the output for a time-step is calculated from the *entire history* instead of only the inputs and current hidden-state. This _may_ be less efficient.   \n",
        "* If the input *does* have a  temporal/spatial relationship, like text, some positional encoding must be added or the model will effectively see a bag of words. \n",
        "\n",
        "After training the model in this notebook, you will be able to input a French sentence and return the Portuguese translation."
      ]
    },
    {
      "cell_type": "markdown",
      "metadata": {
        "id": "swymtxpl7W7w"
      },
      "source": [
        "## Setup"
      ]
    },
    {
      "cell_type": "code",
      "execution_count": null,
      "metadata": {
        "execution": {
          "iopub.execute_input": "2021-11-02T15:31:58.406429Z",
          "iopub.status.busy": "2021-11-02T15:31:58.403319Z",
          "iopub.status.idle": "2021-11-02T15:32:04.268637Z",
          "shell.execute_reply": "2021-11-02T15:32:04.269065Z"
        },
        "id": "XFG0NDRu5mYQ",
        "colab": {
          "base_uri": "https://localhost:8080/"
        },
        "outputId": "5698dacd-36d8-46b2-b9e3-ef3309bdab52"
      },
      "outputs": [
        {
          "output_type": "stream",
          "name": "stdout",
          "text": [
            "Requirement already satisfied: tensorflow_datasets in /usr/local/lib/python3.7/dist-packages (4.0.1)\n",
            "Requirement already satisfied: dm-tree in /usr/local/lib/python3.7/dist-packages (from tensorflow_datasets) (0.1.6)\n",
            "Requirement already satisfied: six in /usr/local/lib/python3.7/dist-packages (from tensorflow_datasets) (1.15.0)\n",
            "Requirement already satisfied: future in /usr/local/lib/python3.7/dist-packages (from tensorflow_datasets) (0.16.0)\n",
            "Requirement already satisfied: attrs>=18.1.0 in /usr/local/lib/python3.7/dist-packages (from tensorflow_datasets) (21.2.0)\n",
            "Requirement already satisfied: termcolor in /usr/local/lib/python3.7/dist-packages (from tensorflow_datasets) (1.1.0)\n",
            "Requirement already satisfied: requests>=2.19.0 in /usr/local/lib/python3.7/dist-packages (from tensorflow_datasets) (2.23.0)\n",
            "Requirement already satisfied: numpy in /usr/local/lib/python3.7/dist-packages (from tensorflow_datasets) (1.19.5)\n",
            "Requirement already satisfied: importlib-resources in /usr/local/lib/python3.7/dist-packages (from tensorflow_datasets) (5.4.0)\n",
            "Requirement already satisfied: dill in /usr/local/lib/python3.7/dist-packages (from tensorflow_datasets) (0.3.4)\n",
            "Requirement already satisfied: promise in /usr/local/lib/python3.7/dist-packages (from tensorflow_datasets) (2.3)\n",
            "Requirement already satisfied: tensorflow-metadata in /usr/local/lib/python3.7/dist-packages (from tensorflow_datasets) (1.4.0)\n",
            "Requirement already satisfied: tqdm in /usr/local/lib/python3.7/dist-packages (from tensorflow_datasets) (4.62.3)\n",
            "Requirement already satisfied: absl-py in /usr/local/lib/python3.7/dist-packages (from tensorflow_datasets) (0.12.0)\n",
            "Requirement already satisfied: protobuf>=3.6.1 in /usr/local/lib/python3.7/dist-packages (from tensorflow_datasets) (3.17.3)\n",
            "Requirement already satisfied: idna<3,>=2.5 in /usr/local/lib/python3.7/dist-packages (from requests>=2.19.0->tensorflow_datasets) (2.10)\n",
            "Requirement already satisfied: chardet<4,>=3.0.2 in /usr/local/lib/python3.7/dist-packages (from requests>=2.19.0->tensorflow_datasets) (3.0.4)\n",
            "Requirement already satisfied: certifi>=2017.4.17 in /usr/local/lib/python3.7/dist-packages (from requests>=2.19.0->tensorflow_datasets) (2021.10.8)\n",
            "Requirement already satisfied: urllib3!=1.25.0,!=1.25.1,<1.26,>=1.21.1 in /usr/local/lib/python3.7/dist-packages (from requests>=2.19.0->tensorflow_datasets) (1.24.3)\n",
            "Requirement already satisfied: zipp>=3.1.0 in /usr/local/lib/python3.7/dist-packages (from importlib-resources->tensorflow_datasets) (3.6.0)\n",
            "Requirement already satisfied: googleapis-common-protos<2,>=1.52.0 in /usr/local/lib/python3.7/dist-packages (from tensorflow-metadata->tensorflow_datasets) (1.53.0)\n",
            "Collecting tensorflow-text\n",
            "  Downloading tensorflow_text-2.7.3-cp37-cp37m-manylinux2010_x86_64.whl (4.9 MB)\n",
            "\u001b[K     |████████████████████████████████| 4.9 MB 8.4 MB/s \n",
            "\u001b[?25hRequirement already satisfied: tensorflow<2.8,>=2.7.0 in /usr/local/lib/python3.7/dist-packages (from tensorflow-text) (2.7.0)\n",
            "Requirement already satisfied: tensorflow-hub>=0.8.0 in /usr/local/lib/python3.7/dist-packages (from tensorflow-text) (0.12.0)\n",
            "Requirement already satisfied: keras-preprocessing>=1.1.1 in /usr/local/lib/python3.7/dist-packages (from tensorflow<2.8,>=2.7.0->tensorflow-text) (1.1.2)\n",
            "Requirement already satisfied: protobuf>=3.9.2 in /usr/local/lib/python3.7/dist-packages (from tensorflow<2.8,>=2.7.0->tensorflow-text) (3.17.3)\n",
            "Requirement already satisfied: flatbuffers<3.0,>=1.12 in /usr/local/lib/python3.7/dist-packages (from tensorflow<2.8,>=2.7.0->tensorflow-text) (2.0)\n",
            "Requirement already satisfied: typing-extensions>=3.6.6 in /usr/local/lib/python3.7/dist-packages (from tensorflow<2.8,>=2.7.0->tensorflow-text) (3.10.0.2)\n",
            "Requirement already satisfied: tensorboard~=2.6 in /usr/local/lib/python3.7/dist-packages (from tensorflow<2.8,>=2.7.0->tensorflow-text) (2.7.0)\n",
            "Requirement already satisfied: h5py>=2.9.0 in /usr/local/lib/python3.7/dist-packages (from tensorflow<2.8,>=2.7.0->tensorflow-text) (3.1.0)\n",
            "Requirement already satisfied: google-pasta>=0.1.1 in /usr/local/lib/python3.7/dist-packages (from tensorflow<2.8,>=2.7.0->tensorflow-text) (0.2.0)\n",
            "Requirement already satisfied: grpcio<2.0,>=1.24.3 in /usr/local/lib/python3.7/dist-packages (from tensorflow<2.8,>=2.7.0->tensorflow-text) (1.42.0)\n",
            "Requirement already satisfied: numpy>=1.14.5 in /usr/local/lib/python3.7/dist-packages (from tensorflow<2.8,>=2.7.0->tensorflow-text) (1.19.5)\n",
            "Requirement already satisfied: opt-einsum>=2.3.2 in /usr/local/lib/python3.7/dist-packages (from tensorflow<2.8,>=2.7.0->tensorflow-text) (3.3.0)\n",
            "Requirement already satisfied: tensorflow-io-gcs-filesystem>=0.21.0 in /usr/local/lib/python3.7/dist-packages (from tensorflow<2.8,>=2.7.0->tensorflow-text) (0.22.0)\n",
            "Requirement already satisfied: wrapt>=1.11.0 in /usr/local/lib/python3.7/dist-packages (from tensorflow<2.8,>=2.7.0->tensorflow-text) (1.13.3)\n",
            "Requirement already satisfied: astunparse>=1.6.0 in /usr/local/lib/python3.7/dist-packages (from tensorflow<2.8,>=2.7.0->tensorflow-text) (1.6.3)\n",
            "Requirement already satisfied: six>=1.12.0 in /usr/local/lib/python3.7/dist-packages (from tensorflow<2.8,>=2.7.0->tensorflow-text) (1.15.0)\n",
            "Requirement already satisfied: wheel<1.0,>=0.32.0 in /usr/local/lib/python3.7/dist-packages (from tensorflow<2.8,>=2.7.0->tensorflow-text) (0.37.0)\n",
            "Requirement already satisfied: keras<2.8,>=2.7.0rc0 in /usr/local/lib/python3.7/dist-packages (from tensorflow<2.8,>=2.7.0->tensorflow-text) (2.7.0)\n",
            "Requirement already satisfied: gast<0.5.0,>=0.2.1 in /usr/local/lib/python3.7/dist-packages (from tensorflow<2.8,>=2.7.0->tensorflow-text) (0.4.0)\n",
            "Requirement already satisfied: libclang>=9.0.1 in /usr/local/lib/python3.7/dist-packages (from tensorflow<2.8,>=2.7.0->tensorflow-text) (12.0.0)\n",
            "Requirement already satisfied: tensorflow-estimator<2.8,~=2.7.0rc0 in /usr/local/lib/python3.7/dist-packages (from tensorflow<2.8,>=2.7.0->tensorflow-text) (2.7.0)\n",
            "Requirement already satisfied: absl-py>=0.4.0 in /usr/local/lib/python3.7/dist-packages (from tensorflow<2.8,>=2.7.0->tensorflow-text) (0.12.0)\n",
            "Requirement already satisfied: termcolor>=1.1.0 in /usr/local/lib/python3.7/dist-packages (from tensorflow<2.8,>=2.7.0->tensorflow-text) (1.1.0)\n",
            "Requirement already satisfied: cached-property in /usr/local/lib/python3.7/dist-packages (from h5py>=2.9.0->tensorflow<2.8,>=2.7.0->tensorflow-text) (1.5.2)\n",
            "Requirement already satisfied: werkzeug>=0.11.15 in /usr/local/lib/python3.7/dist-packages (from tensorboard~=2.6->tensorflow<2.8,>=2.7.0->tensorflow-text) (1.0.1)\n",
            "Requirement already satisfied: google-auth-oauthlib<0.5,>=0.4.1 in /usr/local/lib/python3.7/dist-packages (from tensorboard~=2.6->tensorflow<2.8,>=2.7.0->tensorflow-text) (0.4.6)\n",
            "Requirement already satisfied: tensorboard-plugin-wit>=1.6.0 in /usr/local/lib/python3.7/dist-packages (from tensorboard~=2.6->tensorflow<2.8,>=2.7.0->tensorflow-text) (1.8.0)\n",
            "Requirement already satisfied: setuptools>=41.0.0 in /usr/local/lib/python3.7/dist-packages (from tensorboard~=2.6->tensorflow<2.8,>=2.7.0->tensorflow-text) (57.4.0)\n",
            "Requirement already satisfied: requests<3,>=2.21.0 in /usr/local/lib/python3.7/dist-packages (from tensorboard~=2.6->tensorflow<2.8,>=2.7.0->tensorflow-text) (2.23.0)\n",
            "Requirement already satisfied: tensorboard-data-server<0.7.0,>=0.6.0 in /usr/local/lib/python3.7/dist-packages (from tensorboard~=2.6->tensorflow<2.8,>=2.7.0->tensorflow-text) (0.6.1)\n",
            "Requirement already satisfied: markdown>=2.6.8 in /usr/local/lib/python3.7/dist-packages (from tensorboard~=2.6->tensorflow<2.8,>=2.7.0->tensorflow-text) (3.3.6)\n",
            "Requirement already satisfied: google-auth<3,>=1.6.3 in /usr/local/lib/python3.7/dist-packages (from tensorboard~=2.6->tensorflow<2.8,>=2.7.0->tensorflow-text) (1.35.0)\n",
            "Requirement already satisfied: rsa<5,>=3.1.4 in /usr/local/lib/python3.7/dist-packages (from google-auth<3,>=1.6.3->tensorboard~=2.6->tensorflow<2.8,>=2.7.0->tensorflow-text) (4.8)\n",
            "Requirement already satisfied: pyasn1-modules>=0.2.1 in /usr/local/lib/python3.7/dist-packages (from google-auth<3,>=1.6.3->tensorboard~=2.6->tensorflow<2.8,>=2.7.0->tensorflow-text) (0.2.8)\n",
            "Requirement already satisfied: cachetools<5.0,>=2.0.0 in /usr/local/lib/python3.7/dist-packages (from google-auth<3,>=1.6.3->tensorboard~=2.6->tensorflow<2.8,>=2.7.0->tensorflow-text) (4.2.4)\n",
            "Requirement already satisfied: requests-oauthlib>=0.7.0 in /usr/local/lib/python3.7/dist-packages (from google-auth-oauthlib<0.5,>=0.4.1->tensorboard~=2.6->tensorflow<2.8,>=2.7.0->tensorflow-text) (1.3.0)\n",
            "Requirement already satisfied: importlib-metadata>=4.4 in /usr/local/lib/python3.7/dist-packages (from markdown>=2.6.8->tensorboard~=2.6->tensorflow<2.8,>=2.7.0->tensorflow-text) (4.8.2)\n",
            "Requirement already satisfied: zipp>=0.5 in /usr/local/lib/python3.7/dist-packages (from importlib-metadata>=4.4->markdown>=2.6.8->tensorboard~=2.6->tensorflow<2.8,>=2.7.0->tensorflow-text) (3.6.0)\n",
            "Requirement already satisfied: pyasn1<0.5.0,>=0.4.6 in /usr/local/lib/python3.7/dist-packages (from pyasn1-modules>=0.2.1->google-auth<3,>=1.6.3->tensorboard~=2.6->tensorflow<2.8,>=2.7.0->tensorflow-text) (0.4.8)\n",
            "Requirement already satisfied: certifi>=2017.4.17 in /usr/local/lib/python3.7/dist-packages (from requests<3,>=2.21.0->tensorboard~=2.6->tensorflow<2.8,>=2.7.0->tensorflow-text) (2021.10.8)\n",
            "Requirement already satisfied: urllib3!=1.25.0,!=1.25.1,<1.26,>=1.21.1 in /usr/local/lib/python3.7/dist-packages (from requests<3,>=2.21.0->tensorboard~=2.6->tensorflow<2.8,>=2.7.0->tensorflow-text) (1.24.3)\n",
            "Requirement already satisfied: idna<3,>=2.5 in /usr/local/lib/python3.7/dist-packages (from requests<3,>=2.21.0->tensorboard~=2.6->tensorflow<2.8,>=2.7.0->tensorflow-text) (2.10)\n",
            "Requirement already satisfied: chardet<4,>=3.0.2 in /usr/local/lib/python3.7/dist-packages (from requests<3,>=2.21.0->tensorboard~=2.6->tensorflow<2.8,>=2.7.0->tensorflow-text) (3.0.4)\n",
            "Requirement already satisfied: oauthlib>=3.0.0 in /usr/local/lib/python3.7/dist-packages (from requests-oauthlib>=0.7.0->google-auth-oauthlib<0.5,>=0.4.1->tensorboard~=2.6->tensorflow<2.8,>=2.7.0->tensorflow-text) (3.1.1)\n",
            "Installing collected packages: tensorflow-text\n",
            "Successfully installed tensorflow-text-2.7.3\n"
          ]
        }
      ],
      "source": [
        "!pip install tensorflow_datasets\n",
        "!pip install -U tensorflow-text"
      ]
    },
    {
      "cell_type": "code",
      "execution_count": null,
      "metadata": {
        "execution": {
          "iopub.execute_input": "2021-11-02T15:32:04.276111Z",
          "iopub.status.busy": "2021-11-02T15:32:04.274980Z",
          "iopub.status.idle": "2021-11-02T15:32:07.292522Z",
          "shell.execute_reply": "2021-11-02T15:32:07.291763Z"
        },
        "id": "JjJJyJTZYebt"
      },
      "outputs": [],
      "source": [
        "import collections\n",
        "import logging\n",
        "import os\n",
        "import pathlib\n",
        "import re\n",
        "import string\n",
        "import sys\n",
        "import time\n",
        "\n",
        "import numpy as np\n",
        "import matplotlib.pyplot as plt\n",
        "\n",
        "import tensorflow_datasets as tfds\n",
        "import tensorflow_text as text\n",
        "import tensorflow as tf"
      ]
    },
    {
      "cell_type": "code",
      "execution_count": null,
      "metadata": {
        "execution": {
          "iopub.execute_input": "2021-11-02T15:32:07.298131Z",
          "iopub.status.busy": "2021-11-02T15:32:07.297142Z",
          "iopub.status.idle": "2021-11-02T15:32:07.299550Z",
          "shell.execute_reply": "2021-11-02T15:32:07.299113Z"
        },
        "id": "pXzVhU34zWEU"
      },
      "outputs": [],
      "source": [
        "logging.getLogger('tensorflow').setLevel(logging.ERROR)  # suppress warnings"
      ]
    },
    {
      "cell_type": "markdown",
      "metadata": {
        "id": "-cCvXbPkccV1"
      },
      "source": [
        "## Download the Dataset"
      ]
    },
    {
      "cell_type": "markdown",
      "metadata": {
        "id": "t4_Qt8W1hJE_"
      },
      "source": [
        "Use [TensorFlow datasets](https://www.tensorflow.org/datasets) to load the French-Portuguese translation dataset from the [TED Talks Open Translation Project](https://www.ted.com/participate/translate).\n",
        "\n",
        "This dataset contains approximately 43000 training examples, 1100 validation examples, and 1500 test examples."
      ]
    },
    {
      "cell_type": "code",
      "execution_count": null,
      "metadata": {
        "execution": {
          "iopub.execute_input": "2021-11-02T15:32:07.304707Z",
          "iopub.status.busy": "2021-11-02T15:32:07.304051Z",
          "iopub.status.idle": "2021-11-02T15:32:12.136198Z",
          "shell.execute_reply": "2021-11-02T15:32:12.135563Z"
        },
        "id": "8q9t4FmN96eN",
        "colab": {
          "base_uri": "https://localhost:8080/",
          "height": 368,
          "referenced_widgets": [
            "869e3c0b89b44108b8129adf0c2156cd",
            "5a5251dbdd004753a852d722347782d6",
            "c9c3cdeadb8b44d68b0ffbe263dc44b3",
            "14f57fb1327847ffa84ee8cf89d080b3",
            "12e3fec49c154049a78bda58c513dbaa",
            "9b0ff68a22dc4fdd8e5c74678e54c964",
            "b4d106c4f99c4c5ebb4bf93619aa061d",
            "465110fa6024407a93f8e7b47a9517ac",
            "0f743ef820b941b9b2f0bf02db86eaa0",
            "4e6bb434bafe4dc68f68407daff773d1",
            "875d0da7876246c790635095ca0a1ab3",
            "9ed6d028879246f49cde2b17a42da0c2",
            "9665e657f4464098a21fb4e9e4694b5f",
            "5a3610950b7749a0b80641f981470855",
            "d7edd9c02ab146cb8ba2b9b2269b1226",
            "9568286227ef4dda8f82b0eb918a0acf",
            "ccc2c4308e994029ad46f38b2dc0e351",
            "d26e084ee35446a0862d8eed30280617",
            "85db582c74bb43908eab1bf1918eb3b6",
            "1e2dbd701e784c77805d7b1605fced5d",
            "2e3bdd935dde4fc1bcf580cef4dafef7",
            "3da22b007a8e4b1aac24cd1e43cd47f1",
            "6ef43e26bb094efb86fc8a1bf79079a6",
            "8b790d3f64c5403db037d826fcbc52ba",
            "e02c661d36044eae94bb3080eab2265d",
            "b883d2020eed436c988830f1526eecca",
            "43a165ad856840ecab504152eaf8c6d6",
            "39219c28885a4334b17ab283b635ed39",
            "7bec761d7b17416a9ac434d1fc593e03",
            "610219c5850b4518a489225d36b41bb5",
            "7d491fbfeb314d37baa805f7f4842fb9",
            "58e5dd13037c44f6b9af8bfe481bdf0f",
            "c8e2953906734eef90441c2f4945737b",
            "4dba504e8ec248a2a6dcb7b5524e61d3",
            "155326051c7f4581a508a42e9eab361e",
            "78d66208e3e34ae3bdf806ef0a0ce892",
            "f6a56a7df53f49c88ed74e176570540a",
            "73a5b10d80104764835a07e4a6dd1263",
            "bb10fd29f02e4609b8df135be40d3f5d",
            "305cc8f49f22464db605a1fb383cf113",
            "2df46cf4249142e99459f2d12985bdb6",
            "28d221ae622b4a07b1b2b62154b8c3e6",
            "f734eb99ceed47d98b75f52e56c1431b",
            "afc87a3e3f28483dafbd12f5c14634ab",
            "9b3dfc603d7a41bc97737a2b987b42af",
            "505a7ef264c4485d982152e8103d48ff",
            "5258849832b44ea2b97bc38e9fe754ba",
            "ba0e28d32c174debb5848e958332a844",
            "e16b3b94171d4d8f98afcd7f38e658df",
            "142ed55483ec40729fbdeffc4168292d",
            "a908f9e8ecd4463cbb45dd862a44047d",
            "dea7d8c9912841b1a061e604432a621c",
            "44a59f8b916648519a59c85f1f80f17e",
            "5ef73a0f380f4378ad9b4ea78848289b",
            "8510f6f6e110438ba2aea43dbb20d289",
            "50f076b0034e46aaaa4211ee79d9ca56",
            "73c8a91741094782bb885b6ec0f08634",
            "0ad77f22ba46452db55b19bc6189641c",
            "14317b4b5ef844cbbbdba6c293d3e763",
            "cb8294e3910b431eafe4bf0539004734",
            "97aa1e0147d2470ebd7109ddad2f6bff",
            "c0621d833e9844a2a7f15f74132fd89a",
            "ee8f36eafaa245539f7ca08fdece4ef1",
            "769837b90df14f2b81d409d407b93bec",
            "cf3facdaad15454484e16312cdaf8858",
            "a9633652b24f4c6eb6b0dd179979fe39",
            "8a4b6521b00948a28c5a92612edfb338",
            "0a26146b31c04a3f88f60d964f7f70f9",
            "7d55d4a35cbe4625b5fd841d46863df6",
            "166d00a09ea84149b4aa9fc0157b208a",
            "5d5e7f0e254f421f8bf3076e42ae9bc9",
            "4bb4a4eaf8e148b084baf6db4c4251c7",
            "ed3f5f2a6b644068a47d46874cc57681",
            "51595fdadc6b40c6b44beea05bc67785",
            "e87b3c068d2b477ebfecb2e350224b6d",
            "17eed01ac1094f98ab44359168b35a9a",
            "3c695464dcc8429ea6571cebd1f3e990",
            "d0290ccf164646a6bf301b18da65a383",
            "c98c8f9075f9413bafca5ddb5060dc46",
            "b9676f99a339407e81a0cbef8aaa715f",
            "792b0cbece184cae9368d92fb2820feb",
            "73bb3d1d6389406c98094624a53c8e8e",
            "4628bd0711ec4a8eb1f241e0a483f08b",
            "5f4dbc958a0845adb0919688993e6b06",
            "db3bac625c164f99a1c809f780ec9a46",
            "1237a9f06438459a83b9f18c3adecffa",
            "9f64a95db3ef4ead94dd4338b32c541f",
            "a7d3069d7b9246e5860a4463405fdb7b",
            "14fa64b8f0a541b48ee35ca411d221cf",
            "f9dd636924d3447a91f71841f678db51",
            "70a05334262845c2a0eca54b8d471067",
            "09438ee40786445d8bf637c33aba363c",
            "469c5b78acb04ee1a8a8b26cf5c1ac38",
            "3f76be88ea424ea88b0f439393096d39",
            "c423f4261c3748ddbb861f7d7fbbeece",
            "cd0e069fb5c44908bbef851fd2d53a89",
            "38532cc2aeda4566ba7c7e3f9ab43712",
            "0cd716d6c1c94742893a69d8d7c287d5",
            "709bbb52d38f4912a346ae824f750fce"
          ]
        },
        "outputId": "8c0a68b6-fa13-4c14-f5f4-4e5d28b13265"
      },
      "outputs": [
        {
          "output_type": "stream",
          "name": "stdout",
          "text": [
            "\u001b[1mDownloading and preparing dataset ted_hrlr_translate/fr_to_pt/1.0.0 (download: 124.94 MiB, generated: Unknown size, total: 124.94 MiB) to /root/tensorflow_datasets/ted_hrlr_translate/fr_to_pt/1.0.0...\u001b[0m\n"
          ]
        },
        {
          "output_type": "display_data",
          "data": {
            "application/vnd.jupyter.widget-view+json": {
              "model_id": "869e3c0b89b44108b8129adf0c2156cd",
              "version_minor": 0,
              "version_major": 2
            },
            "text/plain": [
              "Dl Completed...: 0 url [00:00, ? url/s]"
            ]
          },
          "metadata": {}
        },
        {
          "output_type": "display_data",
          "data": {
            "application/vnd.jupyter.widget-view+json": {
              "model_id": "9ed6d028879246f49cde2b17a42da0c2",
              "version_minor": 0,
              "version_major": 2
            },
            "text/plain": [
              "Dl Size...: 0 MiB [00:00, ? MiB/s]"
            ]
          },
          "metadata": {}
        },
        {
          "output_type": "display_data",
          "data": {
            "application/vnd.jupyter.widget-view+json": {
              "model_id": "6ef43e26bb094efb86fc8a1bf79079a6",
              "version_minor": 0,
              "version_major": 2
            },
            "text/plain": [
              "Extraction completed...: 0 file [00:00, ? file/s]"
            ]
          },
          "metadata": {}
        },
        {
          "output_type": "stream",
          "name": "stdout",
          "text": [
            "\n",
            "\n",
            "\n"
          ]
        },
        {
          "output_type": "display_data",
          "data": {
            "application/vnd.jupyter.widget-view+json": {
              "model_id": "4dba504e8ec248a2a6dcb7b5524e61d3",
              "version_minor": 0,
              "version_major": 2
            },
            "text/plain": [
              "0 examples [00:00, ? examples/s]"
            ]
          },
          "metadata": {}
        },
        {
          "output_type": "stream",
          "name": "stdout",
          "text": [
            "Shuffling and writing examples to /root/tensorflow_datasets/ted_hrlr_translate/fr_to_pt/1.0.0.incompleteC7KYOK/ted_hrlr_translate-train.tfrecord\n"
          ]
        },
        {
          "output_type": "display_data",
          "data": {
            "application/vnd.jupyter.widget-view+json": {
              "model_id": "9b3dfc603d7a41bc97737a2b987b42af",
              "version_minor": 0,
              "version_major": 2
            },
            "text/plain": [
              "  0%|          | 0/43873 [00:00<?, ? examples/s]"
            ]
          },
          "metadata": {}
        },
        {
          "output_type": "display_data",
          "data": {
            "application/vnd.jupyter.widget-view+json": {
              "model_id": "50f076b0034e46aaaa4211ee79d9ca56",
              "version_minor": 0,
              "version_major": 2
            },
            "text/plain": [
              "0 examples [00:00, ? examples/s]"
            ]
          },
          "metadata": {}
        },
        {
          "output_type": "stream",
          "name": "stdout",
          "text": [
            "Shuffling and writing examples to /root/tensorflow_datasets/ted_hrlr_translate/fr_to_pt/1.0.0.incompleteC7KYOK/ted_hrlr_translate-validation.tfrecord\n"
          ]
        },
        {
          "output_type": "display_data",
          "data": {
            "application/vnd.jupyter.widget-view+json": {
              "model_id": "8a4b6521b00948a28c5a92612edfb338",
              "version_minor": 0,
              "version_major": 2
            },
            "text/plain": [
              "  0%|          | 0/1131 [00:00<?, ? examples/s]"
            ]
          },
          "metadata": {}
        },
        {
          "output_type": "display_data",
          "data": {
            "application/vnd.jupyter.widget-view+json": {
              "model_id": "d0290ccf164646a6bf301b18da65a383",
              "version_minor": 0,
              "version_major": 2
            },
            "text/plain": [
              "0 examples [00:00, ? examples/s]"
            ]
          },
          "metadata": {}
        },
        {
          "output_type": "stream",
          "name": "stdout",
          "text": [
            "Shuffling and writing examples to /root/tensorflow_datasets/ted_hrlr_translate/fr_to_pt/1.0.0.incompleteC7KYOK/ted_hrlr_translate-test.tfrecord\n"
          ]
        },
        {
          "output_type": "display_data",
          "data": {
            "application/vnd.jupyter.widget-view+json": {
              "model_id": "14fa64b8f0a541b48ee35ca411d221cf",
              "version_minor": 0,
              "version_major": 2
            },
            "text/plain": [
              "  0%|          | 0/1494 [00:00<?, ? examples/s]"
            ]
          },
          "metadata": {}
        },
        {
          "output_type": "stream",
          "name": "stdout",
          "text": [
            "\u001b[1mDataset ted_hrlr_translate downloaded and prepared to /root/tensorflow_datasets/ted_hrlr_translate/fr_to_pt/1.0.0. Subsequent calls will reuse this data.\u001b[0m\n"
          ]
        }
      ],
      "source": [
        "examples, metadata = tfds.load('ted_hrlr_translate/fr_to_pt', with_info=True,\n",
        "                               as_supervised=True)\n",
        "train_examples, val_examples, test_examples = examples['train'], examples['validation'], examples['test']"
      ]
    },
    {
      "cell_type": "markdown",
      "metadata": {
        "id": "1OnwQZ2IpTbl"
      },
      "source": [
        "The `tf.data.Dataset` object returned by TensorFlow datasets yields pairs of text examples:"
      ]
    },
    {
      "cell_type": "code",
      "execution_count": null,
      "metadata": {
        "execution": {
          "iopub.execute_input": "2021-11-02T15:32:12.143444Z",
          "iopub.status.busy": "2021-11-02T15:32:12.142311Z",
          "iopub.status.idle": "2021-11-02T15:32:12.549360Z",
          "shell.execute_reply": "2021-11-02T15:32:12.548823Z"
        },
        "id": "AtuMLTQGlHZ1",
        "colab": {
          "base_uri": "https://localhost:8080/"
        },
        "outputId": "ddff30de-5799-4b0f-c21c-ca20a89dc27b"
      },
      "outputs": [
        {
          "output_type": "stream",
          "name": "stdout",
          "text": [
            "mais cela trahit aussi la panique , la terreur , que la grossophobie peut évoquer .\n",
            "mais le vrai problème est le manque d'autres infrastructures .\n",
            "quand ils sont endommagés , par exemple par la fumée de cigarette , ils ne fonctionnent pas correctement , et ne peuvent pas expulser le mucus .\n",
            "\n",
            "mas também faz notar o pânico , o terror literal , que o medo da gordura evoca .\n",
            "mas o verdadeiro problema é a falta de outras infraestruturas .\n",
            "quando são danificados , digamos , pelo fumo de cigarro , por exemplo , não funcionam adequadamente , e não conseguem limpar o muco .\n"
          ]
        }
      ],
      "source": [
        "for fr_examples,pt_examples in train_examples.batch(3).take(1):\n",
        "  for fr in fr_examples.numpy():\n",
        "    print(fr.decode('utf-8'))\n",
        "\n",
        "  print()\n",
        "\n",
        "  for pt in pt_examples.numpy():\n",
        "    print(pt.decode('utf-8'))"
      ]
    },
    {
      "cell_type": "markdown",
      "metadata": {
        "id": "eJxTd6aVnZyh"
      },
      "source": [
        "## Text tokenization & detokenization"
      ]
    },
    {
      "cell_type": "markdown",
      "metadata": {
        "id": "2sPvbCEePzOC"
      },
      "source": [
        "Download and unzip and import the `saved_model` (we got it in tokenizer notebook):"
      ]
    },
    {
      "cell_type": "code",
      "execution_count": null,
      "metadata": {
        "execution": {
          "iopub.execute_input": "2021-11-02T15:32:12.556005Z",
          "iopub.status.busy": "2021-11-02T15:32:12.554112Z",
          "iopub.status.idle": "2021-11-02T15:32:12.756996Z",
          "shell.execute_reply": "2021-11-02T15:32:12.757445Z"
        },
        "id": "QToMl0NanZPr",
        "colab": {
          "base_uri": "https://localhost:8080/",
          "height": 35
        },
        "outputId": "8b95f461-8fb0-44e2-ffff-1c4a8213490c"
      },
      "outputs": [
        {
          "output_type": "execute_result",
          "data": {
            "application/vnd.google.colaboratory.intrinsic+json": {
              "type": "string"
            },
            "text/plain": [
              "'./ted_hrlr_translate_fr_pt_converter.zip'"
            ]
          },
          "metadata": {},
          "execution_count": 9
        }
      ],
      "source": [
        "model_name = \"ted_hrlr_translate_fr_pt_converter\"\n",
        "tf.keras.utils.get_file(\n",
        "    f\"{model_name}.zip\",\n",
        "    f\"/content/ted_hrlr_translate_fr_pt_converter.zip\",\n",
        "    cache_dir='.', cache_subdir='', extract=True\n",
        ")"
      ]
    },
    {
      "cell_type": "code",
      "execution_count": null,
      "metadata": {
        "execution": {
          "iopub.execute_input": "2021-11-02T15:32:12.763362Z",
          "iopub.status.busy": "2021-11-02T15:32:12.762225Z",
          "iopub.status.idle": "2021-11-02T15:32:13.801897Z",
          "shell.execute_reply": "2021-11-02T15:32:13.801245Z"
        },
        "id": "h5dbGnPXnuI1"
      },
      "outputs": [],
      "source": [
        "tokenizers = tf.saved_model.load(model_name)"
      ]
    },
    {
      "cell_type": "markdown",
      "metadata": {
        "id": "KQYc0CJTpnvg"
      },
      "source": [
        "The `tf.saved_model` contains two text tokenizers, one for French and one for Portuguese. Both have the same methods:"
      ]
    },
    {
      "cell_type": "code",
      "execution_count": null,
      "metadata": {
        "execution": {
          "iopub.execute_input": "2021-11-02T15:32:13.808622Z",
          "iopub.status.busy": "2021-11-02T15:32:13.807770Z",
          "iopub.status.idle": "2021-11-02T15:32:13.810822Z",
          "shell.execute_reply": "2021-11-02T15:32:13.811282Z"
        },
        "id": "s-PCJijfcZ9_",
        "colab": {
          "base_uri": "https://localhost:8080/"
        },
        "outputId": "016328ca-9ae2-4abd-aa6c-18643c5e6241"
      },
      "outputs": [
        {
          "output_type": "execute_result",
          "data": {
            "text/plain": [
              "['detokenize',\n",
              " 'get_reserved_tokens',\n",
              " 'get_vocab_path',\n",
              " 'get_vocab_size',\n",
              " 'lookup',\n",
              " 'tokenize',\n",
              " 'tokenizer',\n",
              " 'vocab']"
            ]
          },
          "metadata": {},
          "execution_count": 9
        }
      ],
      "source": [
        "[item for item in dir(tokenizers.pt) if not item.startswith('_')]"
      ]
    },
    {
      "cell_type": "code",
      "source": [
        "tokenizers.pt.get_vocab_size().numpy() # portuguese vocabulary size"
      ],
      "metadata": {
        "colab": {
          "base_uri": "https://localhost:8080/"
        },
        "id": "PTcXwQpBjQGA",
        "outputId": "38f290a2-1ed0-4e6f-c21f-6d8f7fd37143"
      },
      "execution_count": null,
      "outputs": [
        {
          "output_type": "execute_result",
          "data": {
            "text/plain": [
              "6962"
            ]
          },
          "metadata": {},
          "execution_count": 35
        }
      ]
    },
    {
      "cell_type": "code",
      "source": [
        "tokenizers.fr.get_vocab_size().numpy() # french vocabulary size"
      ],
      "metadata": {
        "colab": {
          "base_uri": "https://localhost:8080/"
        },
        "id": "mKxpAFKejbMd",
        "outputId": "76f873d4-24b5-489f-a4a9-7398329d22ac"
      },
      "execution_count": null,
      "outputs": [
        {
          "output_type": "execute_result",
          "data": {
            "text/plain": [
              "7139"
            ]
          },
          "metadata": {},
          "execution_count": 36
        }
      ]
    },
    {
      "cell_type": "markdown",
      "metadata": {
        "id": "-pv_nc5lrAiD"
      },
      "source": [
        "The `tokenize` method converts a batch of strings to a padded-batch of token IDs. This method splits punctuation, lowercases and unicode-normalizes the input before tokenizing. That standardization is not visible here because the input data is already standardized."
      ]
    },
    {
      "cell_type": "code",
      "execution_count": null,
      "metadata": {
        "execution": {
          "iopub.execute_input": "2021-11-02T15:32:13.816179Z",
          "iopub.status.busy": "2021-11-02T15:32:13.815362Z",
          "iopub.status.idle": "2021-11-02T15:32:13.818810Z",
          "shell.execute_reply": "2021-11-02T15:32:13.818317Z"
        },
        "id": "0GV-smAAQJtM",
        "colab": {
          "base_uri": "https://localhost:8080/"
        },
        "outputId": "103e2a2f-a0e9-458c-d639-2538f6e9fb6f"
      },
      "outputs": [
        {
          "output_type": "stream",
          "name": "stdout",
          "text": [
            "mas também faz notar o pânico , o terror literal , que o medo da gordura evoca .\n",
            "mas o verdadeiro problema é a falta de outras infraestruturas .\n",
            "quando são danificados , digamos , pelo fumo de cigarro , por exemplo , não funcionam adequadamente , e não conseguem limpar o muco .\n"
          ]
        }
      ],
      "source": [
        "for pt in pt_examples.numpy():\n",
        "  print(pt.decode('utf-8'))"
      ]
    },
    {
      "cell_type": "code",
      "execution_count": null,
      "metadata": {
        "execution": {
          "iopub.execute_input": "2021-11-02T15:32:13.824647Z",
          "iopub.status.busy": "2021-11-02T15:32:13.823621Z",
          "iopub.status.idle": "2021-11-02T15:32:14.104437Z",
          "shell.execute_reply": "2021-11-02T15:32:14.104837Z"
        },
        "id": "2fQJq1xB-tOn",
        "colab": {
          "base_uri": "https://localhost:8080/"
        },
        "outputId": "82ce9dac-0a9e-47f7-bf14-b213844942d5"
      },
      "outputs": [
        {
          "output_type": "stream",
          "name": "stdout",
          "text": [
            "[2, 99, 135, 281, 2321, 149, 54, 6250, 14, 54, 5011, 2926, 4782, 14, 84, 54, 508, 95, 3890, 44, 6546, 16, 3]\n",
            "[2, 99, 54, 1567, 229, 44, 40, 1157, 83, 269, 4919, 16, 3]\n",
            "[2, 115, 109, 6117, 3998, 14, 2021, 14, 201, 5258, 83, 42, 4476, 441, 566, 14, 101, 227, 14, 88, 1326, 6025, 186, 14, 44, 88, 493, 3905, 54, 52, 194, 413, 16, 3]\n"
          ]
        }
      ],
      "source": [
        "encoded = tokenizers.pt.tokenize(pt_examples)\n",
        "\n",
        "for row in encoded.to_list():\n",
        "  print(row)"
      ]
    },
    {
      "cell_type": "markdown",
      "metadata": {
        "id": "dBRlikwDR2Lu"
      },
      "source": [
        "The `detokenize` method attempts to convert these token IDs back to human readable text: "
      ]
    },
    {
      "cell_type": "code",
      "execution_count": null,
      "metadata": {
        "execution": {
          "iopub.execute_input": "2021-11-02T15:32:14.111779Z",
          "iopub.status.busy": "2021-11-02T15:32:14.110675Z",
          "iopub.status.idle": "2021-11-02T15:32:14.243187Z",
          "shell.execute_reply": "2021-11-02T15:32:14.242636Z"
        },
        "id": "Tpqx1aug3W31",
        "colab": {
          "base_uri": "https://localhost:8080/"
        },
        "outputId": "ce07bb3b-7cfa-42b1-b39b-c2ce78caa514"
      },
      "outputs": [
        {
          "output_type": "stream",
          "name": "stdout",
          "text": [
            "mas tambem faz notar o panico , o terror literal , que o medo da gordura evoca .\n",
            "mas o verdadeiro problema e a falta de outras infraestruturas .\n",
            "quando sao danificados , digamos , pelo fumo de cigarro , por exemplo , nao funcionam adequadamente , e nao conseguem limpar o muco .\n"
          ]
        }
      ],
      "source": [
        "round_trip = tokenizers.pt.detokenize(encoded)\n",
        "for line in round_trip.numpy():\n",
        "  print(line.decode('utf-8'))"
      ]
    },
    {
      "cell_type": "markdown",
      "metadata": {
        "id": "e5mGvytArL9g"
      },
      "source": [
        "The lower level `lookup` method converts from token-IDs to token text:"
      ]
    },
    {
      "cell_type": "code",
      "execution_count": null,
      "metadata": {
        "execution": {
          "iopub.execute_input": "2021-11-02T15:32:14.249381Z",
          "iopub.status.busy": "2021-11-02T15:32:14.248297Z",
          "iopub.status.idle": "2021-11-02T15:32:14.268742Z",
          "shell.execute_reply": "2021-11-02T15:32:14.269157Z"
        },
        "id": "RpzRLzvIuN3R",
        "colab": {
          "base_uri": "https://localhost:8080/"
        },
        "outputId": "755c496c-cb25-4496-dd6c-2f37de42f620"
      },
      "outputs": [
        {
          "output_type": "execute_result",
          "data": {
            "text/plain": [
              "<tf.RaggedTensor [[b'[START]', b'mas', b'tambem', b'faz', b'nota', b'##r', b'o', b'panico', b',', b'o', b'terror', b'li', b'##teral', b',', b'que', b'o', b'medo', b'da', b'gordura', b'e', b'##voca', b'.', b'[END]'], [b'[START]', b'mas', b'o', b'verdadeiro', b'problema', b'e', b'a', b'falta', b'de', b'outras', b'infraestruturas', b'.', b'[END]'], [b'[START]', b'quando', b'sao', b'dan', b'##ificados', b',', b'digamos', b',', b'pelo', b'fumo', b'de', b'c', b'##ig', b'##ar', b'##ro', b',', b'por', b'exemplo', b',', b'nao', b'funcionam', b'adequada', b'##mente', b',', b'e', b'nao', b'conseguem', b'limpar', b'o', b'm', b'##u', b'##co', b'.', b'[END]']]>"
            ]
          },
          "metadata": {},
          "execution_count": 13
        }
      ],
      "source": [
        "tokens = tokenizers.pt.lookup(encoded)\n",
        "tokens"
      ]
    },
    {
      "cell_type": "markdown",
      "metadata": {
        "id": "fd1NWMxjfsDd"
      },
      "source": [
        "## Setup input pipeline"
      ]
    },
    {
      "cell_type": "markdown",
      "metadata": {
        "id": "E7JHK7N7tNZy"
      },
      "source": [
        "To build an input pipeline suitable for training you'll apply some transformations to the dataset.\n",
        "\n",
        "This function will be used to encode the batches of raw text:"
      ]
    },
    {
      "cell_type": "code",
      "execution_count": null,
      "metadata": {
        "execution": {
          "iopub.execute_input": "2021-11-02T15:32:14.275296Z",
          "iopub.status.busy": "2021-11-02T15:32:14.274401Z",
          "iopub.status.idle": "2021-11-02T15:32:14.276395Z",
          "shell.execute_reply": "2021-11-02T15:32:14.276821Z"
        },
        "id": "6shgzEck3FiV"
      },
      "outputs": [],
      "source": [
        "def tokenize_pairs(fr, pt):\n",
        "    fr = tokenizers.fr.tokenize(fr)\n",
        "    # Convert from ragged to dense, padding with zeros.\n",
        "    fr = fr.to_tensor()\n",
        "\n",
        "    pt = tokenizers.pt.tokenize(pt)\n",
        "    # Convert from ragged to dense, padding with zeros.\n",
        "    pt = pt.to_tensor()\n",
        "    return fr, pt"
      ]
    },
    {
      "cell_type": "markdown",
      "metadata": {
        "id": "cf2HwC_0wG0v"
      },
      "source": [
        "Here's a simple input pipeline that processes, shuffles and batches the data:"
      ]
    },
    {
      "cell_type": "code",
      "execution_count": null,
      "metadata": {
        "execution": {
          "iopub.execute_input": "2021-11-02T15:32:14.281596Z",
          "iopub.status.busy": "2021-11-02T15:32:14.280625Z",
          "iopub.status.idle": "2021-11-02T15:32:14.283169Z",
          "shell.execute_reply": "2021-11-02T15:32:14.282676Z"
        },
        "id": "bcRp7VcQ5m6g"
      },
      "outputs": [],
      "source": [
        "BUFFER_SIZE = 20000\n",
        "BATCH_SIZE = 64"
      ]
    },
    {
      "cell_type": "code",
      "execution_count": null,
      "metadata": {
        "execution": {
          "iopub.execute_input": "2021-11-02T15:32:14.289159Z",
          "iopub.status.busy": "2021-11-02T15:32:14.288114Z",
          "iopub.status.idle": "2021-11-02T15:32:14.518311Z",
          "shell.execute_reply": "2021-11-02T15:32:14.517720Z"
        },
        "id": "BUN_jLBTwNxk"
      },
      "outputs": [],
      "source": [
        "def make_batches(ds):\n",
        "  return (\n",
        "      ds\n",
        "      .cache()\n",
        "      .shuffle(BUFFER_SIZE)\n",
        "      .batch(BATCH_SIZE)\n",
        "      .map(tokenize_pairs, num_parallel_calls=tf.data.AUTOTUNE)\n",
        "      .prefetch(tf.data.AUTOTUNE))\n",
        "\n",
        "\n",
        "train_batches = make_batches(train_examples)\n",
        "val_batches = make_batches(val_examples)"
      ]
    },
    {
      "cell_type": "markdown",
      "metadata": {
        "id": "nBQuibYA4n0n"
      },
      "source": [
        "## Positional encoding\n",
        "\n",
        "Attention layers see their input as a set of vectors, with no sequential order. This model also doesn't contain any recurrent or convolutional layers. Because of this a \"positional encoding\" is added to give the model some information about the relative position of the tokens in the sentence. \n",
        "\n",
        "The positional encoding vector is added to the embedding vector. Embeddings represent a token in a d-dimensional space where tokens with similar meaning will be closer to each other. But the embeddings do not encode the relative position of tokens in a sentence. So after adding the positional encoding, tokens will be closer to each other based on the *similarity of their meaning and their position in the sentence*, in the d-dimensional space.\n",
        "\n",
        "The formula for calculating the positional encoding is as follows:\n",
        "\n",
        "$$\\Large{PE_{(pos, 2i)} = \\sin(pos / 10000^{2i / d_{model}})} $$\n",
        "$$\\Large{PE_{(pos, 2i+1)} = \\cos(pos / 10000^{2i / d_{model}})} $$"
      ]
    },
    {
      "cell_type": "code",
      "execution_count": null,
      "metadata": {
        "execution": {
          "iopub.execute_input": "2021-11-02T15:32:14.524352Z",
          "iopub.status.busy": "2021-11-02T15:32:14.523255Z",
          "iopub.status.idle": "2021-11-02T15:32:14.525666Z",
          "shell.execute_reply": "2021-11-02T15:32:14.525203Z"
        },
        "id": "WhIOZjMNKujn"
      },
      "outputs": [],
      "source": [
        "def get_angles(pos, i, d_model):\n",
        "  angle_rates = 1 / np.power(10000, (2 * (i//2)) / np.float32(d_model))\n",
        "  return pos * angle_rates"
      ]
    },
    {
      "cell_type": "code",
      "execution_count": null,
      "metadata": {
        "execution": {
          "iopub.execute_input": "2021-11-02T15:32:14.532166Z",
          "iopub.status.busy": "2021-11-02T15:32:14.531184Z",
          "iopub.status.idle": "2021-11-02T15:32:14.533260Z",
          "shell.execute_reply": "2021-11-02T15:32:14.533665Z"
        },
        "id": "1Rz82wEs5biZ"
      },
      "outputs": [],
      "source": [
        "def positional_encoding(position, d_model):\n",
        "  angle_rads = get_angles(np.arange(position)[:, np.newaxis],\n",
        "                          np.arange(d_model)[np.newaxis, :],\n",
        "                          d_model)\n",
        "\n",
        "  # apply sin to even indices in the array; 2i\n",
        "  angle_rads[:, 0::2] = np.sin(angle_rads[:, 0::2])\n",
        "\n",
        "  # apply cos to odd indices in the array; 2i+1\n",
        "  angle_rads[:, 1::2] = np.cos(angle_rads[:, 1::2])\n",
        "\n",
        "  pos_encoding = angle_rads[np.newaxis, ...]\n",
        "\n",
        "  return tf.cast(pos_encoding, dtype=tf.float32)"
      ]
    },
    {
      "cell_type": "code",
      "execution_count": null,
      "metadata": {
        "execution": {
          "iopub.execute_input": "2021-11-02T15:32:14.540400Z",
          "iopub.status.busy": "2021-11-02T15:32:14.539226Z",
          "iopub.status.idle": "2021-11-02T15:32:15.289642Z",
          "shell.execute_reply": "2021-11-02T15:32:15.290077Z"
        },
        "id": "1kLCla68EloE",
        "colab": {
          "base_uri": "https://localhost:8080/",
          "height": 300
        },
        "outputId": "77450d37-c8b4-4914-fc81-e00b3f466487"
      },
      "outputs": [
        {
          "output_type": "stream",
          "name": "stdout",
          "text": [
            "(1, 2048, 512)\n"
          ]
        },
        {
          "output_type": "display_data",
          "data": {
            "image/png": "[encoded data removed]",
            "text/plain": [
              "<Figure size 432x288 with 2 Axes>"
            ]
          },
          "metadata": {
            "needs_background": "light"
          }
        }
      ],
      "source": [
        "n, d = 2048, 512\n",
        "pos_encoding = positional_encoding(n, d)\n",
        "print(pos_encoding.shape)\n",
        "pos_encoding = pos_encoding[0]\n",
        "\n",
        "# Juggle the dimensions for the plot\n",
        "pos_encoding = tf.reshape(pos_encoding, (n, d//2, 2))\n",
        "pos_encoding = tf.transpose(pos_encoding, (2, 1, 0))\n",
        "pos_encoding = tf.reshape(pos_encoding, (d, n))\n",
        "\n",
        "plt.pcolormesh(pos_encoding, cmap='RdBu')\n",
        "plt.ylabel('Depth')\n",
        "plt.xlabel('Position')\n",
        "plt.colorbar()\n",
        "plt.show()"
      ]
    },
    {
      "cell_type": "markdown",
      "metadata": {
        "id": "a_b4ou4TYqUN"
      },
      "source": [
        "## Masking"
      ]
    },
    {
      "cell_type": "markdown",
      "metadata": {
        "id": "s42Uydjkv0hF"
      },
      "source": [
        "Mask all the pad tokens in the batch of sequence. It ensures that the model does not treat padding as the input. The mask indicates where pad value `0` is present: it outputs a `1` at those locations, and a `0` otherwise."
      ]
    },
    {
      "cell_type": "code",
      "execution_count": null,
      "metadata": {
        "execution": {
          "iopub.execute_input": "2021-11-02T15:32:15.295366Z",
          "iopub.status.busy": "2021-11-02T15:32:15.294712Z",
          "iopub.status.idle": "2021-11-02T15:32:15.296456Z",
          "shell.execute_reply": "2021-11-02T15:32:15.296840Z"
        },
        "id": "U2i8-e1s8ti9"
      },
      "outputs": [],
      "source": [
        "def create_padding_mask(seq):\n",
        "  seq = tf.cast(tf.math.equal(seq, 0), tf.float32)\n",
        "\n",
        "  # add extra dimensions to add the padding\n",
        "  # to the attention logits.\n",
        "  return seq[:, tf.newaxis, tf.newaxis, :]  # (batch_size, 1, 1, seq_len)"
      ]
    },
    {
      "cell_type": "code",
      "execution_count": null,
      "metadata": {
        "execution": {
          "iopub.execute_input": "2021-11-02T15:32:15.301371Z",
          "iopub.status.busy": "2021-11-02T15:32:15.300759Z",
          "iopub.status.idle": "2021-11-02T15:32:15.305908Z",
          "shell.execute_reply": "2021-11-02T15:32:15.306288Z"
        },
        "id": "A7BYeBCNvi7n",
        "colab": {
          "base_uri": "https://localhost:8080/"
        },
        "outputId": "6bfa4422-1cfb-4a67-daa0-ae958bc82e94"
      },
      "outputs": [
        {
          "output_type": "execute_result",
          "data": {
            "text/plain": [
              "<tf.Tensor: shape=(3, 1, 1, 5), dtype=float32, numpy=\n",
              "array([[[[0., 0., 1., 1., 0.]]],\n",
              "\n",
              "\n",
              "       [[[0., 0., 0., 1., 1.]]],\n",
              "\n",
              "\n",
              "       [[[1., 1., 1., 0., 0.]]]], dtype=float32)>"
            ]
          },
          "metadata": {},
          "execution_count": 18
        }
      ],
      "source": [
        "x = tf.constant([[7, 6, 0, 0, 1], [1, 2, 3, 0, 0], [0, 0, 0, 4, 5]])\n",
        "create_padding_mask(x)"
      ]
    },
    {
      "cell_type": "markdown",
      "metadata": {
        "id": "Z0hzukDBgVom"
      },
      "source": [
        "The look-ahead mask is used to mask the future tokens in a sequence. In other words, the mask indicates which entries should not be used.\n",
        "\n",
        "This means that to predict the third token, only the first and second token will be used. Similarly to predict the fourth token, only the first, second and the third tokens will be used and so on."
      ]
    },
    {
      "cell_type": "code",
      "execution_count": null,
      "metadata": {
        "execution": {
          "iopub.execute_input": "2021-11-02T15:32:15.310857Z",
          "iopub.status.busy": "2021-11-02T15:32:15.310217Z",
          "iopub.status.idle": "2021-11-02T15:32:15.312048Z",
          "shell.execute_reply": "2021-11-02T15:32:15.312446Z"
        },
        "id": "dVxS8OPI9uI0"
      },
      "outputs": [],
      "source": [
        "def create_look_ahead_mask(size):\n",
        "  mask = 1 - tf.linalg.band_part(tf.ones((size, size)), -1, 0)\n",
        "  return mask  # (seq_len, seq_len)"
      ]
    },
    {
      "cell_type": "code",
      "execution_count": null,
      "metadata": {
        "execution": {
          "iopub.execute_input": "2021-11-02T15:32:15.317691Z",
          "iopub.status.busy": "2021-11-02T15:32:15.317095Z",
          "iopub.status.idle": "2021-11-02T15:32:15.321579Z",
          "shell.execute_reply": "2021-11-02T15:32:15.321984Z"
        },
        "id": "yxKGuXxaBeeE",
        "colab": {
          "base_uri": "https://localhost:8080/"
        },
        "outputId": "573a0ac6-6795-48e5-f7c6-170709e7f21f"
      },
      "outputs": [
        {
          "output_type": "execute_result",
          "data": {
            "text/plain": [
              "<tf.Tensor: shape=(3, 3), dtype=float32, numpy=\n",
              "array([[0., 1., 1.],\n",
              "       [0., 0., 1.],\n",
              "       [0., 0., 0.]], dtype=float32)>"
            ]
          },
          "metadata": {},
          "execution_count": 20
        }
      ],
      "source": [
        "x = tf.random.uniform((1, 3))\n",
        "temp = create_look_ahead_mask(x.shape[1])\n",
        "temp"
      ]
    },
    {
      "cell_type": "markdown",
      "metadata": {
        "id": "xluDl5cXYy4y"
      },
      "source": [
        "## Scaled dot product attention"
      ]
    },
    {
      "cell_type": "markdown",
      "metadata": {
        "id": "vsxEE_-Wa1gF"
      },
      "source": [
        "<img src=\"https://www.tensorflow.org/images/tutorials/transformer/scaled_attention.png\" width=\"500\" alt=\"scaled_dot_product_attention\">\n",
        "\n",
        "The attention function used by the transformer takes three inputs: Q (query), K (key), V (value). The equation used to calculate the attention weights is:\n",
        "\n",
        "$$\\Large{Attention(Q, K, V) = softmax_k\\left(\\frac{QK^T}{\\sqrt{d_k}}\\right) V} $$\n",
        "\n",
        "The dot-product attention is scaled by a factor of square root of the depth. This is done because for large values of depth, the dot product grows large in magnitude pushing the softmax function where it has small gradients resulting in a very hard softmax. \n",
        "\n",
        "For example, consider that `Q` and `K` have a mean of 0 and variance of 1. Their matrix multiplication will have a mean of 0 and variance of `dk`. So the *square root of `dk`* is used for scaling, so you get a consistent variance regardless of the value of `dk`. If the variance is too low the output may be too flat to optimize effectively. If the variance is too high the softmax may saturate at initialization making it difficult to learn.\n",
        "\n",
        "The mask is multiplied with -1e9 (close to negative infinity). This is done because the mask is summed with the scaled matrix multiplication of Q and K and is applied immediately before a softmax. The goal is to zero out these cells, and large negative inputs to softmax are near zero in the output."
      ]
    },
    {
      "cell_type": "code",
      "execution_count": null,
      "metadata": {
        "execution": {
          "iopub.execute_input": "2021-11-02T15:32:15.328896Z",
          "iopub.status.busy": "2021-11-02T15:32:15.328264Z",
          "iopub.status.idle": "2021-11-02T15:32:15.329967Z",
          "shell.execute_reply": "2021-11-02T15:32:15.330373Z"
        },
        "id": "LazzUq3bJ5SH"
      },
      "outputs": [],
      "source": [
        "def scaled_dot_product_attention(q, k, v, mask):\n",
        "  \"\"\"Calculate the attention weights.\n",
        "  q, k, v must have matching leading dimensions.\n",
        "  k, v must have matching penultimate dimension, i.e.: seq_len_k = seq_len_v.\n",
        "  The mask has different shapes depending on its type(padding or look ahead)\n",
        "  but it must be broadcastable for addition.\n",
        "\n",
        "  Args:\n",
        "    q: query shape == (..., seq_len_q, depth)\n",
        "    k: key shape == (..., seq_len_k, depth)\n",
        "    v: value shape == (..., seq_len_v, depth_v)\n",
        "    mask: Float tensor with shape broadcastable\n",
        "          to (..., seq_len_q, seq_len_k). Defaults to None.\n",
        "\n",
        "  Returns:\n",
        "    output, attention_weights\n",
        "  \"\"\"\n",
        "\n",
        "  matmul_qk = tf.matmul(q, k, transpose_b=True)  # (..., seq_len_q, seq_len_k)\n",
        "\n",
        "  # scale matmul_qk\n",
        "  dk = tf.cast(tf.shape(k)[-1], tf.float32)\n",
        "  scaled_attention_logits = matmul_qk / tf.math.sqrt(dk)\n",
        "\n",
        "  # add the mask to the scaled tensor.\n",
        "  if mask is not None:\n",
        "    scaled_attention_logits += (mask * -1e9)\n",
        "\n",
        "  # softmax is normalized on the last axis (seq_len_k) so that the scores\n",
        "  # add up to 1.\n",
        "  attention_weights = tf.nn.softmax(scaled_attention_logits, axis=-1)  # (..., seq_len_q, seq_len_k)\n",
        "\n",
        "  output = tf.matmul(attention_weights, v)  # (..., seq_len_q, depth_v)\n",
        "\n",
        "  return output, attention_weights"
      ]
    },
    {
      "cell_type": "markdown",
      "metadata": {
        "id": "FiqETnhCkoXh"
      },
      "source": [
        "As the softmax normalization is done on K, its values decide the amount of importance given to Q.\n",
        "\n",
        "The output represents the multiplication of the attention weights and the V (value) vector. This ensures that the tokens you want to focus on are kept as-is and the irrelevant tokens are flushed out."
      ]
    },
    {
      "cell_type": "code",
      "execution_count": null,
      "metadata": {
        "execution": {
          "iopub.execute_input": "2021-11-02T15:32:15.335307Z",
          "iopub.status.busy": "2021-11-02T15:32:15.334662Z",
          "iopub.status.idle": "2021-11-02T15:32:15.336482Z",
          "shell.execute_reply": "2021-11-02T15:32:15.336915Z"
        },
        "id": "n90YjClyInFy"
      },
      "outputs": [],
      "source": [
        "def print_out(q, k, v):\n",
        "  temp_out, temp_attn = scaled_dot_product_attention(\n",
        "      q, k, v, None)\n",
        "  print('Attention weights are:')\n",
        "  print(temp_attn)\n",
        "  print('Output is:')\n",
        "  print(temp_out)"
      ]
    },
    {
      "cell_type": "code",
      "execution_count": null,
      "metadata": {
        "execution": {
          "iopub.execute_input": "2021-11-02T15:32:15.343655Z",
          "iopub.status.busy": "2021-11-02T15:32:15.343038Z",
          "iopub.status.idle": "2021-11-02T15:32:15.768621Z",
          "shell.execute_reply": "2021-11-02T15:32:15.769031Z"
        },
        "id": "yAzUAf2DPlNt",
        "colab": {
          "base_uri": "https://localhost:8080/"
        },
        "outputId": "9422be66-313d-45a4-e5be-4df1007e0d62"
      },
      "outputs": [
        {
          "output_type": "stream",
          "name": "stdout",
          "text": [
            "Attention weights are:\n",
            "tf.Tensor([[0. 1. 0. 0.]], shape=(1, 4), dtype=float32)\n",
            "Output is:\n",
            "tf.Tensor([[10.  0.]], shape=(1, 2), dtype=float32)\n"
          ]
        }
      ],
      "source": [
        "np.set_printoptions(suppress=True)\n",
        "\n",
        "temp_k = tf.constant([[10, 0, 0],\n",
        "                      [0, 10, 0],\n",
        "                      [0, 0, 10],\n",
        "                      [0, 0, 10]], dtype=tf.float32)  # (4, 3)\n",
        "\n",
        "temp_v = tf.constant([[1, 0],\n",
        "                      [10, 0],\n",
        "                      [100, 5],\n",
        "                      [1000, 6]], dtype=tf.float32)  # (4, 2)\n",
        "\n",
        "# This `query` aligns with the second `key`,\n",
        "# so the second `value` is returned.\n",
        "temp_q = tf.constant([[0, 10, 0]], dtype=tf.float32)  # (1, 3)\n",
        "print_out(temp_q, temp_k, temp_v)"
      ]
    },
    {
      "cell_type": "code",
      "execution_count": null,
      "metadata": {
        "execution": {
          "iopub.execute_input": "2021-11-02T15:32:15.774405Z",
          "iopub.status.busy": "2021-11-02T15:32:15.773661Z",
          "iopub.status.idle": "2021-11-02T15:32:15.778193Z",
          "shell.execute_reply": "2021-11-02T15:32:15.778587Z"
        },
        "id": "zg6k-fGhgXra",
        "colab": {
          "base_uri": "https://localhost:8080/"
        },
        "outputId": "c7155dbd-23e5-4a5e-ea12-07ad020af460"
      },
      "outputs": [
        {
          "output_type": "stream",
          "name": "stdout",
          "text": [
            "Attention weights are:\n",
            "tf.Tensor([[0.  0.  0.5 0.5]], shape=(1, 4), dtype=float32)\n",
            "Output is:\n",
            "tf.Tensor([[550.    5.5]], shape=(1, 2), dtype=float32)\n"
          ]
        }
      ],
      "source": [
        "# This query aligns with a repeated key (third and fourth),\n",
        "# so all associated values get averaged.\n",
        "temp_q = tf.constant([[0, 0, 10]], dtype=tf.float32)  # (1, 3)\n",
        "print_out(temp_q, temp_k, temp_v)"
      ]
    },
    {
      "cell_type": "code",
      "execution_count": null,
      "metadata": {
        "execution": {
          "iopub.execute_input": "2021-11-02T15:32:15.783995Z",
          "iopub.status.busy": "2021-11-02T15:32:15.783306Z",
          "iopub.status.idle": "2021-11-02T15:32:15.787829Z",
          "shell.execute_reply": "2021-11-02T15:32:15.788234Z"
        },
        "id": "UAq3YOzUgXhb",
        "colab": {
          "base_uri": "https://localhost:8080/"
        },
        "outputId": "31fdea58-bfdc-4a05-fd63-5f86fb3efd04"
      },
      "outputs": [
        {
          "output_type": "stream",
          "name": "stdout",
          "text": [
            "Attention weights are:\n",
            "tf.Tensor([[0.5 0.5 0.  0. ]], shape=(1, 4), dtype=float32)\n",
            "Output is:\n",
            "tf.Tensor([[5.5 0. ]], shape=(1, 2), dtype=float32)\n"
          ]
        }
      ],
      "source": [
        "# This query aligns equally with the first and second key,\n",
        "# so their values get averaged.\n",
        "temp_q = tf.constant([[10, 10, 0]], dtype=tf.float32)  # (1, 3)\n",
        "print_out(temp_q, temp_k, temp_v)"
      ]
    },
    {
      "cell_type": "markdown",
      "metadata": {
        "id": "aOz-4_XIhaTP"
      },
      "source": [
        "Pass all the queries together."
      ]
    },
    {
      "cell_type": "code",
      "execution_count": null,
      "metadata": {
        "execution": {
          "iopub.execute_input": "2021-11-02T15:32:15.793556Z",
          "iopub.status.busy": "2021-11-02T15:32:15.792832Z",
          "iopub.status.idle": "2021-11-02T15:32:15.797807Z",
          "shell.execute_reply": "2021-11-02T15:32:15.797349Z"
        },
        "id": "6dlU8Tm-hYrF",
        "colab": {
          "base_uri": "https://localhost:8080/"
        },
        "outputId": "834c8a6b-df82-415d-9ff7-ff4afa43ecba"
      },
      "outputs": [
        {
          "output_type": "stream",
          "name": "stdout",
          "text": [
            "Attention weights are:\n",
            "tf.Tensor(\n",
            "[[0.  0.  0.5 0.5]\n",
            " [0.  1.  0.  0. ]\n",
            " [0.5 0.5 0.  0. ]], shape=(3, 4), dtype=float32)\n",
            "Output is:\n",
            "tf.Tensor(\n",
            "[[550.    5.5]\n",
            " [ 10.    0. ]\n",
            " [  5.5   0. ]], shape=(3, 2), dtype=float32)\n"
          ]
        }
      ],
      "source": [
        "temp_q = tf.constant([[0, 0, 10],\n",
        "                      [0, 10, 0],\n",
        "                      [10, 10, 0]], dtype=tf.float32)  # (3, 3)\n",
        "print_out(temp_q, temp_k, temp_v)"
      ]
    },
    {
      "cell_type": "markdown",
      "metadata": {
        "id": "kmzGPEy64qmA"
      },
      "source": [
        "## Multi-head attention"
      ]
    },
    {
      "cell_type": "markdown",
      "metadata": {
        "id": "fz5BMC8Kaoqo"
      },
      "source": [
        "<img src=\"https://www.tensorflow.org/images/tutorials/transformer/multi_head_attention.png\" width=\"500\" alt=\"multi-head attention\">\n",
        "\n",
        "\n",
        "Multi-head attention consists of four parts:\n",
        "*    Linear layers.\n",
        "*    Scaled dot-product attention.\n",
        "*    Final linear layer."
      ]
    },
    {
      "cell_type": "markdown",
      "metadata": {
        "id": "JPmbr6F1C-v_"
      },
      "source": [
        "Each multi-head attention block gets three inputs; Q (query), K (key), V (value). These are put through linear (Dense) layers before the multi-head attention function.\n",
        "\n",
        "In the diagram above `(K,Q,V)` are passed through sepearte linear (`Dense`) layers for each attention head. For simplicity/efficiency the code below implements this using a single dense layer with `num_heads` times as many outputs. The output is rearranged to a shape of `(batch, num_heads, ...)` before applying the attention function.\n",
        "\n",
        "The `scaled_dot_product_attention` function defined above is applied in a single call, broadcasted for efficiency. An appropriate mask must be used in the attention step.  The attention output for each head is then concatenated (using `tf.transpose`, and `tf.reshape`) and put through a final `Dense` layer.\n",
        "\n",
        "Instead of one single attention head, Q, K, and V are split into multiple heads because it allows the model to jointly attend to information from different representation subspaces at different positions. After the split each head has a reduced dimensionality, so the total computation cost is the same as a single head attention with full dimensionality."
      ]
    },
    {
      "cell_type": "code",
      "execution_count": null,
      "metadata": {
        "execution": {
          "iopub.execute_input": "2021-11-02T15:32:15.808082Z",
          "iopub.status.busy": "2021-11-02T15:32:15.807393Z",
          "iopub.status.idle": "2021-11-02T15:32:15.809152Z",
          "shell.execute_reply": "2021-11-02T15:32:15.809552Z"
        },
        "id": "BSV3PPKsYecw"
      },
      "outputs": [],
      "source": [
        "class MultiHeadAttention(tf.keras.layers.Layer):\n",
        "  def __init__(self, d_model, num_heads):\n",
        "    super(MultiHeadAttention, self).__init__()\n",
        "    self.num_heads = num_heads\n",
        "    self.d_model = d_model\n",
        "\n",
        "    assert d_model % self.num_heads == 0\n",
        "\n",
        "    self.depth = d_model // self.num_heads\n",
        "\n",
        "    self.wq = tf.keras.layers.Dense(d_model)\n",
        "    self.wk = tf.keras.layers.Dense(d_model)\n",
        "    self.wv = tf.keras.layers.Dense(d_model)\n",
        "\n",
        "    self.dense = tf.keras.layers.Dense(d_model)\n",
        "\n",
        "  def split_heads(self, x, batch_size):\n",
        "    \"\"\"Split the last dimension into (num_heads, depth).\n",
        "    Transpose the result such that the shape is (batch_size, num_heads, seq_len, depth)\n",
        "    \"\"\"\n",
        "    x = tf.reshape(x, (batch_size, -1, self.num_heads, self.depth))\n",
        "    return tf.transpose(x, perm=[0, 2, 1, 3])\n",
        "\n",
        "  def call(self, v, k, q, mask):\n",
        "    batch_size = tf.shape(q)[0]\n",
        "\n",
        "    q = self.wq(q)  # (batch_size, seq_len, d_model)\n",
        "    k = self.wk(k)  # (batch_size, seq_len, d_model)\n",
        "    v = self.wv(v)  # (batch_size, seq_len, d_model)\n",
        "\n",
        "    q = self.split_heads(q, batch_size)  # (batch_size, num_heads, seq_len_q, depth)\n",
        "    k = self.split_heads(k, batch_size)  # (batch_size, num_heads, seq_len_k, depth)\n",
        "    v = self.split_heads(v, batch_size)  # (batch_size, num_heads, seq_len_v, depth)\n",
        "\n",
        "    # scaled_attention.shape == (batch_size, num_heads, seq_len_q, depth)\n",
        "    # attention_weights.shape == (batch_size, num_heads, seq_len_q, seq_len_k)\n",
        "    scaled_attention, attention_weights = scaled_dot_product_attention(\n",
        "        q, k, v, mask)\n",
        "\n",
        "    scaled_attention = tf.transpose(scaled_attention, perm=[0, 2, 1, 3])  # (batch_size, seq_len_q, num_heads, depth)\n",
        "\n",
        "    concat_attention = tf.reshape(scaled_attention,\n",
        "                                  (batch_size, -1, self.d_model))  # (batch_size, seq_len_q, d_model)\n",
        "\n",
        "    output = self.dense(concat_attention)  # (batch_size, seq_len_q, d_model)\n",
        "\n",
        "    return output, attention_weights"
      ]
    },
    {
      "cell_type": "markdown",
      "metadata": {
        "id": "0D8FJue5lDyZ"
      },
      "source": [
        "Create a `MultiHeadAttention` layer to try out. At each location in the sequence, `y`, the `MultiHeadAttention` runs all 8 attention heads across all other locations in the sequence, returning a new vector of the same length at each location."
      ]
    },
    {
      "cell_type": "code",
      "execution_count": null,
      "metadata": {
        "execution": {
          "iopub.execute_input": "2021-11-02T15:32:15.814682Z",
          "iopub.status.busy": "2021-11-02T15:32:15.814025Z",
          "iopub.status.idle": "2021-11-02T15:32:15.842377Z",
          "shell.execute_reply": "2021-11-02T15:32:15.841833Z"
        },
        "id": "Hu94p-_-2_BX",
        "colab": {
          "base_uri": "https://localhost:8080/"
        },
        "outputId": "b320dc70-0cb6-495a-e9e5-d817a4b03748"
      },
      "outputs": [
        {
          "output_type": "execute_result",
          "data": {
            "text/plain": [
              "(TensorShape([1, 60, 512]), TensorShape([1, 8, 60, 60]))"
            ]
          },
          "metadata": {},
          "execution_count": 31
        }
      ],
      "source": [
        "temp_mha = MultiHeadAttention(d_model=512, num_heads=8)\n",
        "y = tf.random.uniform((1, 60, 512))  # (batch_size, encoder_sequence, d_model)\n",
        "out, attn = temp_mha(y, k=y, q=y, mask=None)\n",
        "out.shape, attn.shape"
      ]
    },
    {
      "cell_type": "markdown",
      "metadata": {
        "id": "RdDqGayx67vv"
      },
      "source": [
        "## Point wise feed forward network"
      ]
    },
    {
      "cell_type": "markdown",
      "metadata": {
        "id": "gBqzJXGfHK3X"
      },
      "source": [
        "Point wise feed forward network consists of two fully-connected layers with a ReLU activation in between."
      ]
    },
    {
      "cell_type": "code",
      "execution_count": null,
      "metadata": {
        "execution": {
          "iopub.execute_input": "2021-11-02T15:32:15.847627Z",
          "iopub.status.busy": "2021-11-02T15:32:15.846968Z",
          "iopub.status.idle": "2021-11-02T15:32:15.849172Z",
          "shell.execute_reply": "2021-11-02T15:32:15.848685Z"
        },
        "id": "ET7xLt0yCT6Z"
      },
      "outputs": [],
      "source": [
        "def point_wise_feed_forward_network(d_model, dff):\n",
        "  return tf.keras.Sequential([\n",
        "      tf.keras.layers.Dense(dff, activation='relu'),  # (batch_size, seq_len, dff)\n",
        "      tf.keras.layers.Dense(d_model)  # (batch_size, seq_len, d_model)\n",
        "  ])"
      ]
    },
    {
      "cell_type": "code",
      "execution_count": null,
      "metadata": {
        "execution": {
          "iopub.execute_input": "2021-11-02T15:32:15.855736Z",
          "iopub.status.busy": "2021-11-02T15:32:15.855090Z",
          "iopub.status.idle": "2021-11-02T15:32:15.882286Z",
          "shell.execute_reply": "2021-11-02T15:32:15.882674Z"
        },
        "id": "mytb1lPyOHLB",
        "colab": {
          "base_uri": "https://localhost:8080/"
        },
        "outputId": "a5958c79-aa46-47d9-af05-64d200146d4e"
      },
      "outputs": [
        {
          "output_type": "execute_result",
          "data": {
            "text/plain": [
              "TensorShape([64, 50, 512])"
            ]
          },
          "metadata": {},
          "execution_count": 33
        }
      ],
      "source": [
        "sample_ffn = point_wise_feed_forward_network(512, 2048)\n",
        "sample_ffn(tf.random.uniform((64, 50, 512))).shape"
      ]
    },
    {
      "cell_type": "markdown",
      "metadata": {
        "id": "7e7hKcxn6-zd"
      },
      "source": [
        "## Encoder and decoder"
      ]
    },
    {
      "cell_type": "markdown",
      "metadata": {
        "id": "yScbC0MUH8dS"
      },
      "source": [
        "<img src=\"https://www.tensorflow.org/images/tutorials/transformer/transformer.png\" width=\"600\" alt=\"transformer\">"
      ]
    },
    {
      "cell_type": "markdown",
      "metadata": {
        "id": "MfYJG-Kvgwy2"
      },
      "source": [
        "The transformer model follows the same general pattern as a standard [sequence to sequence with attention model](https://www.tensorflow.org/text/tutorials/nmt_with_attention.ipynb). \n",
        "\n",
        "* The input sentence is passed through `N` encoder layers that generates an output for each token in the sequence.\n",
        "* The decoder attends to the encoder's output and its own input (self-attention) to predict the next word. "
      ]
    },
    {
      "cell_type": "markdown",
      "metadata": {
        "id": "QFv-FNYUmvpn"
      },
      "source": [
        "### Encoder layer\n",
        "\n",
        "Each encoder layer consists of sublayers:\n",
        "\n",
        "1.   Multi-head attention (with padding mask) \n",
        "2.    Point wise feed forward networks. \n",
        "\n",
        "Each of these sublayers has a residual connection around it followed by a layer normalization. Residual connections help in avoiding the vanishing gradient problem in deep networks.\n",
        "\n",
        "The output of each sublayer is `LayerNorm(x + Sublayer(x))`. The normalization is done on the `d_model` (last) axis. There are N encoder layers in the transformer."
      ]
    },
    {
      "cell_type": "code",
      "execution_count": null,
      "metadata": {
        "execution": {
          "iopub.execute_input": "2021-11-02T15:32:15.891299Z",
          "iopub.status.busy": "2021-11-02T15:32:15.890541Z",
          "iopub.status.idle": "2021-11-02T15:32:15.892873Z",
          "shell.execute_reply": "2021-11-02T15:32:15.892364Z"
        },
        "id": "ncyS-Ms3i2x_"
      },
      "outputs": [],
      "source": [
        "class EncoderLayer(tf.keras.layers.Layer):\n",
        "  def __init__(self, d_model, num_heads, dff, rate=0.1):\n",
        "    super(EncoderLayer, self).__init__()\n",
        "\n",
        "    self.mha = MultiHeadAttention(d_model, num_heads)\n",
        "    self.ffn = point_wise_feed_forward_network(d_model, dff)\n",
        "\n",
        "    self.layernorm1 = tf.keras.layers.LayerNormalization(epsilon=1e-6)\n",
        "    self.layernorm2 = tf.keras.layers.LayerNormalization(epsilon=1e-6)\n",
        "\n",
        "    self.dropout1 = tf.keras.layers.Dropout(rate)\n",
        "    self.dropout2 = tf.keras.layers.Dropout(rate)\n",
        "\n",
        "  def call(self, x, training, mask):\n",
        "\n",
        "    attn_output, _ = self.mha(x, x, x, mask)  # (batch_size, input_seq_len, d_model)\n",
        "    attn_output = self.dropout1(attn_output, training=training)\n",
        "    out1 = self.layernorm1(x + attn_output)  # (batch_size, input_seq_len, d_model)\n",
        "\n",
        "    ffn_output = self.ffn(out1)  # (batch_size, input_seq_len, d_model)\n",
        "    ffn_output = self.dropout2(ffn_output, training=training)\n",
        "    out2 = self.layernorm2(out1 + ffn_output)  # (batch_size, input_seq_len, d_model)\n",
        "\n",
        "    return out2"
      ]
    },
    {
      "cell_type": "code",
      "execution_count": null,
      "metadata": {
        "execution": {
          "iopub.execute_input": "2021-11-02T15:32:15.904281Z",
          "iopub.status.busy": "2021-11-02T15:32:15.903526Z",
          "iopub.status.idle": "2021-11-02T15:32:15.954501Z",
          "shell.execute_reply": "2021-11-02T15:32:15.954917Z"
        },
        "id": "AzZRXdO0mI48",
        "colab": {
          "base_uri": "https://localhost:8080/"
        },
        "outputId": "c043a555-191f-4a7b-8426-0025194dd7b2"
      },
      "outputs": [
        {
          "output_type": "execute_result",
          "data": {
            "text/plain": [
              "TensorShape([64, 43, 512])"
            ]
          },
          "metadata": {},
          "execution_count": 35
        }
      ],
      "source": [
        "sample_encoder_layer = EncoderLayer(512, 8, 2048)\n",
        "\n",
        "sample_encoder_layer_output = sample_encoder_layer(\n",
        "    tf.random.uniform((64, 43, 512)), False, None)\n",
        "\n",
        "sample_encoder_layer_output.shape  # (batch_size, input_seq_len, d_model)"
      ]
    },
    {
      "cell_type": "markdown",
      "metadata": {
        "id": "6LO_48Owmx_o"
      },
      "source": [
        "### Decoder layer\n",
        "\n",
        "Each decoder layer consists of sublayers:\n",
        "\n",
        "1.   Masked multi-head attention (with look ahead mask and padding mask)\n",
        "2.   Multi-head attention (with padding mask). V (value) and K (key) receive the *encoder output* as inputs. Q (query) receives the *output from the masked multi-head attention sublayer.*\n",
        "3.   Point wise feed forward networks\n",
        "\n",
        "Each of these sublayers has a residual connection around it followed by a layer normalization. The output of each sublayer is `LayerNorm(x + Sublayer(x))`. The normalization is done on the `d_model` (last) axis.\n",
        "\n",
        "There are N decoder layers in the transformer.\n",
        "\n",
        "As Q receives the output from decoder's first attention block, and K receives the encoder output, the attention weights represent the importance given to the decoder's input based on the encoder's output. In other words, the decoder predicts the next token by looking at the encoder output and self-attending to its own output. See the demonstration above in the scaled dot product attention section."
      ]
    },
    {
      "cell_type": "code",
      "execution_count": null,
      "metadata": {
        "execution": {
          "iopub.execute_input": "2021-11-02T15:32:15.963667Z",
          "iopub.status.busy": "2021-11-02T15:32:15.962997Z",
          "iopub.status.idle": "2021-11-02T15:32:15.964750Z",
          "shell.execute_reply": "2021-11-02T15:32:15.965123Z"
        },
        "id": "9SoX0-vd1hue"
      },
      "outputs": [],
      "source": [
        "class DecoderLayer(tf.keras.layers.Layer):\n",
        "  def __init__(self, d_model, num_heads, dff, rate=0.1):\n",
        "    super(DecoderLayer, self).__init__()\n",
        "\n",
        "    self.mha1 = MultiHeadAttention(d_model, num_heads)\n",
        "    self.mha2 = MultiHeadAttention(d_model, num_heads)\n",
        "\n",
        "    self.ffn = point_wise_feed_forward_network(d_model, dff)\n",
        "\n",
        "    self.layernorm1 = tf.keras.layers.LayerNormalization(epsilon=1e-6)\n",
        "    self.layernorm2 = tf.keras.layers.LayerNormalization(epsilon=1e-6)\n",
        "    self.layernorm3 = tf.keras.layers.LayerNormalization(epsilon=1e-6)\n",
        "\n",
        "    self.dropout1 = tf.keras.layers.Dropout(rate)\n",
        "    self.dropout2 = tf.keras.layers.Dropout(rate)\n",
        "    self.dropout3 = tf.keras.layers.Dropout(rate)\n",
        "\n",
        "  def call(self, x, enc_output, training,\n",
        "           look_ahead_mask, padding_mask):\n",
        "    # enc_output.shape == (batch_size, input_seq_len, d_model)\n",
        "\n",
        "    attn1, attn_weights_block1 = self.mha1(x, x, x, look_ahead_mask)  # (batch_size, target_seq_len, d_model)\n",
        "    attn1 = self.dropout1(attn1, training=training)\n",
        "    out1 = self.layernorm1(attn1 + x)\n",
        "\n",
        "    attn2, attn_weights_block2 = self.mha2(\n",
        "        enc_output, enc_output, out1, padding_mask)  # (batch_size, target_seq_len, d_model)\n",
        "    attn2 = self.dropout2(attn2, training=training)\n",
        "    out2 = self.layernorm2(attn2 + out1)  # (batch_size, target_seq_len, d_model)\n",
        "\n",
        "    ffn_output = self.ffn(out2)  # (batch_size, target_seq_len, d_model)\n",
        "    ffn_output = self.dropout3(ffn_output, training=training)\n",
        "    out3 = self.layernorm3(ffn_output + out2)  # (batch_size, target_seq_len, d_model)\n",
        "\n",
        "    return out3, attn_weights_block1, attn_weights_block2"
      ]
    },
    {
      "cell_type": "code",
      "execution_count": null,
      "metadata": {
        "execution": {
          "iopub.execute_input": "2021-11-02T15:32:15.977355Z",
          "iopub.status.busy": "2021-11-02T15:32:15.976682Z",
          "iopub.status.idle": "2021-11-02T15:32:16.038726Z",
          "shell.execute_reply": "2021-11-02T15:32:16.039172Z"
        },
        "id": "Ne2Bqx8k71l0",
        "colab": {
          "base_uri": "https://localhost:8080/"
        },
        "outputId": "88fd34cf-3725-48b0-f278-7401ee7b8501"
      },
      "outputs": [
        {
          "output_type": "execute_result",
          "data": {
            "text/plain": [
              "TensorShape([64, 50, 512])"
            ]
          },
          "metadata": {},
          "execution_count": 37
        }
      ],
      "source": [
        "sample_decoder_layer = DecoderLayer(512, 8, 2048)\n",
        "\n",
        "sample_decoder_layer_output, _, _ = sample_decoder_layer(\n",
        "    tf.random.uniform((64, 50, 512)), sample_encoder_layer_output,\n",
        "    False, None, None)\n",
        "\n",
        "sample_decoder_layer_output.shape  # (batch_size, target_seq_len, d_model)"
      ]
    },
    {
      "cell_type": "markdown",
      "metadata": {
        "id": "SE1H51Ajm0q1"
      },
      "source": [
        "### Encoder\n",
        "\n",
        "The `Encoder` consists of:\n",
        "1.   Input Embedding\n",
        "2.   Positional Encoding\n",
        "3.   N encoder layers\n",
        "\n",
        "The input is put through an embedding which is summed with the positional encoding. The output of this summation is the input to the encoder layers. The output of the encoder is the input to the decoder."
      ]
    },
    {
      "cell_type": "code",
      "execution_count": null,
      "metadata": {
        "execution": {
          "iopub.execute_input": "2021-11-02T15:32:16.047799Z",
          "iopub.status.busy": "2021-11-02T15:32:16.047073Z",
          "iopub.status.idle": "2021-11-02T15:32:16.049561Z",
          "shell.execute_reply": "2021-11-02T15:32:16.049055Z"
        },
        "id": "jpEox7gJ8FCI"
      },
      "outputs": [],
      "source": [
        "class Encoder(tf.keras.layers.Layer):\n",
        "  def __init__(self, num_layers, d_model, num_heads, dff, input_vocab_size,\n",
        "               maximum_position_encoding, rate=0.1):\n",
        "    super(Encoder, self).__init__()\n",
        "\n",
        "    self.d_model = d_model\n",
        "    self.num_layers = num_layers\n",
        "\n",
        "    self.embedding = tf.keras.layers.Embedding(input_vocab_size, d_model)\n",
        "    self.pos_encoding = positional_encoding(maximum_position_encoding,\n",
        "                                            self.d_model)\n",
        "\n",
        "    self.enc_layers = [EncoderLayer(d_model, num_heads, dff, rate)\n",
        "                       for _ in range(num_layers)]\n",
        "\n",
        "    self.dropout = tf.keras.layers.Dropout(rate)\n",
        "\n",
        "  def call(self, x, training, mask):\n",
        "\n",
        "    seq_len = tf.shape(x)[1]\n",
        "\n",
        "    # adding embedding and position encoding.\n",
        "    x = self.embedding(x)  # (batch_size, input_seq_len, d_model)\n",
        "    x *= tf.math.sqrt(tf.cast(self.d_model, tf.float32))\n",
        "    x += self.pos_encoding[:, :seq_len, :]\n",
        "\n",
        "    x = self.dropout(x, training=training)\n",
        "\n",
        "    for i in range(self.num_layers):\n",
        "      x = self.enc_layers[i](x, training, mask)\n",
        "\n",
        "    return x  # (batch_size, input_seq_len, d_model)"
      ]
    },
    {
      "cell_type": "code",
      "execution_count": null,
      "metadata": {
        "execution": {
          "iopub.execute_input": "2021-11-02T15:32:16.057424Z",
          "iopub.status.busy": "2021-11-02T15:32:16.056810Z",
          "iopub.status.idle": "2021-11-02T15:32:16.349933Z",
          "shell.execute_reply": "2021-11-02T15:32:16.350339Z"
        },
        "id": "8QG9nueFQKXx",
        "colab": {
          "base_uri": "https://localhost:8080/"
        },
        "outputId": "a4264a74-3a83-4357-fa1c-7f254d3299b2"
      },
      "outputs": [
        {
          "output_type": "stream",
          "name": "stdout",
          "text": [
            "(64, 62, 512)\n"
          ]
        }
      ],
      "source": [
        "sample_encoder = Encoder(num_layers=2, d_model=512, num_heads=8,\n",
        "                         dff=2048, input_vocab_size=8500,\n",
        "                         maximum_position_encoding=10000)\n",
        "temp_input = tf.random.uniform((64, 62), dtype=tf.int64, minval=0, maxval=200)\n",
        "\n",
        "sample_encoder_output = sample_encoder(temp_input, training=False, mask=None)\n",
        "\n",
        "print(sample_encoder_output.shape)  # (batch_size, input_seq_len, d_model)"
      ]
    },
    {
      "cell_type": "markdown",
      "metadata": {
        "id": "p-uO6ls8m2O5"
      },
      "source": [
        "### Decoder"
      ]
    },
    {
      "cell_type": "markdown",
      "metadata": {
        "id": "ZtT7PKzrXkNr"
      },
      "source": [
        " The `Decoder` consists of:\n",
        "1.   Output Embedding\n",
        "2.   Positional Encoding\n",
        "3.   N decoder layers\n",
        "\n",
        "The target is put through an embedding which is summed with the positional encoding. The output of this summation is the input to the decoder layers. The output of the decoder is the input to the final linear layer."
      ]
    },
    {
      "cell_type": "code",
      "execution_count": null,
      "metadata": {
        "execution": {
          "iopub.execute_input": "2021-11-02T15:32:16.360018Z",
          "iopub.status.busy": "2021-11-02T15:32:16.359132Z",
          "iopub.status.idle": "2021-11-02T15:32:16.361876Z",
          "shell.execute_reply": "2021-11-02T15:32:16.362298Z"
        },
        "id": "d5_d5-PLQXwY"
      },
      "outputs": [],
      "source": [
        "class Decoder(tf.keras.layers.Layer):\n",
        "  def __init__(self, num_layers, d_model, num_heads, dff, target_vocab_size,\n",
        "               maximum_position_encoding, rate=0.1):\n",
        "    super(Decoder, self).__init__()\n",
        "\n",
        "    self.d_model = d_model\n",
        "    self.num_layers = num_layers\n",
        "\n",
        "    self.embedding = tf.keras.layers.Embedding(target_vocab_size, d_model)\n",
        "    self.pos_encoding = positional_encoding(maximum_position_encoding, d_model)\n",
        "\n",
        "    self.dec_layers = [DecoderLayer(d_model, num_heads, dff, rate)\n",
        "                       for _ in range(num_layers)]\n",
        "    self.dropout = tf.keras.layers.Dropout(rate)\n",
        "\n",
        "  def call(self, x, enc_output, training,\n",
        "           look_ahead_mask, padding_mask):\n",
        "\n",
        "    seq_len = tf.shape(x)[1]\n",
        "    attention_weights = {}\n",
        "\n",
        "    x = self.embedding(x)  # (batch_size, target_seq_len, d_model)\n",
        "    x *= tf.math.sqrt(tf.cast(self.d_model, tf.float32))\n",
        "    x += self.pos_encoding[:, :seq_len, :]\n",
        "\n",
        "    x = self.dropout(x, training=training)\n",
        "\n",
        "    for i in range(self.num_layers):\n",
        "      x, block1, block2 = self.dec_layers[i](x, enc_output, training,\n",
        "                                             look_ahead_mask, padding_mask)\n",
        "\n",
        "      attention_weights[f'decoder_layer{i+1}_block1'] = block1\n",
        "      attention_weights[f'decoder_layer{i+1}_block2'] = block2\n",
        "\n",
        "    # x.shape == (batch_size, target_seq_len, d_model)\n",
        "    return x, attention_weights"
      ]
    },
    {
      "cell_type": "code",
      "execution_count": null,
      "metadata": {
        "execution": {
          "iopub.execute_input": "2021-11-02T15:32:16.369084Z",
          "iopub.status.busy": "2021-11-02T15:32:16.368431Z",
          "iopub.status.idle": "2021-11-02T15:32:16.589478Z",
          "shell.execute_reply": "2021-11-02T15:32:16.589963Z"
        },
        "id": "a1jXoAMRZyvu",
        "colab": {
          "base_uri": "https://localhost:8080/"
        },
        "outputId": "2b2b509a-8574-4082-866a-9b4b4c1bd425"
      },
      "outputs": [
        {
          "output_type": "execute_result",
          "data": {
            "text/plain": [
              "(TensorShape([64, 26, 512]), TensorShape([64, 8, 26, 62]))"
            ]
          },
          "metadata": {},
          "execution_count": 41
        }
      ],
      "source": [
        "sample_decoder = Decoder(num_layers=2, d_model=512, num_heads=8,\n",
        "                         dff=2048, target_vocab_size=8000,\n",
        "                         maximum_position_encoding=5000)\n",
        "temp_input = tf.random.uniform((64, 26), dtype=tf.int64, minval=0, maxval=200)\n",
        "\n",
        "output, attn = sample_decoder(temp_input,\n",
        "                              enc_output=sample_encoder_output,\n",
        "                              training=False,\n",
        "                              look_ahead_mask=None,\n",
        "                              padding_mask=None)\n",
        "\n",
        "output.shape, attn['decoder_layer2_block2'].shape"
      ]
    },
    {
      "cell_type": "markdown",
      "metadata": {
        "id": "y54xnJnuYgJ7"
      },
      "source": [
        "## Create the Transformer"
      ]
    },
    {
      "cell_type": "markdown",
      "metadata": {
        "id": "uERO1y54cOKq"
      },
      "source": [
        "Transformer consists of the encoder, decoder and a final linear layer. The output of the decoder is the input to the linear layer and its output is returned."
      ]
    },
    {
      "cell_type": "code",
      "execution_count": null,
      "metadata": {
        "execution": {
          "iopub.execute_input": "2021-11-02T15:32:16.599417Z",
          "iopub.status.busy": "2021-11-02T15:32:16.598470Z",
          "iopub.status.idle": "2021-11-02T15:32:16.600483Z",
          "shell.execute_reply": "2021-11-02T15:32:16.600896Z"
        },
        "id": "PED3bIpOYkBu"
      },
      "outputs": [],
      "source": [
        "class Transformer(tf.keras.Model):\n",
        "  def __init__(self, num_layers, d_model, num_heads, dff, input_vocab_size,\n",
        "               target_vocab_size, pe_input, pe_target, rate=0.1):\n",
        "    super().__init__()\n",
        "    self.encoder = Encoder(num_layers, d_model, num_heads, dff,\n",
        "                             input_vocab_size, pe_input, rate)\n",
        "\n",
        "    self.decoder = Decoder(num_layers, d_model, num_heads, dff,\n",
        "                           target_vocab_size, pe_target, rate)\n",
        "\n",
        "    self.final_layer = tf.keras.layers.Dense(target_vocab_size)\n",
        "\n",
        "  def call(self, inputs, training):\n",
        "    # Keras models prefer if you pass all your inputs in the first argument\n",
        "    inp, tar = inputs\n",
        "\n",
        "    enc_padding_mask, look_ahead_mask, dec_padding_mask = self.create_masks(inp, tar)\n",
        "\n",
        "    enc_output = self.encoder(inp, training, enc_padding_mask)  # (batch_size, inp_seq_len, d_model)\n",
        "\n",
        "    # dec_output.shape == (batch_size, tar_seq_len, d_model)\n",
        "    dec_output, attention_weights = self.decoder(\n",
        "        tar, enc_output, training, look_ahead_mask, dec_padding_mask)\n",
        "\n",
        "    final_output = self.final_layer(dec_output)  # (batch_size, tar_seq_len, target_vocab_size)\n",
        "\n",
        "    return final_output, attention_weights\n",
        "\n",
        "  def create_masks(self, inp, tar):\n",
        "    # Encoder padding mask\n",
        "    enc_padding_mask = create_padding_mask(inp)\n",
        "\n",
        "    # Used in the 2nd attention block in the decoder.\n",
        "    # This padding mask is used to mask the encoder outputs.\n",
        "    dec_padding_mask = create_padding_mask(inp)\n",
        "\n",
        "    # Used in the 1st attention block in the decoder.\n",
        "    # It is used to pad and mask future tokens in the input received by\n",
        "    # the decoder.\n",
        "    look_ahead_mask = create_look_ahead_mask(tf.shape(tar)[1])\n",
        "    dec_target_padding_mask = create_padding_mask(tar)\n",
        "    look_ahead_mask = tf.maximum(dec_target_padding_mask, look_ahead_mask)\n",
        "\n",
        "    return enc_padding_mask, look_ahead_mask, dec_padding_mask"
      ]
    },
    {
      "cell_type": "code",
      "execution_count": null,
      "metadata": {
        "execution": {
          "iopub.execute_input": "2021-11-02T15:32:16.607794Z",
          "iopub.status.busy": "2021-11-02T15:32:16.607154Z",
          "iopub.status.idle": "2021-11-02T15:32:17.132777Z",
          "shell.execute_reply": "2021-11-02T15:32:17.133188Z"
        },
        "id": "tJ4fbQcIkHW1",
        "colab": {
          "base_uri": "https://localhost:8080/"
        },
        "outputId": "8a7ee0ef-5c5d-4153-a107-1250c58b7130"
      },
      "outputs": [
        {
          "output_type": "execute_result",
          "data": {
            "text/plain": [
              "TensorShape([64, 36, 8000])"
            ]
          },
          "metadata": {},
          "execution_count": 43
        }
      ],
      "source": [
        "sample_transformer = Transformer(\n",
        "    num_layers=2, d_model=512, num_heads=8, dff=2048,\n",
        "    input_vocab_size=8500, target_vocab_size=8000,\n",
        "    pe_input=10000, pe_target=6000)\n",
        "\n",
        "temp_input = tf.random.uniform((64, 38), dtype=tf.int64, minval=0, maxval=200)\n",
        "temp_target = tf.random.uniform((64, 36), dtype=tf.int64, minval=0, maxval=200)\n",
        "\n",
        "fn_out, _ = sample_transformer([temp_input, temp_target], training=False)\n",
        "\n",
        "fn_out.shape  # (batch_size, tar_seq_len, target_vocab_size)"
      ]
    },
    {
      "cell_type": "markdown",
      "metadata": {
        "id": "wsINyf1VEQLC"
      },
      "source": [
        "## Set hyperparameters"
      ]
    },
    {
      "cell_type": "markdown",
      "metadata": {
        "id": "zVjWCxFNcgbt"
      },
      "source": [
        "To keep this example small and relatively fast, the values for `num_layers, d_model, dff` have been reduced. \n",
        "\n",
        "The base model described in the [paper](https://arxiv.org/abs/1706.03762) used: `num_layers=6, d_model=512, dff=2048`."
      ]
    },
    {
      "cell_type": "code",
      "execution_count": null,
      "metadata": {
        "execution": {
          "iopub.execute_input": "2021-11-02T15:32:17.138320Z",
          "iopub.status.busy": "2021-11-02T15:32:17.137633Z",
          "iopub.status.idle": "2021-11-02T15:32:17.139571Z",
          "shell.execute_reply": "2021-11-02T15:32:17.139966Z"
        },
        "id": "lnJn5SLA2ahP",
        "colab": {
          "base_uri": "https://localhost:8080/",
          "height": 35
        },
        "outputId": "ae119162-5bf6-4f8e-8cae-21eda3fb614f"
      },
      "outputs": [
        {
          "output_type": "execute_result",
          "data": {
            "application/vnd.google.colaboratory.intrinsic+json": {
              "type": "string"
            },
            "text/plain": [
              "'num_layers = 4\\nd_model = 128\\ndff = 512\\nnum_heads = 8\\ndropout_rate = 0.1'"
            ]
          },
          "metadata": {},
          "execution_count": 44
        }
      ],
      "source": [
        "num_layers = 4\n",
        "d_model = 128\n",
        "dff = 512\n",
        "num_heads = 8\n",
        "dropout_rate = 0.1"
      ]
    },
    {
      "cell_type": "markdown",
      "metadata": {
        "id": "xYEGhEOtzn5W"
      },
      "source": [
        "## Optimizer"
      ]
    },
    {
      "cell_type": "markdown",
      "metadata": {
        "id": "GOmWW--yP3zx"
      },
      "source": [
        "Use the Adam optimizer with a custom learning rate scheduler according to the formula in the [paper](https://arxiv.org/abs/1706.03762).\n",
        "\n",
        "$$\\Large{lrate = d_{model}^{-0.5} * \\min(step{\\_}num^{-0.5}, step{\\_}num \\cdot warmup{\\_}steps^{-1.5})}$$\n"
      ]
    },
    {
      "cell_type": "code",
      "execution_count": null,
      "metadata": {
        "execution": {
          "iopub.execute_input": "2021-11-02T15:32:17.146596Z",
          "iopub.status.busy": "2021-11-02T15:32:17.145942Z",
          "iopub.status.idle": "2021-11-02T15:32:17.148174Z",
          "shell.execute_reply": "2021-11-02T15:32:17.148798Z"
        },
        "id": "iYQdOO1axwEI"
      },
      "outputs": [],
      "source": [
        "class CustomSchedule(tf.keras.optimizers.schedules.LearningRateSchedule):\n",
        "  def __init__(self, d_model, warmup_steps=4000):\n",
        "    super(CustomSchedule, self).__init__()\n",
        "\n",
        "    self.d_model = d_model\n",
        "    self.d_model = tf.cast(self.d_model, tf.float32)\n",
        "\n",
        "    self.warmup_steps = warmup_steps\n",
        "\n",
        "  def __call__(self, step):\n",
        "    arg1 = tf.math.rsqrt(step)\n",
        "    arg2 = step * (self.warmup_steps ** -1.5)\n",
        "\n",
        "    return tf.math.rsqrt(self.d_model) * tf.math.minimum(arg1, arg2)"
      ]
    },
    {
      "cell_type": "code",
      "execution_count": null,
      "metadata": {
        "execution": {
          "iopub.execute_input": "2021-11-02T15:32:17.153604Z",
          "iopub.status.busy": "2021-11-02T15:32:17.152931Z",
          "iopub.status.idle": "2021-11-02T15:32:17.155559Z",
          "shell.execute_reply": "2021-11-02T15:32:17.155952Z"
        },
        "id": "7r4scdulztRx"
      },
      "outputs": [],
      "source": [
        "learning_rate = CustomSchedule(d_model)\n",
        "\n",
        "optimizer = tf.keras.optimizers.Adam(learning_rate, beta_1=0.9, beta_2=0.98,\n",
        "                                     epsilon=1e-9)"
      ]
    },
    {
      "cell_type": "code",
      "execution_count": null,
      "metadata": {
        "execution": {
          "iopub.execute_input": "2021-11-02T15:32:17.161000Z",
          "iopub.status.busy": "2021-11-02T15:32:17.160280Z",
          "iopub.status.idle": "2021-11-02T15:32:17.337231Z",
          "shell.execute_reply": "2021-11-02T15:32:17.336625Z"
        },
        "id": "f33ZCgvHpPdG",
        "colab": {
          "base_uri": "https://localhost:8080/",
          "height": 296
        },
        "outputId": "a3894168-20e4-4e44-a17c-16e72a47afa5"
      },
      "outputs": [
        {
          "output_type": "execute_result",
          "data": {
            "text/plain": [
              "Text(0.5, 0, 'Train Step')"
            ]
          },
          "metadata": {},
          "execution_count": 48
        },
        {
          "output_type": "display_data",
          "data": {
            "image/png": "[encoded data removed]",
            "text/plain": [
              "<Figure size 432x288 with 1 Axes>"
            ]
          },
          "metadata": {
            "needs_background": "light"
          }
        }
      ],
      "source": [
        "temp_learning_rate_schedule = CustomSchedule(d_model)\n",
        "\n",
        "plt.plot(temp_learning_rate_schedule(tf.range(40000, dtype=tf.float32)))\n",
        "plt.ylabel(\"Learning Rate\")\n",
        "plt.xlabel(\"Train Step\")"
      ]
    },
    {
      "cell_type": "markdown",
      "metadata": {
        "id": "YgkDE7hzo8r5"
      },
      "source": [
        "## Loss and metrics"
      ]
    },
    {
      "cell_type": "markdown",
      "metadata": {
        "id": "oxGJtoDuYIHL"
      },
      "source": [
        "Since the target sequences are padded, it is important to apply a padding mask when calculating the loss."
      ]
    },
    {
      "cell_type": "code",
      "execution_count": null,
      "metadata": {
        "execution": {
          "iopub.execute_input": "2021-11-02T15:32:17.342171Z",
          "iopub.status.busy": "2021-11-02T15:32:17.341515Z",
          "iopub.status.idle": "2021-11-02T15:32:17.343370Z",
          "shell.execute_reply": "2021-11-02T15:32:17.343791Z"
        },
        "id": "MlhsJMm0TW_B"
      },
      "outputs": [],
      "source": [
        "loss_object = tf.keras.losses.SparseCategoricalCrossentropy(\n",
        "    from_logits=True, reduction='none')"
      ]
    },
    {
      "cell_type": "code",
      "execution_count": null,
      "metadata": {
        "execution": {
          "iopub.execute_input": "2021-11-02T15:32:17.350615Z",
          "iopub.status.busy": "2021-11-02T15:32:17.349933Z",
          "iopub.status.idle": "2021-11-02T15:32:17.351750Z",
          "shell.execute_reply": "2021-11-02T15:32:17.352151Z"
        },
        "id": "67oqVHiT0Eiu"
      },
      "outputs": [],
      "source": [
        "def loss_function(real, pred):\n",
        "  mask = tf.math.logical_not(tf.math.equal(real, 0))\n",
        "  loss_ = loss_object(real, pred)\n",
        "\n",
        "  mask = tf.cast(mask, dtype=loss_.dtype)\n",
        "  loss_ *= mask\n",
        "\n",
        "  return tf.reduce_sum(loss_)/tf.reduce_sum(mask)\n",
        "\n",
        "\n",
        "def accuracy_function(real, pred):\n",
        "  accuracies = tf.equal(real, tf.argmax(pred, axis=2))\n",
        "\n",
        "  mask = tf.math.logical_not(tf.math.equal(real, 0))\n",
        "  accuracies = tf.math.logical_and(mask, accuracies)\n",
        "\n",
        "  accuracies = tf.cast(accuracies, dtype=tf.float32)\n",
        "  mask = tf.cast(mask, dtype=tf.float32)\n",
        "  return tf.reduce_sum(accuracies)/tf.reduce_sum(mask)"
      ]
    },
    {
      "cell_type": "code",
      "execution_count": null,
      "metadata": {
        "execution": {
          "iopub.execute_input": "2021-11-02T15:32:17.359262Z",
          "iopub.status.busy": "2021-11-02T15:32:17.358589Z",
          "iopub.status.idle": "2021-11-02T15:32:17.364928Z",
          "shell.execute_reply": "2021-11-02T15:32:17.365332Z"
        },
        "id": "phlyxMnm-Tpx"
      },
      "outputs": [],
      "source": [
        "train_loss = tf.keras.metrics.Mean(name='train_loss')\n",
        "train_accuracy = tf.keras.metrics.Mean(name='train_accuracy')"
      ]
    },
    {
      "cell_type": "markdown",
      "metadata": {
        "id": "aeHumfr7zmMa"
      },
      "source": [
        "## Training and checkpointing"
      ]
    },
    {
      "cell_type": "code",
      "execution_count": null,
      "metadata": {
        "execution": {
          "iopub.execute_input": "2021-11-02T15:32:17.371788Z",
          "iopub.status.busy": "2021-11-02T15:32:17.370180Z",
          "iopub.status.idle": "2021-11-02T15:32:17.483618Z",
          "shell.execute_reply": "2021-11-02T15:32:17.484064Z"
        },
        "id": "UiysUa--4tOU"
      },
      "outputs": [],
      "source": [
        "transformer = Transformer(\n",
        "    num_layers=num_layers,\n",
        "    d_model=d_model,\n",
        "    num_heads=num_heads,\n",
        "    dff=dff,\n",
        "    input_vocab_size=tokenizers.fr.get_vocab_size().numpy(),\n",
        "    target_vocab_size=tokenizers.pt.get_vocab_size().numpy(),\n",
        "    pe_input=1000,\n",
        "    pe_target=1000,\n",
        "    rate=dropout_rate)"
      ]
    },
    {
      "cell_type": "markdown",
      "metadata": {
        "id": "Fzuf06YZp66w"
      },
      "source": [
        "Create the checkpoint path and the checkpoint manager. This will be used to save checkpoints every `n` epochs."
      ]
    },
    {
      "cell_type": "code",
      "execution_count": null,
      "metadata": {
        "execution": {
          "iopub.execute_input": "2021-11-02T15:32:17.490003Z",
          "iopub.status.busy": "2021-11-02T15:32:17.489194Z",
          "iopub.status.idle": "2021-11-02T15:32:17.491327Z",
          "shell.execute_reply": "2021-11-02T15:32:17.491721Z"
        },
        "id": "hNhuYfllndLZ"
      },
      "outputs": [],
      "source": [
        "checkpoint_path = \"./checkpoints/train\"\n",
        "\n",
        "ckpt = tf.train.Checkpoint(transformer=transformer,\n",
        "                           optimizer=optimizer)\n",
        "\n",
        "ckpt_manager = tf.train.CheckpointManager(ckpt, checkpoint_path, max_to_keep=5)\n",
        "\n",
        "# if a checkpoint exists, restore the latest checkpoint.\n",
        "if ckpt_manager.latest_checkpoint:\n",
        "  ckpt.restore(ckpt_manager.latest_checkpoint)\n",
        "  print('Latest checkpoint restored!!')"
      ]
    },
    {
      "cell_type": "markdown",
      "metadata": {
        "id": "0Di_Yaa1gf9r"
      },
      "source": [
        "The target is divided into tar_inp and tar_real. tar_inp is passed as an input to the decoder. `tar_real` is that same input shifted by 1: At each location in `tar_input`, `tar_real` contains the  next token that should be predicted.\n",
        "\n",
        "For example, `sentence` = \"SOS A lion in the jungle is sleeping EOS\"\n",
        "\n",
        "`tar_inp` =  \"SOS A lion in the jungle is sleeping\"\n",
        "\n",
        "`tar_real` = \"A lion in the jungle is sleeping EOS\"\n",
        "\n",
        "The transformer is an auto-regressive model: it makes predictions one part at a time, and uses its output so far to decide what to do next. \n",
        "\n",
        "During training this example uses teacher-forcing (like in the [text generation tutorial](https://www.tensorflow.org/text/tutorials/text_generation)). Teacher forcing is passing the true output to the next time step regardless of what the model predicts at the current time step.\n",
        "\n",
        "As the transformer predicts each token, *self-attention* allows it to look at the previous tokens in the input sequence to better predict the next token.\n",
        "\n",
        "To prevent the model from peeking at the expected output the model uses a look-ahead mask."
      ]
    },
    {
      "cell_type": "code",
      "execution_count": null,
      "metadata": {
        "execution": {
          "iopub.execute_input": "2021-11-02T15:32:17.495993Z",
          "iopub.status.busy": "2021-11-02T15:32:17.495359Z",
          "iopub.status.idle": "2021-11-02T15:32:17.497564Z",
          "shell.execute_reply": "2021-11-02T15:32:17.496976Z"
        },
        "id": "LKpoA6q1sJFj"
      },
      "outputs": [],
      "source": [
        "EPOCHS = 20"
      ]
    },
    {
      "cell_type": "code",
      "execution_count": null,
      "metadata": {
        "execution": {
          "iopub.execute_input": "2021-11-02T15:32:17.504835Z",
          "iopub.status.busy": "2021-11-02T15:32:17.504185Z",
          "iopub.status.idle": "2021-11-02T15:32:17.506276Z",
          "shell.execute_reply": "2021-11-02T15:32:17.505803Z"
        },
        "id": "iJwmp9OE29oj"
      },
      "outputs": [],
      "source": [
        "# The @tf.function trace-compiles train_step into a TF graph for faster\n",
        "# execution. The function specializes to the precise shape of the argument\n",
        "# tensors. To avoid re-tracing due to the variable sequence lengths or variable\n",
        "# batch sizes (the last batch is smaller), use input_signature to specify\n",
        "# more generic shapes.\n",
        "\n",
        "train_step_signature = [\n",
        "    tf.TensorSpec(shape=(None, None), dtype=tf.int64),\n",
        "    tf.TensorSpec(shape=(None, None), dtype=tf.int64),\n",
        "]\n",
        "\n",
        "\n",
        "@tf.function(input_signature=train_step_signature)\n",
        "def train_step(inp, tar):\n",
        "  tar_inp = tar[:, :-1]\n",
        "  tar_real = tar[:, 1:]\n",
        "\n",
        "  with tf.GradientTape() as tape:\n",
        "    predictions, _ = transformer([inp, tar_inp],\n",
        "                                 training = True)\n",
        "    loss = loss_function(tar_real, predictions)\n",
        "\n",
        "  gradients = tape.gradient(loss, transformer.trainable_variables)\n",
        "  optimizer.apply_gradients(zip(gradients, transformer.trainable_variables))\n",
        "\n",
        "  train_loss(loss)\n",
        "  train_accuracy(accuracy_function(tar_real, predictions))"
      ]
    },
    {
      "cell_type": "markdown",
      "metadata": {
        "id": "qM2PDWGDJ_8V"
      },
      "source": [
        "French is used as the input language and Portuguese is the target language."
      ]
    },
    {
      "cell_type": "code",
      "execution_count": null,
      "metadata": {
        "execution": {
          "iopub.execute_input": "2021-11-02T15:32:17.513282Z",
          "iopub.status.busy": "2021-11-02T15:32:17.508722Z",
          "iopub.status.idle": "2021-11-02T15:48:11.804276Z",
          "shell.execute_reply": "2021-11-02T15:48:11.803757Z"
        },
        "colab": {
          "base_uri": "https://localhost:8080/"
        },
        "outputId": "35f8a2f5-76de-41ff-d656-0258042baf95",
        "id": "SG08WtJRefQw"
      },
      "outputs": [
        {
          "output_type": "stream",
          "name": "stdout",
          "text": [
            "Epoch 1 Batch 0 Loss 8.8558 Accuracy 0.0000\n",
            "Epoch 1 Batch 50 Loss 8.7822 Accuracy 0.0076\n",
            "Epoch 1 Batch 100 Loss 8.6824 Accuracy 0.0267\n",
            "Epoch 1 Batch 150 Loss 8.5733 Accuracy 0.0335\n",
            "Epoch 1 Batch 200 Loss 8.4406 Accuracy 0.0375\n",
            "Epoch 1 Batch 250 Loss 8.2828 Accuracy 0.0408\n",
            "Epoch 1 Batch 300 Loss 8.1071 Accuracy 0.0490\n",
            "Epoch 1 Batch 350 Loss 7.9267 Accuracy 0.0580\n",
            "Epoch 1 Batch 400 Loss 7.7520 Accuracy 0.0669\n",
            "Epoch 1 Batch 450 Loss 7.5967 Accuracy 0.0745\n",
            "Epoch 1 Batch 500 Loss 7.4607 Accuracy 0.0812\n",
            "Epoch 1 Batch 550 Loss 7.3412 Accuracy 0.0872\n",
            "Epoch 1 Batch 600 Loss 7.2301 Accuracy 0.0929\n",
            "Epoch 1 Batch 650 Loss 7.1285 Accuracy 0.0981\n",
            "Epoch 1 Loss 7.0616 Accuracy 0.1016\n",
            "Time taken for 1 epoch: 269.52 secs\n",
            "\n",
            "Epoch 2 Batch 0 Loss 5.8564 Accuracy 0.1596\n",
            "Epoch 2 Batch 50 Loss 5.7332 Accuracy 0.1712\n",
            "Epoch 2 Batch 100 Loss 5.7028 Accuracy 0.1713\n",
            "Epoch 2 Batch 150 Loss 5.6598 Accuracy 0.1741\n",
            "Epoch 2 Batch 200 Loss 5.6313 Accuracy 0.1759\n",
            "Epoch 2 Batch 250 Loss 5.5980 Accuracy 0.1783\n",
            "Epoch 2 Batch 300 Loss 5.5683 Accuracy 0.1803\n",
            "Epoch 2 Batch 350 Loss 5.5465 Accuracy 0.1817\n",
            "Epoch 2 Batch 400 Loss 5.5185 Accuracy 0.1838\n",
            "Epoch 2 Batch 450 Loss 5.4912 Accuracy 0.1859\n",
            "Epoch 2 Batch 500 Loss 5.4639 Accuracy 0.1881\n",
            "Epoch 2 Batch 550 Loss 5.4393 Accuracy 0.1898\n",
            "Epoch 2 Batch 600 Loss 5.4137 Accuracy 0.1917\n",
            "Epoch 2 Batch 650 Loss 5.3890 Accuracy 0.1936\n",
            "Epoch 2 Loss 5.3724 Accuracy 0.1948\n",
            "Time taken for 1 epoch: 248.34 secs\n",
            "\n",
            "Epoch 3 Batch 0 Loss 4.9969 Accuracy 0.2276\n",
            "Epoch 3 Batch 50 Loss 4.9913 Accuracy 0.2233\n",
            "Epoch 3 Batch 100 Loss 4.9914 Accuracy 0.2222\n",
            "Epoch 3 Batch 150 Loss 4.9774 Accuracy 0.2226\n",
            "Epoch 3 Batch 200 Loss 4.9590 Accuracy 0.2242\n",
            "Epoch 3 Batch 250 Loss 4.9418 Accuracy 0.2259\n",
            "Epoch 3 Batch 300 Loss 4.9243 Accuracy 0.2271\n",
            "Epoch 3 Batch 350 Loss 4.9101 Accuracy 0.2279\n",
            "Epoch 3 Batch 400 Loss 4.8961 Accuracy 0.2287\n",
            "Epoch 3 Batch 450 Loss 4.8800 Accuracy 0.2298\n",
            "Epoch 3 Batch 500 Loss 4.8677 Accuracy 0.2303\n",
            "Epoch 3 Batch 550 Loss 4.8530 Accuracy 0.2311\n",
            "Epoch 3 Batch 600 Loss 4.8386 Accuracy 0.2321\n",
            "Epoch 3 Batch 650 Loss 4.8237 Accuracy 0.2332\n",
            "Epoch 3 Loss 4.8139 Accuracy 0.2339\n",
            "Time taken for 1 epoch: 251.53 secs\n",
            "\n",
            "Epoch 4 Batch 0 Loss 4.6015 Accuracy 0.2561\n",
            "Epoch 4 Batch 50 Loss 4.5172 Accuracy 0.2574\n",
            "Epoch 4 Batch 100 Loss 4.5188 Accuracy 0.2564\n",
            "Epoch 4 Batch 150 Loss 4.5075 Accuracy 0.2576\n",
            "Epoch 4 Batch 200 Loss 4.4972 Accuracy 0.2582\n",
            "Epoch 4 Batch 250 Loss 4.4879 Accuracy 0.2591\n",
            "Epoch 4 Batch 300 Loss 4.4725 Accuracy 0.2610\n",
            "Epoch 4 Batch 350 Loss 4.4589 Accuracy 0.2623\n",
            "Epoch 4 Batch 400 Loss 4.4454 Accuracy 0.2635\n",
            "Epoch 4 Batch 450 Loss 4.4341 Accuracy 0.2647\n",
            "Epoch 4 Batch 500 Loss 4.4252 Accuracy 0.2656\n",
            "Epoch 4 Batch 550 Loss 4.4128 Accuracy 0.2668\n",
            "Epoch 4 Batch 600 Loss 4.4000 Accuracy 0.2682\n",
            "Epoch 4 Batch 650 Loss 4.3872 Accuracy 0.2696\n",
            "Epoch 4 Loss 4.3789 Accuracy 0.2705\n",
            "Time taken for 1 epoch: 249.45 secs\n",
            "\n",
            "Epoch 5 Batch 0 Loss 4.0189 Accuracy 0.3073\n",
            "Epoch 5 Batch 50 Loss 4.0760 Accuracy 0.3028\n",
            "Epoch 5 Batch 100 Loss 4.0677 Accuracy 0.3034\n",
            "Epoch 5 Batch 150 Loss 4.0572 Accuracy 0.3047\n",
            "Epoch 5 Batch 200 Loss 4.0508 Accuracy 0.3047\n",
            "Epoch 5 Batch 250 Loss 4.0450 Accuracy 0.3058\n",
            "Epoch 5 Batch 300 Loss 4.0392 Accuracy 0.3066\n",
            "Epoch 5 Batch 350 Loss 4.0287 Accuracy 0.3076\n",
            "Epoch 5 Batch 400 Loss 4.0230 Accuracy 0.3083\n",
            "Epoch 5 Batch 450 Loss 4.0143 Accuracy 0.3094\n",
            "Epoch 5 Batch 500 Loss 4.0043 Accuracy 0.3108\n",
            "Epoch 5 Batch 550 Loss 3.9973 Accuracy 0.3117\n",
            "Epoch 5 Batch 600 Loss 3.9868 Accuracy 0.3132\n",
            "Epoch 5 Batch 650 Loss 3.9775 Accuracy 0.3143\n",
            "Saving checkpoint for epoch 5 at ./checkpoints/train/ckpt-1\n",
            "Epoch 5 Loss 3.9715 Accuracy 0.3152\n",
            "Time taken for 1 epoch: 250.00 secs\n",
            "\n",
            "Epoch 6 Batch 0 Loss 3.7898 Accuracy 0.3265\n",
            "Epoch 6 Batch 50 Loss 3.7029 Accuracy 0.3413\n",
            "Epoch 6 Batch 100 Loss 3.7022 Accuracy 0.3427\n",
            "Epoch 6 Batch 150 Loss 3.6929 Accuracy 0.3448\n",
            "Epoch 6 Batch 200 Loss 3.6879 Accuracy 0.3459\n",
            "Epoch 6 Batch 250 Loss 3.6833 Accuracy 0.3466\n",
            "Epoch 6 Batch 300 Loss 3.6779 Accuracy 0.3476\n",
            "Epoch 6 Batch 350 Loss 3.6679 Accuracy 0.3490\n",
            "Epoch 6 Batch 400 Loss 3.6608 Accuracy 0.3501\n",
            "Epoch 6 Batch 450 Loss 3.6559 Accuracy 0.3509\n",
            "Epoch 6 Batch 500 Loss 3.6471 Accuracy 0.3522\n",
            "Epoch 6 Batch 550 Loss 3.6382 Accuracy 0.3535\n",
            "Epoch 6 Batch 600 Loss 3.6343 Accuracy 0.3540\n",
            "Epoch 6 Batch 650 Loss 3.6303 Accuracy 0.3546\n",
            "Epoch 6 Loss 3.6268 Accuracy 0.3552\n",
            "Time taken for 1 epoch: 251.16 secs\n",
            "\n",
            "Epoch 7 Batch 0 Loss 3.3364 Accuracy 0.3694\n",
            "Epoch 7 Batch 50 Loss 3.3608 Accuracy 0.3839\n",
            "Epoch 7 Batch 100 Loss 3.3724 Accuracy 0.3812\n",
            "Epoch 7 Batch 150 Loss 3.3548 Accuracy 0.3849\n",
            "Epoch 7 Batch 200 Loss 3.3548 Accuracy 0.3854\n",
            "Epoch 7 Batch 250 Loss 3.3495 Accuracy 0.3863\n",
            "Epoch 7 Batch 300 Loss 3.3441 Accuracy 0.3874\n",
            "Epoch 7 Batch 350 Loss 3.3401 Accuracy 0.3883\n",
            "Epoch 7 Batch 400 Loss 3.3329 Accuracy 0.3896\n",
            "Epoch 7 Batch 450 Loss 3.3304 Accuracy 0.3899\n",
            "Epoch 7 Batch 500 Loss 3.3228 Accuracy 0.3911\n",
            "Epoch 7 Batch 550 Loss 3.3179 Accuracy 0.3919\n",
            "Epoch 7 Batch 600 Loss 3.3120 Accuracy 0.3929\n",
            "Epoch 7 Batch 650 Loss 3.3069 Accuracy 0.3938\n",
            "Epoch 7 Loss 3.3035 Accuracy 0.3944\n",
            "Time taken for 1 epoch: 249.63 secs\n",
            "\n",
            "Epoch 8 Batch 0 Loss 3.0731 Accuracy 0.4109\n",
            "Epoch 8 Batch 50 Loss 3.0400 Accuracy 0.4246\n",
            "Epoch 8 Batch 100 Loss 3.0275 Accuracy 0.4280\n",
            "Epoch 8 Batch 150 Loss 3.0322 Accuracy 0.4278\n",
            "Epoch 8 Batch 200 Loss 3.0306 Accuracy 0.4283\n",
            "Epoch 8 Batch 250 Loss 3.0296 Accuracy 0.4286\n",
            "Epoch 8 Batch 300 Loss 3.0296 Accuracy 0.4289\n",
            "Epoch 8 Batch 350 Loss 3.0298 Accuracy 0.4289\n",
            "Epoch 8 Batch 400 Loss 3.0292 Accuracy 0.4289\n",
            "Epoch 8 Batch 450 Loss 3.0279 Accuracy 0.4294\n",
            "Epoch 8 Batch 500 Loss 3.0274 Accuracy 0.4297\n",
            "Epoch 8 Batch 550 Loss 3.0244 Accuracy 0.4303\n",
            "Epoch 8 Batch 600 Loss 3.0235 Accuracy 0.4305\n",
            "Epoch 8 Batch 650 Loss 3.0210 Accuracy 0.4311\n",
            "Epoch 8 Loss 3.0190 Accuracy 0.4317\n",
            "Time taken for 1 epoch: 250.29 secs\n",
            "\n",
            "Epoch 9 Batch 0 Loss 2.9556 Accuracy 0.4407\n",
            "Epoch 9 Batch 50 Loss 2.7699 Accuracy 0.4634\n",
            "Epoch 9 Batch 100 Loss 2.7777 Accuracy 0.4621\n",
            "Epoch 9 Batch 150 Loss 2.7792 Accuracy 0.4623\n",
            "Epoch 9 Batch 200 Loss 2.7861 Accuracy 0.4615\n",
            "Epoch 9 Batch 250 Loss 2.7862 Accuracy 0.4615\n",
            "Epoch 9 Batch 300 Loss 2.7891 Accuracy 0.4615\n",
            "Epoch 9 Batch 350 Loss 2.7891 Accuracy 0.4618\n",
            "Epoch 9 Batch 400 Loss 2.7937 Accuracy 0.4613\n",
            "Epoch 9 Batch 450 Loss 2.7943 Accuracy 0.4613\n",
            "Epoch 9 Batch 500 Loss 2.7938 Accuracy 0.4619\n",
            "Epoch 9 Batch 550 Loss 2.7970 Accuracy 0.4616\n",
            "Epoch 9 Batch 600 Loss 2.7970 Accuracy 0.4618\n",
            "Epoch 9 Batch 650 Loss 2.7958 Accuracy 0.4622\n",
            "Epoch 9 Loss 2.7972 Accuracy 0.4619\n",
            "Time taken for 1 epoch: 250.07 secs\n",
            "\n",
            "Epoch 10 Batch 0 Loss 2.7920 Accuracy 0.4546\n",
            "Epoch 10 Batch 50 Loss 2.5749 Accuracy 0.4899\n",
            "Epoch 10 Batch 100 Loss 2.5831 Accuracy 0.4885\n",
            "Epoch 10 Batch 150 Loss 2.5835 Accuracy 0.4887\n",
            "Epoch 10 Batch 200 Loss 2.5877 Accuracy 0.4881\n",
            "Epoch 10 Batch 250 Loss 2.5971 Accuracy 0.4874\n",
            "Epoch 10 Batch 300 Loss 2.5992 Accuracy 0.4876\n",
            "Epoch 10 Batch 350 Loss 2.6043 Accuracy 0.4871\n",
            "Epoch 10 Batch 400 Loss 2.6084 Accuracy 0.4867\n",
            "Epoch 10 Batch 450 Loss 2.6107 Accuracy 0.4867\n",
            "Epoch 10 Batch 500 Loss 2.6111 Accuracy 0.4873\n",
            "Epoch 10 Batch 550 Loss 2.6168 Accuracy 0.4866\n",
            "Epoch 10 Batch 600 Loss 2.6181 Accuracy 0.4867\n",
            "Epoch 10 Batch 650 Loss 2.6223 Accuracy 0.4863\n",
            "Saving checkpoint for epoch 10 at ./checkpoints/train/ckpt-2\n",
            "Epoch 10 Loss 2.6240 Accuracy 0.4861\n",
            "Time taken for 1 epoch: 250.00 secs\n",
            "\n",
            "Epoch 11 Batch 0 Loss 2.3639 Accuracy 0.5186\n",
            "Epoch 11 Batch 50 Loss 2.4283 Accuracy 0.5132\n",
            "Epoch 11 Batch 100 Loss 2.4315 Accuracy 0.5121\n",
            "Epoch 11 Batch 150 Loss 2.4457 Accuracy 0.5098\n",
            "Epoch 11 Batch 200 Loss 2.4496 Accuracy 0.5089\n",
            "Epoch 11 Batch 250 Loss 2.4551 Accuracy 0.5083\n",
            "Epoch 11 Batch 300 Loss 2.4562 Accuracy 0.5084\n",
            "Epoch 11 Batch 350 Loss 2.4611 Accuracy 0.5082\n",
            "Epoch 11 Batch 400 Loss 2.4651 Accuracy 0.5078\n",
            "Epoch 11 Batch 450 Loss 2.4661 Accuracy 0.5077\n",
            "Epoch 11 Batch 500 Loss 2.4697 Accuracy 0.5073\n",
            "Epoch 11 Batch 550 Loss 2.4742 Accuracy 0.5069\n",
            "Epoch 11 Batch 600 Loss 2.4792 Accuracy 0.5062\n",
            "Epoch 11 Batch 650 Loss 2.4838 Accuracy 0.5058\n",
            "Epoch 11 Loss 2.4854 Accuracy 0.5057\n",
            "Time taken for 1 epoch: 250.96 secs\n",
            "\n",
            "Epoch 12 Batch 0 Loss 2.1218 Accuracy 0.5576\n",
            "Epoch 12 Batch 50 Loss 2.2905 Accuracy 0.5320\n",
            "Epoch 12 Batch 100 Loss 2.2943 Accuracy 0.5316\n",
            "Epoch 12 Batch 150 Loss 2.3243 Accuracy 0.5275\n",
            "Epoch 12 Batch 200 Loss 2.3316 Accuracy 0.5264\n",
            "Epoch 12 Batch 250 Loss 2.3356 Accuracy 0.5264\n",
            "Epoch 12 Batch 300 Loss 2.3392 Accuracy 0.5255\n",
            "Epoch 12 Batch 350 Loss 2.3383 Accuracy 0.5258\n",
            "Epoch 12 Batch 400 Loss 2.3451 Accuracy 0.5249\n",
            "Epoch 12 Batch 450 Loss 2.3462 Accuracy 0.5249\n",
            "Epoch 12 Batch 500 Loss 2.3522 Accuracy 0.5239\n",
            "Epoch 12 Batch 550 Loss 2.3588 Accuracy 0.5231\n",
            "Epoch 12 Batch 600 Loss 2.3651 Accuracy 0.5224\n",
            "Epoch 12 Batch 650 Loss 2.3684 Accuracy 0.5220\n",
            "Epoch 12 Loss 2.3732 Accuracy 0.5214\n",
            "Time taken for 1 epoch: 252.17 secs\n",
            "\n",
            "Epoch 13 Batch 0 Loss 1.9356 Accuracy 0.5962\n",
            "Epoch 13 Batch 50 Loss 2.1782 Accuracy 0.5480\n",
            "Epoch 13 Batch 100 Loss 2.1977 Accuracy 0.5445\n",
            "Epoch 13 Batch 150 Loss 2.2127 Accuracy 0.5434\n",
            "Epoch 13 Batch 200 Loss 2.2243 Accuracy 0.5413\n",
            "Epoch 13 Batch 250 Loss 2.2356 Accuracy 0.5399\n",
            "Epoch 13 Batch 300 Loss 2.2415 Accuracy 0.5392\n",
            "Epoch 13 Batch 350 Loss 2.2479 Accuracy 0.5384\n",
            "Epoch 13 Batch 400 Loss 2.2530 Accuracy 0.5378\n",
            "Epoch 13 Batch 450 Loss 2.2562 Accuracy 0.5374\n",
            "Epoch 13 Batch 500 Loss 2.2601 Accuracy 0.5371\n",
            "Epoch 13 Batch 550 Loss 2.2658 Accuracy 0.5365\n",
            "Epoch 13 Batch 600 Loss 2.2697 Accuracy 0.5359\n",
            "Epoch 13 Batch 650 Loss 2.2720 Accuracy 0.5356\n",
            "Epoch 13 Loss 2.2749 Accuracy 0.5354\n",
            "Time taken for 1 epoch: 250.45 secs\n",
            "\n",
            "Epoch 14 Batch 0 Loss 2.0812 Accuracy 0.5757\n",
            "Epoch 14 Batch 50 Loss 2.1034 Accuracy 0.5606\n",
            "Epoch 14 Batch 100 Loss 2.1122 Accuracy 0.5587\n",
            "Epoch 14 Batch 150 Loss 2.1195 Accuracy 0.5581\n",
            "Epoch 14 Batch 200 Loss 2.1323 Accuracy 0.5556\n",
            "Epoch 14 Batch 250 Loss 2.1356 Accuracy 0.5551\n",
            "Epoch 14 Batch 300 Loss 2.1501 Accuracy 0.5528\n",
            "Epoch 14 Batch 350 Loss 2.1576 Accuracy 0.5512\n",
            "Epoch 14 Batch 400 Loss 2.1637 Accuracy 0.5505\n",
            "Epoch 14 Batch 450 Loss 2.1696 Accuracy 0.5496\n",
            "Epoch 14 Batch 500 Loss 2.1732 Accuracy 0.5493\n",
            "Epoch 14 Batch 550 Loss 2.1773 Accuracy 0.5489\n",
            "Epoch 14 Batch 600 Loss 2.1819 Accuracy 0.5483\n",
            "Epoch 14 Batch 650 Loss 2.1862 Accuracy 0.5480\n",
            "Epoch 14 Loss 2.1902 Accuracy 0.5475\n",
            "Time taken for 1 epoch: 250.19 secs\n",
            "\n",
            "Epoch 15 Batch 0 Loss 1.9159 Accuracy 0.5984\n",
            "Epoch 15 Batch 50 Loss 2.0354 Accuracy 0.5688\n",
            "Epoch 15 Batch 100 Loss 2.0462 Accuracy 0.5679\n",
            "Epoch 15 Batch 150 Loss 2.0591 Accuracy 0.5661\n",
            "Epoch 15 Batch 200 Loss 2.0650 Accuracy 0.5650\n",
            "Epoch 15 Batch 250 Loss 2.0729 Accuracy 0.5638\n",
            "Epoch 15 Batch 300 Loss 2.0774 Accuracy 0.5631\n",
            "Epoch 15 Batch 350 Loss 2.0865 Accuracy 0.5616\n",
            "Epoch 15 Batch 400 Loss 2.0909 Accuracy 0.5610\n",
            "Epoch 15 Batch 450 Loss 2.0953 Accuracy 0.5607\n",
            "Epoch 15 Batch 500 Loss 2.0987 Accuracy 0.5604\n",
            "Epoch 15 Batch 550 Loss 2.1038 Accuracy 0.5596\n",
            "Epoch 15 Batch 600 Loss 2.1080 Accuracy 0.5589\n",
            "Epoch 15 Batch 650 Loss 2.1148 Accuracy 0.5579\n",
            "Saving checkpoint for epoch 15 at ./checkpoints/train/ckpt-3\n",
            "Epoch 15 Loss 2.1175 Accuracy 0.5577\n",
            "Time taken for 1 epoch: 251.52 secs\n",
            "\n",
            "Epoch 16 Batch 0 Loss 1.9024 Accuracy 0.6015\n",
            "Epoch 16 Batch 50 Loss 1.9741 Accuracy 0.5808\n",
            "Epoch 16 Batch 100 Loss 1.9837 Accuracy 0.5788\n",
            "Epoch 16 Batch 150 Loss 1.9870 Accuracy 0.5776\n",
            "Epoch 16 Batch 200 Loss 1.9883 Accuracy 0.5778\n",
            "Epoch 16 Batch 250 Loss 1.9936 Accuracy 0.5764\n",
            "Epoch 16 Batch 300 Loss 2.0009 Accuracy 0.5756\n",
            "Epoch 16 Batch 350 Loss 2.0097 Accuracy 0.5740\n",
            "Epoch 16 Batch 400 Loss 2.0143 Accuracy 0.5732\n",
            "Epoch 16 Batch 450 Loss 2.0190 Accuracy 0.5726\n",
            "Epoch 16 Batch 500 Loss 2.0286 Accuracy 0.5710\n",
            "Epoch 16 Batch 550 Loss 2.0348 Accuracy 0.5700\n",
            "Epoch 16 Batch 600 Loss 2.0420 Accuracy 0.5689\n",
            "Epoch 16 Batch 650 Loss 2.0471 Accuracy 0.5682\n",
            "Epoch 16 Loss 2.0510 Accuracy 0.5677\n",
            "Time taken for 1 epoch: 250.25 secs\n",
            "\n",
            "Epoch 17 Batch 0 Loss 2.0191 Accuracy 0.5666\n",
            "Epoch 17 Batch 50 Loss 1.8960 Accuracy 0.5898\n",
            "Epoch 17 Batch 100 Loss 1.9096 Accuracy 0.5879\n",
            "Epoch 17 Batch 150 Loss 1.9235 Accuracy 0.5858\n",
            "Epoch 17 Batch 200 Loss 1.9370 Accuracy 0.5837\n",
            "Epoch 17 Batch 250 Loss 1.9448 Accuracy 0.5831\n",
            "Epoch 17 Batch 300 Loss 1.9489 Accuracy 0.5825\n",
            "Epoch 17 Batch 350 Loss 1.9556 Accuracy 0.5813\n",
            "Epoch 17 Batch 400 Loss 1.9618 Accuracy 0.5806\n",
            "Epoch 17 Batch 450 Loss 1.9676 Accuracy 0.5798\n",
            "Epoch 17 Batch 500 Loss 1.9732 Accuracy 0.5791\n",
            "Epoch 17 Batch 550 Loss 1.9792 Accuracy 0.5783\n",
            "Epoch 17 Batch 600 Loss 1.9849 Accuracy 0.5775\n",
            "Epoch 17 Batch 650 Loss 1.9896 Accuracy 0.5770\n",
            "Epoch 17 Loss 1.9934 Accuracy 0.5766\n",
            "Time taken for 1 epoch: 251.25 secs\n",
            "\n",
            "Epoch 18 Batch 0 Loss 1.9443 Accuracy 0.5830\n",
            "Epoch 18 Batch 50 Loss 1.8824 Accuracy 0.5919\n",
            "Epoch 18 Batch 100 Loss 1.8798 Accuracy 0.5929\n",
            "Epoch 18 Batch 150 Loss 1.8777 Accuracy 0.5933\n",
            "Epoch 18 Batch 200 Loss 1.8847 Accuracy 0.5926\n",
            "Epoch 18 Batch 250 Loss 1.8928 Accuracy 0.5912\n",
            "Epoch 18 Batch 300 Loss 1.8994 Accuracy 0.5900\n",
            "Epoch 18 Batch 350 Loss 1.9052 Accuracy 0.5888\n",
            "Epoch 18 Batch 400 Loss 1.9104 Accuracy 0.5880\n",
            "Epoch 18 Batch 450 Loss 1.9155 Accuracy 0.5874\n",
            "Epoch 18 Batch 500 Loss 1.9199 Accuracy 0.5870\n",
            "Epoch 18 Batch 550 Loss 1.9250 Accuracy 0.5863\n",
            "Epoch 18 Batch 600 Loss 1.9305 Accuracy 0.5859\n",
            "Epoch 18 Batch 650 Loss 1.9346 Accuracy 0.5853\n",
            "Epoch 18 Loss 1.9407 Accuracy 0.5844\n",
            "Time taken for 1 epoch: 252.29 secs\n",
            "\n",
            "Epoch 19 Batch 0 Loss 1.7184 Accuracy 0.6195\n",
            "Epoch 19 Batch 50 Loss 1.8055 Accuracy 0.6049\n",
            "Epoch 19 Batch 100 Loss 1.8181 Accuracy 0.6031\n",
            "Epoch 19 Batch 150 Loss 1.8292 Accuracy 0.6015\n",
            "Epoch 19 Batch 200 Loss 1.8359 Accuracy 0.6003\n",
            "Epoch 19 Batch 250 Loss 1.8444 Accuracy 0.5989\n",
            "Epoch 19 Batch 300 Loss 1.8531 Accuracy 0.5973\n",
            "Epoch 19 Batch 350 Loss 1.8583 Accuracy 0.5963\n",
            "Epoch 19 Batch 400 Loss 1.8648 Accuracy 0.5953\n",
            "Epoch 19 Batch 450 Loss 1.8690 Accuracy 0.5948\n",
            "Epoch 19 Batch 500 Loss 1.8774 Accuracy 0.5935\n",
            "Epoch 19 Batch 550 Loss 1.8791 Accuracy 0.5935\n",
            "Epoch 19 Batch 600 Loss 1.8844 Accuracy 0.5926\n",
            "Epoch 19 Batch 650 Loss 1.8881 Accuracy 0.5921\n",
            "Epoch 19 Loss 1.8924 Accuracy 0.5915\n",
            "Time taken for 1 epoch: 250.27 secs\n",
            "\n",
            "Epoch 20 Batch 0 Loss 1.7585 Accuracy 0.6179\n",
            "Epoch 20 Batch 50 Loss 1.7663 Accuracy 0.6101\n",
            "Epoch 20 Batch 100 Loss 1.7679 Accuracy 0.6115\n",
            "Epoch 20 Batch 150 Loss 1.7762 Accuracy 0.6100\n",
            "Epoch 20 Batch 200 Loss 1.7794 Accuracy 0.6095\n",
            "Epoch 20 Batch 250 Loss 1.7897 Accuracy 0.6080\n",
            "Epoch 20 Batch 300 Loss 1.7955 Accuracy 0.6071\n",
            "Epoch 20 Batch 350 Loss 1.8026 Accuracy 0.6058\n",
            "Epoch 20 Batch 400 Loss 1.8127 Accuracy 0.6044\n",
            "Epoch 20 Batch 450 Loss 1.8204 Accuracy 0.6030\n",
            "Epoch 20 Batch 500 Loss 1.8274 Accuracy 0.6017\n",
            "Epoch 20 Batch 550 Loss 1.8318 Accuracy 0.6011\n",
            "Epoch 20 Batch 600 Loss 1.8368 Accuracy 0.6004\n",
            "Epoch 20 Batch 650 Loss 1.8440 Accuracy 0.5993\n",
            "Saving checkpoint for epoch 20 at ./checkpoints/train/ckpt-4\n",
            "Epoch 20 Loss 1.8486 Accuracy 0.5985\n",
            "Time taken for 1 epoch: 251.37 secs\n",
            "\n"
          ]
        }
      ],
      "source": [
        "for epoch in range(EPOCHS):\n",
        "  start = time.time()\n",
        "\n",
        "  train_loss.reset_states()\n",
        "  train_accuracy.reset_states()\n",
        "\n",
        "  # inp -> french, tar -> portuguese\n",
        "  for (batch, (inp, tar)) in enumerate(train_batches):\n",
        "    train_step(inp, tar)\n",
        "\n",
        "    if batch % 50 == 0:\n",
        "      print(f'Epoch {epoch + 1} Batch {batch} Loss {train_loss.result():.4f} Accuracy {train_accuracy.result():.4f}')\n",
        "\n",
        "  if (epoch + 1) % 5 == 0:\n",
        "    ckpt_save_path = ckpt_manager.save()\n",
        "    print(f'Saving checkpoint for epoch {epoch+1} at {ckpt_save_path}')\n",
        "\n",
        "  print(f'Epoch {epoch + 1} Loss {train_loss.result():.4f} Accuracy {train_accuracy.result():.4f}')\n",
        "\n",
        "  print(f'Time taken for 1 epoch: {time.time() - start:.2f} secs\\n')"
      ]
    },
    {
      "cell_type": "markdown",
      "metadata": {
        "id": "QfcsSWswSdGV"
      },
      "source": [
        "### Run inference"
      ]
    },
    {
      "cell_type": "markdown",
      "metadata": {
        "id": "y6APsFrgImLW"
      },
      "source": [
        "The following steps are used for inference:\n",
        "\n",
        "* Encode the input sentence using the Portuguese tokenizer (`tokenizers.pt`). This is the encoder input.\n",
        "* The decoder input is initialized to the `[START]` token.\n",
        "* Calculate the padding masks and the look ahead masks.\n",
        "* The `decoder` then outputs the predictions by looking at the `encoder output` and its own output (self-attention).\n",
        "* Concatenate the predicted token to the decoder input and pass it to the decoder.\n",
        "* In this approach, the decoder predicts the next token based on the previous tokens it predicted."
      ]
    },
    {
      "cell_type": "markdown",
      "metadata": {
        "id": "-FQmQwtv9-kk"
      },
      "source": [
        "Note: The model is optimized for _efficient training_ and makes a next-token prediction for each token in the output simultaneously. This is redundant during inference, and only the last prediction is used.  This model can be made more efficient for inference if you only calculate the last prediction when running in inference mode (`training=False`)."
      ]
    },
    {
      "cell_type": "code",
      "execution_count": null,
      "metadata": {
        "execution": {
          "iopub.execute_input": "2021-11-02T15:48:11.815006Z",
          "iopub.status.busy": "2021-11-02T15:48:11.814017Z",
          "iopub.status.idle": "2021-11-02T15:48:11.816071Z",
          "shell.execute_reply": "2021-11-02T15:48:11.816465Z"
        },
        "id": "5buvMlnvyrFm"
      },
      "outputs": [],
      "source": [
        "class Translator(tf.Module):\n",
        "  def __init__(self, tokenizers, transformer):\n",
        "    self.tokenizers = tokenizers\n",
        "    self.transformer = transformer\n",
        "\n",
        "  def __call__(self, sentence, max_length=20):\n",
        "    # input sentence is french, hence adding the start and end token\n",
        "    assert isinstance(sentence, tf.Tensor)\n",
        "    if len(sentence.shape) == 0:\n",
        "      sentence = sentence[tf.newaxis]\n",
        "\n",
        "    sentence = self.tokenizers.fr.tokenize(sentence).to_tensor()\n",
        "    \n",
        "    encoder_input = sentence\n",
        "\n",
        "    # as the target is portuguese, the first token to the transformer should be the\n",
        "    # portuguese start token.\n",
        "    start_end = self.tokenizers.pt.tokenize([''])[0]\n",
        "    start = start_end[0][tf.newaxis]\n",
        "    end = start_end[1][tf.newaxis]\n",
        "\n",
        "    # `tf.TensorArray` is required here (instead of a python list) so that the\n",
        "    # dynamic-loop can be traced by `tf.function`.\n",
        "    output_array = tf.TensorArray(dtype=tf.int64, size=0, dynamic_size=True)\n",
        "    output_array = output_array.write(0, start)\n",
        "    \n",
        "    for i in tf.range(max_length):\n",
        "      output = tf.transpose(output_array.stack())\n",
        "      predictions, _ = self.transformer([encoder_input, output], training=False)\n",
        "      \n",
        "      # select the last token from the seq_len dimension\n",
        "      predictions = predictions[:, -1:, :]  # (batch_size, 1, vocab_size)\n",
        "\n",
        "      predicted_id = tf.argmax(predictions, axis=-1)\n",
        "\n",
        "      # concatentate the predicted_id to the output which is given to the decoder\n",
        "      # as its input.\n",
        "      output_array = output_array.write(i+1, predicted_id[0])\n",
        "\n",
        "      if predicted_id == end:\n",
        "        break\n",
        "\n",
        "    output = tf.transpose(output_array.stack())\n",
        "    # output.shape (1, tokens)\n",
        "    text = tokenizers.pt.detokenize(output)[0]  # shape: ()\n",
        "\n",
        "    tokens = tokenizers.pt.lookup(output)[0]\n",
        "\n",
        "    # `tf.function` prevents us from using the attention_weights that were\n",
        "    # calculated on the last iteration of the loop. So recalculate them outside\n",
        "    # the loop.\n",
        "    _, attention_weights = self.transformer([encoder_input, output[:,:-1]], training=False)\n",
        "\n",
        "    return text, tokens, attention_weights"
      ]
    },
    {
      "cell_type": "markdown",
      "metadata": {
        "id": "ofUWszmY3szZ"
      },
      "source": [
        "Create an instance of this `Translator` class, and try it out a few times:"
      ]
    },
    {
      "cell_type": "code",
      "execution_count": null,
      "metadata": {
        "execution": {
          "iopub.execute_input": "2021-11-02T15:48:11.821040Z",
          "iopub.status.busy": "2021-11-02T15:48:11.820422Z",
          "iopub.status.idle": "2021-11-02T15:48:11.822590Z",
          "shell.execute_reply": "2021-11-02T15:48:11.822037Z"
        },
        "id": "4OR2D4EXeIRY"
      },
      "outputs": [],
      "source": [
        "translator = Translator(tokenizers, transformer)"
      ]
    },
    {
      "cell_type": "code",
      "execution_count": null,
      "metadata": {
        "execution": {
          "iopub.execute_input": "2021-11-02T15:48:11.827119Z",
          "iopub.status.busy": "2021-11-02T15:48:11.826479Z",
          "iopub.status.idle": "2021-11-02T15:48:11.828111Z",
          "shell.execute_reply": "2021-11-02T15:48:11.828479Z"
        },
        "id": "lU2_yG_vBGza"
      },
      "outputs": [],
      "source": [
        "def print_translation(sentence, tokens, ground_truth):\n",
        "  print(f'{\"Input:\":15s}: {sentence}')\n",
        "  print(f'{\"Prediction\":15s}: {tokens.numpy().decode(\"utf-8\")}')\n",
        "  print(f'{\"Ground truth\":15s}: {ground_truth}')"
      ]
    },
    {
      "cell_type": "code",
      "execution_count": null,
      "metadata": {
        "execution": {
          "iopub.execute_input": "2021-11-02T15:48:11.833071Z",
          "iopub.status.busy": "2021-11-02T15:48:11.832455Z",
          "iopub.status.idle": "2021-11-02T15:48:13.895217Z",
          "shell.execute_reply": "2021-11-02T15:48:13.895663Z"
        },
        "colab": {
          "base_uri": "https://localhost:8080/"
        },
        "outputId": "bb694e6d-b95e-4599-e0f3-d8db2b181f10",
        "id": "RzTdmMuViIiW"
      },
      "outputs": [
        {
          "output_type": "stream",
          "name": "stdout",
          "text": [
            "Input:         : masha marchait sur l'autoroute et aspirait le séchage .\n",
            "Prediction     : o meu desejo estava a atravessar a auto - estrada e aspiratoria .\n",
            "Ground truth   : a masha estava a andar na auto-estrada e a sugar a secagem .\n"
          ]
        }
      ],
      "source": [
        "sentence = \"masha marchait sur l'autoroute et aspirait le séchage .\"\n",
        "ground_truth = \"a masha estava a andar na auto-estrada e a sugar a secagem .\"\n",
        "\n",
        "translated_text, translated_tokens, attention_weights = translator(\n",
        "    tf.constant(sentence))\n",
        "print_translation(sentence, translated_text, ground_truth)"
      ]
    },
    {
      "cell_type": "code",
      "execution_count": null,
      "metadata": {
        "execution": {
          "iopub.execute_input": "2021-11-02T15:48:13.901448Z",
          "iopub.status.busy": "2021-11-02T15:48:13.900661Z",
          "iopub.status.idle": "2021-11-02T15:48:15.012447Z",
          "shell.execute_reply": "2021-11-02T15:48:15.012843Z"
        },
        "colab": {
          "base_uri": "https://localhost:8080/"
        },
        "outputId": "0446fe53-97b3-4a2d-cb36-a7de5b76c284",
        "id": "4PHcSmMGiIiW"
      },
      "outputs": [
        {
          "output_type": "stream",
          "name": "stdout",
          "text": [
            "Input:         : dans la forêt , un arbre de noël est né , dans la forêt , elle a grandi.\n",
            "Prediction     : na floresta , uma arvore de natal , na floresta , cresceu na floresta , ela cresceu .\n",
            "Ground truth   : na floresta nasceu uma árvore de natal , na floresta ela cresceu .\n"
          ]
        }
      ],
      "source": [
        "sentence = \"dans la forêt , un arbre de noël est né , dans la forêt , elle a grandi.\"\n",
        "ground_truth = \"na floresta nasceu uma árvore de natal , na floresta ela cresceu .\"\n",
        "\n",
        "translated_text, translated_tokens, attention_weights = translator(\n",
        "    tf.constant(sentence))\n",
        "print_translation(sentence, translated_text, ground_truth)"
      ]
    },
    {
      "cell_type": "code",
      "execution_count": null,
      "metadata": {
        "execution": {
          "iopub.execute_input": "2021-11-02T15:48:15.018582Z",
          "iopub.status.busy": "2021-11-02T15:48:15.017625Z",
          "iopub.status.idle": "2021-11-02T15:48:17.439321Z",
          "shell.execute_reply": "2021-11-02T15:48:17.439817Z"
        },
        "colab": {
          "base_uri": "https://localhost:8080/"
        },
        "outputId": "32ff57fc-3fe4-4323-9a22-1343d99de132",
        "id": "CNLoPt1IiIiX"
      },
      "outputs": [
        {
          "output_type": "stream",
          "name": "stdout",
          "text": [
            "Input:         : qui est à blâmer et que faire ?\n",
            "Prediction     : quem e aprovisionar e o que fazer ?\n",
            "Ground truth   : quem é o culpado e o que fazer ?\n"
          ]
        }
      ],
      "source": [
        "sentence = \"qui est à blâmer et que faire ?\"\n",
        "ground_truth = \"quem é o culpado e o que fazer ?\"\n",
        "\n",
        "translated_text, translated_tokens, attention_weights = translator(\n",
        "    tf.constant(sentence))\n",
        "print_translation(sentence, translated_text, ground_truth)"
      ]
    },
    {
      "cell_type": "markdown",
      "metadata": {
        "id": "S3EQiFUC--Ds"
      },
      "source": [
        "## Attention plots"
      ]
    },
    {
      "cell_type": "markdown",
      "metadata": {
        "id": "hHV2pdXHGz-0"
      },
      "source": [
        "The `Translator` class returns a dictionary of attention maps you can use to visualize the internal working of the model:"
      ]
    },
    {
      "cell_type": "code",
      "execution_count": null,
      "metadata": {
        "execution": {
          "iopub.execute_input": "2021-11-02T15:48:17.445498Z",
          "iopub.status.busy": "2021-11-02T15:48:17.444612Z",
          "iopub.status.idle": "2021-11-02T15:48:18.637266Z",
          "shell.execute_reply": "2021-11-02T15:48:18.637655Z"
        },
        "colab": {
          "base_uri": "https://localhost:8080/"
        },
        "outputId": "ed045fa5-fa9a-4354-d648-eb4d5e4b1ec2",
        "id": "FPE-2fe7iPki"
      },
      "outputs": [
        {
          "output_type": "stream",
          "name": "stdout",
          "text": [
            "Input:         : qui est à blâmer et que faire ?\n",
            "Prediction     : quem e aprovisionar e o que fazer ?\n",
            "Ground truth   : Quem é o culpado e o que fazer?\n"
          ]
        }
      ],
      "source": [
        "sentence = \"qui est à blâmer et que faire ?\"\n",
        "ground_truth = \"Quem é o culpado e o que fazer?\"\n",
        "\n",
        "translated_text, translated_tokens, attention_weights = translator(\n",
        "    tf.constant(sentence))\n",
        "print_translation(sentence, translated_text, ground_truth)"
      ]
    },
    {
      "cell_type": "code",
      "execution_count": null,
      "metadata": {
        "execution": {
          "iopub.execute_input": "2021-11-02T15:48:18.643597Z",
          "iopub.status.busy": "2021-11-02T15:48:18.640234Z",
          "iopub.status.idle": "2021-11-02T15:48:18.645281Z",
          "shell.execute_reply": "2021-11-02T15:48:18.645669Z"
        },
        "id": "CcI4DxAK5EHY"
      },
      "outputs": [],
      "source": [
        "def plot_attention_head(in_tokens, translated_tokens, attention):\n",
        "  # The plot is of the attention when a token was generated.\n",
        "  # The model didn't generate `<START>` in the output. Skip it.\n",
        "  translated_tokens = translated_tokens[1:]\n",
        "\n",
        "  ax = plt.gca()\n",
        "  ax.matshow(attention)\n",
        "  ax.set_xticks(range(len(in_tokens)))\n",
        "  ax.set_yticks(range(len(translated_tokens)))\n",
        "\n",
        "  labels = [label.decode('utf-8') for label in in_tokens.numpy()]\n",
        "  ax.set_xticklabels(\n",
        "      labels, rotation=90)\n",
        "\n",
        "  labels = [label.decode('utf-8') for label in translated_tokens.numpy()]\n",
        "  ax.set_yticklabels(labels)"
      ]
    },
    {
      "cell_type": "code",
      "execution_count": null,
      "metadata": {
        "execution": {
          "iopub.execute_input": "2021-11-02T15:48:18.649612Z",
          "iopub.status.busy": "2021-11-02T15:48:18.648204Z",
          "iopub.status.idle": "2021-11-02T15:48:18.653842Z",
          "shell.execute_reply": "2021-11-02T15:48:18.653343Z"
        },
        "colab": {
          "base_uri": "https://localhost:8080/"
        },
        "outputId": "54cbca1e-cf95-4a41-faa3-b8e7297d30cd",
        "id": "oAwv2LuiiVdE"
      },
      "outputs": [
        {
          "output_type": "execute_result",
          "data": {
            "text/plain": [
              "TensorShape([13, 11])"
            ]
          },
          "metadata": {},
          "execution_count": 75
        }
      ],
      "source": [
        "head = 0\n",
        "# shape: (batch=1, num_heads, seq_len_q, seq_len_k)\n",
        "attention_heads = tf.squeeze(\n",
        "  attention_weights['decoder_layer4_block2'], 0)\n",
        "attention = attention_heads[head]\n",
        "attention.shape"
      ]
    },
    {
      "cell_type": "code",
      "execution_count": null,
      "metadata": {
        "execution": {
          "iopub.execute_input": "2021-11-02T15:48:18.658964Z",
          "iopub.status.busy": "2021-11-02T15:48:18.657997Z",
          "iopub.status.idle": "2021-11-02T15:48:18.677410Z",
          "shell.execute_reply": "2021-11-02T15:48:18.677842Z"
        },
        "colab": {
          "base_uri": "https://localhost:8080/"
        },
        "outputId": "e9e11dae-e196-46e6-da23-f7e6753f1ac9",
        "id": "ZdATX5YkiVdF"
      },
      "outputs": [
        {
          "output_type": "execute_result",
          "data": {
            "text/plain": [
              "<tf.Tensor: shape=(17,), dtype=string, numpy=\n",
              "array([b'[START]', b'q', b'##ui', b'es', b'##t', b'a', b'bla', b'##me',\n",
              "       b'##r', b'e', b'##t', b'que', b'fa', b'##ir', b'##e', b'?',\n",
              "       b'[END]'], dtype=object)>"
            ]
          },
          "metadata": {},
          "execution_count": 76
        }
      ],
      "source": [
        "in_tokens = tf.convert_to_tensor([sentence])\n",
        "in_tokens = tokenizers.pt.tokenize(in_tokens).to_tensor()\n",
        "in_tokens = tokenizers.pt.lookup(in_tokens)[0]\n",
        "in_tokens"
      ]
    },
    {
      "cell_type": "code",
      "execution_count": null,
      "metadata": {
        "execution": {
          "iopub.execute_input": "2021-11-02T15:48:18.681893Z",
          "iopub.status.busy": "2021-11-02T15:48:18.680228Z",
          "iopub.status.idle": "2021-11-02T15:48:18.684096Z",
          "shell.execute_reply": "2021-11-02T15:48:18.684525Z"
        },
        "colab": {
          "base_uri": "https://localhost:8080/"
        },
        "outputId": "39e53292-4b6b-4bd2-9a0c-a6fd64bfeade",
        "id": "lypWLgVuiVdG"
      },
      "outputs": [
        {
          "output_type": "execute_result",
          "data": {
            "text/plain": [
              "<tf.Tensor: shape=(14,), dtype=string, numpy=\n",
              "array([b'[START]', b'quem', b'e', b'a', b'##p', b'##ro', b'##vis',\n",
              "       b'##ionar', b'e', b'o', b'que', b'fazer', b'?', b'[END]'],\n",
              "      dtype=object)>"
            ]
          },
          "metadata": {},
          "execution_count": 77
        }
      ],
      "source": [
        "translated_tokens"
      ]
    },
    {
      "cell_type": "code",
      "execution_count": null,
      "metadata": {
        "execution": {
          "iopub.execute_input": "2021-11-02T15:48:18.707463Z",
          "iopub.status.busy": "2021-11-02T15:48:18.689032Z",
          "iopub.status.idle": "2021-11-02T15:48:18.853302Z",
          "shell.execute_reply": "2021-11-02T15:48:18.852719Z"
        },
        "colab": {
          "base_uri": "https://localhost:8080/",
          "height": 297
        },
        "outputId": "138aeae2-f217-4a02-81e1-de54e5d3fd43",
        "id": "3VT5SYEBiVdH"
      },
      "outputs": [
        {
          "output_type": "display_data",
          "data": {
            "image/png": "[encoded data removed]",
            "text/plain": [
              "<Figure size 432x288 with 1 Axes>"
            ]
          },
          "metadata": {
            "needs_background": "light"
          }
        }
      ],
      "source": [
        "plot_attention_head(in_tokens, translated_tokens, attention)"
      ]
    },
    {
      "cell_type": "code",
      "execution_count": null,
      "metadata": {
        "execution": {
          "iopub.execute_input": "2021-11-02T15:48:18.859608Z",
          "iopub.status.busy": "2021-11-02T15:48:18.858979Z",
          "iopub.status.idle": "2021-11-02T15:48:18.861037Z",
          "shell.execute_reply": "2021-11-02T15:48:18.861408Z"
        },
        "id": "MBliB-PCzNK3"
      },
      "outputs": [],
      "source": [
        "def plot_attention_weights(sentence, translated_tokens, attention_heads):\n",
        "  in_tokens = tf.convert_to_tensor([sentence])\n",
        "  in_tokens = tokenizers.fr.tokenize(in_tokens).to_tensor()\n",
        "  in_tokens = tokenizers.fr.lookup(in_tokens)[0]\n",
        "  in_tokens\n",
        "\n",
        "  fig = plt.figure(figsize=(16, 8))\n",
        "\n",
        "  for h, head in enumerate(attention_heads):\n",
        "    ax = fig.add_subplot(2, 4, h+1)\n",
        "\n",
        "    plot_attention_head(in_tokens, translated_tokens, head)\n",
        "\n",
        "    ax.set_xlabel(f'Head {h+1}')\n",
        "\n",
        "  plt.tight_layout()\n",
        "  plt.show()"
      ]
    },
    {
      "cell_type": "code",
      "execution_count": null,
      "metadata": {
        "execution": {
          "iopub.execute_input": "2021-11-02T15:48:18.866144Z",
          "iopub.status.busy": "2021-11-02T15:48:18.865255Z",
          "iopub.status.idle": "2021-11-02T15:48:20.161612Z",
          "shell.execute_reply": "2021-11-02T15:48:20.161110Z"
        },
        "colab": {
          "base_uri": "https://localhost:8080/",
          "height": 368
        },
        "outputId": "e5ffbdc7-2d81-4340-819e-cbfb955fdb31",
        "id": "HF2c2faUicOf"
      },
      "outputs": [
        {
          "output_type": "display_data",
          "data": {
            "image/png": "[encoded data removed]",
            "text/plain": [
              "<Figure size 1152x576 with 8 Axes>"
            ]
          },
          "metadata": {
            "needs_background": "light"
          }
        }
      ],
      "source": [
        "plot_attention_weights(sentence, translated_tokens,\n",
        "                       attention_weights['decoder_layer4_block2'][0])"
      ]
    },
    {
      "cell_type": "markdown",
      "metadata": {
        "id": "MZJirKUtikTt"
      },
      "source": [
        "The model does okay on unfamiliar words. Neither \"triceratops\" or \"encyclopedia\" are in the input dataset and the model almost learns to transliterate them, even without a shared vocabulary:"
      ]
    },
    {
      "cell_type": "code",
      "execution_count": null,
      "metadata": {
        "execution": {
          "iopub.execute_input": "2021-11-02T15:48:20.171034Z",
          "iopub.status.busy": "2021-11-02T15:48:20.169836Z",
          "iopub.status.idle": "2021-11-02T15:48:24.747774Z",
          "shell.execute_reply": "2021-11-02T15:48:24.748188Z"
        },
        "colab": {
          "base_uri": "https://localhost:8080/",
          "height": 388
        },
        "outputId": "f9a3bbfe-cae1-4486-85c1-b949c2f5e015",
        "id": "N35a0IYdifbj"
      },
      "outputs": [
        {
          "output_type": "stream",
          "name": "stdout",
          "text": [
            "Input:         : J'ai lu sur le tricératops dans l'Encyclopédie.\n",
            "Prediction     : li sobre o transfestador na na encicusao .\n",
            "Ground truth   : Eu li sobre triceratops na enciclopédia.\n"
          ]
        },
        {
          "output_type": "display_data",
          "data": {
            "image/png": "[encoded data removed]",
            "text/plain": [
              "<Figure size 1152x576 with 8 Axes>"
            ]
          },
          "metadata": {
            "needs_background": "light"
          }
        }
      ],
      "source": [
        "sentence = \"J'ai lu sur le tricératops dans l'Encyclopédie.\"\n",
        "ground_truth = \"Eu li sobre triceratops na enciclopédia.\"\n",
        "\n",
        "translated_text, translated_tokens, attention_weights = translator(\n",
        "    tf.constant(sentence))\n",
        "print_translation(sentence, translated_text, ground_truth)\n",
        "\n",
        "plot_attention_weights(sentence, translated_tokens,\n",
        "                       attention_weights['decoder_layer4_block2'][0])"
      ]
    },
    {
      "cell_type": "markdown",
      "metadata": {
        "id": "mOyiOetL2l60"
      },
      "source": [
        "## Export"
      ]
    },
    {
      "cell_type": "markdown",
      "metadata": {
        "id": "YTK3g2UL2oMc"
      },
      "source": [
        "That inference model is working, so next you'll export it as a `tf.saved_model`.\n",
        "\n",
        "To do that, wrap it in yet another `tf.Module` sub-class, this time with a `tf.function` on the `__call__` method:"
      ]
    },
    {
      "cell_type": "code",
      "execution_count": null,
      "metadata": {
        "execution": {
          "iopub.execute_input": "2021-11-02T15:48:24.754512Z",
          "iopub.status.busy": "2021-11-02T15:48:24.753901Z",
          "iopub.status.idle": "2021-11-02T15:48:24.756061Z",
          "shell.execute_reply": "2021-11-02T15:48:24.756440Z"
        },
        "id": "GRmzkibLusQi"
      },
      "outputs": [],
      "source": [
        "class ExportTranslator(tf.Module):\n",
        "  def __init__(self, translator):\n",
        "    self.translator = translator\n",
        "\n",
        "  @tf.function(input_signature=[tf.TensorSpec(shape=[], dtype=tf.string)])\n",
        "  def __call__(self, sentence):\n",
        "    (result, \n",
        "     tokens,\n",
        "     attention_weights) = self.translator(sentence, max_length=100)\n",
        "    \n",
        "    return result"
      ]
    },
    {
      "cell_type": "markdown",
      "metadata": {
        "id": "O9f_pmEA4kql"
      },
      "source": [
        "In the above `tf.function` only the output sentence is returned. Thanks to the [non-strict execution](https://tensorflow.org/guide/intro_to_graphs) in `tf.function` any unnecessary values are never computed."
      ]
    },
    {
      "cell_type": "code",
      "execution_count": null,
      "metadata": {
        "execution": {
          "iopub.execute_input": "2021-11-02T15:48:24.760525Z",
          "iopub.status.busy": "2021-11-02T15:48:24.759924Z",
          "iopub.status.idle": "2021-11-02T15:48:24.762546Z",
          "shell.execute_reply": "2021-11-02T15:48:24.762080Z"
        },
        "id": "EfomoJDP2n5n"
      },
      "outputs": [],
      "source": [
        "translator = ExportTranslator(translator)"
      ]
    },
    {
      "cell_type": "markdown",
      "metadata": {
        "id": "SUfoCWPS9LuB"
      },
      "source": [
        "Since the model is decoding the predictions using `tf.argmax` the predictions are deterministic. The original model and one reloaded from its `SavedModel` should give identical predictions:"
      ]
    },
    {
      "cell_type": "code",
      "execution_count": null,
      "metadata": {
        "execution": {
          "iopub.execute_input": "2021-11-02T15:48:24.767963Z",
          "iopub.status.busy": "2021-11-02T15:48:24.767043Z",
          "iopub.status.idle": "2021-11-02T15:48:30.226637Z",
          "shell.execute_reply": "2021-11-02T15:48:30.227125Z"
        },
        "id": "hAlqyycz3IYL",
        "colab": {
          "base_uri": "https://localhost:8080/"
        },
        "outputId": "a81bdc3f-18cf-4da2-c89c-4a04fbd76349"
      },
      "outputs": [
        {
          "output_type": "execute_result",
          "data": {
            "text/plain": [
              "b'li sobre o transfestador na na encicusao .'"
            ]
          },
          "metadata": {},
          "execution_count": 33
        }
      ],
      "source": [
        "translator(\"J'ai lu sur le tricératops dans l'Encyclopédie.\").numpy()"
      ]
    },
    {
      "cell_type": "code",
      "execution_count": null,
      "metadata": {
        "execution": {
          "iopub.execute_input": "2021-11-02T15:48:30.241131Z",
          "iopub.status.busy": "2021-11-02T15:48:30.235682Z",
          "iopub.status.idle": "2021-11-02T15:48:55.647793Z",
          "shell.execute_reply": "2021-11-02T15:48:55.648229Z"
        },
        "colab": {
          "base_uri": "https://localhost:8080/"
        },
        "outputId": "8d66991f-a4ce-44f0-cf2b-7e02655ea812",
        "id": "ff9PVvyain_j"
      },
      "outputs": [
        {
          "output_type": "stream",
          "name": "stderr",
          "text": [
            "WARNING:absl:Found untraced functions such as embedding_4_layer_call_fn, embedding_4_layer_call_and_return_conditional_losses, dropout_37_layer_call_fn, dropout_37_layer_call_and_return_conditional_losses, embedding_5_layer_call_fn while saving (showing 5 of 560). These functions will not be directly callable after loading.\n"
          ]
        }
      ],
      "source": [
        "tf.saved_model.save(translator, export_dir='translator')"
      ]
    },
    {
      "cell_type": "code",
      "execution_count": null,
      "metadata": {
        "execution": {
          "iopub.execute_input": "2021-11-02T15:48:55.656679Z",
          "iopub.status.busy": "2021-11-02T15:48:55.656045Z",
          "iopub.status.idle": "2021-11-02T15:49:05.330187Z",
          "shell.execute_reply": "2021-11-02T15:49:05.330652Z"
        },
        "id": "rq0pZSxYin_k"
      },
      "outputs": [],
      "source": [
        "reloaded = tf.saved_model.load('translator')"
      ]
    },
    {
      "cell_type": "code",
      "execution_count": null,
      "metadata": {
        "execution": {
          "iopub.execute_input": "2021-11-02T15:49:05.335644Z",
          "iopub.status.busy": "2021-11-02T15:49:05.334799Z",
          "iopub.status.idle": "2021-11-02T15:49:07.605786Z",
          "shell.execute_reply": "2021-11-02T15:49:07.606223Z"
        },
        "colab": {
          "base_uri": "https://localhost:8080/"
        },
        "outputId": "72695519-6bc2-43c1-f0c6-ebad0d3d0f18",
        "id": "gAN3593Nin_k"
      },
      "outputs": [
        {
          "output_type": "execute_result",
          "data": {
            "text/plain": [
              "b'li sobre o transfestador na na encicusao .'"
            ]
          },
          "metadata": {},
          "execution_count": 87
        }
      ],
      "source": [
        "reloaded(\"J'ai lu sur le tricératops dans l'Encyclopédie.\").numpy()"
      ]
    },
    {
      "cell_type": "code",
      "source": [
        "model_name = 'translator'\n",
        "!zip -r {model_name}.zip {model_name}"
      ],
      "metadata": {
        "id": "7KMZ36r3H8PP"
      },
      "execution_count": null,
      "outputs": []
    },
    {
      "cell_type": "markdown",
      "source": [
        "## Validation\n",
        "\n",
        "As a validation vetric we will use BLEU."
      ],
      "metadata": {
        "id": "u2V9DwNOe3sc"
      }
    },
    {
      "cell_type": "code",
      "execution_count": null,
      "metadata": {
        "execution": {
          "iopub.execute_input": "2021-11-02T15:32:12.556005Z",
          "iopub.status.busy": "2021-11-02T15:32:12.554112Z",
          "iopub.status.idle": "2021-11-02T15:32:12.756996Z",
          "shell.execute_reply": "2021-11-02T15:32:12.757445Z"
        },
        "colab": {
          "base_uri": "https://localhost:8080/",
          "height": 35
        },
        "outputId": "ed00acdc-dfe0-4551-ab71-77b351a6146c",
        "id": "x4MbI5XVfra5"
      },
      "outputs": [
        {
          "output_type": "execute_result",
          "data": {
            "application/vnd.google.colaboratory.intrinsic+json": {
              "type": "string"
            },
            "text/plain": [
              "'./translator.zip'"
            ]
          },
          "metadata": {},
          "execution_count": 5
        }
      ],
      "source": [
        "model_name = \"translator\"\n",
        "tf.keras.utils.get_file(\n",
        "    f\"{model_name}.zip\",\n",
        "    f\"/content/translator.zip\",\n",
        "    cache_dir='.', cache_subdir='', extract=True\n",
        ")"
      ]
    },
    {
      "cell_type": "code",
      "execution_count": null,
      "metadata": {
        "execution": {
          "iopub.execute_input": "2021-11-02T15:32:12.763362Z",
          "iopub.status.busy": "2021-11-02T15:32:12.762225Z",
          "iopub.status.idle": "2021-11-02T15:32:13.801897Z",
          "shell.execute_reply": "2021-11-02T15:32:13.801245Z"
        },
        "id": "fN5pP375fra6"
      },
      "outputs": [],
      "source": [
        "translator = tf.saved_model.load(model_name)"
      ]
    },
    {
      "cell_type": "code",
      "source": [
        "predictions = []\n",
        "originals = []\n",
        "for fr_examples,pt_examples in test_examples.batch(1494).take(1):\n",
        "  for fr in fr_examples.numpy():\n",
        "    sentence = fr.decode('utf-8')\n",
        "    text = str(translator(sentence).numpy())[2:-1]\n",
        "    predictions.append(text.split())\n",
        "\n",
        "  for pt in pt_examples.numpy():\n",
        "    sentence = pt.decode('utf-8')\n",
        "    originals.append(sentence.split())\n",
        "\n",
        "print(predictions)\n",
        "print(originals)"
      ],
      "metadata": {
        "colab": {
          "base_uri": "https://localhost:8080/"
        },
        "id": "Xn_uFN83-RAP",
        "outputId": "6286f913-13a5-4e22-a061-472ca87dee8e"
      },
      "execution_count": null,
      "outputs": [
        {
          "output_type": "stream",
          "name": "stdout",
          "text": [
            "[['obrigado', '.'], ['as', 'nossas', 'experiencias', 'do', 'amor', 'sao', 'as', 'vezes', 'biologicos', 'e', 'cultural', '.'], ['e', 'o', 'concentrado', 'de', 'disturbios', '.'], ['os', 'medicos', 'sao', ',', 'como', 'a', 'maioria', 'de', 'voces', ',', 'muito', 'competitivos', '.'], ['e', 'isso', 'passa', '-', 'se', 'da', 'nossa', 'vida', '.'], ['os', 'quatro', 'grupos', 'vao', 'publicar', 'os', 'seus', 'dados', 'em', 'novembro', 'deste', 'ano', '.'], ['pode', 'acontecer', '.'], ['mas', 'mudar', 'a', 'forma', 'como', 'considerava', 'a', 'ciencia', ',', 'foi', 'surpreendentemente', 'simples', '.', 'que', 'nos', 'tocavamos', 'em', 'jogos', 'e', 'comecamos', 'a', 'pensar', 'em', 'em', 'em', 'bigme', ',', 'percebi', 'que', 'a', 'ciencia', 'nao', 'e', 'apenas', 'uma', 'materia', 'em', 'que', 'toda', 'a', 'gente', 'pode', 'descobrir', 'algo', 'novo', '.'], ['comecei', 'a', 'escrever', 'ficcao', 'cientifica', '.'], ['e', 'em', 'estudos', 'que', 'fizemos', 'no', 'meu', 'laboratorio', ',', 'estudos', 'semelhantes', ',', 'mostramos', 'que', 'as', 'criancas', 'de', 'quatro', 'anos', 'eram', 'mais', 'boa', 'noticias', 'na', 'pesquisa', 'de', 'uma', 'hipotese', 'de', 'uma', 'hipotese', 'de', 'uma', 'hipotese', 'de', 'ter', 'a', 'hipotese', 'de', 'nos', 'preocupar', 'exatamente', 'a', 'mesma', 'tarefa', '.'], ['a', 'minha', 'vida', 'nao', 'seria', 'a', 'mesma', 'coisa', '.'], ['deixem', '-', 'me', 'mostrar', '-', 'vos', '.'], ['lembro', '-', 'me', 'de', 'que', 'avacao', 'de', 'ter', 'a', 'cerveja', 'na', 'cabetueira', 'em', 'plastico', ',', 'mas', 'eles', 'estao', 'a', 'aproximar', '-', 'se', '.', '(', 'risos', ')', 'lembro', '-', 'me', 'de', 'que', 'era', 'ocombro', '.'], ['perguntou', '-', 'me', 'que', 'ele', 'tinha', 'que', 'ir', 'a', 'sua', 'frente', '.'], ['muito', 'obrigado', '.'], ['e', 'sabemos', 'mesmo', 'coisas', 'sobre', 'como', 'o', 'nosso', 'cerebro', 'faz', 'isto', '.'], ['no', 'passado', ',', 'se', 'forem', 'rico', ',', 'voces', 'tivessem', 'pessoas', 'que', 'trabalhavam', 'literalmente', 'para', 'voces', '.'], ['quer', 'dizer', ',', 'afinal', 'de', 'tudo', ',', 'se', 'virem', 'os', 'bebes', 'no', 'primeiro', 'primeiro', ',', 'eles', 'tem', 'o', 'ar', 'desatilizaram', '-', 'no', '.'], ['(', 'aplausos', ')'], ['que', 'e', 'que', 'a', 'resposta', 'foi', '?'], ['no', 'dia', 'seguinte', ',', 'todos', 'os', 'artistas', 'convidaram', 'a', 'trabalharem', 'em', 'mandela', 'em', 'robins', ',', 'onde', 'ele', 'iria', 'dar', 'uma', 'palestra', 'no', 'mundo', 'do', 'mundo', ',', 'a', 'sua', 'antiga', 'celula', '.'], ['por', 'isso', 'quero', 'dizer', ',', 'cada', 'um', 'de', 'voces', ',', 'se', 'acreditarem', 'sobre', 'o', 'assemblei', 'que', 'cada', 'mae', 'se', 'pensa', 'que', 'os', 'jovens', 'e', 'em', 'terra', 'tem', 'uma', 'boa', 'vontade', 'de', 'ter', 'uma', 'boa', 'assistencia', 'medica', ',', 'e', 'uma', 'boa', 'assistencia', 'de', 'saude', ',', 'e', 'que', 'acreditam', 'que', 'os', 'objectivos', 'sao', 'particularmente', 'adminis', 'para', 'o', 'desenvolvimento', 'intelectualmente', ',', 'particularmente', 'a', 'sua', 'terra', ',', 'os', 'seis', 'obstigio', '-', 'nos', 'governos', 'a', 'viverem', '-', 'vos', 'com', 'a', 'africa', 'subsario', '-', 'vos', 'contraste', 'asia', 'subsar'], ['todos', 'fazemos', 'isso', 'todos', 'pequenos', '.', 'nao', 'queremos', 'confiar', 'a', 'pessoa', 'perto', 'de', 'nos', '.'], ['como', 'podem', 'fingir', ',', 'pode', 'ser', 'um', 'pouco', '.'], ['eu', 'estava', 'a', 'subir', 'pela', 'primeira', 'vez', '.'], ['e', 'a', 'beleza', 'deste', 'sistema', 'e', 'que', 'ele', 'aproveita', 'as', 'duas', 'partes', '.'], ['mas', 'voces', 'e', 'eu', 'nao', 'somos', 'ignorantes', '.', 'nao', 'temos', 'dados', '.'], ['nesse', 'dia', ',', 'estavamos', 'num', 'a', 'fazer', 'trabalho', 'de', 'trabalho', ',', 'com', 'medicos', 'e', 'enfermeiros', ',', 'outros', 'membros', 'do', 'pessoal', ',', 'a', 'discutir', 'com', 'criancas', 'com', 'as', 'criancas', '.'], ['`', '`', 'fui', 'la', 'la', 'la', 'la', 'la', 'e', 'eu', 'sugeri', ',', 'e', 'eu', 'sugeri', ',', '`', '`', \"'\", \"'\", 'porque', 'e', 'que', 'nao', 'recorremos', 'a', 'igreja', 'em', 'tubos', 'deton', \"'\", \"'\", \"'\", \"'\", '.', \"'\", \"'\"], ['a', 'empresa', 'tem', 'uma', 'maneira', 'de', 'optimacao', 'de', 'beneficios', '?'], ['nascemos', 'para', 'uma', 'certa', 'familia', ',', 'uma', 'nacao', ',', 'uma', 'classe', '.'], ['por', 'isso', ',', 'pensamos', 'que', 'o', 'pensamento', 'dos', 'bebes', ',', 'e', 'como', 'o', 'pensamento', 'mais', 'brilhante', 'do', 'que', 'o', 'mais', 'brilhante', 'do', 'mundo', '.'], ['quando', 'via', 'o', 'vento', ',', 'vi', '-', 'me', 'a', 'sua', 'coreografia', ',', 'senti', '-', 'me', 'uma', 'forma', 'incomoda', 'e', ',', 'mesmo', 'em', 'vez', 'de', 'o', 'infinito', 'do', 'ceu', '.'], ['muitas', 'pessoas', 'fizeram', '-', 'me', 'mal', 'na', 'minha', 'vida', ',', 'e', 'lembro', '-', 'me', 'de', 'todas', 'as', 'suas', 'memorias', ',', 'mas', 'essas', 'memorias', 'acelerando', 'em', 'comparacao', 'com', 'as', 'pessoas', 'que', 'me', 'ajudaram', '.'], ['ca', ':', 'bem', ',', 'que', 'e', 'que', 'o', 'impacto', 'foi', 'isto', '?'], ['era', 'nepativel', ',', 'e', 'mesmo', ',', 'mesmo', 'no', 'mesmo', 'tempo', ',', 'estranhomente', ',', 'envelhecida', ',', 'embora', 'tenha', 'de', 'ter', 'a', 'certeza', 'de', 'que', 'o', 'som', 'acelculava', ',', 'e', 'ela', 'estava', 'a', 'reflexo', 'com', 'as', 'minhas', 'emocoes', ',', 'e', 'ela', 'estava', 'a', 'reflexo', 'com', 'os', 'meus', 'proprios', 'sentimentos', 'inflexos', '.'], ['em', '2001', ',', 'na', 'india', ',', 'tambem', 'construi', 'um', 'refugio', '.'], ['o', 'meu', 'corpo', 'e', 'tambem', 'uma', 'acumulacao', 'de', 'ideias', ',', 'a', 'ideia', 'da', 'pele', ',', 'a', 'ideia', 'de', 'celulas', 'do', 'cerebro', ',', 'a', 'ideia', 'de', 'celulas', 'do', 'figado', '.'], ['isto', 'e', 'tudo', '.', 'obrigado', '.'], ['as', 'chuvas', 'estavam', 'a', 'cair', 'nas', 'florestas', '.'], ['a', 'primeira', 'e', 'que', 'o', 'tema', 'de', 'recorreu', 'os', 'estudos', 'que', 'tinham', 'tido', 'os', 'orcamentos', 'dos', 'orcamentos', 'e', 'de', 'custos', ',', 'e', 'a', 'outra', 'coisa', 'que', 'me', 'incentiva', ',', 'que', 'me', 'tinha', 'muitos', 'colegas', ',', 'era', 'que', 'eu', 'conheci', ',', 'amigos', 'de', 'uma', 'das', 'pessoas', 'compreensivel', ',', 'que', 'entre', 'as', 'pessoas', 'mais', 'inteligentes', ',', 'mais', 'inteligentes', ',', 'as', 'pessoas', ',', 'mais', 'inteligentes', ',', 'mais', 'inteligentes', ',', 'as', 'suas', 'perseguras', ',', 'as', 'suas', 'consideradas', ',', 'nunca', 'mais', 'duras', 'que', 'eu', 'tinha', 'mais', 'inteligentes', '.'], ['entao', 'temos', 'um', 'tipo', 'de', 'atencao', 'muito', 'concentrados', ',', 'e', 'centro', 'de', 'um', 'objetivo', '.'], ['depois', ',', 'a', 'taiwan', ',', 'houve', 'um', 'terramoto', 'e', 'propus', '-', 'lhes', 'uma', 'grande', 'terramoto', ',', 'por', 'isso', 'colocamo', '-', 'lo', 'para', 'dar', 'uma', 'igreja', ',', 'e', 'enviamos', 'as', 'pecas', 'para', 'os', 'voluntarios', 'e', 'restruiu', '.'], ['e', 'como', 'isto', 'e', 'o', 'nosso', 'coracao', ',', 'podemos', 'escrever', 'sobre', 'tudo', 'e', 'qualquer', 'coisa', '.'], ['em', 'vez', 'disso', ',', 'comecei', 'a', 'escrever', 'outras', 'pessoas', 'que', 'eu', 'e', 'as', 'coisas', 'que', 'nunca', 'se', 'estavam', 'realmente', 'a', 'acontecer', '.'], ['bem', ',', 'que', 'tipo', 'de', 'explicacao', 'para', 'nos', 'envelou', '?'], ['fui', 'ao', 'kobie', 'para', 'conhecer', 'a', 'comunidade', 'de', 'vietname', '.'], ['no', 'mundo', 'animal', 'funciona', 'mesmo', '.'], ['sabem', ',', 'fui', 'muito', 'cedo', 'um', 'jornalista', 'muito', 'recente', '.'], ['perguntou', '-', 'me', 'construir', 'edificios', 'de', 'ferias', 'de', 'estacionamento', 'no', 'local', 'de', 'basebol', '.'], ['quase', '7000', 'pessoas', 'proijam', ',', 'e', 'a', 'cidade', ',', 'como', 'este', 'bairro', 'de', 'nagasta', ',', 'toda', 'a', 'cidade', 'de', 'um', 'incendio', ',', 'apos', 'o', 'terramoto', '.'], ['eram', 'recompensados', 'apenas', 'se', 'fossem', 'as', 'flores', 'amarelos', 'amarelos', ',', 'as', 'flores', 'amarelos', 'estavam', 'a', 'rodeados', 'de', 'cor', 'azul', '-', 'se', 'amarradas', '.'], ['sao', 'dependentes', 'dos', 'seus', 'mae', 'que', 'lhes', 'deitei', 'dentro', 'do', 'seu', 'pequeno', 'bocul', ',', 'durante', 'dois', 'anos', 'atras', ',', 'o', 'que', 'e', 'um', 'tempo', 'muito', 'longo', 'na', 'vida', '.'], ['a', 'pessoa', 'sobre', 'a', 'linha', 'de', 'assenquasao', 'nao', 'sabe', 'porque', 'nao', 'sabe', 'que', 'um', 'poco', 'de', 'petroleo', 'para', 'obter', 'o', 'petroleo', 'e', 'fazer', 'o', 'dobro', 'do', 'plastico', 'e', 'fazer', 'com', 'o', 'mesmo', '.'], ['e', 'vou', 'apenas', 'ler', 'uma', 'coisa', '.'], ['eu', 'sei', 'que', 'e', 'muito', 'para', 'pedir', 'mas', 'nao', 'sou', 'a', 'primeira', 'sugerir', '.'], ['em', 'varios', 'paises', ',', 'medicos', 'e', 'enfermeiros', 'sao', 'enfermeiros', ',', 'em', 'parte', 'dos', 'alvos', 'dos', 'seus', 'governos', '.'], ['eles', 'faziam', '-', 'lhe', 'o', 'fato', 'ridiculo', 'como', 'esta', '.', '(', 'risos', ')', 'e', 'faziam', 'as', 'suas', 'cobres', 'fibros', ',', 'ou', 'outra', 'coisa', '.'], ['`', '`', '`', '`', \"'\", \"'\", 'partilharem', 'duas', 'maos', ',', 'dois', 'contra', '1000', '.', \"'\", \"'\"], ['fazemos', 'duas', 'coisas', 'diferentes', '.'], ['escrevi', 'uma', 'revista', ',', 'fui', 'insigda', 'para', 'isso', 'quando', 'estava', 'a', 'ser', 'adotado', '.'], ['elas', 'sao', 'sempre', 'usadas', ',', 'mesmo', 'apos', 'o', 'terramoto', 'na', 'china', '.'], ['ja', 'vimos', 'alguns', 'servicos', 'que', 'sao', 'desenhados', 'para', 'nos', 'decidir', 'o', 'que', 'ele', 'apontou', 'para', 'o', 'nosso', 'perfil', 'online', ',', 'na', 'nossa', 'morte', ',', 'mas', 'depois', 'da', 'nossa', 'morte', '.'], ['nao', 'deveria', 'dizer', 'isto', '.'], ['ainda', 'nao', 'e', 'tao', 'simples', '.', 'mas', 'ha', 'uma', 'distincao', 'entre', 'os', 'homens', 'e', 'as', 'mulheres', '.'], ['quero', 'que', 'imaginem', 'como', 'chegamos', 'a', 'forma', 'de', 'fabrico', 'de', 'objetos', 'como', 'este', '\\\\xe2\\\\x80\\\\x94'], ['crianca', ',', 'descobri', 'que', 'a', 'criatividade', 'e', 'a', 'chave', 'para', 'mudar', 'o', 'sonho', 'da', 'realidade', '.'], ['ele', 'pediu', '-', 'lhe', 'a', 'experimentacao', 'em', 'fazer', 'isto', ',', 'tentar', 'coloca', '-', 'lo', 'no', 'outro', 'lado', '.'], ['podem', 'imaginar', 'quantas', 'economias', 'podem', 'fazer', 'isto', 'para', 'a', 'sociedade', '.'], ['eles', 'tem', 'a', 'certeza', 'de', 'que', 'tem', 'ferramentas', 'para', 'fazer', 'coisas', 'como', 'um', 'material', 'de', 'pescado', 'porque', 'a', 'populacao', 'de', 'quatro', 'pessoas', 'tem', 'cerca', 'de', 'quatro', '.', '000', 'pessoas', 'nao', 'era', 'so', 'para', 'manter', 'as', 'habilidades', 'especiais', 'para', 'a', 'tecnologia', 'que', 'se', 'dispiravam', '.'], ['entao', ',', 'uma', 'forma', 'de', 'considerarmos', 'isto', 'e', 'que', 'os', 'bebes', 'e', 'bebes', 'como', 'o', 'setor', 'privado', 'e', 'desenvolvimento', 'da', 'especie', 'humana', '.'], ['se', 'funciona', ',', 'bobina', 'pode', 'salvar', 'vidas', '.'], ['nao', 'e', '?', '(', 'risos', ')', 'embora', 'o', 'mal', 'do', 'mar', 'e', 'uma', 'consequencia', 'da', 'incerteza', '.'], ['e', 'outra', 'coisa', 'interessante', 'e', 'que', 'eles', 'usam', 'esta', 'ideia', 'para', 'se', 'fazer', 'uma', 'ideia', ',', 'que', 'e', 'ter', 'uma', 'hipotese', 'no', 'mundo', ',', 'que', 'parece', 'ser', 'provavel', 'para', 'comecar', '.'], ['ha', 'algo', 'sobre', 'esse', 'tempo', 'de', 'infancia', 'que', 'parece', 'ser', 'interligado', 'a', 'consciencia', 'e', 'a', 'aprendizagem', '.'], ['posso', 'faze', '-', 'lo', 'em', 'tu', '?', '(', 'risos', ')', 'oh', ',', 'sim', ',', 'sim', ',', 'sim', ',', 'va', 'la', '.'], ['o', 'que', 'ainda', 'e', 'mais', 'espantoso', 'e', 'que', 'os', 'bebes', 'dos', '15', 'meses', 'nao', 'faziam', 'isso', ',', 'o', 'que', 'sugere', 'que', 'aqueles', 'de', '18', 'meses', 'tinham', 'feito', 'esta', 'nocao', 'de', 'como', 'a', 'natureza', 'humana', 'nos', 'tres', 'meses', 'no', 'qual', 'eles', 'tinham', 'vivido', 'durante', '15', 'meses', '.'], ['tem', 'seis', 'meses', '.'], ['aqui', 'esta', 'algumas', 'das', 'perguntas', '.', 'as', 'pequenas', 'caminheiem', 'em', 'que', 'nao', 'se', 'apercebeu', 'a', 'ler', '.', 'e', 'o', 'facto', 'de', 'as', 'perguntas', 'eram', 'as', 'criancas', 'que', 'eram', 'realmente', 'instalados', 'em', 'publico', 'a', 'cinco', 'anos', 'a', 'que', 'tem', 'sido', 'feitas', 'nos', 'ultimos', 'cinco', 'anos', '.'], ['o', 'que', 'e', 'que', 'se', 'leva', '?', '(', 'aplausos', ')', 'nao', 'acabei', '.', 'nao', 'me', 'dei', '.'], ['diferem', 'um', 'mt', ':', 'bem', ',', 'nao', 'e', 'bem', 'duvida', '.'], ['foi', 'uma', 'especie', 'muito', 'inteligente', '.'], ['ok', '?', 'o', 'que', 'significa', ',', 'o', 'que', 'e', 'que', 'e', 'que', 'e', 'a', 'percecao', 'dele', ',', 'todos', 'somos', 'como', 'a', 'rabia', '.'], ['(', 'aplausos', ')'], ['o', 'petroleo', 'era', 'quase', 'baixo', '.', 'um', 'nuclear', 'a', 'nos', 'apetia', '.'], ['a', 'ideia', 'e', 'pensar', 'em', 'simonturt', ',', 'o', 'que', 'estas', 'falhas', 'podem', 'ser', ',', 'por', 'lugar', ',', 'em', 'vez', 'de', 'os', 'sistemas', 'que', 'vao', 'destruir', 'os', 'incompiradores', 'ou', 'vao', 'deixar', 'os', 'fraldas', 'de', 'chegar', 'a', 'primeira', 'vez', '.'], ['neste', 'caso', ',', 'os', 'chimpanzes', 'aprendem', 'com', 'que', 'as', 'pessoas', 'fazem', 'um', 'pouco', 'para', 'angariado', 'com', 'rochas', '.'], ['ninguem', 'tem', 'ninguem', 'no', 'planeta', 'que', 'sabe', 'como', 'fazer', 'um', 'rato', 'de', 'computador', '.'], ['sao', 'ligeiramente', 'mais', 'gravidez', '.', 'e', 'apenas', 'um', 'prototipo', '.'], ['no', 'metodo', ',', 'o', 'que', 'fizeram', '?', 'no', 'que', 'e', 'que', 'os', 'resultados', '?'], ['entao', 'a', 'hipotese', 'de', 'alguma', 'hipotese', 'e', 'uma', 'verdadeiravidade', '.'], ['o', 'problema', 'com', 'as', 'perguntas', 'e', 'que', 'elas', 'criam', 'incertezas', '.'], ['ok', ',', 'ok', '.'], ['se', 'nao', 'for', ',', 'o', 'bebe', 'tiver', 'um', 'coracao', 'no', 'coracao', '.'], ['estao', 'sempre', 'a', 'fazer', 'com', 'que', 'se', 'aproximam', 'de', 'selex', 'local', '.'], ['`', '`', 'a', 'pergunta', '`', '`', \"'\", \"'\", 'porque', 'e', 'que', '?', \"'\", \"'\", \"'\", \"'\", 'e', 'uma', 'das', 'coisas', 'mais', 'inseguras', 'que', 'podemos', 'fazer', ',', 'porque', 'se', 'considera', 'num', 'modo', 'de', 'incerteza', '.', \"'\", \"'\"], ['uma', 'pessoa', 'feias', 'e', 'hantetizada', 'a', 'esta', 'viagem', ',', 'mas', 'a', 'pessoa', 'que', 'saiu', 'era', 'uma', 'sobrevivente', ',', 'e', 'acabou', 'por', 'tornar', '-', 'se', 'a', 'pessoa', 'que', 'estava', 'a', 'ser', 'partilhada', '.'], ['agora', 'temos', 'de', 'testar', 'a', 'informacao', '.'], ['e', 'a', 'coisa', 'extraordinaria', 'era', 'que', 'os', 'bebes', 'de', '18', 'meses', ',', 'e', 'estava', 'apenas', 'a', 'andar', 'os', 'crackers', ',', 'e', 'ele', 'estava', 'a', 'dar', 'os', 'crackers', ',', 'mas', 'eles', 'gostavam', '-', 'lhe', 'os', 'brocolizados', ',', 'mas', 'se', 'lhes', 'quiserem', 'que', 'ela', 'gostavassem', 'a', 'brocorreco', '.'], ['eles', 'tem', 'duvidas', 'de', 'uma', 'lingua', ',', 'porque', 'sabemos', 'que', 'tinham', 'o', 'genexicano', 'em', 'si', 'mesmo', 'que', ',', 'que', 'foi', 'descoberto', 'aqui', 'em', 'oxford', ',', 'foi', 'uma', 'pessoa', 'em', 'oxford', '.'], ['como', 'e', 'que', 'chegamos', 'la', '?'], ['aprendemos', 'essas', 'coisas', 'muito', ',', 'mas', 'muito', 'bem', '.'], ['`', '`', 'de', 'sat', 'stutwick', ':', '`', '`', \"'\", \"'\", 'ela', 'continua', 'a', 'ficar', 'a', '?', \"'\", \"'\", \"'\", \"'\", \"'\", \"'\", '(', '`', '`', \"'\", \"'\", 'dri', ')', 'pois', 'sim', '.', \"'\", \"'\"], ['um', 'advogado', 'que', 'nunca', 'foi', 'interessada', 'pela', 'arte', ',', 'nunca', 'tinha', 'visitado', 'o', 'museu', 'da', 'arte', ',', 'a', 'qualquer', 'pessoa', 'a', 'arquitea', 'que', 'pudesse', 'controlar', 'os', 'edificio', 'para', 'os', 'ajudar', 'a', 'fazer', 'parte', 'da', 'escultura', '.'], ['penso', 'que', 'nunca', 'fui', 'puramente', 'pura', '.'], ['e', 'isso', 'permite', '-', 'nos', 'mesmo', 'a', 'fazer', 'perguntas', 'mais', 'dificeis', '.'], ['precisamos', 'de', 'irrecor', 'as', 'pessoas', 'comuns', 'contra', 'a', 'forma', 'como', 'as', 'pessoas', 'podem', 'esconder', 'as', 'suas', 'identidades', 'por', 'detras', 'das', 'sociedades', 'secretas', '.'], ['mas', 'se', 'esses', 'robos', 'interagirem', 'em', 'super', '-', 'caracteristicas', 'de', 'alguem', 'em', 'especial', ',', 'se', 'acelerando', 'centenas', 'delas', 'em', 'centenas', 'de', 'milhares', 'de', 'material', 'dentro', 'da', 'vida', '?'], ['uma', 'admissao', 'com', 'o', 'hospital', 'e', ',', 'a', 'primeira', 'serie', 'de', 'esquizofrenia', ',', 'o', 'diagnostico', 'de', 'esquizofrenia', 'veio', ',', 'e', 'depois', ',', 'pior', 'que', 'tudo', ',', 'e', 'uma', 'sensacao', 'de', 'radiacao', ',', 'de', 'radiacao', ',', 'humildade', 'e', 'de', 'vizinhancantador', 'ao', 'futuro', 'da', 'minha', 'visao', 'e', 'do', 'futuro', '.'], ['bem', ',', 'eu', 'digo', 'isto', ',', 'eu', 'digo', '-', 'me', 'apenas', ',', 'nao', '.'], ['`', '`', '`', '`', \"'\", \"'\", 'deviamos', 'medir', 'isto', '.', \"'\", \"'\", \"'\", \"'\", '`', '`', 'nao', ',', 'deviamos', 'medir', 'isso', '.', \"'\", \"'\"], ['(', 'aplausos', ')', 'obrigado', '.', '(', 'aplausos', ')', 'muito', 'obrigado', '.', '(', 'aplausos', ')'], ['por', 'um', 'lado', ',', 'e', 'um', 'lado', 'ou', 'a', 'frente', ',', 'de', 'outro', 'risco', 'de', '1', ',', 'tem', 'um', 'risco', 'de', 'um', 'lugar', 'em', '20', '.'], ['tudo', 'o', 'que', 'ele', 'fez', 'e', 'fazer', 'e', 'que', 'ele', 'mata', 'um', 'phasco', 'que', 'seja', 'suficientemente', 'grande', 'para', 'ser', 'partilhado', '.'], ['nao', '.', 'normalmente', ',', 'estamos', 'a', 'fazer', 'a', 'vida', 'em', 'algo', 'em', 'que', ',', 'mas', 'se', 'queremos', 'fazer', 'algo', 'diferente', ',', 'temos', 'que', 'colocar', 'um', 'pequenifico', 'na', 'incerteza', '.', 'quando', 'ele', 'entra', 'em', 'olhos', ',', 'ele', 'podia', 'ver', 'o', 'mundo', 'de', 'forma', 'diferente', '.'], ['a', 'montanhas', 'russos', ',', 'cardiorres', '.'], ['este', 'novo', 'metodo', 'de', 'estruturalfar', 'posibilitar', '-', 'me', 'a', 'forma', 'como', 'esta', 'escultural', 'e', 'as', 'transforma', '-', 'las', 'em', 'granrateres', '.'], ['ha', 'duas', 'coisas', 'que', 'sao', 'interessantes', 'sobre', 'isto', '.'], ['o', 'homo', 'era', 'feito', 'a', 'mesma', 'ferramenta', 'durante', '30', '.', '000', 'geracoes', '.'], ['vi', 'de', 'doentes', 'e', 'eu', 'tinha', 'a', 'primeira', 'vez', 'na', 'bloque', 'branca', 'para', 'a', 'primeira', 'vez', 'em', '17', 'anos', ',', 'na', 'verdade', ',', 'desde', 'que', 'tornei', '-', 'me', 'consulumindo', 'com', 'os', 'recursos', 'humanos', '.'], ['e', 'esta', 'e', 'uma', 'das', 'trocas', 'das', 'trocas', ',', 'e', 'que', 'eles', 'criam', 'na', 'verdade', 'epica', 'para', 'mais', 'especial', ',', 'que', 'cria', 'para', 'mais', 'escolhas', 'e', 'por', 'ai', 'adiante', '.'], ['todos', 'os', 'bebes', ',', 'mesmo', 'a', 'berkley', ',', 'gostam', 'de', 'os', 'crackers', 'e', 'nao', 'gostam', 'de', 'os', 'brocolis', '.'], ['`', '`', 'entao', 'disse', ':', '`', '`', \"'\", \"'\", 'olhak', \"'\", \"'\", \"'\", \"'\", '\\\\xe2\\\\x80\\\\x94', 'primeiro', ',', 'o', 'tipo', 'de', 'homem', 'nao', 'pode', 'ser', 'bala', ',', 'como', 'isto', ',', 'com', 'um', 'espelho', ',', 'para', 'o', 'seu', 'espelho', '\\\\xe2\\\\x80\\\\x94', 'disse', ':', '`', '`', \"'\", \"'\", 'sabes', ',', 'vamos', 'a', 'casa', 'dekota', ',', 'oferecendo', '-', 'o', 'para', 'casa', 'e', 'usa', '-', 'lo', 'a', 'uma', 'semana', '.', \"'\", \"'\"], ['bl', ':', 'fantastico', '.', 'e', 'um', ',', 'dois', ',', 'dois', ',', 'publico', ':', 'nao', 'e', '.'], ['depois', 'de', 'criar', 'este', 'modelo', ',', 'tambem', 'aprendemos', 'com', 'o', 'produto', 'em', 'que', 'envolucionar', '.'], ['agora', 'trabalho', 'em', 'nova', 'zelandia', ',', 'a', 'chrischarchurch', '.'], ['mas', 'ha', 'uma', 'grande', 'diferenca', ',', 'que', 'e', 'apenas', 'isso', 'na', 'mama', 'na', 'colonia', '.'], ['e', 'os', 'efeitos', 'secundarios', 'estao', 'a', 'acontecer', 'nos', '50', '%', 'dos', 'pacientes', '.'], ['isto', 'e', 'o', 'que', 'encontramos', 'no', 'teste', 'de', 'banda', 'interroona', '.'], ['e', 'a', 'responsabilidade', 'dos', 'arquitectos', '.'], ['entao', 'tivemos', 'que', 'criar', 'um', '.'], ['obrigado', '.'], ['e', 'na', 'conversa', ',', 'e', '.', '.', '.', '.', '.', '.', 'ca', ':', 'nao', 'interessa', '?'], ['como', 'o', 'outro', 'lado', 'do', 'lado', '.'], ['nao', '.', '(', 'risos', ')', '(', 'risos', ')'], ['uma', 'noite', ',', 'o', 'meu', 'amigo', 'malteteado', 'na', 'amazonia', '.'], ['por', 'outro', 'lado', ',', 'os', 'bebes', 'dos', '15', 'meses', 'estavam', 'a', 'feixeis', 'durante', 'um', 'periodo', 'de', 'cuidado', ',', 'se', 'ela', 'forneceutica', 'como', 'se', 'nao', 'podiam', 'conceber', '.'], ['mas', 'a', 'maioria', 'delas', 'nao', 'sabe', 'nada', '.'], ['mas', 'o', 'que', 'sabemos', 'nos', 'sistemas', 'complexos', '?'], ['como', 'e', 'que', 'isso', 'e', 'possivel', '?'], ['`', '`', 'e', 'depois', 'ela', 'estava', 'a', 'lutar', 'apenas', 'a', 'mao', 'e', 'disse', '`', '`', \"'\", \"'\", 'podes', 'dar', '-', 'me', 'isto', '?', \"'\", \"'\", \"'\", \"'\", \"'\", \"'\", \"'\", \"'\"], ['altecio', 'gik', ':', 'ok', ',', 'a', 'sua', 'primeira', 'hipotese', 'acabou', 'de', 'ser', 'falsificada', '.'], ['`', '`', 'precisamos', 'de', 'lideres', 'empresariados', 'que', 'tem', 'o', 'cranio', ':', '`', '`', \"'\", \"'\", 'o', 'segredo', 'nao', 'e', 'bom', 'para', 'o', 'negocio', '.', \"'\", \"'\"], ['vou', 'mostrar', '-', 'vos', 'uma', 'das', 'minhas', 'seccaos', 'preferidas', 'do', 'quadro', ',', 'e', 'vou', 'mesmo', 'ver', 'os', 'cradras', '.'], ['a', 'volta', 'da', 'casa', ',', 'escolhem', ',', 'por', 'um', 'sitio', 'para', 'as', 'coisas', 'que', 'se', 'perdem', 'facilmente', '.'], ['penso', 'que', 'se', 'eu', 'me', 'dei', 'nas', 'ruas', 'e', 'contar', 'as', 'pessoas', 'que', 'se', 'passa', 'a', 'ver', 'o', 'que', 'esta', 'a', 'acontecer', ',', 'seriam', 'chocados', '.'], ['o', 'que', 'fez', 'e', 'real', ',', 'na', 'verdade', ',', 'e', 'fantastico', '.'], ['podemos', 'medir', 'a', 'melhor', 'que', 'so', 'fazemos', '?'], ['vivi', 'como', 'uma', 'mudanca', 'de', 'geografica', ',', 'que', 'tal', 'como', 'uma', 'mudanca', 'lengica', '.'], ['eram', 'imaginaveis', '.', 'eles', 'estavam', 'a', 'morrer', '.'], ['por', 'isso', ',', 'a', 'parte', 'da', 'marcel', 'linuncia', 'dos', 'medicos', 'e', 'uma', 'maneira', 'de', 'os', 'custos', '.'], ['ja', ':', 'oh', ',', 'vao', '.', 'tem', 'de', 'haver', 'isso', '.'], ['a', 'ultima', 'peca', 'e', 'um', 'objeto', ',', '[', 'que', 'aproprofice', 'a', 'perder', 'a', 'nossa', 'especie', 'de', 'instrumento', ',', 'tambem', 'e', 'um', 'tipo', 'de', 'instrumento', '.'], ['eles', 'sao', 'os', 'cientistas', 'que', 'tem', 'de', 'sair', 'e', 'aprender', 'certas', 'e', 'ter', 'boas', 'ideias', ',', 'e', 'somos', 'a', 'producao', 'de', 'marketing', 'e', 'o', 'marketing', '.'], ['(', 'aplausos', ')'], ['perguntou', 'se', 'podia', 'construir', 'uma', 'obra', 'descandancia', 'permanente', 'para', 'a', 'cidade', '.'], ['veste', 'este', 'vidro', '?'], ['qual', 'e', 'o', 'contexto', 'desse', 'contexto', '?'], ['entao', 'pensei', 'que', ',', 'enquanto', 'arquitectos', ',', 'podiamos', 'ser', 'feito', 'em', 'reconstrucao', 'politicamente', 'a', 'reconstruir', 'a', 'memoria', 'de', 'informacao', '.'], ['e', 'para', 'esta', 'ideia', ',', 'estes', 'passaros', 'sao', 'respeitaveis', '.'], ['parece', 'que', 'a', 'primeira', 'coisa', 'que', 'fizemos', 'foi', 'que', 'um', 'homem', 'trabalhando', 'numa', 'mulher', 'e', 'uma', 'mulher', 'para', 'um', 'homem', '.'], ['como', 'e', 'que', 'a', 'evolucao', 'faz', 'coisas', 'cumiltivas', ',', 'combinacoes', '?'], ['e', 'a', 'percepcao', 'substitui', 'tudo', 'o', 'que', 'pensamos', ',', 'tudo', 'o', 'que', 'sabemos', ',', 'tudo', 'o', 'que', 'nos', 'achamos', ',', 'tudo', 'o', 'que', 'contamos', ';', 'as', 'nossas', 'esperancas', ',', 'roupas', 'que', 'por', 'causamos', ',', 'por', 'causa', 'de', 'acordo', 'com', 'a', 'percecao', '.'], ['`', '`', '`', '`', \"'\", \"'\", 'devido', 'a', 'uma', 'razao', 'que', 'eu', 'sou', 'um', 'simples', '.', \"'\", \"'\", \"'\", \"'\", 'por', 'isso', 'particiei', 'em', 'todos', 'os', 'aspectos', 'da', 'fundacao', 'de', '46666', ',', 'e', 'eu', 'podia', 'entrar', 'em', 'conjunto', ',', 'e', 'com', 'as', 'palestras', 'iniciancias', ',', 'e', 'usando', 'a', 'minha', 'plataforma', 'de', 'muscitada', 'com', 'o', 'meu', 'compromisso', 'e', 'ajudou', '-', 'se', 'com', 'o', 'esforco', '.', \"'\", \"'\"], ['residualmente', ',', 'estudadoam', ',', 'progredir', ',', 'em', 'vez', 'de', 'incapat', 'e', 'espectacular', '.'], ['as', 'nossas', 'metaforas', 'inspiram', 'a', 'experiencia', 'de', 'quem', 'amarras', 'a', 'uma', 'pessoa', 'a', 'extremo', 'ou', 'a', 'doenca', '.'], ['nao', 'e', 'o', 'unico', 'aspecto', 'em', 'brongixo', '.'], ['nao', 'e', 'so', 'ha', 'um', 'trabalhador', 'de', 'americana', 'que', 'nao', 'tem', 'os', 'seus', 'desafios', 'notiscuffords', '.'], ['eu', 'vejo', 'algumas', 'coisas', 'erradas', 'sobre', 'isto', '.'], ['porque', 'e', 'que', 'isso', '?'], ['estou', 'aqui', 'em', 'nova', 'iorque', 'sentada', 'ao', 'lado', 'de', 'um', 'lado', 'de', 'michel', '.', 'e', 'o', 'diretor', 'de', 'um', 'esphado', '.'], ['ha', 'sempre', 'tracos', '\\\\xe2\\\\x80\\\\x94', 'crime', 'que', 'nao', 'existe', '.'], ['`', '`', 'ele', 'olhou', 'para', 'o', 'grupo', 'e', 'disse', ':', '`', '`', \"'\", \"'\", 'destinado', 'a', 'mao', ',', 'tinha', 'esqueci', 'a', 'mao', '.', \"'\", \"'\", \"'\", \"'\", 'ele', 'ficou', 'apertada', ',', 'e', 'depois', 'disse', 'ao', 'grupo', ':', '`', '`', \"'\", \"'\", 'obrigado', '.', \"'\", \"'\"], ['bem', ',', 'porque', 'e', 'que', 'nos', 'apercebemos', 'de', 'nos', 'substituimos', 'uma', 'consertificacao', '?'], ['mas', 'aqui', 'estamos', 'a', 'falar', 'de', 'percepcao', '.'], ['`', '`', 'esta', 'e', '`', '`', \"'\", \"'\", 'os', 'ambaixadores', \"'\", \"'\", \"'\", ',', 'e', 'expantou', 'a', 'nacional', 'de', 'gallery', '.', \"'\", \"'\"], ['contamos', 'com', 'a', 'forma', 'como', 'nos', 'traimos', 'estas', 'criancas', ',', 'melhorias', 'em', 'contribuirem', '.'], ['disseram', '-', 'lhes', 'nao', '.'], ['ok', '?', 'isto', 'e', 'fisica', '.'], ['tinhamos', 'de', 'ser', 'uma', 'coisa', 'para', 'manter', 'o', 'ar', 'na', 'altura', 'em', 'que', 'o', 'ambiente', 'estatalmente', 'correta', 'no', 'rond', '.'], ['em', 'um', 'mes', ',', 'apercebemo', '-', 'nos', 'de', 'nove4', 'metros', 'em', '500', 'metros', 'quadrados', '.'], ['entao', ',', 'reparem', 'na', 'palavra', 'hacker', '.'], ['`', '`', '`', '`', \"'\", \"'\", 'nao', 'deve', 'ficar', 'no', 'pela', '.', \"'\", \"'\", \"'\", \"'\", 'tornei', '-', 'me', 'um', 'membro', 'do', 'carrinhoso', 'e', 'eu', 'sou', 'muito', 'orgulhoso', 'com', 'isso', 'de', 'fazer', 'parte', 'desta', 'associacao', '.', \"'\", \"'\"], ['a', 'questao', 'que', 'podemos', 'perguntar', 'e', ':', 'porque', 'e', 'que', 'as', 'criancas', 'aprendem', 'tanto', '?'], ['acontece', 'que', 'o', 'segredo', 'sao', 'os', 'brocombrosos', '.'], ['algo', 'de', 'farecido', 'pelas', 'montanhas', '.'], ['amy', '?'], ['aqui', 'esta', 'o', 'parlamento', 'e', 'o', 'parlamento', '.'], ['por', 'exemplo', ',', 'quando', 'as', 'vozes', 'me', 'atacarem', 'a', 'minha', 'casa', ',', 'aprendi', 'a', 'interpretar', 'como', 'o', 'meu', 'proprio', 'sentimento', 'de', 'medo', 'e', 'inseguranca', 'no', 'mundo', ',', 'em', 'vez', 'de', 'um', 'perigo', 'e', 'medisse', '.'], ['uma', 'vez', 'por', 'ano', ',', 'publicam', 'o', 'publico', ':', 'quem', 'e', 'o', 'melhor', ',', 'quem', 'e', 'o', 'melhor', ',', 'que', 'e', '?'], ['e', 'isso', 'e', 'tudo', 'sobre', 'todos', '.'], ['e', 'uma', 'das', 'formas', 'de', 'se', 'virem', 'a', 'pandemica', 'da', 'sida', '.'], ['`', '`', 'nao', 'e', 'escrito', 'por', 'mim', '.', 'ele', 'escreveu', '-', 'se', 'com', 'amy', 'e', 'os', 'outros', 'alunos', 'da', 'classe', '.', 'por', 'isso', ',', 'este', 'artigo', 'comecou', 'a', 'ser', '.', \"'\", \"'\", \"'\", '(', 'risos', ')', 'para', '`', '`', \"'\", \"'\", 'a', 'parte', '.', \"'\", \"'\", \"'\", \"'\", ')', '(', 'risos', ')', 'ca', ':', '`', '`', \"'\", \"'\", 'twanzle', ')', \"'\", \"'\", \"'\", ')', 'twin', ':', '`', '`', \"'\", \"'\", 'twin', ':', 'twin', ':', 'twin', ':', 'twin', ':', 'tring', \"'\", \"'\", \"'\", \"'\"], ['aprendemos', 'muito', 'com', 'essas', 'terriveis', '.'], ['mesmo', 'um', 'edificio', 'feito', 'de', 'betao', ',', 'talvez', 'provismou', 'a', 'sua', 'audiencia', '.'], ['ao', 'contrario', ',', 'o', 'media', 'lava', ',', 'o', 'media', 'dos', 'media', 'de', 'mit', 'trabalha', 'em', 'robos', 'que', 'podem', 'interagir', 'ainda', 'mais', 'como', 'homens', '.'], ['aprendem', 'as', 'outras', 'tradicoes', 'com', 'quem', 'se', 'estratamos', 'de', 'pais', '.'], ['o', 'que', 'temos', 'aqui', 'e', 'um', 'ficheiro', 'expresso', '.'], ['estes', 'dois', 'sao', 'reais', '.'], ['continuei', 'a', 'estudar', 'as', 'tradicoes', 'e', 'colaborar', 'com', 'as', 'pessoas', 'com', 'assesinados', ',', 'e', 'com', 'a', 'parceria', 'com', 'os', 'arqueiras', 'em', 'liquilaias', '.'], ['deixem', '-', 'me', 'dar', '-', 'vos', 'um', 'exemplo', '.'], ['muito', 'obrigado', '.'], ['(', 'risos', ')', 'agrade', ':', 'agora', ',', 'esta', 'a', 'proxima', 'ideia', '.'], ['bl', ':', 'ok', '?', 'temos', 'as', 'nossas', 'observacoes', '.', 'temos', 'os', 'nossos', 'dados', '.'], ['portanto', ',', 'o', 'jogo', 'nao', 'e', 'apenas', 'um', 'processo', '.', 'os', 'especialistas', 'dizem', '-', 'vos', 'que', 'e', 'uma', 'forma', 'de', 'ser', '.'], ['eles', 'trabalhavam', ',', 'quatro', 'grupos', 'de', 'trabalho', ',', 'em', 'desenvolvimento', ',', 'catarra', ',', 'maleados', ',', 'mali', ',', 'doencas', 'concretistas', ',', 'por', 'exemplo', ',', 'as', 'crises', ',', 'as', 'crises', 'cardiacas', ',', 'e', 'o', 'cancro', 'da', 'prostata', 'da', 'prostata', '.'], ['era', 'uma', 'das', 'meninas', 'envolvedas', 'neste', 'estudo', ',', 'e', 'agora', 'e', 'uma', 'das', 'mais', 'jovens', 'do', 'mundo', ',', 'a', 'ser', 'publicada', '.', 'agora', ',', 'de', 'alguma', 'forma', '?', 'agora', ',', 'uma', 'vez', 'que', 'se', 'vai', 'aparecerem', 'a', 'cena', 'do', 'palco', ',', 'ela', 'vai', 'ficar', 'mais', 'nova', 'a', 'falar', 'ao', 'ted', '.'], ['basicamente', ',', 'o', 'e', 'absorve', 'pelo', 'oeste', '.'], ['nos', 'nascem', 'seis', 'anos', 'sem', 'ter', 'a', 'certeza', 'de', 'que', 'comprar', '.'], ['mas', 'a', 'proplementacao', 'e', 'se', 'hessssssssi', ',', 'tu', 'esquece', ',', 'entao', 'sabes', ',', 'as', 'oportunidades', 'e', 'nunca', 'o', 'preco', '.'], ['mais', 'de', 'dois', 'milhoes', 'de', 'pessoas', 'cortaram', 'arvores', '.'], ['tirei', 'o', 'mundo', 'inteiro', 'em', 'todos', 'os', 'ultimos', 'dois', 'anos', 'e', 'meio', ',', 'fui', 'para', '12', 'paises', 'diferentes', '.'], ['e', 'a', 'parte', 'do', 'cerebro', 'que', 'permite', 'que', 'os', 'projetarios', 'de', 'encontrar', 'os', 'seus', 'nevol', '.'], ['naquela', 'oportunidade', 'disse', 'a', 'imprensa', 'global', 'que', 'havia', 'um', 'genocidio', 'no', 'seu', 'pais', ',', 'que', 'estava', 'a', 'fazer', 'na', 'nacao', '\\\\xe2\\\\x80\\\\x94', 'que', 'na', 'nacao', 'propainhada', 'na', 'estrada', 'post', '\\\\xe2\\\\x80\\\\x94', 'mil', 'pessoaskansas', 'a', 'ser', 'mais', 'de', 'cada', 'dia', 'e', 'as', 'vitimas', 'mais', 'vulneraveis', ',', 'mais', 'vulneraveis', ',', 'as', 'mulheres', 'estavam', 'afectadas', ',', 'e', 'as', 'mulheres', 'estavam', 'afectadas', 'por', 'todas', 'as', 'mulheres', 'estavam', 'afectadas', '.'], ['mas', 'ao', 'dar', 'a', 'voz', 'a', 'chiarota', '.'], ['adoro', 'essa', 'forma', 'de', 'ver', 'o', 'amor', '.'], ['depois', 'de', 'testarmos', 'o', 'produto', ',', 'estamos', 'agora', 'a', 'vender', 'o', 'ponto', 'de', 'venda', 'no', 'transito', '.', 'tenho', 'uma', 'pergunta', 'para', 'o', 'publico', '.', 'tenho', 'uma', 'pergunta', 'para', 'o', 'publico', ':', 'nanomorado', 'com', 'uma', 'tapao', ',', 'com', 'um', 'preco', 'de', '50', 'rop', ',', 'com', '50', 'ridiculas', ',', 'tenho', 'que', 'ter', 'de', 'conseguir', 'acabar', 'com', 'um', 'mundo', 'de', 'ter', 'que', 'fosse', 'capaz', 'de', 'evitar', 'um', 'modo', 'de', 'ter', 'que', 'fosse', 'ter', 'de', 'ter', 'de', 'sensabilizacao', '.'], ['quero', 'dizer', 'que', 'espero', 'que', 'com', 'esta', 'maneira', 'digital', ',', 'nos', 'tornamos', 'capazes', 'de', 'trabalhar', 'com', 'os', 'seus', 'artistas', 'e', 'nos', 'represtimos', 'de', 'maneira', 'correcta', '.'], ['entao', ',', 'fizeram', 'perguntas', 'que', 'eram', 'importantes', 'para', 'os', 'especialistas', 'cientificos', '.'], ['queriamos', 'saber', 'se', 'as', 'abelhas', 'tambem', 'se', 'as', 'abelhas', 'podiam', 'adaptar', 'novas', 'situacoes', 'usando', 'regras', 'e', 'aprender', 'antes', 'e', 'as', 'abelhas', 'como', 'as', 'abelhas', 'pensavam', '?'], ['a', 'segunda', 'cita', 'e', 'o', 'chefe', 'da', 'baixa', '.'], ['quero', 'criar', 'estes', 'oasis', 'nas', 'nossas', 'casas', 'em', 'espacos', 'urbanos', '.'], ['nos', 'desfantistas', 'ja', 'duram', '.'], ['neste', 'video', ',', 'vemos', 'como', 'um', 'cato', 'destes', 'catastros', 'trazidos', 'ate', 'ao', 'coracao', '.'], ['deviamos', 'celebrar', 'o', 'jogo', '.'], ['por', 'isso', ',', 'eu', 'sou', 'uma', 'unica', 'forma', 'para', 'me', 'tornar', 'um', 'artista', ',', 'e', 'pintei', 'durante', '10', 'anos', ',', 'quando', 'me', 'deu', 'uma', 'bolsa', 'de', 'feltrightright', '.'], ['entao', 'fomos', 'aneltlana', 'este', 'ano', 'de', 'acordacao', 'de', '20', 'toneladas', '.'], ['`', '`', 'obrigado', '.', 'hoje', ',', 'estamos', 'a', 'falar', 'do', 'que', 'este', 'hospital', 'faz', 'com', 'que', 'o', 'meu', 'hospital', 'seja', 'o', 'valor', 'em', 'cuidados', 'de', 'saude', 'nao', 'so', 'os', 'custos', 'mas', 'os', 'custos', ',', 'mas', 'tambem', 'o', 'que', 'importa', 'para', 'os', 'pacientes', ',', 'mas', 'nos', 'vamos', 'fazer', 'com', 'os', 'hospitais', 'e', 'vamos', 'fazer', 'um', 'sistema', 'de', 'saude', 'nem', 'um', 'problema', 'importante', '.', \"'\", \"'\"], ['portanto', ',', 'nao', 'e', 'admiravel', 'que', 'alguns', 'dos', 'meus', 'colegas', 'de', 'vida', 'ficam', 'frustrados', '.'], ['ja', ':', 'eu', 'nao', 'sou', 'certamente', 'correcto', 'em', 'que', 'isso', 'vai', 'acontecer', '.'], ['no', 'ano', 'seguinte', ',', 'em', '1995', ',', 'no', 'japao', ',', 'houve', 'um', 'enorme', 'terramoto', '.'], ['fui', 'para', 'mim', ',', 'fui', 'a', 'balade', ',', 'olhei', 'para', 'os', 'pesarros', 'e', 'ver', 'os', 'pesarem', 'as', 'suas', 'filas', 'na', 'areia', '.'], ['hoje', 'vou', 'falar', '-', 'vos', 'de', 'descobertas', 'inesperadas', '.'], ['(', 'aplausos', ')'], ['depois', 'da', 'pberto', ',', 'saimos', 'da', 'curva', '.'], ['durante', 'os', 'quatro', 'anos', 'do', 'conflito', 'que', 'a', 'rosegue', 'bosnia', 'no', 'inicio', 'dos', 'anos', '80', ',', 'cerca', 'de', '30', '000', 'cidadaos', ',', 'principalmente', ',', 'foram', 'afectadas', ',', 'e', '100', 'cumentagens', ',', '100', '000', 'cumenta', '-', 'se', 'em', 'batalhas', ',', 'e', 'outros', 'foram', 'mortas', 'em', 'batalhas', '.'], ['durante', 'dois', 'anos', ',', 'tentei', 'uma', 'fibra', 'que', 'poderia', 'resistir', 'a', 'ultra', '-', 'vences', 'ultra', '-', 'passageiros', ',', 'areja', '-', 'lo', ',', 'a', 'poluicao', 'e', 'mesmo', 'tempo', ',', 'mesmo', 'bastante', 'suspreendido', 'para', 'mover', 'o', 'vento', '.'], ['foi', 'um', 'momento', 'alto', 'para', 'todos', 'nos', '.'], ['e', ',', 'de', 'facto', ',', 'a', 'desconfiavel', 'em', 'combinar', 'as', 'realidades', 'diferentes', '.'], ['e', 'a', 'voz', 'continuou', ',', 'dias', 'e', 'semanas', ',', 'novamente', ',', 'respontou', 'o', 'que', 'eu', 'fazia', 'a', 'terceira', 'pessoa', '.'], ['nao', 'existia', 'software', 'capaz', 'de', 'expruir', 'estas', 'formas', 'de', 'construcao', 'complexa', 'e', 'de', 'forma', 'a', 'criar', 'a', 'sua', 'visao', 'da', 'gravidade', '.'], ['cinco', 'meses', 'depois', ',', 'voltamos', 'ao', 'sul', 'do', 'sul', 'para', 'avede', '.'], ['e', 'depende', 'de', 'ideias', 'deste', 'homem', ',', 'o', 'sonho', 'de', 'thomas', 'bay', ',', 'que', 'era', 'um', 'estotitegistado', 'e', 'um', 'matematico', 'do', 'seculo', 'xo', '.'], ['temos', 'resproproprovisionar', 'medicos', 'de', 'primeira', 'forma', 'e', 'pacientes', 'para', 'discutir', ',', 'doenca', ',', 'doenca', ',', 'doenca', ',', 'o', 'que', 'e', 'realmente', 'a', 'qualidade', 'do', 'que', 'devemos', 'medir', 'e', 'como', 'torna', '-', 'las', 'disponiveis', 'no', 'mundo', 'global', '.'], ['como', 'sabem', ',', 'uma', 'perna', 'do', 'comparo', 'e', 'antecipado', 'num', 'sitio', '.'], ['o', 'deserto', 'leva', 'a', 'um', 'quilometro', 'ou', 'dois', 'por', 'ano', '.'], ['por', 'um', 'lado', ',', 'havia', 'a', 'minha', 'mae', ',', 'uma', 'mulher', 'que', 'estava', 'a', 'escrever', ',', 'secular', 'moderno', ',', 'ocidente', ',', 'ocidente', '.'], ['mt', ':', 'e', ',', 'na', 'verdade', ',', 'foi', 'para', 'seis', 'siones', 'que', 'recebi', 'o', 'meu', 'primeiro', 'jogo', 'de', 'barro', ',', 'e', 'durante', 'quatro', 'cantos', 'do', 'mundo', ',', 'fiz', 'as', 'quatro', 'cantos', 'de', 'cambros', 'de', 'bicicleta', 'e', 'raparigas', ',', 'maridos', 'e', 'maridos', ',', 'maridos', 'e', 'ate', 'mesmo', 'maridos', '.', '(', 'aplausos', ')', '(', 'aplausos', ')', 'e', 'voltavam', 'ver', ':', 'comentario', 'e', 'a', 'rainha', ',', 'que', 'eles', 'sao', 'festigantes', '.'], ['mostra', 'apenas', 'que', 'ambos', 'foram', 'construidos', 'para', 'se', 'adaptarem', 'a', 'mao', 'do', 'homem', '.'], ['`', '`', 'tenho', 'um', 'forno', 'encheiro', 'de', 'plastico', ',', 'ok', '?', \"'\", \"'\", \"'\"], ['mas', 'hoje', 'sabemos', 'que', 'uma', 'falta', 'de', 'oxigenio', 'tambem', 'pode', 'causar', '.'], ['mas', 'se', 'quisermos', 'pensar', 'como', 'estes', 'papildes', ',', 'ter', 'uma', 'abertura', 'de', 'mente', 'aberta', ',', 'uma', 'abertura', 'a', 'imaginacao', ',', 'a', 'imaginacao', ',', 'a', 'criatividade', ',', 'talvez', ',', 'talvez', ',', 'pelo', 'menos', ',', 'possamos', 'levar', 'a', 'pensar', 'em', 'criancas', 'a', 'pensar', 'em', 'como', 'criancas', '.'], ['e', ',', 'muito', ',', 'e', 'eu', 'fiz', 'isto', 'que', 'chamo', 'o', 'poder', 'zoom', '\\\\xe2\\\\x80\\\\x94', 'podem', '-', 'se', 'fazer', 'apenas', 'amprecipar', '.'], ['foi', 'descoberta', 'por', 'grande', 'grantona', 'em', '198', '.'], ['(', 'risos', ')', 'e', 'ele', 'encontra', '-', 'se', 'que', 'todos', 'vos', 'o', 'diretor', 'financeiros', ',', 'astrofisicas', ',', 'ultrapassoura', '.'], ['lembro', '-', 'me', 'de', 'ser', 'muito', 'boa', 'para', 'a', 'minha', 'infancia', '.'], ['so', 'tem', 'de', 'ter', 'uma', 'oportunidade', '.', 'a', 'minha', 'oportunidade', 'chegou', 'a', 'minha', 'oportunidade', 'e', 'o', 'projecto', 'de', 'abelhas', 'black', 'blawe', '.'], ['nada', 'de', 'pessoal', '.'], ['e', 'este', 'tipo', 'de', 'comportamento', 'que', 'nos', 'afeta', 'a', 'todos', 'nos', '.'], ['ha', '14', 'anos', ',', 'estava', 'a', 'procura', 'de', 'uma', 'beleza', 'em', 'relacao', 'as', 'coisas', 'tradicionais', ',', 'as', 'formas', 'tradicionais', '.'], ['o', 'cerebro', 'toma', 'informacao', 'que', 'nao', 'tem', 'sentido', 'e', 'o', 'que', 'significa', 'que', 'nunca', 'e', 'o', 'que', 'nunca', 'e', 'a', 'nossa', 'visao', ';', 'nunca', 'estamos', 'a', 'ver', 'a', 'informacao', ',', 'nao', 'nos', 'vemos', 'que', 'era', 'util', 'namodela', '.'], ['era', 'a', 'autosssuasao', '.'], ['e', 'aqui', 'esta', 'uma', 'mulher', 'gradestuta', 'que', 'e', 'a', 'sugestao', ',', 'e', 'deixamo', '-', 'nos', 'todas', 'as', 'duas', ',', 'porque', 'somos', 'capazes', 'de', 'confrontados', ',', 'porque', 'sabemos', 'que', 'esta', 'jovem', 'recebe', 'uma', 'jovem', 'mulher', 'para', 'que', 'ela', 'seja', 'um', 'centro', 'de', 'vida', 'para', 'cuidar', 'da', 'crianca', '.'], ['`', '`', 'o', 'mattoney', ',', 'um', 'especialista', 'em', 'visao', ',', 'disse', ':', '`', '`', \"'\", \"'\", 'este', 'artigo', 'e', 'lindo', '.', \"'\", \"'\"], ['entao', ',', 'eu', 'sou', 'perguntada', ':', 'a', 'progredir', 'no', 'fundo', 'do', 'perda', 'dos', 'custos', ',', 'e', 'o', 'que', 'esquecemo', '-', 'nos', 'no', 'doente', '?'], ['com', 'a', 'lingua', 'nos', 'devemos', 'transferir', 'ideias', 'que', 'entendemos', 'uns', 'com', 'os', 'outros', '.'], ['a', 'eletricidade', 'e', 'tambem', 'esta', 'imprevisivel', ',', 'e', 'tambem', 'a', 'menranvisivel', ',', 'e', 'com', 'essas', 'condicoes', 'instantagens', ',', 'a', 'idade', 'de', '17', 'anos', ',', 'pressssionar', 'com', 'amigos', ',', 'no', 'inverno', ',', 'e', 'estavamos', 'a', 'presunciar', 'um', 'banho', 'de', 'banho', 'de', 'banho', '.'], ['entao', ',', 'proponho', 'uma', 'ideia', 'para', 'melhorar', 'a', 'situacao', ',', 'usando', 'tubos', 'de', 'cartografa', 'e', 'muito', 'barata', ',', 'mas', 'o', 'meu', 'preco', 'e', 'muito', 'baixo', ',', 'mas', 'o', 'meu', 'preco', 'e', 'apenas', '50', 'dolares', 'por', 'unidade', '.'], ['se', 'olharmos', 'para', 'os', 'bebes', 'e', 'bebes', ',', 'vemos', 'algo', 'muito', 'diferente', '.'], ['e', 'esta', 'e', 'uma', 'versao', 'de', 'pedra', 'da', 'sua', 'historia', ',', 'embora', 'ele', 'disse', 'em', 'termos', 'de', 'comercio', 'entre', 'paises', '.'], ['a', 'incerteza', 'e', 'uma', 'coisa', 'muito', 'ma', '.', 'do', 'ponto', 'da', 'evolucao', 'da', 'evolucao', ',', 'e', 'algo', 'mau', '.', 'se', 'nao', 'e', 'seguro', 'que', 'seja', 'um', 'predador', ',', 'e', 'demasiado', 'tarde', 'demais', '.'], ['isto', 'e', ',', 'eles', 'sao', 'especializados', 'no', 'processo', 'de', 'saude', '.'], ['e', ',', 'de', 'facto', ',', 'o', 'cerebro', 'das', 'bebes', 'parece', 'ser', 'o', 'computador', 'mais', 'profrontados', 'do', 'planeta', '.'], ['este', 'e', 'o', 'meu', 'cerebro', '.'], ['saber', 'que', 'a', 'china', 'cresce', 'no', 'mercado', 'e', 'no', 'estado', '.'], ['durante', 'muitos', 'anos', ',', 'os', 'cirurgioes', 'tiveram', 'de', 'ter', 'os', 'melhores', 'resultados', 'no', 'mundo', ',', 'do', 'menos', 'do', 'que', 'os', 'meus', 'resultados', 'eram', 'os', 'resultados', ',', 'o', 'que', 'eles', 'nao', 'eram', 'muitos', 'deles', '.'], ['e', 'esta', 'e', 'a', 'prova', 'de', 'que', 'as', 'pessoas', 'comecaram', 'a', 'trocar', 'entre', 'grupos', '.'], ['e', 'o', 'que', 'se', 've', 'e', 'que', 'este', 'menino', 'vai', 'ter', 'sucesso', 'cinco', 'oportunidades', 'de', 'espaco', 'para', 'o', 'espaco', 'de', '2', 'minutos', '.'], ['podem', 'dizer', '-', 'me', 'que', 'e', 'uma', 'boa', 'ideia', ',', 'mas', 'e', 'apenas', 'uma', 'ideia', '.'], ['continua', 'a', 'melhorar', '.'], ['`', '`', 'e', 'enquanto', 'aprendemos', 'a', 'nossa', 'casa', 'de', 'soltar', '-', 'me', ',', 'o', 'meu', 'melhor', 'amigo', ',', '`', '`', \"'\", \"'\", 'porque', 'e', 'que', 'alguem', 'nao', 'iria', 'inventar', 'alguma', 'coisa', 'que', 'se', 'poderia', 'precisar', 'de', 'ir', 'a', 'sua', 'pele', '?', \"'\", \"'\", \"'\", \"'\", 'eu', 'estava', 'a', 'falar', 'de', 'uma', 'casa', '?', '`', '`', \"'\", \"'\", 'eu', 'estava', 'a', 'falar', ',', '`', '`', \"'\", \"'\", 'eu', 'disse', ':', '`', \"'\", \"'\", 'eu', 'disse', ':', '`', \"'\", \"'\", 'eu', 'disse', ':', '`', \"'\", \"'\", 'eu', 'disse', ':', '`', \"'\", 'eu', 'estava', 'a', 'fazer', 'uma', 'coisa', 'que', 'eu', 'estava', 'a'], ['entao', ',', 'testamos', 'esta', 'nova', 'nova', 'e', 'de', 'certa', 'hipotese', '.'], ['o', 'que', 'os', 'cientistas', 'fazem', 'e', 'que', 'tem', 'uma', 'hipotese', 'que', 'pensa', 'que', 'ele', 'mais', 'provavel', 'que', 'comecar', 'a', 'comecar', '.'], ['(', 'risos', ')', 'mas', 'o', 'que', 'betts', 'fez', 'foi', 'ser', 'um', 'pouco', 'de', 'todos', 'os', 'boleros', '.'], ['outro', 'exemplo', ':', 'um', 'dos', 'meus', 'insectos', ',', 'que', 'adoro', 'odiano', ',', 'e', 'o', 'mosquito', '.', 'esta', 'o', 'anne', 'de', 'um', 'chique', ',', 'ou', 'mosquito', '.'], ['e', 'agora', 'que', 'os', 'acontecimentos', 'comecaram', 'a', 'superar', 'um', 'pouco', 'rapidamente', '.'], ['zake', 'nao', 'e', 'o', 'meu', 'nome', '.'], ['(', 'aplausos', ')'], ['em', '2004', ',', 'a', 'sankan', ',', 'depois', 'do', 'terramoto', 'suctraido', 'e', 'o', 'tsunami', ',', 'reconstrutora', 'as', 'aldeias', 'islamicas', 'dos', 'pes', 'das', 'fas', 'islamicas', '.'], ['`', '`', 'nao', 'deve', 'ser', 'surpreendente', 'se', 'voces', 'acham', 'que', ',', 'na', 'wikipedia', ',', 'ha', '8', 'filmes', ',', '140', 'cancoes', ',', '2k', 'e', 'um', 'romance', 'de', 'que', 'o', 'titulo', 'e', '`', '`', \"'\", \"'\", 'amor', '.', \"'\", \"'\", \"'\", \"'\", 'uma', 'hora', 'mais', 'tarde', ',', 'e', 'o', 'rendimento', '`', '`', \"'\", \"'\", 'o', 'quarto', ',', 'rendimento', 'no', 'quarto', 'da', 'sala', '.', \"'\", \"'\"], ['(', 'aplausos', ')'], ['essencialmente', ',', 'isso', 'fez', '-', 'se', 'transgrafar', 'uma', 'posicao', 'agressiva', 'como', 'uma', 'especie', 'de', 'guerra', 'civil', 'psiquiatra', ',', 'e', 'tem', 'o', 'seu', 'aumento', 'de', 'peso', ',', 'e', 'isso', 'fez', 'um', 'aumento', 'de', 'voz', 'de', 'voz', 'que', 'se', 'tornaram', 'tao', 'projeticada', '.'], ['nos', 'estados', 'unidos', 'da', 'america', ',', 'o', 'numero', 'era', 'tres', 'vezes', 'mais', 'alta', 'do', 'que', 'em', 'suecia', '.'], ['rapaz', ':', 'oh', ',', 'porque', 'as', 'luzes', 'sonhas', 'vao', 'aqui', '.'], ['ainda', 'ha', 'novos', 'obstaculos', '.'], ['a', 'licenciatura', 'e', 'apontou', '-', 'se', ';', 'mas', 'os', 'meus', 'pinturas', 'nao', 'estavam', 'sempre', 'la', '.'], ['entao', 'criamos', 'o', 'que', 'chamamos', 'o', 'cerebro', 'coletiva', '.'], ['estava', 'claramente', 'a', 'fazer', 'algo', 'mais', 'barato', '.'], ['tinha', '498', '000', 'pessoas', 'para', 'preparar', 'o', 'jantar', 'em', 'todos', 'os', 'adultos', '.'], ['nos', 'ultimos', 'anos', ',', 'vimos', 'um', 'real', 'excecional', 'de', 'transparencia', 'no', 'tema', 'da', 'propriedade', 'das', 'sociedades', '.'], ['esta', 'realidade', 'e', 'conhecida', 'pelas', 'sociedades', 'desenvolvidas', '.'], ['e', 'o', 'que', 'aconteceu', 'no', 'japao', 'ha', 'dois', 'anos', 'atras', ',', 'no', 'norte', 'do', 'japao', '.'], ['se', 'quisermos', 'pensar', 'em', 'como', 'manter', 'uma', 'forma', 'de', 'consultora', 'uma', 'consciencia', 'de', 'que', 'adultos', ',', 'penso', 'que', 'a', 'melhor', 'coisa', 'em', 'que', 'estamos', 'a', 'pensar', 'em', 'que', 'somos', 'uma', 'nova', 'situacao', 'que', 'nunca', 'temos', 'no', 'mundo', ',', 'quando', 'nunca', 'temos', 'desperceizens', ',', 'quando', 'o', 'tomate', 'de', 'um', 'amor', 'ou', 'uma', 'cidade', ',', 'quando', 'somos', 'capazes', 'de', 'uma', 'cidade', 'para', 'a', 'primeira', 'vez', '.'], ['queriamos', 'saber', 'se', 'os', 'bebes', 'e', 'criancas', 'pudessem', 'realmente', 'entender', 'essa', 'coisa', 'muito', 'sobre', 'outras', 'pessoas', '.'], ['eles', 'sao', 'muito', 'bons', 'para', 'considerar', 'as', 'sementes', ',', 'e', 'nao', 'sao', 'muito', 'bons', 'a', 'fazer', 'o', 'que', 'seja', '.'], ['de', 'certa', 'forma', ',', 'a', 'fazer', '.'], ['entao', ',', 'se', 'adicionarmos', 'regras', 'a', 'um', 'jogo', ',', 'obtemos', 'um', 'jogo', 'a', 'regras', '.'], ['entao', ',', 'a', 'razao', 'pela', 'qual', 'perde', 'as', 'nossas', 'chaves', ',', 'a', 'lua', 'e', 'associaram', '.'], ['perguntem', '-', 'se', 'quanto', 'tempo', 'seria', 'preciso', 'trabalhar', 'para', 'levarem', 'a', 'vossa', 'vida', 'para', 'ler', 'um', 'livro', 'feliz', '.'], ['(', 'aplausos', ')', 'esta', 'interseccao', 'estava', 'fumada', 'e', 'anguanda', '.'], ['ha', 'cinco', 'anos', ',', 'tirei', 'um', 'ano', 'de', 'sabbatica', ',', 'e', 'voltei', 'a', 'medicina', 'ou', 'tinha', 'feito', 'os', 'meus', 'estudos', '.'], ['mas', 'tambem', 'sou', 'a', 'razao', 'para', 'as', 'ligacoes', 'das', 'ligacoes', 'que', 'as', 'pessoas', 'constroem', 'ideias', 'e', 'a', 'pessoa', 'a', 'conhecerem', '-', 'se', 'como', 'nunca', '.', 'estou', 'na', 'tecnologia', ',', 'e', 'entao', 'a', 'nivel', 'de', 'vida', 'acelerada', '.'], ['no', 'fim', 'de', '70', 'anos', ',', 'havia', 'um', 'grupo', 'de', 'cirurgioes', 'os', 'obsergubario', 'que', 'se', 'retronava', 'reformava', 'durante', 'o', 'seu', 'encontro', 'e', 'disculinio', ',', 'e', 'eles', 'discundam', 'diferentes', 'de', 'um', 'sensor', 'de', 'tratamento', 'para', 'o', 'harcando', 'da', 'projeticacao', '.'], ['sao', 'extremamente', 'pobres', ',', 'e', 'eles', 'ficam', 'muito', 'pobres', 'de', 'frios', 'com', 'projetados', 'durante', 'a', 'epoca', 'das', 'chuvas', '.', 'em', 'reflefundacoes', '.', 'na', 'reflectida', '.', 'u', '.', 'u', '.', '.', '.', '.', '.', '.', '.', '.', '.', '.', '.', 'nos', 'demos', 'apenas', 'nos', 'demos', 'apenas', 'os', 'refugiados', 'e', 'os', 'refugiados', ',', 'como', 'isso', 'tinham', 'que', 'cortar', 'arvores', ',', 'como', 'esta', '.'], ['mas', 'hoje', 'vamos', 'agora', 'todos', 'os', 'arquivos', 'de', 'arquivos', 'incrivelmente', 'rico', 'que', 'continuara', 'na', 'nuvem', ',', 'anos', 'apos', 'a', 'nossa', 'morte', '.'], ['entao', 'vamos', 'escrever', 'isto', 'e', 'tentar', 'fazer', '-', 'lhe', 'publica', '.', 'ok', '?', 'temos', 'de', 'lhe', 'escrever', '.'], ['o', 'juiz', 'robert', 'o', 'disting', '.'], ['e', 'isto', 'porque', 'parem', 'de', 'pensar', 'em', 'voces', 'e', 'o', 'que', 'ganha', 'ou', 'a', 'tua', 'relacao', 'para', 'comecar', 'a', 'pensar', 'sobre', 'o', 'que', 'tem', 'de', 'oferecer', '.'], ['ola', '.', 'sou', 'arquitecto', '.'], ['estavamos', 'a', 'voltar', 'atras', '.'], ['e', 'a', 'resposta', 'e', 'que', ',', 'nao', 'so', ',', 'nao', 'so', 'se', 'trata', 'para', 'o', 'progresso', 'tecnologica', ',', 'podem', 'faze', '-', 'lo', 'de', 'forma', 'a', 'sair', '.'], ['eles', 'tem', 'uma', 'identidade', 'propria', '.'], ['li', '-', 'me', 'sobre', 'o', 'recente', 'terramoto', 'no', 'chile', 'e', 'o', 'tsunami', 'que', 'se', 'esta', 'a', 'acontecer', 'em', 'todo', 'o', 'oceano', 'pacifico', '.'], ['ainda', 'nao', 'tem', 'os', 'fundos', 'para', 'os', 'fundos', ',', 'mas', 'agora', 'so', 'me', 'registado', 'estas', 'esculturas', 'nas', 'cidades', 'pelo', 'mundo', 'que', 'tem', 'mais', '.'], ['`', '`', '`', '`', 'ela', 'abre', 'a', 'porta', '.', \"'\", \"'\", \"'\", \"'\"], ['este', 'e', 'o', 'bloco', 'de', 'notas', 'do', 'sonho', 'de', 'notas', 'de', 'gay', ','], ['tem', 'de', 'passar', 'por', 'um', 'momento', 'para', 'a', 'respovar', '.'], ['eu', 'tinha', 'tido', 'observado', 'total', 'de', 'repercupcoes', ':', 'voz', 'espalhadas', ',', 'visao', 'grosses', ',', 'conflectivados', 'e', 'implementacao', '.'], ['entao', 'vou', 'contar', '-', 'vos', 'para', 'voces', ',', 'para', 'que', 'nao', 'o', 'fizemos', 'em', 'todos', 'os', 'dias', '.'], ['e', 'sao', 'criancas', 'como', 'eles', 'sao', 'os', 'meus', 'numeros', ',', 'como', 'um', 'numero', 'de', 'ofestateis', 'porque', 'a', 'familia', 'foi', 'espalhada', 'pelo', 'virus', 'sida', '.'], ['em', 'ultima', 'analise', ',', 'alguns', 'medicos', 'vao', 'falar', 'hoje', 'que', 'nao', 'tem', 'liberdade', 'e', 'de', 'fazer', 'as', 'escolhas', 'que', 'estao', 'a', 'ser', 'boas', 'para', 'os', 'seus', 'pacientes', '.'], ['por', 'um', 'lado', ',', 'ha', 'um', 'colorido', 'de', 'carlena', '.'], ['eu', 'estudei', 'os', 'numeros', 'comigo', 'mesmo', '.'], ['penso', 'que', 'muitas', 'pessoas', 'estao', 'a', 'encontrar', 'este', 'mundo', 'empurrado', 'e', 'confundir', '-', 'se', 'e', 'que', 'e', 'dificil', 'compreender', 'como', 'o', 'mundo', 'tem', 'funciona', '.'], ['somos', 'apenas', 'os', 'nanopoudicados', 'da', 'rede', '.'], ['ha', 'muitas', 'outras', 'coisas', 'a', 'descobrir', ',', 'mas', 'nao', 'tenho', 'tempo', '.'], ['vamos', 'literalmente', 'abra', '-', 'lo', 'ate', 'ao', 'topo', 'de', 'dor', '.'], ['o', 'amor', 'e', 'poderoso', 'e', 'as', 'vezes', 'mais', 'doloroso', 'e', 'nos', 'exploramos', 'as', 'nossas', 'palavras', 'e', 'as', 'nossas', 'historias', 'e', 'as', 'nossas', 'historias', 'estao', 'a', 'preparar', '-', 'nos', 'para', 'o', 'que', 'amor', 'e', 'doloroso', '.'], ['nao', 'temos', 'nada', 'a', 'fazer', '.', 'tudo', 'o', 'que', 'fizemos', 'foi', 'aprender', '.'], ['imaginem', 'se', 'todos', 'nos', 'somos', 'menos', 'complicados', '.'], ['alguns', 'animais', ',', 'como', 'as', 'galinhas', 'parecem', 'ser', 'usadas', 'para', 'fazer', 'uma', 'unica', 'coisa', 'muito', 'bem', '.'], ['e', 'isso', 'que', 'teriam', 'de', 'dizer', '.', 'nao', '?', 'e', 'porque', '?'], ['mas', ',', 'de', 'facto', ',', 'este', 'detectado', 'de', 'um', 'pouco', 'estranho', '.'], ['o', 'nosso', 'hemisferio', 'esquerdo', 'perturbando', 'de', 'forma', 'linear', 'e', 'medica', '.'], ['(', 'aplausos', ')'], ['`', '`', 'se', 'ele', 'fosse', 'a', 'hamburgo', ',', 'numa', 'clinica', ',', 'chamado', '`', '`', \"'\", \"'\", 'martinki', \"'\", \"'\", \"'\", '-', 'kikiki', ',', 'o', 'risco', 'de', '1', '.', \"'\", \"'\"], ['cresci', 'no', 'limop', ',', 'na', 'fronteira', 'lepipo', 'e', 'multibia', ',', 'numa', 'pequena', 'cidade', 'chamada', 'modera', '.'], ['no', 'entanto', ',', 'o', 'entanto', ',', 'mas', 'esta', 'a', 'acontecer', '.'], ['uma', 'encorajamento', 'para', 'que', 'o', 'outro', 'em', 'vivive', '.'], ['voz', ':', 'marco', 'nao', 'sabia', 'que', 'fosse', 'possivel', 'fazer', 'isto', '.', '(', 'risos', ')', 'mt', ':', '\\\\xe2\\\\x99\\\\xab', 'os', 'seus', 'olhos', 'de', 'um', 'bincel', 'de', 'encontrar', '52', ',', 'como', 'fazemos', 'parte', 'de', 'um', 'buzbrado', 'cinco', 'semanas', 'num', 'ano', '?'], ['este', 'edificio', 'tornou', '-', 'se', 'prometido', 'em', 'romman', '.'], ['hoje', ',', 'mais', 'de', '2', ',', '5', 'mil', 'milhoes', 'de', 'pessoas', 'no', 'mundo', 'nao', 'tem', 'acesso', 'a', 'agua', 'e', 'no', 'saneamento', '.'], ['so', '.'], ['`', '`', 'foi', 'tipo', ':', '`', '`', \"'\", \"'\", 'faz', '-', 'me', \"'\", \"'\", \"'\", '.', \"'\", \"'\"], ['e', 'isso', 'que', 'sabemos', 'sobre', 'como', 'a', 'consciencia', 'adulta', '.'], ['um', 'e', 'um', 'harrido', 'de', 'um', 'milhao', 'de', 'anos', 'do', 'tipo', 'de', 'anos', 'feita', 'pelo', 'tipo', 'de', 'homo', 'foi', 'feita', 'pelo', 'homo', '.'], ['e', 'o', 'numero', 'de', 'pessoas', 'que', 'tem', 'de', 'tomar', 'um', 'medicamento', ',', 'de', 'uma', 'cirurgia', 'medica', ',', 'para', 'que', 'uma', 'pessoa', 'seja', 'guenta', '.'], ['descobri', 'que', 'um', 'grande', 'numero', 'de', 'refugiados', 'sinatosfens', 'suistrados', '-', 'se', 'numa', 'igreja', 'catolica', '\\\\xe2\\\\x80\\\\x94', 'tudo', 'o', 'edificio', 'foi', 'destruida', '.'], ['aqui', 'esta', 'o', 'alfabeto', 'matter', '.'], ['tudo', 'o', 'que', 'tem', 'de', 'fazer', 'e', 'ler', 'o', 'que', 'e', 'que', 'se', 've', '?'], ['algumas', 'sao', 'obviados', ',', 'outras', 'vezes', 'menos', '.'], ['mas', 'a', 'diferenca', 'e', 'que', 'estas', 'culturas', 'nunca', 'se', 'desenvolvem', ',', 'nunca', 'cresce', ',', 'a', 'acumula', ',', 'nunca', 'combinam', 'e', 'a', 'razao', 'e', 'a', 'razao', 'de', 'sexo', ',', 'para', 'saber', 'sexo', 'por', 'nao', 'haver', 'ideias', '.'], ['eles', 'trabalham', 'no', 'campo', '.'], ['e', 'assim', 'as', 'duas', 'partes', 'sao', 'os', 'seus', 'niveis', 'de', 'vida', 'respeitados', 'pelo', 'nivel', 'sexual', 'como', 'o', 'trabalho', 'sexual', '.'], ['no', 'ecra', 'pelo', 'ecra', 'por', 'tras', ',', 'podem', 'ver', 'o', 'que', 'ouvimos', 'por', 'valor', ',', 'os', 'resultados', 'que', 'interessavam', 'para', 'os', 'pacientes', 'comparados', 'com', 'o', 'dinheiro', 'que', 'gastamos', '.'], ['`', '`', 'imaginem', 'que', 'se', 'afastamos', 'no', 'medico', 'e', 'disse', ':', '`', '`', \"'\", \"'\", 'acabei', 'de', 'receber', 'os', 'resultados', ',', 'a', 'vossa', 'taxa', 'de', 'ciszona', 'e', 'alta', 'qualidade', '.', \"'\", \"'\"], ['deixa', '-', 'se', 'criar', 'um', 'hometro', 'online', ',', 'os', 'vossos', 'seres', 'caros', ',', 'com', 'fotografias', ',', 'videos', 'e', 'historias', ',', 'e', 'historias', 'que', 'podem', 'publicar', 'depois', 'da', 'vossa', 'morte', '.'], ['no', 'proximo', 'ano', ',', 'temos', 'a', 'oportunidade', 'de', 'lidar', 'oito', 'doencas', ',', 'no', 'ano', 'seguinte', ',', '16', '.'], ['e', 'quem', 'perguntar', 'melhor', 'do', 'que', '25', 'criancas', 'de', 'oito', 'anos', '?'], ['elas', 'estao', 'convencidass', 'que', 'vao', 'ganhar', 'a', 'mesma', 'coisa', 'em', 'jogos', 'de', 'jogos', '.'], ['claro', 'que', 'todos', 'os', 'chocas', 'e', 'que', 'os', 'niveis', 'de', 'malaria', 'tem', 'um', 'aumento', 'dos', 'riscos', 'cardiovas', 'cardiacos', ',', 'crises', ',', 'de', 'acesso', '.'], ['aveli', 'chamava', '-', 'se', 'virus', '.', 'nasceu', '.'], ['e', ',', 'na', 'verdade', ',', 'este', 'cafe', ',', 'o', 'que', 'tem', 'bonu', ',', 'imitando', 'os', 'neurotranstrantes', 'dos', 'bebes', '.'], ['sao', 'coisas', 'bastante', 'obvias', '.'], ['os', 'eua', 'tem', ',', 'para', 'muitas', 'doencas', ',', 'uma', 'qualidade', 'que', 'e', 'inquietada', 'a', 'media', 'de', 'ocde', 'na', 'ocde', 'na', 'ocde', 'na', 'ocde', '.'], ['ha', 'literalmente', 'milhares', 'de', 'patentes', 'em', 'genes', 'humanos', '.'], ['pediram', '-', 'me', 'para', 'projetar', 'o', 'edificio', ',', 'porque', 'o', 'tema', 'da', 'expressa', 'o', 'exploramos', 'os', 'problemas', '.'], ['qualquer', 'um', 'de', 'voces', '\\\\xe2\\\\x80\\\\x94', 'independentemente', 'de', 'que', 'seja', 'pobre', 'ou', 'pobre', ',', 'ou', 'menos', 'uma', 'casa', 'bonita', '.'], ['nao', 'se', 'limita', 'ao', 'proprio', '.'], ['perguntei', 'a', 'marca', 'da', 'cerveja', ',', 'porque', 'na', 'altura', 'de', 'participar', 'esta', 'altura', ',', 'a', 'marca', 'das', 'cervejas', 'tinha', 'uma', 'cerveja', 'vermelhas', ',', 'o', 'que', 'nao', 'vai', 'ser', 'com', 'a', 'cor', 'de', 'cor', 'descoleticacao', 'de', 'caruagem', 'de', 'agua', '.'], ['e', 'dificil', 'acreditar', 'que', 'o', 'que', 'eu', 'tinha', 'agora', 'tinha', 'feito', 'agora', 'desenhado', 'de', 'forma', 'permanente', ',', 'e', 'nao', 'tinha', 'perdido', 'nada', '.'], ['tem', 'um', 'impacto', 'incrivel', 'sobre', 'as', 'pessoas', 'que', 'vivem', 'diretamente', 'com', 'os', 'efeitos', 'do', 'virus', '.'], ['a', 'ocde', ',', 'frequentemente', ',', 'a', 'qualidade', 'dos', 'cuidados', 'de', 'saude', 'ou', 'podem', 'encontrar', 'os', 'dados', 'para', 'todos', 'os', 'paises', '.'], ['`', '`', 'vamos', 'voltar', 'a', 'esta', 'imagem', 'de', 'harrido', 'e', 'perguntem', '-', 'se', ':', '`', '`', \"'\", \"'\", 'quem', 'fazia', 'e', 'que', '?', \"'\", \"'\", \"'\", 'a', 'hartuxi', 'com', 'a', 'pedra', 'para', 'ele', '.', \"'\", \"'\"], ['embora', 'eu', 'nao', 'sabia', 'mais', 'sobre', 'o', 'que', 'me', 'lembro', ',', 'lembro', '-', 'me', 'do', 'que', 'me', 'senti', 'com', 'o', 'que', 'senti', 'a', 'partir', 'dai', '.'], ['penso', 'que', 'a', 'capacidade', 'de', 'compreender', 'as', 'maquinas', 'de', 'compreender', 'a', 'linguagem', 'humana', 'e', 'lidar', 'com', 'muitos', 'dados', 'continua', 'a', 'melhorar', ',', 'ira', 'mesmo', 'analisar', 'com', 'uma', 'vida', 'inteira', 'de', 'conteudo', '-', 'tweet', ',', 'as', 'fotos', ',', 'as', 'fotos', ',', 'as', 'mensagens', 'de', 'blogues', '\\\\xe2\\\\x80\\\\x94', 'as', 'mensagens', 'de', 'blogues', '\\\\xe2\\\\x80\\\\x94', 'que', 'produzimos', 'em', 'grande', 'escala', '.'], ['ok', ',', 'voltemos', 'a', 'mul', '.', 'el', '.'], ['e', 'facil', 'fazer', 'perguntas', 'sobre', 'como', 'a', 'vida', 'comeca', ',', 'ou', 'sobre', 'o', 'que', 'se', 'espalha', 'para', 'alem', 'do', 'universo', ',', 'mas', 'de', 'facto', 'a', 'sua', 'questao', 'e', 'verdade', ',', 'de', 'facto', ',', 'e', 'mesmo', 'projetrar', 'neste', 'espaco', '.'], ['ha', '14', 'anos', ',', 'conheci', 'a', 'primeira', 'vez', ',', 'o', 'material', 'comum', ',', 'o', 'fio', 'de', 'peixe', ',', 'usou', 'a', 'mesma', 'forma', 'de', 'um', 'modo', 'de', 'anos', '.'], ['eles', 'contrapagam', 'as', 'coisas', 'das', 'pessoas', 'e', 'dinheiro', 'em', 'arquitecturas', 'motivais', '.'], ['se', 'olharem', 'para', 'como', 'e', 'que', 'as', 'criancas', 'fazem', 'perguntas', ',', 'quando', 'lhes', 'perguntarem', 'algo', '.', 'o', 'que', 'eles', 'fazem', 'e', 'uma', 'serie', 'de', 'experiencias', '.'], ['primeiro', 'disse', '-', 'lhe', 'que', 'tinha', 'de', 'sair', 'de', 'casa', '.'], ['o', 'suisiv', 'tinha', 'um', 'grande', 'numero', 'de', 'pessoas', 'que', 'trabalhavam', 'para', 'ele', '.'], ['mt', ':', 'encontramos', 'duas', 'cores', 'em', 'cada', 'jogo', '.'], ['na', 'verdade', ',', 'em', 'alem', 'disso', ',', 'nao', 'e', 'so', 'a', 'magia', '.', '(', 'risos', ')', 'a', 'magia', 'nao', 'e', 'tao', 'intenso', '.', 'contudo', ',', 'devo', 'ter', 'que', 'vos', 'deixa', 'de', 'jogar', 'com', 'alguem', 'com', 'alguem', 'que', 'diz', 'as', 'centenas', 'de', 'cartoes', ',', 'nao', 'tocam', 'dinheiro', '.'], ['`', '`', 'entao', 'eles', 'disseram', ',', '`', '`', \"'\", \"'\", 'provavelmente', 'precisamos', 'de', 'medir', 'a', 'qualidade', ',', '`', '`', \"'\", \"'\", 'e', 'a', 'sua', 'reputacao', 'e', 'podemos', 'aprender', 'o', 'que', 'e', 'melhor', '.', \"'\", \"'\", \"'\", \"'\", 'e', 'depois', 'eles', 'fizeram', 'duas', 'anos', 'atras', 'do', 'que', 'significa', 'a', 'qualidade', 'de', 'uma', 'cirurgia', 'de', 'harrown', '.', \"'\", \"'\"], ['e', 'a', 'troca', 'de', 'ideias', 'e', 'a', 'encontro', 'entre', 'ideias', ',', 'que', 'e', 'origem', 'a', 'raiz', 'das', 'vezes', 'tecnologicamente', ',', 'provenientes', ',', 'gradualmente', ',', 'a', 'pequena', 'parte', '.'], ['e', 'uma', 'campanha', 'local', 'de', 'que', '80', '%', 'das', 'pessoas', 'sao', 'mulheres', ',', 'e', 'a', 'maioria', 'sao', 'a', 'maioria', 'das', 'mulheres', '.'], ['ca', ':', 'eles', 'sao', 'muito', 'motivados', ',', 'ok', '.'], ['(', 'musica', ')', 'voz', ':', 'porque', 'nao', '?', 'e', 'uma', 'boa', 'mao', '.'], ['jok', ':', 'uau', '!', 'mt', ':', 'mt', ':', '\\\\xe2\\\\x99\\\\xaa', 'os', 'olhos', 'preparados', 'para', 'o', 'palco', '?'], ['a', 'camara', 'hiphydelfia', ':', 'a', 'sua', 'vez', ',', 'eu', 'precisava', 'de', 'um', 'material', 'leve', 'de', 'escultura', 'mais', 'leve', 'que', 'o', 'fixa', '.'], ['isto', 'foi', 'provavelmente', 'o', 'ano', 'mais', 'malefico', 'da', 'minha', 'vida', '.'], ['vou', 'voltar', 'a', 'um', 'minuto', '.'], ['entao', ',', 'o', 'que', 'se', 'passa', 'mais', 'profronante', 'que', 'adam', ',', 'para', 'fazer', 'as', 'coisas', 'comecaram', 'a', 'fazer', 'e', 'foschar', '.'], ['estes', 'ultimos', 'ultimos', 'ultimos', 'tempos', 'sao', 'invisiveis', '.'], ['a', 'morte', ':', 'adam', ',', 'adam', ',', 'adam', ','], ['vou', 'mostrar', '-', 'vos', 'outra', 'coisa', 'que', 'eu', 'vou', 'mostrar', '.'], ['e', 'a', 'questao', 'e', ':', 'o', 'que', 'o', 'bebe', 'iria', 'dar', '-', 'lhe', ',', 'o', 'que', 'e', 'que', 'ela', 'nao', 'gostava', '?'], ['eu', 'era', 'preciso', 'que', 'eu', 'fizesse', 'algo', '.'], ['oh', '.'], ['nesta', 'versao', 'do', 'amor', ',', 'nao', 'e', 'a', 'questao', '.'], ['(', 'aplausos', ')', 'obrigado', '.', 'obrigado', '.', 'obrigado', '.', 'obrigado', '.', '(', 'aplausos', ')'], ['o', 'facto', 'e', 'que', 'precisamos', 'de', 'ter', 'um', 'contexto', ',', 'um', 'baromo', 'de', 'acoes', 'nas', 'nossas', 'acoes', '.'], ['quantas', 'pessoas', '?'], ['nao', 'ha', 'trabalho', 'para', 'o', 'outro', 'em', 'que', 'se', 'tenha', 'uma', 'colonia', 'em', 'outro', 'lado', '.'], ['ele', 'sabe', '.'], ['o', 'jogo', 'e', 'o', 'unico', 'esforco', 'humano', 'em', 'incerteza', 'e', 'realmente', 'famoso', '.', 'a', 'incerteza', 'e', 'o', 'que', 'torna', 'o', 'jogo', '.'], ['bem', ',', 'nao', ',', 'porque', 'se', 'pensarem', 'nisso', ',', 'se', 'o', 'fizermos', ',', 'se', 'o', 'fizermos', 'duas', 'fundiram', 'duas', 'noticias', 'e', 'entao', 'eles', 'fazem', 'escolhas', ',', 'entao', 'eles', 'vao', 'poupar', 'mais', 'uma', 'hora', 'de', 'trabalho', '.'], ['e', 'se', 'tiver', 'sorte', 'e', 'que', 'se', 'fazem', 'parte', 'de', '50', '%', ',', 'eles', 'vao', 'durar', 'para', 'um', 'ano', 'ou', 'dois', '.'], ['e', 'fiquei', 'com', 'antecipado', ',', 'na', 'cena', ',', 'em', 'que', 'vivo', 'num', 'momento', 'extraordinario', '.'], ['nao', 'ha', 'nenhuma', 'experiencia', 'de', 'ideias', 'entre', 'elas', '.'], ['e', 'quanto', 'mais', 'o', 'fazem', ',', 'mais', 'ou', 'menos', ',', 'porque', 'quanto', 'mais', 'se', 'torna', 'um', 'adam', ',', 'mais', 'enfundio', '-', 'se', 'numa', 'fulga', 'de', 'harfa', ',', 'e', 'mais', 'oz', 'tornar', '-', 'se', 'projeticam', 'na', 'befa', 'de', 'fabrico', '.'], ['a', 'morte', 'do', 'bob', 'foi', 'ultimo', 'a', 'uma', 'grande', 'perda', 'para', 'todos', '.'], ['voces', 'estao', 'a', 'ver', 'a', 'zoom', '.', 'vao', 'ficar', 'zoom', '.'], ['entao', ',', 'comecei', 'a', 'criar', 'uma', 'colaboracao', 'com', 'uma', 'fabrica', 'de', 'processa', 'industrial', ',', 'aprendi', 'as', 'suas', 'maquinas', ',', 'e', 'descobri', 'uma', 'forma', 'de', 'fazer', 'o', 'fazer', 'com', 'o', 'ponto', 'de', 'dessa', 'maneira', '.'], ['`', '`', 'entao', 'comecei', 'a', 'falar', '-', 'me', '\\\\xe2\\\\x80\\\\x94', 'quando', 'sai', 'da', 'africa', 'do', 'sul', ',', 'quando', 'sai', 'do', 'thown', ',', 'disse', ':', '`', '`', \"'\", \"'\", 'e', 'algo', 'que', 'tenho', 'de', 'falar', '.', \"'\", \"'\"], ['ag', ':', 'ok', ',', 'hipotese', 'e', 'o', 'numero', 'dois', '.'], ['durante', 'o', 'verao', ',', 'com', 'os', 'meus', 'alunos', ',', 'construimos', '50', 'unidades', 'de', 'reflexo', '.'], ['eles', 'fazem', 'matematica', 'simples', ',', 'elas', 'fazem', 'media', ',', 'etc', '.'], ['em', '1950', ',', 'teriam', 'tido', 'a', 'trabalhar', 'em', 'oito', 'segundos', 'para', 'o', 'salario', 'medio', 'de', 'referencia', 'para', 'a', 'luz', '.'], ['e', 'claro', ',', 'nos', 'temos', 'membros', 'da', 'especie', 'humana', 'na', 'cadeia', 'humana', ',', 'no', 'final', 'da', 'cadeia', 'de', 'distribuicao', 'de', 'lesma', '.'], ['nenhum', 'animal', 'faz', '.'], ['entao', 'substitui', 'a', 'anima', 'de', 'metal', 'com', 'o', 'fim', 'de', 'uma', 'fibra', 'soletria', 'mais', 'solitaria', 'do', 'que', 'o', 'aco', '.'], ['a', 'causa', 'pode', 'ser', 'uma', 'premidacao', 'ou', 'condicoes', 'geneticas', '.'], ['e', 'a', 'transformacao', 'que', 'teve', 'um', 'lugar', '.'], ['sao', 'questoes', 'dificeis', ',', 'mas', 'tenho', 'algumas', 'teorias', '.'], ['tem', 'programas', 'de', 'ensino', '.'], ['o', 'que', 'e', 'relevante', 'para', 'uma', 'sociedade', 'e', 'a', 'forma', 'como', 'as', 'pessoas', 'comunicam', 'as', 'suas', 'ideias', ',', 'e', 'a', 'forma', 'como', 'coofirmam', ',', 'nao', 'saber', 'em', 'que', 'os', 'individuos', 'sao', 'assassinadas', '.'], ['eles', 'tem', 'um', 'preco', 'que', 'a', 'sua', 'tecnica', 'era', 'a', 'melhor', 'tecnica', ',', 'mas', 'nao', 'era', 'sobre', 'isso', 'e', 'eles', 'estao', 'a', 'tentar', 'envolver', '-', 'se', '.'], ['sejamos', 'claros', 'e', 'jornalista', ',', 'nao', 'techus', ',', 'gostaria', 'de', 'brevemente', ',', 'resumir', 'o', 'quadro', 'daquilo', 'a', 'que', 'o', 'presente', 'e', 'o', 'futuro', 'vai', 'parecer', '.'], ['empurrando', 'com', 'dois', 'e', 'astures', 'de', 'harvard', ',', 'michael', 'em', 'harvard', ',', 'e', 'o', 'instituto', 'jolekolka', 'e', 'o', 'instituto', 'nacional', 'em', 'chines', ',', 'bcgggrou', 'alguma', 'coisa', 'que', 'chamamos', 'impulso', '.'], ['a', 'criatividade', 'e', 'uma', 'fabrica', 'em', 'ideias', 'que', 'colapsam', 'sobre', 'as', 'nossas', 'sloques', 'e', 'expressoes', 'sociais', '.'], ['entao', 'fizemos', 'quando', 'ate', 'nos', '.', 'certo', '?', 'certo', '?'], ['bem', ',', 'foi', 'publicado', '2', 'dias', 'de', 'natal', ',', '3', '.', '3', '.', '000', 'metros', 'no', 'primeiro', 'dia', ',', 'o', 'primeiro', 'dia', ',', 'hi', '?'], ['entao', 'temos', 'de', 'colocar', 'quatro', 'sobre', 'o', 'ligar', 'e', 'meio', 'sobre', 'a', 'para', 'ligar', '-', 'a', 'para', 'ligar', '.'], ['ha', 'duas', 'coisas', 'que', 'me', 'surpreendeu', 'no', 'mes', 'que', 'fiz', '.'], ['se', 'os', 'meus', 'amigos', 'nao', 'puderam', 'perceber', 'o', 'meu', 'severnado', ',', 'eu', 'decidi', ',', 'nao', 'tinha', 'de', 'ser', 'amizade', '.'], ['`', '`', '`', '`', \"'\", \"'\", 'esta', '.', 'sou', 'eu', 'estava', 'morto', ',', 'e', 'isso', 'e', 'o', 'meu', 'ultimo', 'banco', 'no', 'meu', 'blogues', '.', \"'\", \"'\"], ['o', 'outro', 'e', 'obviamente', 'um', 'rato', 'de', 'computador', '.'], ['an', ':', 'quem', 'e', 'isto', '?'], ['toda', 'a', 'gente', 'percebeu', 'que', 'isso', 'era', 'inteligente', '.'], ['o', 'objecto', 'da', 'direita', 'e', 'feito', 'de', 'um', 'assoleto', 'de', 'diferentes', 'toneladas', ',', 'a', 'partir', 'de', 'selva', 'e', 'de', 'metal', 'e', 'de', 'plastico', 'e', 'por', 'ai', 'adiante', '.'], ['e', ',', 'por', 'isso', ',', 'e', 'uma', 'das', 'razoes', 'que', 'nao', 'interessa', 'sobre', 'o', 'debate', 'sobre', 'o', 'qip', ',', 'saber', 'o', 'sabo', ',', 'se', 'alguns', 'grupos', 'tem', 'um', 'maior', 'de', 'qipiciario', 'que', 'outros', 'grupos', '.'], ['um', 'bobina', 'e', 'um', 'cabo', 'de', 'reboque', 'circular', 'em', 'si', 'mesmo', '.'], ['durante', '20', 'dias', 'antes', 'do', 'terramoto', ',', 'eles', 'tem', 'um', 'grande', 'terramoto', '.', 'muitos', 'estudantes', 'japonesam', 'a', 'propor', 'e', 'a', 'catedral', 'da', 'cidade', ',', 'o', 'simbolo', 'da', 'cicatrizare', ',', 'o', 'simbolo', 'da', 'croch', ',', 'foi', 'completamente', 'destruida', '.'], ['e', 'o', 'unico', 'artigo', 'que', 'ira', 'ser', 'sempre', 'acessivel', 'em', 'cerne', '.'], ['la', ',', 'chritem', '.', '(', 'criscada', ')', '(', 'risos', ')', '(', 'risos', ')', 'muito', 'obrigado', '.', '(', 'aplausos', ')', 'muito', 'bem', ',', 'o', 'interesse', '?', 'o', 'interesse', '?', 'o', 'interesse', 'e', 'a', 'ciencia', 'para', 'nos', '.'], ['a', 'doenca', 'e', 'a', 'doenca', 'que', 'as', 'pessoas', 'costumavam', '8', 'milhoes', 'de', 'pessoas', '.', 'o', 'mais', 'chocante', 'e', 'que', 'evitar', 'ser', 'infectado', 'pelo', 'medo', ',', 'so', 'se', 'aproxima', ',', 'nao', 'so', ',', 'nao', 'so', 'por', 'nao', ',', 'nao', 'decontro', ',', 'sem', 'medicacao', '.'], ['foi', 'o', 'inicio', '.', 'a', 'voz', 'estava', '.'], ['suon', 'shirn', ':', 'mas', 'tambem', 'gosto', '.'], ['nao', 'e', 'verdade', '?', 'e', 'a', 'mudanca', 'em', 'mudanca', ',', 'nao', 'e', '?', 'e', 'uma', 'ligacao', ',', 'e', 'e', 'a', 'cooperacao', '.', 'na', 'verdade', ',', 'a', 'nossa', 'forma', 'de', 'criar', 'ligacoes', 'sociais', ',', 'e', 'isso', 'e', 'intrinsecamente', 'intrinsecamente', '.', 'o', 'que', 'significa', 'que', 'nos', 'vamos', 'tocar', 'para', 'a', 'sua', 'propria', 'recompensa', '.'], ['nao', 'queriamos', 'mudar', 'isto', 'porque', 'e', 'a', 'norma', ',', 'optimizada', 'nos', 'ultimos', 'anos', '.', 'muitos', 'techniquestrados', '.'], ['se', 'fossemos', 'mais', 'impressionados', ',', 'mais', 'abertos', ',', 'mais', 'generosos', ',', 'e', 'em', 'vez', 'de', 'cairem', ',', 'manunciamos', 'para', 'o', 'amor', '.'], ['`', '`', 'se', 'digo', ':', '`', '`', \"'\", \"'\", 'a', 'liberdade', ',', 'suvernate', \"'\", \"'\", \"'\", \"'\", 'e', 'independencia', '(', 'risos', ')', 'ou', 'se', 'o', 'vosso', 'filho', 'diz', ':', '`', '`', \"'\", \"'\", 'uau', ',', 'o', 'wowak', ',', 'terao', 'esse', 'periodo', 'de', 'liberdade', 'de', 'liberdade', 'de', 'liberdade', 'de', 'liberdade', 'de', 'liberdade', 'de', 'liberdade', \"'\", \"'\", \"'\", \"'\", '.', \"'\", \"'\"], ['juntaram', '-', 'se', '.'], ['bem', ',', 'usa', 'a', 'reproducao', 'da', 'esquadra', '.'], ['a', 'literatura', 'tem', 'de', 'nos', 'levar', 'mais', 'longe', '.'], ['uma', 'das', 'coisas', 'que', 'aprendemos', 'e', 'que', 'a', 'comunidade', 'pobre', 'nao', 'comprar', 'os', 'produtos', 'em', 'grande', 'parte', '.'], ['somos', 'mais', 'flexivel', ',', 'podemos', 'aprender', 'mais', ',', 'e', 'mais', 'sobrevive', '-', 'nos', 'em', 'diferentes', 'ambientes', ',', 'temos', 'migracoes', 'para', 'colonizar', 'a', 'terra', 'e', 'mesmo', 'o', 'mesmo', 'espaco', '.'], ['ag', ':', 'ok', ',', 'ele', 'escreveu', 'o', 'seu', 'caderador', 'de', 'experiencias', '.'], ['conheci', '-', 'o', 'num', 'evento', 'de', '46666', '.'], ['eles', 'sao', 'muito', 'fixes', ',', 'podem', 'comprar', 'o', 'meu', 'modelo', '.'], ['nao', 'existia', 'linguagem', 'para', 'traduzir', 'este', 'antigo', 'conhecimento', ',', 'que', 'faz', 'com', 'que', 'fosse', 'um', 'livro', 'de', 'maquinas', 'pudessem', 'produzir', '.'], ['e', 'a', 'prosperidade', ',', 'o', 'gancinho', 'de', 'tudo', 'na', 'sua', 'vida', '.'], ['uma', 'carta', 'kikk', ',', 'a', 'outra', 'e', 'buba', '.'], ['a', 'cor', 'vermelha', 'e', 'a', 'cor', 'escura', ',', 'que', 'corresponde', 'a', 'mudanca', 'no', 'dia', 'a', 'noite', '.'], ['a', 'luz', 'ainda', 'esta', 'la', '.'], ['estou', 'a', 'contar', 'a', 'sua', 'historia', 'em', 'todo', 'o', 'mundo', ',', 'porque', 'representa', 'um', 'milhao', 'de', 'orfas', 'do', 'ofesitaria', '.'], ['regressam', 'novamente', 'a', 'imagem', 'e', 'perguntem', '-', 'se', ',', 'nao', 'so', 'que', 'a', 'fez', 'e', 'que', ',', 'mas', 'que', 'sabia', 'como', 'faze', '-', 'lo', '.'], ['mas', 'antes', 'de', 'voces', 'lerem', '-', 'vos', 'agora', ',', 'pergunto', '-', 'vos', 'que', 'se', 'oferecesse', 'um', 'pequeno', 'inquerito', 'em', 'relacao', 'ao', 'vosso', 'corpo', 'e', 'sobre', 'o', 'que', 'fazemos', 'com', 'o', 'vosso', 'corpo', '.'], ['aqui', 'esta', 'o', ',', 'e', 'ele', 'esta', 'sempre', 'a', 'funcionar', '.'], ['se', 'voltarem', 'a', 'estes', 'psicologos', 'e', 'esses', 'filosofos', 'disicologos', ',', 'disseram', 'que', 'os', 'bebes', 'e', 'as', 'criancas', 'estavam', 'a', 'ter', 'consciencia', 'ou', 'nao', 'de', 'qualquer', 'forma', '.'], ['e', 'um', 'artigo', 'cientifico', '.', '(', 'risos', ')', 'entao', ',', 'as', 'criancas', 'descusam', 'as', 'palavras', ',', 'ok', '?', 'eu', 'digo', ',', 'o', 'que', 'significa', 'que', 'este', 'artigo', 'e', 'escrito', 'numa', 'linguagem', 'de', 'crianca', '.'], ['naquele', 'dia', ',', 'a', 'igreja', 'ainda', 'esta', 'a', 'viver', 'em', 'tiwan', '.'], ['penso', 'que', 'isto', 'e', 'possivel', 'para', 'mim', 'continuar', 'a', 'interagir', 'com', 'o', 'nosso', 'mundo', 'real', 'num', 'mundo', 'real', ',', 'durante', 'muito', 'tempo', ',', 'pela', 'nossa', 'morte', 'do', 'conteudo', 'que', 'criamos', 'e', 'a', 'capacidade', 'de', 'criar', 'tecnologia', 'para', 'tornar', 'o', 'integitivo', '.'], ['esta', 'historia', 'e', 'a', 'ideia', 'de', 'se', 'tirar', 'a', 'imaginacao', '.'], ['entao', ',', 'propus', 'isto', 'em', 'maio', 'enquanto', 'eu', 'estava', 'a', 'fazer', 'as', 'projectar', '.'], ['mas', 'temos', 'que', 'o', 'fazer', '.'], ['e', 'eles', 'ficaram', 'por', 'ai', '.'], ['a', 'frequencia', 'e', 'de', '1', ',', '76', 'kilhorz', ',', 'ou', '1760', '.'], ['bem', ',', 'reparem', ',', 'a', 'notar', 'os', 'cacadores', '-', 'crorificiais', ',', 'como', 'os', 'auto', '-', 'bexs', ',', 'que', 'eram', 'as', 'historias', 'de', 'um', 'sitio', 'a', 'um', 'sitio', 'chamado', 'isaaco', ',', 'que', 'era', 'uma', 'carreira', 'a', 'bancada', 'a', 'kancada', '.'], ['agora', ',', 'uso', '-', 'as', 'com', 'materiais', 'e', 'engenharias', 'de', 'hi', '-', 'techuxistribus', ',', 'para', 'criar', 'padroes', 'baldes', 'alimentares', 'como', 'edificios', '.'], ['mas', 'quem', 'sabe', 'como', 'fazer', 'um', 'rato', 'de', 'computador', '?'], ['e', 'se', 'fossemos', 'capazes', 'de', 'usar', 'esta', 'tecnologia', 'para', 'fazer', 'uma', 'representacao', 'do', 'nosso', 'mundo', 'entes', 'queridos', '\\\\xe2\\\\x80\\\\x94', 'em', 'interpretacoes', 'muito', 'bem', 'supretando', 'em', 'relacao', 'ao', 'conteudo', 'do', 'conteudo', 'que', 'eles', 'criaram', 'durante', 'a', 'vida', '.'], ['no', 'mesmo', 'vale', 'ha', 'mais', 'desaparentados', 'do', 'homem', 'moderno', '-', 'de', 'cerca', 'de', '30', '.', '000', 'anos', 'atras', ',', 'e', 'alguns', 'deles', 'vao', 'de', 'se', 'ligarem', ',', 'mas', 'mais', '\\\\xe2\\\\x80\\\\x94', 'mas', 'muito', 'mais', '\\\\xe2\\\\x80\\\\x94', 'e', 'muito', 'mais', '\\\\xe2\\\\x80\\\\x94', 'sao', 'muitos', 'desabstrais', '.'], ['a', 'desconfio', 'diz', 'que', 'o', 'presente', 'da', 'saude', 'e', 'agora', 'no', 'concerto', ',', 'e', 'no', 'entanto', ',', 'tive', 'a', 'oportunidade', 'de', 'conhecer', 'o', 'compromisso', 'de', 'absurdo', ',', 'e', 'deu', 'o', 'seu', 'compromisso', 'abtida', 'de', 'tentar', 'trazer', 'uma', 'mudanca', ',', 'o', 'que', 'e', 'absolutamente', 'necessario', '.'], ['o', 'amor', 'e', 'adoradotado', 'e', 'nos', 'torna', '-', 'nos', 'doente', '.'], ['encontrei', 'um', 'excelente', 'engenheiro', 'de', 'golduxicano', 'que', 'os', 'vene', 'bisondades', 'da', 'alma', 'saleatrie', 'suppier', 'chamou', 'o', 'peterp', '.'], ['penso', 'que', 'se', 'as', 'fropicas', 'fossem', 'as', 'ilhas', 'carumanos', 'ou', 'ate', 'alem', 'do', 'wyoming', 'ou', 'do', 'nevane', ',', 'do', 'nevaed', ',', 'nos', 'viamos', 'muito', 'mais', 'casos', 'de', 'ligacao', 'aos', 'americanos', '.'], ['ag', ':', 'ok', ',', 'e', 'uma', 'quarta', 'hipotese', '.'], ['eles', 'sempre', 'ficaram', 'os', 'melhores', 'para', 'a', 'escola', '.'], ['e', 'isso', 'que', 'fizemos', 'enquanto', 'especie', '.'], ['foi', 'uma', 'conquista', 'de', 'charles', 'darwin', '.'], ['tres', 'e', 'duas', 'criancas', 'depois', ',', 'fizemos', 'este', 'fibroso', 'de', 'quatro', 'parques', 'de', 'quatro60', '.'], ['450', 'milhoes', 'de', 'pessoas', 'estao', 'a', 'descobrir', ',', 'em', 'africa', ',', '5', 'milhoes', 'de', 'milhoes', 'na', 'africa', 'do', 'sul', '.'], ['fui', 'muito', 'sufrentada', 'com', 'o', 'seu', 'reflexo', ',', 'o', 'acampamento', 'organizado', 'por', 'o', 'octa', '.'], ['fiquei', 'apamada', 'pela', 'primeira', 'vez', 'em', '20', 'anos', 'e', 'foi', 'uma', 'relacao', 'bastante', 'claraa', 'ao', 'inicio', '.'], ['`', '`', 'o', 'primeiro', 'protecao', 'e', 'a', 'escola', 'primario', 'da', 'blackawa', ',', 'porque', 'se', 'ele', 'for', 'um', 'dia', 'de', 'referencia', ',', 'seria', 'um', 'buzawaw', '.', \"'\", \"'\", \"'\", 'e', 'nao', 'so', 'um', 'individuo', '.', 'e', 'entao', 'enviamos', 'um', 'jornal', 'publico', ',', 'e', 'este', 'e', 'um', 'jornalismo', ':', '`', '`', \"'\", \"'\", 'e', 'isto', 'diz', 'muito', 'importante', '.', \"'\", \"'\"], ['voz', ':', 'chama', '-', 'se', 'catetetete', '.', 'mt', ':', 'trigo', ',', 'as', 'vezes', ',', 'as', 'vezes', 'me', 'perguntam', 'como', 'e', 'que', 'se', 'torna', 'o', 'meu', 'tecnico', '?'], ['em', 'amor', ',', 'tomemosbons', '.'], ['e', 'se', 'alguem', 'lhes', 'mostrar', 'que', 'os', 'resultados', 'que', 'recebem', 'para', 'os', 'seus', 'doentes', 'nao', 'sao', 'melhores', 'do', 'que', 'os', 'outros', ',', 'vao', 'fazer', 'tudo', 'o', 'que', 'sera', 'preciso', 'para', 'melhorar', '.'], ['eles', 'incluam', 'o', 'impulso', ',', 'a', 'deciflagem', 'de', 'lesis', ',', 'o', 'inconscito', ',', 'a', 'inconquincia', ',', 'a', 'inconquistancia', ',', 'a', 'natureza', '.'], ['qual', 'e', 'o', 'processo', 'que', 'tem', 'os', 'mesmos', 'efeitos', 'socialmente', 'as', 'mesmas', 'na', 'evolucao', 'cultural', 'em', 'expansao', 'biologicos', '?'], ['a', 'coisa', 'que', 'tem', 'todas', 'as', 'coisas', 'comunicam', 'e', 'que', 'vao', 'morrer', '.'], ['toda', 'a', 'gente', 'podia', 'ir', 'a', 'casa', ',', 'podem', 'ver', 'pessoas', 'comuns', ',', 'mesmo', 'o', 'suen', ',', 'muculmanos', 'e', 'muculmanos', '.'], ['o', 'genocidio', 'nao', 'e', 'so', 'o', 'homicidio', ';', 'e', 'sobre', 'a', 'negacao', 'da', 'identidade', '.'], ['os', 'linguistas', 'falam', 'sobre', 'as', 'metaforas', 'como', 'resultado', ',', 'fundamentalmente', ',', 'excecionalmente', 'restando', 'todas', 'as', 'implicacoes', 'para', 'si', 'so', 'para', 'uma', 'metafora', 'especifica', '.'], ['e', 'uma', 'caixa', 'que', 'se', 'sucentou', 'e', 'a', 'musica', 'quando', 'se', 'coloca', 'alguns', 'objetos', 'dentro', 'e', 'nao', 'de', 'outros', '.'], ['nos', 'ultimos', '20', 'anos', ',', 'o', 'headque', 'monar', 'mountaneos', 'de', 'redes', 'de', 'ouvir', ',', 'atraves', 'de', 'cinco', 'continentes', 'em', 'conjunto', ',', 'trabalhava', 'para', 'a', 'dignidade', ',', 'a', 'dignidade', ',', 'solidadadeada', 'e', 'auto', '-', 'autorizados', 'auto', '-', 'infeccao', 'de', 'pessoas', ',', 'para', 'criar', 'uma', 'nova', 'linguagem', 'para', 'que', 'uma', 'nova', 'e', 'uma', 'nova', 'pratica', 'incebeada', 'em', '20', 'anos', ',', 'a', 'febre', '.'], ['`', '`', 'por', 'vezes', ',', 'saibam', ',', 'ele', 'ate', 'ao', 'mes', 'de', 'maio', ',', 'mas', 'foi', 'ainda', 'assim', 'que', 'foi', 'ainda', 'assim', 'por', 'viria', '.', \"'\", \"'\", \"'\", \"'\", 'que', 'suagenueulheiam', 'para', 'mim', 'e', 'que', 'se', 'espalhessem', 'com', 'mim', 'e', 'para', 'mim', 'e', 'esperar', 'que', 'me', 'espalhou', 'a', 'minha', 'volta', 'para', 'mim', 'e', 'a', 'minha', 'volta', 'para', 'mim', 'e', 'a', 'minha', 'volta', '.', \"'\", \"'\"], ['primeiro', ',', 'as', 'mais', 'obvias', '.'], ['passei', 'algum', 'tempo', 'a', 'explicar', 'em', 'risco', 'do', 'campo', 'cuscuscular', '.'], ['entao', 'fizemos', 'isto', ',', 'fizemos', 'uma', 'crianca', 'de', '4', 'anos', 'atras', ',', 'e', 'perguntamos', '-', 'lhe', 'o', 'desenhao', 'de', 'um', 'sensor', '.'], ['entao', ',', 'pedimos', 'para', 'o', 'bry', 'e', 'nanellia', 'helialumbo', ',', 'para', 'escrever', 'um', 'comentario', 'para', 'residir', 'os', 'cientistas', ',', 'concorda', '-', 'nos', ',', 'a', 'fontes', 'e', 'enviamos', 'o', 'biogloquei', '.'], ['e', 'e', 'isso', 'que', 'levou', 'a', 'conduzir', 'a', 'especializacao', '.'], ['sempre', 'temos', 'sido', 'os', 'melhores', 'a', 'escola', '.'], ['rapaz', ':', 'esta', 'a', 'acontecer', '.'], ['poem', 'literalmente', 'na', 'pele', ',', 'e', 'nao', 'precisam', 'de', 'vos', 'mexer', '.'], ['ok', ',', 'isso', 'nao', 'e', 'grave', '.'], ['e', 'por', 'isso', 'que', 'comecei', 'a', 'trabalhar', 'em', 'areas', 'tao', 'innitostres', '.'], ['as', 'criancas', 'sabem', ',', 'e', 'aprendem', 'muito', 'mais', 'do', 'que', 'nunca', 'teriamos', '.'], ['nao', 'precisam', 'de', 'cirurgias', 'de', 'coracao', 'aberto', '.'], ['e', 'penso', 'que', 'o', 'oposto', 'e', 'verdade', '.'], ['cada', 'e', 'feito', 'de', '135', '.', '(', 'musica', ')', 'voz', ':', 'cada', 'carta', 'representado', 'representa', 'um', 'fase', 'de', 'ciclovias', '.'], ['como', 'e', 'que', 'eles', 'se', 'organizados', '?', 'sao', 'isolados', '?'], ['penso', 'que', 'o', 'ponto', 'importante', 'aqui', 'e', 'reconhecer', 'que', 'temos', 'falhas', '.'], ['mas', ',', 'uma', 'coisa', 'mantecante', 'foi', 'obserrido', '.'], ['obrigado', '.'], ['`', '`', 'e', 'uma', 'nova', 'tecnologia', '.', 'atraves', 'destes', 'turnatorios', 'no', 'mundo', 'que', 'observam', ',', '`', '`', \"'\", \"'\", 'a', 'ajuda', 'de', 'informacao', \"'\", \"'\", \"'\", \"'\", '\\\\xe2\\\\x80\\\\x94', 'dos', 'nomes', 'do', 'meu', 'corpo', ',', 'do', 'meu', 'corpo', ',', 'talvez', 'um', 'dia', 'de', 'edificios', 'desconquiteiras', 'de', 'estranhos', 'individualidades', '.', \"'\", \"'\"], ['a', 'boa', 'noticia', 'e', 'que', 'nao', 'dura', 'muito', ',', 'em', 'geral', ',', 'em', 'alguns', 'anos', 'atras', ',', 'nao', 'e', '.'], ['nunca', 'estudei', 'a', 'escultura', ',', 'a', 'engenharia', 'ou', 'a', 'arquitetura', '.'], ['bem', ',', 'penso', 'que', ',', 'provavelmente', ',', 'a', 'antiga', 'versao', 'mais', 'antiga', 'deste', 'que', 'e', 'quase', 'como', 'a', 'divisao', 'de', 'trabalho', 'sexualmente', '.'], ['porque', 'sao', 'especializados', 'em', 'brincadeiras', '.', 'por', 'isso', ',', 'levei', 'uma', 'pequena', 'escola', 'do', 'ensino', 'do', 'ensino', 'basico', ',', 'e', 'o', 'objetivo', 'nao', 'era', 'apenas', 'trazer', 'criancas', 'a', 'ciencia', ',', 'mas', 'ver', '-', 'se', 'de', 'forma', 'diferente', ',', 'por', 'isso', ',', 'por', 'isso', ',', 'por', 'isso', ',', 'e', 'isso', ',', 'por', 'isso', ',', 'sao', 'diferentes', '.'], ['mas', 'o', 'objecto', 'de', 'direita', 'foi', 'feito', 'para', 'mim', '.'], ['estas', 'lacunas', 'eram', 'dramaticas', '.'], ['olhei', 'para', 'mim', 'mesma', 'a', 'minha', 'volta', ',', 'mas', 'a', 'clareza', 'e', 'a', 'determinacao', 'do', 'comentario', 'eram', 'institucional', '.'], ['mas', 'ja', 'ja', 'existe', '.'], ['vamos', 'ver', 'alguns', 'momentos', '.'], ['quando', 'eu', 'estava', 'a', 'andar', 'em', '14', 'anos', ',', 'conheci', 'a', 'primeira', 'vez', ',', 'ou', 'quando', 'vivi', 'em', 'bultura', ',', '14', 'anos', ',', 'nao', 'pode', 'ser', 'com', 'romo', ',', 'que', 'ela', 'nunca', 'tinha', 'visto', 'antes', ',', 'ela', 'nao', 'e', 'angolia', 'ou', 'angolia', '.'], ['aqui', 'esta', 'um', 'do', 'laboratorio', 'de', 'cristalidade', 'o', 'de', 'cigarro', '.'], ['quando', 'eu', 'era', 'estudante', 'aqui', ',', 'em', 'oxford', 'em', 'oxford', ',', 'nos', 'anos', '1970', ',', 'o', 'futuro', 'do', 'mundo', 'negro', 'era', 'negro', '.'], ['muito', 'bem', '.', 'uma', 'marca', 'visivel', '.'], ['e', 'depois', 'apercebi', '-', 'me', 'o', 'centro', 'plamido', 'em', 'mede', '.'], ['houve', '1800', 'e', '26', 'pessoas', 'mortas', 'em', 'todas', 'assas', '.'], ['as', 'transmanes', 'foram', 'isoladas', '.'], ['o', 'amor', 'envolveu', 'tanto', 'da', 'alegria', 'e', 'dor', '.'], ['e', 'como', 'o', 'amor', 'e', 'o', 'amor', 'de', 'paris', 'para', 'a', 'primeira', 'vez', 'ter', 'tres', 'tapas', '.'], ['mas', 'fui', 'muito', 'sobre', 'o', 'meu', 'trabalho', 'de', 'arquitecto', ',', 'porque', 'nos', 'arquitectos', ',', 'nao', 'exiciamos', 'a', 'sociedade', '.', 'mas', 'trabalhamos', 'para', 'pessoas', 'privilegiados', ',', 'mas', 'para', 'pessoas', 'ricas', ',', 'governos', ',', 'governos', ',', 'promotas', ',', 'promotas', '.'], ['`', '`', 'enquanto', 'essas', 'deslocadas', ',', 'a', 'minha', 'avo', 'estava', 'a', 'um', 'poema', 'de', 'kipling', ':', '`', '`', \"'\", \"'\", 'algo', 'escocococolhe', '.', \"'\", \"'\"], ['e', 'a', 'eluda', 'foi', 'relutildo', 'por', 'cinco', 'juizes', 'independentes', ',', 'e', 'foi', 'publicada', '.', '(', 'aplausos', ')', '(', 'aplausos', ')', '(', 'aplausos', ')', '(', 'aplausos', ')', '(', 'aplausos', ')', 'e', 'depois', ',', 'dois', 'meses', 'para', 'o', 'lado', 'cientifico', ',', 'e', 'o', 'que', 'e', 'que', 'fizeram', '?', '(', 'risos', ')', 'nao', 'e', 'o', 'que', 'faz', '?', 'e', 'os', 'seus', 'amigos', 'descrescentou', ',', 'mais', 'do', 'mundo', 'em', '194', 'jovens', 'no', 'mundo', '.'], ['ja', ':', 'sim', ',', 'temos', 'a', 'data', ',', 'mas', 'agora', 'levamos', 'um', 'esforco', 'serio', 'em', 'fundos', 'e', 'de', 'organizacao', '.'], ['e', 'a', 'sua', 'crianca', 'vai', 'receber', 'tratamento', 'de', 'provencao', 'da', 'transmissao', 'da', 'cidade', 'do', 'vih', ',', 'o', 'que', 'significa', 'que', 'o', 'bebe', 'nao', 'podera', 'ser', 'o', 'virus', '.'], ['(', 'video', ')', 'rapaz', ':', 'e', 'como', 'isto', '?'], ['quando', 'pensarem', 'em', 'pais', 'em', 'pais', 'ou', 'os', 'vossos', 'avos', 'tem', ',', 'melhor', ',', 'talvez', 'criaram', 'fotos', 'ou', 'filmes', 'de', 'familia', ',', 'ou', 'um', 'jornal', 'intimamente', 'ligado', 'numa', 'caixa', 'de', 'uma', 'caixa', 'de', 'um', 'lado', '.'], ['portanto', ',', 'uso', 'este', 'material', 'de', 'esculturas', 'para', 'projetorias', 'polino', 'dos', 'metropolitas', 'no', 'chao', 'em', 'tempo', 'real', ',', 'como', 'um', 'radio', 'certificado', 'da', 'cidade', 'que', 'se', 'revela', '.'], ['tive', 'a', 'grande', 'sorte', 'de', 'ganhar', 'o', 'concretizado', 'pela', 'comunidade', 'de', 'propurrado', 'em', 'franca', ',', 'na', 'cidade', 'de', 'memorando', '.'], ['ninguem', ',', 'literalmente', '.'], ['e', 'que', 'a', 'matematica', 'e', 'o', 'nucleo', 'dos', 'melhores', 'programas', 'de', 'aprendizagem', 'atraves', 'da', 'maquina', 'que', 'temos', 'hoje', '.'], ['nao', 'podia', 'construir', 'como', 'eu', 'sabia', ',', 'porque', 'destrocos', ',', 'maos', 'na', 'mao', 'nao', 'poderia', 'resistir', 'a', 'um', 'furacao', '.'], ['por', 'exemplo', ',', 'os', 'terramotos', 'nunca', 'matam', 'ninguem', ',', 'mas', 'o', 'colapso', 'das', 'pessoas', '.'], ['esta', 'versao', 'de', 'amor', 'e', 'a', 'decidir', 'que', 'e', 'que', 'e', '.'], ['nestas', 'circunstancias', ',', 'as', 'criancas', 'usam', 'as', 'estatisticas', 'para', 'descobrirem', 'o', 'mundo', ',', 'mas', ',', 'depois', ',', 'os', 'cientistas', 'tambem', 'fazem', 'experiencias', ',', 'e', 'queriamos', 'ver', 'se', 'as', 'criancas', 'faziam', 'experiencias', '.'], ['voz', ':', 'a', 'lua', 'e', 'um', 'dos', 'simbolos', 'mais', 'fortes', '.'], ['e', 'a', 'partir', 'dai', 'das', 'previsoes', 'podem', 'ser', 'feito', 'e', 'testamos', '.'], ['por', 'outras', 'palavras', ',', 'tem', 'de', 'compreender', 'como', 'as', 'ideias', 'fazem', 'o', 'amor', '.'], ['a', 'producao', 'alimentar', 'esta', 'a', 'subir', 'pelo', 'menos', 'um', 'terco', '.'], ['parafrarem', 'isto', ',', 'de', 'facto', ',', 'a', 'mudanca', 'social', 'comeca', ',', 'nao', 'pode', 'ser', 'revertida', '.'], ['compreendo', 'que', 'a', 'luz', 'do', 'seculo', 'xvii', ',', 'mas', ',', 'quando', 'li', 'esta', 'sala', 'de', '14', 'anos', ',', 'o', 'sofrimento', 'de', 'jultura', 'tinha', 'sentido', 'para', 'mim', '.'], ['tive', 'tido', 'sorte', 'suficiente', 'para', 'ter', 'um', 'pai', 'que', 'era', 'um', 'espetro', 'que', 'era', 'um', 'cincinho', 'fantastico', '.'], ['nao', 'sabia', 'se', 'podia', 'fazer', 'isto', 'em', 'perto', 'da', 'minha', 'arte', '.'], ['e', 'feito', 'uma', 'pista', 'de', 'criancas', 'de', 'quatro', 'anos', '.'], ['como', 'podem', 'ver', ',', 'o', 'dispositivo', 'entre', 'corpos', 'dentro', 'das', 'vias', 'naturais', '.'], ['pimity', 'lee', 'aproprometer', 'as', 'ruas', 'do', 'stato', 'paulo', ',', 'rolhou', 'e', 'crisa', '.'], ['portanto', ',', 'esta', 'e', 'a', 'parte', 'de', 'dois', 'minutos', '.'], ['acalmar', 'o', 'amor', 'como', 'uma', 'coisa', 'que', 'posso', 'fazer', ',', 'em', 'vez', 'de', 'me', 'tornar', 'sem', 'controlo', 'ou', 'o', 'controlo', 'ou', 'inclinado', 'e', 'confleccional', '.'], ['mas', 'se', 'estiverem', 'a', 'integrando', 'a', 'base', 'do', 'orcamento', 'economico', 'em', 'equacao', ',', 'e', 'vejam', 'que', 'aqueles', 'que', 'tem', 'sotaques', 'tambem', 'tem', 'custos', 'mais', 'baixos', ',', 'tambem', 'tem', 'custos', ',', 'apesar', 'disso', ',', 'apesar', 'disso', ',', 'nao', 'era', 'o', 'seu', 'objectivo', '.'], ['ele', 'estava', 'a', 'um', 'porta', '-', 'shirt', 'como', 'esta', 'a', 'porta', '-', 'lo', '.'], ['descobri', 'este', 'principio', 'muito', 'interessante', '.'], ['nao', 'e', '?'], ['entao', ',', 'penso', 'que', 'estes', 'bebes', 'traduzem', 'calculos', 'de', 'probabilidade', 'de', 'se', 'ser', 'transjectam', 'de', 'probabilidade', 'que', 'eles', 'revisam', 'para', 'se', 'fazer', 'como', 'o', 'mundo', 'funciona', '.'], ['`', '`', 'sou', 'um', 'neurocienticienticipado', 'em', 'treino', 'e', 'sei', 'como', 'funciona', 'o', 'cerebro', 'em', '`', '`', \"'\", \"'\", 'stress', \"'\", \"'\", \"'\", '.', \"'\", \"'\"], ['e', 'por', 'isso', 'que', 'eles', 'usam', 'na', 'producao', 'da', 'producao', '.'], ['temos', 'de', 'pegar', 'em', 'todas', 'estas', 'ideias', 'que', 'aprendemos', 'quando', 'eramos', 'e', 'usar', 'as', 'criancas', '.'], ['uma', 'parte', 'de', 'fundos', 'que', 'fiz', 'foi', 'diretamente', 'a', 'associacao', 'de', 'calculadora', 'implementacoes', 'e', 'a', 'incrivel', 'trabalho', 'que', 'ela', 'faz', 'e', 'que', 'ainda', 'tenha', 'feito', 'hoje', 'em', 'africa', 'do', 'sul', '.'], ['ele', 'mudou', 'as', 'placas', 'tectonicas', 'da', 'terra', ',', 'acelera', 'a', 'rota', 'do', 'planeta', 'e', 'literalmente', 'a', 'racieoci', '.'], ['foi', 'o', 'meu', 'humilde', 'a', 'experiencia', '.'], ['e', '20', '%', 'do', 'orcamento', 'de', 'saude', '.'], ['o', 'objectivo', 'da', 'minha', 'criacao', 'nao', 'insigencia', 'de', 'avadez', '.'], ['e', 'aqui', ',', 'adimburgo', ',', 'com', 'a', 'incrivel', 'heahmografia', 'de', 'criancas', 'africanos', ',', 'que', 'adoro', '.'], ['toda', 'a', 'gente', 'na', 'terra', 'respeitada', 'nelson', 'mandela', '.', 'toda', 'a', 'gente', 'nelson', 'mandela', 'sempre', '.'], ['depois', 'do', 'terramoto', 'e', 'tsunami', ',', 'as', 'pessoas', 'tem', 'sido', 'evaporado', 'em', 'grandes', 'espacos', ',', 'como', 'gipoviais', '.'], ['deixem', '-', 'me', 'subir', 'desconfigura', '.', 'vao', 'la', 'parte', 'de', 'baixo', '.'], ['a', 'campanha', 'cingue', 'e', 'tres', 'pessoas', 'maravilhosas', 'que', 'me', 'ajuda', 'a', 'merrir', 'e', 'a', 'minha', 'apoio', '.'], ['foi', 'muito', 'dificil', 'testar', 'esta', 'nova', 'materia', 'para', 'o', 'edificio', ',', 'mas', 'em', 'vez', 'de', 'se', 'ter', 'mais', 'redotado', 'do', 'que', 'pressssidencial', 'e', 'tambem', 'podemos', 'torna', '-', 'lo', 'compreensura', ',', 'porque', 'e', 'tambem', 'uma', 'materia', 'industrial', ',', 'e', 'tambem', 'uma', 'materia', 'industrial', '.'], ['conseguem', 'provar', 'que', 'tem', 'uma', 'legileira', 'no', 'documento', '?'], ['vou', 'partilhar', 'aqui', 'duas', 'direcoes', 'que', 'demora', 'o', 'meu', 'trabalho', '.'], ['e', 'sou', 'muito', 'honesa', 'que', 'me', 'tinha', 'convidor', ',', 'ha', 'apenas', 'alguns', 'meses', 'atras', ',', 'que', 'se', 'tornou', 'um', 'abaixador', 'de', 'um', 'espetrodo', '.'], ['quando', 'e', 'que', 'isso', 'acontece', '?', 'nao', 'sabemos', ',', 'mas', 'pode', 'ser', 'possivel', 'que', 'os', 'neandertais', 'nao', 'faziam', 'isso', '.'], ['(', 'aplausos', ')'], ['chris', 'anderson', ':', 'julian', '.'], ['enquanto', 'as', 'galinhas', 'estao', 'a', 'tornar', '-', 'se', 'em', 'apenas', 'dois', 'meses', '.'], ['e', 'gostaria', 'de', 'terminar', 'com', 'a', 'historia', 'de', 'adaptada', '.'], ['claro', 'que', 'nao', '!', 'tem', 'que', 'praticar', '24', '/', '7', '.'], ['uma', 'coisa', 'em', 'que', 'o', 'bebe', 'possa', 'pensar', ',', 'que', 'pode', 'vir', 'a', 'mente', ',', 'tentar', 'ser', 'o', 'que', 'esta', 'a', 'acontecer', 'no', 'espirito', 'deste', 'bebe', '.'], ['o', 'que', 'e', 'fixe', 'e', 'que', 'um', 'sabe', 'um', 'banho', 'excecional', 'para', 'cinco', 'a', 'meio', 'rand', '.'], ['hoje', ',', 'escrevo', 'um', 'bloquei', '.'], ['se', 'eu', 'vos', 'tiver', 'a', 'minha', 'funcao', ',', 'certamente', 'voces', 'devem', 'comecar', 'a', 'pensar', 'que', 'a', 'forma', 'de', 'fazer', 'o', 'detecao', 'seria', 'um', 'bloco', '-', 'detetores', 'no', 'dete', '.'], ['sao', 'pesados', ',', 'em', 'configumes', 'e', 'descontruirem', '-', 'se', '.', 'e', 'tambem', 'sao', 'muito', 'dinheiro', '.'], ['esta', 'e', 'aveli', '.', 'ela', 'estava', 'em', 'qualquer', 'lado', '.'], ['entao', ',', 'o', 'que', 'me', 'deixou', 'de', 'acabar', 'com', 'os', 'olhos', '?'], ['nao', 'tem', 'de', 'pensar', 'em', 'tudo', 'isto', 'em', 'visizem', '.'], ['o', 'que', 'vimos', 'foi', 'redes', 'de', 'propriedades', 'de', 'propriedades', 'diferentes', '.'], ['e', 'quanto', 'tempo', 'durou', '?', 'e', 'o', 'que', 'e', 'que', 'isso', 'significa', '?'], ['a', 'fotografia', 'e', 'uma', 'questao', 'de', 'empatia', ',', 'e', 'a', 'familia', 'e', 'aminitar', 'os', 'elementos', 'garanticamente', 'a', 'empatia', '.'], ['chamamos', '-', 'lhes', 'cuidados', 'de', 'saude', 'no', 'eixo', 'do', 'valor', '.'], ['a', 'morte', ':', 'a', 'morte', 'pode', '-', 'se', 'deixar', 'ou', 'qualquer', 'pessoa', ',', 'ou', 'mesmo', 'quando', ',', 'num', 'biomedico', '.'], ['isto', 'requerer', 'o', 'vosso', 'parceiro', 'para', 'confiar', 'nele', 'quando', 'e', 'dificil', 'de', 'confiar', 'em', 'confianca', ',', 'mas', 'o', 'que', 'parece', 'ser', 'facil', 'e', 'revolucionario', '.'], ['todos', 'sabemos', 'partes', ',', 'mas', ',', 'nao', 'sabemos', 'que', 'nos', 'nao', 'sabemos', '.'], ['e', ',', 'na', 'verdade', ',', 'uma', 'forma', 'de', 'ser', ',', 'que', 'aqui', 'esta', ',', 'e', 'verdade', ',', 'e', 'o', 'que', 'e', 'criativo', 'e', 'criativo', '.'], ['mas', ',', 'de', 'facto', ',', 'e', 'tao', 'bem', 'surpreendida', 'com', 'o', 'porque', 'as', 'abelhas', ',', 'como', 'podem', 'reconhecer', 'uma', 'boa', 'florida', 'do', 'dia', ',', 'a', 'luz', 'do', 'dia', ',', 'ou', 'o', 'tempo', ',', 'ou', 'o', 'outro', 'lado', 'da', 'superficie', '.', '(', 'aplausos', ')', 'o', 'proximo', 'passo', ':', 'o', 'proximo', 'passo', ':', 'o', 'passo', ':', 'o', 'proximo', 'passo', 'foi', 'uma', 'forma', 'de', 'consulto', ',', 'e', 'entao', 'eles', 'estao', 'a', 'fazer', '-', 'se', 'fazer', 'e', 'entao', 'estas', 'criancas', ',', 'e', 'podem', 'ver', '-', 'se', 'fazer', 'com', 'que', 'as', 'abelhas', 'tem', 'a', 'amplitude', '?', 'e'], ['e', 'o', 'que', 'ela', 'fez', 'foi', 'mostrar', 'as', 'criancas', 'que', 'os', 'amarelos', 'fossem', 'adome', 'e', 'o', 'cor', 'vermelha', 'e', 'depois', 'ela', 'mostra', 'a', 'sua', 'ancestral', '.'], ['mas', 'enquanto', 'otimismo', ',', 'eu', 'vejo', 'que', 'vimos', 'para', 'ver', 'algumas', 'mudancas', '.'], ['seria', 'uma', 'mudanca', 'de', 'paradigma', 'para', 'cuidados', 'de', 'saude', 'e', 'eu', 'diria', 'que', 'nao', 'so', 'so', 'e', 'possivel', ',', 'mas', 'que', 'deve', 'ser', 'feito', '.'], ['(', 'musica', ')', 'voz', ':', 'se', 'tens', 'todos', 'os', 'simbolos', 'de', 'cartoes', ',', 'tens', 'que', 'ter', 'tido', '365', '.'], ['quando', 'comecei', 'a', 'pesquisar', 'de', 'amor', 'romantica', ',', 'encontrei', 'estas', 'metaforas', 'ligadas', 'a', 'toda', 'a', 'gente', '.'], ['mas', 'e', 'assim', 'que', 'podemos', 'comecar', 'a', 'restaurar', 'o', 'nosso', 'ambiente', '.'], ['ha', '330', 'tubos', ',', 'de', 'estacao', 'de', 'gasolina', ',', 'ha', 'apenas', '12', 'tubos', 'de', 'diametro', 'de', '1', 'centimetros', ',', 'ou', 'quatro', 'pes', '.'], ['`', '`', 'esta', 'versao', 'de', 'amor', 'e', ':', '`', '`', \"'\", \"'\", 'nao', 'vamos', 've', '-', 'lo', 'bem', '.', 'nao', 'e', 'talvez', 'nao', 'seja', 'para', 'nos', '.', \"'\", \"'\"], ['bem', ',', 'e', 'muito', 'simples', '.'], ['mas', 'os', 'medicos', 'tem', 'uma', 'outra', 'caracteristica', '.'], ['podem', 'ter', ',', 'por', 'isso', ',', 'a', 'cultura', 'asseeja', '.'], ['ha', 'uma', 'razao', 'de', 'o', 'evolucao', '.'], ['oh', ',', 'o', 'ponto', 'de', 'caixa', 'de', 'eletricidade', 'dentro', 'da', 'eletricidade', '.', 'mas', 'a', 'nega', 'nao', 'tem', 'eletricidade', '.'], ['nao', 'temos', 'medo', 'de', 'criar', 'algo', 'novo', '.'], ['alguns', 'conduzam', 'ao', 'suicidio', ',', 'certo', '?'], ['criei', 'um', 'tubo', 'de', 'construcao', 'em', 'tubos', 'de', 'caton', ',', 'e', 'para', 'elas', 'ser', 'facil', 'de', 'construir', 'estudantes', ',', 'e', 'tambem', 'facil', 'de', 'confiar', ',', 'tambem', 'usei', 'a', 'projetacao', 'de', 'cerveja', '.'], ['dezenas', '?', 'centenas', 'de', 'milhares', '?', 'milhares', 'de', 'pessoas', '?'], ['dois', 'anos', 'depois', ',', 'a', 'degradacao', 'de', 'agradada', 'era', 'espetacular', '.'], ['aqui', 'esta', 'a', 'pagina', 'da', 'apresentacao', '.', 'temos', 'um', 'numero', 'de', 'escritores', 'aqui', '.'], ['proponho', '-', 'me', 'para', 'reconstruir', 'a', 'reconstruir', '.', 'tenho', 'andado', 'a', 'fazer', 'fundos', '.'], ['para', 'esse', 'medicamento', 'em', 'particular', ',', 'cinco', '%', 'dos', 'pacientes', 'tem', 'efeitos', 'insidicada', '.'], ['nao', 'pode', 'funcionar', '.'], ['entao', ',', 'porque', 'e', 'que', 'me', 'destilhar', 'e', 'eventualmente', 'mergulha', 'a', 'minha', 'vida', 'em', 'perigo', '?'], ['narrador', ':', 'ha', 'dois', '.'], ['eles', 'dao', '-', 'se', 'horro', ',', 'porque', 'sei', 'o', 'que', 'vos', 'vou', 'mostrar', '.'], ['e', 'isto', 'pode', 'ser', 'porque', 'personalidades', 'norte', '-', 'americanos', 'nao', 'parecemos', 'como', 'nestas', 'eplicacoes', 'sao', 'na', 'verdadenia', ',', 'neste', 'scanne', '.'], ['e', 'eu', 'concluindo', 'que', 'gostam', 'de', 'gostar', 'deste', 'tipo', 'de', 'transformacao', '.'], ['(', 'risos', ')', '(', 'risos', ')', 'ok', '.', '(', 'risos', ')', 'vamos', 'fazer', 'uma', 'pequena', 'demonstracao', ',', 'ok', '?'], ['mapas', 'dos', 'mapas', 'sao', 'os', 'simbolos', 'mais', 'antigos', ',', 'e', 'foram', 'interpretadas', 'de', 'formas', 'muito', 'bem', '.'], ['enquanto', 'ciberali', ',', 'eu', 'sou', 'uma', 'especie', 'de', 'ilusao', 'para', 'uma', 'nova', 'ciencia', 'para', 'nos', 'dar', 'um', 'sabor', 'antes', 'do', 'que', 'a', 'tecnologia', 'ira', 'ser', 'amanha', '.'], ['conecluim', 'toda', 'a', 'humanidade', ',', 'independentemente', 'da', 'india', ',', 'independentemente', 'da', 'politica', 'ideia', '.', 'e', 'a', 'boa', 'noticia', '.'], ['mt', ':', 'aqui', 'temos', 'a', 'marea', ',', 'e', 'aqui', 'a', 'manrencia', 'alta', ',', 'e', 'no', 'meio', 'e', 'a', 'lua', '.'], ['quando', 'comecamos', 'a', 'investigar', 'o', 'bcgggg', ',', 'decidimos', 'nao', 'se', 'vencemos', 'os', 'custos', ',', 'mas', ',', 'em', 'vez', 'disso', ',', 'e', 'na', 'nossa', 'pesquisa', ',', 'uma', 'pesquisa', ',', 'uma', 'das', 'coisas', 'que', 'nos', 'fascinaram', 'as', 'coisas', 'que', 'nos', 'ja', 'vimos', '.'], ['isto', 'nem', 'sequer', 'e', ',', 'em', 'opiniao', ',', 'do', 'museu', '.'], ['portanto', ',', 'e', 'um', 'grande', 'problema', 'pratico', '.'], ['e', 'facil', 'vender', '.'], ['envergonhados', ',', 'estao', 'a', 'fazer', 'isto', '.'], ['`', '`', 'um', '`', '`', \"'\", \"'\", 'folco', \"'\", \"'\", \"'\", ',', 'o', 'que', 'e', '?', \"'\", \"'\"], ['este', 'servico', 'de', 'servico', ',', 'basicamente', ',', 'desconfia', '-', 'se', 'a', 'criar', 'uma', 'mensagem', 'ou', 'video', 'que', 'pode', 'ser', 'publicado', 'no', 'facebook', 'apos', 'a', 'vossa', 'morte', '.'], ['e', 'as', 'colocias', 'e', 'outros', 'conversos', ',', 'grande', 'colorido', ',', 'colorido', ',', 'colorido', ',', 'e', 'por', 'ai', 'adiante', ',', 'sao', 'passaros', 'inteligentes', '.'], ['a', 'maioria', 'dos', 'doentes', 'nao', 'sao', 'tratados', 'em', 'tempo', 'e', 'morrem', '.'], ['portanto', ',', 'foi', 'obviamente', '.', '.', '.', '.', 'uma', 'com', 'muito', 'emocional', 'que', 'nos', 'deixou', 'de', 'nos', 'levar', 'a', 'isto', 'com', 'esta', 'experiencia', ',', 'esta', 'crianca', ',', 'esta', 'historia', '.'], ['talvez', 'tenhamos', 'a', 'pergunta', 'que', 'o', 'maior', 'movimento', 'mais', 'curto', '.'], ['mudar', 'a', 'forma', 'como', 'uma', 'pessoa', 'pensa', 'sobre', 'algo', 'pode', 'ser', 'facil', 'ou', 'de', 'ser', 'dificil', '.', 'depende', 'da', 'forma', 'como', 'pessoa', 'se', 'resta', 'a', 'mudanca', '.'], ['penso', 'que', 'podemos', 'resolver', 'este', 'problema', '\\\\xe2\\\\x80\\\\x94', 'passo', 'a', 'minha', 'vida', 'a', 'trabalhar', 'numa', 'parte', 'deste', 'problema', '.'], ['de', 'certa', 'forma', ',', 'queria', 'sentir', '-', 'me', 'um', 'pouco', 'malucado', 'porque', ',', 'pensava', 'que', 'o', 'amor', 'funcionava', '.'], ['e', 'uma', 'terceira', 'vez', ',', 'so', 'um', 'technitorio', '.'], ['neste', 'momento', ',', 'ate', '48', 'horas', 'de', 'video', 'enfrentado', 'no', 'youtube', 'a', 'cada', 'minuto', '.'], ['e', 'vou', 'falar', 'de', 'uma', 'doenca', 'em', 'particular', '.'], ['nao', 'e', 'maravilhoso', '?'], ['johnson', 'e', 'akop', 'suficia', 'tem', 'uma', 'nova', 'metafora', 'para', 'o', 'amor', ':', 'amor', 'e', 'como', 'obra', 'de', 'arte', 'colaborativo', '.'], ['`', '`', 'falem', 'com', 'voces', '.', \"'\", \"'\", \"'\", 'obrigado', '.', \"'\", \"'\"], ['as', 'trocas', 'entre', 'grupos', 'tem', 'estado', 'a', 'meio', ',', 'ha', 'mil', 'anos', 'atras', '.'], ['havia', 'um', 'bill', 'e', 'um', 'brilho', 'da', 'energia', '.'], ['isto', 'nao', 'parece', 'ser', 'raffline', ',', 'mas', 'foi', 'a', 'nossa', 'primeira', 'tentativa', 'de', 'criar', 'um', 'grande', 'dispositivo', 'para', 'criar', 'este', 'problema', '.'], ['bl', ':', 'o', 'que', 'e', 'que', 'se', 'leu', '?', 'nao', 'ha', 'palavras', 'aqui', '.'], ['na', 'nossa', 'especie', ',', 'nao', 'queremos', 'fazer', 'isso', '.'], ['podem', 'ver', 'as', 'barras', 'da', 'janela', '.'], ['agora', ',', 'este', 'e', 'um', 'museu', 'muito', 'popular', ',', 'e', 'criei', 'um', 'grande', 'monocumenho', 'para', 'o', 'governo', '.'], ['por', 'fim', ',', 'todas', 'as', 'experiencias', 'do', 'amor', 'e', 'diferente', '.'], ['como', 'estavamos', 'a', 'fazer', 'parte', 'da', 'exposicao', ',', 'se', 'um', 'amigo', 'quisesse', 'ir', 'ver', ',', 'tinha', 'que', 'pagar', 'o', 'seu', 'curso', '.'], ['esta', 'agora', 'a', 'trabalhar', '.'], ['e', 'estimulante', '.'], ['transformamos', '.', 'fazem', 'uma', 'vegegia', ',', 'etc', '.'], ['e', 'esta', 'combinacao', ',', 'esta', 'tecnologia', 'cumulacional', ',', 'que', 'me', 'intrinseca', '.', 'porque', 'penso', 'que', 'e', 'o', 'segredo', 'para', 'perceber', 'o', 'que', 'acontece', 'no', 'mundo', '.'], ['e', 'muito', 'girador', 'de', 'visao', 'medico', 'e', 'humana', '.'], ['buracos', 'no', 'coracao', 'das', 'criancas', 'podem', 'ser', 'respondido', 'assim', '.'], ['foi', 'a', 'primeira', 'politicamente', 'iniciada', 'pela', 'primeira', 'pessoa', 'britanica', ',', 'david', 'caron', ',', 'na', 'g8', ',', 'que', 'esta', 'a', 'ser', 'abordado', 'no', 'norte', 'de', 'norte', 'em', '20133', '.'], ['e', 'porque', 'a', 'percecao', 'e', 'baseado', 'na', 'nossa', 'experiencia', '.'], ['`', '`', '`', '`', \"'\", \"'\", 'eu', 'projetoria', 'as', 'criancas', 'da', 'vossa', 'equipa', 'de', 'minha', 'equipa', '.', \"'\", \"'\", \"'\", \"'\", 'por', 'isso', 'gostava', 'de', 'terminar', 'com', 'uma', 'metafora', 'fisica', '.', \"'\", \"'\"], ['bonito', 'numero', ':', 'entao', ',', 'esse', 'jogo', 'e', 'muito', 'simples', '.'], ['vou', 'contar', '-', 'vos', 'como', 'e', 'que', 'me', 'tornei', 'uma', 'miquezada', 'pela', 'batalha', 'de', 'sida', '.'], ['a', 'mortalidade', 'infantil', 'diminuiu', 'de', 'dois', 'tercos', '.'], ['nao', 'vimos', 'o', 'que', 'vejo', 'com', 'um', 'desses', 'dispositivos', '.'], ['e', 'a', 'outra', 'coisa', 'e', 'que', 'nao', 'ha', 'provas', 'de', 'troca', 'entre', 'grupos', '.', 'porque', 'os', 'objetos', 'estao', 'a', 'encontrar', 'neandertais', ',', 'as', 'ferramentas', 'que', 'fazem', ',', 'sempre', ',', 'sao', 'factos', ',', 'e', 'factos', 'que', 'estao', 'sempre', 'a', 'partir', 'de', 'materiais', 'locais', '.'], ['eles', 'tem', 'dinheiro', 'e', 'poder', '.'], ['e', 'eles', 'restam', 'muito', 'bem', ',', 'mesmo', 'se', 'aproximam', 'com', 'um', 'material', 'flexivel', 'como', 'o', 'papel', '.'], ['debaixo', 'deste', 'manifestador', ',', 'estava', 'profundamente', 'nobre', ',', 'e', 'eu', 'estava', 'completamente', 'cheio', 'de', 'seguros', ',', 'e', 'eu', 'estava', 'completamente', 'a', 'ser', 'completamente', 'afectada', 'por', 'outras', 'pessoas', ',', 'pelo', 'futuro', ',', 'pelo', 'escogo', ',', 'e', 'senti', 'que', 'sentia', '-', 'me', 'que', 'sentia', '.'], ['e', 'este', 'e', 'o', 'nome', 'da', 'minha', 'campanha', ',', 'a', 'campanha', 'que', 'e', 'a', 'sua', 'cancao', '.'], ['os', 'medicos', 'e', 'as', 'enfermeiras', 'eram', 'explosoes', '.'], ['e', 'se', 'olharem', 'para', 'os', 'seus', 'cerebros', ',', 'podem', 'ver', 'que', 'sao', 'navaliacoes', 'dos', 'neolos', 'para', 'apreciarem', 'verdadeiramente', 'a', 'aprendizagem', 'e', 'da', 'plasticidade', ',', 'e', 'as', 'partes', 'inegotavel', 'nao', 'sao', 'activados', '.'], ['entao', ',', 'se', 'quisermos', 'saber', 'o', 'que', 'e', 'para', 'tras', 'esses', 'olhos', 'castanhotos', 'castanho', ',', 'penso', 'que', 'isto', 'parece', 'algo', 'como', 'isto', '.'], ['comparando', 'macas', 'com', 'macas', 'de', 'macas', '.', 'o', 'que', 'e', 'melhor', '?'], ['(', 'risos', ')', '(', 'aplausos', ')', 'obrigado', '.', 'mas', 'havia', 'um', 'grande', 'problema', '.'], ['os', 'chimpanzes', ',', 'os', 'chimpanzes', 'sao', 'os', 'sinais', ',', 'eles', 'tem', 'uma', 'cultura', '.'], ['nao', 'tinha', 'o', 'guiado', ',', 'eu', 'tinha', 'muito', 'pouco', 'dinheiro', 'e', 'nao', 'falei', 'com', 'espanhol', '.'], ['hoje', 'em', 'dia', ',', 'quando', 'estou', 'a', 'templorado', 'a', 'nefaltragem', 'e', 'desespero', 'nos', 'anos', ',', 'parece', 'que', 'se', 'alguem', 'fosse', 'uma', 'morte', ',', 'e', 'contudo', ',', 'ainda', 'assim', ',', 'alguem', 'ficou', 'salvada', '.'], ['e', 'vamos', 'colocar', 'o', 'mapa', 'em', 'jogo', ',', 'algures', 'no', 'meio', ',', 'e', 'comecar', '.'], ['em', 'todas', 'as', 'companhias', 'de', 'cacadores', '-', 'cirurbagens', ',', 'ha', 'uma', 'divisao', 'de', 'trabalho', 'de', 'investigacao', 'entre', 'comida', ',', 'no', 'todo', 'o', 'tipo', 'de', 'esticuladores', 'e', 'as', 'gembrosas', 'e', 'as', 'guecem', '.'], ['permite', '-', 'nos', 'olhar', 'para', 'formas', 'de', 'vida', 'pequenas', 'que', 'sao', 'invisiveis', 'para', 'o', 'olho', 'nu', '.'], ['como', 'e', 'que', 'isso', 'aconteceu', '?'], ['a', 'ha', 'quatro', 'horas', 'para', 'fazer', 'uma', 'frequeza', 'e', 'tres', 'horas', 'para', 'fazer', 'uma', 'harpe', '.'], ['nao', 'quero', 'dizer', 'que', 'os', 'bebes', 'sao', 'maravilhosos', '.'], ['christiam', 'friptado', '.'], ['como', 'esta', '.', 'e', 'vou', 'pedir', 'a', 'marcacao', 'para', 'reconhecer', 'quando', 'ele', 'se', 'reconhecam', 'quando', 'ele', 'reapava', '.'], ['e', 'o', 'que', 'fizemos', 'na', 'sociedade', 'humana', ',', 'por', 'partilha', 'e', 'especialidade', ',', 'e', 'que', 'criamos', 'a', 'capacidade', 'de', 'fazer', 'coisas', 'que', 'nem', 'sequer', 'entendemos', '.'], ['e', ',', 'de', 'facto', ',', 'as', 'criancas', 'de', 'quatro', 'anos', ',', 'eram', 'capazes', 'de', 'ser', 'observa', '-', 'los', 'em', 'cima', 'do', 'detetor', '.'], ['vejo', 'o', 'vosso', 'elemento', ',', 'tinha', 'quatro', 'humildes', ',', 'a', 'passaro', '.'], ['fomos', 'para', 'alem', 'da', 'capacidade', 'humana', 'numa', 'medida', 'extraordinaria', '.'], ['`', '`', 'eu', 'repreta', '-', 'me', 'a', 'um', 'brin', 'de', 'leonardo', 'da', 'vincine', ',', 'o', 'economista', 'nos', 'anos', 'chamado', '`', '`', \"'\", \"'\", 'eu', \"'\", \"'\", \"'\", \"'\", ',', 'chamado', 'euy', 'leon', ',', 'sobre', 'onde', 'ele', 'escreveu', 'sobre', 'um', 'craonico', ',', 'e', 'como', 'alguem', 'sabe', 'como', 'alguem', 'sabe', 'fazer', 'um', 'craon', ',', 'porque', 'as', 'pessoas', 'nao', 'sabem', 'como', 'o', 'tornava', 'e', 'nao', 'sabem', 'como', 'o', 'femie', '.', \"'\", \"'\"], ['a', 'sobrevivencia', 'depende', 'da', 'comunicacao', 'entre', 'o', 'sangue', 'esquitetica', 'e', 'o', 'sangue', '.'], ['penso', 'que', 'o', 'valor', 'no', 'sistema', 'de', 'revolucionario', 'ira', 'revolucionar', 'as', 'coisas', ',', 'e', 'eu', 'acredito', 'que', 'o', 'fundo', 'da', 'medicina', 'moderna', ',', 'grega', 'o', 'grego', 'hippraprapraprapracio', ',', 'que', 'ainda', 'esta', 'sempre', 'a', 'entrar', 'no', 'centro', 'da', 'sua', 'baixa', '.'], ['para', 'o', 'nosso', 'passado', ',', 'um', 'travao', 'especial', '.'], ['`', '`', '`', '`', 'oh', ',', 'meu', 'deus', ',', 'oh', 'meu', 'deus', ',', 'meu', 'deus', ',', 'ele', 'me', 'move', 'de', 'novo', '!', \"'\", \"'\", \"'\"], ['lembro', '-', 'me', 'de', 'fora', 'de', 'alguma', 'coisa', 'sobre', 'estas', 'forcas', '.'], ['entao', ',', 'os', 'ganheiros', 'de', 'comercio', 'de', 'transito', 'vao', 'tornar', '-', 'se', 'a', 'desenvolver', '.'], ['aqui', 'esta', 'uma', 'outra', 'vez', '.'], ['a', 'curiosidade', ',', 'o', 'interesse', 'publico', 'e', 'a', 'inocencia', 'e', 'o', 'zeoja', 'e', 'as', 'coisas', 'mais', 'importantes', 'e', 'para', 'fazer', 'ciencia', '.'], ['eu', 'fiquei', 'com', 'a', 'tornou', '-', 'se', 'emissario', 'da', 'batalha', 'de', 'econcentrado', 'pela', 'sida', '.'], ['o', 'que', 'foi', 'realmente', 'interessante', 'com', 'este', 'projeto', ',', 'foi', 'que', 'nos', ',', 'e', 'bonito', ',', 'nao', 'so', 'se', 'fosse', 'a', 'ideia', 'de', 'ser', 'ou', 'nao', 'funcionar', '.'], ['se', 'nao', 'se', 'irao', 'ver', 'por', 'isso', ',', 'por', 'isso', ',', 'falar', 'com', 'o', 'que', 'falaria', 'em', 'vaginal', '.'], ['ja', 'vimos', 'algumas', 'experientes', '.'], ['pode', '-', 'se', 'mudar', 'em', 'estruturas', 'muito', 'complexos', ',', 'de', 'facto', ',', 'de', 'um', 'procedimento', 'exceptualmente', 'a', 'duzia', 'de', 'anos', 'de', 'desenvolvimento', '.'], ['e', 'prevencao', 'que', 'o', 'prevencao', 'comecou', 'a', 'vida', '.'], ['audiencia', ':', '(', 'risos', ')', '(', 'risos', ')', '(', 'crisca', ')', '(', 'risos', ')', 'ok', ',', 'abrir', 'os', 'olhos', '.', 'agora', 'vamos', 'faze', '-', 'lo', 'outra', 'vez', '.', 'vamos', 'faze', '-', 'lo', 'outra', 'vez', '.'], ['a', 'minha', 'primeira', 'escultura', 'que', 'eu', 'era', 'feita', 'em', 'colaboracao', 'com', 'estes', 'pescadores', '.'], ['o', 'bobina', 'remove', '-', 'o', 'a', 'seguir', '.'], ['como', 'e', 'que', 'nos', 'tornamos', 'a', 'unica', 'especie', 'que', 'se', 'torna', 'mais', 'projetada', 'em', 'mais', 'projetada', '?'], ['vamos', 'fazer', 'milhares', 'de', 'microscopios', '.'], ['sao', 'tambem', 'inteligentes', 'que', 'sao', 'chimpanzes', 'de', 'partilha', 'de', 'pontos', '.'], ['e', 'a', 'forma', 'como', 'a', 'evolucao', 'esta', 'a', 'comecar', 'a', 'ser', 'resolvido', 'este', 'problema', 'e', 'uma', 'especie', 'de', 'divisao', 'de', 'trabalho', '.'], ['eles', 'aprendem', 'tudo', 'a', 'contar', '.'], ['24', '/', '7', 'e', 'um', 'pouco', 'exagero', ',', 'mas', 'e', 'isso', 'exposto', 'o', 'treino', '.', 'e', 'a', 'magia', ',', 'tem', 'de', 'ser', 'forca', 'de', 'um', 'lado', 'de', 'um', 'dia', 'de', 'cabelo', '.', '(', 'risos', ')', '(', 'aplausos', ')'], ['mas', 'eles', 'sao', 'muito', 'bons', 'para', 'recuperar', 'muitos', 'de', 'muitos', 'tipos', 'diferentes', 'de', 'fontes', 'em', 'si', 'mesmo', 'tempo', '.'], ['mas', 'nao', 'existia', 'software', 'de', 'engenharia', 'de', 'engenharia', 'que', 'permite', 'que', 'fosse', 'feita', 'algo', 'de', 'peoritos', 'e', 'monografica', '.'], ['uma', 'invencao', 'curiosa', 'de', 'scannytica', ':'], ['o', 'amor', 'e', 'imprevisivel', ',', 'o', 'amor', 'e', 'criativo', 'e', 'disposta', 'a', 'disculcuta', 'e', 'frustrante', 'e', 'fugar', 'de', 'uma', 'visao', 'emocional', '.'], ['tinha', 'que', 'ficar', 'nos', 'tres', 'anos', ',', 'mas', 'ela', 'passou', '10', 'anos', 'atras', ',', 'porque', 'as', 'pessoas', 'estavam', 'a', 'fazer', '.'], ['e', 'um', 'objetivo', 'muito', 'ambigua', ',', 'mas', 'achamos', 'que', 'pode', 'ser', 'com', 'um', 'compromisso', 'politico', '.'], ['prefere', '-', 'vos', 'que', 'e', '\\\\xe2\\\\x80\\\\x94', 'isto', 'e', 'intensa', '.'], ['estamos', 'em', '1800', '.'], ['deixem', '-', 'me', 'explicar', '-', 'vos', 'por', 'uma', 'analogia', '.'], ['a', 'mulher', 'sabe', 'que', ',', 'no', 'caso', 'de', 'hadqzada', 'as', 'raizes', 'com', 'as', 'escolhas', 'com', 'parceiros', ',', 'ela', 'sabe', 'que', 'tudo', 'o', 'que', 'ela', 'tenha', 'para', 'se', 'fazer', 'para', 'fazer', 'a', 'proteina', 'e', 'remove', '-', 'las', 'para', 'a', 'dimensao', 'extra', '-', 'a', 'de', 'uma', 'carne', 'de', 'carne', 'e', 'trocar', '-', 'las', 'em', 'carne', '.'], ['`', '`', '`', '`', \"'\", \"'\", 'isso', 'seria', 'suposto', 'ser', 'publicados', 'a', 'sua', 'atencao', '.', \"'\", \"'\", \"'\", \"'\", 'e', 'o', 'que', 'fizemos', '?', \"'\", \"'\", \"'\", 'o', 'que', 'fizemos', '?', \"'\", \"'\"], ['no', 'mundo', ',', 'um', 'miudo', 'no', 'campo', 'de', 'peixe', 'nascem', 'com', 'uma', 'doenca', 'cardiaca', '.'], ['em', 'johones', 'jour', 'jess', ',', 'tive', 'a', 'oportunidade', 'de', 'tocar', 'para', 'um', 'publico', 'britanico', ',', 'brancos', 'para', 'a', 'minha', 'turmas', 'brancos', 'e', 'a', 'minha', 'classe', 'media', 'de', 'acordacao', ',', 'porque', 'usei', 'filmes', 'que', 'estao', 'a', 'tocar', 'na', 'natureza', ',', 'a', 'verdadeira', 'tragedia', 'terrivelmente', ',', 'porque', 'as', 'pessoas', 'tem', 'tendencia', 'a', 'ignorar', ',', 'porque', 'eles', 'nao', 'sabem', 'que', 'sao', 'realmente', 'entendam', 'as', 'solucoes', 'responsaveis', 'pelativacao', 'e', 'nao', 'sabem', 'que', 'eles', 'nao', 'sabem', 'o', 'que', 'eles', 'sao', 'realmente', '.'], ['o', 'meu', 'filho', 'tem', '23', 'anos', '.'], ['foi', 'o', 'objectivo', 'da', 'minha', 'construcao', '.'], ['agora', 'ha', 'outros', 'animais', 'que', 'trabalham', 'para', 'os', 'outros', 'tambem', '.'], ['mas', 'nao', 'tenho', 'provas', 'para', 'isso', '.'], ['usei', 'o', 'contextualizado', ',', 'e', 'os', 'estudantes', 'tambem', 'ajudaram', '-', 'me', 'a', 'construir', 'as', 'mobilias', 'dos', 'edificios', 'para', 'as', 'conquistas', ',', 'em', 'respeito', 'o', 'governo', 'do', 'governo', '.', 'o', 'pancredimento', 'da', 'casa', 'e', 'muito', 'mais', 'confortavel', 'e', 'confortavel', '.'], ['e', 'e', 'e', 'assim', 'que', 'a', 'sociedade', 'esta', 'a', 'ser', 'feita', '.'], ['eventualmente', ',', 'o', 'precipiente', '-', 'me', 'para', 'confiar', 'em', 'reconstrucao', '.'], ['afeta', 'uma', 'especie', 'de', 'dinisiduosa', '.'], ['a', 'sua', 'forma', 'era', 'agora', 'demasiado', 'complexa', '.'], ['nao', 'podemos', 'hilirier', 'a', 'pessoa', 'que', 'se', 'estimula', 'orgulhosa', '.'], ['hartrut', 'a', 'sua', 'familia', 'e', 'amigos', 'de', 'escrever', 'um', 'curso', 'que', 'foi', 'apercedido', 'apos', 'a', 'sua', 'morte', '.'], ['recebi', 'um', 'nome', 'de', 'um', 'amigo', 'de', 'lata', '.'], ['quando', 'o', 'meu', 'primeiro', 'romance', 'escreveu', ',', 'na', 'america', ',', 'e', 'ouvi', 'uma', 'nota', 'interessante', 'de', 'uma', 'boa', 'noticia', 'da', 'violacao', '.'], ['e', 'o', 'homem', 'sabe', 'que', 'nao', 'e', 'preciso', 'de', 'cavar', 'para', 'obter', 'raizes', '.'], ['porque', ',', 'na', 'nuvem', ',', 'atraves', 'do', 'crowd', ',', 'atraves', 'do', 'mundo', 'acturroundsitariamente', 'obtecio', 'ou', 'nao', 'so', 'obtete', ',', 'mas', 'o', 'mundo', 'e', 'toda', 'a', 'gente', 'se', 'trata', 'de', 'conhecer', 'as', 'ideias', 'e', 'se', 'devem', 'conhecer', 'e', 'se', 'a', 'inovacao', ',', 'certamente', ',', 'nos', 'certamente', 'o', 'ritmo', 'de', 'inovacao', '.'], ['primeiro', ',', 'as', 'pessoas', 'do', 'estigma', '.'], ['nao', 'e', 'o', 'solo', ',', 'na', 'terra', ',', 'como', 'as', 'ilha', 'semelhantes', '.'], ['naquele', 'momento', ',', 'percebi', 'quao', 'energia', 'e', 'necessaria', 'para', 'manter', 'a', 'hastena', 'de', 'dentro', 'do', 'seu', 'interior', '.'], ['`', '`', 'entao', ',', 'depois', 'de', 'ter', 'visto', 'estes', 'estatisticas', 'sobre', 'o', 'liceu', ',', 'disse', '-', 'me', ':', '`', '`', \"'\", \"'\", 'ok', ',', 'sim', ',', '`', '`', \"'\", \"'\", 'se', 'nao', 'o', 'faco', 'com', 'um', 'banho', ',', '`', '`', \"'\", \"'\", 'porque', 'nao', 'tenho', 'de', 'ser', 'capaz', 'de', 'conseguir', 'um', 'banho', ',', 'pelo', 'menos', 'que', 'o', 'meu', 'mundo', 'para', 'salvar', 'o', 'meu', 'filho', '.', '(', 'risos', ')', \"'\", \"'\", \"'\", \"'\", '(', 'risos', ')', 'nao', 'tinha', 'seis44', ')', 'nao', 'tinha', 'um', 'telefone', 'no', 'liceu', ',', 'tinha', 'um', 'telefoneto', 'de', 'telefone', 'na', 'sua', 'palestra', ',', 'eu', 'tinha'], ['hotel', '.', '.', 'bushterm', 'dois', ',', 'bushteram', ',', 'seis', 'bush', ',', 'seis', ','], ['alguem', 'mais', 'feliz', 'que', 'eu', 'poderia', 'ter', 'visto', 'este', 'momento', 'como', 'uma', 'oportunidade', ',', 'mas', 'isso', 'me', 'fez', 'comlisecie', '.'], ['e', 'um', 'ciclo', 'de', 'feedback', '.'], ['parece', 'que', 'agrega', 'e', 'uma', 'estrategia', 'mais', 'eficaz', 'do', 'que', 'o', 'outro', '.'], ['a', 'mensagem', 'que', 'um', 'bodburtrico', 'esta', 'agora', 'a', 'descobrir', 'que', 'o', 'mundo', 'excecionalmente', 'a', 'erradicacao', 'da', 'transmissao', 'da', 'mae', ',', 'em', '2015', ',', 'a', 'sua', 'crianca', ',', 'por', 'ano', '.'], ['eles', 'trabalhavam', 'para', 'mim', ',', 'para', 'fazer', 'um', 'rato', 'para', 'mim', '.'], ['como', 'tudo', 'isto', 'e', 'muito', 'caro', ',', 'nos', 'sonharmos', 'para', 'o', 'dinheiro', ',', 'e', 'recomendamos', 'a', 'cortar', 'as', 'arvores', '.'], ['rapidamente', ',', 'eles', 'descobriram', 'que', 'se', 'metimularem', 'o', 'citimo', 'do', 'doente', 'do', 'doente', 'antes', 'de', 'colocar', 'a', 'tambulite', ',', 'o', 'cigorme', 'de', 'metal', ',', 'e', 'a', 'maioria', 'dos', 'doentes', 'nao', 'precisariam', 'ser', 'restada', 'no', 'seu', 'tempo', '.'], ['entao', ',', 'o', 'numero', 'de', 'pessoas', 'a', 'processarem', 'a', 'situarem', 'mais', 'perto', ',', 'o', 'que', 'e', 'que', 'acham', 'que', 'seja', '?'], ['mas', 'o', 'que', 'e', 'que', 'representa', 'o', 'nstigess', '?'], ['o', 'que', 'me', 'fez', 'pensar', 'em', 'principio', ',', 'e', 'um', 'dia', 'de', 'bloqueado', 'ha', 'alguns', 'meses', 'atras', ',', 'que', 'era', 'um', 'jornalista', 'muito', 'especial', 'e', 'que', 'era', 'um', 'jornalista', 'teservador', 'do', 'cancro', '.'], ['voz', ':', 'penso', 'que', 'o', 'teu', 'desejo', 'de', 'aniversario', 'excel', '.', 'mt', ':', 'mt', ':', 'e', 'isto', 'deixa', '-', 'me', 'ultima', 'e', 'a', 'maior', 'parte', 'de', 'todos', 'os', 'cartoes', '\\\\xe2\\\\x80\\\\x94', 'o', 'mapa', 'abocelera', '.'], ['podem', 'imaginar', 'o', 'que', 'podera', 'fazer', 'em', 'cinco', 'ou', '20', 'anos', ',', 'ou', '20', 'anos', ',', 'com', 'o', 'progresso', 'das', 'nossas', 'capacidades', 'tecnologicas', '.'], ['lembrem', '-', 'se', ':', 'estas', 'pessoas', 'sao', 'absolutamente', 'normais', '.'], ['sentimos', 'frequentemente', 'quando', 'nos', 'respontam', 'o', 'tommy', '.'], ['afinal', 'de', 'coisas', 'mais', 'fortes', 'do', 'que', 'nos', 'faz', 'fazer', ',', 'e', 'de', 'onde', 'as', 'outras', 'pessoas', 'pensam', 'neles', 'ou', 'as', 'pessoas', 'pensam', '.'], ['a', 'amicelera', ':', 'obrigado', '.', 'nos', 'pensamos', 'que', 'era', 'simples', 'ver', 'a', 'ligacao', 'entre', 'humanos', 'e', 'primatas', 'em', 'pensar', 'sobre', 'a', 'nossa', 'forma', 'como', 'nos', 'sentimos', 'ou', 'nos', 'sentimos', 'em', 'mente', '.'], ['eu', 'voltei', 'a', 'trabalhar', 'na', 'india', 'para', 'trabalhar', 'com', 'estes', 'pescadores', ',', 'e', 'fizemos', 'uma', 'fixao', 'de', 'um', 'milhao', 'e', 'meio', 'da', 'nanomigas', 'que', 'instalou', 'a', 'mao', 'para', 'um', 'periodo', 'de', 'addddd', '.'], ['tenho', 'uma', 'amiga', 'de', 'um', 'casamento', 'noiva', 'em', 'um', 'frances', '.'], ['nao', ',', 'nao', ',', 'por', 'outro', 'lado', '.'], ['`', '`', 'bl', ':', '`', '`', \"'\", \"'\", 'podes', 'ajudar', '-', 'me', ',', 'henry', '?', \"'\", \"'\", \"'\", \"'\", 'que', 'cientifica', 'diz', 'isto', ',', 'certo', '?', \"'\", \"'\"], ['e', 'exatamente', 'o', 'que', 'e', 'uma', 'experiencia', 'em', 'experiencia', '.'], ['entao', ',', 'de', 'duas', 'musicas', ',', 'que', 'sao', 'uma', 'forma', 'de', 'ser', 'experimentado', 'e', 'as', 'experimentados', 'sao', 'um', 'jogo', ',', 'pensamos', 'que', 'toda', 'a', 'gente', 'pode', 'ser', 'um', 'cientista', 'cientifico', '?'], ['tantas', 'operacoes', 'inegativas', ',', 'e', 'tantas', 'pessoas', 'que', 'foram', 'ocupados', 'durante', 'esses', 'doentes', 'durante', 'esses', 'sete', 'anos', '.'], ['e', 'nao', 'precisam', 'de', 'se', 'fazer', 'a', 'um', 'espreitar', 'de', 'uma', 'caca', 'expalhadora', 'e', 'tentar', 'matar', 'um', 'phasco', '.'], ['havia', 'tanta', 'visao', ',', 'tantos', 'entusiasmois', '.'], ['ele', 'ajudou', '-', 'me', 'a', 'vir', 'a', 'aparecer', ',', 'de', 'alguma', 'forma', ',', 'de', 'uma', 'forma', 'precisa', 'de', 'uma', 'forma', 'precisa', 'de', 'um', 'movimento', 'delibrat', '.'], ['tem', 'que', 'ferguejar', 'olhos', 'e', 'tem', 'de', 'vos', 'mostrar', 'ou', 'vos', 'onde', 'me', 'ouvinte', 'as', 'maos', '.', 'ok', '?'], ['em', '2010', ',', 'no', 'haiti', ',', 'houve', 'outro', 'terramoto', ',', 'mas', 'nao', 'era', 'possivel', 'desconfiavel', '.', 'por', 'isso', 'estou', 'a', 'fazer', '.', 'por', 'isso', ',', 'fui', 'a', 'suxiluan', 'de', 'bominibliks', ',', 'revel', ',', 'pais', ',', 'e', 'licenciado', 'com', 'seis', 'horas', 'para', 'chegar', 'ao', 'haiti', 'com', 'os', 'niveis', 'de', 'construcao', 'do', 'corpo', 'de', 'sanglogenome', 'e', 'de', 'terceiros', ',', 'porque', 'em', '2010', '.'], ['agora', 'vive', 'na', 'europa', ',', 'pode', 'escolher', '-', 'se', 'a', 'tornar', '-', 'se', 'em', 'alemanha', ',', 'que', 'tem', 'um', 'sistema', 'de', 'saude', 'reproduzida', '.'], ['mas', ',', 'na', 'verdade', ',', 'e', 'um', 'grande', 'problema', ',', 'porque', 'podemos', 'ver', 'um', 'dia', ',', 'como', 'podemos', 'ver', 'as', 'coisas', 'de', 'forma', 'diferente', '?'], ['como', 'chegamos', 'a', 'forma', 'certa', ',', 'como', 'e', 'que', 'nos', 'nao', 'temos', 'uma', 'boa', 'coisa', 'ou', 'nao', '.'], ['entao', ',', 'tenho', 'de', 'dizer', 'que', 'nao', 'tivemos', 'tido', 'fundos', 'para', 'o', 'instituto', 'de', 'investigacao', 'porque', 'os', 'cientistas', 'diziam', 'que', 'as', 'criancas', 'nao', 'podiam', 'contribuir', 'para', 'a', 'ciencia', 'e', 'professores', 'diziam', 'que', 'os', 'miudos', 'nao', 'iriam', 'fazer', '.'], ['somos', 'madulhados', '.'], ['entao', 'fiz', 'o', 'ponto', 'de', 'para', 'tentar', 'as', 'outras', 'portas', 'e', 'janelas', '.', 'todas', 'estavam', 'fechado', '.'], ['aqui', 'esta', 'alguns', 'exemplos', '.'], ['`', '`', '`', '`', \"'\", \"'\", '0', ',', '2', 'metros', 'de', 'altura', ',', 'a', '20', 'centimetros', '.', \"'\", \"'\"], ['o', 'que', 'acontece', 'quando', 'estamos', 'a', 'presssssionar', 'que', 'o', 'nosso', 'cortex', 'preferencialuto', ',', 'uma', 'especie', 'de', 'excepcao', ',', 'os', 'nossos', 'cerebros', ',', 'enviam', 'um', 'sinal', 'muito', 'mais', 'flexivel', '.', 'mais', 'flexivel', ',', 'mais', 'polenta', '-', 'se', 'a', 'aprendizagem', '.', 'e', 'foi', 'abra', '-', 'lo', 'em', 'relacao', 'ao', 'resto', 'do', 'nosso', 'cerebro', '.'], ['agora', ',', 'penso', 'que', 'a', 'verdadeira', 'educacao', 'cientifica', 'deve', 'dar', 'voz', 'as', 'pessoas', 'e', 'permitir', '-', 'lhes', 'explicar', 'essa', 'opiniao', ',', 'por', 'isso', 'pedi', 'a', 'ultima', 'opiniao', ',', 'pedi', '-', 'me', 'a', 'ultima', 'voz', 'a', 'ser', 'a', 'ultima', 'voz', '.'], ['o', 'que', 'me', 'parece', 'interessante', 'e', 'que', 'tudo', 'isto', 'acontece', 'numa', 'cultura', 'que', 'estima', 'a', 'minha', 'vida', 'a', 'vida', '.'], ['eles', 'sao', 'maus', 'para', 'a', 'abandonado', 'todas', 'as', 'coisas', 'interessantes', 'que', 'podem', 'falar', 'sobre', 'algo', 'e', 'focar', '-', 'se', 'apenas', 'sobre', 'as', 'coisas', 'que', 'sao', 'importantes', '.'], ['voces', 'fazem', '-', 'no', 'em', 'duas', ',', 'e', 'aprestem', '-', 'se', 'para', 'sair', 'o', 'produto', '.'], ['dois', ',', 'aqui', 'seis', ',', 'aqui', 'temos', 'seis', ',', 'se', 'mexer', '.'], ['eles', 'estao', 'em', 'bistro', 'e', 'cafes', 'e', 'cafes', 'e', 'lojas', 'de', 'brinca', ',', 'e', 'estao', 'prontos', 'para', 'o', 'paris', '.', 'e', 'eles', 'sao', 'prontos', 'para', 'um', 'previso', 'de', 'uma', 'hora', 'muito', 'boa', 'qualidade', 'que', 'a', 'sustenta', 'e', 'ate', 'que', 'o', 'alek', 'tinha', 'xenevivel', '.'], ['agora', 'e', 'acessivel', 'a', 'biocomplinton', '.'], ['isso', 'acontece', 'sem', 'conta', 'que', 'temos', '.'], ['eu', 'sentei', '-', 'me', '.'], ['e', 'muitos', 'de', 'reconstruindo', 'o', 'crescimento', '.'], ['temos', 'mais', 'cerebros', 'que', 'comparamos', 'os', 'nossos', 'corpos', 'muito', 'mais', 'do', 'que', 'qualquer', 'outro', 'animal', '.'], ['eu', 'digo', ':', 'nao', '!', 'nao', '!'], ['publicam', 'os', 'dados', ',', 'e', 'tem', 'verdadeiramente', 'a', 'pratica', 'clinica', 'na', 'clinica', 'clinica', 'nacional', 'em', 'paises', '.'], ['a', 'nossa', 'consciencia', 'de', 'que', 'nos', 'aceitamos', 'torna', '-', 'se', 'extremamente', 'bela', 'e', 'agarreira', '-', 'lo', 'no', 'escuro', '.'], ['e', 'que', 'uma', 'parte', 'do', 'governo', 'albana', 'era', ',', 'de', 'repente', ',', 'etc', '.'], ['o', 'sol', 'do', 'almoo', 'e', 'mesmo', 'quente', 'no', 'inverno', '.'], ['como', 'podem', 'ver', 'nesta', 'foto', ',', 'dentro', 'de', 'dentro', ',', 'e', 'onde', 'se', 'encontram', 'a', 'sanita', '.'], ['uma', 'redencao', ',', 'de', 'fumo', '.'], ['e', 'o', 'que', 'acontece', 'a', 'nossa', 'consciencia', 'nao', 'e', 'que', 'a', 'nossa', 'consciencia', 'se', 'realmente', 'se', 'realiza', ',', 'ela', 'desenvolve', '-', 'se', 'como', 'estes', 'tres', 'dias', 'parecem', 'ser', 'muito', 'mais', 'felizes', 'e', 'experiencias', 'que', 'todos', 'os', 'meses', ',', 'a', 'trabalhar', 'em', 'reunioes', 'como', 'resultado', 'de', 'reunioes', ',', 'aputacoes', 'e', 'agarrando', 'reunioes', 'como', 'a', 'casa', '.'], ['o', 'que', 'acontece', 'na', 'adultos', 'e', 'que', 'nos', 'tornamos', 'administrar', 'e', 'de', 'facto', 'importante', 'e', 'de', 'preocupar', 'com', 'o', 'interesse', '.'], ['esquecam', 'a', 'holistica', ',', 'e', 'de', 'fornedotar', 'a', 'caverna', 'de', 'que', 'precisamos', 'de', 'ser', 'medo', '.'], ['nao', 'se', 'trata', 'de', 'uma', 'area', 'local', '.'], ['e', 'eles', 'estao', 'a', 'fazer', 'progressos', 'por', 'isso', 'e', 'um', 'ciclo', 'continuo', 'de', 'projectados', '.'], ['e', 'isso', 'levou', '-', 'me', 'a', 'volta', 'do', 'passado', '.'], ['obrigado', '.'], ['eles', 'sao', 'feitas', 'das', 'coisas', 'fantasticas', '.'], ['e', 'a', 'razao', 'para', 'nos', 'preocupar', 'com', 'as', 'maxigas', 'e', 'casos', 'de', 'aluminio', '.'], ['o', 'coorden', 'consti', 'cores', 'e', 'muito', 'importante', '.'], ['gostava', 'de', 'construir', 'o', 'meu', 'mompressor', 'que', 'as', 'pessoas', 'gostam', 'gostam', '.'], ['e', 'e', 'um', 'passaro', 'na', 'cobertura', 'de', 'ciencia', 'que', 'aprenderam', 'a', 'usar', 'uma', 'ferramenta', 'para', 'obter', 'comida', '.'], ['o', 'que', 'elas', 'fazem', 'e', 'extraordinario', '.'], ['entao', ',', 'experimentamos', 'com', 'algumas', 'particulas', 'de', 'agua', 'va', 'para', 'criar', 'uma', 'balancada', 'para', 'criar', 'um', 'dispositivo', 'de', 'peso', '.', 'e', ',', 'ao', 'testemunha', ',', 'e', 'descobrimos', 'que', 'pode', 'ser', 'um', 'modelo', 'que', 'pode', 'interagir', 'com', 'as', 'pessoas', 'que', 'podem', 'interagir', 'com', 'ela', 'e', 'a', 'ligacao', 'sem', 'along', '.'], ['para', 'nos', ',', 'essa', 'obra', 'contem', 'as', 'suas', 'proprias', 'ligacoes', '.'], ['com', 'a', 'minha', 'mulher', 'e', 'o', 'medico', ',', 'o', 'alexandre', 'headh', ',', 'vimos', 'os', 'doentes', '.'], ['e', 'um', 'fenomeno', 'fantastico', ',', 'mas', 'e', 'verdade', '.'], ['e', 'extremamente', '\\\\xe2\\\\x80\\\\x94', 'e', 'extremamente', 'excelente', '.'], ['bl', ':', 'bem', '.', 'um', ',', 'dois', ',', 'tres', ',', 'tres', '.', '(', 'risos', ')', 'se', 'fossem', 'portriias', ',', 'nao', 'e', '?', 'e', 'isso', '?', 'e', 'um', ',', 'dois', ',', 'tres', '.'], ['nada', 'disto', 'tudo', 'aconteceu', '.', '(', 'risos', ')', 'e', 'isto', 'e', 'espantoso', '.', 'se', 'virem', 'o', 'que', 'se', 'passa', 'na', 'minha', 'vida', ',', 'o', 'que', 'esta', 'a', 'acontecer', 'com', 'a', 'vida', 'de', 'uma', 'forma', 'media', 'no', 'planeta', ',', 'em', 'termos', 'desprietario', ',', 'em', 'termos', 'desfrimento', 'de', 'uma', 'tripriccao', 'insgacao', '.'], ['a', 'razao', 'por', 'esta', 'terra', 'e', 'separou', '-', 'se', 'da', 'america', 'do', 'sul', 'com', 'um', 'atribuido', 'muito', 'mais', 'e', 'mais', 'comum', '.', 'e', 'havia', 'contacto', 'com', 'esse', 'tipo', 'de', 'agribuio', 'em', '10', '.', '000', 'anos', '.'], ['`', '`', '`', '`', 'vai', 'ficar', 'numa', 'aula', '.', \"'\", \"'\", \"'\"], ['penso', 'que', 'os', 'bebes', 'e', 'bebes', 'parecem', 'ter', 'um', 'pouco', 'mais', 'velho', ',', 'em', 'vez', 'de', 'consciencia', 'de', 'que', 'um', 'protetor', 'de', 'consciencia', '.'], ['(', 'risos', ')', 'rapaz', ':', 'este', 'e', 'acende', '-', 'se', ',', 'a', 'pena', '.'], ['muitas', 'pessoas', 'querem', 'ficar', 'a', 'vida', 'toda', 'a', 'vida', '.'], ['as', 'hipoteses', 'de', 'ganharem', 'quatro5', ',', 'sao', '45', '165', 'contra', 'o', 'tempo', '.'], ['na', 'intriducaomos', 'a', 'pergunta', 'que', 'e', 'a', 'questao', 'e', 'porque', '?'], ['o', 'bololon', 'de', 'monstro', 'e', 'sempre', 'a', 'minha', 'vez', ',', 'instalado', 'nos', 'paises', 'em', 'desenvolvimento', ',', 'cerca', 'de', 'cerca', 'de', 'uma', 'calumancia', '.'], ['`', '`', 'e', 'um', 'auto', '-', 'autor', 'chamado', '`', '`', \"'\", \"'\", 'harcana', 'maior', \"'\", \"'\", \"'\", \"'\", '.', '(', 'risos', ')', 'nos', 'temos', 'as', 'minhas', 'magoas', 'para', 'as', 'fotografias', '.', \"'\", \"'\"], ['(', 'aplausos', ')', '(', 'aplausos', ')', 'ok', ',', 'e', 'se', 'toda', 'a', 'gente', 'la', 'vem', '.', 'um', ',', 'dois', ',', 'tres', '?'], ['`', '`', 'an', '-', 'a', ':', '`', '`', \"'\", \"'\", 'a', 'agibiscendo', '-', 'nos', 'uma', 'regra', 'de', '`', '`', \"'\", \"'\", 'se', \"'\", \"'\", \"'\", \"'\", '.', \"'\", \"'\"], ['gostava', 'de', 'vos', 'mostrar', 'o', 'que', 'eu', 'trabalho', '.'], ['e', 'ovitou', 'todos', 'os', 'dois', 'veste', 'uma', 'hora', 'de', 'tempo', '.'], ['o', 'nosso', 'coracao', 'e', 'agarrei', '-', 'se', 'a', 'casa', '.'], ['carroluto', ',', 'carl', ',', 'porque', 'elguel', ',', 'calul', '.'], ['entao', ',', 'quando', 'dizemos', 'que', 'os', 'bebes', 'e', 'criancas', 'sao', 'maus', 'para', 'prejudir', 'atencao', ',', 'o', 'que', 'queremos', 'dizer', 'e', 'que', 'eles', 'nao', 'sao', 'muito', 'mau', 'para', 'nao', 'estar', 'a', 'presumir', '.'], ['nos', 'ultimos', '20', 'anos', ',', 'a', 'ciencia', 'esta', 'a', 'comecar', 'a', 'fazer', 'esta', 'imagem', '.'], ['muitos', 'de', 'voces', 'podem', 'conhecer', 'roy', 'que', ',', 'na', 'ultima', 'vez', ',', 'mostrou', 'como', 'esta', 'a', 'acontecer', 'a', 'partir', 'de', '900', 'horas', 'de', 'familia', 'mais', 'de', 'video', 'de', 'familia', '.'], ['e', 'ha', 'outra', 'diferenca', ',', 'que', 'e', 'que', 'o', 'objecto', 'da', 'esquerda', 'e', 'de', 'uma', 'unica', 'substancia', '.'], ['o', 'presidente', 'da', 'companhia', 'dos', 'ratos', 'de', 'computador', 'nao', 'sabe', '.'], ['desde', 'entao', ',', 'eles', 'publicam', 'todos', 'os', 'anos', '.'], ['e', 'ela', 'se', 'preocupa', 'com', 'isto', 'como', 'se', 'me', 'gostava', ',', 'ou', 'se', 'nao', 'lhe', 'gostava', 'de', 'o', 'parto', '.'], ['estou', 'muito', 'orgulhoso', 'de', 'fazer', 'parte', 'de', 'interrovolvia', ',', 'a', 'organizacao', 'da', 'antiga', 'da', 'antiga', 'hignacao', 'da', 'cidade', ',', 'uma', 'iniciativa', 'de', 'professor', 'expiderada', 'pelos', 'professor', 'do', 'marido', 'roma', '.', 'e', ',', 'o', 'drama', 'e', 'descorrido', ',', 'a', 'sua', 'visao', 'de', 'uma', 'estrategia', 'de', 'sobrevivencia', 'de', 'sobrevivencia', ',', 'nao', 'tem', 'de', 'ser', 'tao', 'hibilita', 'como', 'uma', 'experiencia', 'saudavel', ',', 'mas', 'como', 'uma', 'experiencia', 'descodifica', ',', 'mas', 'tao', 'complexa', 'que', 'deve', 'ser', 'tao', 'complexa', 'que'], ['penso', 'que', 'e', 'um', 'problema', '.'], ['vou', 'terminar', 'com', 'esta', 'historia', '.'], ['mesmo', 'se', 'isso', 'for', 'com', 'um', 'simples', 'brinquedo', ',', 'a', 'engenharia', 'que', 'estamos', 'a', 'aplicar', 'e', 'realmente', 'sofisticado', '.'], ['os', 'alemaes', ',', 'os', 'franceses', 'japones', 'e', 'os', 'chineses', '.'], ['eles', 'trocaram', 'os', 'seus', 'vizinhos', 'como', 'descorres', 'de', 'pagamentos', '.', 'e', 'a', 'consequencia', 'de', 'que', 'as', 'harciam', ',', 'e', 'a', 'consequencia', 'de', 'uma', 'grande', 'parte', 'da', 'australia', '.'], ['se', 'um', 'cardiologo', 'chamado', 'outro', 'cardiologista', ',', 'num', 'hospitalizador', 'para', 'saber', 'qual', 'o', 'hospital', 'tem', 'tantos', 'resultados', 'de', 'tantos', 'resultados', ',', 'eles', 'trocarem', 'algo', '.'], ['sou', 'escritor', 'e', 'professor', 'tambem', 'o', 'ingles', ',', 'ganha', '-', 'me', 'a', 'minha', 'vida', 'a', 'pensar', 'em', 'palavras', '.'], ['podem', 'ter', 'uma', 'sociedade', 'dentro', 'de', 'uma', 'sociedade', ',', 'mesmo', 'dentro', 'de', 'outro', 'sociedade', ',', 'torna', '-', 'se', 'impossivel', 'de', 'compreender', 'que', 'e', 'por', 'detras', 'dessas', 'estruturas', '.'], ['e', 'aqui', 'esta', '7', 'anos', ',', 'nao', 'provoca', 'mais', 'do', 'que', 'um', 'bebe', 'de', 'um', 'ano', '.'], ['depois', 'olhei', 'para', 'o', 'modelo', 'economico', '.'], ['e', 'as', 'galinhas', 'e', 'patos', ',', 'os', 'orgues', 'e', 'as', 'javas', 'sao', 'bangues', 'como', 'os', 'seus', 'pes', '.'], ['entao', 'tentei', 'ver', 'quais', 'sao', 'os', 'factores', 'mais', 'eficientes', 'para', 'o', 'sucesso', 'e', 'o', 'fracasso', 'de', 'uma', 'empresa', '.'], ['e', 'penso', 'que', 'a', 'resposta', 'e', 'a', 'troca', 'de', 'uma', 'coisa', 'para', 'outra', '.'], ['e', 'uma', 'grande', 'parte', 'dos', 'orcamentos', 'da', 'nacao', '.'], ['e', ',', 'de', 'facto', ',', 'muitos', 'pontos', 'de', 'vista', ',', 'sao', 'piores', 'do', 'que', 'nao', 'sao', 'piores', ',', 'porque', 'temos', 'que', 'investir', 'em', 'tempo', 'e', 'energia', 'apenas', 'a', 'fazer', 'as', 'noticias', '.'], ['a', 'esquerda', 'deste', 'slide', ',', 'podem', 'ver', 'uma', 'variedade', 'de', 'metal', ',', 'de', 'articuladores', 'artificiais', 'que', 'usariam', 'para', 'alguem', 'que', 'precisava', 'de', 'uma', 'nova', 'panfe', '.'], ['pedi', '-', 'lhes', 'uma', 'grande', 'casa', ',', 'uma', 'sala', 'de', 'concencencelha', ',', 'porque', 'a', 'a', 'arquitea', 'e', 'um', 'local', 'para', 'musica', 'e', 'todas', 'as', 'salas', 'de', 'concertos', 'de', 'concertos', 'tinha', 'sido', 'reconcertados', 'por', 'isso', 'os', 'musicos', '.'], ['eles', 'precisam', 'realmente', 'de', 'reconhecimento', 'de', 'reconhecimento', 'de', 'pares', '.'], ['e', 'eu', 'rebe', '-', 'me', 'em', 'sangue', '.'], ['nao', 'ha', 'um', 'campo', 'de', 'pedra', 'para', 'construir', 'padroes', 'de', 'auto', '-', 'estradas', 'como', 'este', '.'], ['acorda', '-', 'se', '.'], ['e', 'eu', 'le', '-', 'lhes', 'a', 'minha', 'experiencia', 'em', 'tentar', ',', 'novamente', ',', 'as', 'sentido', ',', 'as', 'sentido', 'possiveis', 'tambem', 'nao', 'sao', 'usadas', 'para', 'o', 'problema', '.'], ['entao', 'como', 'podemos', ',', 'um', 'dia', ',', 'fazer', 'algo', 'novo', '?', 'felizmente', ',', 'a', 'evolucao', 'da', 'evolucao', ',', 'a', 'evolucao', 'da', '-', 'nos', 'dado', 'uma', 'resposta', 'certa', ',', 'certo', '?'], ['`', '`', 'a', 'ciencia', 'nao', 'e', 'defino', 'pela', 'parte', '`', '`', \"'\", \"'\", 'metodo', \"'\", \"'\", \"'\", \"'\", 'de', 'um', 'artigo', '.', \"'\", \"'\"], ['vamos', 'abrandar', 'em', 'tempo', '.'], ['um', 'servico', 'de', 'servico', ',', 'chamado', 'my', 'nextw', ',', 'a', 'analise', ',', 'e', 'o', 'que', 'voces', 'tem', 'publicados', 'no', 'twitter', ',', 'para', 'prever', 'o', 'que', 'se', 'poderia', 'dizer', 'depois', '.'], ['voces', 'dizem', '-', 'me', 'que', 'estes', 'numeros', 'sao', 'fantasticas', ',', 'que', 'e', 'totalmente', 'logica', ',', 'mas', 'e', 'possivel', '?'], ['os', 'seus', 'cerebros', ',', 'em', 'media', ',', 'o', 'fim', ',', 'eram', 'mais', 'do', 'que', 'o', 'vosso', 'e', 'o', 'mileno', 'nesta', 'sala', 'hoje', '.'], ['dois', 'minutos', ',', 'dois', 'minutos', ',', 'dois', 'minutos', '.'], ['mt', ':', 'ola', '.', '(', 'aplausos', ')', '(', 'aplausos', ')', 'muito', 'obrigado', '.', '(', 'aplausos', ')', '(', 'aplausos', ')', '(', 'aplausos', ')'], ['entao', ',', 'se', 'a', 'percecao', 'dele', 'esta', 'a', 'criar', 'a', 'nossa', 'propria', 'historia', ',', 'isso', 'significa', 'que', 'nos', 'respondemos', 'o', 'que', 'ja', 'fizemos', 'antes', '.'], ['e', 'o', 'jogo', '.'], ['muito', 'bem', ',', 'e', 'uma', 'sequencia', 'que', 'parece', 'mais', 'dificil', 'de', 'demonstrar', '.'], ['quando', 'o', 'nivel', 'do', 'mar', 'e', 'o', 'mar', 'e', ',', 'e', 'a', 'maioria', 'das', 'pessoas', 'se', 'tornou', 'uma', 'ilha', 'de', '10', '.', '000', 'anos', 'atras', ',', 'as', 'pessoas', 'na', 'ilha', ',', 'nao', 'so', 'conhecidoam', 'mais', 'do', 'que', 'as', 'pessoas', 'no', 'continente', ',', 'eles', 'tiveram', 'realmente', 'parar', '.'], ['e', ',', 'de', 'facto', ',', 'muitos', ',', 'mas', 'e', 'muito', ',', 'muito', ',', 'muito', 'caro', '.'], ['e', 'eu', '\\\\xe2\\\\x80\\\\x94', 'eu', 'tenho', 'os', 'pelos', 'pelos', 'pelos', 'pelos', 'pelos', 'pelos', 'por', '-', 'nao', 'sei', 'se', 'conseguem', 'ver', 'os', 'pelos', 'meus', 'bracos', '.'], ['mas', 'um', 'turiso', 'moderno', 'que', 'visitava', 'o', 'pale', 'para', 'pale', 'e', 'ver', 'imagens', 'de', 'xouiliv', ',', 'tambem', 'tem', '498', 'pop', 'que', 'preparou', 'com', 'o', 'jantar', 'da', 'noite', '.'], ['pequenas', 'propos', 'mostram', '-', 'se', 'em', 'grandes', 'mudancas', '.'], ['e', 'o', 'facto', 'e', ',', 'vivemos', 'no', 'presente', '.'], ['todos', 'os', 'gorheiros', 'em', 'gordura', 'tem', 'oito', 'anos', 'e', 'dez', 'anos', '.'], ['e', 'sempre', 'dificil', '.'], ['toda', 'a', 'gente', 'juntaram', '-', 'se', 'a', 'volta', 'quando', 'a', 'fortuna', 'e', 'a', 'tua', 'amiga', '.'], ['muitas', 'doencas', 'inspiram', 'este', 'ambiente', ',', 'em', 'que', 'a', 'mais', 'venceu', 'o', 'medo', 'do', 'palco', '.'], ['mas', 'eu', 'acho', 'que', 'o', 'meu', 'papel', 'era', 'o', 'meu', 'papel', 'de', 'ser', 'maleguracia', 'carenho', ',', 'porque', 'se', 'eu', 'poder', 'provar', 'a', 'sua', 'opiniao', '.'], ['bem', ',', 'se', 'tiver', 'que', 'comer', ',', 'tenho', 'que', 'comer', 'uma', 'receita', 'para', 'voces', '.'], ['e', 'se', 'querem', 'ver', 'como', 'e', 'que', 'o', 'goghgh', 'foi', 'realmente', 'um', 'cheguer', 'de', 'trabalho', '?'], ['poem', 'dentro', 'de', 'dentro', '.'], ['entao', 'a', 'ideia', 'e', 'que', 'se', 'dispara', 'de', 'um', 'periodo', 'em', 'que', 'se', 'trata', 'completamente', 'de', 'protegidos', '.'], ['disse', ',', 'ok', ',', 'a', 'formula', 'e', 'pronta', '.'], ['mas', 'e', 'muito', 'melhor', 'que', 'a', 'alternativa', 'e', 'que', 'isto', 'e', 'um', 'pouco', 'louco', '.'], ['isto', 'comeca', 'com', 'uma', 'pergunta', '.'], ['enquanto', 'se', 'fizermos', 'a', 'coisa', 'mais', 'provavel', ',', 'porimenta', 'o', 'bloco', 'detetor', ',', 'vai', 'ativar', 'apenas', 'ativar', 'apenas', 'seis', 'vezes', '.'], ['em', '2009', ',', 'em', 'italia', ',', 'a', 'arquitea', ',', 'houve', 'outro', 'terramoto', '.'], ['o', 'que', 'fizemos', '\\\\xe2\\\\x80\\\\x94', 'betturne', 'rapaliosa', ',', 'que', 'era', 'uma', 'das', 'minhas', 'projetadas', ',', 'e', 'eu', 'ate', 'aos', 'dois', 'bebes', ',', 'oferecendo', 'a', 'comida', 'de', 'bolcoloco', '.', 'bolcottero', 'e', 'um', 'bolico', 'delickers', 'de', 'peixe', 'sobre', 'peixe', '.'], ['e', 'finalmente', ',', 'a', 'voluntario', 'a', 'partir', 'deste', 'palco', 'na', 'noite', 'de', '2008', 'dos', 'eua', ',', 'onde', 'foi', 'o', 'centimento', 'a', 'um', 'hograma', 'no', 'dipmagrama', 'no', 'artista', 'da', 'hipgipgipgmetica', 'da', 'hippppppp', '.', 'im', ',', 'em', 'sal', ',', 'em', 'direccao', 'a', 'sua', 'interplana', '.'], ['(', 'risos', ')', 'ela', 'recebe', 'informacao', '.', 'o', 'comportamento', 'que', 'e', 'algo', 'util', '.', '(', 'risos', ')', '(', 'risos', ')', 'homem', '!', '(', 'risos', ')', 'ah', '!', ')', 'oh', '!', ')', 'oh', ',', 'rl', ':', 'e', 'quando', 'as', 'coisas', 'nao', 'querem', ',', 'e', 'quando', 'as', 'coisas', 'nao', 'dao', 'nada', ',', 'nao', 'se', 've', '?'], ['a', 'unica', 'coisa', 'que', 'nao', 'bulgaria', 'no', 'fogo', 'foi', 'uma', 'roma', 'verde', 'de', 'advogado', '.'], ['e', 'a', 'coragem', 'personalizados', ',', 'porque', 'vai', 'ficar', 'aqui', 'a', 'vossa', 'frente', 'e', 'a', 'todos', 'voces', '.'], ['fizemos', 'isso', 'com', 'os', 'bebes', 'de', '15', 'e', '18', 'meses', '.'], ['este', 'e', 'katleeeeeeeeeen', '.'], ['eles', 'fizeram', '-', 'lhe', 'seguir', 'uma', 'dieta', 'muito', 'especial', 'e', 'tem', 'tido', 'um', 'grande', 'premio', '.'], ['audiencia', ':', 'o', 'que', 'e', 'que', 'damos', '?'], ['no', 'ocupamento', ',', 'o', 'edificio', 'foi', 'reciclado', '.'], ['uma', 'e', 'desejar', 'esta', 'verdadeira', '.'], ['entao', ',', 'qual', 'e', 'o', 'seu', 'modo', 'a', 'nos', 'perguntar', '?'], ['`', '`', '`', '`', \"'\", \"'\", 'li', '-', 'li', '-', 'liekwawewew', '.', 'eu', 'nao', 'tenho', 'palavras', 'para', 'dizer', 'o', 'que', 'eu', 'sinto', 'neste', 'momento', '.', \"'\", \"'\"], ['nao', 'precisa', 'de', 'adam', ','], ['a', 'partir', 'dai', ',', 'podemos', 'fazer', 'o', 'mesmo', 'tipo', 'de', 'integracao', ',', 'nao', 'apenas', 'imagens', ',', 'mas', 'tambem', 'videos', '.'], ['nao', 'e', 'a', 'mesma', 'coisa', 'com', 'a', 'lingua', '.'], ['eles', 'olharam', 'para', 'quantos', 'doentes', 'tiveram', 'que', 'ser', 'recusado', '7', 'anos', 'depois', 'da', 'primeira', 'intervencao', '.'], ['jok', ':', 'pronto', '!', 'mt', ':', 'mt', ':', 'mt', ':', 'eu', 'soco', '.'], ['tive', 'muita', 'sorte', ',', 'alguns', 'anos', 'depois', 'de', 'ter', 'sido', 'a', 'zanga', 'o', 'fundo', 'do', 'fundature', 'legitmen', 'travamento', 'de', 'trigiti', '\\\\xe2\\\\x80\\\\x94', 'em', 'campanha', 'eleitoral', ',', 'um', 'incrivel', 'e', 'ativista', 'e', 'ativista', '.'], ['e', 'para', 'ser', 'honesta', ',', 'eu', 'precisava', 'desesperadamente', 'de', 'ajuda', ',', 'e', 'que', 'se', 'interessava', 'por', 'mim', ',', 'comecei', 'a', 'falar', 'sobre', 'o', 'meu', 'estranho', '.'], ['para', 'testar', 'isto', ',', 'usamos', 'uma', 'maquina', 'que', 'chamamos', 'de', 'detetor', 'de', 'blicket', '.'], ['por', 'isso', ',', 'fiz', 'parte', 'da', 'minha', 'esperanca', 'de', 'que', 'quero', 'reconstruir', 'um', 'auditorio', 'provisoro', 'em', 'provismo', '.'], ['ou', 'a', '.'], ['aqui', 'vou', 'mostrar', '-', 'vos', 'duas', 'cliplicacoes', '.'], ['lembro', '-', 'me', 'de', 'mim', ',', 'por', 'exemplo', ',', 'uma', 'noite', ',', 'inclinado', 'a', 'frente', 'dos', 'meus', 'pais', ',', 'para', 'proteger', 'o', 'que', 'acreditava', 'o', 'que', 'acreditava', 'na', 'minha', 'verdadeira', 'voz', '.'], ['os', 'agentes', 'da', 'mudanca', 'sao', 'os', 'medicos', 'e', 'as', 'enfermeiros', 'no', 'sistema', 'de', 'saude', '.'], ['eu', 'tinha', 'tido', 'sucesso', 'na', 'escola', ',', 'e', 'estavamos', 'muito', 'a', 'espera', 'de', 'mim', 'e', 'com', 'jubilita', 'que', 'eu', 'tenho', 'a', 'minha', 'vida', 'com', 'os', 'seus', 'cursos', 'de', 'trinsmitivos', ',', 'os', 'seus', 'votantes', ',', 'e', 'os', 'seus', 'votantes', 'de', 'transito', '.'], ['(', 'aplausos', ')'], ['`', '`', 'e', 'de', 'certa', 'forma', '\\\\xe2\\\\x80\\\\x94', 'devido', 'a', 'estimula', '\\\\xe2\\\\x80\\\\x94', 'em', 'portoes', 'ciruzamento', 'este', 't', '-', 'shit', ',', '`', '`', \"'\", \"'\", 'sim', ',', 'podemos', 'falar', 'deste', 'problema', '.', \"'\", \"'\"], ['mas', 'como', 'e', 'que', 'se', 'o', 'quisermos', 'ver', 'as', 'arvores', 'do', 'pincel', '?'], ['muito', 'obrigado', '.'], ['estou', 'presente', 'empreendedor', 'empreendedor', 'no', 'mundo', ',', 'o', 'primeiro', 'africano', 'e', 'a', 'primeira', 'resposta', ',', 'e', 'a', 'coisa', 'que', 'me', 'apercebi', 'muito', ',', 'e', 'foi', 'que', 'fiz', 'isto', 'porque', 'nao', 'queria', 'tomar', 'casa', '.', 'obrigada', '.'], ['deixem', '-', 'me', 'apenas', 'dizer', 'uma', 'que', 'fizemos', 'com', 'turma', 'kirush', ',', 'meu', 'aluno', 'lee', '.'], ['rapaz', ':', 'o', 'que', 'e', 'que', 'esta', 'a', 'ligar', 'esta', 'luz', '?'], ['ha', 'cinco', 'meses', ',', 'animaci', 'um', 'maior', 'centro', 'hostipildeso', 'da', 'universidade', 'do', 'norte', 'da', 'europa', '.'], ['em', '1986', ',', 'antes', 'de', 'as', 'pessoas', 'comecam', 'a', 'falar', 'sobre', 'problemas', 'ecologicas', 'e', 'ambiente', ',', 'eu', 'tinha', 'acabado', 'de', 'comecar', 'a', 'usar', 'o', 'tubo', 'de', 'ttona', 'de', 'forma', 'como', 'a', 'estrutura', 'de', 'um', 'edificio', '.'], ['(', 'video', ')', 'saudat', 'stwak', ':', 'entao', 'o', 'que', 'vamos', 'fazer', ':', 'cinco', '.'], ['por', 'exemplo', ',', 'se', 'eu', 'fosse', 'a', 'raiva', 'e', 'eu', 'tinha', 'que', 'esconder', ',', 'o', 'que', 'estava', 'a', 'acontecer', ',', 'porque', 'estava', 'a', 'acontecer', ',', 'porque', 'era', 'uma', 'grande', 'pratimuladora', 'de', 'sentimentos', 'das', 'minhas', 'emocoes', ',', 'por', 'isso', 'a', 'voz', 'parecia', 'fechada', '.'], ['e', 'a', 'atencao', 'e', 'consciencia', 'da', 'administrar', '-', 'se', 'com', 'um', 'tipo', 'de', 'projetista', '.'], ['em', '2010', ',', 'apercebi', '-', 'me', 'de', 'uma', 'coisa', '.'], ['e', 'que', 'mais', 'parecia', ',', 'eles', 'tinham', 'que', 'agir', 'para', 'as', 'outras', 'ajudar', 'o', 'que', 'queriam', '.'], ['(', 'aplausos', ')', 'obrigado', '.', '(', 'aplausos', ')'], ['somos', 'os', 'neuronios', 'neste', 'cerebro', '.'], ['aqui', 'estao', 'todos', 'os', 'respeitarios', '.'], ['uma', 'epidemia', 'de', 'cancro', ',', 'por', 'causa', 'de', 'milhares', 'de', 'produtos', 'quimicos', 'ia', 'racar', '-', 'se', 'as', 'nossas', 'vidas', '.'], ['`', '`', 'eu', 'pergunto', ':', '`', '`', \"'\", \"'\", 'o', 'que', 'e', 'um', 'edificio', 'procmaneceulgam', 'e', 'um', 'edificio', 'provismo', '?', \"'\", \"'\", \"'\", \"'\", \"'\"], ['construimos', '50', 'unidades', 'para', 'testar', 'a', 'sustentabilidade', ',', 'humildes', ',', 'as', 'tentas', ',', 'etc', '.'], ['talvez', 'sou', 'apenas', 'cynet', 'e', 'todas', 'as', 'palavras', 'sao', 'mentiras', ',', 'mas', 'a', 'experiencia', 'continua', 'a', 'dizer', '-', 'me', 'que', 'e', 'um', 'pro', '-', 'sustento', '.'], ['e', 'sim', ',', 'a', 'minha', 'campanha', 'se', 'cantar', 'pela', 'organizacao', 'em', 'movimento', 'carregan', ',', 'tentando', 'tentar', 'instalicitar', 'os', 'custos', 'e', 'recolher', 'fundos', 'denganancia', '.'], ['quando', 'ele', 'comecou', 'a', 'escrever', 'ingles', ','], ['e', 'a', 'toda', 'a', 'gente', 'e', 'realmente', 'mais', 'do', 'que', 'a', 'soma', 'de', 'cada', 'partes', '.'], ['opresento', ',', 'desculpa', '.', 'o', 'que', 'e', 'isto', '?'], ['este', 'e', 'o', 'exercito', 'de', 'saber', 'o', 'que', 'acabei', 'por', 'juntar', 'o', 'meu', 'eu', 'descone', ',', 'cada', 'fragilde', 'e', 'apliado', 'por', 'uma', 'voz', 'diferente', ',', 'que', 'me', 'dei', 'conta', 'de', 'todas', 'as', 'minhas', 'drogas', 'e', 'o', 'meu', 'corpo', ',', 'mas', 'desta', 'vez', ',', 'e', 'essa', 'parte', 'da', 'terra', '.'], ['depois', 'de', 'muitos', 'ensaios', 'e', 'ajuda', '-', 'a', 'amigos', 'indigenas', 'da', 'minha', 'avo', 'que', 'vivem', 'em', 'montanha', ',', 'temos', 'um', 'novo', 'dispositivo', '.'], ['foi', 'o', 'problema', '.'], ['por', 'isso', ',', 'penso', 'que', ',', 'para', 'concluir', ',', 'a', 'minha', 'consciencia', 'e', 'importante', 'que', 'toda', 'esta', 'coisa', 'e', 'que', 'toda', 'esta', 'coisa', 'fascinante', 'nao', 'vem', 'da', 'google', '.'], ['rapaz', ':', 'isso', 'e', 'acende', '-', 'se', '.'], ['entao', 'tivemos', 'que', 'criar', 'um', '.'], ['e', 'isso', 'e', 'o', 'que', 'fizemos', ',', 'porque', 'trabalhamos', 'com', 'todos', 'os', 'outros', '.'], ['enquanto', 'pode', 'ser', 'um', 'pensamento', 'pequeno', 'mabirbile', ',', 'penso', 'que', 'ela', 'tem', 'implicacoes', 'de', 'ser', 'expressadas', '.'], ['os', 'investigadores', 'acreditam', 'que', 'os', 'niveis', 'de', 'froxaque', 'de', 'sex', 'news', 'sao', 'confrontos', 'com', 'o', 'observal', 'do', 'amor', ',', 'que', 'e', 'o', 'sentimento', 'de', 'que', 'alguem', 'se', 'instalado', 'no', 'vosso', 'cerebro', '.'], ['entao', ',', 'porque', 'e', 'que', 'as', 'empresas', 'produzem', 'estas', 'comunidades', '?'], ['nao', 'e', 'facil', '.'], ['entao', 'pegamos', 'em', 'algumas', 'licoes', 'de', 'comercializacao', 'e', 'fizemos', 'dry', '.'], ['infelizmente', ',', 'a', 'resposta', 'e', 'sim', '.'], ['`', '`', 'disse', ',', '`', '`', \"'\", \"'\", 'leem', '-', 'lhe', 'o', 'que', 'veem', \"'\", \"'\", \"'\", '.', \"'\", \"'\"], ['nao', 'podia', 'fazer', 'um', 'ano', 'de', 'acolhimento', 'de', 'aco', ',', 'como', 'eu', 'sabia', '.'], ['afinal', ',', 'as', 'decisoes', 'de', 'trabalho', 'custas', 'na', 'area', 'dos', 'cuidados', 'e', 'as', 'enfermeiras', '.'], ['depois', 'deste', 'momento', ',', 'houve', 'um', 'periodo', 'de', 'esforco', 'para', 'desenvolver', 'o', 'prototipo', '.'], ['bl', ':', 'e', 'o', 'mesmo', 'exemplo', 'da', 'tecnologia', '.', 'sim', '.'], ['penso', 'que', 'e', 'apenas', 'de', 'dizer', 'que', 'e', 'quase', 'toda', 'a', 'gente', 'na', 'sala', '.'], ['essa', 'aldeia', 'de', 'pescadores', 'de', 'peixe', 'foi', 'conhecido', 'pela', 'escultura', '.'], ['por', 'outras', 'palavras', ',', 'a', 'media', 'global', 'do', 'salario', 'nao', 'podia', 'suportar', 'uma', 've', '-', 'lo', 'em', '1800', '.'], ['parece', 'horrivel', '.'], ['sou', 'honoreada', 'pela', 'inten', ',', 'e', 'obrigado', '.'], ['entao', ',', 'ha', 'duas', 'coisas', 'notaveis', 'no', 'assunto', '.'], ['e', 'de', '1880', ',', 'teria', 'que', 'levar', '15', 'minutos', 'para', 'ganhar', 'essa', 'quantidade', 'de', 'luz', 'a', 'partir', 'do', 'salario', 'medio', '.'], ['e', 'quatro64', 'e', 'o', 'numero', 'de', 'pessoas', 'que', 'ele', 'estava', 'a', 'acontecer', 'quando', 'ele', 'estava', 'a', 'acontecer', 'em', 'roben', 'iblandes', '.'], ['`', '`', 'saborear', 'o', 'brocollcomlin', '.', \"'\", \"'\", \"'\", \"'\", 'e', 'depois', ',', 'ela', 'pega', 'um', 'pouco', 'em', 'crackers', ',', 'e', 'disse', ':', '`', '`', \"'\", \"'\", 'bosk', ',', 'bona', ',', 'brackers', ',', 'perteckers', '.', \"'\", \"'\"], ['lembrem', '-', 'se', 'de', 'espirito', ':', 'mil', 'milhoes', '.'], ['mas', ',', 'em', 'relacao', 'ao', 'tamanho', 'de', 'um', 'grande', 'volume', ',', 'era', 'demasiado', 'pesado', '.'], ['por', 'fim', ',', 'nao', 'durante', '24', 'horas', ',', 'sete', 'dias', 'por', 'semana', '.'], ['todos', 'tiveram', 'que', 'aprender', 'com', 'o', 'quarto', ',', 'lembram', '-', 'se', '?'], ['todos', 'os', 'que', 'seguem', 'a', 'politica', 'podem', 'confirmar', 'sobre', 'o', 'quao', 'dificil', 'e', '?'], ['fomos', 'a', 'construir', 'clogues', ',', 'com', 'todos', 'os', 'alunos', 'voluntarios', ',', 'com', 'tubos', 'de', 'cal', 'digamos', ',', 'so', 'um', 'reflexo', 'simples', 'e', 'de', 'um', 'tubo', 'de', 'roseode', '.'], ['`', '`', '`', '`', \"'\", \"'\", 'auro', 'a', 'que', 'sai', 'sempre', 'fui', 'uma', 'vez', 'que', 'o', 'meu', 'corpo', 'fosse', 'escondireinado', 'do', 'meu', 'banco', ',', '`', '`', \"'\", \"'\", 'a', 'minha', 'familia', 'e', 'os', 'meus', 'amigos', 'publicou', 'o', 'que', 'faco', '\\\\xe2\\\\x80\\\\x94', 'a', 'primeira', 'parte', 'do', 'processo', '`', '`', \"'\", \"'\", 'web', \"'\", \"'\", \"'\", \"'\", '.', 'agora', ',', 'que', ',', 'enquanto', 'jornalistau', 'uma', 'especie', 'de', 'jornalista', 'e', 'que', ',', 'as', 'cheguenquivos', 'tem', 'sido', 'escritas', ',', 'a', 'maioria', 'das', 'pessoas', 'que', 'sao', 'mais', 'escritas', 'que', ',', 'e'], ['descobri', 'que', 'o', 'seu', 'superficie', 'suporojamento', 'nos', 'regulavamos', 'pelo', 'vento', 'devido', 'a', 'um', 'padrao', 'constante', 'de', 'consciencia', 'continua', 'a', 'mudar', 'constantemente', '.'], ['porque', 'se', 'colocarem', 'um', 'bloco', 'detectado', 'com', 'o', 'detetor', ',', 'algo', 'que', 'nunca', 'teriam', 'feito', ',', 'o', 'sensor', 'vai', 'ativar', 'duas', 'vezes', '.'], ['os', 'reconselhamento', 'em', 'todos', 'os', 'disciplinas', ',', 'em', 'toda', 'a', 'disciplina', '.'], ['mas', 'isso', 'tem', 'um', 'significado', 'muito', 'trabalho', 'para', 'pensar', 'em', 'como', 'os', 'bebes', 'adultos', '.'], ['e', ',', 'no', 'entanto', ',', 'a', 'ironia', 'e', 'a', 'unica', 'forma', 'de', 'fazer', 'algo', 'novo', ',', 'e', 'voltar', 'para', 'casa', 'neste', 'espaco', '.'], ['tinha', 'visto', 'todos', 'os', 'dias', ',', 'mas', 'desta', 'vez', 'vi', 'de', 'forma', 'diferente', 'de', 'uma', 'nova', 'aproximacao', 'da', 'escratura', ',', 'uma', 'forma', 'de', 'fazer', 'padroes', 'de', 'construcao', 'sem', 'material', 'comum', '.'], ['prometi', '-', 'me', 'enxagerar', 'os', 'meus', 'pinturas', ',', 'expeditei', 'as', 'minhas', 'pinturas', 'e', 'a', 'minha', 'alabaca', '.'], ['e', 'a', 'unica', 'coisa', 'que', 'nos', 'instigimos', 'para', 'nos', 'fazer', 'isto', ',', 'e', 'a', 'mesma', 'coisa', '.'], ['a', 'pilha', 'de', 'multienigia', 'e', 'o', 'exemplo', '.'], ['vao', 'voltar', 'a', 'ser', 'consumidores', ',', 'consumidores', ',', 'como', 'nos', 'somos', 'a', 'maioria', 'do', 'tempo', '.'], ['(', 'risos', ')', 'e', 'uma', 'forma', 'fantastica', 'de', 'ser', ',', 'mas', 'sem', 'destruiu', 'durante', 'tres', 'horas', 'da', 'manha', '.', '(', 'risos', ')'], ['somos', 'unicos', ',', 'somos', 'implementadores', '.'], ['eles', 'fazem', 'com', 'que', 'todos', 'tinham', 'uma', 'forma', 'pessoal', '.'], ['bruzemos', 'a', 'paixao', '.'], ['aceitamos', 'as', 'pessoas', '.'], ['aaa', ':', 'sim', '.'], ['eu', 'supostamente', 'que', 'esta', 'experiencia', 'de', 'amor', 'ou', 'nao', 'seja', 'tao', 'invulgar', '.'], ['ag', ':', 'todos', 'os', 'cientistas', 'reconhecerem', 'este', 'tipo', 'de', 'desespero', '.'], ['esta', 'a', 'aproximar', '-', 'se', 'num', 'espagadoro', 'de', 'aufa', 'de', 'aufa', 'e', 'e', 'atriceada', '.'], ['a', 'morte', ':', 'vai', 'ir', 'para', 'a', 'ifigin', '.', 'antes', 'de', 'nao', 'ser', 'tarde', 'demais', '.'], ['e', 'o', 'tipo', 'de', 'atencao', ',', 'o', 'tipo', 'de', 'consciencia', ',', 'que', 'podemos', 'esperar', 'que', 'nos', 'podemos', 'esperar', 'em', 'bapile', 'que', 'sao', 'construidos', 'para', 'aprenderem', '.'], ['a', 'lingua', 'nao', 'e', 'feita', 'para', 'confronto', ','], ['mas', 'na', 'destruicao', 'do', 'edificio', ',', 'porque', 'todos', 'os', 'paises', 'estao', 'a', 'construir', 'muitos', 'babiscos', ',', 'mas', ',', 'no', 'fundo', ',', 'criamos', 'um', 'grande', 'numero', 'de', 'desperdicios', '.', 'o', 'meu', 'edificio', 'tem', 'que', 'ser', 'recipiente', 'ou', 'recipiente', '.'], ['os', 'medicos', 'so', 'tem', 'uma', 'vestiva', 'pelo', 'buraco', '.'], ['pela', 'comunidade', 'contra', 'a', 'contrata', ',', 'comecamos', 'a', 'comecar', 'a', 'acontecer', '.'], ['mas', 'e', 'completamente', 'falso', '.'], ['muito', 'obrigado', '.'], ['bem', ',', 'a', 'resposta', 'foi', 'de', 'david', 'ricardo', 'em', '1817', '.'], ['sao', 'as', 'que', 'estao', 'a', 'acontecer', 'devido', 'as', 'coisas', 'que', 'achamos', 'que', 'ja', 'ja', 'pensamos', '.'], ['depois', 'construi', 'a', 'estrutura', 'provismo', 'em', '1990', '.'], ['em', '1999', ',', 'em', 'turquiatui', ',', 'este', 'terramoto', '.', 'fui', 'para', 'usar', 'o', 'material', 'local', 'para', 'construir', 'um', 'refundavel', '.'], ['(', 'risos', ')', 'adam', ',', 'adam', ',', 'fliwrow', ':', 'bastante', 'fulpente', ',', 'hind', '?'], ['em', 'geral', ',', 'em', 'unisss', ',', 'queriamos', 'ver', 'como', 'era', 'como', 'era', 'em', 'pratica', '.'], ['se', 'observarmos', 'novamente', 'a', 'historia', 'da', 'cirurgia', 'da', 'hardi', ',', 'houve', 'um', 'estudo', 'ha', 'alguns', 'anos', 'atras', ',', 'onde', 'tem', 'comparado', 'com', 'os', 'estados', 'unidos', 'e', 'a', 'suecia', '.'], ['o', 'que', 'veem', ',', '(', 'aplausos', ')', 'e', 'um', 'corte', 'transversal', ',', 'e', 'quando', 'estou', 'a', 'ver', 'mais', 'perto', 'do', 'que', 'ambuto', ',', 'e', 'a', 'velocidade', ',', 'so', 'o', 'eixo', 'zoom', '.'], ['esta', 'e', 'a', 'parte', 'muito', 'boa', '.', 'chama', '-', 'se', 'coleccao', 'de', 'historias', '.'], ['ninguem', 'sabe', '.'], ['por', 'isso', ',', 'sempre', 'que', 'estou', 'a', 'falar', ',', 've', '-', 'lo', 'no', 'ecra', '.'], ['se', 'o', 'amor', 'e', 'uma', 'obra', 'de', 'arte', 'partilhada', ',', 'entao', 'o', 'amor', 'e', 'uma', 'experiencia', 'ciata', '.'], ['bebes', ',', 'os', 'bebes', ',', 'nao', 'podem', 'falar', ',', 'e', 'se', 'perguntar', 'a', 'uma', 'crianca', 'de', 'tres', 'anos', ',', 'e', 'se', 'perguntar', 'a', 'alguem', ',', 'o', 'que', 'e', 'um', 'frongilante', 'e', 'um', 'floquentado', 'de', 'letras', 'sobre', 'psicosso', 'e', 'do', 'ano', 'passado', ',', 'e', 'coisas', 'deste', 'tipo', 'de', 'coisas', '.'], ['entao', ',', 'numa', 'casa', ',', 'escolhemocam', 'um', 'lugar', 'para', 'os', 'vossos', 'chave', '-', 'um', 'cinto', 'de', 'lado', ',', 'talvez', 'um', 'bolco', '.'], ['segundo', 'e', 'as', 'hutilas', 'e', 'as', 'turrie', ',', 'estao', 'contraste', '.'], ['de', 'forma', 'a', 'que', 'ele', ',', 'em', 'seja', ',', 'descobrimos', 'que', 'era', 'possivel', 'poupar', '80', 'milhoes', 'de', 'litros', 'de', 'agua', 'em', 'media', ',', 'em', 'cada', 'vez', 'que', 'eles', 'seriam', 'capazes', 'de', 'comer', 'uma', 'casa', ',', 'e', 'tambem', 'podiamos', 'poupar', '2', 'horas', 'por', 'dia', 'em', 'que', 'vivem', 'em', 'idades', 'rural', ',', 'mais', 'tarde', 'da', 'escola', 'durante', 'mais', 'de', '2', 'horas', ',', 'mais', 'de', 'emprego', ',', 'mais', 'de', 'emprego', ',', 'mais', 'de', 'casa', ',', 'mais', 'de', 'casa', '.'], ['esta', 'e', 'a', 'minha', 'campanha', 'se', 'cantar', '.'], ['todos', 'tem', 'sido', 'combinados', 'com', 'esta', 'tecnologia', '.'], ['outro', 'ponto', 'chave', 'no', 'qual', 'aprendi', 'muito', 'sobre', 'o', 'processo', 'de', 'circ', '.', 'no', 'ano', 'passado', ',', 'o', 'ano', 'passado', 'foi', 'chamado', 'um', 'dos', 'mais', 'jovens', 'mais', 'velhos', 'do', 'que', 'o', 'mundo', '.'], ['na', 'pratica', 'como', 'consultoria', ',', 'provavelmente', ',', 'mais', 'de', 'uma', '100', 'medicos', 'de', 'enfermeiros', 'ou', 'outros', 'membros', 'do', 'autoconhecido', 'ou', 'da', 'acalizacao', 'de', 'todos', 'os', 'anos', '.'], ['e', 'este', 'grande', 'problema', 'desemprezamos', 'e', 'ate', 'terem', 'todos', 'estes', 'meios', 'de', 'aprendizagem', ',', 'voces', 'serao', 'inegadas', '.'], ['(', 'risos', ')', 'aqui', 'esta', ',', 'usamos', 'a', 'mesma', 'palavra', 'para', 'falar', 'de', 'amor', 'para', 'explicar', 'uma', 'fuga', 'de', 'esvastar', 'e', 'dedica', '.', '(', 'risos', ')'], ['mt', ':', '365', ',', '365', 'dias', ',', 'no', 'ano', ',', 'o', 'numero', 'de', 'dias', 'de', 'separado', 'todos', 'os', 'anos', '.'], ['jok', ':', 'uau', '!', '(', 'musica', ')', 'mt', ':', 'mas', 'hoje', ',', 'estou', 'a', 'tocar', 'para', 'outro', 'tipo', 'de', 'audiencia', '.'], ['se', 'se', 'tivessem', 'a', 'certeza', 'de', 'que', ',', 'ha', '30', 'anos', ',', 'a', 'maioria', 'das', 'pessoas', ',', 'incluindo', 'os', 'psicologos', ',', 'provavelmente', 'o', 'que', 'o', 'bebe', 'era', 'ignomico', '\\\\xe2\\\\x80\\\\x94', 'ignomico', '\\\\xe2\\\\x80\\\\x94', 'que', 'nao', 'poderia', 'manter', 'oportunidades', 'desconecetivas', 'ou', 'nao', 'conseguiriamos', 'compreender', 'as', 'outras', 'pessoas', ',', 'ou', 'compreenderem', 'essa', 'serie', '.'], ['tentei', 'descobrir', 'o', 'que', 'e', 'o', 'maior', ',', 'e', 'quase', 'impossivel', '.'], ['mas', 'com', 'a', 'tecnologia', ',', 'podemos', 'fazer', 'coisas', 'que', 'sao', 'alem', 'das', 'nossas', 'capacidades', '.'], ['em', '1800', ',', 'teriam', 'de', 'trabalhar', 'em', 'seis', 'horas', 'para', 'ganhar', 'uma', 'venia', 'queimado', 'durante', 'uma', 'hora', '.'], ['nao', 'podemos', 'fugir', 'do', 'que', 'tudo', 'o', 'que', 'comemos', 'hoje', '.'], ['penso', 'que', 'isso', 'vai', 'criar', 'oportunidades', 'incrivelmente', 'fascinantes', 'para', 'os', 'techlticos', '.'], ['numa', 'especie', 'asexae', ',', 'se', 'obtemos', 'duas', 'mutacoes', 'em', 'diferentes', 'criaturas', ',', 'uma', 'verde', 'e', 'uma', 'verde', ',', 'entao', ',', 'uma', 'cora', ',', 'tem', 'que', 'ser', 'melhor', 'do', 'que', 'o', 'outro', '.'], ['os', 'problemas', 'mais', 'complexos', 'podem', 'ser', 'resolvidos', 'com', 'tecnicas', 'simples', 'se', 'tornar', 'capazes', 'de', 'ir', 'para', 'o', 'seu', 'sonho', '.'], ['o', 'frepe', 'tem', 'de', 'sobreviver', 'na', 'mae', '.'], ['`', '`', 'quando', 'as', 'criancas', 'fazem', 'experiencias', ',', 'chamamos', '-', 'lhes', '`', '`', \"'\", \"'\", 'tentar', 'tentar', 'ou', 'tentar', 'jogar', 'um', 'parceiro', '.', \"'\", \"'\", \"'\", \"'\", 'e', 'ha', 'um', 'conclui', 'de', 'estudos', 'interessantes', ',', 'que', 'tem', 'vindo', 'a', 'tocar', ',', 'que', 'e', 'uma', 'especie', 'de', 'programa', 'de', 'procura', 'de', 'procura', 'de', 'procura', '.', \"'\", \"'\"], ['vimos', 'todos', 'os', 'tipos', 'de', 'dispositivos', 'de', 'artificios', 'de', 'que', 'tinhamos', 'feito', '.'], ['ela', 'estava', 'em', 'posicao', '.'], ['portanto', ',', 'e', 'quando', 'se', 'passa', 'quatro', 'metros', '.'], ['e', 'como', 'se', 'revolvia', ',', 'os', 'empregadores', '.'], ['e', 'a', 'razao', 'e', 'que', 'ha', 'uma', 'divisao', 'de', 'trabalho', 'a', 'fazer', 'materia', '.'], ['entao', ',', 'fizemos', 'a', 'questao', 'se', 'os', 'humanos', 'e', 'as', 'abelhas', 'podiam', 'resolver', 'problemas', 'complexos', 'da', 'mesma', 'forma', '.'], ['ha', 'fontes', 'de', 'luz', '.'], ['`', '`', 'ele', 'disse', ':', '`', '`', \"'\", \"'\", 'se', 'pus', 'o', 'dinheiro', ',', 'vao', '-', 'me', '.', \"'\", \"'\", \"'\", \"'\", 'tive', 'muita', 'sorte', '.', \"'\", \"'\"], ['`', '`', 'por', 'exemplo', ',', 'eu', 'estava', 'a', 'fazer', 'parte', 'de', 'uma', 'cadeia', 'trinunciada', 'com', 'informacao', 'no', 'acampamento', 'e', 'numa', 'pilhagem', 'de', 'informacao', 'no', 'acampamento', ',', 'e', 'numa', 'consultoria', ',', 'disse', ':', '`', '`', \"'\", \"'\", 'peco', 'desculpa', ',', 'mas', 'tenho', 'de', 'ir', 'para', 'la', ',', 'mas', 'tenho', 'que', 'ir', 'para', 'la', '.', \"'\", \"'\"], ['agora', 'queremos', 'partilhar', 'isto', '.', 'e', 'o', 'proximo', 'passo', '.'], ['a', 'crianca', 'que', 'a', 'repirava', 'era', 'o', 'objecto', 'de', 'movimentar', ',', 'ridicularizar', 'e', 'a', 'vitima', 'de', 'intimidacao', '.'], ['descobrimos', 'que', 'ate', 'as', 'criancas', 'ricas', 'do', 'subseguetes', 'estava', 'dr', '.', 'dr', '.', '(', 'risos', ')', 'no', 'menos', 'uma', 'vez', 'por', 'semana', '.'], ['ola', '.', 'a', 'magia', 'e', 'uma', 'forma', 'muito', 'boa', 'de', 'pegar', 'no', 'progresso', ',', 'torna', 'possivel', 'agora', 'o', 'que', 'a', 'ciencia', 'vai', 'tornar', 'amanha', '.'], ['nesta', 'fotografia', ',', 'tem', 'o', 'meu', 'pai', 'a', 'minha', 'avo', 'a', 'tua', 'namorada', 'de', 'tres', 'excentimentos', '.'], ['e', 'apenas', 'que', ',', 'de', 'facto', ',', 'de', 'facto', ',', 'o', 'facto', 'de', 'que', 'funciona', 'o', 'visise', ',', 'morse', 'em', 'menos', 'clientes', 'americanos', '.'], ['mas', 'parte', 'da', 'direcao', 'das', 'instituicoes', 'nao', 'querem', 'que', 'o', 'fizesse', ',', 'porque', 'dizem', ',', 'so', ',', 'vai', 'ser', 'mais', 'dificil', 'de', 'controlar', '.'], ['comecaram', 'a', 'aparecer', 'e', 'testamos', '.'], ['enquanto', 'o', 'objecto', 'direita', 'e', 'obsolgado', 'no', 'fundo', 'de', 'cinco', 'anos', '.'], ['a', 'rainha', 'esta', 'a', 'fazer', 'isto', '.'], ['(', 'risos', ')', 'rapaz', ':', 'oh', ',', 'e', 'porque', 'isto', 'seja', 'o', 'que', 'isto', '.', 'e', 'necessario', '.'], ['fundamentalmente', ',', 'todos', 'os', 'componentes', 'gerais', 'devido', 'ao', 'ouro', '.', 'o', 'o', 'ouro', 'exmigrava', '.'], ['comecamos', 'a', 'subir', 'pelo', 'nosso', 'registo', '.'], ['e', 'uma', 'vez', 'por', 'diante', ',', 'comecaram', 'a', 'medir', ',', 'e', 'a', 'partilhar', 'dados', '.'], ['se', 'vai', 'a', 'parte', 'do', 'hospital', ',', 'o', 'hospital', 'e', 'um', 'risco', 'de', 'cerca', 'de', '50', '%', 'de', 'se', 'tornar', 'inconveniente', ',', 'entao', 'deve', '-', 'se', 'voltar', 'a', 'usar', 'camadas', '.'], ['(', 'aplausos', ')'], ['foi', 'um', 'impacto', 'enorme', 'sobre', 'mim', ',', 'porque', 'sou', 'uma', 'mulher', ',', 'e', 'sou', 'uma', 'mae', ',', 'e', 'nao', 'tinha', 'percebido', 'que', 'a', 'pandemia', 'do', 'sida', 'tinha', 'mudado', 'as', 'mulheres', '.'], ['como', 'e', 'que', 'isto', 'se', 'parece', 'um', 'destes', 'brilhantes', 'e', 'pequenos', 'engboletas', 'que', 'pode', 'testar', 'cinco', 'hipoteses', '?'], ['criamos', 'uma', 'comunidade', 'global', ',', 'uma', 'grande', 'comunidade', 'global', ',', 'onde', 'podemos', 'medir', 'e', 'compara', '-', 'lo', 'e', 'compara', '-', 'nos', 'com', 'o', 'que', 'respondamos', '.'], ['temos', 'a', 'certeza', 'de', 'que', 'ele', 'pudesse', 'mover', '-', 'se', 'em', 'forma', 'consciente', 'da', 'regulamentacao', 'mas', 'tambem', 'resistir', 'ao', 'furacao', '.'], ['entao', 'apercebi', '-', 'me', 'de', 'que', 'o', 'agencias', 'fundada', 'para', 'a', 'observacao', 'dos', 'oceanos', 'e', 'da', 'atmosfera', ',', 'e', 'pedi', '-', 'lhes', 'para', 'comunicarem', 'bem', 'no', 'tsunami', ',', 'e', 'fiz', 'isto', '.'], ['pode', 'fazer', 'as', 'suas', 'proprias', 'filas', 'e', 'frincelas', '.'], ['acontece', 'que', 'os', 'bebes', ',', 'bebes', 'colotos', ',', 'sao', 'obesos', '.'], ['era', 'homens', 'que', 'eram', 'respeitos', '.'], ['era', 'a', 'escolha', 'de', 'ciencia', ',', 'que', 'e', 'uma', 'das', 'melhores', 'ciencias', 'cientifica', '.'], ['`', '`', 'ia', 'sair', 'de', 'um', 'escomitorador', 'quando', 'comeca', ',', 'frequentou', 'ao', 'meu', 'saco', ',', 'como', 'o', 'fiz', 'centenas', 'de', 'vezes', 'antes', ',', 'quando', 'eu', 'ouvi', 'uma', 'voz', 'de', 'anunciar', ':', '`', '`', \"'\", \"'\", 'saindo', 'uma', 'voz', 'plure', '.', \"'\", \"'\"], ['encontramos', 'uma', 'moutu', '.', 'mata', '-', 'o', '.', 'e', 'obtemos', 'a', 'gordura', '.'], ['`', '`', 'como', 'adam', 'smith', 'disse', ':', '`', '`', 'nunca', 'ninguem', 'viu', 'um', 'cao', 'de', 'troca', 'um', 'vibravel', 'de', 'um', 'cao', '.', \"'\", \"'\", \"'\", \"'\", '(', 'risos', ')', '`', '`', \"'\", \"'\", '(', 'risos', ')', 'podem', 'ter', 'uma', 'ligacao', 'sem', 'ligacao', '.', \"'\", \"'\"], ['no', 'inicio', ',', 'foi', 'muito', 'dificil', 'acreditar', 'em', 'acreditar', 'que', 'as', 'vozes', 'eram', 'tao', 'hostiossexuals', 'e', 'tambem', 'um', 'passo', 'vital', 'para', 'aprender', 'um', 'espiricador', 'do', 'que', 'eu', 'era', 'um', 'sentido', 'de', 'conforfo', 'seria', 'de', 'o', 'que', 'eu', 'interpretacao', 'do', 'que', 'alguma', 'verdade', 'antes', 'de', 'uma', 'verdade', '.'], ['(', 'aplausos', ')', 'quando', 'comecou', 'a', 'fazer', 'isto', '?'], ['a', 'nossa', 'biologia', 'diz', '-', 'nos', 'que', 'o', 'amor', 'e', ',', 'em', 'vez', 'disso', ',', 'estes', 'transmitidores', 'de', 'recompensa', 'no', 'nosso', 'cerebro', 'e', 'diz', 'que', 'o', 'amor', 'e', 'uma', 'disputacao', 'ou', 'uma', 'recompensa', ',', 'a', 'recompensa', 'neurociica', 'e', 'remotivado', '.'], ['para', 'os', 'vossos', 'carlos', 'de', 'leituras', ',', 'uma', 'mesa', 'em', 'particular', '.'], ['quero', 'contar', '-', 'vos', 'uma', 'historia', 'diferentes', 'sobre', 'como', 'e', 'como', 'e', 'que', 'toda', 'a', 'nossa', 'percecao', 'comeca', 'a', 'mesma', 'forma', '.'], ['vao', 'olhar', 'para', 'baixo', 'para', 'baixo', 'das', 'montanhas', '.'], ['em', '1994', ',', 'houve', 'um', 'desastre', 'terrivel', 'no', 'ruanda', ',', 'em', 'africa', '.'], ['200', 'milhoes', 'de', 'tweets', 'sao', 'candidatas', 'todos', 'os', 'dias', '.'], ['mas', 'nao', 'e', 'incentivavel', '.', 'ha', 'esperanca', '.'], ['(', 'aplausos', ')'], ['e', 'uma', 'experiencia', 'inteira', 'de', 'experiencia', '.'], ['vamos', 'entao', 'restruitar', 'na', 'abstrato', '.'], ['entao', 'estas', 'sao', 'os', 'meus', 'favoritos', 'de', 'ilusao', '.'], ['agora', ',', 'gostaria', 'de', 'partilhar', 'a', 'cena', 'com', 'alguem', 'muito', 'especial', '.'], ['os', 'meus', 'horizos', 'continuam', 'a', 'evoluir', '.'], ['e', 'o', 'que', 'o', 'sexo', 'faz', 'e', 'que', 'ele', 'faz', 'com', 'que', 'o', 'individuo', 'seja', 'feito', 'desportero', 'de', 'inovacoes', 'geneticamente', '.'], ['tambem', 'temos', 'valorizado', 'a', 'sociedade'], ['gosto', 'de', 'comparar', 'isto', 'com', 'um', 'pouco', 'despensao', 'de', 'uma', 'pubtecente', '.'], ['tudo', 'o', 'musico', 'foi', 'profundamente', 'influenciado', 'pelo', 'robog', '.'], ['ha', 'um', 'numero', 'de', 'regras', 'que', 'as', 'abelhas', 'podem', 'aprender', 'para', 'resolver', 'esta', 'questao', 'interessante', '.', 'a', 'questao', 'interessante', 'e', ':', 'qual', '?'], ['naquele', 'momento', ',', 'comecei', 'a', 'perguntar', '-', 'me', '.'], ['depois', 'de', 'ter', 'visto', 'o', 'seu', 'impacto', 'general', ',', 'concentramo', '-', 'nos', 'no', 'valor', 'principal', 'do', 'que', 'nos', 'encontramos', ':', 'a', 'propria', 'lemocao', 'e', 'com', 'o', 'comproviso', '.'], ['fiz', 'os', 'meus', 'alunos', 'para', 'trabalhar', 'com', 'os', 'alunos', 'chines', '.'], ['e', 'isto', 'e', 'apenas', 'uma', 'das', 'centenas', 'e', 'centenas', 'de', 'anos', 'atras', 'nos', 'ultimos', '20', 'anos', 'que', 'mostrou', '.'], ['sao', 'os', 'beneficios', 'que', 'sao', 'intrinsecas', '.'], ['como', 'e', 'que', 'funciona', 'realmente', '?'], ['porque', 'e', 'que', 'isso', '?'], ['nao', 'e', 'assim', '.'], ['e', 'a', 'questao', 'e', 'que', 'por', 'isso', 'economistas', '?'], ['o', 'que', 'se', 'encontra', 'em', 'nos', 'nunca', 'se', 'pode', 'ser', 'colontados', ',', 'deforta', ',', 'ou', 'se', 'tirarmos', '.'], ['concretizarmente', ',', 'um', 'circulo', 'vicioso', ',', 'de', 'evita', ',', 'de', 'suspensao', 'e', 'desconhecido', ',', 'foi', 'uma', 'batalha', 'de', 'que', 'me', 'sentia', ',', 'e', 'nao', 'incapacita', 'de', 'reconhecida', 'de', 'onde', 'reconcisao', '.'], ['no', 'inverno', 'e', 'como', 'a', 'magia', '.', 'e', 'um', 'momento', 'de', 'mudanca', ',', 'quando', 'o', 'calor', 'se', 'torna', 'frio', ',', 'a', 'chuva', 'e', 'depois', 'desaparece', '.'], ['`', '`', 'dai', 'a', 'saudatwick', ':', '`', '`', \"'\", \"'\", 'sabes', 'que', 'cada', 'um', 'de', 'cada', 'um', '.', 'xens', ',', 'senhor', ',', 'podes', 'ajudar', 'aqui', '?', \"'\", \"'\"], ['obrigado', '.'], ['digo', 'isto', 'muito', 'serio', '.'], ['e', 'houve', 'uma', 'revolucao', 'na', 'nossa', 'compreensao', 'de', 'como', 'uma', 'aprendizagem', 'de', 'maquinas', '.'], ['agora', ',', 'como', 'podem', 'ver', ',', 'os', 'resultados', 'podem', 'ser', 'algo', 'parecido', 'com', 'os', 'resultados', '.'], ['`', '`', '`', '`', \"'\", \"'\", 'temos', ',', 'o', 'dia', 'seguinte', 'excecional', '?', \"'\", \"'\"], ['se', 'o', 'que', 'se', 'chama', 'um', 'sitio', 'e', 'sao', 'espulados', 'sobre', 'isso', ',', 'os', 'vossos', 'negocios', 'vao', 'sempre', 'sempre', 'a', 'procura', 'de', 'lasers', '.'], ['e', 'uma', 'caracteristica', 'unica', 'do', 'homem', '.'], ['talvez', 'possamos', 'ver', 'que', 'a', 'dor', 'fantasma', ',', 'o', 'culpe', '.'], ['e', 'para', 'viajarem', '?'], ['ele', 'sabe', 'como', 'a', 'empresa', 'de', 'lideranca', '.'], ['onde', 'e', 'que', 'ela', 'esta', 'a', 'fazer', '?'], ['lembro', '-', 'me', 'de', 'um', 'momento', 'especifico', '.'], ['mt', ':', 'sim', ',', 'mas', 'penso', 'que', 'tenho', 'uma', 'voz', 'melhor', '.', 'nos', 'desfatizamos', 'as', 'probabilidade', '.'], ['mas', 'os', 'computadores', 'sao', 'realmente', 'melhores', 'a', 'tornar', '-', 'se', 'melhor', '.'], ['e', 'tambem', 'destruira', 'a', 'sua', 'propriedade', ',', 'os', 'seus', 'patrimonais', 'cultural', ',', 'e', ',', 'eventualmente', ',', 'a', 'nocao', 'da', 'sua', 'existencia', '.'], ['estou', 'a', 'tocar', 'para', 'voces', '.'], ['os', 'formigas', 'sao', 'um', 'exemplo', 'classico', ',', 'onde', 'os', 'trabalhadores', 'trabalham', 'para', 'a', 'rainha', 'e', 'a', 'rainha', 'de', 'trabalhadores', 'e', 'a', 'fim', 'de', 'reunioes', '.'], ['ag', ':', 'ok', ',', 'esta', 'e', 'a', 'nossa', 'quinta', '.'], ['e', 'a', 'primeira', 'prova', 'surge', 'de', 'cerca', 'de', '80', 'e', '000', 'anos', ',', 'quando', 'se', 've', 'observa', 'obsol', 'e', 'eu', 've', '-', 'se', 'de', 'outras', 'coisas', 'que', 'se', 'movem', 'na', 'etiopia', ',', 'na', 'etiopia', ',', 'na', 'etiopia', ',', 'na', 'etiopia', ',', 'na', 'etiopia', ',', 'na', 'etiopia', ','], ['`', '`', 'e', 'a', 'unica', 'a', 'segunda', 'a', 'responsabilidade', 'de', 'um', 'artista', '.', \"'\", \"'\", \"'\", \"'\", 'a', 'politica', 'identificamo', '-', 'nos', '.', \"'\", \"'\"], ['(', 'risos', ')', 'ha', 'uma', 'diferenca', '.'], ['jentici', 'essas', 'memorias', 'porque', 'me', 'ajudaram', 'a', 'compreender', 'a', 'vida', ',', 'da', 'vida', ',', 'uma', 'vida', 'cheia', 'de', 'possibilidades', ',', 'sem', 'linguas', 'ou', 'cultura', '.'], ['pela', 'primeira', 'vez', ',', 'vamos', 'compara', '-', 'lo', 'com', 'macas', 'com', 'macas', ',', 'nao', 'so', 'dentro', 'de', 'um', 'pais', ',', 'mas', 'de', 'um', 'pais', 'a', 'outra', 'vez', '.'], ['se', 'virem', 'estes', 'cinco', 'formas', 'de', 'serem', ',', 'sao', 'exatamente', 'as', 'mesmas', 'que', 'precisam', 'para', 'ser', 'um', 'bom', 'cientista', '.'], ['porque', 'deus', 'gosta', 'de', 'mim', '.'], ['este', 'e', 'me', 'arquivos', 'em', 'na', 'noruega', ',', 'relogio', ',', 'a', 'hongo', ',', 'a', 'hongo', ',', 'instituir', 'as', 'pessoas', 'angariados', 'as', 'emissoes', 'dengarracao', '.'], ['o', 'colox', 'e', 'toxico', ',', 'e', 'os', 'pensamentos', '.'], ['ambos', 'sao', 'as', 'duas', 'tecnologias', '.', 'no', 'final', 'da', 'conta', ',', 'o', 'seu', 'recelancel', 'e', 'nao', 'e', 'tao', 'interessante', '.'], ['mas', 'depois', 'de', 'optar', 'a', 'longo', 'prazo', ',', 'eles', 'estavam', 'apenas', 'a', 'dar', 'os', 'crackers', ',', 'o', 'que', 'ele', 'pensou', 'que', 'toda', 'a', 'gente', 'deve', 'gostar', 'de', 'amar', '.'], ['em', 'outros', 'paises', ',', 'novos', 'medicamentos', 'nao', 'sao', 'respiram', 'brutadores', ',', 'e', 'de', 'repente', 'nao', 'tem', 'pacientes', '.'], ['mas', ',', 'desconcorajamos', 'a', 'voz', 'nao', 'como', 'uma', 'experiencia', ',', 'mas', 'como', 'um', 'symptoma', ',', 'e', 'o', 'meu', 'medo', 'e', 'a', 'resistencia', 'a', 'sua', 'resistencia', 'e', 'destroicia', '-', 'se', 'inspirador', '.'], ['e', 'entao', 'a', 'minha', 'agrada', 'e', 'a', 'transparencia', ',', 'que', 'obtemos', 'um', 'ciclo', 'continuo', 'de', 'melhoria', ',', 'como', 'o', 'mostra', 'este', 'slide', '.'], ['a', 'maioria', 'de', 'nos', 'e', 'um', 'pouco', 'louca', 'no', 'inicio', 'de', 'um', 'amor', 'romantico', '.'], ['esta', 'e', 'uma', 'folha', 'de', 'papel', ',', 'a', 'um', 'formato', 'de', 'papel', '.'], ['o', 'caminho', 'nao', 'e', 'facil', '.'], ['mas', 'se', 'conseguirmos', 'pela', 'evolucao', 'como', 'a', 'evolucao', 'neste', 'puzzle', ',', 'porque', 'gastamos', 'tanto', 'tempo', 'em', 'que', 'gastamos', 'tantos', 'bebes', 'inegaos', ',', 'e', 'encontramos', 'uma', 'resposta', '.'], ['deitam', 'um', 'olho', 'para', 'todos', 'estes', 'museus', '.'], ['vou', 'mostrar', '-', 'vos', 'rapidamente', 'os', 'componentes', '.'], ['e', 'provavelmente', 'eles', 'tem', 'habilidades', 'lenguisticas', '.'], ['no', 'caso', 'de', 'harrido', ',', 'o', 'homem', 'que', 'a', 'fez', 'com', 'que', 'o', 'fazer', '.'], ['outros', 'estudos', 'de', 'confirmam', 'que', 'a', 'maioria', 'das', 'relacoes', 'comeca', 'a', 'fazer', 'assim', '.'], ['outro', 'ponto', 'de', 'servico', 'deste', 'momento', 'chama', '-', 'se', 'mil', 'memoria', '.'], ['eu', 'era', 'hiptipipo', '.'], ['pedimos', 'as', 'abelhas', 'nao', 'so', 'para', 'aprender', 'a', 'ir', 'a', 'uma', 'especie', ',', 'mas', 'so', 'para', 'uma', 'flor', 'de', 'uma', 'cor', ',', 'mas', 'apenas', 'uma', 'especie', 'de', 'cor', 'quando', 'ela', 'era', 'um', 'padrao', 'especifico', '.'], ['vamos', 'entao', ',', 'claro', ',', 'nao', '?', '(', 'risos', ')', 'a', 'esquerda', 'e', 'o', 'men', ',', 'ok', '?', '(', 'risos', ')', 'ok', '?', '(', 'risos', ')', 'entao', ',', 'o', 'seu', 'artigo', ',', 'um', 'artigo', 'de', 'quatro', 'partes', 'diferentes', ':', 'uma', 'introducao', ',', 'uma', 'parte', 'introducao', ',', 'uma', 'parte', ',', 'uma', 'parte', 'e', 'parte', 'de', 'resultado', '.'], ['`', '`', 'mas', 'a', 'outra', 'metade', 'do', 'tempo', ',', 'ela', 'pega', '-', 'se', 'num', 'pouco', 'de', 'brocolis', 'e', 'dizia', '`', '`', \"'\", \"'\", 'srm', \"'\", \"'\", \"'\", ',', 'brocom', '.', \"'\", \"'\"], ['eu', 'adorava', 'o', 'fim', 'do', 'detalhe', 'que', 'me', 'importava', 'o', 'meu', 'trabalho', ',', 'mas', 'queria', 'expandir', 'a', 'escala', '\\\\xe2\\\\x80\\\\x94', 'para', 'passar', 'a', 'parte', 'de', 'um', 'objecto', 'que', 'olhamos', 'para', 'algo', 'que', 'se', 've', '.'], ['em', 'alguns', 'paises', ',', 'temos', 'longas', 'excetizacoes', 'de', 'pacientes', 'para', 'a', 'cirurgia', '.'], ['ca', ':', 'enquanto', 'se', 'passa', 'com', 'o', 'crowds', '.'], ['`', '`', '`', '`', \"'\", \"'\", 'ou', 'esta', 'relacao', 'foi', 'mais', 'curto', 'que', 'previse', '.', \"'\", \"'\", \"'\", \"'\", 'o', 'que', 'e', 'bonito', 'na', 'obra', 'de', 'arte', 'partilhada', 'e', 'que', 'so', 'ela', 'se', 'aplica', 'a', 'produtora', '.', \"'\", \"'\"], ['hoje', ',', 'uso', 'formas', 'fundamentais', 'de', 'criar', 'padroes', 'permanentes', ',', 'cupos', ',', 'cultivamos', ',', 'grandes', 'como', 'edificios', 'dificil', 'em', 'cidades', 'pelo', 'mundo', '.'], ['por', 'isso', 'parecem', 'ser', 'tao', 'bem', 'sucedidas', 'para', 'construir', 'sementes', 'num', 'so', 'ambiente', 'fechado', '.'], ['`', '`', 'entao', ',', 'um', 'dia', 'acordados', 'e', 'disseram', ':', '`', '`', \"'\", \"'\", 'espectaculo', 'uma', 'rainha', ',', 'mas', 'depois', 'desconheco', 'que', 'alguem', 'tenha', 'alguma', 'de', 'outra', 'futiliza', 'as', 'falencias', '.', \"'\", \"'\"], ['nao', 'e', '?'], ['eles', 'viviam', 'como', 'isto', ',', 'com', 'lebertos', 'em', 'plastico', ',', 'num', 'parque', '.'], ['por', 'exemplo', ',', 'no', 'carcapa', 'esta', 'um', 'local', 'onde', 'encontrar', 'ferramentas', 'locais', 'locais', 'de', 'neandertal', '.'], ['muito', 'obrigado', '.'], ['entao', 'tentei', 'mormentares', 'do', 'bronzeze', '.'], ['o', 'teste', 'era', 'negativo', '.'], ['provavelmente', 'ja', 'ouviram', 'falar', 'do', 'projecto', 'de', 'google', 'glass', '.'], ['os', 'bebes', 'e', 'os', 'jovens', 'ficam', 'muito', 'mau', 'na', 'focagem', 'numa', 'unica', 'coisa', '.'], ['mas', 'vejam', '.', 'nao', 'ha', 'uma', 'privacidade', '.'], ['e', 'nada', 'a', 'ver', 'com', 'tudo', 'o', 'que', 'obtemos', 'e', 'ver', ',', 'virtual', 'ou', 'real', '.', '.', '.', '.', '.', '.', '.', '.', '.', '.', '.', '.', '.', '.'], ['eram', 'pessoas', 'brilhantes', '.', 'nao', 'estou', 'a', 'falta', 'de', 'respeito', 'pelo', 'homem', 'de', 'neandertal', '.'], ['bem', ',', 'como', 'e', 'que', 'isso', 'e', 'o', 'tipo', 'de', 'criatura', '?'], ['o', 'vosso', 'cerebro', 'nao', 'pode', 'gerir', 'a', 'incerteza', 'de', 'informacao', 'e', 'isso', 'deixa', '-', 'lo', '.'], ['por', 'outro', 'lado', ',', 'depois', 'da', 'universidade', ',', 'tenho', '7', 'escolas', 'de', 'artes', 'em', 'que', 'me', 'deixaram', 'rejeicao', '.'], ['porque', 'e', 'que', 'temos', 'que', 'preocupar', '?'], ['se', 'tivessem', 'de', 'sair', 'de', 'zero', ',', 'digamos', 'que', 'ir', 'para', 'a', 'campanha', '.'], ['e', 'nao', 'sabiamos', 'que', 'sofunde', 'o', 'hospital', '\\\\xe2\\\\x80\\\\x94', 'porque', 'o', 'filmamos', 'nao', 'sabiamos', 'se', 'fosse', 'tao', 'sustentada', '.'], ['em', 'tres', 'anos', ',', 'preparou', '-', 'se', 'de', 'ter', 'saido', 'de', 'ter', '40', '%', 'para', 'o', 'fa', 'de', 'doencas', '.'], ['ha', 'uma', 'parte', 'do', 'cerebro', 'chamado', 'hipcampo', ',', 'que', 'evoluiu', 'durante', 'decadas', 'de', 'milhares', 'de', 'anos', ',', 'para', 'manter', 'o', 'registo', 'das', 'coisas', 'importantes', '\\\\xe2\\\\x80\\\\x94', 'ou', 'o', 'problema', ',', 'ou', 'podemos', 'encontrar', 'o', 'peixe', 'de', 'peixe', ',', 'ou', 'talvez', 'o', 'peixe', 'que', 'vivem', 'em', 'arvores', ',', 'ou', 'as', 'arvores', 'e', 'as', 'arvores', 'e', 'as', 'salcamudas', '.'], ['e', 'talvez', 'a', 'coisa', 'mais', 'dificil', 'de', 'todos', ',', 'e', 'de', 'onde', 'as', 'outras', 'pessoas', 'pensam', 'neles', 'e', 'nao', 'e', 'exatamente', 'o', 'que', 'pensamos', 'que', 'pensamos', 'e', 'sentimos', 'que', 'sentimos', 'e', 'sentimos', '.'], ['encontramos', 'um', 'hospital', 'no', 'hospital', 'e', 'estavamos', 'a', 'fazer', 'uma', 'tarde', 'com', 'uma', 'tarde', 'de', 'forma', 'a', 'fazer', '-', 'a', '-', 'morte', '.'], ['em', '2000', ',', 'e', 'uma', 'grande', 'exposicao', 'em', 'alemanha', '.'], ['mas', 'vivemos', 'num', 'sitio', 'em', 'tres', 'metros', 'de', 'alogura', '.'], ['depois', 'a', 'cidade', 'de', 'nova', 'iorque', 'chamou', '-', 'me', 'para', 'perguntar', 'se', 'podia', 'adaptar', 'estes', 'conceitos', 'agdaptadas', 'ou', 'ao', 'parque', 'da', 'suspensao', 'da', 'highspedica', '.'], ['mas', ',', 'claro', ',', 'a', 'decisao', 'vai', 'ficar', 'muito', 'mais', 'longe', 'do', 'que', 'o', 'myri', '.'], ['comparem', 'os', 'hospitais', 'de', 'um', 'pais', ',', 'encontrarao', 'alguns', 'que', 'sao', 'muito', 'bons', ',', 'mas', 'voces', 'sao', 'muito', 'bons', '.'], ['havera', 'guerras', ',', 'havera', 'depressao', ',', 'havera', 'desastre', 'naturais', '.'], ['e', 'muito', 'tempo', 'de', 'ser', 'uma', 'adultos', '.'], ['sim', ',', 'regressa', 'para', 'o', 'canto', '.', 'para', 'o', 'cantor', '.'], ['o', 'cliente', 'e', 'a', 'realidade', 'durara', '.'], ['a', 'fome', 'global', 'estava', 'inevitavel', '.'], ['se', 'isto', 'e', 'verdade', ',', 'se', 'os', 'bebes', 'fornectadores', 'sao', 'para', 'aprenderem', '\\\\xe2\\\\x80\\\\x94', 'e', 'a', 'historia', 'de', 'que', 'as', 'criancas', 'sao', 'a', 'sua', 'razao', 'para', 'aprender', 'e', 'a', 'sua', 'razao', '\\\\xe2\\\\x80\\\\x94', 'poderiamos', 'esperar', 'que', 'tem', 'conhecimento', 'de', 'aprendizagem', 'muito', 'profugiar', '.'], ['podem', 'aprender', 'a', 'fazer', 'isto', 'em', 'laboratorio', 'a', 'trocar', '-', 'se', '.', 'e', ',', 'de', 'facto', ',', 'ha', 'a', 'reciprocidade', 'em', 'outros', 'animais', '.', 'mas', 'a', 'troca', 'de', 'um', 'objeto', 'para', 'outro', 'passo', '.'], ['o', 'comercio', 'e', '10', 'vezes', 'mais', 'velho', 'do', 'que', 'a', 'agricultura', '.'], ['o', 'que', 'me', 'interessa', 'e', 'porque', 'e', 'que', 'isso', 'acontece', '.'], ['e', 'basicamente', 'o', 'que', 'bay', 'fez', 'e', 'fornecer', 'um', 'metodo', 'matematica', 'usando', 'a', 'teoria', 'das', 'doencas', 'de', 'viaccoes', 'de', 'doencas', 'captistas', ',', 'descrever', 'como', 'os', 'cientistas', 'melhorados', '.'], ['isto', 'e', 'realmente', 'um', 'dos', 'artistas', '.'], ['estou', 'a', 'voltar', 'a', 'alemanha', 'para', 'voltar', 'a', 'falar', 'em', 'yoleia', 'que', 'seja', ',', 'nos', 'teremos', 'a', 'oportunidade', 'de', 'fazer', 'a', 'diferenca', '.'], ['nao', 'sabia', 'o', 'que', 'isso', 'e', 'suposto', 'fazer', '.'], ['foi', 'uma', 'especie', 'muito', 'cooperativo', 'muito', 'conquistaz', '.'], ['o', 'nosso', 'objetivo', 'e', 'garantir', 'que', 'nenhum', 'menino', 'esteja', 'esquecedo', ',', 'tudo', 'por', 'causa', 'do', 'custo', 'ou', 'de', 'o', 'acesso', '.'], ['mas', 'os', 'nossos', 'doentes', 'dao', 'forca', '.'], ['ha', '15', 'vezes', 'mais', 'provavel', 'que', 'o', 'medicamento', 'do', 'que', 'o', 'vosso', 'proprio', 'malefico', '.'], ['nao', 'sou', 'o', 'meu', 'pai', '.'], ['eu', 'digo', '-', 'vos', 'o', 'recomendavel', ',', 'e', 'uma', 'boa', 'coisa', 'para', 'nos', 'fazer', 'isto', '.'], ['claramente', ',', 'eles', 'fazem', '-', 'lhes', 'mudar', 'esta', 'hipotese', '.'], ['havia', 'uma', 'nova', 'pele', 'de', 'uma', 'nova', 'paraposicao', 'global', 'e', 'ela', 'tinha', 'uma', 'visao', ':', 'quero', 'gerir', 'a', 'minha', 'grande', 'instituicao', 'a', 'minha', 'avo', ',', 'em', 'parte', ',', 'nos', 'resultados', 'importantes', 'para', 'os', 'pacientes', '.'], ['o', 'que', 'e', 'que', 'acontece', 'no', 'pensamento', 'deste', 'bebe', '?'], ['bem', ',', 'e', 'uma', 'crianca', 'particularmente', 'importante', '\\\\xe2\\\\x80\\\\x94', 'e', 'um', 'jovem', ',', 'que', 'expressa', 'muito', 'bem', ',', 'mas', 'o', 'que', 'isto', 'e', 'feito', 'foi', 'que', 'isto', 'e', 'feito', '.'], ['eles', 'vao', 'partilhar', 'informacao', 'sobre', 'como', 'podem', 'melhorar', 'as', 'coisas', '.'], ['foi', 'maravilhosamente', 'descrevedo', 'em', '2006', 'num', 'livro', 'de', 'michael', 'e', 'elizle', 'para', 'teleberg', '.'], ['parece', 'que', 'as', 'mulheres', 'cooperam', 'em', 'caca', 'com', 'os', 'homens', '.'], ['mas', 'nao', 'ha', 'provas', 'de', 'uma', 'divisao', 'de', 'um', 'divisao', 'de', 'trabalho', 'sexual', '.'], ['e', 'porque', 'e', 'que', 'as', 'trocas', 'e', 'que', 'eles', 'fazem', 'o', 'nivel', 'de', 'vida', '?'], ['finalmente', 'conheci', 'um', 'presidente', 'texicavel', 'na', 'aldeia', 'de', 'ongawaiwaife', 'em', 'proferia', 'disuntica', '.'], ['penso', 'que', 'isso', 'sera', 'possivel', ',', 'enquanto', 'a', 'quantidade', 'de', 'dados', 'que', 'usamos', 'e', 'a', 'capacidade', 'de', 'a', 'tecnologia', 'que', 'os', 'torna', '-', 'las', 'disponiveis', 'a', 'cada', '2', 'excelerando', '-', 'se', 'em', 'cada', 'duas', 'unidades', 'excelerando', '.'], ['deem', 'uma', 'hora', 'para', 'fazer', 'uma', 'la', 'duas', 'horas', 'para', 'fazer', 'uma', 'ha', 'duas', 'horas', 'para', 'fazer', 'uma', 'harpe', '.'], ['a', 'erradicacao', 'dos', 'membros', 'duma', 'sociedade', ',', 'nao', 'ha', 'muito', 'mais', 'forte', 'nem', 'sequer', 'honrado', 'do', 'que', 'o', 'privilegio', 'de', 'ter', 'uma', 'cura', 'para', 'alguem', ',', 'a', 'vinvolviar', 'a', 'mao', ',', 'a', 'pessoa', 'que', 'tinha', 'de', 'partilhar', ',', 'a', 'esperanca', 'e', 'a', 'esperanca', 'de', 'que', 'a', 'sua', 'recuperacao', '.'], ['`', '`', 'e', 'a', 'voz', 'da', 'vida', ',', 'que', 'chamamos', '-', 'nos', 'a', 'aprender', '.', \"'\", \"'\", \"'\", \"'\", 'muito', 'obrigado', '.', \"'\", \"'\"], ['agora', ',', 'nesse', 'estadio', ',', 'a', 'sida', 'e', 'completamente', 'infinidado', 'e', 'tinha', 'sido', 'compreentizado', 'por', 'pneumonia', '.'], ['e', 'muito', 'bem', ',', 'muito', 'temporal', '.'], ['e', 'a', 'primeira', 'estrutura', 'provismo', 'em', 'papel', '.'], ['para', 'nos', 'global', ',', 'a', 'unissss', ',', 'esta', 'e', 'uma', 'oportunidade', 'para', 'mudar', '.'], ['nada', 'podia', 'parar', 'a', 'explosao', 'demografia', '.'], ['as', 'pessoas', 'estavam', 'a', 'imprefusamente', 'mentalmente', 'e', 'fisicamente', '.'], ['um', 'processo', 'substituicao', 'de', 'cirurgia', ',', 'comecou', ',', 'as', 'pessoas', 'normais', 'nao', 'ouvemssem', 'vozes', ',', 'enquanto', 'eu', 'estava', 'a', 'ouvir', ',', 'era', 'algo', 'que', 'nao', 'iria', 'realmente', 'fazer', '.'], ['precisamos', 'de', 'nos', 'treinar', 'para', 'se', 'distribuir', 'a', 'distribuir', 'esses', 'tipos', 'de', 'situacoes', '.'], ['ok', ',', 'um', ',', 'dois', ',', 'tres', '.', 'publico', ':', 'podem', 'ler', 'isto', '?'], ['a', 'escultura', 'podia', 'ser', 'completamente', 'esplexo', ',', 'o', 'que', 'fazia', 'e', 'que', 'podia', 'ser', 'afectados', 'em', 'edificios', 'existisses', 'literalmente', 'afastadas', '\\\\xe2\\\\x80\\\\x94', 'literalmente', ',', 'parte', 'do', 'tecido', 'da', 'cidade', '.'], ['(', 'risos', ')', 'mesmo', 'em', 'inglaterra', ',', 'nao', 'deixamos', 'a', 'rainha', '.'], ['e', 'um', 'risco', 'de', 'cinco', '%', ',', 'e', 'muito', '.'], ['dryry', 'e', 'praticada', 'para', 'um', 'rico', 'e', 'salvar', 'a', 'vida', 'pobre', '.'], ['quando', 'olhamos', 'para', 'muitos', 'hospitais', 'para', 'muitas', 'doencas', 'diferentes', ',', 'vemos', 'enormes', 'lacunas', '.'], ['o', 'tamanho', 'da', 'gelada', 'neste', 'grafico', 'representa', 'o', 'tamanho', 'da', 'populacao', '.', 'e', 'o', 'nivel', 'do', 'grafico', 'representa', 'o', 'pib', 'per', 'capitao', '.'], ['agora', ',', 'a', 'questao', 'e', ':', 'como', 'podemos', 'perguntar', '-', 'lhes', 'como', 'e', 'que', 'lhes', 'podemos', 'perguntar', '?'], ['como', 'e', 'que', 'voces', 'se', 'desencorajamos', 'a', 'distancia', 'de', 'distancia', 'a', 'distancia', 'do', 'que', 'a', 'migracao', '?'], ['a', 'calhin', ',', 'kylet', '.', 'este', 'e', '.', 'ha', '.', 'eu', 'tive', '-', 'as', '.'], ['(', 'aplausos', ')'], ['sao', 'empresas', 'que', 'sao', 'activados', 'mais', 'do', 'que', 'um', 'pais', ',', 'e', 'encontramos', 'quatro3', '000', '.'], ['`', '`', 'ele', 'respondeu', ':', '`', '`', \"'\", \"'\", 'meu', 'deus', ',', 'voce', 'e', 'louco', '?', \"'\", \"'\"], ['`', '`', 'lembrem', '-', 'se', ',', 'em', 'vez', 'de', 'stressante', 'o', '`', '`', \"'\", \"'\", 'stress', \"'\", \"'\", \"'\", \"'\", ',', 'o', 'cerebro', 'secreta', 'do', 'coissidioso', '.', \"'\", \"'\"], ['e', 'este', 'e', 'o', 'que', 'aconteceu', 'a', 'salmascopia', '.'], ['penso', 'que', 'os', 'bebes', 'e', 'as', 'criancas', 'sao', 'mais', 'conscientes', 'do', 'que', 'nos', 'adultos', '.'], ['quem', ',', 'quanto', 'mais', 'as', 'criancas', ',', 'pode', 'ter', 'as', 'suas', 'qualidades', '?'], ['coisas', 'terriveis', 'que', 'vao', 'acontecer', 'neste', 'seculo', ',', 'estou', 'absolutamente', 'certo', '.'], ['(', 'gravacao', ')', 'adam', 'browrow', ':', 'ola', '.'], ['era', 'completamente', 'novo', 'e', 'ninguem', 'tinha', 'feito', ',', 'mesmo', 'os', 'adultos', '.', '(', 'risos', ')', 'bl', ':', 'ate', 'professores', ',', 'e', 'foi', 'muito', 'dificil', 'para', 'professores', '.'], ['fui', 'muito', 'feliz', 'da', 'aprender', '.'], ['os', 'tempo', 'sao', 'dificeis', '.'], ['o', 'humano', 'e', 'confusado', 'a', 'ser', 'cego', ',', 'esperto', '.'], ['porque', 'quero', 'mostrar', '-', 'vos', 'um', 'ponto', 'de', 'interesse', '.'], ['nao', 'havia', 'progresso', ',', 'nenhuma', 'inovacao', '.'], ['e', 'e', 'a', 'pobreza', 'dos', 'nossos', 'dias', '.'], ['e', ',', 'frequentemente', ',', 'os', 'dados', 'nao', 'existem', ',', 'na', 'verdade', ',', 'nao', 'existem', '.'], ['era', 'a', 'espidez', 'especial', 'de', 'kcc', ',', 'sabem', '?'], ['e', 'como', 'se', 'pudessemos', 'projeta', 'as', 'pessoas', 'nesta', 'sala', 'numa', 'sala', 'de', 'ilha', 'de', 'desertos', '.'], ['coisas', 'estranhas', 'e', 'triste', 'que', 'nao', 'teria', 'visto', 'senao', '.'], ['outra', 'forma', 'de', 'considerar', 'isto', 'e', 'que', ',', 'em', 'vez', 'de', 'ver', 'os', 'bebes', 'e', 'criancas', 'como', 'adultos', ',', 'deviamos', 'ver', 'os', 'individuos', 'como', 'um', 'estadios', 'de', 'um', 'futuro', 'diferente', '\\\\xe2\\\\x80\\\\x94', 'uma', 'especie', 'de', 'estrutura', 'e', 'as', 'legitimas', '\\\\xe2\\\\x80\\\\x94', 'e', 'as', 'papidez', 'sao', 'as', 'bordas', '\\\\xe2\\\\x80\\\\x94', 'e', 'as', 'papridas', 'e', 'sao', 'consumidas', 'em', 'frente', 'do', 'jardim', 'que', 'estao', 'a', 'retratar', '-', 'nos', 'a', 'nossa', 'volta', 'e', 'a', 'nossa', 'volta', 'dos', 'projetabilidade', '.'], ['nao', 'podemos', 'cortar', 'as', 'pessoas', 'que', 'ja', 'nao', 'tem', 'medo', '.'], ['o', 'microscopio', '.'], ['as', 'pessoas', 'esquecemos', 'disso', '.', 'as', 'pessoas', 'olham', 'para', 'o', 'comercio', 'de', 'uma', 'coisa', 'moderna', '.'], ['bem', ',', 'vamos', 'agora', 'fazer', 'um', 'exemplo', '.'], ['entao', 'escolhi', '-', 'me', 'a', 'construir', 'a', 'baca', 'em', 'tubos', 'de', 'casconce', 'e', 'factos', 'sobre', 'o', 'papel', '.'], ['e', 'facil', 'para', 'um', 'cientista', 'de', 'se', 'distribuir', 'e', 'nao', 'saber', ',', 'porque', 'e', 'o', 'que', 'estamos', 'a', 'fazer', ',', 'mas', 'para', 'o', 'laboratorio', 'nao', 'e', 'um', 'bom', 'trabalho', 'que', 'ira', 'passar', 'no', 'final', 'do', 'dia', '\\\\xe2\\\\x80\\\\x94', 'a', 'maioria', 'do', 'dia', '-', 'acelerador', 'de', 'sabow', ',', 'o', 'que', 'estava', 'a', 'ser', 'collabowart', '?'], ['se', 'eu', 'pudesse', 'provar', ',', 'entao', ',', 'acabariamos', 'juntos', '.'], ['e', 'a', 'a', 'acronmen', 'do', 'constrio', 'internacional', 'para', 'a', 'medida', 'dos', 'resultados', 'dos', 'cuidados', 'de', 'saude', '.'], ['a', 'uma', 'altura', 'de', 'inspiracao', 'esta', 'a', 'seguir', '.'], ['mais', 'de', 'dois', 'milhoes', 'de', 'pessoas', 'se', 'tornaram', '-', 'se', 'em', 'refugiados', '.'], ['(', 'aplausos', ')'], ['entao', 'ha', 'provas', 'de', 'ligacao', 'entre', 'o', 'amor', 'e', 'mudancas', 'de', 'hemudimentais', 'e', 'comportamento', '.'], ['para', 'a', 'quinta', ',', 'a', 'unica', 'solucao', 'usada', 'era', 'uma', 'cirurgia', 'pesada', '.'], ['pediram', '-', 'me', 'que', 'virmos', 'a', 'reconstruir', 'uma', 'catedral', 'provismo', '.'], ['e', 'quando', 'os', 'seres', 'humanos', 'comecaram', 'a', 'mover', 'objetos', 'dessa', 'forma', ',', 'foi', 'a', 'prova', 'de', 'que', 'eles', 'trocaram', 'entre', 'grupos', '.'], ['isto', 'e', 'o', 'que', 'ele', 'escreveu', '.'], ['mas', 'nos', 'pensamos', 'que', 'se', 'limitamos', 'ha', 'uma', 'ligacao', 'possivel', 'com', 'outros', 'animais', '.', 'seria', 'incrivel', 'se', 'os', 'humanos', 'e', 'as', 'abelhas', 'pensaram', 'a', 'mesma', 'forma', 'que', 'elas', 'parecem', 'diferentes', '.'], ['a', 'lideranca', 'e', 'uma', 'escolha', '.', 'nao', 'e', 'um', 'cientista', '.'], ['`', '`', '`', '`', 'nao', 'querem', 'ver', 'um', 'manstro', 'que', 'encaixam', 'a', 'si', 'mesmo', ',', 'e', 'voces', 'dizem', ',', '`', '`', \"'\", \"'\", 'um', 'fosquete', 'possivel', '?', 'ou', 'talvez', 'um', 'futuar', '?', '`', '`', \"'\", \"'\", 'onde', 'podera', 'ser', 'melhor', '?', \"'\", \"'\", \"'\"], ['e', 'estes', 'sao', '7', 'segundos', 'para', 'a', 'prosperidade', 'que', 'ganhaste', '.', 'desde', '1950', ',', 'porque', 'sao', 'sete', 'segundos', '.', 'porque', 'sao', 'cinco', 'segundos', 'e', 'meio', 'e', 'meio', 'enquanto', 'podem', 'fazer', 'algo', '.', 'ou', 'comprar', 'outro', 'ou', 'um', 'servico', 'ou', 'servico', 'de', 'servico', '.'], ['portanto', ',', 'nao', 'vou', 'fazer', 'detalhes', 'para', 'que', 'todos', 'os', 'detalhes', 'da', 'pesquisa', ',', 'porque', 'podem', 'ler', ',', 'mas', 'o', 'proximo', 'passo', 'e', 'a', 'proxima', 'observacao', '.', 'portanto', ',', 'aqui', 'esta', 'alguns', 'estudantes', 'a', 'fazer', 'observacoes', 'a', 'fazer', 'observacoes', '.', 'estao', 'a', 'gravar', 'dados', 'para', 'o', 'local', 'onde', 'as', 'abelhas', '.'], ['tudo', 'o', 'que', 'precisamos', 'e', 'um', 'mapa', ',', 'nao', 'importa', '.'], ['por', 'isso', ',', 'ir', 'ao', 'hospital', 'e', 'uma', 'loia', '.'], ['ou', 'os', 'aliados', 'sao', 'o', 'paraiso', ',', 'mas', 'os', 'lam', ',', 'pode', 'ser', 'o', 'inferno', '.'], ['o', 'que', 'isso', 'faz', 'e', 'usado', 'o', 'detetor', 'blicket', '.'], ['obviamente', ',', 'isto', 'parece', '-', 'me', 'muito', 'bem', ',', 'e', 'o', 'caso', ',', 'mas', 'a', 'ciencia', 'e', 'a', 'verdade', 'para', 'a', 'concentura', ',', 'baseada', 'no', 'modo', 'como', 'funciona', 'a', 'nossa', 'memoria', '.'], ['e', 'no', 'futuro', ',', 'enquanto', 'nos', 'vamos', 'avancar', ',', 'conseguimos', 'atravessar', 'muito', 'a', 'experiencia', 'terrivel', '.'], ['e', 'tudo', 'isso', 'tem', 'um', 'momento', 'em', 'que', 'a', 'populacao', 'tem', 'dois', '.'], ['e', 'depois', 'estas', 'pessoas', 'precisam', 'de', 'legecoes', 'provismodoras', ',', 'mas', 'nao', 'arquitecto', ',', 'pois', 'nao', 'ha', 'um', 'casamento', 'excecional', 'para', 'trabalhar', 'para', 'os', 'privilegias', '.'], ['claro', ',', 'podem', 'ver', 'um', 'olho', 'para', 'o', 'local', 'da', 'internet', ',', 'e', 'tambem', 'podemos', 'falar', 'mais', ',', 'estou', 'em', 'curso', ',', 'no', 'dia', 'do', 'dia', '.'], ['um', 'pouco', 'depois', ',', 'encontrei', 'outra', 'foto', ',', 'uma', 'foto', 'de', 'mim', '.'], ['(', 'aplausos', ')', 'este', 'tapreen', 'de', 'aplausos', 'e', 'para', 'os', 'medicos', 'e', 'as', 'enfermeiros', 'do', 'hospital', 'que', 'se', 'ocupam', 'profundamente', '.'], ['e', 'a', 'resposta', 'e', 'cerca', 'de', 'meia', '-', 'segundo', '.'], ['todos', 'sabemos', 'que', 'toda', 'a', 'gente', 'esta', 'a', 'fazer', 'erros', '.'], ['o', 'medo', 'desapago', 'e', 'uma', 'infeccao', 'dos', 'olhos', 'do', 'pedagono', 'que', 'entre', 'olhos', '.', 'infecoes', 'repetidas', 'de', 'medo', 'que', 'podem', 'tornar', 'uma', 'forma', 'permanente', '.'], ['`', '`', '`', '`', \"'\", \"'\", 'gosto', 'do', 'vosso', 'livro', ',', 'diz', '-', 'me', ',', '`', '`', \"'\", \"'\", 'mas', 'eu', 'gostava', 'que', 'vos', 'tivesse', 'que', 'escrever', 'de', 'forma', 'diferente', \"'\", \"'\", \"'\", '.', \"'\", \"'\"], ['como', 'e', 'que', 'as', 'pessoas', 'publicam', 'os', 'documentos', '?'], ['podem', 'ver', 'tambem', 'ver', 'conchas', 'de', 'conchas', 'que', 'descobri', 'com', 'uma', 'equipa', 'aqui', 'em', 'oxford', ',', 'por', 'mais', 'de', '200', 'quilometros', ',', 'dentro', 'do', 'interior', 'da', 'terra', ',', 'desde', 'que', 'me', 'liberto', 'com', 'alegeren', '.'], ['outros', 'animais', 'como', 'as', 'contendagens', ',', 'como', 'as', 'coloarias', 'nao', 'sao', 'muito', 'bons', 'em', 'particular', ',', 'mas', 'sao', 'extremamente', 'bons', 'para', 'a', 'aprendizagem', 'dentro', 'das', 'redes', 'dentro', 'de', 'diferentes', '.'], ['centenas', 'de', 'pessoas', 'viram', 'que', 'a', 'urbana', 'morcionista', 'a', 'residica', 'que', 'residicava', 'o', 'tanque', 'em', 'porto', 'no', 'porto', 'em', 'portuga', '.'], ['de', 'facto', ',', 'muitos', 'dos', 'eua', 'precisam', 'de', 'menos', 'informacao', ',', 'tem', 'de', 'fornecer', 'informacao', 'para', 'criar', 'uma', 'sociedade', 'que', 'para', 'obter', 'uma', 'empresa', 'de', 'biblioteca', 'para', 'obter', 'um', 'mapa', 'de', 'biblioteca', '.'], ['e', 'depois', ',', 'enquanto', 'adultos', ',', 'podemos', 'tomar', 'todas', 'estas', 'coisas', 'que', 'aprendemos', 'quando', 'eramos', 'bebes', 'e', 'criancas', 'e', 'as', 'criancas', 'fazem', '-', 'las', 'para', 'fazer', 'coisas', 'no', 'mundo', '.'], ['entao', ',', 'qual', 'e', 'a', 'resposta', 'da', 'evolucao', 'no', 'problema', 'da', 'incerteza', '?'], ['na', 'primavera', ',', 'o', 'outono', 'e', 'o', 'outono', '.', '.', '.', 'voz', ':', 'a', 'minha', 'epoca', 'favorita', 'e', 'o', 'inverno', '.', 'mt', ':', 'sim', ',', 'e', 'tambem', ',', 'e', 'tambem', '.'], ['agora', 'temos', 'a', 'oportunidade', 'de', 'descobrir', 'espaco', '.'], ['(', 'risos', ')', 'depois', 'de', 'tentar', 'fazer', 'isto', 'no', 'liceu', ',', 'com', 'o', 'pouco', 'de', 'recursos', 'que', 'tinha', ',', 'fui', ',', 'fui', 'ter', 'a', 'universidade', ',', 'comecei', 'a', 'ter', 'novos', 'eus', 'a', 'fazer', ',', 'e', 'a', 'fazer', 'testes', 'clinicos', 'com', 'que', 'funcionasse', 'num', 'mercado', '.', 'ja', 'esta', 'disponivel', 'para', 'o', 'mercado', '.', 'ja', 'esta', 'disponivel', 'para', 'o', 'mercado', '.'], ['no', 'inicio', ',', 'eu', 'tinha', '-', 'las', 'crultivado', '.'], ['temos', 'de', 'comecar', 'uma', 'fundacao', 'com', 'um', 'modelo', 'biulunciado', '.'], ['porque', 'tem', 'que', 'incluir', 'o', 'homem', 'que', 'fez', 'crescer', 'o', 'cafe', ',', 'que', 'foi', 'preparou', 'para', 'o', 'homem', 'que', 'era', 'na', 'plataforma', 'de', 'geterosse', ',', 'que', 'iria', 'ser', 'transformado', 'para', 'o', 'petroleo', ',', 'que', 'iria', 'ser', 'transformado', 'em', 'plastico', ',', 'etc', '.'], ['pensamos', 'em', 'frente', '.'], ['podem', 'ir', 'para', 'o', 'nosso', 'proprio', 'museu', 'online', '\\\\xe2\\\\x80\\\\x94', 'criar', 'a', 'vossa', 'propria', 'colecao', 'com', 'todas', 'estas', 'imagens', '.'], ['ele', 'esta', 'na', 'vida', 'certa', ',', 'em', 'boa', 'saude', ',', 'e', 'apenas', 'band', 'da', 'cidade', '.'], ['acontece', 'que', 'os', 'microscopios', 'sao', 'impressionaveis', '.', '(', 'risos', ')', 'quando', 'eu', 'me', 'dei', 'em', 'agua', 'fenomenta', ',', 'podem', 'ver', 'como', 'funciona', '.'], ['e', 'tres', 'aqui', '.'], ['pensem', 'no', 'caminho', 'para', 'baixo', '.'], ['foi', 'uma', 'relacao', 'a', 'distancia', 'entre', 'os', 'primeiros', 'dois', 'anos', ',', 'isto', 'significava', 'muito', 'baixo', 'e', 'baixo', 'para', 'baixo', '.'], ['o', 'que', 'e', 'que', 'se', 'sente', '?'], ['jok', ':', 'o', 'meu', 'enchal', 'foi', 'um', 'mt', '.', 'mt', ':', 'ah', ',', 'atencao', '.'], ['`', '`', 'este', 'peca', 'chama', '-', 'se', '`', '`', \"'\", \"'\", '26', ',', \"'\", \"'\", \"'\", \"'\", 'e', 'e', 'e', 'um', 'numero', 'de', 'microsconcidos', 'de', 'microsconstroscorugado', 'o', 'dia', 'inteiro', '.', \"'\", \"'\"], ['`', '`', 'escrevem', ':', '`', '`', \"'\", \"'\", 'o', 'que', 'e', 'que', 'a', 'visino', '?', \"'\", \"'\", \"'\", \"'\", '(', 'risos', ')', 'nao', 'e', '?', \"'\", \"'\"], ['`', '`', 'esta', 'e', '`', '`', \"'\", \"'\", 'noite', \"'\", \"'\", \"'\", ',', 'a', 'noite', 'descultiva', ',', 'penso', 'eu', ',', 'como', 'nunca', 'a', 'vista', '.', \"'\", \"'\"], ['usamos', 'a', 'forma', 'como', 'as', 'morres', 'para', 'a', 'nossa', 'invencao', '.'], ['quando', 'olhamos', 'para', 'estas', 'luas', ',', 'podem', 'colocar', 'na', 'pele', 'do', 'ciberacco', '.'], ['mas', 'isso', 'e', 'eficaz', 'que', 'as', 'coisas', 'nao', 'se', 'moviem', ',', 'nao', 'se', 'movimentam', 'tanto', 'como', 'aqueles', 'que', 'sao', '.'], ['quantas', 'coisas', 'nos', 'bolsos', 'poderiamos', 'continuar', 'a', 'fazer', 'com', 'que', '10', '.', '000', 'anos', '?'], ['a', 'ciencia', 'e', 'vulneravel', ',', 'tem', 'com', 'a', 'coragem', 'de', 'obter', 'coragem', '.'], ['`', '`', 'infelizmente', ',', 'um', 'dos', 'elementos', 'que', 'caiam', 'na', 'agua', 'em', 'dias', 'de', '`', '`', \"'\", \"'\", 'stress', \"'\", \"'\", \"'\", \"'\", 'e', 'a', 'logica', 'de', 'racode', ',', 'como', 'a', 'daniely', 'tahman', 'e', 'os', 'seus', 'colegas', '.', \"'\", \"'\"], ['as', 'diferencas', 'sao', 'o', 'que', 'me', 'interessa', 'porque', 'o', 'objecto', 'da', 'esquerda', 'foi', 'feito', 'um', 'modelo', 'bastante', 'insigente', 'durante', 'cerca', 'de', 'um', 'milhao', 'de', 'anos', '-', 'meio', 'e', 'meio', 'meio', 'de', 'meio', 'milhao', 'e', 'meio', 'milhao', 'de', 'anos', '.'], ['penso', 'que', 'para', 'responder', 'a', 'esta', 'pergunta', 'tem', 'de', 'compreender', 'como', 'os', 'seres', 'humanos', 'se', 'juntam', 'os', 'seus', 'cerebros', 'e', 'permitirem', 'as', 'suas', 'ideias', 'de', 'se', 'torna', 'em', 'recombicom', ',', 'de', 'conhecer', 'e', 'de', 'facto', ',', 'de', 'se', 'acelerar', '.'], ['e', 'quanto', 'mais', 'e', 'um', 'assol', 'de', 'ideias', 'diferentes', ',', 'a', 'ideia', 'de', 'plastico', ',', 'a', 'ideia', 'de', 'um', 'laser', ',', 'a', 'ideia', 'de', 'transmisidade', '.'], ['e', 'falamos', 'sobre', 'custos', 'para', 'estes', 'custos', ',', 'de', 'como', 'faze', '-', 'lo', 'mais', 'eficazmente', '.'], ['entao', ',', 'o', 'que', 'e', 'que', 'isso', 'e', 'um', 'bebe', '?'], ['eles', 'persistem', 'e', 'inspiram', 'a', 'sua', 'criatividade', '.'], ['nao', 'funciona', '.'], ['por', 'outro', 'lado', ',', 'temos', 'a', 'nossa', 'amiga', 'domestica', '.'], ['radio', ':', 'merda', ',', 'quando', 'as', 'tem', ',', 'as', 'pessoas', 'tem', 'pena', '.'], ['oh', '.', 'fixe', '.', 'posso', 'passar', 'com', 'isto', ',', 'hini', '?'], ['sypta', 'diz', 'que', 'o', 'azul', 'e', 'o', 'novo', 'proximo', '.'], ['perguntei', '-', 'lhe', 'como', 'ela', 'fazia', '.', 'era', 'o', 'poder', 'da', 'guerra', '?'], ['na', 'verdade', ',', 'podemos', 'ter', 'um', 'fantasma', 'com', 'quase', 'qualquer', 'parte', 'do', 'corpo', '.'], ['(', 'aplausos', ')'], ['e', 'o', 'microscopio', 'que', 'esta', 'a', 'colocar', '.'], ['`', '`', '4', 'anos', 'depois', ',', 'depois', 'de', 'ter', 'um', 'plano', 'de', 'desenvolvimento', 'de', '10', 'paginas', 'no', 'meu', 'telemovel', ',', 'e', 'ter', 'redigenerativa', 'no', 'meu', 'telefone', 'tur', '\\\\xe2\\\\x80\\\\x94', 'sou', 'o', 'mais', 'novo', 'curso', 'de', 'patente', '\\\\xe2\\\\x80\\\\x94', 'e', 'nunca', 'mais', 'do', 'pais', '\\\\xe2\\\\x80\\\\x94', '`', '`', \"'\", \"'\", 'nunca', 'mais', 'de', 'banho', '!', \"'\", \"'\", \"'\", '\\\\xe2\\\\x80\\\\x94', 'eu', 'tinha', 'de', 'banho', '.', '(', 'risos', ')', 'nao', 'tinha', 'de', 'nada', 'a', 'primeira', 'pessoa', 'a', 'primeira', 'pessoa', 'a', 'primeira', 'pessoa', ',', 'a', 'primeira', 'pessoa', 'que', 'tinha', 'criado', 'no', 'mundo', 'substituicao', 'do', 'mundo', 'substituicao'], ['obrigado', '.', 'bl', ':', 'muito', 'obrigado', '.', '(', 'aplausos', ')', '(', 'aplausos', ')'], ['`', '`', '`', '`', \"'\", \"'\", 'eu', 'saborei', 'os', 'crackers', '.', 'teve', 'o', 'cark', '.', \"'\", \"'\", \"'\", \"'\", 'por', 'isso', ',', 'ela', 'comprou', 'tao', 'o', 'que', 'ela', 'queria', 'ser', 'o', 'oposto', 'do', 'que', 'os', 'bebes', 'queriam', '.', \"'\", \"'\"], ['hoje', 'quero', 'falar', 'sobre', 'como', 'estamos', 'a', 'falar', 'de', 'amor', '.'], ['eles', 'compram', 'a', 'unidade', '.', 'uma', 'pessoa', 'viva', ',', 'nao', 'comprar', 'um', 'baralho', 'de', 'cigarro', '.', 'ela', 'compra', '-', 'se', 'com', 'um', 'cigarro', 'por', 'dia', ',', 'mesmo', 'se', 'for', 'um', 'careoca', '.'], ['e', 'ekrik', ',', 'o', 'meu', 'pai', 'tem', 'cancro', 'da', 'prostata', ',', 'e', 'provavelmente', 'tem', 'de', 'ser', 'uma', 'cirurgia', '.'], ['se', 'olharmos', 'para', 'muitas', 'especies', 'diferentes', ',', 'nao', 'so', 'os', 'primatas', ',', 'mas', 'tambem', 'primatas', ',', 'passaros', ',', 'banguos', ',', 'como', 'o', 'bang', ',', 'como', 'as', 'banheiras', ',', 'ou', 'as', 'bometros', ',', 'e', 'existe', 'uma', 'relacao', 'a', 'infancia', 'do', 'tempo', 'de', 'uma', 'especie', 'de', 'xangixismo', 'e', 'a', 'estrutura', 'de', 'uma', 'especie', 'de', 'corpo', 'de', 'estimacao', 'e', 'a', 'sua', 'especie', 'de', 'estimacao', 'de', 'estimacao', 'de', 'corpo', 'e', 'a', 'qual', 'sao', 'inteligentes', '.'], ['entao', 'metade', 'do', 'tempo', ',', 'ela', 'estava', 'a', 'ajudar', '-', 'se', 'como', 'se', 'ela', 'gostava', 'dos', 'crackers', 'e', 'descone', 'brocologica', '\\\\xe2\\\\x80\\\\x94', 'apenas', 'como', 'outro', 'bebemos', 'ou', 'qualquer', 'pessoa', 'saudavel', '.'], ['porque', 'e', 'que', 'falamos', 'sobre', 'isto', 'e', 'que', 'estamos', 'a', 'fingir', 'ser', 'tao', 'boa', 'como', 'se', 'fossemos', 'vitimas', '?'], ['(', 'risos', ')', 'nao', 'sabia', 'onde', 'e', 'que', 'comecar', ',', 'mas', 'disse', ':', 'sim', '.'], ['o', 'primeiro', 'passo', 'foi', 'colocar', '-', 'nos', 'uma', 'questao', '.'], ['e', 'desta', 'forma', ',', 'reflecti', 'a', 'minha', 'plataforma', 'e', 'aponece', 'o', 'alcance', 'da', 'minha', 'forma', '.'], ['o', 'proximo', 'desafio', 'da', 'america', 'do', 'governo', 'de', 'america', 'pediu', 'se', 'apreendisse', 'as', 'outras', 'nacoes', 'unidas', 'no', 'hemisferio', 'ocidente', 'e', 'incorporteracoes', 'para', 'uma', 'escultura', '.'], ['e', 'verdade', '.'], ['em', 'novembro', 'de', '2003', ',', 'fui', 'convidado', 'a', 'participar', 'na', 'fundacao', 'de', '46666', 'de', 'nelson', 'mandela', 'de', 'nelson', 'mandela', '.', 'e', 'a', 'sua', 'fundacao', 'de', 'contra', 'a', 'sida', '.'], ['fizemos', 'um', 'estudo', 'em', 'que', 'olhamos', 'para', 'os', 'dados', 'da', 'ocde', 'na', 'ocde', '.'], ['voces', 'querem', 'saber', 'tudo', 'antes', 'que', 'o', 'mantusture', 'nao', 'sao', 'sos', '.'], ['cair', ',', 'e', 'incomodo', ',', 'isso', 'e', 'inconfiavel', '.'], ['`', '`', 'apesar', 'da', 'minha', 'panica', ',', 'uma', 'pequena', 'voz', ',', 'pensou', ':', '`', '`', \"'\", \"'\", 'uau', ',', 'e', 'dramatico', '.', \"'\", \"'\"], ['nao', 'e', 'verdade', '?', 'se', 'vao', 'para', 'um', 'barco', 'interroterio', ',', 'o', 'vosso', 'ouvido', ',', 'diz', '-', 'vos', 'que', 'se', 'mexer', '.', 'os', 'olhos', ',', 'porque', 'eles', 'mexeram', 'a', 'america', 'com', 'o', 'barco', ',', 'dizem', 'que', 'estao', 'imbiano', '.'], ['a', 'placia', 'estava', 'fascinante', '.'], ['mas', 'se', 'tem', 'uma', 'especie', 'de', 'esxtura', ',', 'entao', ',', 'para', 'um', 'individuo', 'de', 'hossexual', 'de', 'duas', 'mutacoes', 'online', '.'], ['e', 'um', 'veno', '.', '(', 'sons', ')', 'voz', ':', 'nao', 'o', 'diz', ',', 'senao', ',', 'senao', ',', 'nao', 'se', 'vai', 'fazer', '.'], ['foi', 'apenas', 'devido', 'as', 'nossas', 'maos', '.'], ['precisamos', 'de', 'lideres', 'politicos', 'que', 'reconhecem', 'este', 'problema', ',', 'e', 'que', 'se', 'envolve', 'a', 'lei', 'para', 'mudar', 'este', 'tipo', 'de', ']', '.'], ['agora', ',', 'algumas', 'pessoas', 'dizem', 'que', 'os', 'quatro', 'sao', 'as', 'quatro', 'estacoes', 'terrestres', '.'], ['e', 'um', 'microscopio', 'para', 'o', 'fazer', ',', 'que', 'todos', 'permite', 'que', 'todo', 'o', 'tipo', 'de', 'microscopias', 'reais', ':', 'plustias', ',', 'fluorescentes', 'e', 'fluorescencia', '.', 'e', 'isso', 'e', 'feito', 'para', 'a', 'partir', 'de', 'papel', '.'], ['estamos', 'a', 'medir', 'a', 'especializacao', 'e', 'troca', '-', 'la', 'para', 'criar', 'o', 'nivel', 'de', 'vida', 'entre', 'os', 'outros', '.'], ['o', 'grupo', 'estava', 'a', 'pensar', ':', 'como', 'e', 'que', 'eu', 'estou', 'a', 'fazer', 'a', 'qualidade', 'de', 'hoje', '?'], ['em', '2008', ',', 'a', 'shendgua', ',', 'na', 'regiao', 'do', 'schuan', ',', 'perto', 'de', '70', '000', 'pessoas', 'foram', 'mortas', ',', 'e', 'a', 'maioria', 'das', 'escolas', 'tambem', 'foram', 'destruidas', 'devido', 'a', 'corrupcao', 'e', 'empreendedora', 'da', 'autoridade', 'e', 'empreendedor', '.'], ['e', 'o', 'que', 'a', 'ciencia', 'nos', 'oferece', '.', 'a', 'possibilidade', 'de', 'colocar', 'um', 'pede', 'na', 'incerteza', 'atraves', 'da', 'brincadeira', '.'], ['como', 'podem', 'ver', 'no', 'grafico', ',', 'a', 'frequencia', 'deste', 'tipo', 'de', 'buraco', 'aumenta', 'significativamente', 'com', 'a', 'alcancamos', '.'], ['e', 'nao', 'ha', 'tempo', 'para', 'isso', '.'], ['gostava', 'de', 'analisar', 'a', 'lua', '.'], ['a', 'ideia', 'e', 'que', 'estas', 'expressoes', 'faciais', 'sao', 'uma', 'coisa', 'especifica', '.'], ['para', 'ler', 'este', 'slide', ',', 'tem', 'de', 'ver', 'a', 'vossa', 'idade', 'do', 'eixo', 'horizontal', '.'], ['o', 'timing', 'tinha', '42', '%', 'da', 'diferenca', 'entre', 'o', 'sucesso', 'e', 'o', 'fracasso', '.'], ['mas', 'penso', 'que', 'o', 'que', 'vai', 'seguir', 'e', 'mais', 'interessante', '.'], ['a', 'mae', 'de', 'adapta', 'tinha', 'o', 'virus', 'sida', '/', 'sida', '.', 'ela', 'morreu', 'a', 'uma', 'doenca', 'relacionado', 'com', 'sida', '.'], ['e', 'aqui', 'esta', ',', 'a', 'alfasta', ',', 'alongas', '-', 'se', 'em', 'ervar', 'os', 'desenhos', 'de', 'pessoas', 'que', 'tinham', 'visto', 'o', 'vento', 'em', 'cara', 'que', 'nao', 'conhecesse', ',', 'a', 'removendo', 'a', 'rececao', 'do', 'ar', '.'], ['marco', 'tempest', ':', 'para', 'aqueles', 'de', 'vos', 'nao', 'bastarmos', 'os', 'mapas', ',', 'um', 'jogo', 'de', 'quatro', ',', 'e', 'meio', ',', 'coracao', ',', 'tranfos', ',', 'trancha', 'e', 'espadas', '.'], ['no', 'exibido', 'apenas', 'ha', '16', 'expideminacoes', 'no', 'facto', 'de', 'ser', 'edicado', ',', 'que', 'e', 'a', 'palavra', 'gebliada', 'para', 'venecer', 'de', 'um', 'deus', '.'], ['ele', 'tinha', 'sido', 'um', 'destibidor', 'demasiadodor', 'para', 'o', 'quenia', '.'], ['e', 'finalmente', ',', 'penso', 'que', 'o', 'que', 'todos', 'precisamos', 'de', 'pensar', 'e', 'que', 'se', 'quisermos', 'que', 'a', 'nossa', 'realidade', 'seja', 'possivel', 'que', 'a', 'nossa', 'realidade', 'seja', 'possivel', '\\\\xe2\\\\x80\\\\x94', 'e', 'se', 'o', 'caso', 'seja', ',', 'o', 'que', 'significa', 'para', 'a', 'definicao', 'da', 'vida', 'e', 'o', 'que', 'acontece', 'em', 'todas', 'as', 'pessoas', 'que', 'se', 'segui', '.'], ['e', 'o', 'que', 'baed', 'foi', 'uma', 'maneira', 'matematica', 'que', 'permite', 'que', 'isso', '.'], ['e', 'uma', 'diferenca', 'enorme', ',', 'uma', 'diferenca', 'de', 'factor', 'de', 'um', 'factor', 'de', '7', '.'], ['o', 'utilizador', 'medio', 'do', 'facebook', 'criou', 'os', 'seus', 'materiais', '.'], ['e', 'e', 'porque', 'eles', 'sao', 'ambos', 'conceptuais', 'para', 'se', 'adaptar', 'a', 'mao', 'do', 'homem', '.'], ['como', 'e', 'que', 'uma', 'crianca', 'fizesse', 'estatisticas', '?'], ['muitos', 'paises', 'que', 'estao', 'a', 'ver', ',', 'como', 'o', 'de', 'onde', 'eu', 'venho', ',', 'batalha', 'com', 'custos', 'dos', 'gastos', 'da', 'saude', '.'], ['bem', ',', 'seria', 'incrivel', ',', 'na', 'medida', 'em', 'que', 'falamos', 'de', 'um', 'insecto', 'com', 'um', 'milhao', 'de', 'celulas', 'do', 'cerebro', '.'], ['a', 'primeira', 'e', ',', 'de', 'novo', ',', 'lembrem', '-', 'se', ',', 'sao', 'criancas', 'de', 'quatro', 'anos', '.'], ['no', 'final', 'deste', 'ano', ',', 'havera', 'cerca', 'de', 'um', 'biliao', 'de', 'pessoas', 'neste', 'planeta', 'que', 'estao', 'a', 'usar', 'os', 'sites', 'sociais', '.'], ['no', 'ano', 'passado', ',', 'foi', 'o', 'segundo', 'artigo', 'no', 'bioadico', 'do', 'biocompy', 'les', 'biog', ',', 'e', 'o', 'retorno', 'apenas', 'dos', 'cientistas', 'e', 'professores', 'tambem', 'tambem', 'nao', 'so', 'do', 'publico', '.'], ['o', 'que', 'acontece', 'quando', 'se', 'corta', 'as', 'pessoas', 'da', 'troca', ',', 'da', 'capacidade', 'de', 'troca', 'e', 'especialidade', '?'], ['podem', 'pensar', 'que', 'e', 'um', 'enquilibrador', ',', 'mas', 'nao', 'e', 'um', 'enrompromentado', ',', 'e', 'um', 'acronismo', '.'], ['por', 'isso', ',', 'deslocar', 'a', 'distancia', 'de', 'uma', 'enorme', 'sinal', 'de', 'ferramentas', 'e', 'um', 'sinal', 'de', 'comercio', ',', 'nao', 'de', 'migracao', '.'], ['quantos', 'de', 'voces', 'fazem', 'isso', '?', 'um', 'tempo', 'inteiro', '.'], ['`', '`', '`', '`', \"'\", \"'\", 'perdi', 'a', 'espera', '.', \"'\", \"'\", \"'\", \"'\", 'os', 'anos', 'seguintes', ',', 'que', 'envolvia', ',', 'tornei', '-', 'me', 'um', 'estudante', 'de', 'medicina', '.', \"'\", \"'\"], ['a', 'ideia', 'e', 'que', 'esta', 'estrategia', ',', 'esta', 'estrategia', 'de', 'aprendizagem', ',', 'e', 'extremamente', 'profrontada', ',', 'e', 'uma', 'estrategia', 'grande', 'para', 'avancar', 'no', 'mundo', '.', 'mas', 'tem', 'um', 'pesa', 'grande', '.'], ['podemos', 'melhorar', '-', 'las', '.'], ['pediram', '-', 'me', 'a', 'reconstruir', 'a', 'igreja', 'provismo', '.'], ['no', 'fim', 'da', 'nossa', 'responsabilidade', ',', 'o', 'presidente', 'do', 'servico', 'esta', 'a', 'lutar', '.'], ['e', 'uma', 'ferramenta', '.', 'ele', 'diz', '-', 'vos', 'que', 'sou', 'o', 'solo', 'promotivado', ',', 'as', 'pessoas', 'que', 'vivem', 'com', 'o', 'virus', 'sida', '.'], ['podemos', 'fazer', 'coisas', 'como', ':', 'reparar', 'os', 'sapatos', ',', 'ou', 'atravessar', 'a', 'rua', 'so', '.'], ['nao', 'ha', 'provas', 'de', 'comportamento', 'de', 'conquistacao', 'nas', 'frasears', '.'], ['quantos', 'de', 'voces', 'tem', 'que', 'trabalhar', 'para', 'ganhar', 'uma', 'hora', 'de', 'ler', 'se', 'estiverem', 'a', 'ganhar', 'a', 'sua', 'vida', 'em', 'salario', 'na', 'gra', '-', 'bretanha', '?'], ['o', 'primeiro', 'e', 'que', 'estes', 'pequenos', 'bebes', 'ja', 'encontraram', 'esta', 'nocao', 'de', 'criancas', 'muito', 'profunda', 'sobre', 'a', 'natureza', 'humana', ',', 'que', 'nos', 'nao', 'queremos', 'que', 'nem', 'todos', 'queremos', '.'], ['entao', ',', 'embalamos', 'dryd', ',', 'em', 'pequenos', 'inventoscitos', '.'], ['entao', ',', 'a', 'infancia', 'e', 'a', 'razao', 'para', 'que', 'as', 'cobarqueiras', 'na', 'cobertura', 'da', 'ciencia', 'e', 'as', 'galinhas', 'acabavam', '-', 'se', 'na', 'sopa', '.'], ['mas', 'tenho', 'de', 'dizer', 'que', 'ja', 'nao', 'ha', 'um', 'desastre', 'naturais', '.'], ['quais', 'sao', 'as', 'redes', 'economicas', '?'], ['mesmo', 'um', 'edificio', 'feito', 'num', 'edificio', 'consegue', 'ser', 'pronmentadas', 'como', 'as', 'pessoas', 'gostam', 'de', 'aprecia', '.'], ['este', 'tipo', 'de', 'sociedade', 'e', 'nao', 'so', 'possivel', ',', 'mas', 'ja', 'agora', 'ja', 'se', 'construcao', '.'], ['mas', ',', 'de', 'facto', ',', 'eles', 'fazem', 'combinacoes', 'bastante', 'complexa', 'que', 'vao', 'dar', 'uma', 'medida', 'de', 'probabilidade', 'institucional', '.'], ['sou', 'persuativo', 'que', 'a', 'evalecido', 'pode', 'superar', 'isto', '.'], ['os', 'medicos', 'estao', 'a', 'juntar', '-', 'se', ',', 'cartos', 'de', 'uma', 'definicao', 'de', 'qualidade', ',', 'comecam', 'a', 'medir', 'os', 'dados', ',', 'eles', 'estao', 'a', 'partilhar', 'quem', 'e', 'melhor', 'com', 'isso', '.'], ['ambos', 'sao', 'exactamente', 'o', 'mesmo', 'tamanho', 'e', 'a', 'mesma', 'forma', 'que', 'tem', 'um', 'compreendissimo', '.'], ['amy', ',', 'por', 'favor', ',', 'podes', 'emprestar', '?', '(', 'aplausos', ')', 'entao', ',', 'amitia', '-', 'me', 'a', 'contar', 'a', 'historia', 'do', 'que', 'chamamos', 'a', 'abelha', 'da', 'buzawa', ',', 'e', 'de', 'primeiro', 'lugar', 'a', 'pergunta', 'que', 'eles', 'vao', 'dizer', 'a', 'pergunta', 'desonalhar', '.'], ['entao', 'a', 'ciencia', 'e', 'pegar', 'em', 'riscos', 'e', 'isso', 'e', 'um', 'terrivel', ',', 'nao', 'e', '?', '(', 'risos', ')', 'nao', 'e', 'eu', ')', 'nao', 'para', 'mim', ',', 'nao', 'e', 'so', 'para', 'lhe', 'termos', 'isto', 'antes', '.', '(', 'risos', ')', 'e', 'so', 'isso', 'realmente', 'uma', 'tecnologia', 'antes', '.', '(', 'risos', ')', 'e', 'nao', 'e', 'a', 'tecnologia', '?'], ['a', 'ani', ':', 'este', 'projecto', 'e', 'realmente', 'excitante', 'para', 'mim', ',', 'porque', 'ele', 'deu', '-', 'me', 'vida', 'no', 'processo', 'de', 'descoberta', ',', 'e', 'mostrou', '-', 'me', 'que', 'toda', 'a', 'gente', ',', 'e', 'digo', '-', 'me', 'o', 'mundo', ',', 'a', 'qualquer', 'potencial', 'de', 'descobrir', 'algo', 'novo', 'e', 'que', 'uma', 'pergunta', 'pode', 'contribuir', 'a', 'uma', 'grande', 'pergunta', '.'], ['e', 'usando', 'esta', 'maquina', 'muito', 'simples', ',', 'o', 'meu', 'laboratorio', ',', 'e', 'outros', 'foram', 'dezenas', 'de', 'estudos', 'como', 'bebes', 'eram', 'bons', 'em', 'aprendizagem', 'do', 'mundo', '.'], ['sabem', ',', 'penso', 'que', 'e', 'provavelmente', 'milhoes', 'de', 'pessoas', '.'], ['e', 'voces', 'tambem', 'devem', 'pensar', 'sobre', 'a', 'qualidade', 'de', 'vida', '.'], ['`', '`', '`', '`', \"'\", \"'\", 'eu', 'vou', 'dizer', 'que', 'o', 'vosso', 'artigo', 'nao', 'tem', 'varios', 'criterios', 'de', 'qualidade', '.', \"'\", \"'\", \"'\", \"'\", '(', 'risos', ')', 'em', 'outras', 'palavras', ',', 'e', 'uma', 'vez', ',', 'por', 'isso', ',', 'e', 'uma', 'vez', ',', 'por', 'isso', ',', 'as', 'pessoas', 'sao', 'feitas', '.', '(', 'risos', ')', 'entao', ',', 'se', 'disse', 'que', 'se', 'agarrada', 'e', 'enviavamos', 'a', 'reconfigula', ',', 'entao', 'eu', 'estava', 'a', 'falar', 'de', 'uma', 'serie', 'de', '`', '`', \"'\", \"'\", 'que', 'mais', 'original', 'nacional', ',', 'que', 'e', 'um', 'artigo', 'mais', 'original'], ['de', 'facto', ',', 'um', 'deles', ',', 'por', 'um', 'dia', ',', 'um', 'mau', 'comeco', ',', 'a', 'mao', 'quando', 'eu', 'entra', 'num', 'restaurante', 'em', 'nova', 'iorque', '.'], ['(', 'risos', ')', 'e', ',', 'pelo', 'menos', ',', 'ate', 'que', 'eles', 'tem', '23', 'anos', ',', 'damos', 'sempre', 'a', 'begarelado', 'para', 'as', 'suas', 'bocas', 'abertas', '.'], ['eles', 'motivam', 'as', 'metaforas', 'de', 'forma', 'a', 'nossa', 'experiencia', 'e', 'podem', 'mesmo', 'dar', 'a', 'nossa', 'propria', 'accoes', 'para', 'as', 'nossas', 'acoes', ',', 'como', 'proferiacao', 'auto', '-', 'reflecticistas', 'auto', '-', 'registados', '.'], ['um', 'dia', ',', 'eu', 'estava', 'a', 'pensar', 'nestas', 'novas', 'noticias', 'e', 'tudo', '.'], ['as', 'pessoas', 'dizem', 'que', 'esta', 'coisa', 'completa', 'vida', '.'], ['a', 'duracao', 'da', 'vida', 'esta', 'a', 'ser', 'a', '50', '%', 'da', 'minha', 'vida', '.'], ['`', '`', 'como', 'um', 'maravilhoso', 'medico', 'disse', '-', 'me', 'um', 'dia', ',', '`', '`', \"'\", \"'\", 'nao', 'me', 'digam', 'o', 'que', 'os', 'outros', 'tem', 'de', 'contar', '.', \"'\", \"'\"], ['(', 'risos', ')', 'nao', 'sei', '.'], ['e', '10', 'anos', 'antes', ',', 'eu', 'sugeri', 'que', 'os', 'bebes', 'podiam', 'ser', 'capazes', 'de', 'fazer', 'o', 'mesmo', 'fazer', '.'], ['e', 'como', 'e', 'que', 'eles', 'podem', 'aprender', 'tanto', 'quanto', 'e', 'tao', 'pouco', 'tempo', '?'], ['comecamos', 'a', 'investigar', 'a', 'nossa', 'pesquisa', '.'], ['tudo', 'atraves', 'de', 'equipamento', 'simples', 'que', 'descrevemos', '.'], ['`', '`', 'ele', 'disse', '-', 'me', ':', '`', '`', \"'\", \"'\", 'enquanto', 'se', 'encontra', 'o', 'dinheiro', 'por', 'voces', 'e', ',', 'e', 'que', 'voces', 'levam', 'os', 'vossos', 'alunos', 'para', 'a', 'construcao', ',', 'vao', '-', 'se', 'chegar', 'a', 'construcao', '.', \"'\", \"'\", \"'\", \"'\", 'fizemos', 'cinco', 'semanas', 'a', 'reconstrucao', '.', \"'\", \"'\"], ['porque', ',', 'afinal', 'de', 'contas', ',', 'se', 'perguntassem', 'com', 'atencao', ',', 'eles', 'tem', 'o', 'ar', 'despedite', '.'], ['os', 'rimpossos', 'tem', 'pequenos', 'congentos', 'em', 'diferentes', 'cascas', '.'], ['claro', ',', 'houve', 'algumas', 'mudancas', ',', 'mas', 'as', 'ferramentas', 'mudaram', 'rapidamente', 'do', 'que', 'os', 'esqueletos', 'tem', 'no', 'periodo', '.'], ['mas', 'sabem', 'o', 'que', 'acontece', 'em', 'africa', 'do', 'sul', ',', 'o', 'pais', 'que', 'teve', 'um', 'dos', 'maiores', 'indices', 'de', 'transmissao', 'do', 'virus', '?'], ['como', 'disse', 'o', 'peter', 'o', 'vinvio', ',', 'o', 'animal', 'humano', 'e', 'um', 'unico', 'unico', ',', 'de', 'uma', 'capacidade', 'instinto', 'de', 'curar', ',', 'e', 'da', 'mente', 'instalada', 'para', 'esta', 'capacidade', 'inegavel', '.'], ['a', 'unica', 'coisa', 'que', 'tem', 'em', 'comum', 'e', 'que', 'eles', 'tem', 'realmente', 'preocupar', 'com', 'o', 'que', 'eles', 'sao', 'capazes', 'de', 'ser', 'feita', 'em', 'qualidade', 'para', 'os', 'seus', 'pacientes', '.'], ['(', 'musica', ')', 'voz', ':', 'sistema', 'funciona', '.', '(', 'risos', ')', 'transceptos', 'musicais', '.'], ['e', 'os', 'nossos', 'bebes', 'e', 'criancas', 'estao', 'dependentes', 'de', 'nos', ',', 'e', ',', 'claro', ',', 'mais', 'do', 'que', 'os', 'bebes', 'das', 'outras', 'especies', '.']]\n",
            "[['obrigada', '.'], ['as', 'nossas', 'experiências', 'amorosas', 'são', 'biológicas', 'e', 'culturais', '.'], ['ou', 'um', 'perigoso', 'agitador', '.'], ['os', 'médicos', 'são', ',', 'como', 'muitos', 'de', 'vocês', 'na', 'audiência', ',', 'muito', 'competitivos', '.'], ['e', 'está', 'a', 'acontecer', 'durante', 'a', 'nossa', 'vida', '.'], ['os', 'quatro', 'grupos', 'vão', 'publicar', 'os', 'seus', 'dados', 'em', 'novembro', 'deste', 'ano', '.'], ['isto', 'pode', 'acontecer', '.'], ['mas', 'mudar', 'a', 'forma', 'de', 'eu', 'pensar', 'sobre', 'a', 'ciência', 'foi', 'surpreendentemente', 'fácil', '.', 'assim', 'que', 'jogámos', 'os', 'jogos', 'e', 'depois', 'começámos', 'a', 'pensar', 'no', 'puzzle', ',', 'percebi', 'que', 'a', 'ciência', 'não', 'é', 'apenas', 'uma', 'disciplina', 'aborrecida', ',', 'e', 'que', 'qualquer', 'pessoa', 'pode', 'descobrir', 'algo', 'novo', '.'], ['e', 'comecei', 'a', 'escrever', 'ficção', 'em', 'inglês', '.'], ['e', 'nos', 'estudos', 'que', 'temos', 'feito', 'no', 'meu', 'laboratório', ',', 'estudos', 'semelhantes', ',', 'demonstrámos', 'que', 'as', 'crianças', 'de', '4', 'anos', 'são', 'melhores', 'a', 'descobrir', 'uma', 'hipótese', 'improvável', 'do', 'que', 'os', 'adultos', 'perante', 'a', 'mesma', 'tarefa', '.'], ['a', 'minha', 'vida', 'não', 'iria', 'ser', 'a', 'mesma', '.'], ['deixem-me', 'mostrar-vos', 'o', 'que', 'quero', 'dizer', '.'], ['e', 'também', 'ainda', 'me', 'lembro', ',', 'estávamos', 'à', 'espera', 'de', 'encontrar', 'uma', 'cerveja', 'dentro', 'da', 'caixa', 'de', 'cerveja', 'de', 'plástico', ',', 'mas', 'veio', 'vazia', '.', '(', 'risos', ')', 'então', ',', 'lembro-me', 'que', 'foi', 'tão', 'dececionante', '.'], ['ele', 'disse-me', 'que', 'eu', 'iria', 'com', 'ele', 'na', 'manhã', 'seguinte', '.'], ['muito', 'obrigado', '.'], ['e', 'nós', 'até', 'sabemos', 'como', 'é', 'que', 'o', 'cérebro', 'faz', 'isto', '.'], ['antigamente', ',', 'quando', 'se', 'era', 'rico', ',', 'tinha-se', 'literalmente', 'pessoas', 'a', 'prestar', 'serviços', '.'], ['quer', 'dizer', ',', 'afinal', ',', 'se', 'olharmos', 'para', 'os', 'bebés', 'superficialmente', ',', 'eles', 'parecem', 'bastante', 'inúteis', '.'], ['(', 'aplausos', ')'], ['quais', 'foram', 'as', 'reações', '?'], ['no', 'dia', 'seguinte', ',', 'todos', 'os', 'artistas', 'foram', 'convidados', 'para', 'se', 'juntarem', 'a', 'mandela', 'na', 'ilha', 'robben', ',', 'onde', 'ele', 'ia', 'dar', 'uma', 'conferência', 'à', 'imprensa', 'mundial', ',', 'à', 'frente', 'da', 'sua', 'antiga', 'cela', '.'], ['portanto', ',', 'gostava', 'de', 'vos', 'dizer', ',', 'a', 'cada', 'um', 'de', 'vocês', 'na', 'audiência', ',', 'se', 'sentem', 'que', 'cada', 'mãe', 'e', 'que', 'cada', 'criança', 'no', 'mundo', 'têm', 'o', 'direito', 'de', 'ter', 'acesso', 'a', 'boa', 'nutrição', 'e', 'a', 'bons', 'cuidados', 'de', 'saúde', ',', 'e', 'se', 'acreditam', 'que', 'os', 'objectivos', 'de', 'desenvolvimento', 'do', 'milénio', ',', 'especificamente', 'o', 'cinco', 'e', 'seis', ',', 'deviam', 'ser', 'compromissos', 'absolutos', 'de', 'todos', 'os', 'governos', 'pelo', 'mundo', 'fora', '-', 'especialmente', 'na', 'áfrica-subsariana', '-', 'podiam', 'levantar-se', ',', 'por', 'favor', '.'], ['tornamo-nos', 'mais', 'pequenos', '.', 'não', 'queremos', 'bater', 'na', 'pessoa', 'ao', 'lado', '.'], ['ela', 'pode', 'fingir', ',', 'ela', 'pode', 'conseguir', 'ser', '.'], ['eu', 'caminhei', 'por', 'baixo', 'da', 'escultura', 'pela', 'primeira', 'vez', '.'], ['e', 'a', 'beleza', 'desse', 'sistema', 'é', 'que', 'ele', 'beneficia', 'ambos', 'os', 'lados', '.'], ['mas', 'vocês', 'e', 'eu', 'não', 'sabemos', '.', 'não', 'temos', 'os', 'dados', '.'], ['``', 'neste', 'dia', 'em', 'particular', ',', 'sentámo-nos', 'num', '``', \"''\", 'workshop', \"''\", \"''\", 'em', 'conjunto', 'com', 'médicos', ',', 'enfermeiros', 'e', 'outros', 'elementos', ',', 'a', 'discutir', 'leucemia', 'em', 'crianças', '.', \"''\"], ['``', 'então', 'fui', 'lá', 'e', 'propus', 'aos', 'sacerdotes', ':', '``', 'por', 'que', 'não', 'reconstruímos', 'a', 'igreja', 'com', 'tubos', 'de', 'papel', '?', \"''\", \"''\"], ['terá', 'a', 'empresa', 'um', 'caminho', 'definido', 'para', 'gerar', 'receitas', 'de', 'clientes', '?'], ['nascemos', 'numa', 'certa', 'família', ',', 'nação', ',', 'classe', '.'], ['em', 'alguns', 'aspectos', ',', 'acreditamos', 'que', 'o', 'pensamento', 'deste', 'bebé', 'é', 'equivalente', 'ao', 'pensamento', 'dos', 'cientistas', 'mais', 'brilhantes', '.'], ['conforme', 'via', 'desenrolar-se', 'a', 'coreografia', 'do', 'vento', ',', 'senti-me', 'protegida', 'e', ',', 'ao', 'mesmo', 'tempo', ',', 'ligada', 'ao', 'céu', 'ilimitado', '.'], ['muitas', 'pessoas', 'me', 'magoaram', 'na', 'minha', 'vida', ',', 'e', 'lembro-me', 'de', 'todas', 'elas', ',', 'mas', 'as', 'memórias', 'tornam-se', 'pálidas', 'e', 'desvanecem', 'em', 'comparação', 'com', 'as', 'pessoas', 'que', 'me', 'ajudaram', '.'], ['ca', ':', 'que', 'impacto', 'é', 'que', 'isto', 'teve', '?'], ['era', 'neutra', ',', 'apática', 'e', 'até', ',', 'depois', 'de', 'um', 'tempo', ',', 'estranhamente', 'familiar', 'e', 'reconfortante', ',', 'embora', 'tenha', 'notado', 'que', 'a', 'sua', 'calma', 'exterior', 'às', 'vezes', 'escapava', 'e', ',', 'por', 'vezes', ',', 'espelhava', 'as', 'minhas', 'próprias', 'emoções', 'escondidas', '.'], ['2001', ',', 'no', 'oeste', 'da', 'índia', ',', 'eu', 'construí', 'também', 'um', 'abrigo', '.'], ['o', 'meu', 'corpo', 'é', 'também', 'um', 'conjunto', 'de', 'ideias', 'acumuladas', ',', 'a', 'ideia', 'das', 'células', 'da', 'pele', ',', 'a', 'ideia', 'das', 'células', 'do', 'cérebro', ',', 'a', 'ideia', 'das', 'células', 'do', 'fígado', '.'], ['é', 'tudo', '.', 'obrigado', '.'], ['a', 'chuva', 'ácida', 'estava', 'a', 'cair', 'nas', 'florestas', '.'], ['a', 'primeira', 'foi', 'que', 'o', 'tema', 'comum', 'das', 'nossas', 'discussões', 'foi', 'orçamentos', 'hospitalares', 'e', 'a', 'redução', 'de', 'custos', ',', 'e', 'a', 'segunda', 'coisa', 'que', 'realmente', 'me', 'incomodou', ',', 'foi', 'o', 'facto', 'de', 'muitos', 'dos', 'colegas', 'que', 'encontrava', ',', 'antigos', 'colegas', 'da', 'universidade', ',', 'que', 'eu', 'sabia', 'que', 'eram', 'das', 'pessoas', 'mais', 'inteligentes', ',', 'motivadas', ',', 'dedicadas', 'e', 'apaixonadas', 'que', 'eu', 'alguma', 'vez', 'tinha', 'conhecido', ',', 'muitos', 'tinham-se', 'tornado', 'cínicos', ',', 'distantes', ',', 'ou', 'tinham-se', 'afastado', 'da', 'gestão', 'hospitalar', '.'], ['temos', 'portanto', 'uma', 'atenção', 'muito', 'focada', ',', 'voltada', 'para', 'um', 'propósito', '.'], ['então', ',', 'em', 'taiwan', ',', 'tiveram', 'um', 'grande', 'terramoto', ',', 'e', 'propusemos', 'doar', 'esta', 'igreja', ',', 'por', 'isso', ',', 'desmontámo-la', ',', 'enviámo-la', 'para', 'ser', 'construída', 'por', 'pessoas', 'voluntárias', '.'], ['desde', 'que', 'venha', 'dos', 'nossos', 'corações', ',', 'nós', 'podemos', 'escrever', 'sobre', 'tudo', 'e', 'nada', '.'], ['em', 'vez', 'disso', ',', 'comecei', 'a', 'escrever', 'sobre', 'outras', 'pessoas', 'que', 'não', 'eu', 'e', 'de', 'coisas', 'que', 'nunca', 'tinham', 'acontecido', 'realmente', '.'], ['que', 'explicação', 'podemos', 'ter', 'para', 'isto', '?'], ['comecei', 'a', 'deslocar-me', 'a', 'kobe', ',', 'e', 'conheci', 'a', 'sociedade', 'do', 'povo', 'vietnamita', '.'], ['no', 'mundo', 'animal', 'isso', 'funciona', 'lindamente', '.'], ['fui', 'jornalista', 'ativista', 'muito', 'jovem', '.'], ['ele', 'pediu-me', 'para', 'construir', 'habitações', 'com', 'três', 'andares', 'no', 'campo', 'de', 'basebol', '.'], ['quase', '7000', 'pessoas', 'morreram', ',', 'e', 'na', 'cidade', ',', 'como', 'no', 'bairro', 'nagata', ',', 'toda', 'a', 'cidade', 'ardeu', 'num', 'incêndio', 'após', 'o', 'terramoto', '.'], ['apenas', 'eram', 'recompensadas', 'se', 'se', 'dirigissem', 'para', 'as', 'flores', 'amarelas', 'se', 'as', 'flores', 'amarelas', 'estivessem', 'rodeadas', 'de', 'azul', ',', 'ou', 'se', 'as', 'flores', 'azuis', 'estivessem', 'rodeadas', 'de', 'amarelo', '.'], ['eles', 'dependem', 'das', 'mães', 'que', 'lhes', 'põem', 'minhocas', 'nas', 'suas', 'boquinhas', 'abertas', 'durante', 'o', 'que', 'pode', 'chegar', 'a', 'dois', 'anos', ',', 'o', 'que', 'é', 'muito', 'tempo', 'na', 'vida', 'de', 'uma', 'ave', '.'], ['a', 'pessoa', 'na', 'linha', 'de', 'montagem', 'não', 'sabe', 'porque', 'ela', 'não', 'sabe', 'como', 'escavar', 'petróleo', 'num', 'poço', 'e', 'extraí-lo', 'para', 'fazer', 'plástico', ',', 'e', 'assim', 'por', 'diante', '.'], ['vou', 'ler', 'só', 'um', ':'], ['eu', 'sei', 'que', 'isto', 'é', 'pedir', 'muito', ',', 'mas', ',', 'na', 'verdade', ',', 'eu', 'não', 'sou', 'a', 'primeira', 'pessoa', 'a', 'sugerir', 'isto', '.'], ['em', 'muitos', 'países', ',', 'médicos', 'e', 'enfermeiros', 'são', ',', 'de', 'alguma', 'forma', ',', 'os', 'alvos', 'dos', 'governos', '.'], ['elas', 'faziam', 'as', 'suas', 'vestes', 'ridículas', ',', 'como', 'esta', '.', '(', 'risos', ')', 'e', 'faziam-lhe', 'os', 'seus', 'ridículos', 'cortes', 'de', 'cabelo', ',', 'ou', 'o', 'que', 'quer', 'que', 'fosse', '.'], ['foi', 'uma', 'decisão', 'dividida', ',', '2', 'contra', '1', '.'], ['estamos', 'a', 'fazer', 'duas', 'coisas', 'diferentes', '.'], ['escrevia', 'numa', 'revista', 'e', 'fui', 'processado', 'por', 'isso', 'em', 'adolescente', '.'], ['ainda', 'é', 'usado', ',', 'mesmo', 'após', 'o', 'atual', 'terramoto', 'na', 'china', '.'], ['agora', 'já', 'vemos', 'alguns', 'serviços', 'que', 'são', 'desenhados', 'de', 'forma', 'a', 'deixar-nos', 'decidir', 'o', 'que', 'acontece', 'ao', 'nosso', 'perfil', 'online', 'e', 'às', 'nossas', 'contas', 'de', 'redes', 'sociais', 'depois', 'de', 'morrermos', '.'], ['provavelmente', 'não', 'deveria', 'dizer', 'isto', '.'], ['nem', 'sempre', 'é', 'assim', 'tão', 'simples', '.', 'mas', 'há', 'uma', 'distinção', 'entre', 'tarefas', 'especializadas', 'entre', 'homens', 'e', 'mulheres', '.'], ['quero', 'que', 'vocês', 'imaginem', 'como', 'conseguimos', 'evoluir', 'desde', 'a', 'produção', 'de', 'objetos', 'como', 'este', 'à', 'produção', 'de', 'objetos', 'como', 'este', '.'], ['em', 'criança', ',', 'descobri', 'que', 'a', 'criatividade', 'é', 'a', 'chave', 'para', 'passar', 'dos', 'sonhos', 'à', 'realidade', '.'], ['ele', 'disse', 'à', 'investigadora', 'para', 'fazer', 'isto', ',', 'tentar', 'pôr', 'um', 'em', 'cima', 'do', 'outro', '.'], ['podem', 'assim', 'imaginar', 'quanto', 'a', 'sociedade', 'poderia', 'poupar', '.'], ['perderam', 'a', 'capacidade', 'de', 'fazer', 'ferramentas', '[', 'de', 'ossos', ']', 'equipamentos', 'de', 'pesca', 'e', 'roupas', ',', 'porque', 'a', 'população', 'de', 'cerca', 'de', '4.000', 'pessoas', 'não', 'era', 'grande', 'o', 'suficiente', 'para', 'conservar', 'as', 'competências', 'especializadas', 'necessárias', 'para', 'manter', 'a', 'tecnologia', 'que', 'tinham', '.'], ['uma', 'perspectiva', 'seria', 'pensar', 'que', 'os', 'bebés', 'e', 'as', 'crianças', 'pequenas', 'são', 'como', 'o', 'departamento', 'de', 'investigação', 'e', 'desenvolvimento', 'da', 'espécie', 'humana', '.'], ['a', 'bobina', ',', 'se', 'funcionar', ',', 'pode', 'salvar', 'vidas', '.'], ['ok', '?', '(', 'risos', ')', 'até', 'os', 'enjoos', 'no', 'mar', 'são', 'uma', 'consequência', 'da', 'incerteza', '.'], ['a', 'outra', 'coisa', 'interessante', 'é', 'que', 'eles', 'estão', 'a', 'usar', 'aquela', 'informação', 'para', 'chegar', 'a', 'uma', 'ideia', ',', 'a', 'uma', 'hipótese', 'sobre', 'o', 'mundo', ',', 'o', 'que', 'em', 'si', 'parece', 'muito', 'pouco', 'provável', '.'], ['há', 'alguma', 'coisa', 'nessa', 'longa', 'infância', 'que', 'parece', 'estar', 'relacionada', 'com', 'o', 'conhecimento', 'e', 'a', 'aprendizagem', '.'], ['posso', 'fazê-lo', 'em', 'si', '?', '(', 'risos', ')', 'sim', ',', 'sim', ',', 'sim', '.', 'venha', 'daí', '.', 'sim', ',', 'sim', '.', 'ok', '.'], ['mas', 'mais', 'impressionante', ',', 'o', 'facto', 'de', 'os', 'bebés', 'de', '15', 'meses', 'não', 'terem', 'feito', 'isto', 'indica', 'que', 'os', 'bebés', 'de', '18', 'meses', 'aprenderam', 'esta', 'verdade', 'profunda', 'sobre', 'a', 'natureza', 'humana', 'nos', 'três', 'meses', 'que', 'passaram', 'depois', 'de', 'fazerem', '15', 'meses', '.'], ['ela', 'tem', '6', 'meses', '.'], ['aqui', 'estão', 'algumas', 'das', 'perguntas', '.', 'pu-las', 'em', 'letras', 'pequenas', 'para', 'não', 'se', 'darem', 'ao', 'trabalho', 'de', 'ler', '.', 'o', 'importante', 'é', 'que', '5', 'das', 'perguntas', 'dos', 'miúdos', 'eram', ',', 'na', 'verdade', ',', 'a', 'base', 'das', 'publicações', 'científicas', 'dos', 'últimos', 'cinco', 'a', 'quinze', 'anos', '.'], ['o', 'que', 'é', 'que', 'vos', 'para', '?', '(', 'aplausos', ')', 'ainda', 'não', 'acabei', '.', 'ainda', 'não', 'acabei', '.'], ['mt', 'digital', ':', 'isto', 'é', ',', 'sem', 'dúvida', ',', 'algo', 'real', '.'], ['eram', 'altamente', 'inteligentes', '.'], ['o', 'que', 'quer', 'dizer', 'que', ',', 'no', 'que', 'toca', 'à', 'perceção', ',', 'somos', 'todos', 'como', 'este', 'sapo', '.'], ['(', 'aplausos', ')'], ['o', 'petróleo', 'estava', 'a', 'esgotar-se', '.', 'e', 'esperava-se', 'que', 'um', 'inverno', 'nuclear', 'nos', 'fosse', 'exterminar', '.'], ['a', 'ideia', 'é', 'prever', 'que', 'falhas', 'poderão', 'ser', 'essas', ',', 'criar', 'sistemas', 'que', 'ajudem', 'a', 'minimizar', 'os', 'estragos', 'ou', 'a', 'evitar', 'que', 'aconteçam', 'coisas', 'más', ',', 'para', 'começar', '.'], ['neste', 'caso', ',', 'os', 'chimpanzés', 'ensinam-se', 'uns', 'aos', 'outros', 'como', 'quebrar', 'nozes', 'com', 'pedras', '.'], ['não', 'há', 'ninguém', 'no', 'planeta', 'que', 'saiba', 'como', 'fazer', 'um', 'mouse', '.'], ['são', 'um', 'pouco', 'maiores', 'e', 'são', 'um', 'protótipo', '.'], ['métodos', ':', 'o', 'que', 'é', 'que', 'fizemos', '.', 'resultados', ':', 'o', 'que', 'foi', 'observado', '.'], ['concluímos', ',', 'portanto', ',', 'que', 'a', 'hipótese', 'menos', 'provável', 'é', 'a', 'mais', 'satisfatória', '.'], ['o', 'problema', 'com', 'as', 'perguntas', 'é', 'que', 'criam', 'incerteza', '.'], ['tudo', 'bem', ',', 'exceto', 'que', 'nos', 'passamos'], ['se', 'tal', 'não', 'acontecer', ',', 'o', 'bebé', 'fica', 'com', 'um', 'buraco', 'no', 'coração', '.'], ['são', 'sempre', 'feitas', 'de', 'cherte', 'local', '.'], ['``', 'a', 'pergunta', '``', \"''\", 'porquê', '?', \"''\", \"''\", 'é', 'uma', 'das', 'coisas', 'mais', 'perigosas', 'que', 'podemos', 'fazer', ',', 'porque', 'nos', 'conduz', 'à', 'incerteza', '.', \"''\"], ['uma', 'pessoa', 'destroçada', 'e', 'assombrada', 'começou', 'essa', 'viagem', ',', 'mas', 'a', 'pessoa', 'que', 'emergiu', 'foi', 'uma', 'sobrevivente', 'e', 'acabou', 'por', 'se', 'tornar', 'a', 'pessoa', 'que', 'eu', 'estava', 'destinada', 'a', 'ser', '.'], ['agora', 'é', 'preciso', 'pôr', 'isto', 'em', 'prática', '.'], ['o', 'interessante', 'é', 'que', 'os', 'bebés', 'de', '18', 'meses', ',', 'que', 'mal', 'andam', 'ou', 'falam', ',', 'lhe', 'davam', 'as', 'bolachas', 'se', 'ela', 'gostasse', 'das', 'bolachas', ',', 'contudo', 'davam-lhe', 'os', 'brócolos', 'se', 'ela', 'preferisse', 'os', 'brócolos', '.'], ['provavelmente', 'tinham', 'uma', 'linguagem', ',', 'pois', 'sabemos', 'que', 'possuíam', 'o', 'gene', 'foxp2', 'do', 'mesmo', 'tipo', 'do', 'nosso', ',', 'o', 'qual', 'foi', 'descoberto', 'aqui', 'em', 'oxford', '.'], ['como', 'conseguimos', 'isso', '?'], ['nós', 'aprendemos', 'muito', 'bem', 'estas', 'más', 'lições', '.'], ['``', 'd.s', '.', ':', '``', \"''\", 'ainda', 'está', 'a', 'vir', 'para', 'aqui', '?', \"''\", \"''\", 'aluno', ':', '``', \"''\", 'sim', '.', \"''\", \"''\", \"''\"], ['uma', 'advogada', 'no', 'seu', 'escritório', 'que', 'nunca', 'se', 'tinha', 'interessado', 'por', 'arte', ',', 'que', 'nunca', 'visitou', 'o', 'museu', 'de', 'arte', 'local', ',', 'arrastou', 'toda', 'a', 'gente', 'que', 'pôde', 'para', 'fora', 'do', 'prédio', 'e', 'fê-los', 'deitarem-se', 'lá', 'fora', ',', 'debaixo', 'da', 'escultura', '.'], ['penso', 'agora', 'que', 'nunca', 'fui', 'pura', '.'], ['e', 'permite-nos', 'lidar', 'mesmo', 'com', 'a', 'mais', 'difícil', 'das', 'questões', '.', 'as', 'melhores', 'questões', 'são', 'as', 'que', 'geram', 'mais', 'incerteza', '.'], ['precisamos', 'que', 'as', 'pessoas', 'normais', 'se', 'enfureçam', 'com', 'a', 'forma', 'como', 'as', 'pessoas', 'conseguem', 'esconder', 'a', 'sua', 'identidade', 'por', 'detrás', 'das', 'empresas', 'secretas', '.'], ['mas', 'e', 'se', 'esses', 'robôs', 'fossem', 'capazes', 'de', 'interagir', 'baseados', 'nas', 'características', 'únicas', 'de', 'uma', 'pessoas', 'específica', 'baseados', 'nas', 'centenas', 'de', 'milhares', 'de', 'pedaços', 'de', 'conteúdo', 'que', 'essa', 'pessoa', 'produziu', 'ao', 'longo', 'da', 'sua', 'vida', '?'], ['seguiu-se', 'uma', 'admissão', 'hospitalar', ',', 'a', 'primeira', 'de', 'muitas', ',', 'um', 'diagnóstico', 'de', 'esquizofrenia', 'veio', 'a', 'seguir', ',', 'e', 'depois', ',', 'pior', 'que', 'tudo', ',', 'um', 'sentimento', 'tóxico', ',', 'atormentado', 'de', 'desesperança', ',', 'humilhação', 'e', 'desespero', 'acerca', 'de', 'mim', 'própria', 'e', 'dos', 'meus', 'projetos', '.'], ['``', 'bem', ',', 'a', 'isto', 'eu', 'apenas', 'digo', ':', '``', \"''\", 'não', ',', 'não', \"''\", \"''\", '.', \"''\"], ['``', '``', 'oh', ',', 'temos', 'de', 'avaliar', 'isto', '.', \"''\", '``', 'não', ',', 'devíamos', 'avaliar', 'isto', '.', \"''\", \"''\"], ['(', 'aplausos', ')', 'obrigado', '.', '(', 'aplausos', ')', 'muito', 'obrigado', '.', '(', 'aplausos', ')'], ['ou', 'se', 'lança', 'uma', 'moeda', ',', 'ou', 'se', 'tem', '20', '%', 'de', 'risco', '.'], ['tudo', 'o', 'que', 'tem', 'a', 'fazer', 'é', 'ter', 'a', 'certeza', 'de', 'que', 'o', 'javali', 'que', 'matar', 'seja', 'grande', 'o', 'suficiente', 'para', 'compartilhar', '.'], ['normalmente', 'passamos', 'a', 'vida', 'a', 'reagir', ',', 'mas', 'se', 'queremos', 'fazer', 'alguma', 'coisa', 'diferente', ',', 'temos', 'que', 'passar', 'à', 'incerteza', '.', 'quando', 'ele', 'abriu', 'os', 'olhos', ',', 'foi', 'capaz', 'de', 'ver', 'o', 'mundo', 'de', 'uma', 'maneira', 'diferente', '.'], ['♪', 'montanha-russa', ',', '♪', 'carrossel', '.'], ['este', 'novo', 'método', 'estrutural', 'macio', 'permite-me', 'modelar', 'isto', 'e', 'construir', 'estas', 'esculturas', 'à', 'escala', 'de', 'arranha-céus', '.'], ['há', 'duas', 'coisas', 'deveras', 'interessantes', 'nisto', '.'], ['o', 'homo', 'erectus', 'fez', 'a', 'mesma', 'ferramenta', 'durante', '30.000', 'gerações', '.'], ['vi', 'doentes', 'a', 'sério', 'e', 'vesti', 'a', 'bata', 'branca', 'pela', 'primeira', 'vez', 'em', '17', 'anos', ',', 'na', 'realidade', ',', 'desde', 'que', 'me', 'tornei', 'um', 'consultor', 'de', 'gestão', '.'], ['e', 'essa', 'é', 'uma', 'das', 'belezas', 'da', 'troca', ',', 'ela', 'cria', 'na', 'verdade', 'um', 'impulso', 'para', 'uma', 'maior', 'especialização', ',', 'a', 'qual', 'cria', 'um', 'impulso', 'para', 'mais', 'trocas', 'e', 'assim', 'por', 'diante', '.'], ['todos', 'os', 'bebés', ',', 'mesmo', 'em', 'berkeley', ',', 'gostam', 'das', 'bolachas', 'e', 'não', 'gostam', 'dos', 'brócolos', 'crus', '.'], ['``', 'então', 'eu', 'disse', ':', '``', \"''\", 'derek', \"''\", \"''\", '—', 'ele', 'não', 'pode', 'andar', 'por', 'aí', 'com', 'um', 'espelho', 'para', 'aliviar', 'a', 'dor', '—', '``', \"''\", 'derek', ',', 'leve-o', 'para', 'casa', 'e', 'pratique', 'durante', 'uma', 'ou', 'duas', 'semanas', '.', \"''\"], ['``', 'fantástico', '.', 'e', 'este', '?', 'um', ',', 'dois', ',', 'três', '...', 'audiência', ':', '``', \"''\", 'vocês', 'não', 'estão', 'a', 'ler', 'isto', '.', \"''\", \"''\", \"''\"], ['depois', 'de', 'criar', 'aquele', 'modelo', ',', 'também', 'aprendemos', 'muito', 'sobre', 'como', 'implementar', 'o', 'produto', '.'], ['agora', 'estou', 'a', 'trabalhar', 'na', 'nova', 'zelândia', ',', 'christchurch', '.'], ['mas', 'há', 'uma', 'grande', 'diferença', ',', 'isso', 'só', 'acontece', 'dentro', 'da', 'colónia', '.'], ['e', ',', 'neste', 'caso', ',', 'os', 'efeitos', 'secundários', 'ocorrem', 'em', '50', '%', 'dos', 'pacientes', '.'], ['isto', 'é', 'o', 'que', 'encontramos', 'a', 'respeito', 'da', 'testosterona', '.'], ['isso', 'é', 'responsabilidade', 'dos', 'arquitetos', '.'], ['por', 'isso', ',', 'tivemos', 'de', 'o', 'criar', '.'], ['obrigada', '.'], ['e', 'a', 'discussão', 'é', ':', 'o', 'que', 'é', 'que', 'isso', 'interessa', '.'], ['igual', 'ao', 'outro', 'lado', '.'], ['não', '.', '(', 'risos', ')', '(', 'risos', ')'], ['uma', 'noite', ',', 'o', 'meu', 'amigo', 'malte', 'e', 'eu', ',', 'estávamos', 'a', 'acampar', 'na', 'região', 'da', 'amazónia', '.'], ['por', 'outro', 'lado', ',', 'os', 'bebés', 'de', '15', 'meses', 'ficavam', 'a', 'olhar', 'para', 'ela', 'durante', 'muito', 'tempo', 'caso', 'ela', 'agisse', 'como', 'se', 'preferisse', 'os', 'brócolos', ',', 'como', 'se', 'não', 'percebessem', 'a', 'situação', '.'], ['mas', 'a', 'maior', 'parte', 'deles', 'não', 'sabe', '.'], ['então', '?', 'o', 'que', 'sabemos', 'sobre', 'sistemas', 'complexos', '?'], ['``', 'devem', 'estar', 'a', 'pensar', ':', '``', \"''\", 'como', 'é', 'que', 'isso', 'é', 'possível', '?', \"''\", \"''\", \"''\"], ['``', 'e', 'depois', 'ela', 'simplesmente', 'estendia', 'a', 'mão', 'e', 'dizia', ',', '``', 'podes', 'dar-me', 'um', 'bocado', '?', \"''\", \"''\"], ['alison', 'gopnik', ':', 'a', 'primeira', 'hipótese', 'dele', 'acabou', 'de', 'ser', 'refutada', '.'], ['``', 'precisamos', 'que', 'líderes', 'empresariais', 'se', 'levantem', 'e', 'digam', ':', '``', 'este', 'sigilo', 'não', 'é', 'benéfico', 'para', 'as', 'empresas', '.', \"''\", \"''\"], ['vou', 'a', 'uma', 'das', 'partes', 'que', 'prefiro', 'neste', 'quadro', 'e', 'vou', 'mesmo', 'até', 'aos', 'pormenores', '.'], ['em', 'casa', ',', 'escolham', 'um', 'sítio', 'para', 'as', 'coisas', 'que', 'se', 'perdem', 'facilmente', '.'], ['penso', 'que', 'se', 'eu', 'saísse', 'à', 'rua', 'agora', 'e', 'contasse', 'às', 'pessoas', 'o', 'que', 'se', 'estava', 'a', 'passar', 'lá', ',', 'elas', 'iriam', 'ficar', 'chocadas', '.'], ['``', '``', \"''\", 'o', 'que', 'vocês', 'fizeram', 'é', 'real', ',', 'verdadeiro', 'e', 'espantoso', '.', \"''\"], ['``', '``', 'podemos', 'avaliá-la', 'melhor', 'do', 'que', 'o', 'que', 'fazemos', '?', \"''\", \"''\"], ['eu', 'vivi', 'essa', 'experiência', ',', 'não', 'tanto', 'como', 'uma', 'mudança', 'geográfica', ',', 'mas', 'como', 'uma', 'mudança', 'linguística', '.'], ['eram', 'criativos', '.', 'enterravam', 'os', 'seus', 'mortos', '.'], ['por', 'isso', ',', 'ao', 'limitar', 'o', 'nível', 'de', 'liberdade', 'dos', 'médicos', ',', 'contêm-se', 'os', 'custos', '.'], ['ja', ':', 'vá', 'lá', '.', 'deve', 'haver', 'alguém', '.'], ['a', 'próxima', 'obra', 'é', 'um', 'objeto', ',', 'que', 'também', 'é', 'uma', 'espécie', 'de', 'instrumento', 'de', 'som', '.'], ['são', 'os', 'investigadores', 'protegidos', 'que', 'apenas', 'têm', 'que', 'sair', ',', 'aprender', 'e', 'ter', 'boas', 'ideias', ',', 'e', 'nós', 'somos', 'a', 'produção', 'e', 'o', 'marketing', '.'], ['(', 'aplausos', ')'], ['ele', 'perguntou-me', 'se', 'eu', 'podia', 'construir', 'isto', 'como', 'uma', 'peça', 'permanente', 'para', 'a', 'cidade', '.'], ['``', '``', \"''\", 'vês', 'aquele', 'copo', 'de', 'água', '?', \"''\"], ['qual', 'o', 'contexto', 'desta', 'refeição', '?'], ['então', ',', 'eu', 'pensei', ',', 'até', 'como', 'arquitetos', ',', 'podemos', 'estar', 'envolvidos', 'na', 'reconstrução', 'de', 'habitação', 'temporária', '.'], ['exemplo', 'disto', 'são', 'aqueles', 'pássaros', 'ali', 'em', 'cima', '.'], ['simplesmente', 'parece', 'que', 'a', 'primeira', 'coisa', 'que', 'fizemos', 'foi', 'pôr', 'os', 'machos', 'a', 'trabalhar', 'para', 'as', 'fêmeas', 'e', 'vice-versa', '.'], ['como', 'é', 'que', 'a', 'evolução', 'produz', 'coisas', 'cumulativas', ',', 'que', 'se', 'combinam', '?'], ['e', 'a', 'perceção', 'sustenta', 'tudo', 'o', 'que', 'pensamos', ',', 'conhecemos', ',', 'acreditamos', ',', 'as', 'nossas', 'esperanças', ',', 'os', 'nossos', 'sonhos', ',', 'as', 'roupas', 'que', 'usamos', ',', 'apaixonarmo-nos', ',', 'tudo', 'começa', 'com', 'a', 'perceção', '.'], ['``', 'tenho', 'de', 'ser', 'útil', '.', \"''\", \"''\", 'e', 'assim', ',', 'subsequentemente', ',', 'participei', 'em', 'todos', 'os', 'eventos', '46664', 'nos', 'quais', 'pude', 'estar', 'envolvida', 'e', 'dei', 'conferências', 'de', 'imprensa', ',', 'entrevistas', ',', 'falando', 'e', 'usando', 'a', 'minha', 'plataforma', 'como', 'sendo', 'uma', 'artista', 'musical', ',', 'com', 'o', 'meu', 'compromisso', 'com', 'mandela', '-', 'por', 'uma', 'questão', 'de', 'respeito', 'pelo', 'enorme', ',', 'e', 'inacreditável', 'trabalho', 'que', 'ele', 'fez', '.', \"''\"], ['durável', ',', 'materialmente', 'pesada', ',', 'permanente', '—', 'encontram-se', 'em', 'oposição', 'a', 'idiossincrático', ',', 'delicado', 'e', 'efémero', '.'], ['assim', ',', 'as', 'nossas', 'metáforas', 'comparam', 'a', 'experiência', 'de', 'amar', 'alguém', 'à', 'violência', 'ou', 'à', 'doença', 'extremas', '.'], ['esta', 'não', 'é', 'só', 'a', 'parte', 'fascinante', '.'], ['isso', 'não', 'se', 'deve', 'ao', 'facto', 'de', 'não', 'haver', 'americanos', 'ricos', 'que', 'escondem', 'os', 'seus', 'bens', 'em', 'paraísos', 'fiscais', '.'], ['há', 'coisas', 'que', 'me', 'chamam', 'a', 'atenção', '.'], ['porque', 'é', 'que', 'é', 'assim', '?'], ['aqui', 'estou', 'sentada', 'em', 'nova', 'iorque', 'com', 'michel', 'sidibe', '-', 'ele', 'é', 'o', 'director', 'da', 'unaids', '.'], ['há', 'sempre', 'vestígios', '—', 'não', 'há', 'nenhum', 'crime', 'perfeito', '.'], ['``', 'olhou', 'para', 'o', 'grupo', 'e', 'disse', '...', 'primeiro', 'levantou', 'a', 'mão', ',', '—', 'esqueci-me', 'disso', '—', 'levantou', 'a', 'mão', ',', 'fechou', 'o', 'punho', ',', 'e', 'depois', 'disse', 'ao', 'grupo', ':', '``', \"''\", 'obrigado', '.', \"''\"], ['pois', 'bem', ',', 'como', 'é', 'que', 'chegaríamos', 'a', 'esta', 'correlação', '?'], ['mas', 'estamos', 'a', 'falar', 'de', 'perceção', '.'], ['este', 'é', 'os', 'embaixadores', ',', 'que', 'está', 'na', 'national', 'gallery', '.'], ['``', '``', \"''\", 'discutimos', 'sobre', 'como', 'tratar', 'estas', 'crianças', ',', '``', 'quais', 'são', 'as', 'melhorias', 'importantes', '?', \"''\", \"''\"], ['disseram', 'que', 'não', '.'], ['certo', '?', 'isto', 'é', 'física', 'básica', '.'], ['precisávamos', 'de', 'algo', 'para', 'manter', 'a', 'rede', 'levantada', 'no', 'ar', 'no', 'meio', 'do', 'círculo', 'de', 'trânsito', '.'], ['num', 'mês', ',', 'completámos', 'nove', 'salas', 'de', 'aula', ',', 'mais', 'de', '500', 'metros', 'quadrados', '.'], ['``', 'temos', 'de', 'ter', 'cuidado', 'com', 'a', 'palavra', '``', \"''\", 'hacker', \"''\", \"''\", '.', \"''\"], ['``', 'não', 'tem', 'que', 'estar', 'escondido', '.', \"''\", \"''\", 'tornei-me', 'membro', 'da', 'campanha', 'acção', 'tratamento', 'e', 'estou', 'muito', 'orgulhosa', 'de', 'ser', 'um', 'membro', 'desta', 'organização', 'incrível', '.', \"''\"], ['a', 'pergunta', 'que', 'podem', 'querer', 'fazer', 'é', ':', 'porque', 'é', 'que', 'as', 'crianças', 'aprendem', 'tanto', '?'], ['parece', 'que', 'o', 'segredo', 'era', 'brócolos', '.'], ['``', '``', \"''\", 'uma', 'coisa', 'perdida', 'atrás', 'das', 'montanhas', '.', \"''\"], ['por', 'isso', ',', 'amy', '?'], ['isto', 'é', 'no', 'parlamento', 'escocês', '.'], ['por', 'exemplo', ',', 'vozes', 'que', 'ameaçavam', 'atacar', 'a', 'minha', 'casa', 'aprendi', 'a', 'interpretá-las', 'como', 'o', 'meu', 'próprio', 'sentimento', 'de', 'medo', 'e', 'insegurança', 'no', 'mundo', ',', 'e', 'não', 'como', 'um', 'perigo', 'real', 'e', 'objetivo', '.'], ['uma', 'vez', 'por', 'ano', ',', 'publicavam', 'a', 'tabela', 'classificativa', 'quem', 'está', 'em', 'primeiro', 'lugar', ',', 'quem', 'está', 'em', 'último', '?'], ['e', 'isso', 'afeta-nos', 'a', 'todos', '.'], ['é', 'uma', 'maneira', 'de', 'começar', 'a', 'focar', 'a', 'intervenção', 'com', 'a', 'pandemia', 'da', 'sida', '.'], ['``', 'não', 'foi', 'escrito', 'por', 'mim', '.', 'foi', 'escrito', 'pela', 'amy', 'e', 'pelos', 'outros', 'alunos', 'da', 'turma', '.', 'como', 'consequência', ',', 'este', 'artigo', 'começa', 'por', '``', \"''\", 'era', 'uma', 'vez', '...', \"''\", \"''\", '(', 'risos', ')', 'na', 'parte', 'dos', 'resultados', ',', 'diz', ':', '``', \"''\", 'fase', 'de', 'treino', ',', 'o', 'puzzle', '...', 'tam', ',', 'taram', ',', 'tam', \"''\", \"''\", '(', 'risos', ')', 'e', 'nos', 'métodos', 'diz', ':', '``', \"''\", 'depois', 'colocámos', 'as', 'abelhas', '``', \"''\", 'no', 'frigorífico', 'e', 'fizemos', 'tarte', 'de', 'abelhas', \"''\", \"''\", ',', 'um', 'smile', '(', 'sorriso', ')', 'certo', '?', '(', 'risos', ')', 'é', 'um', 'artigo', 'científico', '.', 'vamos', 'tentar', 'publicá-lo', '.', \"''\"], ['aprendemos', 'imenso', 'com', 'os', 'fracassos', '.'], ['mesmo', 'uma', 'construção', 'em', 'betão', 'pode', 'ser', 'muito', 'temporária', ',', 'se', 'isso', 'é', 'feito', 'para', 'ganhar', 'dinheiro', '.'], ['indo', 'um', 'pouco', 'mais', 'longe', ',', 'o', 'laboratório', 'de', 'media', 'do', 'mit', 'está', 'a', 'trabalhar', 'com', 'robôs', 'que', 'conseguem', 'interagir', 'mais', 'como', 'humanos', '.'], ['eles', 'ensinam-se', 'uns', 'aos', 'outros', 'tradições', ',', 'as', 'quais', 'são', 'transmitidas', 'de', 'pais', 'para', 'filhos', '.'], ['temos', 'aqui', 'um', 'ficheiro', 'malicioso', '.'], ['são', 'ambos', 'objetos', 'reais', '.'], ['continuei', 'a', 'estudar', 'as', 'tradições', 'artesanais', 'e', 'a', 'colaborar', 'com', 'artesãos', ',', 'depois', 'na', 'lituânia', ',', 'com', 'os', 'peritos', 'em', 'renda', '.'], ['deixem-me', 'dar-vos', 'um', 'exemplo', '.'], ['muito', 'obrigado', '.'], ['(', 'risos', ')', 'ag', ':', 'esta', 'foi', 'a', 'ideia', 'seguinte', 'dele', '.'], ['b.l', '.', ':', 'certo', '?', 'obtivemos', 'as', 'nossas', 'observações', '.', 'obtivemos', 'os', 'nossos', 'dados', '.'], ['brincar', 'não', 'é', 'simplesmente', 'um', 'processo', '.', 'especialistas', 'em', 'brincadeira', 'dir-vos-ão', 'que', 'se', 'trata', 'de', 'uma', 'forma', 'de', 'ser', '.'], ['eles', 'têm', 'trabalhado', '—', 'quatro', 'grupos', 'de', 'trabalho', 'têm', 'trabalhado', 'durante', 'o', 'último', 'ano', ':', 'cataratas', ',', 'dores', 'nas', 'costas', ',', 'doenças', 'da', 'artéria', 'coronária', ',', 'como', 'por', 'exemplo', 'ataque', 'cardíaco', '.', 'e', 'cancro', 'da', 'próstata', '.'], ['ela', 'é', 'uma', 'das', 'crianças', 'que', 'estiveram', 'envolvidas', 'neste', 'estudo', 'e', 'é', 'agora', 'uma', 'das', 'mais', 'novas', 'cientistas', 'publicadas', 'no', 'mundo', '.', 'ela', ',', 'assim', 'que', 'chegar', 'ao', 'palco', ',', 'vai', 'ser', 'a', 'mais', 'jovem', 'pessoa', 'a', 'falar', 'na', 'ted', '.'], ['basicamente', ',', 'o', 'leste', 'foi', 'engolido', 'pelo', 'ocidente', '.'], ['ficámos', 'lá', 'durante', 'seis', 'anos', ',', 'sem', 'pagar', 'nenhuma', 'renda', '.'], ['♪', 'mas', 'cautela', 'faz-te', 'hesitar', ',', '♪', 'e', 'se', 'hesitares', 'estás', 'perdido', ',', '♪', 'portanto', 'aproveita', 'as', 'oportunidades', '♪', 'e', 'nunca', 'olhes', 'para', 'trás', '.'], ['mas', ',', 'mais', 'de', 'dois', 'milhões', 'de', 'pessoas', 'cortaram', 'árvores', '.'], ['viajei', 'por', 'todo', 'o', 'mundo', 'nos', 'últimos', 'dois', 'anos', 'e', 'meio', '-', 'fui', 'a', 'cerca', 'de', '12', 'países', 'diferentes', '.'], ['é', 'a', 'parte', 'do', 'cérebro', 'que', 'permite', 'aos', 'esquilos', 'encontrar', 'as', 'nozes', '.'], ['naquele', 'preciso', 'momento', ',', 'mandela', 'disse', 'à', 'imprensa', 'mundial', 'que', 'existia', 'um', 'genocídio', 'virtual', 'a', 'acontecer', 'no', 'seu', 'país', ',', 'que', 'o', 'pós-apartheid', 'na', 'nação', 'arco-íris', ',', 'mil', 'pessoas', 'estavam', 'a', 'morrer', 'diariamente', 'e', 'que', 'as', 'vítimas', 'que', 'estavam', 'na', 'linha', 'da', 'frente', ',', 'as', 'mais', 'vulneráveis', 'de', 'todas', ',', 'eram', 'mulheres', 'e', 'crianças', '.'], ['mas', ',', 'desta', 'vez', ',', 'dando', 'voz', 'aos', 'catadores', '.'], ['eu', 'gosto', 'realmente', 'desta', 'forma', 'de', 'pensar', 'no', 'amor', '.'], ['com', 'o', 'produto', 'em', 'circulação', ',', 'agora', 'estamos', 'perto', 'de', 'vender', 'o', 'produto', 'a', 'uma', 'multinacional', 'para', 'que', 'seja', 'comercializado', '.', 'uma', 'pergunta', 'que', 'tenho', 'para', 'a', 'plateia', 'de', 'hoje', 'é', ':', 'nas', 'ruas', 'de', 'gravilha', 'de', 'limpopo', ',', 'com', 'um', 'mesada', 'semanal', 'de', '50', 'rand', ',', 'descobri', 'uma', 'forma', 'do', 'mundo', 'não', 'tomar', 'banho', '.'], ['quer', 'dizer', ',', 'espero', 'que', ',', 'com', 'este', 'meio', 'digital', ',', 'façamos', 'justiça', 'ao', 'seu', 'trabalho', 'artístico', 'e', 'o', 'representemos', 'devidamente', 'online', '.'], ['estavam', 'a', 'colocar', 'perguntas', 'que', 'eram', 'importantes', 'para', 'peritos', 'cientistas', '.'], ['na', 'verdade', ',', 'queríamos', 'saber', 'se', 'as', 'abelhas', 'também', 'se', 'podem', 'adaptar', 'elas', 'próprias', 'a', 'novas', 'situações', 'usando', 'regras', 'e', 'condições', 'previamente', 'aprendidas', '.', 'e', 'se', 'as', 'abelhas', 'puderem', 'pensar', 'como', 'nós', '?'], ['a', 'segunda', 'citação', 'é', 'do', 'chefe'], ['quero', 'criar', 'estes', 'oásis', 'de', 'escultura', 'em', 'espaços', 'de', 'cidades', 'à', 'volta', 'do', 'mundo', '.'], ['desmaiamos', '.'], ['neste', 'vídeo', ',', 'podemos', 'ver', 'como', 'um', 'cateter', 'muito', 'fino', 'leva', 'a', 'bobina', 'até', 'ao', 'coração', '.'], ['deveríamos', 'estar', 'a', 'celebrar', 'a', 'brincadeira', '.'], ['parti', 'por', 'minha', 'conta', 'para', 'me', 'tornar', 'uma', 'artista', ',', 'e', 'pintei', 'durante', '10', 'anos', ',', 'até', 'me', 'oferecerem', 'uma', 'bolsa', 'fullbright', 'para', 'a', 'índia', '.'], ['por', 'isso', 'levantámos', 'um', 'anel', 'de', 'aço', 'de', '20.412', 'kgs', '.'], ['``', '``', \"''\", 'obrigado', '.', 'hoje', 'estamos', 'finalmente', 'a', 'discutir', '``', 'o', 'que', 'é', 'que', 'este', 'hospital', 'faz', 'bem', '.', \"''\", 'ao', 'avaliar', 'valor', 'nos', 'cuidados', 'de', 'saúde', ',', 'que', 'não', 'sejam', 'só', 'os', 'custos', 'mas', 'os', 'resultados', 'que', 'importam', 'para', 'os', 'doentes', ',', 'vamos', 'fazer', 'com', 'que', 'as', 'equipas', 'nos', 'hospitais', 'e', 'noutros', 'locais', 'no', 'sistema', 'de', 'cuidados', 'de', 'saúde', 'não', 'sejam', 'um', 'problema', 'mas', 'uma', 'parte', 'importante', 'da', 'solução', '.', \"''\"], ['por', 'isso', ',', 'não', 'é', 'de', 'admirar', 'que', 'alguns', 'dos', 'meus', 'antigos', 'colegas', 'se', 'sintam', 'frustrados', '.'], ['ja', ':', 'não', 'sei', 'qual', 'será', 'o', 'caminho', '.'], ['e', 'então', ',', 'um', 'ano', 'depois', 'em', '1995', ',', 'em', 'kobe', ',', 'no', 'japão', ',', 'tivemos', 'um', 'grande', 'terramoto', '.'], ['fui', 'dar', 'um', 'passeio', 'pela', 'praia', ',', 'a', 'ver', 'os', 'pescadores', 'enrolarem', 'as', 'suas', 'redes', 'em', 'montes', 'na', 'areia', '.'], ['hoje', 'vou', 'falar', 'sobre', 'descobertas', 'inesperadas', '.'], ['(', 'aplausos', ')'], ['após', 'a', 'puberdade', ',', 'nós', 'deixamos', 'de', 'ser', 'considerados', '.'], ['durante', 'os', 'quatro', 'anos', 'de', 'conflito', 'que', 'devastaram', 'a', 'nação', 'bósnia', 'no', 'início', 'da', 'década', 'de', '90', ',', 'desapareceram', 'cerca', 'de', '30', '000', 'cidadãos', ',', 'principalmente', 'civis', ',', 'foram', 'considerados', 'mortos', '.', 'outros', '100', '000', 'foram', 'mortos', 'em', 'operações', 'de', 'combate', '.'], ['durante', 'dois', 'anos', ',', 'procurei', 'uma', 'fibra', 'que', 'pudesse', 'sobreviver', 'a', 'raios', 'ultravioleta', ',', 'ar', 'salgado', ',', 'poluição', ',', 'e', 'ao', 'mesmo', 'tempo', 'permanecer', 'macia', 'o', 'suficiente', 'para', 'se', 'mover', 'fluidamente', 'ao', 'vento', '.'], ['foi', 'um', 'acontecimento', 'de', 'grande', 'importância', 'para', 'todos', 'nós', '.'], ['trata-se', 'apenas', 'de', 'combinar', 'diferentes', 'realidades', '.'], ['e', 'a', 'voz', 'continuou', ',', 'por', 'dias', 'e', 'semanas', ',', 'continuava', ',', 'narrando', 'tudo', 'o', 'que', 'eu', 'fazia', ',', 'na', 'terceira', 'pessoa', '.'], ['não', 'havia', 'software', 'que', 'pudesse', 'forçar', 'estas', 'complexas', 'formas', 'de', 'rede', 'e', 'modelá-las', 'com', 'gravidade', '.'], ['cinco', 'meses', 'mais', 'tarde', ',', 'voltámos', 'a', 'áfrica', 'do', 'sul', 'para', 'reencontrar', 'avelile', 'outra', 'vez', '.'], ['e', 'tudo', 'graças', 'às', 'ideias', 'deste', 'senhor', ',', 'do', 'reverendo', 'thomas', 'bayes', ',', 'especialista', 'em', 'estatística', 'e', 'matemático', 'do', 'século', 'xviii', '.'], ['estamos', 'a', 'reunir', 'os', 'principais', 'médicos', 'e', 'doentes', 'para', 'debater', ',', 'doença', 'a', 'doença', ',', 'o', 'que', 'é', 'realmente', 'qualidade', ',', 'o', 'que', 'devemos', 'avaliar', ',', 'e', 'tornar', 'esses', 'padrões', 'globais', '.'], ['como', 'sabem', ',', 'uma', 'perna', 'do', 'compasso', 'é', 'estática', ',', 'está', 'fixa', 'no', 'lugar', '.'], ['o', 'deserto', 'estava', 'a', 'avançar', 'à', 'velocidade', 'de', '1', 'milha', '(', '1,6', 'km', ')', 'ou', '2', '(', '3,2', 'km', ')', 'por', 'ano', '.'], ['num', 'lado', ',', 'estava', 'a', 'minha', 'mãe', ',', 'uma', 'mulher', 'turca', 'ocidentalizada', ',', 'moderna', ',', 'secular', ',', 'culta', '.'], ['mt', ':', 'bem', ',', 'na', 'verdade', ',', 'recebi', 'o', 'meu', 'primeiro', 'baralho', 'de', 'cartas', 'no', 'meu', 'sexto', 'aniversário', ',', 'e', 'desde', 'então', ',', 'tenho', 'viajado', 'por', 'todo', 'o', 'mundo', 'a', 'fazer', 'magia', 'para', 'rapazes', 'e', 'raparigas', ',', 'homens', 'e', 'mulheres', ',', 'maridos', 'e', 'esposas', ',', 'até', 'para', 'reis', 'e', 'rainhas', '.', '(', 'aplausos', ')', 'voz', ':', 'e', 'quem', 'são', 'estes', '?', 'mt', ':', 'ah', ',', 'os', 'endiabrados', '.', 'reparem', '.'], ['diz-nos', 'apenas', 'que', 'ambos', 'foram', 'feitos', 'para', 'caber', 'na', 'mão', 'humana', '.'], ['``', '``', \"''\", 'tenho', 'um', 'garfo', 'de', 'plástico', ',', 'repararam', '?', '”', 'estratégia', '.', \"''\"], ['mas', 'hoje', 'sabemos', 'que', 'a', 'falta', 'de', 'oxigénio', 'também', 'pode', 'ser', 'a', 'causa', '.'], ['mas', 'se', 'queremos', 'ser', 'como', 'aquelas', 'borboletas', ',', 'ter', 'uma', 'mente', 'aberta', ',', 'estar', 'disponível', 'para', 'aprender', 'coisas', 'novas', ',', 'ter', 'imaginação', ',', 'criatividade', ',', 'ser', 'inovador', ',', 'talvez', 'fosse', 'bom', ',', 'pelo', 'menos', 'às', 'vezes', ',', 'os', 'adultos', 'começarem', 'a', 'pensar', 'mais', 'como', 'as', 'crianças', '.'], ['``', 'é', 'muito', 'simples', ',', 'entram', '.', 'eu', 'criei', 'este', '``', \"''\", 'poder', 'do', 'zoom', \"''\", \"''\", '.', 'podem', 'andar', 'por', 'aqui', 'a', 'fazer', 'zoom', '.', \"''\"], ['foi', 'descoberto', 'por', 'francis', 'galton', 'no', 'século', 'xix', '.'], ['(', 'risos', ')', 'parece-me', 'que', 'todos', 'vocês', 'são', 'tocs', ',', 'astrofísicos', 'e', 'ultramaratonistas', '.'], ['lembro-me', 'bem', 'das', 'refeições', 'da', 'minha', 'infância', '.'], ['``', 'só', 'precisam', 'de', 'uma', 'oportunidade', '.', 'a', 'minha', 'oportunidade', 'surgiu', 'na', 'forma', 'do', 'beau', 'e', 'do', '``', \"''\", 'blackawton', 'bee', 'project', \"''\", \"''\", '.', \"''\"], ['nada', 'pessoal', '.'], ['este', 'é', 'o', 'tipo', 'de', 'comportamento', 'que', 'nos', 'afeta', 'a', 'todos', '.'], ['há', '14', 'anos', ',', 'procurei', 'a', 'beleza', 'em', 'coisas', 'tradicionais', ',', 'em', 'formas', 'artesanais', '.'], ['o', 'cérebro', 'pega', 'em', 'informação', 'sem', 'sentido', 'e', 'faz', 'sentido', 'a', 'partir', 'disso', ',', 'o', 'que', 'significa', 'que', 'nunca', 'vemos', 'o', 'que', 'lá', 'está', ',', 'nunca', 'vemos', 'informação', ',', 'só', 'vemos', 'o', 'que', 'nos', 'foi', 'útil', 'ver', 'no', 'passado', '.'], ['era', 'auto-suficiência', '.'], ['e', 'aqui', 'estou', 'eu', 'com', 'uma', 'mulher', 'grávida', ',', 'que', 'é', 'seropositiva', 'e', 'estamos', 'a', 'sorrir', ',', 'estamos', 'ambas', 'a', 'sorrir', ',', 'porque', 'estamos', 'muito', 'confiantes', ',', 'porque', 'sabemos', 'que', 'aquela', 'jovem', 'mulher', 'está', 'a', 'receber', 'tratamento', 'portanto', ',', 'a', 'sua', 'vida', 'pode', 'ser', 'prolongada', 'para', 'tomar', 'conta', 'do', 'bebé', 'que', 'ela', 'está', 'prestes', 'a', 'dar', 'à', 'luz', '.'], ['``', 'larry', 'maloney', ',', 'especialista', 'em', 'visão', ',', 'disse', ':', '``', \"''\", 'o', 'artigo', 'é', 'magnífico', '.', \"''\"], ['por', 'isso', ',', 'com', 'este', 'foco', 'na', 'redução', 'de', 'custos', ',', 'questionei-me', 'se', 'não', 'estaríamos', 'a', 'esquecer-nos', 'do', 'doente', '?'], ['com', 'a', 'linguagem', 'temos', 'de', 'transferir', 'ideias', 'que', 'entendemos', 'de', 'uns', 'para', 'os', 'outros', '.'], ['o', 'fornecimento', 'de', 'água', 'e', 'de', 'eletricidade', 'é', 'tão', 'imprevisível', 'quanto', 'o', 'clima', 'e', 'crescer', 'nestas', 'circunstâncias', 'difíceis', '.', 'aos', '17', 'anos', ',', 'estava', 'a', 'relaxar', 'com', 'dois', 'amigos', 'durante', 'o', 'inverno', ',', 'a', 'tomar', 'banhos', 'de', 'sol', '.'], ['então', 'apresentei', 'a', 'minha', 'ideia', 'para', 'melhorar', 'a', 'situação', ',', 'usando', 'estes', 'tubos', 'de', 'papel', 'reciclado', 'porque', 'são', 'tão', 'baratos', 'e', 'fortes', ',', 'mas', 'o', 'meu', 'orçamento', 'é', 'de', 'apenas', '50', 'dólares', 'por', 'unidade', '.'], ['se', 'olharmos', 'para', 'os', 'bebés', 'e', 'crianças', 'pequenas', ',', 'deparamo-nos', 'com', 'algo', 'bem', 'diferente', '.'], ['e', 'aqui', 'está', 'uma', 'versão', 'da', 'história', 'ao', 'estilo', 'da', 'idade', 'da', 'pedra', ',', 'embora', 'ele', 'a', 'tenha', 'contado', 'em', 'termos', 'de', 'trocas', 'entre', 'países', '.'], ['a', 'incerteza', 'é', 'uma', 'coisa', 'muito', 'má', '.', 'é', 'evolucionariamente', 'uma', 'coisa', 'má', '.', 'se', 'não', 'temos', 'a', 'certeza', 'que', 'é', 'um', 'predador', ',', 'é', 'tarde', 'demais', '.'], ['por', 'outras', 'palavras', ',', 'elas', 'especializam-se', 'de', 'acordo', 'com', 'a', 'reprodução', '.'], ['de', 'facto', ',', 'o', 'cérebro', 'dos', 'bebés', 'parece', 'ser', 'o', 'computador', 'de', 'aprendizagem', 'mais', 'poderoso', 'do', 'planeta', '.'], ['aqui', 'está', 'o', 'meu', 'cérebro', '.'], ['saibam', 'que', 'a', 'china', 'acredita', 'no', 'mercado', 'e', 'no', 'estado', '.'], ['durante', 'muitos', 'anos', ',', 'os', 'médicos', 'suecos', 'que', 'realizam', 'cirurgias', 'a', 'ancas', 'tiveram', 'os', 'melhores', 'resultados', 'do', 'mundo', ',', 'pelo', 'menos', 'os', 'que', 'eram', 'realmente', 'avaliados', ',', 'e', 'muitos', 'não', 'eram', '.'], ['e', 'isso', 'é', 'evidência', 'de', 'que', 'as', 'pessoas', 'começaram', 'a', 'trocar', 'entre', 'grupos', '.'], ['e', 'o', 'que', 'vão', 'verificar', 'é', 'que', 'este', 'menino', 'vai', 'testar', 'cinco', 'hipóteses', 'no', 'espaço', 'de', 'dois', 'minutos', '.'], ['podem', 'dizer', 'que', 'é', 'uma', 'boa', 'ideia', ',', 'mas', 'não', 'é', 'só', 'uma', 'ideia', '.'], ['uma', 'melhoria', 'contínua', '.'], ['``', 'enquanto', 'estávamos', 'a', 'apanhar', 'sol', ',', 'o', 'meu', 'melhor', 'amigo', 'disse', ',', '``', \"''\", 'amigo', ',', 'porque', 'é', 'que', 'ninguém', 'inventa', 'algo', 'que', 'se', 'possa', 'simplesmente', 'passar', 'na', 'pele', ',', 'sem', 'ser', 'preciso', 'tomar', 'banho', '?', \"''\", \"''\", 'eu', 'sentei-me', 'e', 'respondi', ',', '``', \"''\", 'meu', ',', 'eu', 'comprava', 'isso', '!', \"''\", \"''\", 'fui', 'para', 'casa', ',', 'fiz', 'umas', 'pesquisas', 'e', 'descobri', 'algumas', 'estatísticas', 'muito', 'chocantes', '.', \"''\"], ['depois', 'testam', 'essa', 'nova', 'hipótese', 'e', 'assim', 'sucessivamente', '.'], ['o', 'que', 'os', 'cientistas', 'fazem', 'é', 'partir', 'de', 'uma', 'hipótese', 'que', 'acham', 'ser', 'um', 'ponto', 'de', 'partida', 'viável'], ['(', 'risos', ')', 'mas', 'o', 'que', 'a', 'betty', 'fez', 'a', 'seguir', 'foi', 'provar', 'um', 'bocado', 'de', 'cada', 'prato'], ['outro', 'exemplo', ',', 'um', 'dos', 'meus', 'insectos', 'preferidos', ',', '—', 'adoro', 'odiar', 'este', 'aqui', '—', 'é', 'um', 'mosquito', '.', 'estão', 'a', 'ver', 'as', 'antenas', 'de', 'um', 'culex', 'pipiens', '.'], ['foi', 'neste', 'ponto', 'que', 'os', 'acontecimentos', 'começaram', 'rapidamente', 'a', 'ultrapassar-me', '.'], ['zak', 'ebrahim', 'não', 'é', 'o', 'meu', 'nome', 'verdadeiro', '.'], ['(', 'aplausos', ')'], ['em', '2004', ',', 'no', 'sri', 'lanka', ',', 'após', 'o', 'terramoto', 'e', 'o', 'tsunami', 'de', 'sumatra', ',', 'reconstruí', 'as', 'aldeias', 'de', 'pescadores', 'islâmicos', '.'], ['``', 'isto', 'não', 'deve', 'ser', 'surpreendente', ',', 'considerando', 'que', ',', 'segundo', 'a', 'wikipédia', ',', 'existem', 'oito', 'filmes', ',', '14', 'canções', ',', 'dois', 'álbuns', 'e', 'um', 'romance', 'com', 'o', 'título', '``', \"''\", 'crazy', 'love', \"''\", \"''\", '.', 'cerca', 'de', 'meia', 'hora', 'depois', ',', 'ele', 'voltou', 'para', 'o', 'nosso', 'quarto', '.', \"''\"], ['(', 'aplausos', ')'], ['agora', ',', 'essencialmente', ',', 'isto', 'representava', 'levar', 'a', 'cabo', 'uma', 'postura', 'agressiva', 'perante', 'a', 'minha', 'mente', ',', 'um', 'tipo', 'de', 'guerra', 'civil', 'mental', ',', 'e', ',', 'por', 'sua', 'vez', ',', 'isto', 'provocou', 'um', 'aumento', 'do', 'número', 'de', 'vozes', 'que', 'se', 'tornaram', 'cada', 'vez', 'mais', 'hostis', 'e', 'ameaçadoras', '.'], ['nos', 'estados', 'unidos', ',', 'o', 'número', 'era', 'três', 'vezes', 'superior', 'ao', 'da', 'suécia', '.'], ['menino', ':', 'ah', ',', 'é', 'porque', 'a', 'luz', 'só', 'vai', 'para', 'aqui', 'e', 'para', 'aqui', 'não', '.'], ['estão', 'sempre', 'a', 'surgir', 'muitos', 'obstáculos', '.'], ['o', 'prazo', 'para', 'a', 'exposição', 'chegou', '—', 'as', 'minhas', 'tintas', 'não', '.'], ['nós', 'criámos', 'o', 'chamado', 'cérebro', 'coletivo', '.'], ['eu', 'estava', 'claramente', 'mais', 'nervosa', 'do', 'que', 'ele', '.'], ['ele', 'tinha', '498', 'pessoas', 'para', 'lhe', 'preparar', 'o', 'jantar', 'todas', 'as', 'noites', '.'], ['nos', 'últimos', 'anos', ',', 'temos', 'visto', 'um', 'esforço', 'verdadeiro', 'no', 'sentido', 'de', 'maior', 'transparência', 'no', 'que', 'toca', 'à', 'posse', 'de', 'empresas', '.'], ['esta', 'é', 'uma', 'realidade', 'que', 'as', 'sociedades', 'desenvolvidas', 'sabem', 'bem', '.'], ['isto', 'é', 'o', 'que', 'aconteceu', 'no', 'japão', ',', 'há', 'dois', 'anos', ',', 'no', 'norte', 'do', 'japão', '.'], ['quem', 'quiser', 'ter', 'uma', 'ideia', 'de', 'como', 'funciona', 'a', 'consciência', 'dos', 'bebés', ',', 'acho', 'que', 'o', 'melhor', 'é', 'pensar', 'nas', 'vezes', 'em', 'que', 'nos', 'encontramos', 'em', 'situações', 'nunca', 'antes', 'vividas', ',', 'como', 'quando', 'nos', 'apaixonamos', 'ou', 'quando', 'visitamos', 'uma', 'cidade', 'pela', 'primeira', 'vez', '.'], ['nós', 'queríamos', 'saber', 'se', 'os', 'bebés', 'e', 'as', 'crianças', 'pequenas', 'são', 'capazes', 'de', 'compreender', 'esta', 'coisa', 'tão', 'profunda', 'sobre', 'as', 'outras', 'pessoas', '.'], ['muito', ',', 'muito', 'bons', 'a', 'bicar', 'o', 'grão', ',', 'e', 'basicamente', 'a', 'fazer', 'mais', 'nada', '.'], ['mais', 'ou', 'menos', '.'], ['por', 'isso', ',', 'se', 'juntarmos', 'regras', 'ao', 'brincar', ',', 'temos', 'um', 'jogo', '.'], ['é', 'por', 'isso', 'que', 'perdemos', 'as', 'chaves', ',', 'os', 'óculos', 'e', 'os', 'passaportes', '.'], ['quanto', 'tempo', 'teriam', 'de', 'trabalhar', 'para', 'poderem', 'ter', 'uma', 'hora', 'de', 'luz', 'para', 'ler', 'um', 'livro', 'logo', 'à', 'noite', '?'], ['(', 'aplausos', ')', 'este', 'cruzamento', 'que', 'tinha', 'sido', 'demasiado', 'insossa', 'e', 'anónima', '.'], ['há', 'cinco', 'anos', ',', 'estava', 'em', 'licença', 'sabática', 'e', 'regressei', 'para', 'a', 'universidade', 'de', 'medicina', 'onde', 'estudava', '.'], ['mas', 'também', 'estou', 'certo', 'de', 'que', ',', 'por', 'causa', 'das', 'ligações', 'que', 'as', 'pessoas', 'estão', 'a', 'fazer', ',', 'e', 'da', 'capacidade', 'que', 'as', 'ideias', 'têm', 'de', 'se', 'encontrarem', 'e', 'acasalarem', 'como', 'nunca', 'antes', ',', 'também', 'estou', 'certo', 'de', 'que', 'a', 'tecnologia', 'vai', 'avançar', ',', 'e', 'logo', 'os', 'níveis', 'de', 'qualidade', 'de', 'vida', 'vão', 'avançar', '.'], ['no', 'final', 'dos', 'anos', '70', ',', 'existia', 'um', 'grupo', 'de', 'cirurgiões', 'ortopédicos', 'suecos', 'que', 'se', 'reuniam', 'todos', 'os', 'anos', ',', 'e', 'discutiam', 'os', 'diferentes', 'procedimentos', 'que', 'utilizavam', 'nas', 'operações', 'de', 'ancas', '.'], ['eles', 'são', 'tão', 'pobres', ',', 'e', 'estão', 'congelados', ',', 'com', 'cobertores', 'durante', 'a', 'estação', 'chuvosa', '.', 'nos', 'abrigos', 'construídos', 'pela', 'onu', ',', 'estavam', 'apenas', 'a', 'oferecer', 'uma', 'folha', 'de', 'plástico', ',', 'e', 'os', 'refugiados', 'tiveram', 'que', 'cortar', 'árvores', ',', 'e', 'assim', 'mesmo', '.'], ['``', 'mas', 'hoje', ',', 'estamos', 'todos', 'a', 'criar', 'este', 'arquivo', 'digital', 'incrivelmente', 'rico', 'que', 'irá', 'viver', 'na', '``', \"''\", 'nuvem', \"''\", \"''\", 'indefinidamente', ',', 'anos', 'depois', 'de', 'desaparecermos', '.', \"''\"], ['vamos', 'escrever', 'isto', 'e', 'tentar', 'submetê-lo', 'para', 'publicação', '.', 'por', 'isso', 'temos', 'de', 'escrever', '.'], ['o', 'juiz', 'roberts', 'associou-o', 'à', 'extração', 'de', 'um', 'taco', 'de', 'basebol', 'de', 'uma', 'árvore', '.'], ['isto', 'porque', 'conseguimos', 'deixar', 'de', 'pensar', 'em', 'nós', 'próprios', 'e', 'o', 'que', 'estamos', 'a', 'ganhar', 'ou', 'a', 'perder', 'nas', 'nossas', 'relações', ',', 'e', 'começamos', 'a', 'pensar', 'no', 'que', 'temos', 'para', 'oferecer', '.'], ['olá', '.', 'sou', 'um', 'arquiteto', '.'], ['voltámos', 'ao', 'princípio', '.'], ['e', 'a', 'resposta', 'é', 'que', ',', 'não', 'apenas', 'se', 'trava', 'o', 'progresso', 'tecnológico', ',', 'mas', 'pode-se', 'até', 'mesmo', 'provocar', 'uma', 'regressão', '.'], ['todos', 'os', 'monstros', 'têm', 'rosto', '.'], ['li', 'sobre', 'o', 'recente', 'terramoto', 'no', 'chile', 'e', 'sobre', 'o', 'tsunami', 'que', 'atravessou', 'o', 'oceano', 'pacífico', 'inteiro', '.'], ['ainda', 'não', 'são', 'custeadas', ',', 'mas', 'eu', 'sonho', 'agora', 'em', 'trazê-las', 'para', 'cidades', 'pelo', 'mundo', 'inteiro', 'onde', 'forem', 'mais', 'precisas', '.'], ['“ela', 'está', 'a', 'abrir', 'a', 'porta”'], ['este', 'é', 'o', 'caderno', 'de', 'apontamentos', 'do', 'reverendo', 'bayes', '.'], ['pode', 'demorar', 'um', 'pouco', 'a', 'carregar', '.'], ['por', 'essa', 'altura', ',', 'eu', 'tinha', 'toda', 'a', 'panóplia', 'do', 'repertório', ':', 'vozes', 'aterradoras', ',', 'visões', 'grotescas', ',', 'alucinações', 'bizarras', 'e', 'ingovernáveis', '.'], ['vou', 'contar', ',', 'para', 'que', 'o', 'façamos', 'todos', 'ao', 'mesmo', 'tempo', '.'], ['e', 'são', 'crianças', 'assim', ',', 'muitas', 'das', 'quais', 'ficaram', 'órfãs', 'porque', 'a', 'sua', 'família', 'foi', 'afectada', 'pelo', 'vírus', 'da', 'sida', '.'], ['e', 'por', 'fim', ',', 'alguns', 'médicos', 'dirão', 'hoje', 'em', 'dia', 'que', 'não', 'têm', 'plena', 'liberdade', 'para', 'tomar', 'a', 'decisão', 'que', 'pensam', 'ser', 'a', 'mais', 'correta', 'para', 'os', 'seus', 'doentes', '.'], ['num', 'dos', 'lados', 'está', 'um', 'corvo', 'da', 'nova', 'caledónia', '.'], ['eu', 'mesmo', 'vi', 'os', 'números', '.'], ['penso', 'que', 'muitas', 'pessoas', 'consideram', 'o', 'mundo', 'inteiro', 'desconcertante', 'e', 'confuso', 'e', 'não', 'entendem', 'bem', 'como', 'é', 'que', 'estes', 'paraísos', 'fiscais', 'funcionam', '.'], ['nós', 'somos', 'apenas', 'os', 'nós', 'na', 'rede', '.'], ['há', 'muito', 'mais', 'coisas', 'aqui', ',', 'mas', 'não', 'tenho', 'tempo', '.'], ['nós', 'vamos', 'literalmente', 'dormir', 'até', 'ao', 'topo', '.'], ['o', 'amor', 'é', 'poderoso', 'e', 'por', 'vezes', 'doloroso', ',', 'e', 'expressamos', 'isso', 'através', 'das', 'nossas', 'palavras', 'e', 'histórias', ',', 'mas', 'então', 'as', 'nossas', 'palavras', 'e', 'histórias', 'preparam-nos', 'para', 'esperar', 'que', 'o', 'amor', 'seja', 'poderoso', 'e', 'doloroso', '.'], ['não', 'temos', 'de', 'fazer', 'nada', ',', 'apenas', 'aprender', '.'], ['então', ',', 'imaginem', 'se', 'todos', 'fôssemos', 'menos', 'passivos', 'no', 'amor', '.'], ['alguns', 'animais', ',', 'como', 'a', 'galinha', ',', 'parecem', 'adaptar-se', 'perfeitamente', 'a', 'fazer', 'muito', 'bem', 'apenas', 'uma', 'coisa', '.'], ['é', 'o', 'que', 'deveriam', 'ter', 'dito', '.', 'certo', '?', 'e', 'porque', 'é', 'que', 'isto', 'acontece', '?'], ['mas', 'na', 'verdade', ',', 'o', 'detector', 'funciona', 'de', 'uma', 'forma', 'um', 'bocado', 'estranha', ','], ['e', 'neste', 'momento', 'somos', 'perfeitos', ',', 'somos', 'um', 'todo', 'e', 'somos', 'belos', '.'], ['(', 'aplausos', ')'], ['se', 'em', 'vez', 'disso', ',', 'ele', 'for', 'para', 'hamburgo', ',', 'para', 'a', 'clínica', 'martini-klinik', ',', 'o', 'risco', 'só', 'seria', 'de', '20', '%', '.'], ['cresci', 'em', 'limpopo', ',', 'na', 'fronteira', 'de', 'limpopo', 'e', 'mpumalanga', ',', 'numa', 'pequena', 'vila', 'chamada', 'motetema', '.'], ['entretanto', ',', 'há', 'coisas', 'más', 'que', 'acontecem', '.'], ['uma', 'entra', 'em', 'extinção', 'para', 'a', 'outra', 'sobreviver', '.'], ['voz', ':', 'marco', ',', 'não', 'sabia', 'que', 'conseguia', 'fazer', 'isso', '.', '(', 'risos', ')', 'mt', ':', 'e', 'será', 'coincidência', 'haver', '52', 'cartas', 'num', 'baralho', ',', 'assim', 'como', 'há', '52', 'semanas', 'num', 'ano', '?'], ['portanto', ',', 'este', 'edifício', 'tornou-se', 'um', 'edifício', 'permanente', '.'], ['mais', 'de', '2.5', 'mil', 'milhões', 'de', 'pessoas', 'hoje', ',', 'no', 'mundo', ',', 'não', 'possuem', 'acesso', 'adequado', 'a', 'água', 'e', 'saneamento', '.'], ['aqui', 'mesmo', '.'], ['qualquer', 'coisa', 'como', ':', '“não', 'se', 'metam', 'comigo', '.'], ['isto', 'é', 'o', 'que', 'sabemos', 'sobre', 'como', 'funciona', 'a', 'consciência', 'nos', 'adultos', '.'], ['um', 'é', 'um', 'machado', 'acheulense', 'usado', 'há', 'meio', 'milhão', 'de', 'anos', 'do', 'tipo', 'feito', 'pelo', 'homo', 'erectus', '.'], ['é', 'o', 'número', 'de', 'pessoas', 'que', 'precisam', 'de', 'tomar', 'um', 'medicamento', ',', 'submeter-se', 'a', 'uma', 'cirurgia', 'ou', 'a', 'qualquer', 'procedimento', 'médico', ',', 'antes', 'de', 'uma', 'pessoa', 'ser', 'ajudada', '.'], ['e', 'também', ',', 'descobri', 'que', 'havia', 'muitos', 'refugiados', 'vietnamitas', 'a', 'sofrer', 'e', 'que', 'se', 'reuniam', 'numa', 'igreja', 'católica', '.', 'o', 'edifício', 'foi', 'totalmente', 'destruído', '.'], ['aqui', 'têm', 'um', 'alfabeto', 'marciano', '.'], ['têm', 'apenas', 'que', 'ler', 'o', 'que', 'veem', '.', 'ok', '?'], ['algumas', 'delas', 'são', 'óbvias', ',', 'outras', 'nem', 'tanto', '.'], ['mas', 'a', 'diferença', 'é', 'que', 'essas', 'culturas', 'nunca', 'se', 'expandem', ',', 'nunca', 'crescem', ',', 'nunca', 'acumulam', ',', 'nunca', 'permitem', 'combinações', '.', 'e', 'isso', 'deve-se', 'ao', 'facto', 'de', 'que', 'não', 'há', 'sexo', ',', 'por', 'assim', 'dizer', ',', 'não', 'há', 'troca', 'de', 'ideias', '.'], ['elas', 'trabalham', 'no', 'campo', '.'], ['e', 'assim', 'ambos', 'os', 'lados', 'aumentam', 'o', 'nível', 'de', 'qualidade', 'de', 'vida', 'uns', 'dos', 'outros', 'através', 'da', 'divisão', 'do', 'trabalho', 'por', 'sexo', '.'], ['no', 'ecrã', 'atrás', 'de', 'mim', ',', 'podem', 'ver', 'o', 'que', 'queremos', 'dizer', 'com', 'valor', ':', 'resultados', 'importantes', 'para', 'os', 'doentes', 'em', 'relação', 'ao', 'dinheiro', 'que', 'gastamos', '.'], ['``', 'imaginem', 'que', 'vão', 'ao', 'médico', 'e', 'ele', 'vos', 'diz', ':', '``', 'acabei', 'de', 'receber', 'os', 'seus', 'resultados', ',', 'tem', 'o', 'colesterol', 'um', 'pouco', 'alto', '.', \"''\", \"''\"], ['e', 'o', 'que', 'vos', 'deixa', 'fazer', 'é', 'criar', 'um', 'tributo', 'online', 'para', 'os', 'vossos', 'entes', 'queridos', ',', 'completo', 'com', 'fotos', 'e', 'vídeos', 'e', 'histórias', 'que', 'eles', 'podem', 'publicar', 'depois', 'de', 'vocês', 'morrerem', '.'], ['no', 'próximo', 'ano', ',', 'prevemos', 'estudar', 'oito', 'doenças', ',', 'no', 'ano', 'a', 'seguir', ',', '16', '.'], ['e', 'a', 'quem', 'melhor', 'perguntar', 'do', 'que', 'a', '25', 'crianças', 'entre', 'os', '8', 'e', 'os', '10', 'anos', '?'], ['elas', 'realmente', 'sentem', 'que', 'vão', 'ganhar', ',', 'mesmo', 'em', 'jogos', 'de', 'sorte', '.'], ['toda', 'a', 'gente', 'sabe', 'que', 'o', 'colesterol', 'alto', 'está', 'associado', 'a', 'um', 'alto', 'risco', 'de', 'doenças', 'cardiovasculares', ',', 'ataque', 'cardíaco', ',', 'avc', '.'], ['a', 'avelile', 'tinha', 'o', 'vírus', ',', 'nasceu', 'com', 'o', 'vírus', '.'], ['e', 'já', 'agora', ',', 'aquele', 'café', ',', 'aquele', 'maravilhoso', 'café', 'que', 'tomaram', 'lá', 'em', 'baixo', ',', 'na', 'verdade', 'imita', 'o', 'efeito', 'dos', 'neurotransmissores', 'dos', 'bebés', '.'], ['estas', 'coisas', 'são', 'óbvias', '.'], ['os', 'estados', 'unidos', 'têm', ',', 'para', 'muitas', 'doenças', ',', 'uma', 'qualidade', 'que', ',', 'na', 'verdade', ',', 'está', 'abaixo', 'da', 'média', 'da', 'ocde', '.'], ['existiam', 'literalmente', 'milhares', 'de', 'patentes', 'de', 'genes', 'humanos', '.'], ['fui', 'convidado', 'para', 'projetar', 'um', 'edifício', ',', 'porque', 'o', 'tema', 'da', 'expo', 'era', 'sobre', 'questões', 'ambientais', '.'], ['qualquer', 'um', 'de', 'vocês', ',', 'qualquer', 'um', '—', 'quer', 'seja', 'pobre', ',', 'quer', 'seja', 'rico', ',', 'quer', 'tenhamuma', 'bela', 'casa', '—', 'não', 'interessa', '.'], ['não', 'é', 'confinado', 'à', 'sua', 'linhagem', '.'], ['perguntei', 'à', 'cervejeira', 'kirin', ',', 'a', 'propor', ',', 'porque', ',', 'naquela', 'altura', ',', 'a', 'empresa', 'de', 'cerveja', 'asahi', 'fez', 'as', 'suas', 'caixas', 'de', 'cerveja', 'com', 'plástico', 'vermelho', ',', 'que', 'não', 'combina', 'com', 'a', 'cor', 'dos', 'tubos', 'de', 'papel', '.', '(', 'risos', ')'], ['foi', 'difícil', 'de', 'acreditar', 'que', 'o', 'que', 'eu', 'tinha', 'imaginado', 'estava', 'agora', 'construído', ',', 'permanente', 'e', 'não', 'tinha', 'perdido', 'nada', 'na', 'tradução', '.'], ['elas', 'têm', 'uma', 'grande', 'capacidade', 'de', 'chegar', 'às', 'pessoas', 'que', 'estão', 'a', 'viver', 'directamente', 'com', 'os', 'efeitos', 'do', 'vírus', '.'], ['a', 'ocde', ',', 'de', 'vez', 'em', 'quando', ',', 'observa', 'a', 'qualidade', 'do', 'cuidado', ',', 'sendo', 'possível', 'encontrar', 'os', 'dados', 'dos', 'países', 'membros', '.'], ['``', 'voltemos', 'a', 'esta', 'imagem', 'do', 'machado', 'e', 'do', 'mouse', ',', 'e', 'interroguemo-nos', ':', '``', \"''\", 'quem', 'os', 'fez', 'e', 'para', 'quem', '?', \"''\", \"''\", 'o', 'machado', 'de', 'pedra', 'foi', 'feito', 'por', 'alguém', 'para', 'ele', 'mesmo', '.', \"''\"], ['embora', 'eu', 'já', 'não', 'me', 'lembre', 'sobre', 'o', 'que', 'discutimos', ',', 'lembro-me', 'claramente', 'de', 'como', 'me', 'senti', 'ao', 'vê-lo', 'ir-se', 'embora', '.'], ['eu', 'penso', 'que', 'à', 'medida', 'que', 'a', 'capacidade', 'das', 'máquinas', 'para', 'compreender', 'a', 'linguagem', 'humana', 'e', 'processar', 'grandes', 'quantidades', 'de', 'informação', 'continua', 'a', 'melhorar', ',', 'vai-se', 'tornar', 'possível', 'analizar', 'o', 'conteúdo', 'de', 'toda', 'uma', 'vida', '—', 'os', 'tweets', ',', 'as', 'fotos', ',', 'os', 'videos', ',', 'os', 'posts', 'nos', 'blogues', '—', 'que', 'estamos', 'a', 'produzir', 'em', 'números', 'maciços', '.'], ['ok', ',', 'voltemos', 'ao', 'projector', '.'], ['é', 'fácil', 'fazer', 'perguntas', 'sobre', 'como', 'é', 'que', 'a', 'vida', 'começou', ',', 'ou', 'o', 'que', 'está', 'para', 'lá', 'do', 'universo', ',', 'mas', 'questionar', 'o', 'que', 'pensamos', 'ser', 'verdade', 'é', 'realmente', 'dar', 'um', 'salto', 'em', 'frente', '.'], ['há', '14', 'anos', ',', 'encontrei', 'pela', 'primeira', 'vez', 'este', 'material', 'vulgar', ',', 'a', 'rede', 'de', 'pesca', ',', 'usada', 'da', 'mesma', 'forma', 'durante', 'séculos', '.'], ['então', ',', 'contratam-nos', 'para', 'dar', 'visibilidade', 'ao', 'seu', 'poder', 'e', 'dinheiro', ',', 'fazendo', 'arquitetura', 'monumental', '.'], ['se', 'olharmos', 'para', 'a', 'maneira', 'como', 'as', 'crianças', 'brincam', ',', 'quando', 'lhes', 'pedimos', 'para', 'que', 'nos', 'expliquem', 'qualquer', 'coisa', ',', 'o', 'que', 'eles', 'fazem', 'é', 'uma', 'série', 'de', 'experimentações', '.'], ['a', 'primeira', 'coisa', 'que', 'eu', 'disse', 'a', 'tracy', 'foi', 'que', 'ela', 'tinha', 'que', 'sair', 'de', 'casa', '.'], ['luís', 'xiv', 'tinha', 'muitas', 'pessoas', 'a', 'trabalhar', 'para', 'ele', '.'], ['mt', ':', 'um', 'baralho', 'de', 'cartas', 'tem', 'duas', 'cores', '.'], ['na', 'realidade', ',', 'em', 'alemão', ',', 'é', \"'nein\", 'nein', \"'\", '(', 'nove', ',', 'nove', ')', '.', '(', 'risos', ')', 'a', 'magia', 'não', 'é', 'assim', 'tão', 'intensa', '.', 'contudo', ',', 'devo', 'avisar-vos', 'que', 'se', 'jogarem', 'com', 'alguém', 'que', 'dá', 'cartas', 'assim', ',', 'não', 'joguem', 'a', 'dinheiro', '.'], ['``', 'por', 'isso', 'disseram', 'que', 'precisavam', 'de', 'avaliar', 'a', 'qualidade', ',', 'porque', 'assim', 'poderiam', 'saber', 'e', 'aprender', 'a', 'melhor', '.', 'então', ',', 'passaram', 'dois', 'anos', 'a', 'debater', ':', '``', 'o', 'que', 'é', 'a', 'qualidade', 'numa', 'cirurgia', 'à', 'anca', '?', \"''\", \"''\"], ['é', 'o', 'intercâmbio', 'de', 'ideias', ',', 'o', 'encontro', 'e', 'o', 'acasalamento', 'de', 'ideias', 'entre', 'eles', ',', 'que', 'está', 'a', 'causar', 'o', 'progresso', 'tecnológico', ',', 'progressivamente', ',', 'pouco', 'a', 'pouco', '.'], ['é', 'uma', 'campanha', 'das', 'bases', 'em', 'que', '80', '%', 'dos', 'membros', 'são', 'mulheres', ',', 'a', 'maioria', 'das', 'quais', 'são', 'seropositivas', '.'], ['ca', ':', 'portanto', 'são', 'bem', 'intencionados', '.'], ['(', 'música', ')', 'voz', ':', 'por', 'que', 'não', '?', 'essa', 'é', 'uma', 'mão', 'muito', 'boa', '.'], ['joker', ':', 'uau', '.', 'mt', ':', 'estás', 'pronto', 'para', 'a', 'tua', 'demonstração', '?'], ['a', 'histórica', 'câmara', 'municipal', 'de', 'filadélfia', ':', 'a', 'sua', 'praça', ',', 'senti', 'que', 'precisava', 'de', 'um', 'material', 'escultórico', 'que', 'fosse', 'mais', 'leve', 'do', 'que', 'a', 'rede', '.'], ['e', 'esse', 'foi', 'provavelmente', 'o', 'ano', 'mais', 'infeliz', 'da', 'minha', 'vida', '.'], ['já', 'lá', 'chegarei', '.'], ['portanto', 'o', 'oz', 'é', 'melhor', 'do', 'que', 'o', 'adam', 'a', 'fazer', 'lanças', 'e', 'machados', '.'], ['mas', 'são', 'invisíveis', '.'], ['morte', ':', 'adam', '?'], ['vou', 'mostrar-vos', 'outra', 'funcionalidade', 'que', 'prefiro', '.'], ['a', 'questão', 'é', ':', 'o', 'que', 'é', 'que', 'o', 'bebé', 'lhe', 'daria', ',', 'o', 'que', 'ele', 'gostava', 'ou', 'o', 'que', 'ela', 'gostava', '?'], ['tinha', 'de', 'fazer', 'alguma', 'coisa', '.'], ['oh', '.'], ['esta', 'versão', 'de', 'amor', 'não', 'é', 'sobre', 'ganhar', 'ou', 'perder', 'o', 'afeto', 'de', 'alguém', '.'], ['(', 'aplausos', ')', 'obrigado', '.', 'obrigado', '.', 'obrigado', '.', 'obrigada', '.', 'obrigada', '.', '(', 'aplausos', ')'], ['a', 'questão', 'é', 'que', 'temos', 'que', 'ter', 'um', 'contexto', ',', 'um', 'limite', 'para', 'as', 'nossas', 'ações', 'em', 'tudo', 'isto', '.'], ['quantas', 'outras', 'pessoas', '?'], ['não', 'há', 'trabalho', 'mútuo', 'entre', 'colónias', 'diferentes', '.'], ['eles', 'sabem', '.'], ['brincar', 'é', 'uma', 'das', 'únicas', 'tentativas', 'humanas', 'em', 'que', 'a', 'incerteza', 'é', 'de', 'facto', 'celebrada', '.', 'a', 'incerteza', 'é', 'o', 'que', 'torna', 'o', 'brincar', 'divertido', '.'], ['bem', ',', 'não', ',', 'porque', 'se', 'pensarmos', 'nisso', ',', 'se', 'o', 'oz', 'fizer', 'duas', 'lanças', 'e', 'o', 'adam', 'dois', 'machados', ',', 'e', 'eles', 'trocarem', ',', 'então', 'cada', 'um', 'poupará', 'uma', 'hora', 'de', 'trabalho', '.'], ['e', ',', 'se', 'tivermos', 'sorte', ',', 'e', 'formos', 'um', 'dos', '50', '%', 'que', 'têm', 'isto', ',', 'só', 'durarão', 'um', 'ou', 'dois', 'anos', '.'], ['e', 'esta', 'sou', 'eu', 'com', 'youssou', 'n´dour', ',', 'no', 'palco', ',', 'a', 'divertir-me', 'à', 'grande', '.'], ['não', 'há', 'troca', 'de', 'ideias', 'entre', 'eles', '.'], ['e', 'quanto', 'mais', 'fizerem', 'isso', ',', 'mais', 'isso', 'se', 'irá', 'verificar', '.', 'porque', 'quanto', 'mais', 'o', 'fizerem', ',', 'melhor', 'o', 'adam', 'será', 'a', 'fazer', 'machados', ',', 'e', 'melhor', 'será', 'o', 'oz', 'a', 'fazer', 'lanças', '.'], ['a', 'morte', 'do', 'bob', 'este', 'verão', 'foi', 'uma', 'perda', 'para', 'todos', 'nós', '.'], ['fazemos', 'zoom', '.', 'aproximamo-nos', 'mesmo', 'muito', '.'], ['assim', ',', 'desenvolvi', 'uma', 'relação', 'com', 'uma', 'fábrica', 'industrial', 'de', 'redes', 'de', 'pesca', ',', 'aprendi', 'as', 'variáveis', 'das', 'máquinas', 'deles', ',', 'e', 'descobri', 'uma', 'maneira', 'de', 'fazer', 'renda', 'com', 'elas', '.'], ['``', 'portanto', 'eu', 'comprometi-me', '-', 'quando', 'deixei', 'a', 'áfrica', 'do', 'sul', ',', 'quando', 'deixei', 'a', 'cidade', 'do', 'cabo', ',', 'disse', 'a', 'mim', 'mesma', ',', '``', \"''\", 'isto', 'vai', 'ser', 'algo', 'que', 'eu', 'vou', 'ter', 'de', 'divulgar', '.', \"''\"], ['ag', ':', 'muito', 'bem', ',', 'hipótese', 'número', 'dois', '.'], ['durante', 'o', 'verão', 'com', 'os', 'meus', 'alunos', ',', 'nós', 'construímos', 'mais', 'de', '50', 'unidades', 'de', 'abrigos', '.'], ['fizeram', 'a', 'matemática', 'simples', ',', 'a', 'média', ',', 'etc', '.'], ['em', '1950', ',', 'teria', 'sido', 'necessário', ',', 'com', 'a', 'média', 'salarial', ',', 'trabalhar', 'oito', 'segundos', 'para', 'adquirir', 'esse', 'tanto', 'de', 'luz', '.'], ['e', 'como', 'é', 'óbvio', ',', 'nós', 'humanos', 'estamos', 'muito', 'para', 'além', 'da', 'curva', 'de', 'distribuição', 'tal', 'como', 'os', 'corvos', '.'], ['nenhum', 'outro', 'animal', 'o', 'faz', '.'], ['por', 'isso', 'substituí', 'a', 'rede', 'de', 'metal', 'por', 'uma', 'fina', 'e', 'macia', 'fibra', 'de', 'malha', '15', 'vezes', 'mais', 'forte', 'do', 'que', 'o', 'aço', '.'], ['a', 'causa', 'pode', 'ser', 'a', 'prematuridade', 'ou', 'condições', 'genéticas'], ['esta', 'é', 'a', 'transformação', 'que', 'aconteceu', '.'], ['estas', 'são', 'perguntas', 'difíceis', ',', 'mas', 'eu', 'tenho', 'algumas', 'teorias', '.'], ['elas', 'têm', 'programas', 'educativos', '.'], ['o', 'que', 'é', 'relevante', 'para', 'uma', 'sociedade', 'é', 'quão', 'bem', 'as', 'pessoas', 'comunicam', 'as', 'suas', 'ideias', ',', 'e', 'quão', 'bem', 'elas', 'cooperam', ',', 'não', 'quão', 'inteligentes', 'são', 'os', 'seus', 'indivíduos', '.'], ['todos', 'defenderam', 'que', 'a', 'sua', 'técnica', 'era', 'a', 'melhor', ',', 'mas', 'nenhum', 'deles', 'tinha', 'a', 'certeza', 'disso', 'e', 'admitiram-no', '.'], ['agora', ',', 'para', 'ser', 'claro', ',', 'eu', 'sou', 'um', 'jornalista', ',', 'e', 'não', 'uma', 'pessoa', 'ligada', 'à', 'tecnologia', ',', 'portanto', ',', 'o', 'que', 'gostaria', 'de', 'fazer', 'de', 'forma', 'breve', 'é', 'pintar', 'um', 'quadro', 'de', 'como', 'o', 'presente', 'e', 'o', 'futuro', 'irão', 'ser', '.'], ['em', 'conjunto', 'com', 'duas', 'instituições', 'académicas', ',', 'michael', 'porter', 'em', 'harvard', 'business', 'scholl', ',', 'e', 'o', 'instituto', 'karolinska', 'na', 'suécia', ',', 'o', 'bcg', 'criou', 'algo', 'a', 'que', 'chamamos', 'ichom', '.'], ['``', 'é', 'a', 'força', 'criativa', 'que', 'produz', '``', \"''\", 'memes', \"''\", \"''\", ',', 'põe', \"'slogans\", \"'\", 'nas', 'nossas', 't-shirts', 'e', 'põe', 'frases', 'na', 'nossa', 'boca', '.', \"''\"], ['de', 'qualquer', 'forma', ',', 'fizemos', 'o', 'estudo', '.', 'certo', '?', 'com', 'certeza', '.'], ['bem', ',', 'foi', 'publicado', 'dois', 'dias', 'antes', 'do', 'natal', ',', 'descarregado', '30', '000', 'vezes', 'no', 'primeiro', 'dia', '.'], ['esta', 'precisa', 'de', 'quatro', 'para', 'acender', 'e', 'esta', 'só', 'precisa', 'de', 'duas', '.'], ['houve', 'duas', 'coisas', 'que', 'me', 'surpreenderam', 'durante', 'o', 'mês', 'que', 'passei', 'lá', '.'], ['decidi', 'que', ',', 'se', 'os', 'meus', 'amigos', 'não', 'compreendiam', 'o', 'meu', 'sofrimento', ',', 'então', 'eu', 'não', 'precisava', 'da', 'amizade', 'deles', '.'], ['``', 'ele', 'disse', ',', '``', \"''\", 'aqui', 'está', '.', 'eu', 'estou', 'morto', 'e', 'este', 'é', 'o', 'meu', 'último', 'post', 'no', 'meu', 'blogue', '.', \"''\"], ['o', 'outro', 'é', 'obviamente', 'um', 'mouse', 'de', 'computador', '.'], ['ao', ':', 'quem', 'fala', '?'], ['todos', 'viram', 'que', 'isto', 'fazia', 'todo', 'o', 'sentido', '.'], ['o', 'objeto', 'da', 'direita', 'é', 'feito', 'de', 'uma', 'combinação', 'de', 'diferentes', 'substâncias', ',', 'desde', 'o', 'silício', 'ao', 'metal', ',', 'plástico', 'e', 'assim', 'por', 'diante', '.'], ['e', ',', 'a', 'propósito', ',', 'essa', 'é', 'uma', 'das', 'razões', 'pela', 'qual', 'não', 'estou', 'interessado', 'no', 'debate', 'sobre', 'o', 'q.i.', ',', 'sobre', 'se', 'alguns', 'grupos', 'têm', 'um', 'q.i', '.', 'maior', 'do', 'que', 'outros', '.'], ['uma', 'bobina', 'é', 'um', 'bocado', 'de', 'fio', 'enrolado', 'em', 'si', 'mesmo', '.'], ['cerca', 'de', '20', 'dias', 'antes', 'do', 'terramoto', 'japonês', ',', 'também', 'tiveram', 'um', 'grande', 'terramoto', ',', 'e', 'muitos', 'estudantes', 'japoneses', 'morreram', ',', 'e', 'a', 'catedral', 'mais', 'importante', 'da', 'cidade', ',', 'o', 'símbolo', 'de', 'christchurch', ',', 'foi', 'totalmente', 'destruído', '.'], ['é', 'o', 'único', 'artigo', 'desta', 'revista', 'que', 'será', 'sempre', 'de', 'livre', 'acesso', '.'], ['toda', 'a', 'gente', 'desse', 'lado', 'grite', '.', 'de', 'onde', 'vem', 'o', 'som', '?', '(', 'risos', ')', '(', 'aplausos', ')', 'muito', 'obrigado', '.', '(', 'aplausos', ')', 'e', 'para', 'que', 'serve', 'isto', '?', 'para', 'que', 'percebam', 'o', 'que', 'a', 'ciência', 'faz', 'por', 'nós', '.'], ['a', 'doença', 'deixa', 'oito', 'milhões', 'de', 'pessoas', 'definitivamente', 'cegas', 'em', 'cada', 'ano', '.', 'a', 'parte', 'chocante', 'nisto', 'é', 'que', ',', 'para', 'evitarem', 'ser', 'infetados', 'com', 'a', 'tracoma', ',', 'basta', 'lavarem', 'a', 'cara', ':', 'nada', 'de', 'remédios', ',', 'nada', 'de', 'comprimidos', ',', 'nada', 'de', 'injeções', '.'], ['isto', 'foi', 'o', 'princípio', '.', 'a', 'voz', 'tinha', 'chegado', '.'], ['shimon', 'schocken', ':', 'certo', ',', 'mas', 'gosto', 'de', 'mim', 'próprio', '...'], ['é', 'flexível', 'à', 'mudança', '.', 'abre', 'uma', 'possibilidade', '.', 'e', 'é', 'cooperativo', '.', 'é', 'na', 'verdade', 'a', 'maneira', 'como', 'criamos', 'laços', 'sociais', '.', 'e', 'é', 'intrinsecamente', 'motivante', '.', 'o', 'que', 'significa', 'que', 'brincamos', 'para', 'brincar', '.', 'brincar', 'é', 'a', 'sua', 'própria', 'recompensa', '.'], ['não', 'quisemos', 'alterar', 'isto', ',', 'porque', 'este', 'é', 'o', 'padrão', 'que', 'tem', 'sido', 'optimizado', 'ao', 'longo', 'dos', 'anos', ',', 'e', 'muitos', 'trabalhadores', 'da', 'saúde', 'estão', 'habituados', 'a', 'isto', '.'], ['``', 'se', 'fôssemos', 'mais', 'assertivos', ',', 'mais', 'tolerantes', ',', 'mais', 'generosos', 'e', 'em', 'vez', 'de', '``', \"''\", 'cairmos', \"''\", \"''\", 'no', 'amor', ',', '``', \"''\", 'entrássemos', \"''\", \"''\", 'no', 'amor', '.', \"''\"], ['``', 'se', 'eu', 'disser', ':', '``', \"''\", 'liberdade', ',', 'soberania', ',', 'independência', \"''\", \"''\", 'ou', 'se', 'o', 'vosso', 'filho', 'disser', ':', '``', 'pai', ',', 'viveste', 'no', 'período', 'do', 'slogan', 'da', 'liberdade', '?', \"''\", \"''\"], ['elas', 'juntaram-se', '.'], ['bem', ',', 'ela', 'usa', 'a', 'reprodução', 'sexuada', '.'], ['a', 'literatura', 'tem', 'de', 'nos', 'levar', 'para', 'além', '.'], ['uma', 'das', 'coisas', 'que', 'aprendemos', 'foi', 'que', 'as', 'comunidades', 'pobres', 'não', 'compram', 'produtos', 'em', 'massa', '.'], ['somos', 'mais', 'inteligentes', ',', 'mais', 'flexivéis', ',', 'capazes', 'de', 'aprender', 'mais', ',', 'sobrevivemos', 'em', 'diferentes', 'ambientes', ',', 'emigrámos', 'para', 'povoar', 'o', 'mundo', 'e', 'viajámos', 'até', 'ao', 'espaço', '.'], ['ag', ':', 'está', 'a', 'registar', 'as', 'suas', 'notas', 'experimentais', '.'], ['conheci-o', 'num', 'evento', '46664', '.'], ['e', 'eles', 'são', 'muito', 'gentis', ',', 'patrocinando', 'o', 'meu', 'modelo', '.'], ['não', 'havia', 'linguagem', 'para', 'traduzir', 'este', 'artesanato', 'antigo', ',', 'idiossincrático', 'para', 'algo', 'que', 'operadores', 'mecânicos', 'produzissem', '.'], ['isso', 'é', 'prosperidade', ',', 'o', 'poupar', 'tempo', 'para', 'satisfazer', 'necessidades', 'pessoais', '.'], ['um', 'deles', 'é', 'o', 'kiki', ',', 'o', 'outro', 'é', 'o', 'bouba', '.'], ['o', 'vermelho', 'e', 'o', 'preto', ',', 'que', 'representam', 'a', 'mudança', 'constante', 'do', 'dia', 'para', 'a', 'noite', '.'], ['a', 'luz', 'nunca', 'desaparece', '.'], ['conto', 'a', 'história', 'dela', 'a', 'toda', 'a', 'gente', 'porque', 'ela', 'representa', 'uma', 'em', 'milhões', 'de', 'órfãos', 'de', 'vih/sida', '.'], ['voltemos', 'mais', 'uma', 'vez', 'a', 'esta', 'imagem', 'e', 'interroguemo-nos', ',', 'não', 'apenas', 'sobre', 'quem', 'fez', 'isto', 'e', 'para', 'quem', ',', 'mas', 'quem', 'sabia', 'como', 'fazê-lo', '.'], ['mas', 'antes', 'de', 'o', 'revelar', ',', 'quero', 'pedir-vos', 'que', ',', 'agora', 'mesmo', ',', 'façam', 'um', 'pequeno', 'exame', 'ao', 'vosso', 'corpo', 'e', 'ao', 'que', 'estão', 'a', 'fazer', 'com', 'ele', '.'], ['cá', 'está', '...', 'e', 'sobreviveu', '!'], ['se', 'nos', 'voltarmos', 'para', 'os', 'psicólogos', 'e', 'filósofos', ',', 'muitos', 'afirmaram', 'que', 'os', 'bebés', 'e', 'as', 'crianças', 'pequenas', 'são', 'pouco', 'conscientes', 'se', 'é', 'que', 'são', 'conscientes', 'sequer', '.'], ['isto', 'é', 'um', 'artigo', 'científico', ',', 'basicamente', '.', 'então', 'os', 'miúdos', 'deram-me', 'as', 'palavras', '.', 'eu', 'pu-las', 'numa', 'narrativa', ',', 'o', 'que', 'significa', 'que', 'este', 'artigo', 'foi', 'escrito', 'em', 'linguagem', 'de', 'miúdos', '.'], ['ficou', 'em', 'taiwan', 'como', 'uma', 'igreja', 'permanente', ',', 'até', 'agora', '.'], ['e', 'eu', 'penso', 'que', 'à', 'medida', 'que', 'isso', 'acontece', ',', 'vai-se', 'tornar', 'possível', 'para', 'as', 'nossas', 'identidades', 'digitais', 'continuarem', 'a', 'interagir', 'no', 'mundo', 'real', 'muito', 'depois', 'de', 'nós', 'desaparecermos', 'graças', 'à', 'vastidão', 'da', 'quantidade', 'de', 'conteúdo', 'que', 'estamos', 'a', 'criar', 'e', 'à', 'capacidade', 'da', 'tecnologia', 'de', 'extrair', 'significado', 'de', 'tudo', 'isso', '.'], ['esta', 'história', 'é', 'sobre', 'levar', 'muito', 'a', 'sério', 'a', 'criatividade', '.'], ['então', 'propus', 'ao', 'presidente', 'da', 'câmara', ',', 'enquanto', 'estava', 'a', 'fazer', 'as', 'divisórias', '.'], ['mas', 'é', 'realmente', 'necessário', 'fazê-lo', '.'], ['e', 'finalmente', 'chegaram', 'a', 'acordo', '.'], ['digamos', 'que', 'a', 'frequência', 'é', '1,76', 'kilohertz', ',', 'ou', '1760', 'hertz', '.'], ['bem', ',', 'lembremo-nos', 'dos', 'caçadores-recoletores', 'modernos', ',', 'como', 'os', 'aborígenes', ',', 'que', 'escavaram', 'para', 'fazer', 'machados', 'de', 'pedra', 'num', 'lugar', 'chamado', 'monte', 'isa', ',', 'que', 'era', 'uma', 'pedreira', 'da', 'tribo', 'kalkadoon', '.'], ['agora', 'combino-as', 'com', 'materiais', 'de', 'alta', 'tecnologia', 'e', 'engenharia', 'para', 'criar', 'formas', 'voluptuosas', ',', 'ondulantes', 'à', 'escala', 'de', 'prédios', '.'], ['mas', 'quem', 'sabe', 'como', 'fazer', 'um', 'mouse', '?'], ['e', 'se', 'fossemos', 'capazes', 'de', 'usar', 'o', 'mesmo', 'tipo', 'de', 'tecnologia', 'para', 'transmitir', 'uma', 'representação', 'dos', 'nossos', 'entes', 'queridos', 'nas', 'nossas', 'salas', 'de', 'estar', '—', 'interagir', 'de', 'uma', 'forma', 'muito', 'semelhante', 'à', '[', 'da', 'forma', ']', 'em', 'vida', 'baseado', 'em', 'todo', 'o', 'conteúdo', 'que', 'eles', 'criaram', 'enquanto', 'estavam', 'vivos', '.'], ['no', 'mesmo', 'vale', 'há', 'vestígios', 'do', 'homem', 'moderno', 'de', 'cerca', 'da', 'mesma', 'data', ',', 'há', '30.000', 'anos', '.', 'e', 'alguns', 'desses', 'são', 'de', 'cherte', 'local', ',', 'mas', 'mais', '—', 'mas', 'muitos', 'deles', 'são', 'feitos', 'de', 'obsidiana', 'encontrada', 'longe', 'do', 'local', '.'], ['o', 'actual', 'ministro', 'da', 'saúde', ',', 'aaron', 'motsoaledi', ',', 'assistiu', 'a', 'esse', 'concerto', 'e', 'eu', 'tive', 'a', 'oportunidade', 'de', 'me', 'encontrar', 'com', 'ele', 'e', 'ele', 'deu', 'o', 'seu', 'compromisso', 'absoluto', 'para', 'tentar', 'fazer', 'uma', 'mudança', ',', 'a', 'qual', 'é', 'absolutamente', 'necessária', '.'], ['o', 'amor', 'deixa-nos', 'loucos', ',', 'e', 'deixa-nos', 'doentes', '.'], ['encontrei', 'um', 'engenheiro', 'aeronáutico', 'brilhante', 'que', 'desenha', 'velas', 'para', 'os', 'iates', 'de', 'competição', 'da', 'america', \"'s\", 'cup', 'chamado', 'peter', 'heppel', '.'], ['penso', 'que', 'se', 'víssemos', 'uma', 'divulgação', 'das', 'ilhas', 'caimão', 'ou', 'mesmo', 'de', 'delaware', ',', 'de', 'wyoming', 'ou', 'da', 'nevada', ',', 'veríamos', 'muitos', 'mais', 'casos', 'e', 'exemplos', 'que', 'nos', 'ligariam', 'aos', 'norte-americanos', '.'], ['ag', ':', 'quarta', 'hipótese', '.'], ['sempre', 'foram', 'os', 'melhores', 'da', 'turma', '.'], ['isso', 'é', 'o', 'que', 'nós', 'conseguimos', 'alcançar', 'como', 'espécie', '.'], ['ele', 'era', 'primo', 'de', 'charles', 'darwin', '.'], ['três', 'anos', 'e', 'dois', 'filhos', 'depois', ',', 'erguemos', 'esta', 'rede', 'de', 'renda', 'com', '4.645', 'm2', '.'], ['quatrocentos', 'e', 'cinquenta', 'milhões', 'delas', 'estão', 'em', 'áfrica', ',', 'e', 'cinco', 'milhões', ',', 'na', 'áfrica', 'do', 'sul', '.'], ['mas', 'fiquei', 'tão', 'surpreendido', 'ao', 'ver', 'o', 'abrigo', ',', 'campo', 'de', 'refugiados', ',', 'organizado', 'pela', 'onu', '.'], ['eu', 'apaixonei-me', 'pela', 'primeira', 'vez', 'aos', '20', 'anos', ',', 'e', 'foi', 'uma', 'relação', 'bastante', 'turbulenta', 'desde', 'o', 'início', '.'], ['``', 'o', 'primeiro', 'autor', 'é', 'a', 'escola', 'primária', 'blackawton', ',', 'porque', 'se', 'alguma', 'vez', 'for', 'referido', ',', 'será', '``', \"''\", 'blackawton', 'et', 'al', '.', '``', '``', ',', 'e', 'não', 'de', 'um', 'indivíduo', '.', 'submetemo-lo', 'a', 'uma', 'revista', 'de', 'acesso', 'livre', ',', 'e', 'disseram', 'isto', '.', 'disseram', 'muitas', 'coisas', ',', 'mas', 'disseram', 'isto', ':', \"''\"], ['voz', ':', 'carta', 'marcada', 'detetada', '.', 'mt', ':', 'bom', ',', 'às', 'vezes', 'as', 'pessoas', 'perguntam-me', 'como', 'é', 'que', 'uma', 'pessoa', 'se', 'torna', 'mágico', '?', 'é', 'um', 'trabalho', 'das', '9h', 'às', '17h', '?'], ['``', 'então', ',', 'no', 'amor', ',', '``', \"''\", 'caímos', \"''\", \"''\", '.', \"''\"], ['e', 'se', 'alguém', 'lhes', 'conseguir', 'mostrar', 'que', 'o', 'resultado', 'que', 'eles', 'têm', 'com', 'os', 'doentes', 'deles', 'não', 'é', 'melhor', 'do', 'que', 'o', 'dos', 'outros', ',', 'farão', 'tudo', 'o', 'que', 'for', 'preciso', 'para', 'melhorar', '.'], ['incluem', 'impotência', ',', 'disfunção', 'erétil', ',', 'incontinência', 'urinária', ',', 'lacerações', 'retais', ',', 'incontinência', 'fecal', '.'], ['qual', 'é', 'o', 'processo', 'que', 'está', 'a', 'ter', 'o', 'mesmo', 'efeito', ',', 'na', 'evolução', 'cultural', 'que', 'o', 'sexo', 'tem', 'na', 'evolução', 'biológica', '?'], ['a', 'única', 'coisa', 'que', 'todas', 'elas', 'têm', 'em', 'comum', 'é', 'que', 'irão', 'morrer', '.'], ['toda', 'a', 'gente', 'podia', 'lá', 'ir', 'para', 'o', 'escutar', '—', 'pessoas', 'comuns', ',', 'até', 'o', 'sultão', ',', 'muçulmanos', 'e', 'não-muçulmanos', '.'], ['o', 'genocídio', 'não', 'é', 'trata', 'só', 'de', 'matar', ';', 'é', 'a', 'negação', 'da', 'identidade', '.'], ['os', 'linguistas', 'falam', 'das', 'metáforas', 'como', 'vinculações', ',', 'que', 'são', 'essencialmente', 'uma', 'forma', 'de', 'considerar', 'todas', 'as', 'implicações', 'ou', 'ideias', 'contidas', 'dentro', 'da', 'metáfora', '.'], ['isto', 'é', 'uma', 'caixa', 'que', 'acende', 'luzes', 'e', 'toca', 'música', 'quando', 'pomos', 'uns', 'determinados', 'blocos', 'em', 'cima', 'dela', 'e', 'não', 'outros', '.'], ['nos', 'últimos', '20', 'anos', ',', 'o', 'movimento', 'hearing', 'voices', 'tem', 'estabelecido', 'redes', 'em', '26', 'países', 'por', 'cinco', 'continentes', ',', 'trabalhando', 'em', 'conjunto', 'para', 'promover', 'a', 'dignidade', ',', 'solidariedade', 'e', 'o', 'poder', 'para', 'pessoas', 'em', 'distúrbio', 'mental', ',', 'de', 'forma', 'a', 'criar', 'uma', 'nova', 'linguagem', 'e', 'prática', 'de', 'esperança', ',', 'na', 'qual', ',', 'na', 'sua', 'própria', 'origem', ',', 'permanece', 'uma', 'crença', 'inabalável', 'no', 'poder', 'do', 'indivíduo', '.'], ['``', '``', \"''\", 'às', 'vezes', ',', 'sabem', ',', 'neva', 'mesmo', 'até', 'maio', ',', '``', \"''\", 'mas', 'o', 'verão', 'acaba', 'sempre', 'por', 'chegar.”', 'catorze', 'minutos', 'não', 'é', 'tempo', 'suficiente', 'para', 'dar', 'total', 'reconhecimento', 'àquelas', 'boas', 'e', 'generosas', 'pessoas', 'que', 'lutaram', 'comigo', 'e', 'por', 'mim', 'e', 'que', 'esperaram', 'para', 'me', 'acolher', 'de', 'volta', 'daquele', 'sítio', 'agonizante', 'e', 'solitário', '.', \"''\"], ['vou', 'começar', 'pelas', 'mais', 'óbvias', '.'], ['passei', 'algum', 'tempo', 'a', 'explicar', 'ao', 'médico', 'da', 'universidade'], ['então', 'fizemos', 'o', 'seguinte', ':', 'demos', 'às', 'crianças', 'de', '4', 'anos', 'esta', 'série', 'de', 'resultados', 'e', 'pedimos-lhes', 'que', 'accionassem', 'o', 'aparelho', '.'], ['então', 'perguntámos', 'ao', 'larry', 'e', 'a', 'natalie', 'hempel', 'para', 'escreverem', 'um', 'comentário', 'enquadrando', 'as', 'descobertas', 'para', 'os', 'cientistas', ',', 'colocando', 'as', 'referências', ',', 'e', 'submetemo-lo', 'à', 'revista', 'biology', 'letters', '.'], ['e', 'isso', 'terá', 'conduzido', 'à', 'especialização', '.'], ['sempre', 'fomos', 'os', 'melhores', 'da', 'turma', '.'], ['menino', ':', 'é', 'por', 'isso', '.'], ['basta', 'colocá-la', 'na', 'pele', 'e', 'não', 'precisam', 'de', 'tomar', 'banho', '.'], ['ok', ',', 'esquece', '.'], ['foi', 'por', 'isso', 'que', 'comecei', 'a', 'trabalhar', 'em', 'áreas', 'de', 'catástrofes', '.'], ['portanto', 'as', 'crianças', 'sabem', 'e', 'aprendem', 'mais', 'do', 'que', 'aquilo', 'que', 'alguma', 'vez', 'imaginámos', '.'], ['não', 'é', 'necessária', 'uma', 'cirurgia', 'aberta', '.'], ['eu', 'penso', 'exactamente', 'o', 'contrário', '.'], ['há', '13', 'cartas', 'em', 'cada', 'naipe', '.', '(', 'música', ')', 'voz', ':', 'cada', 'carta', 'representa', 'uma', 'fase', 'dos', '13', 'ciclos', 'lunares', '.'], ['como', 'se', 'organizam', '?', 'estão', 'isolados', '?'], ['creio', 'que', 'o', 'mais', 'importante', 'aqui', 'é', 'reconhecer', 'que', 'todos', 'temos', 'falhas', '.'], ['mas', 'então', ',', 'a', 'coisa', 'mais', 'engraçada', 'aconteceu', '.'], ['obrigado', '.'], ['é', 'uma', 'nova', 'tecnologia', '.', 'olham', 'através', 'destes', 'óculos', 'e', 'o', 'mundo', 'que', 'veem', 'é', 'ampliado', 'com', 'a', 'informação', 'de', 'nomes', 'de', 'locais', ',', 'de', 'monumentos', ',', 'de', 'edifícios', 'e', ',', 'talvez', 'um', 'dia', ',', 'até', 'com', 'o', 'nome', 'dos', 'estranhos', 'que', 'passam', 'por', 'nós', 'na', 'rua', '.'], ['mas', 'a', 'boa', 'notícia', 'é', ',', 'isto', 'geralmente', 'não', 'dura', 'muito', '—', 'normalmente', 'dura', 'poucos', 'meses', 'a', 'alguns', 'anos', '.'], ['nunca', 'estudei', 'escultura', ',', 'engenharia', 'ou', 'arquitetura', '.'], ['bem', ',', 'eu', 'acho', 'que', 'a', 'versão', 'mais', 'antiga', 'disso', 'é', 'provavelmente', 'a', 'divisão', 'de', 'trabalho', 'por', 'sexo', '.'], ['``', 'porque', 'eles', 'são', 'especialistas', 'em', 'brincar', '.', 'por', 'isso', ',', 'levei', 'a', 'minha', '``', \"''\", 'arena', 'de', 'abelhas', \"''\", \"''\", 'a', 'uma', 'pequena', 'escola', 'em', 'devon', ',', 'e', 'o', 'objetivo', 'disto', 'era', 'não', 'só', 'levar', 'os', 'miúdos', 'a', 'ver', 'a', 'ciência', 'de', 'maneira', 'diferente', ',', 'mas', ',', 'através', 'do', 'processo', 'da', 'ciência', ',', 'levá-los', 'a', 'verem-se', 'de', 'maneira', 'diferente', '.', \"''\"], ['mas', 'o', 'objeto', 'à', 'direita', 'foi', 'feito', 'para', 'mim', 'por', 'outra', 'pessoa', '.'], ['as', 'diferenças', 'eram', 'drásticas', '.'], ['olhei', 'à', 'volta', 'e', 'não', 'estava', 'ninguém', ',', 'mas', 'a', 'clareza', 'e', 'incisividade', 'do', 'comentário', 'não', 'levantavam', 'margem', 'para', 'erro', '.'], ['isto', 'está', 'a', 'acontecer', 'realmente', '.'], ['considerem', 'alguns', 'dados', 'por', 'um', 'momento', '.'], ['quando', 'a', 'julieta', 'de', '14', 'anos', 'conhece', 'romeu', '—ou', ',', 'quando', 'a', 'julieta', 'de', '14', 'anos', 'não', 'pode', 'estar', 'com', 'romeu', ',', 'que', 'ela', 'conheceu', 'há', 'quatro', 'dias', '—', 'não', 'se', 'sente', 'desiludida', 'ou', 'angustiada', '.'], ['aqui', 'está', 'um', 'do', 'laboratório', 'da', 'cristine', 'legare', '.'], ['quando', 'eu', 'estudava', 'aqui', 'em', 'oxford', 'nos', 'anos', '70', ',', 'o', 'futuro', 'do', 'mundo', 'era', 'sombrio', '.'], ['pronto', ',', 'é', 'uma', 'marca', 'muito', 'significativa', '.'], ['então', 'terminei', 'o', 'centro', 'pompidou', 'em', 'metz', '.'], ['no', 'total', ',', 'entre', '18', 'e', '26', 'pessoas', 'mortas', '.'], ['os', 'tasmanianos', 'estavam', 'isolados', '.'], ['o', 'amor', 'envolve', 'tanto', 'alegria', 'como', 'dor', '.'], ['é', 'como', 'estar', 'apaixonado', 'em', 'paris', 'pela', 'primeira', 'vez', 'depois', 'de', 'se', 'ter', 'tomado', 'três', 'cafés', 'curtos', '.'], ['mas', 'então', ',', 'fiquei', 'muito', 'dececionado', 'com', 'a', 'minha', 'profissão', 'de', 'arquiteto', ',', 'porque', 'não', 'estamos', 'a', 'ajudar', ',', 'não', 'estamos', 'a', 'trabalhar', 'para', 'a', 'sociedade', ',', 'estamos', 'é', 'a', 'trabalhar', 'para', 'as', 'pessoas', 'privilegiadas', ',', 'pessoas', 'ricas', ',', 'governo', ',', 'promotores', '.'], ['``', 'durante', 'essas', 'viagens', ',', 'a', 'minha', 'avó', 'costumava', 'recitar', 'um', 'poema', 'de', 'kipling', ':', '``', \"''\", 'há', 'uma', 'coisa', 'escondida', '.', 'vai', 'procurá-la', '.', \"''\"], ['e', 'aí', ',', 'foi', 'revisto', 'por', '5', 'árbitos', 'independentes', ',', 'e', 'foi', 'publicado', '.', 'ok', '?', '(', 'aplausos', ')', '(', 'aplausos', ')', 'demorámos', 'quatro', 'meses', 'para', 'fazer', 'a', 'ciência', ',', 'dois', 'anos', 'para', 'a', 'publicar', '.', '(', 'risos', ')', 'típica', 'ciência', ',', 'certo', '?', 'isto', 'faz', 'da', 'amy', 'e', 'dos', 'seus', 'amigos', 'os', 'mais', 'jovens', 'cientistas', 'publicados', 'no', 'mundo', '.'], ['ja', ':', 'temos', 'muitas', 'mas', ',', 'neste', 'momento', ',', 'estamos', 'empenhados', 'em', 'angariar', 'fundos', 'e', 'mudar', 'os', 'sistemas', '.'], ['e', 'o', 'seu', 'bebé', 'irá', 'receber', 'pmtct', ',', 'o', 'que', 'significará', 'que', 'aquele', 'bebé', 'pode', 'nascer', 'livre', 'do', 'vírus', '.'], ['menino', ':', 'e', 'que', 'tal', 'assim', '?'], ['portanto', ',', 'quando', 'pensam', 'nos', 'vossos', 'pais', 'e', 'avós', ',', 'no', 'seu', 'melhor', 'eles', 'terão', 'criado', 'algumas', 'fotos', 'e', 'vídeos', 'caseiros', ',', 'ou', 'um', 'diário', 'que', 'vive', 'numa', 'caixa', 'em', 'algum', 'lugar', '.'], ['estou', 'a', 'usar', 'este', 'material', 'escultórico', 'para', 'seguir', 'os', 'caminhos', 'dos', 'combóios', 'do', 'metro', 'à', 'superfície', 'em', 'tempo', 'real', '—', 'como', 'um', 'raio-x', 'a', 'revelar', 'o', 'sistema', 'circulatório', 'da', 'cidade', '.'], ['então', ',', 'tive', 'muita', 'sorte', 'em', 'vencer', 'a', 'competição', 'para', 'a', 'construção', 'do', 'segundo', 'centro', 'pompidou', ',', 'em', 'frança', ',', 'na', 'cidade', 'de', 'metz', '.'], ['ninguém', ',', 'literalmente', 'ninguém', '.'], ['e', 'que', 'a', 'matemática', 'está', 'na', 'base', 'de', 'todos', 'os', 'programas', 'de', 'aprendizagem', 'automáticos', 'que', 'existem', 'hoje', '.'], ['não', 'conseguiria', 'construir', 'isto', 'da', 'forma', 'que', 'sabia', ',', 'porque', 'os', 'nós', 'dados', 'à', 'mão', 'não', 'iriam', 'aguentar', 'um', 'furacão', '.'], ['por', 'exemplo', ',', 'os', 'terramotos', 'nunca', 'matam', 'pessoas', ',', 'mas', 'o', 'colapso', 'dos', 'edifícios', 'matam', 'pessoas', '.'], ['esta', 'versão', 'do', 'amor', 'permite-nos', 'decidir', 'com', 'o', 'que', 'ele', 'se', 'parece', '.'], ['nestas', 'circunstâncias', ',', 'as', 'crianças', 'estão', 'a', 'usar', 'estatísticas', 'para', 'descobrirem', 'coisas', 'sobre', 'o', 'mundo', '.', 'mas', 'afinal', 'de', 'contas', 'os', 'cientistas', 'também', 'fazem', 'experiências', 'e', 'por', 'isso', 'queríamos', 'ver', 'se', 'também', 'as', 'crianças', 'o', 'fazem', '.'], ['voz', ':', 'a', 'lua', 'é', 'um', 'dos', 'símbolos', 'mais', 'fortes', 'da', 'magia', '.'], ['depois', ',', 'podem', 'fazer-se', 'e', 'testar-se', 'previsões', '.'], ['por', 'outras', 'palavras', ',', 'é', 'necessário', 'compreender', 'como', 'as', 'ideias', 'fazem', 'sexo', '.'], ['a', 'produção', 'alimentar', 'per', 'capita', 'aumentou', 'um', 'terço', '.'], ['parafraseando', 'chavez', ',', 'uma', 'vez', 'iniciada', 'uma', 'mudança', 'social', ',', 'esta', 'não', 'pode', 'ser', 'revertida', '.'], ['percebo', 'que', 'verona', 'do', 'século', 'xvi', 'não', 'é', 'como', 'os', 'eua', 'contemporâneos', '.', 'ainda', 'assim', ',', 'quando', 'li', 'esta', 'peça', 'pela', 'primeira', 'vez', ',', 'também', 'com', '14', 'anos', ',', 'o', 'sofrimento', 'de', 'julieta', ',', 'para', 'mim', ',', 'fez', 'todo', 'o', 'sentido', '.'], ['tive', 'muita', 'sorte', 'por', 'o', 'meu', 'pai', 'ter', 'sido', 'um', 'grande', 'cozinheiro', '.'], ['eu', 'não', 'sabia', 'se', 'poderia', 'fazê-lo', 'e', 'preservar', 'a', 'minha', 'arte', '.'], ['na', 'verdade', 'isto', 'é', 'bastante', 'comum', 'em', 'crianças', 'de', '4', 'anos', '.'], ['como', 'veem', ',', 'o', 'dispositivo', 'entra', 'no', 'corpo', 'pelos', 'canais', 'naturais', '.'], ['``', 'o', '``', \"''\", 'pimp', 'my', 'carroça', \"''\", \"''\", 'invadiu', 'as', 'ruas', 'de', 'são', 'paulo', ',', 'rio', 'de', 'janeiro', 'e', 'curitiba', '.', \"''\"], ['portanto', ',', 'são', 'dois', 'minutos', '.'], ['restruturar', 'o', 'amor', 'como', 'algo', 'que', 'eu', 'consigo', 'criar', 'com', 'alguém', 'que', 'admiro', ',', 'em', 'vez', 'de', 'algo', 'que', 'acontece', 'só', 'comigo', 'sem', 'o', 'meu', 'controlo', 'ou', 'consentimento', ',', 'dá-nos', 'poder', '.'], ['mas', 'se', 'voltarmos', 'à', 'parte', 'dos', 'custos', 'da', 'equação', ',', 'e', 'olharmos', 'para', 'ela', ',', 'vemos', 'que', 'quem', 'se', 'concentrou', 'na', 'qualidade', 'foi', 'também', 'quem', 'teve', 'os', 'custos', 'mais', 'baixos', ',', 'mesmo', 'que', 'não', 'tenha', 'sido', 'o', 'primeiro', 'objetivo', '.'], ['ele', 'vestia', 'uma', 't-shirt', 'igual', 'à', 'que', 'estou', 'a', 'usar', 'neste', 'momento', '.'], ['eu', 'acho', 'este', 'princípio', 'verdadeiramente', 'fascinante', '.'], ['não', 'é', '?'], ['penso', 'que', 'aqueles', 'bebés', 'estão', 'a', 'resolver', 'cálculos', 'complexos', 'tendo', 'em', 'conta', 'probabilidades', 'condicionadas', 'que', 'usam', 'para', 'compreender', 'como', 'funciona', 'o', 'mundo', '.'], ['sou', 'neurocientista', 'e', 'sei', 'um', 'pouco', 'sobre', 'como', 'funciona', 'o', 'cérebro', 'sob', 'stress', '.'], ['é', 'por', 'isso', 'que', 'a', 'usam', 'na', 'produção', ','], ['nós', 'temos', 'que', 'pegar', 'nessas', 'ideias', 'que', 'desenvolvemos', 'em', 'criança', 'e', 'pô-las', 'em', 'prática', '.'], ['muitos', 'dos', 'fundos', 'que', 'consegui', 'angariar', 'foram', 'directamente', 'para', 'a', 'campanha', 'acção', 'tratamento', 'e', 'para', 'o', 'trabalho', 'incrível', 'que', 'elas', 'fazem', ',', 'e', 'que', 'continuam', 'a', 'fazer', 'na', 'áfrica', 'do', 'sul', '.'], ['o', 'tsunami', 'mudou', 'as', 'placas', 'tectónicas', 'da', 'terra', ',', 'aumentou', 'a', 'velocidade', 'de', 'rotação', 'do', 'planeta', 'e', 'encurtou', 'literalmente', 'a', 'duração', 'do', 'dia', '.'], ['tem', 'sido', 'esta', 'experiência', 'que', 'me', 'faz', 'sentir', 'humilde', '.'], ['isto', 'significa', '20', '%', 'do', 'orçamento', ',', 'do', 'orçamento', 'relativo', 'a', 'cuidados', 'de', 'saúde', 'do', 'país', '.'], ['o', 'meu', 'objetivo', 'para', 'o', 'projeto', 'não', 'era', 'a', 'sua', 'conclusão', '.'], ['e', 'mais', 'uma', 'vez', ',', 'em', 'edimburgo', ',', 'com', 'o', 'maravilhoso', 'coro', 'infantil', 'africano', 'que', 'eu', 'simplesmente', 'adoro', '.'], ['toda', 'a', 'gente', 'no', 'mundo', 'respeita', 'nelson', 'mandela', ',', 'todos', 'veneram', 'nelson', 'mandela', '.'], ['após', 'o', 'terramoto', 'e', 'tsunami', ',', 'as', 'pessoas', 'tiveram', 'de', 'ser', 'evacuadas', 'para', 'um', 'quarto', 'grande', ',', 'como', 'um', 'ginásio', '.'], ['vou', 'só', 'montar', 'algumas', 'drives', '.'], ['a', 'campanha', 'sing', 'é', 'basicamente', 'apenas', 'eu', 'e', 'cerca', 'de', 'três', 'ou', 'quatro', 'pessoas', 'maravilhosas', 'que', 'ajudam', 'a', 'apoiar-me', '.'], ['é', 'muito', 'complicado', 'testar', 'o', 'novo', 'material', 'de', 'construção', ',', 'mas', 'é', 'muito', 'mais', 'forte', 'do', 'que', 'eu', 'esperava', ',', 'e', 'também', 'é', 'muito', 'fácil', 'para', 'impermeabilizar', ',', 'e', 'também', ',', 'porque', 'é', 'um', 'material', 'industrial', ',', 'também', 'é', 'possível', 'ser', 'à', 'prova', 'de', 'fogo', '.'], ['``', '``', \"''\", 'podem', 'comprovar', 'que', 'têm', 'autoridade', 'legal', 'sobre', 'esse', 'documento', '?', \"''\"], ['vou', 'falar-vos', 'de', 'duas', 'linhas', 'que', 'são', 'novas', 'no', 'meu', 'trabalho', '.'], ['e', 'sinto-me', 'muito', 'honrada', 'pelo', 'facto', 'de', 'michel', 'me', 'ter', 'convidado', ',', 'apenas', 'há', 'uns', 'meses', 'atrás', ',', 'para', 'me', 'tornar', 'uma', 'embaixatriz', 'da', 'unaids', '.'], ['quando', 'é', 'que', 'isso', 'aconteceu', '?', 'não', 'sabemos', ',', 'mas', 'é', 'possível', 'que', 'os', 'neandertais', 'não', 'o', 'tenham', 'feito', '.'], ['(', 'aplausos', ')'], ['chris', 'anderson', ':', 'bem-vindo', ',', 'julian', '.'], ['ao', 'passo', 'que', 'as', 'galinhas', 'atingem', 'esse', 'nível', 'de', 'maturidade', 'em', 'poucos', 'meses', '.'], ['agora', ',', 'apenas', 'gostaria', 'de', 'terminar', 'contando-vos', 'a', 'pequena', 'história', 'sobre', 'avelile', '.'], ['claro', 'que', 'não', '!', 'têm', 'que', 'treinar', '24/7', '.'], ['uma', 'coisa', 'que', 'este', 'bebé', 'poderia', 'estar', 'a', 'pensar', ',', 'que', 'poderia', 'estar', 'a', 'passar-se', 'na', 'sua', 'cabeça', ',', 'seria', 'tentar', 'perceber', 'o', 'que', 'é', 'que', 'o', 'outro', 'bebé', 'está', 'a', 'pensar', '.'], ['e', 'o', 'mais', 'engraçado', ',', 'cada', 'saqueta', 'substitui', 'um', 'banho', 'por', 'cinco', 'rand', '(', '40', 'cêntimos', ')', '.'], ['de', 'qualquer', 'forma', ',', 'hoje', 'sou', 'escritor', 'e', 'bloguer', '.'], ['se', 'vos', 'mostrasse', 'este', 'detector', ',', 'muito', 'provavelmente', 'pensariam', 'de', 'imediato', 'que', 'a', 'melhor', 'forma', 'de', 'accioná-lo', 'seria', 'pôr', 'um', 'bloco', 'em', 'cima', 'do', 'detector', '.'], ['são', 'pesados', ',', 'volumosos', ',', 'e', 'muito', 'difíceis', 'de', 'manter', ',', 'e', 'custam', 'muito', 'dinheiro', '.'], ['esta', 'é', 'a', 'avelile', '-', 'ela', 'vai', 'comigo', 'onde', 'quer', 'que', 'eu', 'vá', '.'], ['então', ',', 'o', 'que', 'é', 'que', 'me', 'abriu', 'os', 'olhos', '?'], ['não', 'queremos', 'ter', 'de', 'pensar', 'em', 'tudo', 'na', 'hora', '.'], ['para', 'o', 'que', 'olhámos', 'em', 'detalhe', 'foi', 'para', 'as', 'redes', 'de', 'titularidade'], ['e', 'há', 'quanto', 'tempo', 'é', 'que', 'se', 'tem', 'vindo', 'a', 'manifestar', '?', 'e', 'o', 'que', 'é', 'que', 'isso', 'significa', '?'], ['a', 'fotografia', 'é', 'empatia', ',', 'e', 'a', 'familiaridade', 'destes', 'objetos', 'garante', 'a', 'empatia', '.'], ['chamamos', 'a', 'isto', 'cuidados', 'de', 'saúde', 'baseados', 'no', 'valor', '.'], ['morte', ':', 'a', 'morte', 'pode', 'apanhar-te', 'em', 'qualquer', 'lugar', ',', 'a', 'qualquer', 'altura', ',', 'até', 'numa', '[', 'loja', ']', 'orgânica', '.'], ['pelo', 'contrário', ',', 'isto', 'requer', 'que', 'confiemos', 'nos', 'nossos', 'parceiros', 'e', 'que', 'falemos', 'sobre', 'as', 'coisas', 'quando', 'confiar', 'se', 'torna', 'difícil', ',', 'o', 'que', 'soa', 'muito', 'simples', ',', 'mas', ',', 'na', 'verdade', ',', 'é', 'um', 'ato', 'um', 'tanto', 'revolucionário', 'e', 'radical', '.'], ['todos', 'sabemos', 'pequenas', 'partes', ',', 'mas', 'nenhum', 'de', 'nós', 'sabe', 'o', 'todo', '.'], ['é', ',', 'na', 'verdade', ',', 'uma', 'forma', 'de', 'ser', ',', 'que', 'está', 'aqui', 'e', 'é', 'verdadeira', 'para', 'qualquer', 'coisa', 'que', 'seja', 'criativa', '.'], ['mas', ',', 'na', 'verdade', ',', 'faz', 'todo', 'o', 'sentido', 'que', 'assim', 'seja', ',', 'porque', 'as', 'abelhas', ',', 'tal', 'como', 'nós', ',', 'podem', 'reconhecer', 'uma', 'boa', 'flor', 'independentemente', 'da', 'altura', 'do', 'dia', ',', 'da', 'luz', ',', 'do', 'tempo', ',', 'ou', 'do', 'ângulo', 'pelo', 'qual', 'a', 'abordem', '.', '(', 'aplausos', ')', 'b.l', '.', ':', 'o', 'próximo', 'passo', 'foi', 'delinear', 'uma', 'experiência', ',', 'que', 'é', 'um', 'jogo', '.', 'por', 'isso', ',', 'os', 'miúdos', 'foram', 'desenhar', 'esta', 'experiência', ',', 'e', '—', 'bem', ',', 'jogo', '—', 'e', ',', 'amy', ',', 'podes', 'dizer-nos', 'como', 'era', 'o', 'jogo', 'e', 'o', 'puzzle', 'que', 'prepararam', 'para', 'as', 'abelhas', '?'], ['e', 'o', 'que', 'fez', 'foi', 'mostrar', 'às', 'crianças', 'que', 'os', 'blocos', 'amarelos', 'acendiam', 'a', 'caixa', 'e', 'os', 'vermelhos', 'não', ',', 'tendo-lhes', 'depois', 'mostrado', 'uma', 'anomalia', '.'], ['mas', ',', 'como', 'sou', 'um', 'otimista', 'por', 'natureza', ',', 'já', 'consigo', 'ver', 'algumas', 'mudanças', '.'], ['isto', 'significaria', 'uma', 'mudança', 'de', 'paradigma', 'nos', 'cuidados', 'de', 'saúde', ',', 'e', 'eu', 'não', 'só', 'defendo', 'que', 'pode', 'ser', 'feito', ',', 'como', 'também', 'que', 'tem', 'de', 'ser', 'feito', '.'], ['(', 'música', ')', 'voz', ':', 'se', 'contarmos', 'todas', 'as', 'marcas', 'de', 'um', 'baralho', ',', 'o', 'resultado', 'é', '365', '.'], ['quando', 'comecei', 'a', 'pesquisar', 'sobre', 'o', 'amor', 'romântico', ',', 'encontrei', 'metáforas', 'sobre', 'a', 'loucura', 'por', 'todo', 'o', 'lado', '.'], ['mas', 'também', 'é', 'assim', 'que', 'podemos', 'reparar', 'o', 'nosso', 'meio', 'ambiente', '.'], ['existem', '330', 'tubos', ',', 'com', '55', 'centímetros', 'de', 'diâmetro', ',', 'mas', 'apenas', '12', 'tubos', 'com', 'um', 'diâmetro', 'de', '120', 'centímetros', ',', 'ou', 'quatro', 'pés', 'de', 'largura', '.'], ['``', 'esta', 'versão', 'de', 'amor', 'permite-nos', 'dizer', 'coisas', 'como', ':', '``', \"''\", 'ei', ',', 'não', 'somos', 'colaboradores', 'muito', 'bons', '.', 'talvez', 'isto', 'não', 'seja', 'para', 'nós', \"''\", \"''\", '.', \"''\"], ['bem', ',', 'é', 'muito', 'simples', '.'], ['mas', 'os', 'médicos', 'têm', 'outra', 'característica', '.'], ['é', 'possível', 'haver', ',', 'por', 'assim', 'dizer', ',', 'culturas', 'assexuadas', '.'], ['há', 'uma', 'razão', 'evolutiva', 'para', 'tal', '.'], ['ah', ',', 'o', 'fundo', 'desta', 'caixa', 'tem', 'electricidade', ',', 'mas', 'este', 'não', '.'], ['perdemos', 'o', 'medo', 'de', 'criar', 'uma', 'coisa', 'nova', '.'], ['alguns', 'deles', 'tentam', 'o', 'suicídio', '.'], ['fiz', 'um', 'abrigo', 'com', 'tubos', 'de', 'papel', ',', 'e', 'de', 'modo', ',', 'a', 'torná-lo', 'fácil', 'de', 'ser', 'construído', 'por', 'estudantes', 'e', 'também', 'fácil', 'de', 'demolir', ',', 'usei', 'caixas', 'de', 'cerveja', 'como', 'fundação', '.'], ['dezenas', '?', 'centenas', '?', 'milhares', '?'], ['dois', 'anos', 'mais', 'tarde', ',', 'e', 'a', 'deterioração', 'era', 'dramática', '.'], ['aqui', 'está', 'a', 'página', 'do', 'título', '.', 'temos', 'muitos', 'autores', 'ali', '.'], ['então', ',', 'propus', 'a', 'reconstrução', '.', 'angariei', ',', 'recolhi', 'fundos', '.'], ['neste', 'medicamento', ',', 'os', 'efeitos', 'secundários', 'ocorrem', 'em', '5', '%', 'dos', 'pacientes', '.'], ['não', 'é', 'assim', 'que', 'funciona', '.'], ['então', 'porque', 'é', 'que', 'me', 'revelo', 'ao', 'mundo', 'e', 'me', 'ponho', 'potencialmente', 'em', 'perigo', '?'], ['``', 'aluno', ':', '``', \"''\", 'há', 'duas', 'ali', 'em', 'cima', '.', \"''\", \"''\", \"''\"], ['estão', 'arrepiados', 'porque', 'eu', 'sei', 'o', 'que', 'vos', 'vou', 'mostrar', '.'], ['isso', 'deve-se', 'talvez', 'ao', 'facto', 'de', 'as', 'pessoas', 'importantes', 'dos', 'eua', 'não', 'terem', 'figurado', 'nesta', 'divulgação', ',', 'neste', 'escândalo', '.'], ['e', 'eu', 'parto', 'do', 'princípio', 'que', 'vocês', 'gostaram', 'deste', 'tipo', 'de', 'transformação', '.'], ['agora', '...', '(', 'risos', ')', 'ok.', '(', 'risos', ')', 'agora', 'vamos', 'fazer', 'uma', 'pequena', 'demonstração', '.'], ['as', 'cartas', 'estão', 'entre', 'os', 'símbolos', 'mais', 'antigos', 'e', 'têm', 'sido', 'interpretadas', 'de', 'diferentes', 'formas', '.'], ['como', 'ciber-mágico', ',', 'combino', 'os', 'elementos', 'de', 'ilusão', 'com', 'a', 'ciência', 'para', 'nos', 'dar', 'a', 'conhecer', 'como', 'as', 'tecnologias', 'do', 'futuro', 'poderão', 'ser', 'vividas', '.'], ['eles', 'ligam', 'toda', 'a', 'humanidade', ',', 'independentemente', 'da', 'política', 'da', 'identidade', '.', 'e', 'isso', 'são', 'as', 'boas', 'notícias', '.'], ['mt', ':', 'portanto', ',', 'aqui', 'temos', 'a', 'maré', 'baixa', 'e', 'aqui', 'a', 'maré', 'alta', 'e', 'no', 'centro', 'temos', 'a', 'lua', '.'], ['quando', 'começámos', 'a', 'nossa', 'investigação', 'na', 'bcg', ',', 'decidimos', 'não', 'nos', 'preocuparmos', 'muito', 'com', 'os', 'custos', ',', 'mas', 'antes', 'com', 'a', 'qualidade', ',', 'e', 'na', 'investigação', ',', 'uma', 'das', 'coisas', 'que', 'nos', 'fascinou', 'foi', 'a', 'diversidade', 'que', 'observámos', '.'], ['na', 'minha', 'opinião', ',', 'nem', 'sequer', 'vêm', 'dos', 'museus', '.'], ['isto', 'é', 'um', 'grande', 'problema', 'prático', '.'], ['esta', 'é', 'uma', 'venda', 'fácil', '.'], ['é', 'nojento', ',', 'acho', 'que', 'concordam', 'comigo', '.'], ['o', 'que', 'é', 'um', 'foldscope', '?'], ['portanto', ',', 'o', 'que', 'esse', 'serviço', 'faz', ',', 'de', 'forma', 'simples', ',', 'é', 'deixar-vos', 'criar', 'uma', 'mensagem', 'ou', 'vídeo', 'que', 'pode', 'ser', 'colocada', 'no', 'facebook', 'depois', 'de', 'morrerem', '.'], ['e', 'os', 'corvos', ',', 'tal', 'como', 'outros', 'pertencentes', 'à', 'família', 'corvidae', ',', 'gralhas', ',', 'etc', ',', 'são', 'aves', 'incrivelmente', 'inteligentes', '.'], ['a', 'maioria', 'dos', 'doentes', 'não', 'tem', 'meios', 'para', 'poder', 'ser', 'tratado', 'a', 'tempo', ',', 'e', 'morrem', '.'], ['portanto', ',', 'foi', 'obviamente', '-', 'foi', 'um', 'encontro', 'muito', 'emocional', 'e', 'fez-nos', 'sentir', 'muito', 'afectados', 'por', 'esta', 'experiência', 'directa', ',', 'esta', 'criança', ',', 'vocês', 'sabem', ',', 'aquela', 'história', '.'], ['submetemos', 'provavelmente', 'o', 'mais', 'curto', 'parágrafo', 'alguma', 'vez', 'apresentado', '.'], ['mudar', 'a', 'forma', 'como', 'uma', 'pessoa', 'pensa', 'sobre', 'qualquer', 'coisa', 'pode', 'ser', 'fácil', 'ou', 'difícil', '.', 'tudo', 'depende', 'da', 'forma', 'como', 'a', 'pessoa', 'se', 'sente', 'com', 'a', 'mudança', '.'], ['penso', 'poder', 'resolver', 'uma', 'parte', 'deste', 'problema', '—', 'passei', 'a', 'vida', 'a', 'trabalhar', 'em', 'parte', 'desse', 'problema', '.'], ['acho', 'que', 'até', 'me', 'queria', 'sentir', 'um', 'pouco', 'louca', ',', 'porque', 'pensava', 'que', 'era', 'assim', 'que', 'o', 'amor', 'funcionava', '.'], ['à', 'terceira', ',', 'somos', 'apenas', 'um', 'técnico', '.'], ['neste', 'momento', 'existem', '48', 'horas', 'de', 'vídeo', 'a', 'serem', 'carregadas', 'para', 'o', 'youtube', 'a', 'cada', 'minuto', '.'], ['vou', 'falar', 'de', 'uma', 'condição', 'médica', 'muito', 'específica', '.'], ['não', 'é', 'extraordinário', '?'], ['johnson', 'e', 'lakoff', 'sugerem', 'uma', 'nova', 'metáfora', 'para', 'o', 'amor', ':', 'o', 'amor', 'como', 'uma', 'obra', 'de', 'arte', 'colaborativa', '.'], ['``', '``', \"''\", 'conta-me', 'sobre', 'ti.”', 'obrigada', '.', \"''\"], ['a', 'troca', 'entre', 'grupos', 'é', 'um', 'fenómeno', 'com', 'centenas', 'de', 'milhares', 'de', 'anos', '.'], ['havia', 'uma', 'energia', 'enorme', 'na', 'sala', '.'], ['pode', 'não', 'parecer', 'muito', 'sofisticado', 'agora', ',', 'mas', 'foi', 'a', 'nossa', 'primeira', 'tentativa', 'bem', 'sucedida', 'para', 'criar', 'um', 'dispositivo', 'para', 'este', 'grande', 'problema', '.'], ['o', 'que', 'é', 'que', 'estão', 'a', 'ler', '?', 'ali', 'não', 'há', 'palavras', '.'], ['na', 'nossa', 'espécie', ',', 'não', 'gostamos', 'de', 'fazer', 'isso', '.'], ['conseguem', 'ver', 'as', 'barras', 'da', 'janela', 'ali', '.'], ['é', 'um', 'museu', 'muito', 'popular', 'agora', ',', 'e', 'criei', 'um', 'grande', 'monumento', 'para', 'o', 'governo', '.'], ['por', 'fim', ',', 'cada', 'experiência', 'de', 'amor', 'é', 'diferente', '.'], ['porque', 'nós', 'fazíamos', 'parte', 'da', 'exposição', ',', 'mesmo', 'que', 'um', 'amigo', 'me', 'quisesse', 'ver', ',', 'tinha', 'de', 'comprar', 'um', 'bilhete', '.'], ['portanto', ',', 'isto', 'está', 'em', 'construção', '.'], ['só', 'por', 'si', 'já', 'é', 'fascinante', '.'], ['clarificam-na', '.', 'fazem', 'uma', 'vela', ',', 'etc', ',', 'etc', '.'], ['e', 'é', 'esta', 'combinação', ',', 'essa', 'tecnologia', 'cumulativa', ',', 'que', 'me', 'intriga', '.', 'porque', 'eu', 'acho', 'que', 'este', 'é', 'o', 'segredo', 'para', 'compreender', 'o', 'que', 'está', 'a', 'acontecer', 'no', 'mundo', '.'], ['é', 'muito', 'gratificante', ',', 'do', 'ponto', 'de', 'vista', 'médico', 'e', 'humano', '.'], ['os', 'buracos', 'nos', 'corações', 'das', 'crianças', 'podiam', 'ser', 'fechados', 'com', 'aquilo', '.'], ['esta', 'questão', 'foi', 'colocada', 'na', 'agenda', 'política', 'pelo', 'primeiro-ministro', 'do', 'reino', 'unido', ',', 'david', 'cameron', ',', 'numa', 'cimeira', 'g8', 'que', 'teve', 'lugar', 'na', 'irlanda', 'do', 'norte', 'em', '2013', '.'], ['porque', 'a', 'perceção', 'baseia-se', 'na', 'nossa', 'experiência', '.'], ['``', '``', 'por', 'favor', 'deem', 'os', 'parabéns', 'à', 'vossa', 'equipa', 'de', 'crianças', 'da', 'minha', 'parte', '.', \"''\", 'gostaria', 'de', 'acabar', 'com', 'uma', 'metáfora', 'física', '.', \"''\"], ['então', ',', 'este', 'jogo', 'é', 'muito', 'simples', '.'], ['vou', 'partilhar', 'convosco', 'a', 'história', 'de', 'como', 'eu', 'me', 'tornei', 'numa', 'activista', 'do', 'vih/sida', '.'], ['a', 'mortalidade', 'infantil', 'diminuiu', 'dois', 'terços', '.'], ['até', 'aqui', ',', 'não', 'conseguíamos', 'ver', 'o', 'que', 'eu', 'posso', 'ver', 'num', 'destes', 'aparelhos', '.'], ['e', 'a', 'outra', 'coisa', 'da', 'qual', 'não', 'há', 'evidência', 'é', 'a', 'troca', 'entre', 'grupos', '.', 'porque', 'os', 'objetos', 'que', 'se', 'encontram', 'junto', 'aos', 'vestígios', 'dos', 'neandertais', ',', 'as', 'ferramentas', 'que', 'fabricavam', ',', 'são', 'sempre', 'feitas', 'de', 'materiais', 'locais', '.'], ['eles', 'têm', 'dinheiro', 'e', 'poder', '.'], ['mas', 'resiste', ',', 'apesar', 'de', 'estar', 'feito', 'num', 'material', 'muito', 'flexível', ',', 'como', 'o', 'papel', '.'], ['interiormente', 'estava', 'de', 'facto', 'profundamente', 'infeliz', ',', 'insegura', 'e', 'fundamentalmente', 'com', 'medo', 'medo', 'das', 'outras', 'pessoas', ',', 'do', 'futuro', ',', 'do', 'falhanço', 'e', 'do', 'vazio', 'que', 'sentia', 'estar', 'dentro', 'de', 'mim', '.'], ['e', 'este', 'é', 'o', 'nome', 'da', 'minha', 'campanha', ':', 'campanha', 'sing', '.'], ['os', 'médicos', 'e', 'enfermeiras', 'eram', 'fenomenais', '.'], ['se', 'observarmos', 'os', 'seus', 'cérebros', ',', 'vemos', 'que', 'estão', 'repletos', 'de', 'neurotransmissores', 'muito', 'bons', 'a', 'estimular', 'a', 'aprendizagem', 'e', 'a', 'plasticidade', ',', 'e', 'que', 'os', 'mecanismos', 'inibidores', 'ainda', 'não', 'se', 'desenvolveram', '.'], ['se', 'quiserem', 'saber', 'o', 'que', 'se', 'passa', 'por', 'detrás', 'daqueles', 'lindos', 'olhos', 'castanhos', ',', 'penso', 'que', 'será', 'qualquer', 'coisa', 'como', 'isto', '.'], ['comparar', 'maçãs', 'com', 'maçãs', '.', 'quem', 'é', 'o', 'melhor', '?'], ['(', 'risos', ')', '(', 'aplausos', ')', 'obrigado', '.', 'mas', 'eu', 'tinha', 'um', 'grande', 'problema', '.'], ['chimpanzés', ',', 'orcas', ',', 'esse', 'tipo', 'de', 'criaturas', ',', 'eles', 'possuem', 'cultura', '.'], ['não', 'tinha', 'um', 'guia', 'de', 'viagens', 'e', 'tinha', 'muito', 'pouco', 'dinheiro', ',', 'e', 'não', 'falava', 'espanhol', '.'], ['olhando', 'para', 'trás', 'para', 'os', 'destroços', 'e', 'desespero', 'daqueles', 'anos', ',', 'parece-me', 'agora', 'como', 'se', 'alguém', 'tivesse', 'morrido', 'naquele', 'lugar', ',', 'e', ',', 'no', 'entanto', ',', 'uma', 'outra', 'pessoa', 'foi', 'salva', '.'], ['vou', 'voltar', 'a', 'pô-la', 'no', 'baralho', ',', 'algures', 'no', 'meio', 'e', 'vamos', 'começar', '.'], ['em', 'todas', 'as', 'sociedades', 'atuais', 'de', 'caçadores-recoletores', 'há', 'uma', 'divisão', 'de', 'trabalho', 'na', 'recolha', 'de', 'alimentos', 'entre', ',', 'de', 'modo', 'geral', ',', 'homens', 'caçadores', 'e', 'mulheres', 'recoletoras', '.'], ['o', 'que', 'permite', 'fazer', 'é', 'ver', 'pequenas', 'formas', 'de', 'vida', 'que', 'são', 'invisíveis', 'a', 'olho', 'nu', '.'], ['então', ',', 'como', 'é', 'que', 'isto', 'aconteceu', '?'], ['o', 'adam', 'leva', 'quatro', 'horas', 'para', 'fazer', 'uma', 'lança', 'e', 'três', 'para', 'fazer', 'um', 'machado', '.'], ['não', 'me', 'quero', 'alargar', 'muito', 'mais', 'sobre', 'como', 'os', 'bebés', 'são', 'maravilhosos', ','], ['o', 'chris', 'alegou', 'de', 'forma', 'brilhante', '.'], ['como', 'esta', '.', 'deixem-me', 'marcá-la', 'para', 'a', 'reconhecermos', 'quando', 'a', 'virmos', 'novamente', '.'], ['e', 'o', 'que', 'temos', 'feito', 'na', 'sociedade', 'humana', ',', 'através', 'da', 'troca', 'e', 'da', 'especialização', ',', 'é', 'criar', 'a', 'capacidade', 'de', 'fazer', 'coisas', 'que', 'nem', 'sequer', 'entendemos', '.'], ['obviamente', ',', 'as', 'crianças', ',', 'com', 'base', 'nos', 'resultados', 'anteriores', ',', 'preferiram', 'abanar', 'o', 'objecto', 'por', 'cima', 'do', 'detector', '.'], ['estou', 'a', 'ver', ',', 'há', 'cerca', 'de', 'quatro', 'humvees', ',', 'ah', ',', 'ao', 'longo', '...'], ['ultrapassámos', 'a', 'capacidade', 'da', 'mente', 'humana', 'de', 'uma', 'forma', 'extraordinária', '.'], ['``', 'é', 'claro', 'que', 'estou', 'a', 'citar', 'de', 'uma', 'famoso', 'artigo', 'de', 'leonard', 'reed', ',', 'o', 'economista', 'nos', 'anos', '50', ',', 'chamado', '``', \"''\", 'eu', ',', 'lápis', \"''\", \"''\", '(', 'i', ',', 'pencil', ')', 'no', 'qual', 'ele', 'escreveu', 'sobre', 'como', 'um', 'lápis', 'é', 'feito', ',', 'e', 'como', 'ninguém', 'sabe', 'como', 'fazer', 'sequer', 'um', 'lápis', ',', 'porque', 'as', 'pessoas', 'que', 'o', 'montam', 'não', 'sabem', 'como', 'obter', 'grafite', 'de', 'uma', 'mina', '.', 'e', 'não', 'sabem', 'como', 'derrubar', 'árvores', 'e', 'esse', 'tipo', 'de', 'coisas', '.', \"''\"], ['a', 'sobrevivência', 'depende', 'da', 'comunicação', 'entre', 'o', 'sangue', 'sistémico', 'e', 'o', 'sangue', 'pulmonar', '.'], ['acredito', 'que', 'avaliar', 'o', 'valor', 'nos', 'cuidados', 'de', 'saúde', 'vai', 'criar', 'uma', 'revolução', ',', 'e', 'estou', 'convencido', 'que', 'o', 'fundador', 'da', 'medicina', 'moderna', ',', 'o', 'grego', 'hipócrates', ',', 'que', 'pôs', 'sempre', 'o', 'doente', 'no', 'centro', ',', 'deve', 'estar', 'a', 'sorrir', 'no', 'seu', 'túmulo', '.'], ['para', 'o', 'passaporte', ',', 'uma', 'gaveta', 'em', 'particular', '.'], ['``', '``', 'oh', 'meu', 'deus', ',', 'oh', 'meu', 'deus', ',', 'está', 'a', 'mexer-se', 'outra', 'vez', '!', \"''\", \"''\"], ['há', 'outra', 'coisa', 'que', 'recordo', 'vivamente', 'da', 'minha', 'pausa', 'na', 'carreira', '.'], ['e', 'como', 'tal', 'os', 'ganhos', 'da', 'troca', 'só', 'vão', 'aumentar', '.'], ['estas', 'são', 'mais', 'algumas', '.'], ['``', '``', \"''\", 'curiosidade', ',', 'interesse', ',', 'inocência', 'e', 'zelo', 'são', 'as', 'coisas', '``', \"''\", 'mais', 'básicas', 'e', 'mais', 'importantes', 'para', 'se', 'fazer', 'ciência', '.', \"''\"], ['subsequentemente', 'tornei-me', 'uma', 'representante', 'para', 'a', 'escócia', 'e', 'o', 'vih', '.'], ['o', 'que', 'era', 'realmente', 'empolgante', 'neste', 'projeto', 'era', 'que', 'nós', ',', 'e', 'o', 'beau', ',', 'não', 'tínhamos', 'ideia', 'se', 'iria', 'funcionar', '.'], ['se', 'acham', 'que', 'não', 'há', 'problema', ',', 'o', 'melhor', 'é', 'ir-me', 'embora', 'e', 'deixar', 'de', 'falar', 'em', 'vão', '.'], ['agora', 'já', 'estamos', 'a', 'começar', 'a', 'ver', 'algumas', 'experiências', 'aqui', '.'], ['pode', 'transformar-se', ',', 'sozinho', ',', 'em', 'estruturas', 'muito', 'complexas', 'por', 'um', 'processo', 'que', 'levou', 'décadas', 'a', 'aperfeiçoar', '.'], ['isto', 'é', 'prevenção', 'mesmo', 'no', 'início', 'da', 'vida', '.'], ['audiência', ':', '(', 'gritos', ')', '(', 'risos', ')', '(', 'gritos', ')', '(', 'risos', ')', 'fantástico', '.', 'agora', 'abra', 'os', 'olhos', '.', 'vamos', 'repetir', '.'], ['a', 'minha', 'primeira', 'escultura', 'satisfatória', 'foi', 'feita', 'em', 'colaboração', 'com', 'estes', 'pescadores', '.'], ['depois', ',', 'a', 'bobina', 'fecha', 'o', 'buraco', '.'], ['como', 'é', 'que', 'nos', 'tornámos', 'a', 'única', 'espécie', 'que', 'se', 'torna', 'mais', 'próspera', 'à', 'medida', 'que', 'se', 'torna', 'mais', 'populosa', '?'], ['estamos', 'numa', 'fase', 'prestes', 'a', 'construir', 'milhares', 'de', 'microscópios', '.'], ['em', 'alguns', 'aspectos', 'são', 'tão', 'inteligentes', 'como', 'os', 'chimpanzés', '.'], ['e', 'a', 'forma', 'como', 'a', 'evolução', 'parece', 'ter', 'resolvido', 'esse', 'problema', 'foi', 'com', 'uma', 'espécie', 'de', 'divisão', 'de', 'trabalho', '.'], ['começaram', 'agora', 'a', 'aprender', 'a', 'contar', '.'], ['é', 'um', 'bocado', 'exagerado', 'dizer', '24/7', ',', 'mas', 'é', 'necessário', 'praticar', '.', 'agora', ',', 'algumas', 'pessoas', 'dirão', ':', 'bem', ',', 'a', 'magia', ',', 'deve', 'ser', 'o', 'trabalho', 'dalguma', 'força', 'maléfica', 'sobrenatural', '.', '(', 'risos', ')', '(', 'aplausos', ')', '(', 'música', ')', 'uau', '.'], ['mas', 'muito', 'bons', 'a', 'absorver', 'informação', 'de', 'muitas', 'fontes', 'diversas', 'ao', 'mesmo', 'tempo', '.'], ['mas', 'não', 'havia', 'software', 'de', 'engenharia', 'que', 'modelasse', 'uma', 'coisa', 'porosa', 'e', 'móvel', '.'], ['fala-se', 'duma', 'pequena', 'invenção', 'curiosa', '.'], ['o', 'amor', 'é', 'imprevisível', ',', 'o', 'amor', 'é', 'criativo', ',', 'o', 'amor', 'requer', 'comunicação', 'e', 'disciplina', ',', 'é', 'frustrante', 'e', 'emocionalmente', 'exigente', '.'], ['era', 'para', 'ficar', 'durante', 'três', 'anos', ',', 'mas', ',', 'na', 'verdade', ',', 'ficou', '10', 'anos', ',', 'porque', 'as', 'pessoas', 'adoraram', '.'], ['é', 'um', 'objectivo', 'muito', 'ambicioso', 'mas', 'nós', 'acreditamos', 'que', 'poderá', 'ser', 'alcançado', 'com', 'vontade', 'política', '.'], ['devo', 'avisar', 'que', 'tem', 'imagens', 'impressionantes', '.'], ['estamos', 'em', '1800', '.'], ['deixem-me', 'explicar', 'através', 'desta', 'analogia', '.'], ['a', 'mulher', 'sabe', 'que', ',', 'no', 'caso', 'dos', 'hadzas', 'aqui', '—', 'escavar', 'raízes', 'para', 'compartilhar', 'com', 'os', 'homens', 'em', 'troca', 'de', 'carne', '—', 'ela', 'sabe', 'que', 'tudo', 'o', 'que', 'tem', 'de', 'fazer', 'para', 'obter', 'proteínas', 'é', 'escavar', 'algumas', 'raízes', 'extra', 'e', 'trocá-las', 'por', 'carne', '.'], ['``', '``', 'o', 'trabalho', 'seria', 'publicável', 'se', 'tivesse', 'sido', 'feito', 'por', 'adultos', '.', \"''\", 'o', 'que', 'é', 'que', 'nós', 'fizemos', '?', 'enviámo-lo', 'de', 'volta', 'ao', 'editor', '.', \"''\"], ['uma', 'em', 'cada', 'cem', 'crianças', 'no', 'mundo', 'nascem', 'com', 'uma', 'doença', 'cardíaca', '.'], ['em', 'joanesburgo', ',', 'tive', 'a', 'oportunidade', 'de', 'actuar', 'para', 'uma', 'audiência', 'sul-africana', 'maioritariamente', 'branca', ',', 'de', 'classe', 'média', 'que', 'acabou', 'em', 'lágrimas', 'porque', 'usei', 'extractos', 'de', 'filmes', 'que', 'realmente', 'tocam', 'o', 'coração', ',', 'toda', 'a', 'realidade', ',', 'desta', 'tragédia', 'terrível', 'que', 'se', 'está', 'a', 'passar', 'e', 'que', 'as', 'pessoas', 'têm', 'tendência', 'para', 'evitar', ',', 'porque', 'estão', 'exaustas', 'e', 'porque', ',', 'na', 'verdade', ',', 'não', 'sabem', 'bem', 'quais', 'são', 'as', 'soluções', '.'], ['o', 'meu', 'filho', 'tem', '23', 'anos', '.'], ['então', ',', 'esse', 'era', 'o', 'objetivo', 'do', 'meu', 'projeto', '.'], ['bom', ',', 'também', 'há', 'animais', 'que', 'trabalham', 'uns', 'para', 'os', 'outros', '.'], ['mas', 'não', 'tenho', 'provas', 'para', 'isso', '.'], ['eu', 'usei', 'os', 'contentores', 'de', 'transporte', ',', 'e', 'também', 'os', 'alunos', 'ajudaram-nos', 'a', 'fazer', 'toda', 'a', 'mobília', 'dos', 'edifícios', ',', 'para', 'torná-los', 'confortáveis\\u200b\\u200b', ',', 'dentro', 'do', 'orçamento', 'do', 'governo', ',', 'mas', 'também', 'com', 'a', 'mesma', 'a', 'área', 'da', 'casa', ',', 'mas', 'muito', 'mais', 'confortável', '.'], ['e', 'é', 'este', 'o', 'modo', 'como', 'a', 'sociedade', 'funciona', '.'], ['por', 'fim', ',', 'o', 'sacerdote', ',', 'finalmente', 'confiou', 'em', 'mim', 'para', 'reconstruir', '.'], ['e', 'entra', 'numa', 'espécie', 'de', 'negação', '—', 'anula', 'os', 'sinais', '.'], ['a', 'sua', 'forma', 'era', 'demasiado', 'complexa', 'agora', '.'], ['não', 'se', 'pode', 'humilhar', 'uma', 'pessoa', 'que', 'se', 'sente', 'orgulhosa', '.'], ['e', 'o', 'que', 'miller', 'fez', ',', 'foi', 'fazer', 'com', 'que', 'a', 'seu', 'família', 'e', 'amigos', 'escrevessem', 'um', 'post', 'que', 'fosse', 'publicado', 'pouco', 'depois', 'dele', 'morrer', '.'], ['recebi', 'uma', 'chamada', 'de', 'uma', 'amiga', 'de', 'phoenix', '.'], ['quando', 'o', 'meu', 'primeiro', 'romance', 'escrito', 'em', 'inglês', 'saiu', 'nos', 'eua', ',', 'ouvi', 'um', 'interessante', 'comentário', 'de', 'um', 'crítico', 'literário', '.'], ['e', 'o', 'homem', 'sabe', 'que', 'não', 'tem', 'de', 'escavar', 'nada', 'para', 'obter', 'raízes', '.'], ['``', 'porque', 'através', 'da', 'nuvem', ',', 'através', 'de', 'fontes', 'de', 'informação', 'acumuladas', 'por', 'multidões', ',', 'através', 'do', 'mundo', '``', \"''\", 'bottom-up', \"''\", \"''\", '(', 'da', 'base', 'para', 'o', 'topo', ')', 'que', 'criámos', ',', 'onde', 'não', 'apenas', 'as', 'elites', ',', 'mas', 'todos', 'são', 'capazes', 'de', 'ter', 'as', 'suas', 'ideias', 'e', 'fazer', 'com', 'que', 'estas', 'se', 'encontrem', 'e', 'acasalem', ',', 'estamos', 'certamente', 'a', 'acelerar', 'o', 'ritmo', 'da', 'inovação', '.', \"''\"], ['apresentam', 'à', 'sociedade', 'os', 'problemas', 'do', 'estigma', '.'], ['isso', 'não', 'aconteceu', 'em', 'tierra', 'del', 'fuego', '—', 'ilha', 'semelhante', ',', 'pessoas', 'semelhantes', '.'], ['naquele', 'momento', ',', 'percebi', 'quanta', 'energia', 'negativa', 'é', 'precisa', 'para', 'conservar', 'aquele', 'ódio', 'dentro', 'de', 'nós', '.'], ['``', 'portanto', ',', 'depois', 'de', 'ver', 'estas', 'estatísticas', 'chocantes', ',', 'pensei', ':', '``', \"''\", 'ok', ',', 'mesmo', 'que', 'não', 'seja', 'só', 'para', 'mim', ',', 'e', 'mesmo', 'que', 'não', 'me', 'queira', 'lavar', ',', 'preciso', 'pelo', 'menos', 'de', 'fazer', 'isto', 'para', 'tentar', 'salvar', 'o', 'mundo', '.', \"''\", \"''\", '(', 'risos', ')', 'portanto', ',', 'com', 'a', 'minha', 'pequena', 'mota', ',', 'o', 'meu', 'telémovel', '—', 'não', 'tinha', 'um', 'portátil', ',', 'nem', 'muita', 'internet', ',', 'excepto', 'a', 'dos', 'cibercafés', '—', 'fiz', 'pesquisas', 'na', 'wikipedia', ',', 'no', 'google', ',', 'sobre', 'loções', ',', 'cremes', ',', 'as', 'composições', ',', 'pontos', 'de', 'fusão', ',', 'as', 'toxicidades', '—', 'fiz', 'trabalhos', 'de', 'ciência', '—', 'e', 'escrevi', 'uma', 'pequena', 'fórmula', 'numa', 'folha', 'de', 'papel', \"''\"], ['hotel', '...', 'bushmaster', 'dois-seis', ',', 'bushmaster', 'dois-seis', ','], ['alguém', 'mais', 'aventureiro', 'que', 'eu', 'talvez', 'tivesse', 'visto', 'neste', 'momento', 'uma', 'oportunidade', ',', 'mas', 'eu', 'apenas', 'congelei', '.'], ['é', 'um', 'tipo', 'interessante', 'de', 'circuito', 'de', 'resposta', '.'], ['parece', 'que', 'abanar', 'é', 'uma', 'estratégia', 'mais', 'eficaz', 'do', 'que', 'a', 'outra', '.'], ['a', 'mensagem', 'que', 'a', 'unaids', 'se', 'encontra', 'correntemente', 'a', 'enviar', 'ao', 'mundo', 'é', 'que', 'gostaríamos', 'de', 'ver', 'a', 'eliminação', 'virtual', 'da', 'transmissão', 'do', 'vírus', 'da', 'mãe', 'para', 'a', 'criança', 'até', '2015', '.'], ['todos', 'eles', 'estavam', 'a', 'trabalhar', 'para', 'mim', ',', 'para', 'me', 'fazer', 'um', 'mouse', '.'], ['muito', 'caro', ',', 'trocaram-nos', 'por', 'dinheiro', ',', 'depois', ',', 'cortaram', 'árvores', 'novamente', '.'], ['rapidamente', 'descobriram', 'que', 'se', 'pusessem', 'cimento', 'no', 'osso', 'do', 'doente', 'antes', 'de', 'colocaram', 'o', 'eixo', 'de', 'metal', ',', 'este', 'duraria', 'muito', 'mais', ',', 'e', 'a', 'maioria', 'dos', 'doentes', 'já', 'não', 'precisaria', 'de', 'voltar', 'a', 'ser', 'operado', 'durante', 'a', 'sua', 'vida', '.'], ['o', 'número', 'necessário', 'para', 'tratar', 'para', 'a', 'estatina', 'mais', 'receitada', '...', 'qual', 'acham', 'que', 'é', '?'], ['o', 'que', 'é', 'isto', ',', 'o', 'nnt', '?'], ['portanto', ',', 'o', 'que', 'me', 'fez', 'começar', 'a', 'pensar', 'acerca', 'disto', 'foi', 'um', 'post', 'num', 'blogue', '[', 'escrito', ']', 'no', 'início', 'deste', 'ano', ',', 'da', 'autoria', 'de', 'derek', 'k.', 'miller', 'que', 'era', 'um', 'jornalista', 'de', 'ciencia', 'e', 'tecnologia', 'que', 'morreu', 'de', 'cancro', '.'], ['voz', ':', 'acho', 'que', 'concretizaste', 'o', 'teu', 'desejo', '.', 'mt', ':', 'e', 'assim', ',', 'fico', 'com', 'a', 'última', 'e', 'a', 'mais', 'importante', 'carta', 'de', 'todas', '.', 'a', 'que', 'tem', 'esta', 'marca', 'tão', 'significativa', '.'], ['podem', 'imaginar', 'como', 'algo', 'assim', 'poderá', 'ser', 'daqui', 'a', 'cinco', ',', '10', 'ou', '20', 'anos', 'à', 'medida', 'que', 'as', 'nossas', 'capacidades', 'técnicas', 'melhoram', '.'], ['lembrem-se', ',', 'estas', 'pessoas', 'são', 'totalmente', 'normais', 'noutros', 'aspetos', '.'], ['a', 'maioria', 'de', 'nós', 'sente-se', 'assim', 'a', 'primeira', 'vez', 'que', 'se', 'apaixona', '.'], ['afinal', ',', 'uma', 'das', 'coisas', 'mais', 'difíceis', 'de', 'fazer', 'para', 'todos', 'nós', 'é', 'tentar', 'decifrar', 'o', 'que', 'as', 'outras', 'pessoas', 'estão', 'a', 'pensar', 'e', 'sentir', '.'], [\"a.o't\", '.', ':', 'obrigada', ',', 'beau', '.', 'nós', 'pensámos', 'que', 'era', 'fácil', 'ver', 'a', 'ligação', 'entre', 'humanos', 'e', 'macacos', 'na', 'nossa', 'maneira', 'de', 'pensar', ',', 'porque', 'somos', 'parecidos', '.'], ['ao', 'regressar', 'à', 'índia', 'para', 'trabalhar', 'com', 'aqueles', 'pescadores', ',', 'fizemos', 'uma', 'rede', 'de', 'um', 'milhão', 'e', 'meio', 'de', 'nós', 'dados', 'à', 'mão', '—', 'instalada', 'por', 'pouco', 'tempo', 'em', 'madrid', '.'], ['tenho', 'uma', 'amiga', 'francófona', 'que', 'é', 'casada', 'com', 'um', 'francês', '.'], ['não', ',', 'não', '.', 'o', 'outro', 'lado', '.'], ['``', 'b.l', '.', ':', '``', \"''\", 'podes', 'ajudar-me', ',', 'henry', '?', \"''\", \"''\", 'qual', 'é', 'o', 'bom', 'cientista', 'que', 'diz', 'isto', ',', 'certo', '?', \"''\"], ['isso', 'é', 'exatamente', 'o', 'que', 'é', 'uma', 'experiência', '.'], ['``', 'por', 'isso', ',', 'com', 'estas', 'duas', 'ideias', ',', 'que', 'a', 'ciência', 'é', 'uma', 'forma', 'de', 'ser', 'e', 'que', 'as', 'experiências', 'são', 'brincadeiras', ',', 'perguntámos', ':', '``', \"''\", 'pode', 'qualquer', 'um', 'tornar-se', 'um', 'cientista', '?', \"''\", \"''\", \"''\"], ['tantas', 'cirurgias', 'desnecessárias', ',', 'e', 'tanto', 'sofrimento', 'desnecessário', 'para', 'todos', 'os', 'doentes', 'que', 'foram', 'operados', 'naquele', 'período', 'de', 'sete', 'anos', '.'], ['e', 'ela', 'não', 'precisa', 'de', 'ir', 'a', 'uma', 'caça', 'exaustiva', 'e', 'tentar', 'matar', 'um', 'javali', '.'], ['havia', 'tantas', 'ideias', ',', 'tanto', 'entusiasmo', '.'], ['ele', 'ajudou-me', 'a', 'resolver', 'os', 'desafios', 'gémeos', 'da', 'forma', 'precisa', 'e', 'do', 'delicado', 'movimento', '.'], ['tem', 'de', 'fechar', 'os', 'seus', 'olho', ',', 'e', 'tem', 'de', 'apontar', 'para', 'onde', 'me', 'ouvir', 'a', 'bater', 'palmas', '?', 'está', 'bem', '?'], ['no', 'ano', 'de', '2010', ',', 'no', 'haiti', ',', 'houve', 'um', 'grande', 'terramoto', ',', 'mas', 'era', 'impossível', 'sobrevoá-lo', ',', 'então', 'fui', 'para', 'santo', 'domingo', ',', 'no', 'país', 'ao', 'lado', ',', 'conduzi', 'durante', 'seis', 'horas', 'para', 'chegar', 'ao', 'haiti', 'com', 'os', 'estudantes', 'locais', 'de', 'santo', 'domingo', ',', 'para', 'construirmos', '50', 'unidades', 'de', 'abrigos', 'com', 'tubos', 'de', 'papel', 'locais', '.'], ['como', 'mora', 'na', 'europa', ',', 'ele', 'pode', 'optar', 'por', 'ir', 'para', 'a', 'alemanha', 'que', 'tem', 'um', 'sistema', 'de', 'cuidados', 'de', 'saúde', 'com', 'uma', 'boa', 'reputação', '.'], ['mas', ',', 'na', 'verdade', ',', 'isso', 'cria', 'um', 'problema', 'enorme', ',', 'porque', 'como', 'podemos', 'alguma', 'vez', 'ver', 'de', 'modo', 'diferente', '?'], ['como', 'conseguimos', 'isso', '—', 'independentemente', 'de', 'se', 'achar', 'isso', 'bom', 'ou', 'não', '—'], ['agora', ',', 'eu', 'devia', 'dizer', 'que', 'não', 'tivemos', 'financiamento', 'para', 'este', 'estudo', 'porque', 'os', 'cientistas', 'disseram', 'que', 'as', 'crianças', 'pequenas', 'não', 'poderiam', 'fazer', 'uma', 'contribuição', 'útil', 'para', 'a', 'ciência', ',', 'e', 'os', 'professores', 'disseram', 'que', 'os', 'miúdos', 'não', 'o', 'conseguiriam', 'fazer', '.'], ['somos', 'atingidos', '.'], ['dei', 'a', 'volta', 'rapidamente', 'e', 'tentei', 'as', 'outras', 'portas', 'e', 'janelas', ',', 'que', 'estavam', 'fechadas', '.'], ['estes', 'são', 'apenas', 'alguns', 'exemplos', '.'], ['0,2', 'metros', 'daqui', '...', '.', '...', 'até', 'aqui', ',', '20', 'centímetros', '.'], ['o', 'que', 'acontece', 'quando', 'prestamos', 'atenção', 'é', 'que', 'o', 'córtex', 'pré-frontal', ',', 'digamos', 'a', 'parte', 'executiva', 'dos', 'nossos', 'cérebros', ',', 'envia', 'um', 'sinal', 'que', 'torna', 'uma', 'pequena', 'parte', 'do', 'nosso', 'cérebro', 'mais', 'flexível', ',', 'mais', 'plástica', ',', 'mais', 'apta', 'para', 'aprender', ',', 'e', 'suspende', 'toda', 'e', 'qualquer', 'actividade', 'no', 'resto', 'do', 'nosso', 'cérebro', '.'], ['acho', 'que', 'a', 'verdadeira', 'educação', 'em', 'ciência', 'devia', 'dar', 'voz', 'às', 'pessoas', 'e', 'a', 'capacidade', 'de', 'expressarem', 'essa', 'voz', '.', 'por', 'isso', 'pedi', 'à', 'amy', 'para', 'ser', 'a', 'última', 'voz', 'nesta', 'pequena', 'história', '.'], ['o', 'interessante', 'é', 'que', 'tudo', 'isto', 'ocorre', 'numa', 'cultura', 'que', 'valoriza', 'a', 'monogamia', 'para', 'a', 'vida', 'toda', '.'], ['eles', 'são', 'maus', 'a', 'livrarem-se', 'de', 'tudo', 'o', 'que', 'os', 'rodeia', 'e', 'a', 'focarem-se', 'apenas', 'no', 'que', 'é', 'importante', '.'], ['basta', 'quebrá-las', 'pelo', 'meio', ',', 'e', 'espreme-se', '.'], ['dois-seis', ',', 'aqui', 'dois-seis', '...', '.'], ['elas', 'estão', 'em', 'bares', 'e', 'cafés', 'e', 'restaurantes', 'e', 'lojas', 'por', 'toda', 'a', 'cidade', 'de', 'paris', '.', 'e', 'estão', 'todas', 'prontas', 'para', 'servir', 'uma', 'excelente', 'refeição', 'provavelmente', 'com', 'melhor', 'qualidade', 'do', 'que', 'até', 'luís', 'xiv', 'teve', '.'], ['estará', 'para', 'sempre', 'disponível', 'livremente', 'através', 'da', 'revista', 'biology', 'letters', '.'], ['é', 'algo', 'que', 'nos', 'acontece', 'sem', 'o', 'nosso', 'consentimento', '.'], ['fiquei', 'ali', 'sentada'], ['e', 'muitas', 'reformas', 'pretendem', 'travar', 'este', 'crescimento', '.'], ['os', 'nossos', 'cérebros', 'são', 'maiores', 'em', 'relação', 'aos', 'nossos', 'corpos', 'do', 'que', 'em', 'qualquer', 'outro', 'animal', '.'], ['a', 'minha', 'ideia', 'é', ':', 'não', '!', 'não', '!'], ['eles', 'publicaram', 'os', 'dados', ',', 'e', 'isto', 'mudou', 'mesmo', 'as', 'práticas', 'clínicas', 'no', 'país', '.'], ['a', 'nossa', 'consciência', 'sobre', 'aquilo', 'a', 'que', 'prestamos', 'atenção', 'torna-se', 'extremamente', 'vívida', 'e', 'brilhante', 'enquanto', 'tudo', 'o', 'resto', 'se', 'apaga', ';'], ['e', 'que', 'uma', 'parte', 'do', 'governo', 'albanês', 'estaria', 'comprometido', ',', 'etc.', ',', 'etc', '.'], ['o', 'sol', 'de', 'limpopo', 'durante', 'o', 'inverno', 'fica', 'mesmo', 'quente', '.'], ['como', 'se', 'vê', 'na', 'foto', ',', 'ali', 'dentro', 'é', 'o', 'w.c..'], ['redenção', ',', 'fumo', '.'], ['o', 'que', 'acontece', 'então', 'não', 'é', 'que', 'a', 'nossa', 'consciência', 'se', 'contraia', ',', 'pelo', 'contrário', ',', 'expande-se', 'de', 'modo', 'a', 'que', 'aqueles', 'três', 'dias', 'em', 'paris', 'pareçam', 'mais', 'cheios', 'de', 'consciência', 'e', 'experiência', 'do', 'que', 'todos', 'os', 'meses', 'a', 'caminhar', ',', 'a', 'falar', 'e', 'a', 'ir', 'a', 'reuniões', 'em', 'piloto', 'automático', 'na', 'nossa', 'cidade', '.'], ['o', 'que', 'acontece', 'com', 'os', 'adultos', 'é', 'que', 'decidimos', 'se', 'algo', 'é', 'relevante', 'ou', 'importante', ',', 'e', 'se', 'devemos', 'prestar', 'atenção', 'a', 'isso', '.'], ['esqueçam', 'o', 'holocausto', 'nuclear', '.', 'é', 'com', 'o', 'garfo', 'que', 'temos', 'que', 'nos', 'preocupar', '.'], ['eles', 'não', 'acreditamos', 'que', 'fosse', 'um', 'produto', 'local', '.'], ['e', 'visitavam-se', 'uns', 'aos', 'outros', 'para', 'tentarem', 'aprender', ',', 'criando', 'um', 'ciclo', 'contínuo', 'de', 'melhoria', '.'], ['e', 'transportou-me', 'para', 'o', 'passado', '.'], ['obrigado', '.'], ['consegue-se', 'que', 'alcancem', 'coisas', 'inimagináveis', '.'], ['é', 'por', 'isso', 'que', 'começaram', 'a', 'fornecer', 'tubos', 'de', 'alumínio', ',', 'abrigos', 'de', 'alumínio', '.'], ['a', 'combinação', 'das', 'cores', 'é', 'muito', 'importante', '.'], ['e', 'gostaria', 'de', 'continuar', 'a', 'construir', 'monumentos', ',', 'que', 'são', 'amados', 'por', 'pessoas', '.'], ['e', 'este', 'é', 'um', 'pássaro', 'na', 'capa', 'da', 'revista', 'science', 'que', 'aprendeu', 'a', 'usar', 'uma', 'ferramenta', 'para', 'conseguir', 'comida', '.'], ['é', 'bastante', 'extraordinário', 'o', 'que', 'elas', 'fazem', '.'], ['assim', 'experimentámos', 'com', 'minúsculas', 'partículas', 'atomizadas', 'de', 'água', 'para', 'criar', 'uma', 'névoa', 'seca', 'que', 'fosse', 'modelada', 'pelo', 'vento', '.', 'e', 'ao', 'testarmos', 'descobrimos', 'que', 'pode', 'ser', 'modelada', 'por', 'pessoas', 'que', 'podem', 'interagir', 'e', 'mover-se', 'através', 'dela', 'sem', 'se', 'molharem', '.'], ['portanto', ',', 'para', 'nós', ',', 'esta', 'obra', 'também', 'representa', 'a', 'sua', 'própria', 'contradição', '.'], ['com', 'a', 'minha', 'mulher', 'e', 'colega', ',', 'dra', '.', 'alexandra', 'heath', ',', 'começámos', 'a', 'ver', 'doentes', '.'], ['é', 'um', 'fenómeno', 'extraordinário', ',', 'mas', 'é', 'verdade', '.'], ['esta', 'é', 'extraordinária', '.'], ['ok.', 'um', ',', 'dois', ',', 'três', '...', '(', 'risos', ')', 'se', 'fossem', 'portugueses', ',', 'certo', '?', 'e', 'este', '?', 'um', ',', 'dois', ',', 'três', '...'], ['nada', 'disso', 'aconteceu', '.', '(', 'risos', ')', 'e', 'surpreendentemente', ',', 'se', 'vocês', 'olharem', 'para', 'o', 'que', 'realmente', 'aconteceu', 'durante', 'o', 'meu', 'tempo', 'de', 'vida', ',', 'a', 'média', 'do', 'rendimento', 'per', 'capita', 'do', 'indivíduo', 'comum', 'no', 'planeta', ',', 'em', 'termos', 'reais', ',', 'tendo', 'em', 'conta', 'a', 'inflação', ',', 'triplicou', '.'], ['a', 'razão', 'é', 'porque', 'a', 'tierra', 'del', 'fuego', 'é', 'separada', 'da', 'américa', 'do', 'sul', 'por', 'um', 'estreito', 'muito', 'menor', '.', 'e', 'havia', 'contato', 'para', 'efetuar', 'trocas', 'entre', 'os', 'dois', 'lados', 'do', 'estreito', 'durante', '10.000', 'anos', '.'], ['“ela', 'vai', 'a', 'uma', 'palestra.”'], ['creio', 'que', 'os', 'bebés', 'e', 'crianças', 'pequenas', 'têm', 'mais', 'um', 'candeeiro', 'de', 'consciência', 'do', 'que', 'um', 'foco', 'de', 'consciência', '.'], ['(', 'risos', ')', 'menino', ':', 'esta', 'acendeu', 'e', 'esta', 'nada', '.'], ['muitas', 'das', 'pessoas', 'querem', 'ficar', 'aqui', 'para', 'sempre', '.'], ['as', 'probabilidades', 'de', 'vos', 'sairem', 'estas', 'cartas', 'são', 'de', '4165', 'para', '1', '.'], ['a', 'introdução', 'diz', 'qual', 'é', 'a', 'pergunta', 'e', 'porquê', '.'], ['continuamos', 'a', 'ter', 'esse', 'caldo', 'de', 'monstros', ',', 'que', 'impera', 'nos', 'países', 'em', 'desenvolvimento', 'em', 'volta', 'da', 'faixa', 'tropical', '.'], ['``', 'é', 'um', 'autorretrato', 'intitulado', '``', \"''\", 'ancas', 'largas', \"''\", \"''\", '.', '(', 'risos', ')', 'nós', 'erguemo-las', 'em', 'postes', 'para', 'fotografar', '.', \"''\"], ['(', 'palmas', ')', '(', 'palmas', ')', 'ok', ',', 'e', 'se', 'toda', 'a', 'gente', 'aqui', 'deste', 'lado', 'gritasse', '.', 'um', ',', 'dois', ',', 'três', '...'], ['``', \"a.o't\", '.', ':', 'o', 'puzzle', 'que', 'preparámos', 'era', 'uma', 'condição', '``', \"''\", 'se-então', \"''\", \"''\", '.', \"''\"], ['assim', ',', 'gostaria', 'de', 'vos', 'mostrar', 'algo', 'em', 'que', 'tenho', 'trabalhado', '.'], ['ambos', ',', 'adam', 'e', 'oz', ',', 'pouparam', 'uma', 'hora', '.'], ['o', 'coração', 'dói-nos', ',', 'e', 'depois', 'parte-se', '.'], ['♪', 'carrossel', ',', '♪', 'carrossel', ',', '♪', 'carrossel', ',', '♪', 'carrossel', ','], ['por', 'isso', 'quando', 'dizemos', 'que', 'os', 'bebés', 'e', 'as', 'crianças', 'pequenas', 'são', 'maus', 'a', 'prestar', 'atenção', ',', 'o', 'que', 'queremos', 'dizer', 'é', 'que', 'eles', 'são', 'maus', 'a', 'não', 'prestar', 'atenção', '.'], ['nos', 'últimos', '20', 'anos', ',', 'a', 'ciência', 'do', 'desenvolvimento', 'inverteu', 'essa', 'imagem', 'por', 'completo', '.'], ['portanto', ',', 'muitos', 'de', 'vós', 'estão', 'provavelmente', 'familiarizados', 'com', 'o', 'deb', 'roy', 'que', ',', 'em', 'março', ',', 'demonstrou', 'como', 'era', 'capaz', 'de', 'analisar', 'mais', 'de', '90,000', 'horas', 'de', 'vídeos', 'caseiros', '.'], ['e', 'há', 'outra', 'diferença', 'também', ',', 'é', 'que', 'o', 'objeto', 'da', 'esquerda', 'é', 'feito', 'de', 'uma', 'só', 'substância', '.'], ['o', 'presidente', 'da', 'empresa', 'que', 'faz', 'mouses', 'não', 'sabe', '.'], ['a', 'partir', 'daí', ',', 'passaram', 'a', 'publicar', 'todos', 'os', 'anos', '.'], ['e', 'agir', 'como', 'se', 'tivesse', 'gostado', 'ou', 'não', '.'], ['sinto-me', 'agora', 'orgulhosa', 'de', 'pertencer', 'à', 'intervoice', ',', 'a', 'organização', 'do', 'movimento', 'internacional', 'hearing', 'voices', ',', 'uma', 'iniciativa', 'inspirada', 'pelo', 'trabalho', 'do', 'professor', 'marius', 'romme', 'e', 'da', 'dra', '.', 'sandra', 'escher', ',', 'que', 'posiciona', 'a', 'audição', 'de', 'vozes', 'como', 'uma', 'estratégia', 'de', 'sobrevivência', ',', 'uma', 'reação', 'sã', 'a', 'circunstâncias', 'loucas', ',', 'não', 'como', 'um', 'sintoma', 'aberrante', 'de', 'esquizofrenia', 'a', 'ser', 'perpetuado', ',', 'mas', 'uma', 'complexa', ',', 'importante', 'e', 'significativa', 'experiência', 'a', 'ser', 'explorada', '.'], ['acho', 'que', 'este', 'é', 'o', 'problema', '.'], ['deixo-vos', 'com', 'esta', 'história', '.'], ['embora', 'isto', 'pareça', 'um', 'simples', 'brinquedo', ',', 'os', 'aspectos', 'de', 'engenharia', 'que', 'constituem', 'uma', 'coisa', 'como', 'esta', ',', 'são', 'bastante', 'sofisticados', '.'], ['os', 'alemães', ',', 'os', 'franceses', ',', 'os', 'japoneses', 'e', 'os', 'chineses', ','], ['eles', 'trocavam', 'os', 'machados', 'com', 'os', 'seus', 'vizinhos', 'por', 'coisas', 'como', 'ferrões', 'de', 'raias', '.', 'e', 'o', 'resultado', 'era', 'que', 'machados', 'de', 'pedra', 'acabaram', 'por', 'aparecer', 'numa', 'grande', 'parte', 'da', 'austrália', '.'], ['se', 'um', 'cardiologista', 'chamar', 'outro', 'cardiologista', 'a', 'um', 'hospital', 'concorrente', 'e', 'discutir', 'porque', 'é', 'que', 'aquele', 'outro', 'hospital', 'tem', 'resultados', 'muito', 'melhores', ',', 'eles', 'vão', 'partilhar', '.'], ['eu', 'sou', 'escritora', 'e', 'também', 'professora', 'de', 'inglês', ',', 'ou', 'seja', ',', 'ganho', 'a', 'vida', 'a', 'pensar', 'em', 'palavras', '.'], ['podemos', 'ter', 'uma', 'empresa', 'colocada', 'por', 'cima', 'de', 'outra', 'empresa', ',', 'colocada', 'por', 'cima', 'de', 'outra', 'empresa', ',', 'tornando', 'praticamente', 'impossível', 'perceber', 'quem', 'está', 'por', 'trás', 'dessas', 'estruturas', '.'], ['e', 'aqui', 'está', 'ela', 'com', 'sete', 'anos', 'de', 'idade', ',', 'pesando', 'não', 'mais', 'do', 'que', 'um', 'bebé', 'de', 'um', 'ano', '.'], ['depois', 'concentrei-me', 'no', 'modelo', 'do', 'negócio', '.'], ['e', 'as', 'galinhas', ',', 'os', 'patos', ',', 'os', 'gansos', 'e', 'os', 'perus', 'são', 'burros', 'que', 'nem', 'portas', '.'], ['por', 'isso', 'tentei', 'verificar', 'que', 'fatores', 'foram', 'mais', 'importantes', 'para', 'o', 'sucesso', 'e', 'fracasso', 'das', 'empresas', '.'], ['eu', 'acho', 'que', 'a', 'resposta', 'é', 'a', 'troca', ',', 'o', 'hábito', 'de', 'trocar', 'uma', 'coisa', 'por', 'outra', '.'], ['é', 'uma', 'parte', 'essencial', 'dos', 'orçamentos', 'nacionais', '.'], ['e', 'na', 'verdade', ',', 'em', 'muitos', 'aspectos', 'são', 'piores', 'que', 'inúteis', ',', 'tendo', 'em', 'conta', 'o', 'tempo', 'e', 'energia', 'que', 'gastamos', 'só', 'para', 'mantê-los', 'vivos', '.'], ['do', 'lado', 'esquerdo', 'deste', 'diapositivo', ',', 'podem', 'ver', 'várias', 'peças', 'de', 'metal', ',', 'ancas', 'artificiais', 'utilizadas', 'em', 'alguém', 'que', 'precise', 'de', 'uma', 'anca', 'nova', '.'], ['propus', 'uma', 'grande', 'reconstrução', ',', 'uma', 'sala', 'de', 'concertos', 'temporária', ',', 'porque', \"l'aquila\", 'é', 'muito', 'famosa', 'pela', 'música', 'e', 'todas', 'as', 'salas', 'de', 'concertos', 'foram', 'destruídas', ',', 'por', 'isso', ',', 'os', 'músicos', 'estavam', 'a', 'ir-se', 'embora', '.'], ['eles', 'aprendem', 'mesmo', 'com', 'o', 'reconhecimento', 'dos', 'seus', 'pares', '.'], ['e', 'comecei', 'a', 'chorar', '.'], ['eles', 'não', 'têm', 'uma', 'área', 'plana', 'o', 'suficiente', 'para', 'se', 'construirem', 'habitações', 'governamentais', 'padrão', 'térreas', 'como', 'esta', '.'], ['acorda', '.'], ['eu', 'mostrei-lhes', 'as', 'minhas', 'experiências', 'e', ',', 'mais', 'uma', 'vez', ',', 'tentei', 'sensibilizar', '.'], ['como', 'poderemos', 'fazer', 'algo', 'novo', '?', 'bem', ',', 'felizmente', ',', 'a', 'evolução', 'deu-nos', 'a', 'resposta', ',', 'certo', '?'], ['a', 'ciência', 'não', 'é', 'definida', 'pela', 'parte', 'do', 'método', 'de', 'um', 'artigo', 'científico', '.'], ['todos', 'vamos', 'falhar', ',', 'de', 'vez', 'em', 'quando', '.'], ['um', 'serviço', 'chamado', 'my', 'next', 'tweet', '(', 'o', 'meu', 'próximo', 'tweet', ')', 'analisa', 'toda', 'a', 'informação', 'do', 'vosso', 'twitter', ',', 'tudo', 'o', 'que', 'publicaram', 'no', 'twitter', ',', 'para', 'fazer', 'predições', 'acerca', 'do', 'que', 'vão', 'dizer', 'a', 'seguir', '.'], ['podem', 'dizer', 'que', 'estes', 'números', 'são', 'fantásticos', ',', 'e', 'é', 'tudo', 'lógico', ',', 'mas', 'isto', 'é', 'possível', '?'], ['os', 'seus', 'cérebros', 'em', 'média', 'eram', ',', 'no', 'final', ',', 'maiores', 'do', 'que', 'aqueles', 'que', 'temos', 'nós', 'aqui', 'nesta', 'sala', 'hoje', '.'], ['dois', 'minutos', ',', 'dois', 'minutos', ',', 'dois', 'minutos', '.'], ['mt', ':', 'adeus', '.', '(', 'música', ')', 'obrigado', '.', '(', 'aplausos', ')', '(', 'aplausos', ')', 'muito', 'obrigado', '.', '(', 'aplausos', ')', '(', 'aplausos', ')'], ['se', 'a', 'perceção', 'se', 'fundamenta', 'na', 'nossa', 'história', ',', 'isso', 'significa', 'que', 'só', 'respondemos', 'de', 'acordo', 'com', 'o', 'que', 'fizemos', 'antes', '.'], ['é', 'brincar', '.'], ['pois', 'bem', ',', 'isto', 'pode', 'parecer', 'um', 'processo', 'ainda', 'mais', 'difícil', 'de', 'demonstrar', '.'], ['quano', 'o', 'nível', 'do', 'mar', 'aumentou', ',', 'e', 'a', 'tasmânia', 'tornou-se', 'uma', 'ilha', 'há', '10.000', 'anos', ',', 'as', 'pessoas', 'que', 'nela', 'viviam', ',', 'não', 'experienciaram', 'apenas', 'um', 'progresso', 'mais', 'lento', 'do', 'que', 'as', 'pessoas', 'no', 'continente', ',', 'mas', 'sofreram', 'na', 'verdade', 'uma', 'regressão', '.'], ['será', 'muito', 'bom', ',', 'mas', 'também', 'a', 'um', 'custo', 'muito', 'elevado', '.'], ['e', 'estou', 'a', 'sentir', '-', 'os', 'pêlos', 'no', 'meu', '-', 'não', 'sei', 'se', 'conseguem', 'ver', 'os', 'pêlos', 'nos', 'meus', 'braços', '.'], ['mas', 'um', 'turista', 'moderno', 'que', 'esteja', 'a', 'andar', 'pelo', 'palácio', 'de', 'versailles', 'e', 'a', 'olhar', 'para', 'os', 'quadros', 'de', 'luís', 'xiv', ',', 'também', 'tem', '498', 'pessoas', 'a', 'fazer-lhe', 'o', 'jantar', '.'], ['pequenos', 'ajustes', 'podem', 'conduzir', 'a', 'grandes', 'mudanças', '.'], ['o', 'caso', 'é', 'que', 'nós', 'vivemos', 'no', 'presente', 'do', 'indicativo', '.'], ['todos', 'aqueles', 'a', 'negrito', 'são', 'de', 'crianças', 'entre', 'os', '8', 'e', 'os', '10', 'anos', '.'], ['mesmo', 'assim', ',', 'é', 'difícil', '.'], ['♪', 'todos', 'se', 'juntam', 'à', 'tua', 'volta', '♪', 'quando', 'a', 'sorte', 'está', 'do', 'teu', 'lado', '.'], ['várias', 'doenças', 'desenvolvem-se', 'neste', 'ambiente', ',', 'sendo', 'a', 'mais', 'drástica', 'de', 'todas', 'a', 'tracoma', '.'], ['mas', 'acho', 'que', 'me', 'senti', 'como', 'se', 'a', 'minha', 'função', 'fosse', 'ser', 'infeliz', ',', 'porque', ',', 'se', 'pudesse', 'ser', 'infeliz', ',', 'poderia', 'provar', 'quanto', 'o', 'amava', '.'], ['se', 'tiver', 'mesmo', 'que', 'ser', ',', 'eu', 'tenho', 'uma', 'receita', '.'], ['e', 'se', 'quisermos', 'ver', 'como', 'o', 'van', 'gogh', 'de', 'facto', 'criou', 'esta', 'obra-prima', '?'], ['introduz-se', 'isto', 'aqui', '.'], ['ou', 'seja', ',', 'numa', 'primeira', 'fase', 'estamos', 'completamente', 'protegidos', ','], ['portanto', ',', 'pensei', ',', 'temos', 'a', 'fórmula', 'pronta', '.'], ['mas', 'é', 'muito', 'melhor', 'do', 'que', 'a', 'alternativa', ',', 'que', 'é', 'aquela', 'coisa', 'que', 'nos', 'faz', 'sentir', 'como', 'se', 'fôssemos', 'loucos', '.'], ['começam', 'com', 'uma', 'pergunta', '.'], ['ao', 'passo', 'que', 'se', 'fizerem', 'a', 'coisa', 'mais', 'óbvia', ',', 'pôr', 'o', 'bloco', 'em', 'cima', 'do', 'detector', ',', 'ele', 'activar-se-á', 'apenas', 'duas', 'em', 'seis', 'vezes', '.'], ['em', '2009', ',', 'em', 'itália', ',', \"l'aquila\", ',', 'também', 'tiveram', 'um', 'grande', 'terramoto', '.'], ['o', 'que', 'nós', '-', 'betty', 'rapacholi', ',', 'minha', 'aluna', ',', 'e', 'eu', '-', 'fizemos', 'foi', 'dar', 'aos', 'bebés', 'dois', 'pratos', 'de', 'comida', ':', 'um', 'prato', 'com', 'brócolos', 'crus', 'e', 'um', 'com', 'bolachas', 'deliciosas', 'em', 'forma', 'de', 'peixinho', '.'], ['finalmente', ',', 'pensem', 'nesta', 'cena', 'famosa', 'da', 'noite', 'de', 'eleições', 'de', '2008', 'nos', 'estados', 'unidos', ',', 'quando', 'a', 'cnn', 'transmitiu', 'um', 'holograma', 'ao', 'vivo', 'do', 'artista', 'de', 'hip', 'hop', 'will.i.am', 'nos', 'seus', 'estúdios', 'numa', 'entrevista', 'com', 'o', 'anderson', 'cooper', '.'], ['``', '(', 'risos', ')', 'certo', '?', 'está', 'a', 'obter', 'informação', '.', 'está', 'a', 'gerar', 'comportamento', 'que', 'é', 'útil', '.', '(', 'risos', ')', 'pessoa', 'no', 'vídeo', ':', '``', \"''\", 'ai', '!', 'ai', '!', \"''\", \"''\", 'b.l', '.', ':', 'e', 'às', 'vezes', ',', 'quando', 'as', 'coisas', 'não', 'correm', 'como', 'queremos', ',', 'ficamos', 'um', 'pouco', 'aborrecidos', ',', 'certo', '?', \"''\"], ['a', 'única', 'coisa', 'que', 'não', 'ardia', 'na', 'fogueira', 'era', 'um', 'ramo', 'verde', 'de', 'abacateiro'], ['ela', 'é', 'a', 'personificação', 'da', 'coragem', ',', 'porque', 'vai', 'estar', 'aqui', 'e', 'falar', 'para', 'todos', 'vocês', '.'], ['experimentámos', 'isto', 'com', 'bebés', 'de', '15', 'e', '18', 'meses', '.'], ['esta', 'é', 'kathleen', 'maxian', '.'], ['puseram-na', 'numa', 'dieta', 'nutritiva', 'muito', 'especial', 'e', 'tomaram', 'muito', 'bem', 'conta', 'dela', '.'], ['``', 'audiência', ':', '``', \"''\", 'o', 'que', 'é', 'que', 'estão', 'a', 'ler', '?', \"''\", \"''\", \"''\"], ['depois', ',', 'o', 'edifício', 'foi', 'reciclado', '.'], ['uma', 'delas', 'é', 'aproveitar', 'aquela', 'real', '...'], ['então', 'como', 'é', 'que', 'fazemos', 'a', 'pergunta', '?'], ['``', '``', \"''\", 'li', 'blackawton', 'bees', 'recentemente', '.', 'não', 'tenho', '``', 'palavras', 'para', 'explicar', 'exatamente', 'como', 'me', 'estou', 'a', 'sentir', '.', \"''\", \"''\"], ['ele', 'não', 'precisa', 'do', 'adam', '.'], ['a', 'partir', 'daqui', ',', 'podemos', 'fazer', 'o', 'mesmo', 'tipo', 'de', 'registos', ',', 'não', 'só', 'de', 'imagens', 'estáticas', ',', 'mas', 'também', 'de', 'vídeo', '.'], ['o', 'mesmo', 'não', 'acontece', 'com', 'a', 'linguagem', '.'], ['observaram', 'quantos', 'doentes', 'precisaram', 'de', 'ser', 'novamente', 'operados', 'no', 'espaço', 'de', 'sete', 'anos', 'após', 'a', 'primeira', 'cirurgia', '.'], ['joker', ':', 'pronto', '!', 'mt', ':', 'mostra-me', 'o', 'que', 'tens', '.'], ['eu', 'tive', 'muita', ',', 'muita', 'sorte', 'uns', 'anos', 'depois', 'por', 'ter', 'conhecido', 'zackie', 'achmat', ',', 'o', 'fundador', 'da', 'campanha', 'acção', 'tratamento', ',', 'um', 'militante', 'e', 'activista', 'fora', 'de', 'série', '.'], ['para', 'ser', 'justa', ',', 'eu', 'estava', 'desesperada', 'por', 'interesse', 'e', 'ajuda', ',', 'e', 'comecei', 'a', 'contar-lhe', 'acerca', 'do', 'meu', 'estranho', 'comentador', '.'], ['para', 'testar', 'isto', 'utilizámos', 'um', 'aparelho', 'ao', 'qual', 'demos', 'o', 'nome', 'de', 'detector', 'blicket', '.'], ['``', 'então', 'propus', 'ao', 'presidente', 'da', 'câmara', ':', '``', 'gostaria', 'de', 'reconstruir', 'o', 'auditório', 'temporário', '.', \"''\", \"''\"], ['ou', 'aqui', '.'], ['aqui', 'vou', 'mostrar-vos', 'dois', 'videoclipes', 'simultâneos', '.'], ['lembro-me', ',', 'por', 'exemplo', ',', 'de', 'estar', 'sentada', 'numa', 'noite', 'de', 'guarda', 'à', 'porta', 'do', 'quarto', 'dos', 'meus', 'pais', ',', 'para', 'os', 'proteger', 'daquilo', 'que', 'eu', 'considerava', 'ser', 'uma', 'ameaça', 'genuína', 'por', 'parte', 'das', 'vozes', '.'], ['os', 'agentes', 'da', 'mudança', 'são', 'os', 'médicos', 'e', 'os', 'enfermeiros', 'no', 'sistema', 'de', 'cuidados', 'de', 'saúde', '.'], ['tinha-me', 'saído', 'bem', 'na', 'escola', '.', 'as', 'expectativas', 'para', 'mim', 'eram', 'grandes', 'e', 'entrei', 'animada', 'na', 'vida', 'de', 'estudante', 'de', 'palestras', ',', 'festas', 'e', 'roubos', 'de', 'cones', 'sinalizadores', '.'], ['(', 'aplausos', ')'], ['``', 'e', 'de', 'certo', 'modo', ',', 'devido', 'ao', 'estigma', ',', 'por', 'vestir', 'esta', 't-shirt', 'eu', 'digo', ',', '``', \"''\", 'sim', ',', 'podemos', 'falar', 'sobre', 'este', 'assunto', '.', \"''\"], ['mas', 'e', 'se', 'quisermos', 'ver', 'as', 'pinceladas', '?'], ['muito', 'obrigado', '.'], ['atualmente', 'também', 'sou', 'o', 'melhor', 'empresário', 'estudante', 'no', 'mundo', ',', 'o', 'primeiro', 'africano', 'a', 'receber', 'essa', 'honra', ',', 'e', 'uma', 'coisa', 'que', 'me', 'baralha', 'é', 'que', ',', 'fiz', 'tudo', 'isto', ',', 'apenas', 'porque', 'não', 'me', 'queria', 'lavar', '.', 'obrigado', '.'], ['deixem-me', 'mostrar-vos', 'um', 'que', 'fizemos', 'com', 'um', 'aluno', 'meu', ',', 'tumar', 'kushner', '.'], ['menino', ':', 'o', 'que', 'faz', 'esta', 'acender', '?'], ['``', 'há', 'cinco', 'meses', ',', 'realizei', 'um', '``', \"''\", 'workshop', \"''\", \"''\", 'no', 'maior', 'hospital', 'universitário', 'da', 'europa', 'do', 'norte', '.', \"''\"], ['em', '1986', ',', 'muito', 'tempo', 'antes', 'de', 'as', 'pessoas', 'começarem', 'a', 'falar', 'sobre', 'as', 'questões', 'ecológicas', 'e', 'ambientais', ',', 'eu', 'comecei', 'a', 'testar', 'o', 'tubo', 'de', 'papel', ',', 'de', 'modo', 'a', 'usá-lo', 'como', 'uma', 'estrutura', 'de', 'construção', '.'], ['``', '(', 'vídeo', ')', 'd.s', '.', ':', '``', \"''\", 'então', 'o', 'que', 'vamos', 'fazer', '?', \"''\", \"''\", 'aluno', ':', '``', \"''\", '5c', '.', \"''\", \"''\", \"''\"], ['por', 'exemplo', ',', 'se', 'eu', 'estava', 'zangada', 'e', 'tinha', 'de', 'o', 'esconder', ',', 'o', 'que', 'acontecia', 'frequentemente', ',', 'sendo', 'eu', 'bastante', 'adepta', 'de', 'esconder', 'o', 'que', 'realmente', 'sentia', ',', 'então', 'a', 'voz', 'soava', 'frustrada', '.'], ['a', 'atenção', 'e', 'consciência', 'dos', 'adultos', 'funciona', 'como', 'um', 'foco', '.'], ['em', '2010', ',', 'comecei', 'a', 'notar', 'algo', '.'], ['e', 'mais', ',', 'eles', 'sentiram', 'que', 'deviam', 'fazer', 'o', 'possível', 'de', 'forma', 'a', 'ajudar', 'as', 'outras', 'pessoas', 'a', 'terem', 'o', 'que', 'queriam', '.'], ['(', 'aplausos', ')', 'obrigado', '.', '(', 'aplausos', ')'], ['somos', 'os', 'neurónios', 'nesse', 'cérebro', '.'], ['e', 'esta', 'é', 'toda', 'a', 'informação', 'metadata', '.'], ['uma', 'epidemia', 'de', 'cancro', 'causada', 'por', 'produtos', 'químicos', 'no', 'ambiente', 'ameaçava', 'encurtar', 'as', 'nossas', 'vidas', '.'], ['então', 'pergunto-me', ',', 'o', 'que', 'é', 'um', 'edifício', 'permanente', 'e', 'o', 'que', 'é', 'um', 'temporário', '?'], ['nós', 'construímos', '50', 'unidades', 'para', 'fazer', 'um', 'ensaio', 'para', 'a', 'durabilidade', ',', 'a', 'humidade', 'e', 'as', 'térmitas', ',', 'assim', 'por', 'diante', '.'], ['♪', 'bem', ',', 'talvez', 'eu', 'seja', 'cínica', ',', '♪', 'e', 'estas', 'palavras', 'sejam', 'mentiras', ',', '♪', 'mas', 'a', 'experiência', 'diz-me', '♪', 'que', 'o', 'cauteloso', 'é', 'sábio', '.'], ['e', 'sim', ',', 'a', 'minha', 'campanha', 'sing', 'deu', 'apoio', 'à', 'campanha', 'acção', 'tratamento', 'na', 'forma', 'como', 'eu', 'tenho', 'tentado', 'sensibilizar', 'assim', 'como', 'tentar', 'angariar', 'fundos', '.'], ['quando', 'começou', 'a', 'escrever', 'em', 'inglês', ',', 'já', 'tinha', 'uma', 'boa', 'bagagem', '.'], ['então', 'o', 'todo', 'é', 'literalmente', 'mais', 'do', 'que', 'a', 'soma', 'das', 'suas', 'partes', '.'], ['é', 'pá', ',', 'desculpa', '.', 'o', 'que', 'se', 'passa', '?'], ['foi', 'munida', 'deste', 'conhecimento', 'que', 'acabei', 'por', 'reunir', 'o', 'meu', 'estilhaçado', '‘eu’', ',', 'cada', 'fragmento', 'representado', 'por', 'uma', 'voz', 'diferente', ',', 'retirar', 'gradualmente', 'toda', 'a', 'medicação', ',', 'e', 'voltar', 'à', 'psiquiatria', ',', 'mas', 'desta', 'vez', 'do', 'outro', 'lado', '.'], ['depois', 'de', 'muitas', 'tentativas', ',', 'e', 'com', 'a', 'ajuda', 'dos', 'amigos', 'indígenas', 'da', 'minha', 'avó', ',', 'nas', 'montanhas', ',', 'criámos', 'um', 'novo', 'dispositivo', '.'], ['esse', 'era', 'o', 'problema', '.', '(', 'risos', ')'], ['então', ',', 'em', 'conclusão', ',', 'para', 'mim', ',', 'o', 'principal', 'é', 'que', 'todas', 'as', 'coisas', 'espantosas', 'aqui', 'não', 'vêm', ',', 'na', 'verdade', ',', 'da', 'google', '.'], ['menino', ':', 'acendeu', '!'], ['por', 'isso', ',', 'tivemos', 'de', 'criar', 'uma', '.'], ['e', 'isso', 'é', 'o', 'que', 'temos', 'feito', ',', 'porque', 'estamos', 'a', 'trabalhar', 'uns', 'para', 'os', 'outros', '.'], ['apesar', 'de', 'isso', 'poder', 'ser', 'um', 'pensamento', 'um', 'tanto', 'ou', 'quanto', 'mórbido', ',', 'eu', 'penso', 'que', 'tem', 'implicações', 'muito', 'profundas', 'que', 'valem', 'a', 'pena', 'explorar', '.'], ['os', 'investigadores', 'acreditam', 'que', 'os', 'baixos', 'níveis', 'de', 'serotonina', 'estão', 'correlacionados', 'com', 'pensamentos', 'obsessivos', 'sobre', 'o', 'objeto', 'do', 'amor', ',', 'que', 'é', 'como', 'sentir', 'que', 'alguém', 'montou', 'um', 'acampamento', 'no', 'nosso', 'cérebro', '.'], ['ora', 'bem', ',', 'porque', 'é', 'que', 'as', 'empresas', 'estão', 'a', 'adotar', 'os', 'estágios', 'de', 'reentrada', '?'], ['isto', 'também', 'não', 'é', 'fácil', '.'], ['aprendemos', 'algumas', 'coisas', 'na', 'comercialização', 'e', 'disponibilização', 'do', 'drybath', '.'], ['infelizmente', ',', 'a', 'resposta', 'é', 'afirmativa', '.'], ['eu', 'disse', ',', 'leiam', 'o', 'que', 'veem', '.', 'certo', '?'], ['não', 'podia', 'construir', 'isto', 'com', 'um', 'anel', 'de', 'aço', ',', 'da', 'forma', 'que', 'sabia', '.'], ['afinal', ',', 'as', 'decisões', 'relativas', 'a', 'custos', 'nos', 'cuidados', 'de', 'saúde', 'são', 'tomadas', 'por', 'médicos', 'e', 'enfermeiros', '.'], ['depois', 'desse', 'momento', 'de', 'inspiração', ',', 'seguiu-se', 'um', 'longo', 'período', 'de', 'trabalho', 'para', 'desenvolver', 'um', 'protótipo', '.'], ['b.l', '.', ':', 'isto', 'é', 'o', 'suprassumo', 'da', 'tecnologia', '.', 'certo', '.', 'ok', '.'], ['acho', 'que', 'será', 'justo', 'dizer', ',', 'que', 'é', 'praticamente', 'toda', 'a', 'gente', 'dentro', 'da', 'sala', '.'], ['esta', 'aldeia', 'piscatória', 'era', 'famosa', 'pela', 'escultura', '.'], ['por', 'outras', 'palavras', ',', 'uma', 'pessoa', 'comum', 'com', 'a', 'média', 'salarial', 'não', 'podia', 'pagar', 'uma', 'vela', 'em', '1800', '.'], ['isto', 'soa', 'terrível', '.'], ['sinto-me', 'honrado', 'pelo', 'convite', ',', 'e', 'agradeço', '.'], ['há', 'duas', 'coisas', 'impressionantes', 'em', 'relação', 'a', 'isto', '.'], ['e', 'mais', 'atrás', ',', 'em', '1880', ',', 'teriam', 'sido', 'necessários', '15', 'minutos', 'com', 'a', 'média', 'salarial', ',', 'para', 'obter', 'esse', 'tanto', 'de', 'luz', '.'], ['e', '46664', 'é', 'o', 'número', 'que', 'mandela', 'tinha', 'enquanto', 'esteve', 'preso', 'na', 'ilha', 'robben', '.'], ['``', 'provei', 'os', 'brócolos', '.', 'mmmmm', '.', \"''\", \"''\", 'e', 'depois', 'provava', 'uma', 'bolacha', 'e', 'dizia', '``', \"''\", 'uuuu', ',', 'blhac', ',', 'bolachas', '.', \"''\"], ['e', 'lembrem-se', 'deste', 'número', ':', 'mil', 'milhões', '.'], ['mas', 'fazer', 'grandes', 'moldes', 'era', 'demasiado', 'pesado', 'e', 'despendioso', '.'], ['não', 'me', 'refiro', 'a', 'literalmente', '24', 'horas', 'pelos', 'sete', 'dias', 'da', 'semana', '.'], ['todos', 'conhecem', 'isto', 'do', 'oitavo', 'ano', ',', 'lembram-se', '?'], ['qualquer', 'pessoa', 'que', 'tenha', 'enveredado', 'pela', 'política', 'pode', 'confirmar', 'como', 'isso', 'é', 'difícil', 'para', 'alguns', '.'], ['então', 'fomos', 'lá', 'para', 'construir', 'divisórias', ',', 'com', 'todos', 'os', 'estudantes', 'voluntários', 'e', 'tubos', 'de', 'papel', ',', 'apenas', 'um', 'simples', 'abrigo', 'com', 'uma', 'estrutura', 'tubular', 'e', 'a', 'cortina', '.'], ['``', 'antes', 'de', 'mais', ',', 'eu', 'pedi', 'para', 'que', 'assim', 'que', 'o', 'meu', 'corpo', 'fosse', 'finalmente', 'abaixo', 'por', 'causa', 'das', 'tormentas', 'do', 'meu', 'cancro', ',', 'nesse', 'momento', ',', 'a', 'minha', 'família', 'e', 'amigos', 'publicassem', 'esta', 'mensagem', 'que', 'eu', 'escrevi', '—', 'a', 'primeira', 'parte', 'do', 'processo', 'de', 'transformar', 'isto', 'de', 'uma', 'página', 'da', 'web', 'activa', ',', 'num', 'arquivo', '.', \"''\", \"''\", 'agora', ',', 'enquanto', 'jornalista', ',', 'o', 'arquivo', 'de', 'miller', 'tem', 'sido', 'escrito', 'de', 'melhor', 'forma', 'e', 'curado', 'com', 'mais', 'cuidados', 'que', 'a', 'maioria', ',', 'a', 'realidade', 'é', 'que', 'todos', 'nós', 'hoje', 'estamos', 'a', 'criar', 'um', 'arquivo', 'que', 'é', 'ago', 'absolutamente', 'diferente', 'de', 'qualquer', 'outra', 'coisa', 'que', 'tenha', 'sido', 'criada', 'por', 'qualquer', 'geração', 'anterior', '.', \"''\"], ['descobri', 'que', 'as', 'suas', 'superfícies', 'suaves', 'revelavam', 'cada', 'oscilação', 'do', 'vento', 'em', 'padrões', 'que', 'se', 'alteravam', 'continuamente', '.'], ['porque', 'se', 'abanarmos', 'um', 'bloco', 'por', 'cima', 'do', 'detector', ',', 'algo', 'que', 'nem', 'sequer', 'pensámos', ',', 'o', 'detector', 'activar-se-á', 'duas', 'em', 'cada', 'três', 'vezes', ','], ['``', 'ora', ',', 'há', '``', \"''\", 'reiniciadores', \"''\", \"''\", 'bem', 'sucedidos', 'em', 'todo', 'o', 'lado', 'e', 'em', 'todos', 'os', 'campos', '.', \"''\"], ['faz', 'sentido', 'investirmos', 'tanto', 'esforço', 'em', 'fazer', 'com', 'que', 'os', 'bebés', 'pensem', 'como', 'os', 'adultos', ','], ['e', ',', 'no', 'entanto', ',', 'a', 'ironia', 'é', 'que', 'a', 'única', 'maneira', 'de', 'podermos', 'fazer', 'qualquer', 'coisa', 'nova', 'é', 'dar', 'um', 'passo', 'nessa', 'direção', '.'], ['tinha-o', 'visto', 'todos', 'os', 'dias', ',', 'mas', 'desta', 'vez', 'olhei', 'de', 'maneira', 'diferente', '—', 'uma', 'nova', 'aproximação', 'à', 'escultura', ',', 'uma', 'maneira', 'de', 'fazer', 'uma', 'forma', 'volumétrica', 'sem', 'materiais', 'sólidos', ',', 'pesados', '.'], ['prometendo', 'fazer', 'exposições', 'das', 'pinturas', ',', 'enviei', 'as', 'minhas', 'tintas', 'e', 'cheguei', 'a', 'mahabalipuram', '.'], ['se', 'há', 'alguma', 'coisa', 'que', 'nós', 'insistimos', 'em', 'fazer', 'por', 'nós', 'próprios', ',', 'é', 'a', 'reprodução', '.'], ['um', 'exemplo', 'é', 'a', 'tasmânia', '.'], ['voltariam', 'a', 'ser', 'consumidores', ',', 'consumidores', 'desinformados', ',', 'como', 'nós', 'somos', 'quase', 'sempre', '.'], ['(', 'risos', ')', 'uma', 'sensação', 'fantástica', ',', 'mas', 'que', 'tem', 'tendência', 'a', 'deixar-nos', 'acordados', 'até', 'às', 'três', 'da', 'manhã', 'a', 'chorar', '.', '(', 'risos', ')'], ['somo', 'únicos', ',', 'somos', 'insubstituíveis', '.'], ['todos', 'eles', 'concluíram', 'que', 'cada', 'um', 'tinha', 'a', 'sua', 'forma', 'de', 'operar', '.'], ['ardemos', 'de', 'paixão', '.'], ['deem', 'cabo', 'deles', 'todos', '.'], ['ao', ':', 'yeah', '.'], ['mas', 'suspeito', 'que', 'este', 'tipo', 'de', 'experiência', 'amorosa', 'não', 'é', 'incomum', '.'], ['ag', ':', 'qualquer', 'cientista', 'reconhece', 'aquela', 'expressão', 'de', 'desespero', '.'], ['``', '``', \"''\", 'está', 'preso', 'num', 'espasmo', 'e', 'é', 'extremamente', 'doloroso', '.', \"''\"], ['morte', ':', 'vai', 'ao', 'ifidie.net', 'antes', 'que', 'seja', 'tarde', 'demais', '.'], ['é', 'esse', 'tipo', 'de', 'atenção', ',', 'de', 'consciência', 'que', 'podemos', 'esperar', 'daquelas', 'borboletas', 'que', 'estão', 'programadas', 'para', 'aprender', '.'], ['os', 'idiomas', 'não', 'servem', 'apenas', 'para', 'conversar', ','], ['o', 'meu', 'objetivo', 'era', 'para', 'quando', 'o', 'edifício', 'fosse', 'demolido', ',', 'porque', 'cada', 'país', 'constrói', 'vários', 'pavilhões', ',', 'mas', 'meio', 'ano', 'depois', ',', 'criamos', 'muitos', 'resíduos', 'industriais', ',', 'por', 'isso', ',', 'o', 'meu', 'edifício', 'tinha', 'de', 'ser', 'reutilizado', 'ou', 'reciclado', '.'], ['os', 'médicos', 'só', 'têm', 'que', 'introduzir', 'o', 'cateter', 'através', 'do', 'buraco', '.'], ['para', 'a', 'comunidade', ',', 'contudo', ',', 'temos', 'que', 'começar', 'pelo', 'princípio', '.'], ['mas', 'isso', 'é', 'errado', '.'], ['muito', 'obrigada', '.'], ['bem', ',', 'a', 'resposta', 'veio', 'de', 'david', 'ricardo', 'em', '1817', '.'], ['são', 'as', 'que', 'questionam', 'as', 'coisas', 'que', 'pensamos', 'serem', 'verdade', '.', 'certo', '?'], ['então', ',', 'eu', 'construí', 'esta', 'estrutura', 'temporária', ',', 'em', '1990', '.'], ['em', '1999', ',', 'na', 'turquia', ',', 'o', 'grande', 'terramoto', ',', 'fui', 'lá', 'para', 'usar', 'os', 'materiais', 'locais', 'para', 'construir', 'um', 'abrigo', '.'], ['(', 'risos', ')', 'adam', 'ostrow', ':', 'é', 'um', 'bocado', 'mórbido', ',', 'certo', '?'], ['na', 'global', 'witness', ',', 'quisemos', 'descobrir', 'como', 'é', 'que', 'isto', 'se', 'apresentaria', 'na', 'prática', '.'], ['por', 'isso', ',', 'se', 'voltarmos', 'à', 'história', 'da', 'cirurgia', 'às', 'ancas', ',', 'fez-se', 'um', 'estudo', 'há', 'alguns', 'anos', ',', 'em', 'que', 'compararam', 'os', 'eua', 'e', 'a', 'suécia', '.'], ['vocês', 'estão', 'a', 'olhar', '...', '(', 'aplausos', ')', 'isto', 'é', 'um', 'corte', 'transversal', 'de', 'um', 'olho', 'composto', '.', 'quando', 'me', 'aproximo', 'mais', ',', 'aqui', 'mesmo', ',', 'estou', 'a', 'percorrer', 'o', 'eixo', 'z', '.'], ['``', 'esta', 'é', 'uma', 'parte', 'espetacular', '.', 'chama-se', '``', \"''\", 'collections', \"''\", \"''\", '.', \"''\"], ['ninguém', 'sabe', '.'], ['assim', ',', 'sempre', 'que', 'falo', ',', 'vocês', 'podem', 'ver', 'no', 'ecrã', '.'], ['então', ',', 'se', 'o', 'amor', 'é', 'uma', 'obra', 'de', 'arte', 'colaborativa', ',', 'então', 'o', 'amor', 'é', 'uma', 'experiência', 'estética', '.'], ['afinal', 'de', 'contas', ',', 'os', 'bebés', 'não', 'falam', 'e', 'se', 'perguntarem', 'a', 'um', 'bebé', 'de', 'três', 'anos', 'o', 'que', 'está', 'a', 'pensar', 'apenas', 'vão', 'conseguir', 'um', 'bonito', 'monólogo', 'de', 'pensamentos', 'sobre', 'póneis', 'e', 'aniversários', 'e', 'coisas', 'do', 'género', '.'], ['por', 'isso', ',', 'em', 'casa', ',', 'escolham', 'um', 'lugar', 'para', 'as', 'chaves', ';', 'um', 'gancho', 'junto', 'à', 'porta', ',', 'talvez', 'uma', 'taça', 'decorativa', '.'], ['duas', 'tribos', ',', 'hutus', 'e', 'tutsis', ',', 'lutaram', 'entre', 'si', '.'], ['percebemos', 'que', 'podíamos', 'poupar', '80', 'milhões', 'de', 'litros', 'de', 'água', ',', 'em', 'média', ',', 'cada', 'vez', 'que', 'dispensavam', 'um', 'banho', ',', 'e', 'também', 'podíamos', 'poupar', 'duas', 'horas', 'por', 'dia', 'aos', 'meninos', 'nas', 'zonas', 'rurais', '—', 'mais', 'duas', 'horas', 'para', 'a', 'escola', ',', 'mais', 'duas', 'horas', 'para', 'os', 'trabalhos', 'de', 'casa', ',', 'mais', 'duas', 'horas', 'para', 'ser', 'criança', '.'], ['portanto', 'esta', 'é', 'a', 'minha', 'campanha', 'sing', '.'], ['todos', 'foram', 'combinados', 'nesta', 'tecnologia', '.'], ['e', 'outra', 'coisa', 'que', 'aprendi', 'durante', 'todo', 'este', 'processo', '—', 'no', 'ano', 'passado', 'a', 'google', 'nomeou-me', 'como', 'uma', 'das', 'jovens', 'mentes', 'mais', 'brilhantes', 'do', 'mundo', '.'], ['na', 'clínica', 'em', 'que', 'sou', 'consultor', ',', 'conheço', 'provavelmente', 'uma', 'centena', 'ou', 'mais', 'do', 'que', 'uma', 'centena', 'de', 'médicos', 'e', 'enfermeiros', 'e', 'outras', 'equipas', 'hospitalares', 'ou', 'de', 'cuidados', 'de', 'saúde', 'todos', 'os', 'anos', '.'], ['e', 'essa', 'grande', 'desvantagem', 'é', 'que', ',', 'até', 'concluirmos', 'todo', 'o', 'processo', 'de', 'aprendizagem', ',', 'seremos', 'indefesos', '.'], ['(', 'risos', ')', 'aqui', 'estamos', 'a', 'usar', 'a', 'mesma', 'palavra', 'para', 'falar', 'de', 'amor', 'que', 'usamos', 'para', 'explicar', 'uma', 'praga', 'de', 'gafanhotos', '.', '(', 'risos', ')'], ['mt', ':', 'oh', ',', '365', ',', 'o', 'número', 'de', 'dias', 'num', 'ano', ',', 'o', 'número', 'de', 'dias', 'entre', 'cada', 'aniversário', '.'], ['joker', ':', 'ai', ',', 'ai', ',', 'ai', ',', 'au', '!', '(', 'música', ')', 'mt', ':', 'hoje', ',', 'atuo', 'para', 'uma', 'plateia', 'diferente', '.'], ['se', 'fizéssemos', 'a', 'mesma', 'pergunta', 'há', '30', 'anos', 'atrás', ',', 'a', 'maioria', 'das', 'pessoas', ',', 'incluindo', 'psicólogos', ',', 'diria', 'que', 'este', 'bebé', 'é', 'irracional', ',', 'ilógico', ',', 'egocêntrico', ';', 'que', 'não', 'é', 'capaz', 'de', 'assumir', 'a', 'perspectiva', 'de', 'outra', 'pessoa', 'ou', 'compreender', 'a', 'relação', 'causa-efeito', '.'], ['eu', 'tenho', 'tentado', 'descobrir', 'qual', 'deles', 'é', 'o', 'maior', ',', 'e', 'é', 'quase', 'impossível', '.'], ['mas', 'com', 'a', 'tecnologia', ',', 'podemos', ',', 'na', 'verdade', ',', 'fazer', 'coisas', 'que', 'estão', 'para', 'além', 'das', 'nossas', 'capacidades', '.'], ['em', '1800', ',', 'teria', 'sido', 'necessário', 'trabalhar', 'seis', 'horas', 'para', 'obter', 'uma', 'vela', 'que', 'queimasse', 'durante', 'uma', 'hora', '.'], ['não', 'há', 'como', 'escapar', 'ao', 'facto', 'de', 'que', 'tudo', 'o', 'que', 'comemos', 'tem', 'um', 'impacto', 'global', '.'], ['e', 'penso', 'que', 'isso', 'irá', 'criar', 'algumas', 'oportunidades', 'incrivelmente', 'intrigantes', 'para', 'as', 'pessoas', 'ligadas', 'à', 'tecnologia', '.'], ['numa', 'espécie', 'assexuada', ',', 'se', 'houver', 'duas', 'mutações', 'diferentes', 'em', 'criaturas', 'diferentes', ',', 'uma', 'verde', 'e', 'uma', 'vermelha', ',', 'logo', 'uma', 'tem', 'de', 'ser', 'melhor', 'do', 'que', 'a', 'outra', '.'], ['os', 'problemas', 'mais', 'complexos', 'da', 'nossa', 'época', 'podem', 'ser', 'resolvidos', 'com', 'técnicas', 'simples', ',', 'se', 'formos', 'capazes', 'de', 'sonhar', '.'], ['o', 'feto', 'tem', 'de', 'sobreviver', 'dentro', 'da', 'mãe', '.'], ['``', 'às', 'experiências', 'das', 'crianças', 'chamamos', '``', \"''\", 'meter-se', 'em', 'tudo', \"''\", \"''\", 'ou', '``', \"''\", 'brincar', \"''\", \"''\", '.', 'e', 'recentemente', 'tem', 'surgido', 'uma', 'série', 'de', 'estudos', 'interessantes', 'que', 'comprovam', 'que', 'esta', 'brincadeira', 'é', 'na', 'verdade', 'uma', 'espécie', 'de', 'programa', 'de', 'investigação', 'experimental', '.', \"''\"], ['vimos', 'todos', 'os', 'tipos', 'de', 'equipamentos', 'doados', '.'], ['agora', 'tinha', 'um', 'sentido', 'de', 'lugar', '.'], ['então', 'é', 'quando', 'se', 'põem', 'quatro', '.'], ['era', 'assim', 'que', 'se', 'ficava', 'rico', ';', 'empregava-se', 'pessoas', '.'], ['e', 'a', 'razão', 'é', 'que', 'há', 'uma', 'divisão', 'de', 'trabalho', 'reprodutora', '.'], ['por', 'isso', 'perguntámos', 'se', 'os', 'humanos', 'e', 'as', 'abelhas', 'poderiam', 'solucionar', 'problemas', 'complexos', 'da', 'mesma', 'forma', '.'], ['há', 'umas', 'fontes', 'de', 'luz', '.'], ['``', 'ele', 'disse', ':', '``', \"''\", 'desde', 'que', 'traga', 'o', 'seu', 'dinheiro', ',', 'pode', 'fazer', 'isso', '.', \"''\", \"''\", 'e', 'eu', 'tive', 'muita', 'sorte', '.', \"''\"], ['``', 'por', 'exemplo', ',', 'eu', 'pertencia', 'a', 'um', 'canal', 'de', 'televisão', 'de', 'estudantes', 'que', 'divulgava', 'notícias', 'pela', 'universidade', ',', 'e', 'durante', 'uma', 'consulta', 'que', 'estava', 'muito', 'atrasada', ',', 'eu', 'disse', ':', '“desculpe', 'doutor', ',', 'mas', 'tenho', 'de', 'ir', '.', \"''\", \"''\", \"''\"], ['e', 'agora', 'queremos', 'partilhar', '.', 'esse', 'é', 'o', 'passo', 'seguinte', '.'], ['``', 'a', 'criança', 'que', 'o', 'representava', 'era', 'escarnecida', ',', 'ridicularizada', 'e', 'sofria', '``', \"''\", 'bullying', \"''\", \"''\", ',', 'sem', 'parar', '.', \"''\"], ['vimos', 'que', 'até', 'os', 'meninos', 'ricos', 'dos', 'subúrbios', 'queriam', 'o', 'drybath', '.', '(', 'risos', ')', 'pelo', 'menos', 'uma', 'vez', 'por', 'semana', '.'], ['bom', 'dia', '.', 'a', 'magia', 'é', 'uma', 'excelente', 'forma', 'de', 'nos', 'mantermos', 'à', 'frente', 'da', 'realidade', ',', 'de', 'tornar', 'possível', 'hoje', 'o', 'que', 'a', 'ciência', 'irá', 'tornar', 'realidade', 'amanhã', '.'], ['nesta', 'imagem', ',', 'podem', 'ver', 'o', 'meu', 'sogro', 'com', 'as', 'suas', 'três', 'filhas', 'lindas', '.'], ['deve-se', 'apenas', 'à', 'forma', 'como', 'funcionam', 'os', 'paraísos', 'fiscais', '.', 'mossack', 'fonseca', 'tem', 'menos', 'clientes', 'americanos', '.'], ['no', 'entanto', ',', 'algumas', 'das', 'pessoas', 'responsáveis', 'não', 'queriam', 'que', 'fizéssemos', 'isso', ',', 'porque', ',', 'segundo', 'eles', ',', 'simplesmente', ',', 'tornou-se', 'mais', 'difícil', 'de', 'controlá-los', '.'], ['e', 'testá-la', ',', 'comparando-a', 'com', 'os', 'dados', '.'], ['enquanto', 'que', 'o', 'objeto', 'da', 'direita', 'torna-se', 'obsoleto', 'após', 'cinco', 'anos', '.'], ['a', 'rainha', 'faz', 'tudo', '.'], ['(', 'risos', ')', 'menino', ':', 'ah', ',', 'é', 'porque', 'este', 'tem', 'que', 'ficar', 'assim', ',', 'e', 'este', 'assim', '.'], ['``', 'e', ',', 'essencialmente', ',', 'no', 'fim', 'de', 'tudo', ',', 'todas', 'as', 'partes', 'se', 'encaixam', ',', 'por', 'causa', 'do', '``', \"''\", 'origami', \"''\", \"''\", '.', 'porque', 'o', '``', \"''\", 'origami', \"''\", \"''\", 'permite-nos', 'uma', 'precisão', ',', 'à', 'escala', 'do', '``', \"''\", 'mícron', \"''\", \"''\", ',', 'do', 'alinhamento', 'óptico', '.', \"''\"], ['portanto', 'decidimos', 'construir', 'o', 'processo', '.'], ['e', 'assim', 'que', 'chegaram', 'a', 'acordo', ',', 'começaram', 'a', 'avaliar', ',', 'e', 'começaram', 'a', 'partilhar', 'dados', '.'], ['se', 'ele', 'for', 'para', 'lá', 'e', 'for', 'para', 'um', 'hospital', 'médio', ',', 'correrá', 'um', 'risco', 'de', 'ficar', 'incontinente', 'de', 'cerca', 'de', '50', '%', '.', 'por', 'isso', ',', 'ele', 'teria', 'de', 'voltar', 'a', 'usar', 'fraldas', '.'], ['(', 'aplausos', ')'], ['isto', 'teve', 'um', 'grande', 'impacto', 'na', 'minha', 'mente', ',', 'porque', 'eu', 'sou', 'uma', 'mulher', 'e', 'sou', 'uma', 'mãe', ',', 'e', 'não', 'me', 'tinha', 'apercebido', 'de', 'que', 'a', 'pandemia', 'do', 'vih/sida', 'estava', 'a', 'afectar', 'directamente', 'as', 'mulheres', 'desta', 'maneira', '.'], ['como', 'é', 'ser', 'uma', 'destas', 'borboletas', 'brilhantes', 'e', 'ser', 'capaz', 'de', 'testar', 'cinco', 'hipóteses', 'em', 'dois', 'minutos', '?'], ['estamos', 'a', 'criar', 'uma', 'comunidade', 'global', ',', 'e', 'uma', 'grande', 'comunidade', 'global', ',', 'onde', 'vamos', 'conseguir', 'avaliar', 'e', 'comparar', 'o', 'que', 'conseguimos', '.'], ['tínhamos', 'de', 'o', 'fazer', 'mover-se', 'graciosamente', 'numa', 'brisa', 'média', 'e', 'sobreviver', 'a', 'ventos', 'ciclónicos', '.'], ['então', 'contactei', 'a', 'noaa', ',', 'e', 'perguntei', 'se', 'podiam', 'partilhar', 'os', 'dados', 'sobre', 'o', 'tsunami', ',', 'e', 'traduzi-os', 'nisto', '.'], ['ele', 'pode', 'fabricar', 'as', 'suas', 'próprias', 'lanças', 'e', 'machados', '.'], ['acontece', 'que', 'os', 'bebés', ',', 'os', 'corvos', 'da', 'nova', 'caledónia', 'bebés', ',', 'são', 'altamente', 'dependentes', '.'], ['estes', 'eram', 'os', 'homens', 'que', 'eu', 'admirava', '.'], ['``', 'foi', '``', \"''\", 'escolha', 'do', 'editor', \"''\", \"''\", 'na', 'revista', 'science', ',', 'que', 'é', 'uma', 'revista', 'científica', 'de', 'topo', '.', \"''\"], ['estava', 'a', 'sair', 'de', 'um', 'seminário', 'quando', 'começou', ',', 'a', 'murmurar', 'para', 'mim', 'própria', ',', 'a', 'remexer', 'na', 'minha', 'mala', 'como', 'tinha', 'feito', 'centenas', 'de', 'vezes', 'antes', 'quando', 'de', 'repente', 'ouço', 'uma', 'voz', 'a', 'observar', 'calmamente', '“ela', 'está', 'a', 'sair', 'da', 'sala”', '.'], ['encontram', 'uma', 'ovelha', '.', 'matam-na', '.', 'tiram-lhe', 'a', 'gordura', '.'], ['``', 'como', 'adam', 'smith', 'disse', ',', '``', \"''\", 'jamais', 'alguém', 'viu', 'um', 'cão', 'fazer', 'uma', 'troca', 'justa', 'de', 'um', 'osso', 'com', 'outro', 'cão', '.', \"''\", \"''\", '(', 'risos', ')', 'é', 'possível', 'haver', 'cultura', 'sem', 'intercâmbio', '.', \"''\"], ['ao', 'início', 'isto', 'era', 'muito', 'difícil', 'de', 'acreditar', ',', 'até', 'porque', 'as', 'vozes', 'aparentavam', 'ser', 'tão', 'hostis', 'e', 'ameaçadoras', ',', 'e', 'então', 'um', 'primeiro', 'passo', 'vital', 'foi', 'aprender', 'a', 'separar', 'um', 'significado', 'metafórico', 'do', 'que', 'dantes', 'interpretava', 'como', 'verdade', 'literal', '.'], ['(', 'aplausos', ')', 'então', 'quando', 'começou', 'esse', 'hábito', '?'], ['a', 'nossa', 'biologia', 'diz-nos', 'que', 'o', 'amor', 'é', 'bom', 'estimulando', 'circuitos', 'de', 'recompensa', 'no', 'cérebro', ',', 'e', 'diz-nos', 'que', 'o', 'amor', 'é', 'doloroso', 'quando', ',', 'depois', 'de', 'uma', 'briga', 'ou', 'separação', ',', 'as', 'recompensas', 'neuroquímicas', 'são', 'retiradas', '.'], ['para', 'os', 'óculos', ',', 'uma', 'determinada', 'mesa', '.'], ['quero', 'contar-vos', 'uma', 'história', 'sobre', 'ver', 'de', 'forma', 'diferente', '.', 'e', 'todas', 'as', 'novas', 'perceções', 'começam', 'da', 'mesma', 'forma', '.'], ['``', '``', \"''\", 'vai', 'procurá-la', 'atrás', 'das', 'montanhas', '.', \"''\"], ['em', '1994', ',', 'houve', 'um', 'grande', 'genocídio', 'no', 'ruanda', ',', 'em', 'áfrica', '.'], ['existem', '200', 'milhões', 'de', 'tweets', 'postados', 'todos', 'os', 'dias', '.'], ['mas', 'não', 'tem', 'de', 'ser', 'assim', '.', 'há', 'esperança', '.'], ['(', 'aplausos', ')'], ['é', 'para', 'complementar', 'essa', 'experiência', '.'], ['aceitamos', 'a', 'ideia', 'em', 'abstrato', '.'], ['estes', 'são', 'os', 'meus', 'óculos', 'de', 'ilusão', '.'], ['agora', ',', 'quero', 'partilhar', 'o', 'palco', 'com', 'alguém', 'muito', 'especial', '.'], ['os', 'meus', 'horizontes', 'artísticos', 'continuam', 'a', 'alargar-se', '.'], ['então', 'o', 'que', 'o', 'sexo', 'faz', 'é', 'permitir', 'ao', 'indivíduo', 'recorrer', 'às', 'inovações', 'genéticas', 'de', 'toda', 'a', 'espécie', '.'], ['e', 'também', 'atribuímos', 'um', 'valor', 'à', 'companhia'], ['gosto', 'de', 'pensar', 'nisto', 'um', 'pouco', 'como', 'uma', 'boneca', 'russa', '.'], ['qualquer', 'músico', 'foi', 'profundamente', 'influenciado', 'por', 'robert', 'moog', '.'], ['``', 'há', 'uma', 'série', 'de', 'regras', 'diferentes', 'que', 'as', 'abelhas', 'podem', 'aprender', 'para', 'resolverem', 'este', 'puzzle', '.', 'a', 'questão', 'que', 'interessa', 'é', ':', '``', \"''\", 'quais', '?', \"''\", \"''\", \"''\"], ['a', 'partir', 'daquele', 'momento', ',', 'comecei', 'a', 'pensar', '.'], ['depois', 'de', 'ver', 'este', 'impacto', 'global', ',', 'chegamos', 'à', 'nossa', 'proposta', 'chave', 'que', 'era', 'limpeza', 'e', 'comodidade', '.'], ['eu', 'trouxe', 'os', 'meus', 'alunos', 'japoneses', 'para', 'trabalhar', 'com', 'os', 'estudantes', 'chineses', '.'], ['e', 'este', 'é', 'apenas', 'um', 'de', 'centenas', 'e', 'centenas', 'de', 'estudos', 'feitos', 'nos', 'últimos', '20', 'anos', 'que', 'realmente', 'demonstrou', 'isso', '.'], ['há', 'benefícios', 'inerentes', 'a', 'isto', '.'], ['como', 'é', 'que', 'isto', 'realmente', 'funciona', '?'], ['porque', 'será', 'isto', '?'], ['é', 'completamente', 'irrelevante', '.'], ['vocês', 'podem', 'perguntar', ',', 'porquê', 'economistas', '?'], ['aquilo', 'que', 'nós', 'somos', 'não', 'pode', 'nunca', 'ser', 'ocupado', ',', 'alterado', 'ou', 'levado', '.'], ['com', 'efeito', ',', 'um', 'ciclo', 'vicioso', 'de', 'medo', ',', 'ansiedade', ',', 'desconfiança', 'e', 'incompreensão', 'estava', 'estabelecido', ',', 'e', 'esta', 'era', 'uma', 'batalha', 'na', 'qual', 'eu', 'me', 'sentia', 'impotente', 'e', 'incapaz', 'de', 'estabelecer', 'qualquer', 'tipo', 'de', 'paz', 'ou', 'reconciliação', '.'], ['o', 'inverno', 'é', 'como', 'a', 'magia', '.', 'é', 'uma', 'época', 'de', 'mudança', ',', 'quando', 'o', 'calor', 'se', 'transforma', 'em', 'frio', ',', 'a', 'água', 'se', 'transforma', 'em', 'neve', 'e', 'depois', 'tudo', 'desaparece', '.'], ['``', 'd.s', '.', ':', '``', \"''\", 'então', 'segue', 'o', 'rasto', 'de', 'cada', 'uma', '.', \"''\", \"''\", 'aluno', ':', '``', \"''\", 'henry', ',', 'podes', 'ajudar-me', '?', \"''\", \"''\", \"''\"], ['obrigado', '.'], ['estou', 'a', 'falar', 'muito', 'a', 'sério', '.'], ['houve', 'uma', 'revolução', 'recentemente', 'no', 'nosso', 'entendimento', 'de', 'máquina', 'de', 'aprendizagem', '.'], ['bem', ',', 'neste', 'momento', ',', 'como', 'podem', 'ver', ',', 'os', 'resultados', 'são', 'cómicos', '.'], ['``', 'temos', '``', \"''\", 'o', 'dia', 'depois', 'de', 'amanhã', \"''\", \"''\", '—', 'é', 'espectacular', ',', 'não', 'é', '?', \"''\"], ['se', 'escolhermos', 'um', 'lugar', 'e', 'formos', 'cuidadosos', ',', 'as', 'coisas', 'estarão', 'sempre', 'lá', 'quando', 'as', 'procurarmos', '.'], ['é', 'uma', 'característica', 'unicamente', 'humana', '.'], ['talvez', 'consigamos', 'aliviar', 'a', 'dor', 'fantasma', ',', 'o', 'espasmo', 'fantasma', '.'], ['e', 'em', 'viagem', '?'], ['ele', 'sabe', 'apenas', 'como', 'administrar', 'uma', 'empresa', '.'], ['onde', 'é', 'que', 'ela', 'está', '?'], ['lembro-me', 'de', 'um', 'momento', 'em', 'particular', '.'], ['mt', ':', 'pois', ',', 'mas', 'acho', 'que', 'a', 'minha', 'mão', 'é', 'melhor', '.', 'vencemos', 'as', 'probabilidades', '.'], ['no', 'entanto', 'os', 'computadores', 'reais', 'estão', 'a', 'melhorar', 'muito', '.'], ['também', 'trata', 'de', 'destruir', 'as', 'propriedades', ',', 'as', 'heranças', 'culturais', ',', 'e', ',', 'finalmente', ',', 'a', 'própria', 'noção', 'de', 'que', 'eles', 'alguma', 'vez', 'existiram', '.'], ['atuo', 'para', 'vocês', '.'], ['as', 'formigas', 'são', 'um', 'exemplo', 'clássico', ';', 'as', 'operárias', 'trabalham', 'para', 'as', 'rainhas', 'e', 'vice-versa', '.'], ['ag', ':', 'ora', 'aí', 'está', 'a', 'quinta', 'hipótese', '.'], ['e', 'a', 'primeira', 'evidência', 'disso', 'surgiu', 'há', '80-120.000', 'anos', 'em', 'áfrica', ',', 'quando', 'se', 'vê', 'obsidiana', 'e', 'jaspe', 'e', 'outras', 'coisas', 'a', 'atravessar', 'longas', 'distâncias', 'na', 'etiópia', '.'], ['``', '``', 'e', 'apenas', 'a', 'última', 'é', 'da', 'responsabilidade', 'de', 'um', 'artista', '.', \"''\", 'a', 'política', 'da', 'identidade', 'divide-nos', '.', 'a', 'ficção', 'une-nos', '.', \"''\"], ['(', 'risos', ')', 'há', 'uma', 'diferença', '.'], ['acarinho', 'estas', 'lembranças', ',', 'porque', 'me', 'ajudaram', 'a', 'entender', 'a', 'vida', 'fora', 'da', 'cidade', ',', 'uma', 'vida', 'com', 'imensas', 'possibilidades', ',', 'sem', 'barreiras', 'como', 'a', 'língua', 'ou', 'a', 'cultura', '.'], ['é', 'a', 'primeira', 'vez', 'que', 'vamos', 'comparar', 'maçãs', 'com', 'maçãs', ',', 'não', 'só', 'dentro', 'de', 'um', 'país', ',', 'mas', 'entre', 'países', '.'], ['se', 'olharmos', 'para', 'estas', '5', 'formas', 'de', 'ser', ',', 'são', 'exatamente', 'as', 'mesmas', 'formas', 'de', 'ser', 'que', 'precisamos', 'para', 'sermos', 'bons', 'cientistas', '.'], ['e', 'como', 'deus', 'a', 'ama', ',', 'eu', 'realmente', 'casei-me', '.'], ['aqui', 'estou', 'eu', 'em', 'oslo', 'na', 'noruega', ',', 'a', 'receber', 'um', 'cheque', 'gordo', ',', 'a', 'cantar', 'em', 'hong', 'kong', ',', 'para', 'tentar', 'angariar', 'dinheiro', 'do', 'público', '.'], ['o', 'cortisol', 'é', 'tóxico', 'e', 'tolda-nos', 'o', 'pensamento', '.'], ['ambos', 'são', 'tecnologias', '.', 'no', 'final', 'de', 'contas', ',', 'a', 'sua', 'semelhança', 'não', 'é', 'assim', 'tão', 'interessante', '.'], ['mas', 'depois', 'de', 'olharem', 'para', 'ela', 'durante', 'muito', 'tempo', ',', 'simplesmente', 'lhe', 'davam', 'as', 'bolachas', ',', 'o', 'que', 'eles', 'pensavam', 'que', 'toda', 'a', 'gente', 'gostava', '.'], ['noutros', 'países', ',', 'os', 'novos', 'medicamentos', 'não', 'estão', 'a', 'ser', 'comparticipados', 'e', 'deste', 'modo', 'não', 'podem', 'ser', 'adquiridos', 'pelos', 'doentes', '.'], ['mas', 'tendo', 'sido', 'encorajada', 'a', 'ver', 'a', 'voz', 'não', 'como', 'uma', 'experiência', 'mas', 'como', 'um', 'sintoma', ',', 'o', 'meu', 'medo', 'e', 'resistência', 'perante', 'ela', 'intensificaram', '.'], ['então', 'avaliando', 'e', 'criando', 'transparência', ',', 'obtemos', 'um', 'ciclo', 'de', 'melhoria', 'contínua', ',', 'que', 'é', 'o', 'que', 'este', 'diapositivo', 'mostra', '.'], ['muitos', 'de', 'nós', 'sentem-se', 'um', 'pouco', 'loucos', 'nas', 'fases', 'iniciais', 'do', 'amor', 'romântico', '.'], ['isto', 'é', 'uma', 'folha', 'de', 'papel', '.'], ['o', 'caminho', 'não', 'é', 'fácil', '.'], ['mas', 'se', 'procurarmos', 'na', 'evolução', 'uma', 'resposta', 'para', 'este', 'quebra-cabeças', 'sobre', 'porque', 'gastamos', 'tanto', 'tempo', 'a', 'tomar', 'conta', 'de', 'bebés', 'inúteis', ',', 'verificamos', 'que', 'há', 'realmente', 'uma', 'resposta', '.'], ['deem', 'uma', 'vista', 'de', 'olhos', 'a', 'todos', 'estes', 'museus', 'aqui', '.'], ['vou', 'dar-vos', 'uma', 'rápida', 'ideia', 'de', 'algumas', 'das', 'partes', 'que', 'o', 'compõem', '.'], ['e', 'parece', 'que', 'provavelmente', 'tinham', 'competências', 'linguísticas', '.'], ['no', 'caso', 'do', 'machado', 'de', 'pedra', ',', 'o', 'homem', 'que', 'o', 'fez', 'sabia', 'como', 'fazê-lo', '.'], ['e', 'há', 'outros', 'estudos', 'que', 'confirmam', 'que', 'a', 'maioria', 'das', 'relações', 'começam', 'desta', 'forma', '.'], ['outro', 'serviço', 'que', 'existe', 'agora', 'chama-se', '1,000', 'memórias', '.'], ['fiquei', 'hipnotizada', '.'], ['pedimos', 'às', 'abelhas', 'para', 'aprenderem', 'não', 'só', 'a', 'irem', 'para', 'uma', 'determinada', 'cor', ',', 'mas', 'a', 'irem', 'ter', 'com', 'uma', 'flor', 'de', 'determinada', 'cor', 'apenas', 'quando', 'está', 'num', 'determinado', 'padrão', '.'], ['``', 'por', 'isso', 'vamos', ',', 'para', 'o', 'bar', '(', '``', \"''\", 'pub', \"''\", \"''\", ')', '.', '(', 'risos', ')', 'o', 'da', 'esquerda', 'é', 'meu', '.', '(', 'risos', ')', 'eu', 'disse-lhes', ',', 'um', 'artigo', 'científico', 'tem', 'quatro', 'partes', 'diferentes', '.', 'uma', 'introdução', ',', 'os', 'métodos', ',', 'os', 'resultados', ',', 'a', 'discussão', '.', \"''\"], ['``', 'mas', 'na', 'outra', 'metade', ',', 'o', 'que', 'ela', 'fazia', 'era', 'provar', 'um', 'bocadinho', 'dos', 'brócolos', 'e', 'dizer', '``', \"''\", 'mmmmm', ',', 'brócolos', '.', \"''\"], ['gostei', 'do', 'delicado', 'detalhe', 'que', 'isso', 'dava', 'ao', 'meu', 'trabalho', ',', 'mas', 'quis', 'aumentá-las', '—', 'passar', 'de', 'um', 'objeto', 'para', 'o', 'qual', 'se', 'olha', ',', 'para', 'algo', 'em', 'que', 'nos', 'poderíamos', 'perder', '.'], ['em', 'alguns', 'países', ',', 'temos', 'longos', 'tempos', 'de', 'espera', 'para', 'os', 'doentes', 'realizarem', 'cirurgias', '.'], ['...', 'ao', 'prestar', 'atenção', 'à', 'produção', 'através', 'do', 'financiamento', 'colectivo', '.'], ['``', 'ou', ',', '``', \"''\", 'esta', 'relação', 'foi', 'mais', 'curta', 'do', 'que', 'eu', 'havia', 'planeado', ',', '``', \"''\", 'mas', 'ainda', 'assim', ',', 'foi', 'bonita', \"''\", \"''\", '.', 'a', 'coisa', 'bonita', 'sobre', 'a', 'obra', 'de', 'arte', 'colaborativa', 'é', 'que', 'ela', 'não', 'será', 'pintada', ',', 'desenhada', 'ou', 'esculpida', 'sozinha', '.', \"''\"], ['hoje', ',', 'estou', 'a', 'usá-la', 'para', 'criar', 'formas', 'permanentes', ',', 'ondulantes', ',', 'voluptuosas', 'à', 'escala', 'de', 'edifícios', 'de', 'contornos', 'rígidos', 'em', 'cidades', 'à', 'volta', 'do', 'mundo', '.'], ['estas', 'parecem', 'estar', 'perfeitamente', 'adaptadas', 'a', 'bicar', 'o', 'grão', 'num', 'ambiente', '.'], ['``', '♪', 'então', 'um', 'dia', 'acordas', ',', '♪', 'e', 'dizem-te', '``', \"''\", 'és', 'uma', 'rainha', ',', \"''\", \"''\", '♪', 'mas', 'depois', 'descobres', 'que', 'outra', 'pessoa', '♪', 'está', 'a', 'puxar', 'os', 'cordelinhos', '.', \"''\"], ['certo', '?'], ['estavam', 'a', 'viver', 'assim', ',', 'com', 'folhas', 'de', 'plástico', 'muito', 'frágeis', ',', 'no', 'parque', '.'], ['por', 'exemplo', ',', 'no', 'cáucaso', 'há', 'um', 'lugar', 'onde', 'se', 'encontram', 'ferramentas', 'locais', 'dos', 'neandertais', '.'], ['muito', 'obrigada', '.'], ['por', 'isso', ',', 'tentei', 'fazer', 'peças', 'em', 'bronze', '.'], ['o', 'teste', 'deu', 'negativo', '.'], ['provavelmente', ',', 'já', 'todos', 'ouviram', 'falar', 'do', 'projeto', 'google', 'glass', '(', 'óculos', ')', '.'], ['os', 'bébes', 'e', 'as', 'crianças', 'pequenas', 'são', 'portanto', 'muito', 'maus', 'a', 'concentrarem-se', 'numa', 'única', 'coisa', ','], ['mas', 'olhem', 'para', 'isto', '.', 'não', 'há', 'privacidade', '.'], ['ao', 'contrário', 'de', 'tudo', 'o', 'que', 'acabámos', 'de', 'ver', ',', 'virtual', 'ou', 'não', '.', 'voz', ':', 'carta', 'marcada', 'detetada', '.'], ['eram', 'pessoas', 'brilhantes', '.', 'não', 'estou', 'a', 'desmerecer', 'os', 'neandertais', '.'], ['o', 'que', 'é', 'que', 'se', 'sente', 'sendo', 'este', 'tipo', 'de', 'criatura', '?'], ['o', 'cérebro', 'não', 'consegue', 'lidar', 'com', 'a', 'incerteza', 'destas', 'informações', ',', 'e', 'fica', 'indisposto', '.'], ['de', 'facto', ',', 'depois', 'da', 'universidade', 'candidatei-me', 'a', 'sete', 'escolas', 'de', 'arte', 'e', 'fui', 'rejeitada', 'por', 'todas', 'as', 'sete', '.'], ['porque', 'é', 'que', 'devemos', 'preocupar-nos', 'com', 'isto', '?'], ['se', 'tivessem', 'de', 'começar', 'do', 'zero', ',', 'digamos', 'que', 'vão', 'para', 'o', 'campo', '.'], ['e', 'nós', 'não', 'sabíamos', ',', 'quando', 'saímos', 'do', 'hospital', '-', 'porque', 'filmámos', 'a', 'história', 'dela', '-', 'não', 'sabíamos', 'se', 'ela', 'ia', 'sobreviver', '.'], ['num', 'período', 'de', 'três', 'anos', ',', 'esperamos', 'ter', 'estudado', '40', '%', 'das', 'doenças', '.'], ['há', 'uma', 'estrutura', 'no', 'cérebro', 'chamada', 'hipocampo', ',', 'que', 'evoluiu', 'durante', 'milhares', 'e', 'milhares', 'de', 'anos', 'para', 'memorizar', 'a', 'localização', 'de', 'coisas', 'importantes', '.', 'onde', 'é', 'o', 'poço', ',', 'onde', 'podemos', 'encontrar', 'peixe', ',', 'a', 'banquinha', 'da', 'fruta', ',', 'onde', 'vivem', 'as', 'tribos', 'amigas', 'e', 'as', 'inimigas', '.'], ['e', 'talvez', 'o', 'mais', 'difícil', 'de', 'tudo', 'seja', 'perceber', 'que', 'o', 'que', 'as', 'outras', 'pessoas', 'pensam', 'e', 'sentem', 'não', 'é', 'exactamente', 'o', 'que', 'nós', 'pensamos', 'e', 'sentimos', '.'], ['conhecemo-la', 'num', 'hospital', 'no', 'cabo', 'oriental', 'e', 'passámos', 'uma', 'tarde', 'inteira', 'com', 'ela', '-', 'uma', 'criança', 'adorável', '.'], ['no', 'ano', '2000', ',', 'houve', 'uma', 'grande', 'expo', 'na', 'alemanha', '.'], ['mas', 'vivemos', 'num', 'lugar', 'a', 'mais', 'de', '3600', 'metros', 'de', 'altitude', '.'], ['recebi', 'então', 'uma', 'chamada', 'de', 'nova', 'iorque', 'a', 'perguntar', 'se', 'eu', 'poderia', 'adaptar', 'estes', 'conceitos', 'à', 'times', 'square', 'ou', 'ao', 'highline', '.'], ['mas', ',', 'é', 'claro', ',', 'a', 'decisão', 'vai', 'bem', 'para', 'além', 'da', 'myriad', '.'], ['se', 'compararem', 'hospitais', 'num', 'país', ',', 'vão', 'ver', 'que', 'alguns', 'são', 'muito', 'bons', ',', 'mas', 'também', 'vão', 'ver', 'que', 'um', 'grande', 'número', 'são', 'muito', 'piores', '.'], ['vai', 'haver', 'guerras', ';', 'vai', 'haver', 'depressões', ';', 'vai', 'haver', 'desastres', 'naturais', '.'], ['porque', 'é', 'bom', 'ser-se', 'adulto', '.'], ['sim', ',', 'sim', '.', 'mais', 'para', 'o', 'canto', '.', 'mais', 'para', 'o', 'canto', '.'], ['o', 'cliente', 'é', 'a', 'verdadeira', 'realidade', '.'], ['a', 'fome', 'global', 'era', 'inevitável', '.'], ['se', 'isto', 'for', 'verdade', ',', 'se', 'os', 'bebés', 'estão', 'programados', 'para', 'aprender', '-', 'e', 'a', 'história', 'evolutiva', 'assim', 'o', 'comprova', 'que', 'as', 'crianças', 'existem', 'para', 'aprender', '-', 'poderíamos', 'supôr', 'que', 'eles', 'possuem', 'poderosos', 'mecanismos', 'de', 'aprendizagem', '.'], ['é', 'possível', 'ensiná-los', 'em', 'laboratório', 'a', 'fazer', 'algumas', 'trocas', '.', 'e', 'existe', 'de', 'facto', 'reciprocidade', 'noutros', 'animais', '.', 'mas', 'a', 'troca', 'de', 'um', 'objeto', 'por', 'outro', 'nunca', 'sucede', '.'], ['a', 'troca', 'é', 'tão', 'velha', 'como', 'a', 'agricultura', '.'], ['o', 'quem', 'e', 'o', 'porquê', 'é', 'o', 'que', 'me', 'interessa', '.'], ['e', 'basicamente', 'o', 'que', 'bayes', 'fez', 'foi', 'criar', 'um', 'método', 'matemático', 'utilizando', 'a', 'teoria', 'das', 'probabilidades', 'para', 'caracterizar', 'e', 'descrever', 'a', 'forma', 'como', 'os', 'cientistas', 'fazem', 'descobertas', 'sobre', 'o', 'mundo', '.'], ['vêm', 'realmente', 'destes', 'artistas', '.'], ['voltei', 'da', 'alemanha', 'para', 'a', 'bolívia', ',', 'pensando', 'que', ',', 'onde', 'quer', 'que', 'fôssemos', ',', 'teríamos', 'a', 'oportunidade', 'de', 'fazer', 'a', 'diferença', '.'], ['eu', 'não', 'era', 'a', 'pessoa', 'indicada', 'para', 'fazer', 'isto', '.'], ['eles', 'eram', 'uma', 'espécie', 'altamente', 'cooperativa', '.'], ['o', 'nosso', 'objetivo', 'é', 'garantir', 'que', 'nenhuma', 'criança', 'é', 'negligenciada', ',', 'por', 'causa', 'do', 'custo', 'ou', 'do', 'acesso', '.'], ['mas', 'os', 'nossos', 'doentes', 'dão-nos', 'forças', '.'], ['temos', '15', 'vezes', 'mais', 'probabilidades', 'de', 'sofrer', 'com', 'o', 'medicamento', 'do', 'que', 'de', 'ser', 'ajudado', 'por', 'ele', '.'], ['eu', 'não', 'sou', 'o', 'meu', 'pai', '.'], ['eu', 'recomendo', 'seriamente', 'isto', 'como', 'uma', 'boa', 'coisa', 'para', 'vocês', 'fazerem', '.'], ['os', 'dados', 'fazem-nos', 'alterar', 'essa', 'hipótese', '.'], ['``', 'tem', 'uma', 'nova', 'diretora', ',', 'e', 'ela', 'tem', 'um', 'objetivo', ':', '``', \"''\", 'quero', 'gerir', 'a', 'minha', 'grande', 'instituição', 'muito', 'mais', '``', 'com', 'base', 'na', 'qualidade', ',', 'em', 'resultados', 'que', 'importam', 'aos', 'doentes', '.', \"''\", \"''\"], ['o', 'que', 'é', 'que', 'se', 'passa', 'na', 'mente', 'deste', 'bebé', '?'], ['trata-se', 'de', 'um', 'menino', 'especialmente', 'adorável', 'e', 'particularmente', 'eloquente', ',', 'mas', 'o', 'que', 'a', 'cristine', 'descobriu', 'foi', 'que', 'isto', 'é', 'bastante', 'normal', '.'], ['eles', 'vão', 'partilhar', 'informação', 'sobre', 'como', 'melhorar', '.'], ['isto', 'foi', 'maravilhosamente', 'descrito', 'num', 'livro', 'em', '2006', 'por', 'michael', 'porter', 'e', 'elizabeth', 'teisberg', '.'], ['parece', 'que', 'as', 'mulheres', 'eram', 'caçadoras', 'cooperativas', 'com', 'os', 'homens', '.'], ['mas', 'não', 'há', 'evidência', 'de', 'uma', 'divisão', 'de', 'trabalho', 'por', 'sexo', '.'], ['e', 'por', 'que', 'é', 'que', 'a', 'troca', 'aumenta', 'o', 'nível', 'de', 'qualidade', 'de', 'vida', '?'], ['finalmente', ',', 'encontrei', 'um', 'presidente', 'da', 'câmara', 'muito', 'bom', 'na', 'vila', 'de', 'onagawa', ',', 'em', 'miyagi', '.'], ['eu', 'penso', 'que', 'isso', 'será', 'completamente', 'possível', 'à', 'medida', 'que', 'a', 'quantidade', 'de', 'informação', 'que', 'usamos', 'e', 'a', 'capacidade', 'tecnológica', 'usada', 'para', 'a', 'compreender', 'se', 'expandem', 'exponencialmente', '.'], ['já', 'o', 'oz', 'leva', 'uma', 'hora', 'para', 'fazer', 'uma', 'lança', 'e', 'duas', 'para', 'fazer', 'um', 'machado', '.'], ['a', 'este', 'respeito', ',', 'para', 'membros', 'da', 'sociedade', ',', 'não', 'há', 'maior', 'honra', 'ou', 'privilégio', 'do', 'que', 'facilitar', 'o', 'processo', 'de', 'cura', 'de', 'alguém', ',', 'testemunhar', ',', 'de', 'estender', 'uma', 'mão', ',', 'de', 'partilhar', 'o', 'fardo', 'do', 'sofrimento', 'de', 'alguém', ',', 'e', 'de', 'manter', 'a', 'esperança', 'da', 'sua', 'recuperação', '.'], ['``', '``', 'é', 'a', 'voz', 'da', 'vida', ',', 'que', 'nos', 'chama', 'para', 'chegar', 'e', 'aprender', '.', \"''\", 'muito', 'obrigado', '.', \"''\"], ['neste', 'momento', 'da', 'sua', 'vida', ',', 'ela', 'está', 'a', 'sofrer', 'de', 'sida', 'no', 'seu', 'expoente', 'máximo', 'e', 'tinha', 'pneumonia', '.'], ['é', 'bom', 'ser-se', 'adulto', '.'], ['este', 'é', 'o', 'primeiro', 'edifício', 'temporário', 'feito', 'de', 'papel', '.'], ['para', 'nós', 'na', 'global', 'witness', ',', 'este', 'é', 'um', 'momento', 'de', 'mudança', '.'], ['não', 'era', 'possível', 'parar', 'a', 'explosão', 'populacional', '.'], ['as', 'pessoas', 'sofrem', 'mental', 'e', 'fisicamente', '.'], ['tinha', 'iniciado', 'um', 'subtil', 'processo', 'de', 'condicionamento', 'a', 'sugestão', 'de', 'que', 'pessoas', 'normais', 'não', 'ouvem', 'vozes', 'e', 'o', 'facto', 'que', 'isso', 'significava', 'que', 'alguma', 'coisa', 'estava', 'seriamente', 'errada', '.'], ['temos', 'de', 'estar', 'preparados', 'para', 'pensar', 'antecipadamente', 'neste', 'tipo', 'de', 'situações', '.'], ['``', 'ok', ',', 'um', ',', 'dois', ',', 'três', '...', 'audiência', ':', '``', \"''\", 'conseguem', 'ler', 'isto', '?', \"''\", \"''\", \"''\"], ['a', 'escultura', 'podia', 'agora', 'ser', 'inteiramente', 'macia', ',', 'o', 'que', 'a', 'tornou', 'tão', 'leve', 'que', 'podia', 'ser', 'atada', 'a', 'prédios', 'existentes', '—', 'tornando-se', 'literalmente', 'parte', 'do', 'tecido', 'da', 'cidade', '.'], ['(', 'risos', ')', 'até', 'na', 'inglaterra', ',', 'não', 'deixamos', 'a', 'reprodução', 'para', 'a', 'rainha', '.'], ['lança-se', 'uma', 'moeda', '.', '50', '%', 'de', 'risco', '.', 'é', 'muito', '.'], ['o', 'drybath', 'é', 'a', 'comodidade', 'de', 'um', 'rico', 'e', 'o', 'salva-vidas', 'de', 'um', 'homem', 'pobre', '.'], ['quando', 'observamos', 'vários', 'hospitais', 'para', 'muitas', 'doenças', 'diferentes', ',', 'vemos', 'estas', 'grandes', 'diferenças', '.'], ['o', 'tamanho', 'da', 'mancha', 'neste', 'gráfico', 'representa', 'o', 'tamanho', 'da', 'população', '.', 'e', 'o', 'nível', 'do', 'gráfico', 'representa', 'o', 'pib', 'per', 'capita', '.'], ['a', 'questão', 'aqui', 'é', ':', 'como', 'é', 'que', 'lhes', 'perguntamos', '?'], ['como', 'se', 'sabe', 'que', 'tal', 'deslocamento', 'de', 'grande', 'distância', 'significa', 'troca', 'e', 'não', 'migração', '?'], ['com', 'os', 'diabos', ',', 'kyle', '.', 'está', 'bem', ',', 'ahahah', '.', 'apanhei-os', '.'], ['(', 'aplausos', ')'], ['estas', 'são', 'empresas', 'que', 'operam', 'em', 'mais', 'do', 'que', 'um', 'país', ',', 'e', 'encontrámos', '43', '000', '.'], ['``', 'e', 'ele', 'disse', ':', '``', \"''\", 'oh', ',', 'deus', ',', 'você', 'está', 'louco', '?', \"''\", \"''\", '(', 'risos', ')', \"''\"], ['lembrem-se', ',', 'quando', 'estão', 'em', 'stress', ',', 'o', 'cérebro', 'liberta', 'cortisol', '.'], ['vou', 'contar-vos', 'o', 'que', 'aconteceu', 'com', 'a', 'tracy', 'shapiro', '.'], ['creio', 'que', 'tanto', 'os', 'bebés', 'como', 'as', 'crianças', 'são', 'mais', 'conscientes', 'do', 'que', 'nós', 'enquanto', 'adultos', '.'], ['``', '``', \"''\", 'quem', 'mais', 'pode', 'ter', 'estas', 'qualidades', 'além', 'das', 'crianças', '?', \"''\"], ['coisas', 'terríveis', 'vão', 'acontecer', 'durante', 'este', 'século', '.', 'tenho', 'a', 'certeza', 'absoluta', '.'], ['(', 'gravação', ')', 'adam', 'ostrow', ':', 'olá', '.'], ['era', 'completamente', 'novo', ',', 'e', 'ninguém', 'tinha', 'feito', 'isto', 'antes', ',', 'incluindo', 'os', 'adultos', '.', '(', 'risos', ')', 'b.l', '.', ':', 'incluindo', 'os', 'professores', ',', 'e', 'isso', 'foi', 'muito', 'difícil', 'para', 'os', 'professores', ','], ['fiquei', 'muito', 'feliz', 'em', 'ouvir', 'isso', '.'], ['estamos', 'numa', 'época', 'de', 'necessidade', '.'], ['o', 'humano', 'auto-contrai-se', 'cego', ',', 'maligno', '.'], ['porque', 'eu', 'quero', 'mostrar', 'alguns', 'pontos', 'de', 'interesse', '.'], ['não', 'havia', 'progresso', ',', 'não', 'havia', 'inovação', '.'], ['hoje', 'em', 'dia', ',', 'isso', 'chama-se', 'pobreza', '.'], ['e', 'muitas', 'vezes', ',', 'os', 'dados', 'não', 'existem', '.'], ['e', 'parecia', 'a', 'especiaria', 'especial', 'do', 'kfc', ',', 'sabem', '?'], ['é', 'como', 'se', 'as', 'pessoas', 'desta', 'sala', 'caíssem', 'de', 'súbito', 'numa', 'ilha', 'deserta', '.'], ['coisas', 'estranhas', 'e', 'maravilhosas', 'que', ',', 'de', 'outro', 'modo', ',', 'nunca', 'teria', 'visto', '.'], ['outra', 'perspectiva', 'é', 'a', 'de', 'que', 'em', 'lugar', 'de', 'pensarmos', 'nos', 'bebés', 'e', 'nas', 'crianças', 'como', 'adultos', 'defeituosos', ',', 'deveríamos', 'pensar', 'neles', 'como', 'estando', 'numa', 'fase', 'diferente', 'de', 'desenvolvimento', 'da', 'mesma', 'espécie', '-', 'tipo', 'lagartas', 'e', 'borboletas', '-', 'contudo', 'sendo', 'eles', 'as', 'borboletas', 'brilhantes', 'que', 'esvoaçam', 'e', 'exploram', 'o', 'jardim', ',', 'e', 'nós', 'as', 'lagartas', 'que', 'a', 'pouco', 'e', 'pouco', 'vamos', 'avançando', 'pelo', 'caminho', 'de', 'adultos', '.'], ['não', 'se', 'pode', 'oprimir', 'pessoas', 'que', 'já', 'não', 'têm', 'medo', '.'], ['``', 'chama-se', '``', \"''\", 'microscópio', \"''\", \"''\", '.', \"''\"], ['as', 'pessoas', 'esquecem-se', 'disso', '.', 'pensam', 'na', 'troca', 'como', 'algo', 'moderno', '.'], ['vamos', 'então', 'ver', 'um', 'exemplo', '.'], ['então', ',', 'fui', 'escolhido', 'para', 'construir', 'o', 'pavilhão', 'com', 'tubos', 'de', 'papel', ',', 'papel', 'reciclável', '.'], ['é', 'fácil', 'para', 'um', 'cientista', 'atirar-se', 'sem', 'ter', 'ideia', 'do', 'que', 'está', 'a', 'fazer', 'porque', 'isso', 'é', 'o', 'que', 'fazemos', 'no', 'laboratório', ',', 'mas', 'para', 'um', 'professor', 'não', 'saber', 'o', 'que', 'vai', 'acontecer', 'no', 'final', 'do', 'dia', '...', 'muitos', 'dos', 'créditos', 'vão', 'para', 'dave', 'strudwick', ',', 'que', 'colaborou', 'neste', 'projeto', '.', 'ok', '?'], ['e', 'se', 'eu', 'o', 'pudesse', 'provar', ',', 'então', ',', 'eventualmente', ',', 'teríamos', 'de', 'acabar', 'juntos', '.'], ['significa', 'associação', 'internacional', 'para', 'avaliação', 'de', 'resultados', 'de', 'saúde', '.'], ['surgiu', 'então', 'um', 'momento', 'de', 'inspiração', '.'], ['mais', 'de', 'dois', 'milhões', 'de', 'pessoas', 'tornaram-se', 'refugiados', '.'], ['(', 'aplausos', ')'], ['há', 'provas', 'de', 'que', 'o', 'amor', 'está', 'associado', 'a', 'mudanças', 'nos', 'nossos', 'humores', 'e', 'comportamentos', '.'], ['a', 'cirurgia', 'era', 'a', 'única', 'solução', 'para', 'fechar', 'o', 'buraco', '.'], ['e', 'pediram-me', 'para', 'vir', ',', 'reconstruir', 'a', 'catedral', 'temporária', '.'], ['e', 'quando', 'os', 'seres', 'humanos', 'começaram', 'a', 'transportar', 'objetos', 'como', 'este', ',', 'isso', 'prova', 'de', 'que', 'eles', 'andavam', 'a', 'fazer', 'trocas', 'entre', 'eles', '.'], ['aqui', 'está', 'o', 'que', 'ele', 'escreveu', 'para', 'iniciar', 'esse', 'processo', '.'], ['mas', 'perguntámo-nos', 'se', 'haveria', 'uma', 'possível', 'ligação', 'com', 'outros', 'animais', '.', 'seria', 'maravilhoso', 'se', 'os', 'humanos', 'e', 'as', 'abelhas', 'pensassem', 'de', 'forma', 'similar', ',', 'pois', 'parecem', 'tão', 'diferentes', 'de', 'nós', '.'], ['a', 'liderança', 'é', 'uma', 'escolha', '.', 'não', 'é', 'uma', 'classificação', '.'], ['``', 'não', 'vamos', 'querer', 'que', 'o', 'mastodonte', 'venha', 'atrás', 'de', 'nós', 'e', 'pensar', ',', '``', 'talvez', 'uma', 'fisga', 'ou', 'uma', 'lança', 'funcionem', '.', 'qual', 'será', 'melhor', '?', \"''\", \"''\"], ['e', 'isso', 'equivale', 'a', 'um', 'ganho', 'de', 'sete', 'segundos', 'e', 'meio', 'de', 'prosperidade', '.', 'desde', '1950', ',', 'por', 'assim', 'dizer', '.', 'porque', 'esses', 'são', 'sete', 'segundos', 'e', 'meio', 'durante', 'os', 'quais', 'se', 'pode', 'fazer', 'outra', 'coisa', '.', 'ou', 'se', 'pode', 'adquirir', 'outro', 'bem', 'ou', 'serviço', '.'], ['não', 'vou', 'passar', 'por', 'todos', 'os', 'detalhes', 'deste', 'estudo', 'porque', 'podem', 'ler', 'sobre', 'ele', ',', 'mas', 'o', 'passo', 'seguinte', 'é', 'observar', '.', 'aqui', 'estão', 'alguns', 'dos', 'alunos', 'a', 'fazer', 'as', 'observações', '.', 'estão', 'a', 'registar', 'os', 'dados', 'do', 'lugar', 'para', 'onde', 'as', 'abelhas', 'voam', '.'], ['tudo', 'o', 'que', 'precisamos', 'é', 'de', 'uma', 'carta', 'do', 'baralho', '.', 'qualquer', 'carta', 'serve', '.'], ['por', 'isso', 'ir', 'a', 'um', 'hospital', 'é', 'como', 'jogar', 'na', 'lotaria', '.'], ['♪', 'onde', 'os', 'altos', 'são', 'o', 'paraíso', ',', '♪', 'mas', 'os', 'baixos', ',', '♪', 'oh', ',', 'podem', 'ser', 'um', 'inferno', '.'], ['o', 'que', 'a', 'cristine', 'fez', 'foi', 'usar', 'os', 'nossos', 'detectores', 'blicket', '.'], ['parece', 'do', 'senso', 'comum', ',', 'e', 'é', ',', 'mas', 'há', 'muita', 'ciência', 'por', 'trás', 'disto', ',', 'que', 'se', 'baseia', 'na', 'forma', 'como', 'funciona', 'a', 'nossa', 'memória', 'espacial', '.'], ['e', 'no', 'futuro', ',', 'à', 'medida', 'que', 'avançarmos', ',', 'vamos', ',', 'é', 'claro', ',', 'experienciar', 'coisas', 'terríveis', '.'], ['e', 'tudo', 'isso', 'numa', 'altura', 'em', 'que', 'a', 'população', 'duplicou', '.'], ['então', ',', 'as', 'pessoas', 'precisam', 'de', 'alguma', 'habitação', 'temporária', ',', 'mas', 'não', 'há', 'arquitetos', 'a', 'trabalhar', 'lá', 'porque', 'estamos', 'ocupados', 'demais', 'a', 'trabalhar', 'para', 'as', 'pessoas', 'privilegiadas', '.'], ['``', 'claro', 'que', 'a', 'podem', 'ver', 'no', '``', \"''\", 'website', \"''\", \"''\", ',', 'e', 'também', 'iremos', 'falar', 'mais', 'sobre', 'ela', 'ao', 'longo', 'do', 'dia', '.', \"''\"], ['logo', 'a', 'seguir', ',', 'encontrei', 'outra', 'foto', 'minha', '.'], ['(', 'aplausos', ')', 'essa', 'ronda', 'de', 'aplausos', 'é', 'na', 'verdade', 'para', 'os', 'médicos', 'e', 'enfermeiras', 'do', 'hospital', 'que', 'cuidou', 'da', 'avelile', '.'], ['e', 'a', 'resposta', 'é', 'cerca', 'de', 'meio', 'segundo', '.'], ['sabemos', 'que', 'todos', 'nós', 'neste', 'auditório', 'fazemos', 'erros', '.'], ['a', 'tracoma', 'é', 'uma', 'infeção', 'dos', 'olhos', 'que', 'se', 'deve', 'ao', 'pó', 'que', 'entra', 'na', 'vista', '.', 'múltiplas', 'infeções', 'de', 'tracoma', 'podem', 'deixar-vos', 'definitivamente', 'cegos', '.'], ['``', '``', \"''\", 'gostei', 'do', 'seu', 'livro', ',', \"''\", \"''\", 'disse', 'ele', ',', \"''\"], ['como', 'é', 'que', 'publicam', 'os', 'documentos', '?'], ['também', 'se', 'vê', 'conchas', '—', 'como', 'as', 'que', 'foram', 'descobertas', 'por', 'uma', 'equipa', 'aqui', 'de', 'oxford', '—', 'a', 'deslocarem-se', '125', 'milhas', '(', '201', 'km', ')', 'para', 'o', 'interior', 'desde', 'o', 'mediterrâneo', ',', 'na', 'argélia', '.'], ['outras', 'criaturas', ',', 'como', 'os', 'corvos', ',', 'não', 'são', 'especialmente', 'bons', 'a', 'fazer', 'uma', 'coisa', 'específica', ',', 'mas', 'são', 'extremamente', 'bons', 'a', 'aprender', 'as', 'regras', 'de', 'diferentes', 'ambientes', '.'], ['milhares', 'de', 'pessoas', 'viram-na', ',', 'e', 'uma', 'delas', 'foi', 'o', '[', 'arquiteto', ']', 'urbanista', 'manuel', 'solà-morales', 'que', 'estava', 'a', 'redesenhar', 'a', 'frente', 'marítima', '[', 'do', 'parque', 'da', 'cidade', ']', 'do', 'porto', ',', 'portugal', '.'], ['na', 'verdade', ',', 'nalguns', 'estados', 'dos', 'eua', ',', 'necessitamos', 'de', 'menos', 'informações', ',', 'necessitamos', 'de', 'fornecer', 'menos', 'informações', 'para', 'termos', 'uma', 'empresa', 'do', 'que', 'necessitamos', 'para', 'ter', 'um', 'cartão', 'da', 'biblioteca', '.'], ['depois', ',', 'enquanto', 'adultos', ',', 'podemos', 'pegar', 'nas', 'coisas', 'que', 'aprendemos', 'quando', 'éramos', 'bebés', 'e', 'crianças', 'e', 'pô-las', 'em', 'prática', 'na', 'vida', 'real', '.'], ['então', 'qual', 'é', 'a', 'resposta', 'evolutiva', 'ao', 'problema', 'da', 'incerteza', '?'], ['temos', 'a', 'primavera', ',', 'o', 'verão', ',', 'o', 'outono', 'e', '...', 'voz', ':', 'a', 'minha', 'estação', 'preferida', 'é', 'o', 'inverno', '.', 'mt', ':', 'bem', ',', 'sim', ',', 'a', 'minha', 'também', '.'], ['``', '``', \"''\", 'agora', 'temos', 'a', 'felicidade', 'de', 'desvendar', 'o', 'espaço', '.', \"''\"], ['(', 'risos', ')', 'depois', 'de', 'ter', 'tentado', 'levar', 'isto', 'em', 'frente', 'na', 'secundária', ',', 'com', 'os', 'meus', 'poucos', 'recursos', ',', 'fui', 'para', 'a', 'universidade', ';', 'conheci', 'algumas', 'pessoas', ',', 'coloquei-a', 'em', 'prática', ',', 'e', 'temos', 'um', 'produto', 'funcional', 'que', 'está', 'pronto', 'para', 'o', 'mercado', '.', 'está', 'mesmo', 'disponível', 'no', 'mercado', '.'], ['inicialmente', ',', 'teria', 'acreditado', 'nelas', '.'], ['por', 'isso', ',', 'temos', 'que', 'iniciar', 'uma', 'fundação', 'com', 'um', 'modelo', 'individualizado', '.'], ['porque', 'temos', 'de', 'incluir', 'o', 'homem', 'que', 'cultivou', 'o', 'café', ',', 'que', 'foi', 'servido', 'ao', 'homem', 'que', 'estava', 'na', 'plataforma', 'petrolífera', ',', 'que', 'estava', 'a', 'explorar', 'petróleo', ',', 'o', 'qual', 'viria', 'a', 'ser', 'transformado', 'em', 'plástico', ',', 'etc', '.'], ['o', 'nosso', 'pensamento', 'é', 'retrógrado', '.'], ['podem', 'ir', 'e', 'criar', 'o', 'vosso', 'museu', 'online', 'criar', 'a', 'vossa', 'coleção', 'com', 'todas', 'estas', 'imagens', '.'], ['está', 'vivo', ',', 'saudável', ',', 'apenas', 'foi', 'banido', 'da', 'cidade', '.'], ['acontece', 'que', 'eles', 'são', 'à', 'prova', 'de', 'água', 'e', ',', '(', 'risos', ')', 'isto', 'aqui', 'é', 'água', 'fluorescente', ',', 'e', 'não', 'sei', 'se', 'conseguem', 'ver', 'isto', '.'], ['``', 'aluno', ':', '``', \"''\", 'e', 'três', 'aqui', '.', \"''\", \"''\", \"''\"], ['pensem', 'em', 'quão', 'longe', 'chegámos', '.'], ['foi', 'uma', 'relação', 'à', 'distância', 'durante', 'os', 'primeiros', 'dois', 'anos', ',', 'o', 'que', 'para', 'mim', 'significou', 'muitos', 'altos', 'e', 'baixos', '.'], ['como', 'se', 'sentiriam', '?'], ['joker', ':', 'apresento', 'o', 'meu', 'pogo', '.', 'mt', ':', 'ah', 'cuidado', '.'], ['``', 'o', 'seu', 'título', ':', '``', \"''\", '1.26', \"''\", \"''\", 'refere-se', 'ao', 'número', 'de', 'microssegundos', 'em', 'que', 'se', 'encurtou', 'o', 'dia', 'na', 'terra', '.', \"''\"], ['``', 'diz', 'ali', 'literalmente', ':', '``', \"''\", 'wat', 'ar', 'ou', 'rea', 'in', '?', \"''\", \"''\", 'certo', '?', \"''\"], ['``', 'esta', 'é', '``', \"''\", 'a', 'noite', 'estrelada', \"''\", \"''\", ',', 'segundo', 'penso', ',', 'nunca', 'vista', 'desta', 'forma', '.', \"''\"], ['usámos', 'o', 'ramo', 'como', 'um', 'modelo', 'para', 'a', 'nossa', 'primeira', 'invenção', '.'], ['quando', 'olham', 'através', 'deles', ',', 'conseguem', 'ter', 'uma', 'perceção', 'da', 'mente', 'de', 'um', 'ciber-ilusionista', '.'], ['funciona', 'muito', 'bem', 'com', 'coisas', 'que', 'não', 'se', 'deslocam', 'muito', ',', 'mas', 'não', 'tanto', 'com', 'coisas', 'que', 'se', 'deslocam', '.'], ['quantas', 'das', 'coisas', 'que', 'temos', 'nos', 'bolsos', 'poderíamos', 'continuar', 'a', 'fazer', 'após', '10.000', 'anos', '?'], ['a', 'ciência', 'e', 'colocar', 'perguntas', 'é', 'sobre', 'coragem', '.'], ['infelizmente', ',', 'uma', 'das', 'coisas', 'de', 'que', 'nos', 'esquecemos', 'nesses', 'momentos', 'de', 'stress', 'é', 'do', 'pensamento', 'lógico', 'e', 'racional', ',', 'como', 'danny', 'kahneman', 'e', 'os', 'colegas', 'demonstraram', '.'], ['as', 'diferenças', 'são', 'o', 'que', 'me', 'interessa', '.', 'porque', 'o', 'design', 'do', 'da', 'esquerda', 'praticamente', 'não', 'variou', 'durante', 'cerca', 'de', 'um', 'milhão', 'de', 'anos', '—', 'desde', 'há', 'um', 'milhão', 'e', 'meio', 'de', 'anos', 'até', 'há', 'meio', 'milhão', 'de', 'anos', '.'], ['acho', 'que', 'para', 'responder', 'a', 'essa', 'pergunta', 'é', 'necessário', 'compreender', 'como', 'os', 'seres', 'humanos', 'unem', 'os', 'seus', 'cérebros', 'e', 'permitem', 'combinar', 'e', 'recombinar', 'as', 'suas', 'ideias', 'para', 'que', 'estas', 'se', 'encontrem', 'e', ',', 'de', 'facto', ',', 'acasalem', '.'], ['e', 'mais', 'do', 'que', 'isso', ',', 'é', 'uma', 'combinação', 'de', 'diferentes', 'ideias', ',', 'a', 'ideia', 'do', 'plástico', ',', 'a', 'ideia', 'do', 'laser', ',', 'a', 'ideia', 'dos', 'transístores', '.'], ['``', '``', \"''\", 'e', 'falámos', 'dos', 'custos', 'para', 'os', 'doentes', ',', '``', 'podemos', 'tornar', 'o', 'tratamento', 'mais', 'eficiente', '?', \"''\", \"''\"], ['como', 'é', 'ser', 'um', 'bebé', '?'], ['a', 'sua', 'teimosia', 'e', 'coragem', 'inspiram', 'a', 'nossa', 'criatividade', '.'], ['continua', 'a', 'não', 'resultar', '.'], ['por', 'outro', 'lado', ',', 'temos', 'a', 'nossa', 'amiga', 'galinha', 'doméstica', '.'], ['rádio', ':', '...', 'logo', 'que', 'cheguem', 'lá', ',', 'deem-lhes', 'em', 'cima', '.'], ['ah', '!', 'excelente', '.', 'posso', 'vir', 'para', 'aqui', ',', 'certo', '?'], ['a', 'sylvia', 'gosta', 'de', 'dizer', 'que', 'o', 'azul', 'é', 'o', 'novo', 'verde', '.'], ['perguntei-lhe', 'como', 'é', 'que', 'ela', 'fazia', 'isso', '.', 'era', 'o', 'poder', 'da', 'oração', '?'], ['na', 'verdade', ',', 'quase', 'qualquer', 'parte', 'do', 'corpo', 'pode', 'originar', 'um', 'fantasma', '.'], ['(', 'aplauso', ')'], ['o', 'problema', 'reside', 'no', 'próprio', 'microscópio', '.'], ['``', 'passados', 'quatro', 'anos', ',', 'depois', 'de', 'ter', 'escrito', 'um', 'plano', 'de', 'negócios', 'de', '40', 'páginas', 'no', 'telemóvel', ',', 'tendo', 'escrito', 'a', 'minha', 'patente', 'no', 'telemóvel', ',', 'sou', 'o', 'mais', 'jovem', 'autor', 'de', 'uma', 'patente', 'no', 'país', ',', 'e', '—', '(', '``', \"''\", 'banhos', 'nunca', 'mais', '!', \"''\", \"''\", ')', '—', 'não', 'posso', 'dizer', 'mais', 'do', 'que', 'isso', '.', '(', 'risos', ')', 'tinha', 'inventado', 'o', \"'drybath\", \"'\", ',', 'a', 'primeira', 'loção', 'que', 'substitui', 'o', 'banho', '.', \"''\"], ['obrigada', '.', 'b.l', '.', ':', 'muito', 'obrigado', '.', '(', 'aplausos', ')', '(', 'aplausos', ')'], ['``', 'provei', 'as', 'bolachas', '.', 'uuuu', ',', 'blhac', '.', \"''\", \"''\", 'agia', ',', 'portanto', ',', 'como', 'se', 'o', 'que', 'ela', 'queria', 'fosse', 'o', 'oposto', 'daquilo', 'que', 'os', 'bebés', 'queriam', '.', \"''\"], ['ok', ',', 'hoje', 'quero', 'falar', 'sobre', 'a', 'forma', 'como', 'falamos', 'do', 'amor', '.'], ['compram', 'quando', 'precisam', '.', 'uma', 'pessoa', 'em', 'alex', 'não', 'compra', 'uma', 'caixa', 'de', 'cigarros', '.', 'compram', 'um', 'cigarro', 'todos', 'os', 'dias', ',', 'mesmo', 'sendo', 'mais', 'caro', '.'], ['erik', ',', 'o', 'meu', 'sogro', ',', 'sofre', 'de', 'cancro', 'da', 'próstata', ',', 'e', 'provavelmente', 'precisa', 'de', 'ser', 'operado', '.'], ['se', 'olharmos', 'para', 'as', 'muitas', ',', 'muitas', 'espécies', 'de', 'animais', ',', 'não', 'apenas', 'nós', ',', 'primatas', ',', 'como', 'também', 'outros', 'mamíferos', ',', 'aves', ',', 'até', 'mesmo', 'marsupiais', 'como', 'cangurus', 'e', 'vombates', ',', 'verificamos', 'que', 'existe', 'uma', 'relação', 'entre', 'o', 'tempo', 'de', 'infância', 'que', 'uma', 'espécie', 'tem', 'e', 'o', 'tamanho', 'dos', 'seus', 'cérebros', 'em', 'relação', 'ao', 'corpo', 'e', 'quão', 'espertos', 'e', 'flexíveis', 'eles', 'são', '.'], ['metade', 'das', 'vezes', 'agia', 'como', 'se', 'gostasse', 'das', 'bolachas', 'e', 'não', 'gostasse', 'dos', 'brócolos', 'tal', 'como', 'um', 'bebé', 'ou', 'qualquer', 'outra', 'pessoa', 'boa', 'da', 'cabeça', '.'], ['e', 'porque', 'é', 'que', 'falamos', 'sobre', 'esta', 'experiência', 'boa', 'como', 'se', 'fôssemos', 'vítimas', '?'], ['(', 'risos', ')', 'não', 'sabia', 'por', 'onde', 'começar', ',', 'mas', 'disse', 'sim', '.'], ['o', 'primeiro', 'passo', 'foi', 'fazer', 'uma', 'pergunta', '.'], ['e', 'desta', 'forma', ',', 'tenho', 'fortificado', 'a', 'minha', 'plataforma', 'e', 'ampliando', 'o', 'meu', 'alcance', '.'], ['próximo', 'desafio', ',', 'a', 'bienal', 'das', 'américas', 'em', 'denver', 'perguntou-me', 'se', 'eu', 'podia', 'representar', 'as', '35', 'nações', 'do', 'hemisfério', 'ocidental', 'e', 'a', 'sua', 'interligação', 'numa', 'escultura', '.'], ['isto', 'é', 'verdade', '.'], ['em', 'novembro', 'de', '2003', ',', 'fui', 'convidada', 'para', 'participar', 'no', 'lançamento', 'da', 'fundação', '46664', 'de', 'nelson', 'mandela', '-', 'que', 'é', 'a', 'sua', 'fundação', 'vih/sida', '.'], ['fizemos', 'um', 'estudo', 'em', 'que', 'vimos', 'os', 'dados', 'da', 'ocde', '.'], ['vamos', 'querer', 'saber', 'isso', 'antes', 'de', 'o', 'mastodonte', 'aparecer', '.'], ['cair', 'é', 'acidental', ',', 'é', 'incontrolável', '.'], ['``', 'mas', 'apesar', 'do', 'meu', 'pânico', ',', 'uma', 'vozinha', 'na', 'minha', 'cabeça', 'disse-me', ':', '``', \"''\", 'uau', '.', 'isto', 'foi', 'dramático', '.', \"''\"], ['se', 'entrarmos', 'dentro', 'de', 'um', 'barco', ',', 'o', 'nosso', 'ouvido', 'interno', 'está', 'a', 'dizer-nos', 'que', 'estamos', 'em', 'movimento', '.', 'os', 'nossos', 'olhos', ',', 'porque', 'se', 'movem', 'ao', 'mesmo', 'tempo', 'que', 'o', 'barco', ',', 'dizem', 'que', 'estamos', 'parados', '.'], ['o', 'argumento', 'em', 'si', 'era', 'cativante', '.'], ['mas', 'no', 'caso', 'de', 'uma', 'espécie', 'sexuada', ',', 'é', 'possível', 'que', 'um', 'indivíduo', 'herde', 'ambas', 'as', 'mutações', 'de', 'linhagens', 'diferentes', '.'], ['peçam', 'um', 'desejo', '.', '(', 'som', 'de', 'assopro', ')', 'voz', ':', 'não', 'contem', ',', 'senão', 'não', 'se', 'irá', 'concretizar', '.'], ['foi', 'apenas', 'por', 'causa', 'dos', 'nossos', 'passaportes', '.'], ['precisamos', 'que', 'os', 'líderes', 'políticos', 'reconheçam', 'o', 'problema', 'e', 'se', 'comprometam', 'em', 'mudar', 'a', 'lei', 'para', 'abrir', 'este', 'tipo', 'de', 'sigilo', '.'], ['agora', ',', 'há', 'quem', 'diga', 'que', 'os', 'quatro', 'naipes', 'representam', 'as', 'quatro', 'estações', '.'], ['um', 'foldscope', 'é', 'um', 'microscópio', 'totalmente', 'funcional', ',', 'uma', 'plataforma', 'para', 'fluorescência', ',', 'campo', 'claro', ',', 'polarização', ',', 'projecção', ',', 'todos', 'os', 'tipos', 'de', 'microscopia', 'avançada', 'construído', 'pura', 'e', 'simplesmente', 'dobrando', 'papel', '.'], ['somos', 'capazes', 'de', 'nos', 'basear', 'na', 'especialização', 'e', 'na', 'troca', 'para', 'aumentar', 'os', 'níveis', 'de', 'qualidade', 'de', 'vida', 'uns', 'dos', 'outros', '.'], ['``', 'o', 'grupo', 'discutiu', ':', '``', 'como', 'é', 'que', 'avaliamos', 'a', 'qualidade', 'hoje', 'em', 'dia', '?', \"''\", \"''\"], ['e', 'em', '2008', ',', 'em', 'chengdu', ',', 'área', 'de', 'sichuan', 'na', 'china', ',', 'cerca', 'de', '70', '000', 'pessoas', 'morreram', ',', 'e', 'especialmente', ',', 'muitas', 'escolas', 'foram', 'destruídas', 'por', 'causa', 'da', 'corrupção', 'das', 'autoridades', 'e', 'do', 'construtor', '.'], ['é', 'isso', 'que', 'a', 'ciência', 'nos', 'dá', '.', 'dá-nos', 'a', 'possibilidade', 'por', 'um', 'pézinho', 'na', 'incerteza', 'usando', 'o', 'processo', 'da', 'brincadeira', ',', 'certo', '?'], ['como', 'podem', 'ver', 'no', 'gráfico', ',', 'a', 'frequência', 'deste', 'tipo', 'de', 'buraco', 'aumenta', 'drasticamente', 'com', 'a', 'altitude', '.'], ['e', 'não', 'há', 'tempo', 'para', 'montar', 'tudo', '.'], ['agora', 'quero', 'ampliar', 'aqui', 'na', 'lua', '.'], ['a', 'ideia', 'é', 'que', 'essas', 'expressões', 'lembram-nos', 'uma', 'coisa', 'específica', '.'], ['a', 'forma', 'de', 'ler', 'este', 'slide', 'é', 'olhar', 'para', 'a', 'sua', 'idade', 'na', 'barra', 'horizontal', '.'], ['``', 'o', '``', \"''\", 'timing', \"''\", \"''\", 'foi', ',', 'em', '42', '%', 'das', 'vezes', ',', 'a', 'diferença', 'entre', 'o', 'sucesso', 'e', 'o', 'fracasso', '.', \"''\"], ['mas', 'o', 'que', 'eu', 'penso', 'que', 'virá', 'a', 'seguir', 'é', 'bem', 'mais', 'interessante', '.'], ['a', 'mãe', 'de', 'avelile', 'tinha', 'o', 'vírus', 'vih', '-', 'ela', 'morreu', 'de', 'uma', 'doença', 'relacionada', 'com', 'a', 'sida', '.'], ['ali', 'estavam', 'eles', 'nos', 'seus', 'fatos', 'de', 'negócios', ',', 'deitados', 'na', 'relva', ',', 'a', 'reparar', 'na', 'alteração', 'de', 'padrões', 'do', 'vento', 'ao', 'lado', 'de', 'pessoas', 'que', 'não', 'conheciam', ',', 'partilhando', 'a', 'redescoberta', 'da', 'maravilha', '.'], ['marco', 'tempest', ':', 'para', 'aqueles', 'que', 'não', 'jogam', 'às', 'cartas', ',', 'um', 'baralho', 'de', 'cartas', 'é', 'composto', 'por', 'quatro', 'naipes', 'diferentes', ':', 'copas', ',', 'paus', ',', 'ouros', 'e', 'espadas', '.'], ['``', 'só', 'no', 'livro', 'do', 'êxodo', ',', 'há', '16', 'referências', 'a', '``', \"''\", 'fulminar', \"''\", \"''\", ',', 'que', 'é', 'a', 'palavra', 'que', 'a', 'bíblia', 'usa', 'para', 'a', 'vingança', 'da', 'ira', 'de', 'deus', '.', \"''\"], ['``', 'era', 'um', 'ditador', '``', \"''\", 'fraco', \"''\", \"''\", 'do', 'quénia', '.', \"''\"], ['agora', ',', 'para', 'terminar', ',', 'eu', 'penso', 'que', 'aquilo', 'em', 'que', 'todos', 'precisamos', 'pensar', 'é', 'se', 'queremos', 'que', 'isso', 'se', 'torne', 'a', 'nossa', 'realidade', '—', 'e', 'se', 'sim', ',', 'o', 'que', 'é', 'que', 'isso', 'significa', 'para', 'a', 'definição', 'de', 'vida', 'e', 'para', 'tudo', 'o', 'que', 'vem', 'após', '[', 'a', 'vida', ']', '.'], ['e', 'o', 'que', 'bayes', 'demonstrou', 'foi', 'um', 'método', 'matemático', 'que', 'permite', 'fazer', 'isso'], ['é', 'uma', 'grande', 'diferença', ',', 'sete', 'vezes', 'diferente', '.'], ['e', 'o', 'utilizador', 'médio', 'de', 'facebook', 'cria', '90', 'pedaços', 'de', 'conteúdo', 'a', 'cada', 'mês', '.'], ['e', 'isso', 'deve-se', 'ao', 'facto', 'de', 'que', 'ambos', 'foram', 'feitos', 'para', 'caber', 'na', 'mão', 'humana', '.'], ['como', 'é', 'possível', 'que', 'as', 'crianças', 'façam', 'análises', 'estatísticas', '?'], ['muitos', 'dos', 'países', 'que', 'vocês', 'representam', 'e', 'de', 'onde', 'eu', 'venho', 'estão', 'a', 'debater-se', 'com', 'o', 'custo', 'dos', 'cuidados', 'de', 'saúde', '.'], ['bem', ',', 'isso', 'seria', 'espantoso', 'porque', 'estamos', 'a', 'falar', 'de', 'um', 'inseto', 'apenas', 'com', 'um', 'milhão', 'de', 'células', 'cerebrais', '.'], ['a', 'primeira', 'é', 'que', ',', 'lembrem-se', ',', 'estas', 'crianças', 'têm', '4', 'anos', '.'], ['até', 'ao', 'final', 'deste', 'ano', ',', 'existirão', 'quase', 'um', 'milhão', 'de', 'pessoas', 'neste', 'planeta', 'que', 'utilizam', 'activamente', 'páginas', 'de', 'redes', 'sociais', '.'], ['no', 'ano', 'passado', ',', 'foi', 'o', 'segundo', 'artigo', 'científico', 'mais', 'descarregado', 'na', 'revista', 'biology', 'letters', ',', 'e', 'as', 'reações', 'são', 'não', 'apenas', 'dos', 'cientistas', 'e', 'dos', 'professores', ',', 'mas', 'também', 'do', 'público', 'em', 'geral', '...'], ['o', 'que', 'acontece', 'quando', 'se', 'impede', 'às', 'pessoas', 'o', 'acesso', 'à', 'troca', ',', 'à', 'capacidade', 'de', 'trocar', 'e', 'se', 'especializar', '?'], ['podem', 'pensar', 'que', 'estou', 'a', 'espirrar', ',', 'mas', 'não', 'estou', 'a', 'espirrar', ',', 'é', 'um', 'acrónimo', '.'], ['portanto', 'o', 'deslocamento', 'de', 'grande', 'distância', 'de', 'ferramentas', 'é', 'um', 'sinal', 'de', 'troca', ',', 'e', 'não', 'de', 'migração', '.'], ['quanto', 'tempo', 'seria', 'necesário', '?', 'um', 'bom', 'pedaço', '.'], ['``', '``', 'perdida', 'e', 'à', 'tua', 'espera', '.', 'vai', '!', \"''\", 'nos', 'anos', 'seguintes', ',', 'fui', 'estudar', 'medicina', '.', \"''\"], ['uma', 'ideia', 'é', 'a', 'de', 'que', 'essa', 'estratégia', 'de', 'aprendizagem', ',', 'é', 'uma', 'estratégia', 'de', 'sobrevivência', 'muito', 'poderosa', ',', 'mas', 'tem', 'uma', 'grande', 'desvantagem', '.'], ['nós', 'podemos', 'fazer', 'melhor', '.'], ['foi-me', 'pedido', 'para', 'reconstruir', 'a', 'igreja', 'temporária', '.'], ['no', 'fim', 'da', 'reunião', ',', 'o', 'presidente', 'do', 'departamento', 'levantou-se', ','], ['isto', 'é', 'uma', 'ferramenta', '-', 'isto', 'diz-vos', 'que', 'estou', 'solidária', 'com', 'as', 'pessoas', 'que', 'têm', 'o', 'vih', ',', 'pessoas', 'que', 'estão', 'a', 'viver', 'com', 'o', 'vih', '.'], ['conseguimos', 'fazer', 'coisas', 'como', 'atar', 'os', 'sapatos', 'ou', 'atravessar', 'a', 'estrada', 'sozinhos', '.'], ['não', 'há', 'evidência', 'de', 'comportamento', 'recoletor', 'nas', 'mulheres', '.'], ['quanto', 'tempo', 'teriam', 'realmente', 'de', 'trabalhar', 'hoje', 'para', 'obter', 'uma', 'hora', 'de', 'luz', 'para', 'ler', 'se', 'tiverem', 'o', 'equivalente', 'à', 'média', 'salarial', 'britânica', '?'], ['a', 'primeira', 'é', 'o', 'facto', 'de', 'estes', 'bebés', 'de', '18', 'meses', 'terem', 'já', 'descoberto', 'esta', 'verdade', 'profunda', 'da', 'condição', 'humana', ':', 'que', 'nem', 'sempre', 'queremos', 'as', 'mesmas', 'coisas', '.'], ['portanto', ',', 'embalamos', 'o', 'drybath', 'nestas', 'pequenas', 'saquetas', 'inovadoras', '.'], ['a', 'infância', 'é', ',', 'portanto', ',', 'a', 'razão', 'pela', 'qual', 'os', 'corvos', 'acabam', 'na', 'capa', 'da', 'revista', 'science', 'e', 'as', 'galinhas', 'na', 'panela', 'da', 'sopa', '.'], ['mas', ',', 'devo', 'dizer', 'que', 'já', 'não', 'são', 'catástrofes', 'naturais', '.'], ['onde', 'estão', 'as', 'redes', 'económicas', '?'], ['mesmo', 'um', 'edifício', 'feito', 'em', 'papel', ',', 'pode', 'ser', 'permanente', ',', 'desde', 'que', 'as', 'pessoas', 'o', 'adorem', '.'], ['este', 'tipo', 'de', 'sociedade', 'não', 'só', 'é', 'possível', ',', 'como', 'já', 'está', 'a', 'caminho', '.'], ['mas', 'inconscientemente', ',', 'estão', 'a', 'fazer', 'estes', 'cálculos', 'bastante', 'complicados', 'que', 'lhes', 'darão', 'uma', 'medida', 'da', 'probabilidade', 'condicionada', '.'], ['``', '``', \"''\", 'eu', 'acredito', 'que', 'a', 'eleanor', 'consegue', 'ultrapassar', 'isto', '.', \"''\"], ['os', 'médicos', 'reúnem-se', ',', 'chegam', 'a', 'acordo', 'sobre', 'o', 'que', 'é', 'considerado', 'qualidade', ',', 'começam', 'a', 'avaliar', ',', 'partilham', 'os', 'dados', ',', 'descobrem', 'quem', 'é', 'o', 'melhor', 'e', 'aprendem', 'com', 'ele', '.'], ['extraordinariamente', ',', 'são', 'exatamente', 'do', 'mesmo', 'tamanho', 'e', 'formato', '.'], ['``', 'então', 'amy', ',', 'podes', 'aparecer', '?', '(', 'aplausos', ')', 'a', 'amy', 'vai', 'ajudar-me', 'a', 'contar', 'a', 'história', 'daquilo', 'a', 'que', 'chamamos', 'o', '``', \"''\", 'blackawton', 'bees', 'project', \"''\", \"''\", 'e', ',', 'em', 'primeiro', 'lugar', ',', 'vai', 'dizer-vos', 'a', 'pergunta', 'que', 'eles', 'colocaram', '.', 'força', ',', 'amy', '.', \"''\"], ['a', 'ciência', 'é', 'correr', 'riscos', ',', 'e', 'este', 'é', 'um', 'risco', 'incrível', ',', 'certo', '?', 'para', 'mim', ',', 'não', 'para', 'ele', '.', 'certo', '?', 'porque', 'só', 'fizemos', 'isto', 'antes', 'uma', 'vez', '.', 'você', 'gosta', 'de', 'tecnologia', ',', 'certo', '?'], [\"a.o't\", '.', ':', 'este', 'projeto', 'foi', 'muito', 'empolgante', 'para', 'mim', ',', 'porque', 'deu', 'vida', 'ao', 'processo', 'de', 'descoberta', ',', 'e', 'mostrou-me', 'que', 'qualquer', 'pessoa', ',', 'qualquer', 'pessoa', 'mesmo', ',', 'tem', 'o', 'potencial', 'de', 'descobrir', 'qualquer', 'coisa', 'nova', ',', 'e', 'que', 'uma', 'pequena', 'pergunta', 'pode', 'conduzir', 'a', 'uma', 'grande', 'descoberta', '.'], ['usando', 'este', 'aparelho', 'tão', 'simples', ',', 'o', 'meu', 'laboratório', 'e', 'outros', 'fizeram', 'dezenas', 'de', 'estudos', 'que', 'comprovam', 'como', 'os', 'bebés', 'são', 'bons', 'a', 'compreender', 'o', 'mundo', 'que', 'os', 'rodeia', '.'], ['sabem', ',', 'eu', 'acho', 'que', 'provavelmente', 'são', 'milhões', '.'], ['e', 'também', 'é', 'preciso', 'pensar', 'na', 'qualidade', 'de', 'vida', ','], ['``', '``', \"''\", 'o', 'artigo', 'não', 'passou', 'no', 'nosso', 'controlo', 'de', 'qualidade', 'inicial', 'de', 'variadas', 'e', 'diferentes', 'formas', \"''\", \"''\", '.', '(', 'risos', ')', 'noutras', 'palavras', ',', 'começa', 'com', '``', \"''\", 'era', 'uma', 'vez', \"''\", \"''\", ',', 'as', 'imagens', 'são', 'a', 'lápis', 'de', 'cor', ',', 'etc', '.', '(', 'risos', ')', 'então', 'resolvemos', 'que', 'seria', 'revisto', '.', 'por', 'isso', ',', 'enviámo-lo', 'ao', 'dale', 'purves', ',', 'que', 'está', 'na', 'academia', 'nacional', 'da', 'ciência', ',', 'um', 'dos', 'grandes', 'neurocientistas', 'no', 'mundo', ',', 'e', 'ele', 'disse', ':', '``', \"''\", 'este', 'é', 'o', 'artigo', 'cientifico', 'mais', 'original', 'que', 'alguma', 'vez', 'li', '...', '(', 'risos', ')', '``', \"''\", '...', 'e', 'merece', 'certamente', 'uma', 'ampla', 'exposição', \"''\", \"''\", '.', \"''\"], ['na', 'realidade', ',', 'um', 'deles', ',', 'de', 'forma', 'suficientemente', 'adequada', ',', 'encontrou-me', 'quando', 'eu', 'fiz', 'check', 'in', 'numa', 'loja', 'num', 'restaurante', 'em', 'nova', 'iorque', 'no', 'foursquare', '.'], ['(', 'risos', ')', 'e', 'pelo', 'menos', 'até', 'fazerem', '23', 'anos', ',', 'continuamos', 'a', 'atirar', 'aquelas', 'minhocas', 'para', 'as', 'suas', 'boquinhas', 'abertas', '.'], ['eles', 'argumentam', 'que', 'as', 'metáforas', 'modelam', 'a', 'nossa', 'forma', 'de', 'interpretar', 'o', 'mundo', ',', 'e', 'que', 'elas', 'até', 'podem', 'agir', 'como', 'um', 'guia', 'para', 'ações', 'futuras', ',', 'como', 'profecias', 'autocumpridas', '.'], ['perguntei-lhe', 'como', 'estavam', 'as', 'coisas', '.'], ['♪', 'as', 'pessoas', 'dizem-te', 'que', 'isto', '♪', 'vai', 'fazer-te', 'feliz', '.'], ['a', 'expectativa', 'de', 'vida', 'aumentou', 'em', '30', 'por', 'cento', 'durante', 'o', 'meu', 'tempo', 'de', 'vida', '.'], ['como', 'um', 'maravilhoso', 'médico', 'me', 'disse', 'uma', 'vez', ':', '“não', 'me', 'digas', 'o', 'que', 'outras', 'pessoas', 'te', 'disseram', 'sobre', 'ti', 'própria', '.'], ['(', 'risos', ')', 'não', 'sei', '.'], ['há', 'cerca', 'de', '10', 'anos', ',', 'propus', 'que', 'os', 'bebés', 'poderiam', 'estar', 'a', 'fazer', 'algo', 'semelhante', '.'], ['e', 'como', 'é', 'possível', 'aprenderem', 'tanto', 'em', 'tão', 'pouco', 'tempo', '?'], ['a', 'investigação', 'recomeçou', '.'], ['tudo', 'isto', 'no', 'simples', 'aparelho', 'que', 'descrevi', '.'], ['``', 'disse-me', ':', '``', \"''\", 'desde', 'que', 'recolha', 'dinheiro', 'você', 'mesmo', ',', '``', 'e', 'traga', 'os', 'seus', 'alunos', 'para', 'construirem', ',', 'pode', 'fazê-lo', '.', \"''\", 'por', 'isso', ',', 'passámos', 'cinco', 'semanas', 'a', 'reconstruir', 'a', 'igreja', '.', \"''\"], ['afinal', 'de', 'contas', ',', 'se', 'perguntarmos', 'a', 'adultos', 'sobre', 'estatística', ',', 'eles', 'fazem', 'figuras', 'ridículas', '.'], ['os', 'grupos', 'de', 'chimpanzés', 'têm', 'culturas', 'que', 'diferem', 'de', 'grupo', 'para', 'grupo', '.'], ['é', 'claro', 'que', 'houve', 'algumas', 'mudanças', ',', 'mas', 'naquela', 'altura', 'as', 'ferramentas', 'mudavam', 'mais', 'devagar', 'que', 'os', 'esqueletos', '.'], ['mas', 'será', 'que', 'todos', 'têm', 'conhecimento', 'acerca', 'do', 'que', 'se', 'tem', 'vindo', 'a', 'passar', 'na', 'áfrica', 'do', 'sul', ',', 'o', 'seu', 'país', ',', 'o', 'país', 'que', 'teve', 'uma', 'das', 'maiores', 'incidências', 'de', 'transmissão', 'do', 'vírus', '?'], ['como', 'disse', 'peter', 'lavine', ',', 'o', 'ser', 'humano', 'é', 'um', 'ser', 'único', 'habilitado', 'com', 'uma', 'capacidade', 'instintiva', 'para', 'curar', 'e', 'com', 'o', 'espírito', 'intelectual', 'para', 'manter', 'esta', 'capacidade', 'inata', '.'], ['a', 'única', 'coisa', 'que', 'têm', 'em', 'comum', 'é', 'que', 'realmente', 'se', 'importam', 'com', 'o', 'que', 'conseguem', 'em', 'termos', 'de', 'qualidade', 'para', 'os', 'seus', 'doentes', '.'], ['(', 'música', ')', 'voz', ':', 'o', 'sistema', 'está', 'pronto', '.', 'a', 'carregar', 'imagem', '.'], ['e', 'os', 'nossos', 'bebés', 'e', 'crianças', 'dependem', 'de', 'nós', 'por', 'muito', 'mais', 'tempo', 'do', 'que', 'qualquer', 'bebé', 'de', 'outra', 'espécie', '.']]\n"
          ]
        }
      ]
    },
    {
      "cell_type": "code",
      "source": [
        "import nltk\n",
        "from nltk.translate.bleu_score import corpus_bleu\n",
        "\n",
        "# weights=(1, 0, 0, 0)\n",
        "# weights=(0, 1, 0, 0)\n",
        "weights=(0, 0, 1, 0)\n",
        "# weights=(0, 0, 0, 1.0)\n",
        "# weights=(0.25, 0.25, 0.25, 0.25)\n",
        "\n",
        "score = corpus_bleu(originals, predictions, weights=weights)\n",
        "# score = corpus_bleu(originals, predictions, weights=weights, smoothing_function=nltk.translate.bleu_score.SmoothingFunction().method7)\n",
        "print(score)"
      ],
      "metadata": {
        "colab": {
          "base_uri": "https://localhost:8080/"
        },
        "id": "5HFZhpTLAT9b",
        "outputId": "e81feb19-baf0-443d-d38d-667c3e8488c2"
      },
      "execution_count": null,
      "outputs": [
        {
          "output_type": "stream",
          "name": "stdout",
          "text": [
            "8.06354070072169e-05\n"
          ]
        },
        {
          "output_type": "stream",
          "name": "stderr",
          "text": [
            "/usr/local/lib/python3.7/dist-packages/nltk/translate/bleu_score.py:490: UserWarning: \n",
            "Corpus/Sentence contains 0 counts of 4-gram overlaps.\n",
            "BLEU scores might be undesirable; use SmoothingFunction().\n",
            "  warnings.warn(_msg)\n"
          ]
        }
      ]
    }
  ],
  "metadata": {
    "accelerator": "GPU",
    "colab": {
      "collapsed_sections": [],
      "name": "translator_BLEU",
      "provenance": []
    },
    "kernelspec": {
      "display_name": "Python 3 (ipykernel)",
      "language": "python",
      "name": "python3"
    },
    "language_info": {
      "codemirror_mode": {
        "name": "ipython",
        "version": 3
      },
      "file_extension": ".py",
      "mimetype": "text/x-python",
      "name": "python",
      "nbconvert_exporter": "python",
      "pygments_lexer": "ipython3",
      "version": "3.7.5"
    },
    "widgets": {
      "application/vnd.jupyter.widget-state+json": {
        "869e3c0b89b44108b8129adf0c2156cd": {
          "model_module": "@jupyter-widgets/controls",
          "model_name": "HBoxModel",
          "model_module_version": "1.5.0",
          "state": {
            "_view_name": "HBoxView",
            "_dom_classes": [],
            "_model_name": "HBoxModel",
            "_view_module": "@jupyter-widgets/controls",
            "_model_module_version": "1.5.0",
            "_view_count": null,
            "_view_module_version": "1.5.0",
            "box_style": "",
            "layout": "IPY_MODEL_5a5251dbdd004753a852d722347782d6",
            "_model_module": "@jupyter-widgets/controls",
            "children": [
              "IPY_MODEL_c9c3cdeadb8b44d68b0ffbe263dc44b3",
              "IPY_MODEL_14f57fb1327847ffa84ee8cf89d080b3",
              "IPY_MODEL_12e3fec49c154049a78bda58c513dbaa"
            ]
          }
        },
        "5a5251dbdd004753a852d722347782d6": {
          "model_module": "@jupyter-widgets/base",
          "model_name": "LayoutModel",
          "model_module_version": "1.2.0",
          "state": {
            "_view_name": "LayoutView",
            "grid_template_rows": null,
            "right": null,
            "justify_content": null,
            "_view_module": "@jupyter-widgets/base",
            "overflow": null,
            "_model_module_version": "1.2.0",
            "_view_count": null,
            "flex_flow": null,
            "width": null,
            "min_width": null,
            "border": null,
            "align_items": null,
            "bottom": null,
            "_model_module": "@jupyter-widgets/base",
            "top": null,
            "grid_column": null,
            "overflow_y": null,
            "overflow_x": null,
            "grid_auto_flow": null,
            "grid_area": null,
            "grid_template_columns": null,
            "flex": null,
            "_model_name": "LayoutModel",
            "justify_items": null,
            "grid_row": null,
            "max_height": null,
            "align_content": null,
            "visibility": null,
            "align_self": null,
            "height": null,
            "min_height": null,
            "padding": null,
            "grid_auto_rows": null,
            "grid_gap": null,
            "max_width": null,
            "order": null,
            "_view_module_version": "1.2.0",
            "grid_template_areas": null,
            "object_position": null,
            "object_fit": null,
            "grid_auto_columns": null,
            "margin": null,
            "display": null,
            "left": null
          }
        },
        "c9c3cdeadb8b44d68b0ffbe263dc44b3": {
          "model_module": "@jupyter-widgets/controls",
          "model_name": "HTMLModel",
          "model_module_version": "1.5.0",
          "state": {
            "_view_name": "HTMLView",
            "style": "IPY_MODEL_9b0ff68a22dc4fdd8e5c74678e54c964",
            "_dom_classes": [],
            "description": "",
            "_model_name": "HTMLModel",
            "placeholder": "​",
            "_view_module": "@jupyter-widgets/controls",
            "_model_module_version": "1.5.0",
            "value": "Dl Completed...: 100%",
            "_view_count": null,
            "_view_module_version": "1.5.0",
            "description_tooltip": null,
            "_model_module": "@jupyter-widgets/controls",
            "layout": "IPY_MODEL_b4d106c4f99c4c5ebb4bf93619aa061d"
          }
        },
        "14f57fb1327847ffa84ee8cf89d080b3": {
          "model_module": "@jupyter-widgets/controls",
          "model_name": "FloatProgressModel",
          "model_module_version": "1.5.0",
          "state": {
            "_view_name": "ProgressView",
            "style": "IPY_MODEL_465110fa6024407a93f8e7b47a9517ac",
            "_dom_classes": [],
            "description": "",
            "_model_name": "FloatProgressModel",
            "bar_style": "success",
            "max": 1,
            "_view_module": "@jupyter-widgets/controls",
            "_model_module_version": "1.5.0",
            "value": 1,
            "_view_count": null,
            "_view_module_version": "1.5.0",
            "orientation": "horizontal",
            "min": 0,
            "description_tooltip": null,
            "_model_module": "@jupyter-widgets/controls",
            "layout": "IPY_MODEL_0f743ef820b941b9b2f0bf02db86eaa0"
          }
        },
        "12e3fec49c154049a78bda58c513dbaa": {
          "model_module": "@jupyter-widgets/controls",
          "model_name": "HTMLModel",
          "model_module_version": "1.5.0",
          "state": {
            "_view_name": "HTMLView",
            "style": "IPY_MODEL_4e6bb434bafe4dc68f68407daff773d1",
            "_dom_classes": [],
            "description": "",
            "_model_name": "HTMLModel",
            "placeholder": "​",
            "_view_module": "@jupyter-widgets/controls",
            "_model_module_version": "1.5.0",
            "value": " 1/1 [00:08&lt;00:00,  4.30s/ url]",
            "_view_count": null,
            "_view_module_version": "1.5.0",
            "description_tooltip": null,
            "_model_module": "@jupyter-widgets/controls",
            "layout": "IPY_MODEL_875d0da7876246c790635095ca0a1ab3"
          }
        },
        "9b0ff68a22dc4fdd8e5c74678e54c964": {
          "model_module": "@jupyter-widgets/controls",
          "model_name": "DescriptionStyleModel",
          "model_module_version": "1.5.0",
          "state": {
            "_view_name": "StyleView",
            "_model_name": "DescriptionStyleModel",
            "description_width": "",
            "_view_module": "@jupyter-widgets/base",
            "_model_module_version": "1.5.0",
            "_view_count": null,
            "_view_module_version": "1.2.0",
            "_model_module": "@jupyter-widgets/controls"
          }
        },
        "b4d106c4f99c4c5ebb4bf93619aa061d": {
          "model_module": "@jupyter-widgets/base",
          "model_name": "LayoutModel",
          "model_module_version": "1.2.0",
          "state": {
            "_view_name": "LayoutView",
            "grid_template_rows": null,
            "right": null,
            "justify_content": null,
            "_view_module": "@jupyter-widgets/base",
            "overflow": null,
            "_model_module_version": "1.2.0",
            "_view_count": null,
            "flex_flow": null,
            "width": null,
            "min_width": null,
            "border": null,
            "align_items": null,
            "bottom": null,
            "_model_module": "@jupyter-widgets/base",
            "top": null,
            "grid_column": null,
            "overflow_y": null,
            "overflow_x": null,
            "grid_auto_flow": null,
            "grid_area": null,
            "grid_template_columns": null,
            "flex": null,
            "_model_name": "LayoutModel",
            "justify_items": null,
            "grid_row": null,
            "max_height": null,
            "align_content": null,
            "visibility": null,
            "align_self": null,
            "height": null,
            "min_height": null,
            "padding": null,
            "grid_auto_rows": null,
            "grid_gap": null,
            "max_width": null,
            "order": null,
            "_view_module_version": "1.2.0",
            "grid_template_areas": null,
            "object_position": null,
            "object_fit": null,
            "grid_auto_columns": null,
            "margin": null,
            "display": null,
            "left": null
          }
        },
        "465110fa6024407a93f8e7b47a9517ac": {
          "model_module": "@jupyter-widgets/controls",
          "model_name": "ProgressStyleModel",
          "model_module_version": "1.5.0",
          "state": {
            "_view_name": "StyleView",
            "_model_name": "ProgressStyleModel",
            "description_width": "",
            "_view_module": "@jupyter-widgets/base",
            "_model_module_version": "1.5.0",
            "_view_count": null,
            "_view_module_version": "1.2.0",
            "bar_color": null,
            "_model_module": "@jupyter-widgets/controls"
          }
        },
        "0f743ef820b941b9b2f0bf02db86eaa0": {
          "model_module": "@jupyter-widgets/base",
          "model_name": "LayoutModel",
          "model_module_version": "1.2.0",
          "state": {
            "_view_name": "LayoutView",
            "grid_template_rows": null,
            "right": null,
            "justify_content": null,
            "_view_module": "@jupyter-widgets/base",
            "overflow": null,
            "_model_module_version": "1.2.0",
            "_view_count": null,
            "flex_flow": null,
            "width": "20px",
            "min_width": null,
            "border": null,
            "align_items": null,
            "bottom": null,
            "_model_module": "@jupyter-widgets/base",
            "top": null,
            "grid_column": null,
            "overflow_y": null,
            "overflow_x": null,
            "grid_auto_flow": null,
            "grid_area": null,
            "grid_template_columns": null,
            "flex": null,
            "_model_name": "LayoutModel",
            "justify_items": null,
            "grid_row": null,
            "max_height": null,
            "align_content": null,
            "visibility": null,
            "align_self": null,
            "height": null,
            "min_height": null,
            "padding": null,
            "grid_auto_rows": null,
            "grid_gap": null,
            "max_width": null,
            "order": null,
            "_view_module_version": "1.2.0",
            "grid_template_areas": null,
            "object_position": null,
            "object_fit": null,
            "grid_auto_columns": null,
            "margin": null,
            "display": null,
            "left": null
          }
        },
        "4e6bb434bafe4dc68f68407daff773d1": {
          "model_module": "@jupyter-widgets/controls",
          "model_name": "DescriptionStyleModel",
          "model_module_version": "1.5.0",
          "state": {
            "_view_name": "StyleView",
            "_model_name": "DescriptionStyleModel",
            "description_width": "",
            "_view_module": "@jupyter-widgets/base",
            "_model_module_version": "1.5.0",
            "_view_count": null,
            "_view_module_version": "1.2.0",
            "_model_module": "@jupyter-widgets/controls"
          }
        },
        "875d0da7876246c790635095ca0a1ab3": {
          "model_module": "@jupyter-widgets/base",
          "model_name": "LayoutModel",
          "model_module_version": "1.2.0",
          "state": {
            "_view_name": "LayoutView",
            "grid_template_rows": null,
            "right": null,
            "justify_content": null,
            "_view_module": "@jupyter-widgets/base",
            "overflow": null,
            "_model_module_version": "1.2.0",
            "_view_count": null,
            "flex_flow": null,
            "width": null,
            "min_width": null,
            "border": null,
            "align_items": null,
            "bottom": null,
            "_model_module": "@jupyter-widgets/base",
            "top": null,
            "grid_column": null,
            "overflow_y": null,
            "overflow_x": null,
            "grid_auto_flow": null,
            "grid_area": null,
            "grid_template_columns": null,
            "flex": null,
            "_model_name": "LayoutModel",
            "justify_items": null,
            "grid_row": null,
            "max_height": null,
            "align_content": null,
            "visibility": null,
            "align_self": null,
            "height": null,
            "min_height": null,
            "padding": null,
            "grid_auto_rows": null,
            "grid_gap": null,
            "max_width": null,
            "order": null,
            "_view_module_version": "1.2.0",
            "grid_template_areas": null,
            "object_position": null,
            "object_fit": null,
            "grid_auto_columns": null,
            "margin": null,
            "display": null,
            "left": null
          }
        },
        "9ed6d028879246f49cde2b17a42da0c2": {
          "model_module": "@jupyter-widgets/controls",
          "model_name": "HBoxModel",
          "model_module_version": "1.5.0",
          "state": {
            "_view_name": "HBoxView",
            "_dom_classes": [],
            "_model_name": "HBoxModel",
            "_view_module": "@jupyter-widgets/controls",
            "_model_module_version": "1.5.0",
            "_view_count": null,
            "_view_module_version": "1.5.0",
            "box_style": "",
            "layout": "IPY_MODEL_9665e657f4464098a21fb4e9e4694b5f",
            "_model_module": "@jupyter-widgets/controls",
            "children": [
              "IPY_MODEL_5a3610950b7749a0b80641f981470855",
              "IPY_MODEL_d7edd9c02ab146cb8ba2b9b2269b1226",
              "IPY_MODEL_9568286227ef4dda8f82b0eb918a0acf"
            ]
          }
        },
        "9665e657f4464098a21fb4e9e4694b5f": {
          "model_module": "@jupyter-widgets/base",
          "model_name": "LayoutModel",
          "model_module_version": "1.2.0",
          "state": {
            "_view_name": "LayoutView",
            "grid_template_rows": null,
            "right": null,
            "justify_content": null,
            "_view_module": "@jupyter-widgets/base",
            "overflow": null,
            "_model_module_version": "1.2.0",
            "_view_count": null,
            "flex_flow": null,
            "width": null,
            "min_width": null,
            "border": null,
            "align_items": null,
            "bottom": null,
            "_model_module": "@jupyter-widgets/base",
            "top": null,
            "grid_column": null,
            "overflow_y": null,
            "overflow_x": null,
            "grid_auto_flow": null,
            "grid_area": null,
            "grid_template_columns": null,
            "flex": null,
            "_model_name": "LayoutModel",
            "justify_items": null,
            "grid_row": null,
            "max_height": null,
            "align_content": null,
            "visibility": null,
            "align_self": null,
            "height": null,
            "min_height": null,
            "padding": null,
            "grid_auto_rows": null,
            "grid_gap": null,
            "max_width": null,
            "order": null,
            "_view_module_version": "1.2.0",
            "grid_template_areas": null,
            "object_position": null,
            "object_fit": null,
            "grid_auto_columns": null,
            "margin": null,
            "display": null,
            "left": null
          }
        },
        "5a3610950b7749a0b80641f981470855": {
          "model_module": "@jupyter-widgets/controls",
          "model_name": "HTMLModel",
          "model_module_version": "1.5.0",
          "state": {
            "_view_name": "HTMLView",
            "style": "IPY_MODEL_ccc2c4308e994029ad46f38b2dc0e351",
            "_dom_classes": [],
            "description": "",
            "_model_name": "HTMLModel",
            "placeholder": "​",
            "_view_module": "@jupyter-widgets/controls",
            "_model_module_version": "1.5.0",
            "value": "Dl Size...: 100%",
            "_view_count": null,
            "_view_module_version": "1.5.0",
            "description_tooltip": null,
            "_model_module": "@jupyter-widgets/controls",
            "layout": "IPY_MODEL_d26e084ee35446a0862d8eed30280617"
          }
        },
        "d7edd9c02ab146cb8ba2b9b2269b1226": {
          "model_module": "@jupyter-widgets/controls",
          "model_name": "FloatProgressModel",
          "model_module_version": "1.5.0",
          "state": {
            "_view_name": "ProgressView",
            "style": "IPY_MODEL_85db582c74bb43908eab1bf1918eb3b6",
            "_dom_classes": [],
            "description": "",
            "_model_name": "FloatProgressModel",
            "bar_style": "success",
            "max": 1,
            "_view_module": "@jupyter-widgets/controls",
            "_model_module_version": "1.5.0",
            "value": 1,
            "_view_count": null,
            "_view_module_version": "1.5.0",
            "orientation": "horizontal",
            "min": 0,
            "description_tooltip": null,
            "_model_module": "@jupyter-widgets/controls",
            "layout": "IPY_MODEL_1e2dbd701e784c77805d7b1605fced5d"
          }
        },
        "9568286227ef4dda8f82b0eb918a0acf": {
          "model_module": "@jupyter-widgets/controls",
          "model_name": "HTMLModel",
          "model_module_version": "1.5.0",
          "state": {
            "_view_name": "HTMLView",
            "style": "IPY_MODEL_2e3bdd935dde4fc1bcf580cef4dafef7",
            "_dom_classes": [],
            "description": "",
            "_model_name": "HTMLModel",
            "placeholder": "​",
            "_view_module": "@jupyter-widgets/controls",
            "_model_module_version": "1.5.0",
            "value": " 124/124 [00:08&lt;00:00, 35.68 MiB/s]",
            "_view_count": null,
            "_view_module_version": "1.5.0",
            "description_tooltip": null,
            "_model_module": "@jupyter-widgets/controls",
            "layout": "IPY_MODEL_3da22b007a8e4b1aac24cd1e43cd47f1"
          }
        },
        "ccc2c4308e994029ad46f38b2dc0e351": {
          "model_module": "@jupyter-widgets/controls",
          "model_name": "DescriptionStyleModel",
          "model_module_version": "1.5.0",
          "state": {
            "_view_name": "StyleView",
            "_model_name": "DescriptionStyleModel",
            "description_width": "",
            "_view_module": "@jupyter-widgets/base",
            "_model_module_version": "1.5.0",
            "_view_count": null,
            "_view_module_version": "1.2.0",
            "_model_module": "@jupyter-widgets/controls"
          }
        },
        "d26e084ee35446a0862d8eed30280617": {
          "model_module": "@jupyter-widgets/base",
          "model_name": "LayoutModel",
          "model_module_version": "1.2.0",
          "state": {
            "_view_name": "LayoutView",
            "grid_template_rows": null,
            "right": null,
            "justify_content": null,
            "_view_module": "@jupyter-widgets/base",
            "overflow": null,
            "_model_module_version": "1.2.0",
            "_view_count": null,
            "flex_flow": null,
            "width": null,
            "min_width": null,
            "border": null,
            "align_items": null,
            "bottom": null,
            "_model_module": "@jupyter-widgets/base",
            "top": null,
            "grid_column": null,
            "overflow_y": null,
            "overflow_x": null,
            "grid_auto_flow": null,
            "grid_area": null,
            "grid_template_columns": null,
            "flex": null,
            "_model_name": "LayoutModel",
            "justify_items": null,
            "grid_row": null,
            "max_height": null,
            "align_content": null,
            "visibility": null,
            "align_self": null,
            "height": null,
            "min_height": null,
            "padding": null,
            "grid_auto_rows": null,
            "grid_gap": null,
            "max_width": null,
            "order": null,
            "_view_module_version": "1.2.0",
            "grid_template_areas": null,
            "object_position": null,
            "object_fit": null,
            "grid_auto_columns": null,
            "margin": null,
            "display": null,
            "left": null
          }
        },
        "85db582c74bb43908eab1bf1918eb3b6": {
          "model_module": "@jupyter-widgets/controls",
          "model_name": "ProgressStyleModel",
          "model_module_version": "1.5.0",
          "state": {
            "_view_name": "StyleView",
            "_model_name": "ProgressStyleModel",
            "description_width": "",
            "_view_module": "@jupyter-widgets/base",
            "_model_module_version": "1.5.0",
            "_view_count": null,
            "_view_module_version": "1.2.0",
            "bar_color": null,
            "_model_module": "@jupyter-widgets/controls"
          }
        },
        "1e2dbd701e784c77805d7b1605fced5d": {
          "model_module": "@jupyter-widgets/base",
          "model_name": "LayoutModel",
          "model_module_version": "1.2.0",
          "state": {
            "_view_name": "LayoutView",
            "grid_template_rows": null,
            "right": null,
            "justify_content": null,
            "_view_module": "@jupyter-widgets/base",
            "overflow": null,
            "_model_module_version": "1.2.0",
            "_view_count": null,
            "flex_flow": null,
            "width": "20px",
            "min_width": null,
            "border": null,
            "align_items": null,
            "bottom": null,
            "_model_module": "@jupyter-widgets/base",
            "top": null,
            "grid_column": null,
            "overflow_y": null,
            "overflow_x": null,
            "grid_auto_flow": null,
            "grid_area": null,
            "grid_template_columns": null,
            "flex": null,
            "_model_name": "LayoutModel",
            "justify_items": null,
            "grid_row": null,
            "max_height": null,
            "align_content": null,
            "visibility": null,
            "align_self": null,
            "height": null,
            "min_height": null,
            "padding": null,
            "grid_auto_rows": null,
            "grid_gap": null,
            "max_width": null,
            "order": null,
            "_view_module_version": "1.2.0",
            "grid_template_areas": null,
            "object_position": null,
            "object_fit": null,
            "grid_auto_columns": null,
            "margin": null,
            "display": null,
            "left": null
          }
        },
        "2e3bdd935dde4fc1bcf580cef4dafef7": {
          "model_module": "@jupyter-widgets/controls",
          "model_name": "DescriptionStyleModel",
          "model_module_version": "1.5.0",
          "state": {
            "_view_name": "StyleView",
            "_model_name": "DescriptionStyleModel",
            "description_width": "",
            "_view_module": "@jupyter-widgets/base",
            "_model_module_version": "1.5.0",
            "_view_count": null,
            "_view_module_version": "1.2.0",
            "_model_module": "@jupyter-widgets/controls"
          }
        },
        "3da22b007a8e4b1aac24cd1e43cd47f1": {
          "model_module": "@jupyter-widgets/base",
          "model_name": "LayoutModel",
          "model_module_version": "1.2.0",
          "state": {
            "_view_name": "LayoutView",
            "grid_template_rows": null,
            "right": null,
            "justify_content": null,
            "_view_module": "@jupyter-widgets/base",
            "overflow": null,
            "_model_module_version": "1.2.0",
            "_view_count": null,
            "flex_flow": null,
            "width": null,
            "min_width": null,
            "border": null,
            "align_items": null,
            "bottom": null,
            "_model_module": "@jupyter-widgets/base",
            "top": null,
            "grid_column": null,
            "overflow_y": null,
            "overflow_x": null,
            "grid_auto_flow": null,
            "grid_area": null,
            "grid_template_columns": null,
            "flex": null,
            "_model_name": "LayoutModel",
            "justify_items": null,
            "grid_row": null,
            "max_height": null,
            "align_content": null,
            "visibility": null,
            "align_self": null,
            "height": null,
            "min_height": null,
            "padding": null,
            "grid_auto_rows": null,
            "grid_gap": null,
            "max_width": null,
            "order": null,
            "_view_module_version": "1.2.0",
            "grid_template_areas": null,
            "object_position": null,
            "object_fit": null,
            "grid_auto_columns": null,
            "margin": null,
            "display": null,
            "left": null
          }
        },
        "6ef43e26bb094efb86fc8a1bf79079a6": {
          "model_module": "@jupyter-widgets/controls",
          "model_name": "HBoxModel",
          "model_module_version": "1.5.0",
          "state": {
            "_view_name": "HBoxView",
            "_dom_classes": [],
            "_model_name": "HBoxModel",
            "_view_module": "@jupyter-widgets/controls",
            "_model_module_version": "1.5.0",
            "_view_count": null,
            "_view_module_version": "1.5.0",
            "box_style": "",
            "layout": "IPY_MODEL_8b790d3f64c5403db037d826fcbc52ba",
            "_model_module": "@jupyter-widgets/controls",
            "children": [
              "IPY_MODEL_e02c661d36044eae94bb3080eab2265d",
              "IPY_MODEL_b883d2020eed436c988830f1526eecca",
              "IPY_MODEL_43a165ad856840ecab504152eaf8c6d6"
            ]
          }
        },
        "8b790d3f64c5403db037d826fcbc52ba": {
          "model_module": "@jupyter-widgets/base",
          "model_name": "LayoutModel",
          "model_module_version": "1.2.0",
          "state": {
            "_view_name": "LayoutView",
            "grid_template_rows": null,
            "right": null,
            "justify_content": null,
            "_view_module": "@jupyter-widgets/base",
            "overflow": null,
            "_model_module_version": "1.2.0",
            "_view_count": null,
            "flex_flow": null,
            "width": null,
            "min_width": null,
            "border": null,
            "align_items": null,
            "bottom": null,
            "_model_module": "@jupyter-widgets/base",
            "top": null,
            "grid_column": null,
            "overflow_y": null,
            "overflow_x": null,
            "grid_auto_flow": null,
            "grid_area": null,
            "grid_template_columns": null,
            "flex": null,
            "_model_name": "LayoutModel",
            "justify_items": null,
            "grid_row": null,
            "max_height": null,
            "align_content": null,
            "visibility": null,
            "align_self": null,
            "height": null,
            "min_height": null,
            "padding": null,
            "grid_auto_rows": null,
            "grid_gap": null,
            "max_width": null,
            "order": null,
            "_view_module_version": "1.2.0",
            "grid_template_areas": null,
            "object_position": null,
            "object_fit": null,
            "grid_auto_columns": null,
            "margin": null,
            "display": null,
            "left": null
          }
        },
        "e02c661d36044eae94bb3080eab2265d": {
          "model_module": "@jupyter-widgets/controls",
          "model_name": "HTMLModel",
          "model_module_version": "1.5.0",
          "state": {
            "_view_name": "HTMLView",
            "style": "IPY_MODEL_39219c28885a4334b17ab283b635ed39",
            "_dom_classes": [],
            "description": "",
            "_model_name": "HTMLModel",
            "placeholder": "​",
            "_view_module": "@jupyter-widgets/controls",
            "_model_module_version": "1.5.0",
            "value": "Extraction completed...: 100%",
            "_view_count": null,
            "_view_module_version": "1.5.0",
            "description_tooltip": null,
            "_model_module": "@jupyter-widgets/controls",
            "layout": "IPY_MODEL_7bec761d7b17416a9ac434d1fc593e03"
          }
        },
        "b883d2020eed436c988830f1526eecca": {
          "model_module": "@jupyter-widgets/controls",
          "model_name": "FloatProgressModel",
          "model_module_version": "1.5.0",
          "state": {
            "_view_name": "ProgressView",
            "style": "IPY_MODEL_610219c5850b4518a489225d36b41bb5",
            "_dom_classes": [],
            "description": "",
            "_model_name": "FloatProgressModel",
            "bar_style": "success",
            "max": 1,
            "_view_module": "@jupyter-widgets/controls",
            "_model_module_version": "1.5.0",
            "value": 1,
            "_view_count": null,
            "_view_module_version": "1.5.0",
            "orientation": "horizontal",
            "min": 0,
            "description_tooltip": null,
            "_model_module": "@jupyter-widgets/controls",
            "layout": "IPY_MODEL_7d491fbfeb314d37baa805f7f4842fb9"
          }
        },
        "43a165ad856840ecab504152eaf8c6d6": {
          "model_module": "@jupyter-widgets/controls",
          "model_name": "HTMLModel",
          "model_module_version": "1.5.0",
          "state": {
            "_view_name": "HTMLView",
            "style": "IPY_MODEL_58e5dd13037c44f6b9af8bfe481bdf0f",
            "_dom_classes": [],
            "description": "",
            "_model_name": "HTMLModel",
            "placeholder": "​",
            "_view_module": "@jupyter-widgets/controls",
            "_model_module_version": "1.5.0",
            "value": " 1/1 [00:08&lt;00:00,  8.17s/ file]",
            "_view_count": null,
            "_view_module_version": "1.5.0",
            "description_tooltip": null,
            "_model_module": "@jupyter-widgets/controls",
            "layout": "IPY_MODEL_c8e2953906734eef90441c2f4945737b"
          }
        },
        "39219c28885a4334b17ab283b635ed39": {
          "model_module": "@jupyter-widgets/controls",
          "model_name": "DescriptionStyleModel",
          "model_module_version": "1.5.0",
          "state": {
            "_view_name": "StyleView",
            "_model_name": "DescriptionStyleModel",
            "description_width": "",
            "_view_module": "@jupyter-widgets/base",
            "_model_module_version": "1.5.0",
            "_view_count": null,
            "_view_module_version": "1.2.0",
            "_model_module": "@jupyter-widgets/controls"
          }
        },
        "7bec761d7b17416a9ac434d1fc593e03": {
          "model_module": "@jupyter-widgets/base",
          "model_name": "LayoutModel",
          "model_module_version": "1.2.0",
          "state": {
            "_view_name": "LayoutView",
            "grid_template_rows": null,
            "right": null,
            "justify_content": null,
            "_view_module": "@jupyter-widgets/base",
            "overflow": null,
            "_model_module_version": "1.2.0",
            "_view_count": null,
            "flex_flow": null,
            "width": null,
            "min_width": null,
            "border": null,
            "align_items": null,
            "bottom": null,
            "_model_module": "@jupyter-widgets/base",
            "top": null,
            "grid_column": null,
            "overflow_y": null,
            "overflow_x": null,
            "grid_auto_flow": null,
            "grid_area": null,
            "grid_template_columns": null,
            "flex": null,
            "_model_name": "LayoutModel",
            "justify_items": null,
            "grid_row": null,
            "max_height": null,
            "align_content": null,
            "visibility": null,
            "align_self": null,
            "height": null,
            "min_height": null,
            "padding": null,
            "grid_auto_rows": null,
            "grid_gap": null,
            "max_width": null,
            "order": null,
            "_view_module_version": "1.2.0",
            "grid_template_areas": null,
            "object_position": null,
            "object_fit": null,
            "grid_auto_columns": null,
            "margin": null,
            "display": null,
            "left": null
          }
        },
        "610219c5850b4518a489225d36b41bb5": {
          "model_module": "@jupyter-widgets/controls",
          "model_name": "ProgressStyleModel",
          "model_module_version": "1.5.0",
          "state": {
            "_view_name": "StyleView",
            "_model_name": "ProgressStyleModel",
            "description_width": "",
            "_view_module": "@jupyter-widgets/base",
            "_model_module_version": "1.5.0",
            "_view_count": null,
            "_view_module_version": "1.2.0",
            "bar_color": null,
            "_model_module": "@jupyter-widgets/controls"
          }
        },
        "7d491fbfeb314d37baa805f7f4842fb9": {
          "model_module": "@jupyter-widgets/base",
          "model_name": "LayoutModel",
          "model_module_version": "1.2.0",
          "state": {
            "_view_name": "LayoutView",
            "grid_template_rows": null,
            "right": null,
            "justify_content": null,
            "_view_module": "@jupyter-widgets/base",
            "overflow": null,
            "_model_module_version": "1.2.0",
            "_view_count": null,
            "flex_flow": null,
            "width": "20px",
            "min_width": null,
            "border": null,
            "align_items": null,
            "bottom": null,
            "_model_module": "@jupyter-widgets/base",
            "top": null,
            "grid_column": null,
            "overflow_y": null,
            "overflow_x": null,
            "grid_auto_flow": null,
            "grid_area": null,
            "grid_template_columns": null,
            "flex": null,
            "_model_name": "LayoutModel",
            "justify_items": null,
            "grid_row": null,
            "max_height": null,
            "align_content": null,
            "visibility": null,
            "align_self": null,
            "height": null,
            "min_height": null,
            "padding": null,
            "grid_auto_rows": null,
            "grid_gap": null,
            "max_width": null,
            "order": null,
            "_view_module_version": "1.2.0",
            "grid_template_areas": null,
            "object_position": null,
            "object_fit": null,
            "grid_auto_columns": null,
            "margin": null,
            "display": null,
            "left": null
          }
        },
        "58e5dd13037c44f6b9af8bfe481bdf0f": {
          "model_module": "@jupyter-widgets/controls",
          "model_name": "DescriptionStyleModel",
          "model_module_version": "1.5.0",
          "state": {
            "_view_name": "StyleView",
            "_model_name": "DescriptionStyleModel",
            "description_width": "",
            "_view_module": "@jupyter-widgets/base",
            "_model_module_version": "1.5.0",
            "_view_count": null,
            "_view_module_version": "1.2.0",
            "_model_module": "@jupyter-widgets/controls"
          }
        },
        "c8e2953906734eef90441c2f4945737b": {
          "model_module": "@jupyter-widgets/base",
          "model_name": "LayoutModel",
          "model_module_version": "1.2.0",
          "state": {
            "_view_name": "LayoutView",
            "grid_template_rows": null,
            "right": null,
            "justify_content": null,
            "_view_module": "@jupyter-widgets/base",
            "overflow": null,
            "_model_module_version": "1.2.0",
            "_view_count": null,
            "flex_flow": null,
            "width": null,
            "min_width": null,
            "border": null,
            "align_items": null,
            "bottom": null,
            "_model_module": "@jupyter-widgets/base",
            "top": null,
            "grid_column": null,
            "overflow_y": null,
            "overflow_x": null,
            "grid_auto_flow": null,
            "grid_area": null,
            "grid_template_columns": null,
            "flex": null,
            "_model_name": "LayoutModel",
            "justify_items": null,
            "grid_row": null,
            "max_height": null,
            "align_content": null,
            "visibility": null,
            "align_self": null,
            "height": null,
            "min_height": null,
            "padding": null,
            "grid_auto_rows": null,
            "grid_gap": null,
            "max_width": null,
            "order": null,
            "_view_module_version": "1.2.0",
            "grid_template_areas": null,
            "object_position": null,
            "object_fit": null,
            "grid_auto_columns": null,
            "margin": null,
            "display": null,
            "left": null
          }
        },
        "4dba504e8ec248a2a6dcb7b5524e61d3": {
          "model_module": "@jupyter-widgets/controls",
          "model_name": "HBoxModel",
          "model_module_version": "1.5.0",
          "state": {
            "_view_name": "HBoxView",
            "_dom_classes": [],
            "_model_name": "HBoxModel",
            "_view_module": "@jupyter-widgets/controls",
            "_model_module_version": "1.5.0",
            "_view_count": null,
            "_view_module_version": "1.5.0",
            "box_style": "",
            "layout": "IPY_MODEL_155326051c7f4581a508a42e9eab361e",
            "_model_module": "@jupyter-widgets/controls",
            "children": [
              "IPY_MODEL_78d66208e3e34ae3bdf806ef0a0ce892",
              "IPY_MODEL_f6a56a7df53f49c88ed74e176570540a",
              "IPY_MODEL_73a5b10d80104764835a07e4a6dd1263"
            ]
          }
        },
        "155326051c7f4581a508a42e9eab361e": {
          "model_module": "@jupyter-widgets/base",
          "model_name": "LayoutModel",
          "model_module_version": "1.2.0",
          "state": {
            "_view_name": "LayoutView",
            "grid_template_rows": null,
            "right": null,
            "justify_content": null,
            "_view_module": "@jupyter-widgets/base",
            "overflow": null,
            "_model_module_version": "1.2.0",
            "_view_count": null,
            "flex_flow": null,
            "width": null,
            "min_width": null,
            "border": null,
            "align_items": null,
            "bottom": null,
            "_model_module": "@jupyter-widgets/base",
            "top": null,
            "grid_column": null,
            "overflow_y": null,
            "overflow_x": null,
            "grid_auto_flow": null,
            "grid_area": null,
            "grid_template_columns": null,
            "flex": null,
            "_model_name": "LayoutModel",
            "justify_items": null,
            "grid_row": null,
            "max_height": null,
            "align_content": null,
            "visibility": null,
            "align_self": null,
            "height": null,
            "min_height": null,
            "padding": null,
            "grid_auto_rows": null,
            "grid_gap": null,
            "max_width": null,
            "order": null,
            "_view_module_version": "1.2.0",
            "grid_template_areas": null,
            "object_position": null,
            "object_fit": null,
            "grid_auto_columns": null,
            "margin": null,
            "display": null,
            "left": null
          }
        },
        "78d66208e3e34ae3bdf806ef0a0ce892": {
          "model_module": "@jupyter-widgets/controls",
          "model_name": "HTMLModel",
          "model_module_version": "1.5.0",
          "state": {
            "_view_name": "HTMLView",
            "style": "IPY_MODEL_bb10fd29f02e4609b8df135be40d3f5d",
            "_dom_classes": [],
            "description": "",
            "_model_name": "HTMLModel",
            "placeholder": "​",
            "_view_module": "@jupyter-widgets/controls",
            "_model_module_version": "1.5.0",
            "value": "",
            "_view_count": null,
            "_view_module_version": "1.5.0",
            "description_tooltip": null,
            "_model_module": "@jupyter-widgets/controls",
            "layout": "IPY_MODEL_305cc8f49f22464db605a1fb383cf113"
          }
        },
        "f6a56a7df53f49c88ed74e176570540a": {
          "model_module": "@jupyter-widgets/controls",
          "model_name": "FloatProgressModel",
          "model_module_version": "1.5.0",
          "state": {
            "_view_name": "ProgressView",
            "style": "IPY_MODEL_2df46cf4249142e99459f2d12985bdb6",
            "_dom_classes": [],
            "description": "",
            "_model_name": "FloatProgressModel",
            "bar_style": "info",
            "max": 1,
            "_view_module": "@jupyter-widgets/controls",
            "_model_module_version": "1.5.0",
            "value": 1,
            "_view_count": null,
            "_view_module_version": "1.5.0",
            "orientation": "horizontal",
            "min": 0,
            "description_tooltip": null,
            "_model_module": "@jupyter-widgets/controls",
            "layout": "IPY_MODEL_28d221ae622b4a07b1b2b62154b8c3e6"
          }
        },
        "73a5b10d80104764835a07e4a6dd1263": {
          "model_module": "@jupyter-widgets/controls",
          "model_name": "HTMLModel",
          "model_module_version": "1.5.0",
          "state": {
            "_view_name": "HTMLView",
            "style": "IPY_MODEL_f734eb99ceed47d98b75f52e56c1431b",
            "_dom_classes": [],
            "description": "",
            "_model_name": "HTMLModel",
            "placeholder": "​",
            "_view_module": "@jupyter-widgets/controls",
            "_model_module_version": "1.5.0",
            "value": " 43765/0 [00:06&lt;00:00, 7041.82 examples/s]",
            "_view_count": null,
            "_view_module_version": "1.5.0",
            "description_tooltip": null,
            "_model_module": "@jupyter-widgets/controls",
            "layout": "IPY_MODEL_afc87a3e3f28483dafbd12f5c14634ab"
          }
        },
        "bb10fd29f02e4609b8df135be40d3f5d": {
          "model_module": "@jupyter-widgets/controls",
          "model_name": "DescriptionStyleModel",
          "model_module_version": "1.5.0",
          "state": {
            "_view_name": "StyleView",
            "_model_name": "DescriptionStyleModel",
            "description_width": "",
            "_view_module": "@jupyter-widgets/base",
            "_model_module_version": "1.5.0",
            "_view_count": null,
            "_view_module_version": "1.2.0",
            "_model_module": "@jupyter-widgets/controls"
          }
        },
        "305cc8f49f22464db605a1fb383cf113": {
          "model_module": "@jupyter-widgets/base",
          "model_name": "LayoutModel",
          "model_module_version": "1.2.0",
          "state": {
            "_view_name": "LayoutView",
            "grid_template_rows": null,
            "right": null,
            "justify_content": null,
            "_view_module": "@jupyter-widgets/base",
            "overflow": null,
            "_model_module_version": "1.2.0",
            "_view_count": null,
            "flex_flow": null,
            "width": null,
            "min_width": null,
            "border": null,
            "align_items": null,
            "bottom": null,
            "_model_module": "@jupyter-widgets/base",
            "top": null,
            "grid_column": null,
            "overflow_y": null,
            "overflow_x": null,
            "grid_auto_flow": null,
            "grid_area": null,
            "grid_template_columns": null,
            "flex": null,
            "_model_name": "LayoutModel",
            "justify_items": null,
            "grid_row": null,
            "max_height": null,
            "align_content": null,
            "visibility": null,
            "align_self": null,
            "height": null,
            "min_height": null,
            "padding": null,
            "grid_auto_rows": null,
            "grid_gap": null,
            "max_width": null,
            "order": null,
            "_view_module_version": "1.2.0",
            "grid_template_areas": null,
            "object_position": null,
            "object_fit": null,
            "grid_auto_columns": null,
            "margin": null,
            "display": null,
            "left": null
          }
        },
        "2df46cf4249142e99459f2d12985bdb6": {
          "model_module": "@jupyter-widgets/controls",
          "model_name": "ProgressStyleModel",
          "model_module_version": "1.5.0",
          "state": {
            "_view_name": "StyleView",
            "_model_name": "ProgressStyleModel",
            "description_width": "",
            "_view_module": "@jupyter-widgets/base",
            "_model_module_version": "1.5.0",
            "_view_count": null,
            "_view_module_version": "1.2.0",
            "bar_color": null,
            "_model_module": "@jupyter-widgets/controls"
          }
        },
        "28d221ae622b4a07b1b2b62154b8c3e6": {
          "model_module": "@jupyter-widgets/base",
          "model_name": "LayoutModel",
          "model_module_version": "1.2.0",
          "state": {
            "_view_name": "LayoutView",
            "grid_template_rows": null,
            "right": null,
            "justify_content": null,
            "_view_module": "@jupyter-widgets/base",
            "overflow": null,
            "_model_module_version": "1.2.0",
            "_view_count": null,
            "flex_flow": null,
            "width": "20px",
            "min_width": null,
            "border": null,
            "align_items": null,
            "bottom": null,
            "_model_module": "@jupyter-widgets/base",
            "top": null,
            "grid_column": null,
            "overflow_y": null,
            "overflow_x": null,
            "grid_auto_flow": null,
            "grid_area": null,
            "grid_template_columns": null,
            "flex": null,
            "_model_name": "LayoutModel",
            "justify_items": null,
            "grid_row": null,
            "max_height": null,
            "align_content": null,
            "visibility": null,
            "align_self": null,
            "height": null,
            "min_height": null,
            "padding": null,
            "grid_auto_rows": null,
            "grid_gap": null,
            "max_width": null,
            "order": null,
            "_view_module_version": "1.2.0",
            "grid_template_areas": null,
            "object_position": null,
            "object_fit": null,
            "grid_auto_columns": null,
            "margin": null,
            "display": null,
            "left": null
          }
        },
        "f734eb99ceed47d98b75f52e56c1431b": {
          "model_module": "@jupyter-widgets/controls",
          "model_name": "DescriptionStyleModel",
          "model_module_version": "1.5.0",
          "state": {
            "_view_name": "StyleView",
            "_model_name": "DescriptionStyleModel",
            "description_width": "",
            "_view_module": "@jupyter-widgets/base",
            "_model_module_version": "1.5.0",
            "_view_count": null,
            "_view_module_version": "1.2.0",
            "_model_module": "@jupyter-widgets/controls"
          }
        },
        "afc87a3e3f28483dafbd12f5c14634ab": {
          "model_module": "@jupyter-widgets/base",
          "model_name": "LayoutModel",
          "model_module_version": "1.2.0",
          "state": {
            "_view_name": "LayoutView",
            "grid_template_rows": null,
            "right": null,
            "justify_content": null,
            "_view_module": "@jupyter-widgets/base",
            "overflow": null,
            "_model_module_version": "1.2.0",
            "_view_count": null,
            "flex_flow": null,
            "width": null,
            "min_width": null,
            "border": null,
            "align_items": null,
            "bottom": null,
            "_model_module": "@jupyter-widgets/base",
            "top": null,
            "grid_column": null,
            "overflow_y": null,
            "overflow_x": null,
            "grid_auto_flow": null,
            "grid_area": null,
            "grid_template_columns": null,
            "flex": null,
            "_model_name": "LayoutModel",
            "justify_items": null,
            "grid_row": null,
            "max_height": null,
            "align_content": null,
            "visibility": null,
            "align_self": null,
            "height": null,
            "min_height": null,
            "padding": null,
            "grid_auto_rows": null,
            "grid_gap": null,
            "max_width": null,
            "order": null,
            "_view_module_version": "1.2.0",
            "grid_template_areas": null,
            "object_position": null,
            "object_fit": null,
            "grid_auto_columns": null,
            "margin": null,
            "display": null,
            "left": null
          }
        },
        "9b3dfc603d7a41bc97737a2b987b42af": {
          "model_module": "@jupyter-widgets/controls",
          "model_name": "HBoxModel",
          "model_module_version": "1.5.0",
          "state": {
            "_view_name": "HBoxView",
            "_dom_classes": [],
            "_model_name": "HBoxModel",
            "_view_module": "@jupyter-widgets/controls",
            "_model_module_version": "1.5.0",
            "_view_count": null,
            "_view_module_version": "1.5.0",
            "box_style": "",
            "layout": "IPY_MODEL_505a7ef264c4485d982152e8103d48ff",
            "_model_module": "@jupyter-widgets/controls",
            "children": [
              "IPY_MODEL_5258849832b44ea2b97bc38e9fe754ba",
              "IPY_MODEL_ba0e28d32c174debb5848e958332a844",
              "IPY_MODEL_e16b3b94171d4d8f98afcd7f38e658df"
            ]
          }
        },
        "505a7ef264c4485d982152e8103d48ff": {
          "model_module": "@jupyter-widgets/base",
          "model_name": "LayoutModel",
          "model_module_version": "1.2.0",
          "state": {
            "_view_name": "LayoutView",
            "grid_template_rows": null,
            "right": null,
            "justify_content": null,
            "_view_module": "@jupyter-widgets/base",
            "overflow": null,
            "_model_module_version": "1.2.0",
            "_view_count": null,
            "flex_flow": null,
            "width": null,
            "min_width": null,
            "border": null,
            "align_items": null,
            "bottom": null,
            "_model_module": "@jupyter-widgets/base",
            "top": null,
            "grid_column": null,
            "overflow_y": null,
            "overflow_x": null,
            "grid_auto_flow": null,
            "grid_area": null,
            "grid_template_columns": null,
            "flex": null,
            "_model_name": "LayoutModel",
            "justify_items": null,
            "grid_row": null,
            "max_height": null,
            "align_content": null,
            "visibility": null,
            "align_self": null,
            "height": null,
            "min_height": null,
            "padding": null,
            "grid_auto_rows": null,
            "grid_gap": null,
            "max_width": null,
            "order": null,
            "_view_module_version": "1.2.0",
            "grid_template_areas": null,
            "object_position": null,
            "object_fit": null,
            "grid_auto_columns": null,
            "margin": null,
            "display": null,
            "left": null
          }
        },
        "5258849832b44ea2b97bc38e9fe754ba": {
          "model_module": "@jupyter-widgets/controls",
          "model_name": "HTMLModel",
          "model_module_version": "1.5.0",
          "state": {
            "_view_name": "HTMLView",
            "style": "IPY_MODEL_142ed55483ec40729fbdeffc4168292d",
            "_dom_classes": [],
            "description": "",
            "_model_name": "HTMLModel",
            "placeholder": "​",
            "_view_module": "@jupyter-widgets/controls",
            "_model_module_version": "1.5.0",
            "value": "100%",
            "_view_count": null,
            "_view_module_version": "1.5.0",
            "description_tooltip": null,
            "_model_module": "@jupyter-widgets/controls",
            "layout": "IPY_MODEL_a908f9e8ecd4463cbb45dd862a44047d"
          }
        },
        "ba0e28d32c174debb5848e958332a844": {
          "model_module": "@jupyter-widgets/controls",
          "model_name": "FloatProgressModel",
          "model_module_version": "1.5.0",
          "state": {
            "_view_name": "ProgressView",
            "style": "IPY_MODEL_dea7d8c9912841b1a061e604432a621c",
            "_dom_classes": [],
            "description": "",
            "_model_name": "FloatProgressModel",
            "bar_style": "danger",
            "max": 43873,
            "_view_module": "@jupyter-widgets/controls",
            "_model_module_version": "1.5.0",
            "value": 43872,
            "_view_count": null,
            "_view_module_version": "1.5.0",
            "orientation": "horizontal",
            "min": 0,
            "description_tooltip": null,
            "_model_module": "@jupyter-widgets/controls",
            "layout": "IPY_MODEL_44a59f8b916648519a59c85f1f80f17e"
          }
        },
        "e16b3b94171d4d8f98afcd7f38e658df": {
          "model_module": "@jupyter-widgets/controls",
          "model_name": "HTMLModel",
          "model_module_version": "1.5.0",
          "state": {
            "_view_name": "HTMLView",
            "style": "IPY_MODEL_5ef73a0f380f4378ad9b4ea78848289b",
            "_dom_classes": [],
            "description": "",
            "_model_name": "HTMLModel",
            "placeholder": "​",
            "_view_module": "@jupyter-widgets/controls",
            "_model_module_version": "1.5.0",
            "value": " 43872/43873 [00:00&lt;00:00, 141999.30 examples/s]",
            "_view_count": null,
            "_view_module_version": "1.5.0",
            "description_tooltip": null,
            "_model_module": "@jupyter-widgets/controls",
            "layout": "IPY_MODEL_8510f6f6e110438ba2aea43dbb20d289"
          }
        },
        "142ed55483ec40729fbdeffc4168292d": {
          "model_module": "@jupyter-widgets/controls",
          "model_name": "DescriptionStyleModel",
          "model_module_version": "1.5.0",
          "state": {
            "_view_name": "StyleView",
            "_model_name": "DescriptionStyleModel",
            "description_width": "",
            "_view_module": "@jupyter-widgets/base",
            "_model_module_version": "1.5.0",
            "_view_count": null,
            "_view_module_version": "1.2.0",
            "_model_module": "@jupyter-widgets/controls"
          }
        },
        "a908f9e8ecd4463cbb45dd862a44047d": {
          "model_module": "@jupyter-widgets/base",
          "model_name": "LayoutModel",
          "model_module_version": "1.2.0",
          "state": {
            "_view_name": "LayoutView",
            "grid_template_rows": null,
            "right": null,
            "justify_content": null,
            "_view_module": "@jupyter-widgets/base",
            "overflow": null,
            "_model_module_version": "1.2.0",
            "_view_count": null,
            "flex_flow": null,
            "width": null,
            "min_width": null,
            "border": null,
            "align_items": null,
            "bottom": null,
            "_model_module": "@jupyter-widgets/base",
            "top": null,
            "grid_column": null,
            "overflow_y": null,
            "overflow_x": null,
            "grid_auto_flow": null,
            "grid_area": null,
            "grid_template_columns": null,
            "flex": null,
            "_model_name": "LayoutModel",
            "justify_items": null,
            "grid_row": null,
            "max_height": null,
            "align_content": null,
            "visibility": null,
            "align_self": null,
            "height": null,
            "min_height": null,
            "padding": null,
            "grid_auto_rows": null,
            "grid_gap": null,
            "max_width": null,
            "order": null,
            "_view_module_version": "1.2.0",
            "grid_template_areas": null,
            "object_position": null,
            "object_fit": null,
            "grid_auto_columns": null,
            "margin": null,
            "display": null,
            "left": null
          }
        },
        "dea7d8c9912841b1a061e604432a621c": {
          "model_module": "@jupyter-widgets/controls",
          "model_name": "ProgressStyleModel",
          "model_module_version": "1.5.0",
          "state": {
            "_view_name": "StyleView",
            "_model_name": "ProgressStyleModel",
            "description_width": "",
            "_view_module": "@jupyter-widgets/base",
            "_model_module_version": "1.5.0",
            "_view_count": null,
            "_view_module_version": "1.2.0",
            "bar_color": null,
            "_model_module": "@jupyter-widgets/controls"
          }
        },
        "44a59f8b916648519a59c85f1f80f17e": {
          "model_module": "@jupyter-widgets/base",
          "model_name": "LayoutModel",
          "model_module_version": "1.2.0",
          "state": {
            "_view_name": "LayoutView",
            "grid_template_rows": null,
            "right": null,
            "justify_content": null,
            "_view_module": "@jupyter-widgets/base",
            "overflow": null,
            "_model_module_version": "1.2.0",
            "_view_count": null,
            "flex_flow": null,
            "width": null,
            "min_width": null,
            "border": null,
            "align_items": null,
            "bottom": null,
            "_model_module": "@jupyter-widgets/base",
            "top": null,
            "grid_column": null,
            "overflow_y": null,
            "overflow_x": null,
            "grid_auto_flow": null,
            "grid_area": null,
            "grid_template_columns": null,
            "flex": null,
            "_model_name": "LayoutModel",
            "justify_items": null,
            "grid_row": null,
            "max_height": null,
            "align_content": null,
            "visibility": null,
            "align_self": null,
            "height": null,
            "min_height": null,
            "padding": null,
            "grid_auto_rows": null,
            "grid_gap": null,
            "max_width": null,
            "order": null,
            "_view_module_version": "1.2.0",
            "grid_template_areas": null,
            "object_position": null,
            "object_fit": null,
            "grid_auto_columns": null,
            "margin": null,
            "display": null,
            "left": null
          }
        },
        "5ef73a0f380f4378ad9b4ea78848289b": {
          "model_module": "@jupyter-widgets/controls",
          "model_name": "DescriptionStyleModel",
          "model_module_version": "1.5.0",
          "state": {
            "_view_name": "StyleView",
            "_model_name": "DescriptionStyleModel",
            "description_width": "",
            "_view_module": "@jupyter-widgets/base",
            "_model_module_version": "1.5.0",
            "_view_count": null,
            "_view_module_version": "1.2.0",
            "_model_module": "@jupyter-widgets/controls"
          }
        },
        "8510f6f6e110438ba2aea43dbb20d289": {
          "model_module": "@jupyter-widgets/base",
          "model_name": "LayoutModel",
          "model_module_version": "1.2.0",
          "state": {
            "_view_name": "LayoutView",
            "grid_template_rows": null,
            "right": null,
            "justify_content": null,
            "_view_module": "@jupyter-widgets/base",
            "overflow": null,
            "_model_module_version": "1.2.0",
            "_view_count": null,
            "flex_flow": null,
            "width": null,
            "min_width": null,
            "border": null,
            "align_items": null,
            "bottom": null,
            "_model_module": "@jupyter-widgets/base",
            "top": null,
            "grid_column": null,
            "overflow_y": null,
            "overflow_x": null,
            "grid_auto_flow": null,
            "grid_area": null,
            "grid_template_columns": null,
            "flex": null,
            "_model_name": "LayoutModel",
            "justify_items": null,
            "grid_row": null,
            "max_height": null,
            "align_content": null,
            "visibility": null,
            "align_self": null,
            "height": null,
            "min_height": null,
            "padding": null,
            "grid_auto_rows": null,
            "grid_gap": null,
            "max_width": null,
            "order": null,
            "_view_module_version": "1.2.0",
            "grid_template_areas": null,
            "object_position": null,
            "object_fit": null,
            "grid_auto_columns": null,
            "margin": null,
            "display": null,
            "left": null
          }
        },
        "50f076b0034e46aaaa4211ee79d9ca56": {
          "model_module": "@jupyter-widgets/controls",
          "model_name": "HBoxModel",
          "model_module_version": "1.5.0",
          "state": {
            "_view_name": "HBoxView",
            "_dom_classes": [],
            "_model_name": "HBoxModel",
            "_view_module": "@jupyter-widgets/controls",
            "_model_module_version": "1.5.0",
            "_view_count": null,
            "_view_module_version": "1.5.0",
            "box_style": "",
            "layout": "IPY_MODEL_73c8a91741094782bb885b6ec0f08634",
            "_model_module": "@jupyter-widgets/controls",
            "children": [
              "IPY_MODEL_0ad77f22ba46452db55b19bc6189641c",
              "IPY_MODEL_14317b4b5ef844cbbbdba6c293d3e763",
              "IPY_MODEL_cb8294e3910b431eafe4bf0539004734"
            ]
          }
        },
        "73c8a91741094782bb885b6ec0f08634": {
          "model_module": "@jupyter-widgets/base",
          "model_name": "LayoutModel",
          "model_module_version": "1.2.0",
          "state": {
            "_view_name": "LayoutView",
            "grid_template_rows": null,
            "right": null,
            "justify_content": null,
            "_view_module": "@jupyter-widgets/base",
            "overflow": null,
            "_model_module_version": "1.2.0",
            "_view_count": null,
            "flex_flow": null,
            "width": null,
            "min_width": null,
            "border": null,
            "align_items": null,
            "bottom": null,
            "_model_module": "@jupyter-widgets/base",
            "top": null,
            "grid_column": null,
            "overflow_y": null,
            "overflow_x": null,
            "grid_auto_flow": null,
            "grid_area": null,
            "grid_template_columns": null,
            "flex": null,
            "_model_name": "LayoutModel",
            "justify_items": null,
            "grid_row": null,
            "max_height": null,
            "align_content": null,
            "visibility": null,
            "align_self": null,
            "height": null,
            "min_height": null,
            "padding": null,
            "grid_auto_rows": null,
            "grid_gap": null,
            "max_width": null,
            "order": null,
            "_view_module_version": "1.2.0",
            "grid_template_areas": null,
            "object_position": null,
            "object_fit": null,
            "grid_auto_columns": null,
            "margin": null,
            "display": null,
            "left": null
          }
        },
        "0ad77f22ba46452db55b19bc6189641c": {
          "model_module": "@jupyter-widgets/controls",
          "model_name": "HTMLModel",
          "model_module_version": "1.5.0",
          "state": {
            "_view_name": "HTMLView",
            "style": "IPY_MODEL_97aa1e0147d2470ebd7109ddad2f6bff",
            "_dom_classes": [],
            "description": "",
            "_model_name": "HTMLModel",
            "placeholder": "​",
            "_view_module": "@jupyter-widgets/controls",
            "_model_module_version": "1.5.0",
            "value": "",
            "_view_count": null,
            "_view_module_version": "1.5.0",
            "description_tooltip": null,
            "_model_module": "@jupyter-widgets/controls",
            "layout": "IPY_MODEL_c0621d833e9844a2a7f15f74132fd89a"
          }
        },
        "14317b4b5ef844cbbbdba6c293d3e763": {
          "model_module": "@jupyter-widgets/controls",
          "model_name": "FloatProgressModel",
          "model_module_version": "1.5.0",
          "state": {
            "_view_name": "ProgressView",
            "style": "IPY_MODEL_ee8f36eafaa245539f7ca08fdece4ef1",
            "_dom_classes": [],
            "description": "",
            "_model_name": "FloatProgressModel",
            "bar_style": "info",
            "max": 1,
            "_view_module": "@jupyter-widgets/controls",
            "_model_module_version": "1.5.0",
            "value": 1,
            "_view_count": null,
            "_view_module_version": "1.5.0",
            "orientation": "horizontal",
            "min": 0,
            "description_tooltip": null,
            "_model_module": "@jupyter-widgets/controls",
            "layout": "IPY_MODEL_769837b90df14f2b81d409d407b93bec"
          }
        },
        "cb8294e3910b431eafe4bf0539004734": {
          "model_module": "@jupyter-widgets/controls",
          "model_name": "HTMLModel",
          "model_module_version": "1.5.0",
          "state": {
            "_view_name": "HTMLView",
            "style": "IPY_MODEL_cf3facdaad15454484e16312cdaf8858",
            "_dom_classes": [],
            "description": "",
            "_model_name": "HTMLModel",
            "placeholder": "​",
            "_view_module": "@jupyter-widgets/controls",
            "_model_module_version": "1.5.0",
            "value": " 1015/0 [00:00&lt;00:00, 5520.14 examples/s]",
            "_view_count": null,
            "_view_module_version": "1.5.0",
            "description_tooltip": null,
            "_model_module": "@jupyter-widgets/controls",
            "layout": "IPY_MODEL_a9633652b24f4c6eb6b0dd179979fe39"
          }
        },
        "97aa1e0147d2470ebd7109ddad2f6bff": {
          "model_module": "@jupyter-widgets/controls",
          "model_name": "DescriptionStyleModel",
          "model_module_version": "1.5.0",
          "state": {
            "_view_name": "StyleView",
            "_model_name": "DescriptionStyleModel",
            "description_width": "",
            "_view_module": "@jupyter-widgets/base",
            "_model_module_version": "1.5.0",
            "_view_count": null,
            "_view_module_version": "1.2.0",
            "_model_module": "@jupyter-widgets/controls"
          }
        },
        "c0621d833e9844a2a7f15f74132fd89a": {
          "model_module": "@jupyter-widgets/base",
          "model_name": "LayoutModel",
          "model_module_version": "1.2.0",
          "state": {
            "_view_name": "LayoutView",
            "grid_template_rows": null,
            "right": null,
            "justify_content": null,
            "_view_module": "@jupyter-widgets/base",
            "overflow": null,
            "_model_module_version": "1.2.0",
            "_view_count": null,
            "flex_flow": null,
            "width": null,
            "min_width": null,
            "border": null,
            "align_items": null,
            "bottom": null,
            "_model_module": "@jupyter-widgets/base",
            "top": null,
            "grid_column": null,
            "overflow_y": null,
            "overflow_x": null,
            "grid_auto_flow": null,
            "grid_area": null,
            "grid_template_columns": null,
            "flex": null,
            "_model_name": "LayoutModel",
            "justify_items": null,
            "grid_row": null,
            "max_height": null,
            "align_content": null,
            "visibility": null,
            "align_self": null,
            "height": null,
            "min_height": null,
            "padding": null,
            "grid_auto_rows": null,
            "grid_gap": null,
            "max_width": null,
            "order": null,
            "_view_module_version": "1.2.0",
            "grid_template_areas": null,
            "object_position": null,
            "object_fit": null,
            "grid_auto_columns": null,
            "margin": null,
            "display": null,
            "left": null
          }
        },
        "ee8f36eafaa245539f7ca08fdece4ef1": {
          "model_module": "@jupyter-widgets/controls",
          "model_name": "ProgressStyleModel",
          "model_module_version": "1.5.0",
          "state": {
            "_view_name": "StyleView",
            "_model_name": "ProgressStyleModel",
            "description_width": "",
            "_view_module": "@jupyter-widgets/base",
            "_model_module_version": "1.5.0",
            "_view_count": null,
            "_view_module_version": "1.2.0",
            "bar_color": null,
            "_model_module": "@jupyter-widgets/controls"
          }
        },
        "769837b90df14f2b81d409d407b93bec": {
          "model_module": "@jupyter-widgets/base",
          "model_name": "LayoutModel",
          "model_module_version": "1.2.0",
          "state": {
            "_view_name": "LayoutView",
            "grid_template_rows": null,
            "right": null,
            "justify_content": null,
            "_view_module": "@jupyter-widgets/base",
            "overflow": null,
            "_model_module_version": "1.2.0",
            "_view_count": null,
            "flex_flow": null,
            "width": "20px",
            "min_width": null,
            "border": null,
            "align_items": null,
            "bottom": null,
            "_model_module": "@jupyter-widgets/base",
            "top": null,
            "grid_column": null,
            "overflow_y": null,
            "overflow_x": null,
            "grid_auto_flow": null,
            "grid_area": null,
            "grid_template_columns": null,
            "flex": null,
            "_model_name": "LayoutModel",
            "justify_items": null,
            "grid_row": null,
            "max_height": null,
            "align_content": null,
            "visibility": null,
            "align_self": null,
            "height": null,
            "min_height": null,
            "padding": null,
            "grid_auto_rows": null,
            "grid_gap": null,
            "max_width": null,
            "order": null,
            "_view_module_version": "1.2.0",
            "grid_template_areas": null,
            "object_position": null,
            "object_fit": null,
            "grid_auto_columns": null,
            "margin": null,
            "display": null,
            "left": null
          }
        },
        "cf3facdaad15454484e16312cdaf8858": {
          "model_module": "@jupyter-widgets/controls",
          "model_name": "DescriptionStyleModel",
          "model_module_version": "1.5.0",
          "state": {
            "_view_name": "StyleView",
            "_model_name": "DescriptionStyleModel",
            "description_width": "",
            "_view_module": "@jupyter-widgets/base",
            "_model_module_version": "1.5.0",
            "_view_count": null,
            "_view_module_version": "1.2.0",
            "_model_module": "@jupyter-widgets/controls"
          }
        },
        "a9633652b24f4c6eb6b0dd179979fe39": {
          "model_module": "@jupyter-widgets/base",
          "model_name": "LayoutModel",
          "model_module_version": "1.2.0",
          "state": {
            "_view_name": "LayoutView",
            "grid_template_rows": null,
            "right": null,
            "justify_content": null,
            "_view_module": "@jupyter-widgets/base",
            "overflow": null,
            "_model_module_version": "1.2.0",
            "_view_count": null,
            "flex_flow": null,
            "width": null,
            "min_width": null,
            "border": null,
            "align_items": null,
            "bottom": null,
            "_model_module": "@jupyter-widgets/base",
            "top": null,
            "grid_column": null,
            "overflow_y": null,
            "overflow_x": null,
            "grid_auto_flow": null,
            "grid_area": null,
            "grid_template_columns": null,
            "flex": null,
            "_model_name": "LayoutModel",
            "justify_items": null,
            "grid_row": null,
            "max_height": null,
            "align_content": null,
            "visibility": null,
            "align_self": null,
            "height": null,
            "min_height": null,
            "padding": null,
            "grid_auto_rows": null,
            "grid_gap": null,
            "max_width": null,
            "order": null,
            "_view_module_version": "1.2.0",
            "grid_template_areas": null,
            "object_position": null,
            "object_fit": null,
            "grid_auto_columns": null,
            "margin": null,
            "display": null,
            "left": null
          }
        },
        "8a4b6521b00948a28c5a92612edfb338": {
          "model_module": "@jupyter-widgets/controls",
          "model_name": "HBoxModel",
          "model_module_version": "1.5.0",
          "state": {
            "_view_name": "HBoxView",
            "_dom_classes": [],
            "_model_name": "HBoxModel",
            "_view_module": "@jupyter-widgets/controls",
            "_model_module_version": "1.5.0",
            "_view_count": null,
            "_view_module_version": "1.5.0",
            "box_style": "",
            "layout": "IPY_MODEL_0a26146b31c04a3f88f60d964f7f70f9",
            "_model_module": "@jupyter-widgets/controls",
            "children": [
              "IPY_MODEL_7d55d4a35cbe4625b5fd841d46863df6",
              "IPY_MODEL_166d00a09ea84149b4aa9fc0157b208a",
              "IPY_MODEL_5d5e7f0e254f421f8bf3076e42ae9bc9"
            ]
          }
        },
        "0a26146b31c04a3f88f60d964f7f70f9": {
          "model_module": "@jupyter-widgets/base",
          "model_name": "LayoutModel",
          "model_module_version": "1.2.0",
          "state": {
            "_view_name": "LayoutView",
            "grid_template_rows": null,
            "right": null,
            "justify_content": null,
            "_view_module": "@jupyter-widgets/base",
            "overflow": null,
            "_model_module_version": "1.2.0",
            "_view_count": null,
            "flex_flow": null,
            "width": null,
            "min_width": null,
            "border": null,
            "align_items": null,
            "bottom": null,
            "_model_module": "@jupyter-widgets/base",
            "top": null,
            "grid_column": null,
            "overflow_y": null,
            "overflow_x": null,
            "grid_auto_flow": null,
            "grid_area": null,
            "grid_template_columns": null,
            "flex": null,
            "_model_name": "LayoutModel",
            "justify_items": null,
            "grid_row": null,
            "max_height": null,
            "align_content": null,
            "visibility": null,
            "align_self": null,
            "height": null,
            "min_height": null,
            "padding": null,
            "grid_auto_rows": null,
            "grid_gap": null,
            "max_width": null,
            "order": null,
            "_view_module_version": "1.2.0",
            "grid_template_areas": null,
            "object_position": null,
            "object_fit": null,
            "grid_auto_columns": null,
            "margin": null,
            "display": null,
            "left": null
          }
        },
        "7d55d4a35cbe4625b5fd841d46863df6": {
          "model_module": "@jupyter-widgets/controls",
          "model_name": "HTMLModel",
          "model_module_version": "1.5.0",
          "state": {
            "_view_name": "HTMLView",
            "style": "IPY_MODEL_4bb4a4eaf8e148b084baf6db4c4251c7",
            "_dom_classes": [],
            "description": "",
            "_model_name": "HTMLModel",
            "placeholder": "​",
            "_view_module": "@jupyter-widgets/controls",
            "_model_module_version": "1.5.0",
            "value": "100%",
            "_view_count": null,
            "_view_module_version": "1.5.0",
            "description_tooltip": null,
            "_model_module": "@jupyter-widgets/controls",
            "layout": "IPY_MODEL_ed3f5f2a6b644068a47d46874cc57681"
          }
        },
        "166d00a09ea84149b4aa9fc0157b208a": {
          "model_module": "@jupyter-widgets/controls",
          "model_name": "FloatProgressModel",
          "model_module_version": "1.5.0",
          "state": {
            "_view_name": "ProgressView",
            "style": "IPY_MODEL_51595fdadc6b40c6b44beea05bc67785",
            "_dom_classes": [],
            "description": "",
            "_model_name": "FloatProgressModel",
            "bar_style": "danger",
            "max": 1131,
            "_view_module": "@jupyter-widgets/controls",
            "_model_module_version": "1.5.0",
            "value": 1130,
            "_view_count": null,
            "_view_module_version": "1.5.0",
            "orientation": "horizontal",
            "min": 0,
            "description_tooltip": null,
            "_model_module": "@jupyter-widgets/controls",
            "layout": "IPY_MODEL_e87b3c068d2b477ebfecb2e350224b6d"
          }
        },
        "5d5e7f0e254f421f8bf3076e42ae9bc9": {
          "model_module": "@jupyter-widgets/controls",
          "model_name": "HTMLModel",
          "model_module_version": "1.5.0",
          "state": {
            "_view_name": "HTMLView",
            "style": "IPY_MODEL_17eed01ac1094f98ab44359168b35a9a",
            "_dom_classes": [],
            "description": "",
            "_model_name": "HTMLModel",
            "placeholder": "​",
            "_view_module": "@jupyter-widgets/controls",
            "_model_module_version": "1.5.0",
            "value": " 1130/1131 [00:00&lt;00:00, 23754.47 examples/s]",
            "_view_count": null,
            "_view_module_version": "1.5.0",
            "description_tooltip": null,
            "_model_module": "@jupyter-widgets/controls",
            "layout": "IPY_MODEL_3c695464dcc8429ea6571cebd1f3e990"
          }
        },
        "4bb4a4eaf8e148b084baf6db4c4251c7": {
          "model_module": "@jupyter-widgets/controls",
          "model_name": "DescriptionStyleModel",
          "model_module_version": "1.5.0",
          "state": {
            "_view_name": "StyleView",
            "_model_name": "DescriptionStyleModel",
            "description_width": "",
            "_view_module": "@jupyter-widgets/base",
            "_model_module_version": "1.5.0",
            "_view_count": null,
            "_view_module_version": "1.2.0",
            "_model_module": "@jupyter-widgets/controls"
          }
        },
        "ed3f5f2a6b644068a47d46874cc57681": {
          "model_module": "@jupyter-widgets/base",
          "model_name": "LayoutModel",
          "model_module_version": "1.2.0",
          "state": {
            "_view_name": "LayoutView",
            "grid_template_rows": null,
            "right": null,
            "justify_content": null,
            "_view_module": "@jupyter-widgets/base",
            "overflow": null,
            "_model_module_version": "1.2.0",
            "_view_count": null,
            "flex_flow": null,
            "width": null,
            "min_width": null,
            "border": null,
            "align_items": null,
            "bottom": null,
            "_model_module": "@jupyter-widgets/base",
            "top": null,
            "grid_column": null,
            "overflow_y": null,
            "overflow_x": null,
            "grid_auto_flow": null,
            "grid_area": null,
            "grid_template_columns": null,
            "flex": null,
            "_model_name": "LayoutModel",
            "justify_items": null,
            "grid_row": null,
            "max_height": null,
            "align_content": null,
            "visibility": null,
            "align_self": null,
            "height": null,
            "min_height": null,
            "padding": null,
            "grid_auto_rows": null,
            "grid_gap": null,
            "max_width": null,
            "order": null,
            "_view_module_version": "1.2.0",
            "grid_template_areas": null,
            "object_position": null,
            "object_fit": null,
            "grid_auto_columns": null,
            "margin": null,
            "display": null,
            "left": null
          }
        },
        "51595fdadc6b40c6b44beea05bc67785": {
          "model_module": "@jupyter-widgets/controls",
          "model_name": "ProgressStyleModel",
          "model_module_version": "1.5.0",
          "state": {
            "_view_name": "StyleView",
            "_model_name": "ProgressStyleModel",
            "description_width": "",
            "_view_module": "@jupyter-widgets/base",
            "_model_module_version": "1.5.0",
            "_view_count": null,
            "_view_module_version": "1.2.0",
            "bar_color": null,
            "_model_module": "@jupyter-widgets/controls"
          }
        },
        "e87b3c068d2b477ebfecb2e350224b6d": {
          "model_module": "@jupyter-widgets/base",
          "model_name": "LayoutModel",
          "model_module_version": "1.2.0",
          "state": {
            "_view_name": "LayoutView",
            "grid_template_rows": null,
            "right": null,
            "justify_content": null,
            "_view_module": "@jupyter-widgets/base",
            "overflow": null,
            "_model_module_version": "1.2.0",
            "_view_count": null,
            "flex_flow": null,
            "width": null,
            "min_width": null,
            "border": null,
            "align_items": null,
            "bottom": null,
            "_model_module": "@jupyter-widgets/base",
            "top": null,
            "grid_column": null,
            "overflow_y": null,
            "overflow_x": null,
            "grid_auto_flow": null,
            "grid_area": null,
            "grid_template_columns": null,
            "flex": null,
            "_model_name": "LayoutModel",
            "justify_items": null,
            "grid_row": null,
            "max_height": null,
            "align_content": null,
            "visibility": null,
            "align_self": null,
            "height": null,
            "min_height": null,
            "padding": null,
            "grid_auto_rows": null,
            "grid_gap": null,
            "max_width": null,
            "order": null,
            "_view_module_version": "1.2.0",
            "grid_template_areas": null,
            "object_position": null,
            "object_fit": null,
            "grid_auto_columns": null,
            "margin": null,
            "display": null,
            "left": null
          }
        },
        "17eed01ac1094f98ab44359168b35a9a": {
          "model_module": "@jupyter-widgets/controls",
          "model_name": "DescriptionStyleModel",
          "model_module_version": "1.5.0",
          "state": {
            "_view_name": "StyleView",
            "_model_name": "DescriptionStyleModel",
            "description_width": "",
            "_view_module": "@jupyter-widgets/base",
            "_model_module_version": "1.5.0",
            "_view_count": null,
            "_view_module_version": "1.2.0",
            "_model_module": "@jupyter-widgets/controls"
          }
        },
        "3c695464dcc8429ea6571cebd1f3e990": {
          "model_module": "@jupyter-widgets/base",
          "model_name": "LayoutModel",
          "model_module_version": "1.2.0",
          "state": {
            "_view_name": "LayoutView",
            "grid_template_rows": null,
            "right": null,
            "justify_content": null,
            "_view_module": "@jupyter-widgets/base",
            "overflow": null,
            "_model_module_version": "1.2.0",
            "_view_count": null,
            "flex_flow": null,
            "width": null,
            "min_width": null,
            "border": null,
            "align_items": null,
            "bottom": null,
            "_model_module": "@jupyter-widgets/base",
            "top": null,
            "grid_column": null,
            "overflow_y": null,
            "overflow_x": null,
            "grid_auto_flow": null,
            "grid_area": null,
            "grid_template_columns": null,
            "flex": null,
            "_model_name": "LayoutModel",
            "justify_items": null,
            "grid_row": null,
            "max_height": null,
            "align_content": null,
            "visibility": null,
            "align_self": null,
            "height": null,
            "min_height": null,
            "padding": null,
            "grid_auto_rows": null,
            "grid_gap": null,
            "max_width": null,
            "order": null,
            "_view_module_version": "1.2.0",
            "grid_template_areas": null,
            "object_position": null,
            "object_fit": null,
            "grid_auto_columns": null,
            "margin": null,
            "display": null,
            "left": null
          }
        },
        "d0290ccf164646a6bf301b18da65a383": {
          "model_module": "@jupyter-widgets/controls",
          "model_name": "HBoxModel",
          "model_module_version": "1.5.0",
          "state": {
            "_view_name": "HBoxView",
            "_dom_classes": [],
            "_model_name": "HBoxModel",
            "_view_module": "@jupyter-widgets/controls",
            "_model_module_version": "1.5.0",
            "_view_count": null,
            "_view_module_version": "1.5.0",
            "box_style": "",
            "layout": "IPY_MODEL_c98c8f9075f9413bafca5ddb5060dc46",
            "_model_module": "@jupyter-widgets/controls",
            "children": [
              "IPY_MODEL_b9676f99a339407e81a0cbef8aaa715f",
              "IPY_MODEL_792b0cbece184cae9368d92fb2820feb",
              "IPY_MODEL_73bb3d1d6389406c98094624a53c8e8e"
            ]
          }
        },
        "c98c8f9075f9413bafca5ddb5060dc46": {
          "model_module": "@jupyter-widgets/base",
          "model_name": "LayoutModel",
          "model_module_version": "1.2.0",
          "state": {
            "_view_name": "LayoutView",
            "grid_template_rows": null,
            "right": null,
            "justify_content": null,
            "_view_module": "@jupyter-widgets/base",
            "overflow": null,
            "_model_module_version": "1.2.0",
            "_view_count": null,
            "flex_flow": null,
            "width": null,
            "min_width": null,
            "border": null,
            "align_items": null,
            "bottom": null,
            "_model_module": "@jupyter-widgets/base",
            "top": null,
            "grid_column": null,
            "overflow_y": null,
            "overflow_x": null,
            "grid_auto_flow": null,
            "grid_area": null,
            "grid_template_columns": null,
            "flex": null,
            "_model_name": "LayoutModel",
            "justify_items": null,
            "grid_row": null,
            "max_height": null,
            "align_content": null,
            "visibility": null,
            "align_self": null,
            "height": null,
            "min_height": null,
            "padding": null,
            "grid_auto_rows": null,
            "grid_gap": null,
            "max_width": null,
            "order": null,
            "_view_module_version": "1.2.0",
            "grid_template_areas": null,
            "object_position": null,
            "object_fit": null,
            "grid_auto_columns": null,
            "margin": null,
            "display": null,
            "left": null
          }
        },
        "b9676f99a339407e81a0cbef8aaa715f": {
          "model_module": "@jupyter-widgets/controls",
          "model_name": "HTMLModel",
          "model_module_version": "1.5.0",
          "state": {
            "_view_name": "HTMLView",
            "style": "IPY_MODEL_4628bd0711ec4a8eb1f241e0a483f08b",
            "_dom_classes": [],
            "description": "",
            "_model_name": "HTMLModel",
            "placeholder": "​",
            "_view_module": "@jupyter-widgets/controls",
            "_model_module_version": "1.5.0",
            "value": "",
            "_view_count": null,
            "_view_module_version": "1.5.0",
            "description_tooltip": null,
            "_model_module": "@jupyter-widgets/controls",
            "layout": "IPY_MODEL_5f4dbc958a0845adb0919688993e6b06"
          }
        },
        "792b0cbece184cae9368d92fb2820feb": {
          "model_module": "@jupyter-widgets/controls",
          "model_name": "FloatProgressModel",
          "model_module_version": "1.5.0",
          "state": {
            "_view_name": "ProgressView",
            "style": "IPY_MODEL_db3bac625c164f99a1c809f780ec9a46",
            "_dom_classes": [],
            "description": "",
            "_model_name": "FloatProgressModel",
            "bar_style": "info",
            "max": 1,
            "_view_module": "@jupyter-widgets/controls",
            "_model_module_version": "1.5.0",
            "value": 1,
            "_view_count": null,
            "_view_module_version": "1.5.0",
            "orientation": "horizontal",
            "min": 0,
            "description_tooltip": null,
            "_model_module": "@jupyter-widgets/controls",
            "layout": "IPY_MODEL_1237a9f06438459a83b9f18c3adecffa"
          }
        },
        "73bb3d1d6389406c98094624a53c8e8e": {
          "model_module": "@jupyter-widgets/controls",
          "model_name": "HTMLModel",
          "model_module_version": "1.5.0",
          "state": {
            "_view_name": "HTMLView",
            "style": "IPY_MODEL_9f64a95db3ef4ead94dd4338b32c541f",
            "_dom_classes": [],
            "description": "",
            "_model_name": "HTMLModel",
            "placeholder": "​",
            "_view_module": "@jupyter-widgets/controls",
            "_model_module_version": "1.5.0",
            "value": " 891/0 [00:00&lt;00:00, 4893.81 examples/s]",
            "_view_count": null,
            "_view_module_version": "1.5.0",
            "description_tooltip": null,
            "_model_module": "@jupyter-widgets/controls",
            "layout": "IPY_MODEL_a7d3069d7b9246e5860a4463405fdb7b"
          }
        },
        "4628bd0711ec4a8eb1f241e0a483f08b": {
          "model_module": "@jupyter-widgets/controls",
          "model_name": "DescriptionStyleModel",
          "model_module_version": "1.5.0",
          "state": {
            "_view_name": "StyleView",
            "_model_name": "DescriptionStyleModel",
            "description_width": "",
            "_view_module": "@jupyter-widgets/base",
            "_model_module_version": "1.5.0",
            "_view_count": null,
            "_view_module_version": "1.2.0",
            "_model_module": "@jupyter-widgets/controls"
          }
        },
        "5f4dbc958a0845adb0919688993e6b06": {
          "model_module": "@jupyter-widgets/base",
          "model_name": "LayoutModel",
          "model_module_version": "1.2.0",
          "state": {
            "_view_name": "LayoutView",
            "grid_template_rows": null,
            "right": null,
            "justify_content": null,
            "_view_module": "@jupyter-widgets/base",
            "overflow": null,
            "_model_module_version": "1.2.0",
            "_view_count": null,
            "flex_flow": null,
            "width": null,
            "min_width": null,
            "border": null,
            "align_items": null,
            "bottom": null,
            "_model_module": "@jupyter-widgets/base",
            "top": null,
            "grid_column": null,
            "overflow_y": null,
            "overflow_x": null,
            "grid_auto_flow": null,
            "grid_area": null,
            "grid_template_columns": null,
            "flex": null,
            "_model_name": "LayoutModel",
            "justify_items": null,
            "grid_row": null,
            "max_height": null,
            "align_content": null,
            "visibility": null,
            "align_self": null,
            "height": null,
            "min_height": null,
            "padding": null,
            "grid_auto_rows": null,
            "grid_gap": null,
            "max_width": null,
            "order": null,
            "_view_module_version": "1.2.0",
            "grid_template_areas": null,
            "object_position": null,
            "object_fit": null,
            "grid_auto_columns": null,
            "margin": null,
            "display": null,
            "left": null
          }
        },
        "db3bac625c164f99a1c809f780ec9a46": {
          "model_module": "@jupyter-widgets/controls",
          "model_name": "ProgressStyleModel",
          "model_module_version": "1.5.0",
          "state": {
            "_view_name": "StyleView",
            "_model_name": "ProgressStyleModel",
            "description_width": "",
            "_view_module": "@jupyter-widgets/base",
            "_model_module_version": "1.5.0",
            "_view_count": null,
            "_view_module_version": "1.2.0",
            "bar_color": null,
            "_model_module": "@jupyter-widgets/controls"
          }
        },
        "1237a9f06438459a83b9f18c3adecffa": {
          "model_module": "@jupyter-widgets/base",
          "model_name": "LayoutModel",
          "model_module_version": "1.2.0",
          "state": {
            "_view_name": "LayoutView",
            "grid_template_rows": null,
            "right": null,
            "justify_content": null,
            "_view_module": "@jupyter-widgets/base",
            "overflow": null,
            "_model_module_version": "1.2.0",
            "_view_count": null,
            "flex_flow": null,
            "width": "20px",
            "min_width": null,
            "border": null,
            "align_items": null,
            "bottom": null,
            "_model_module": "@jupyter-widgets/base",
            "top": null,
            "grid_column": null,
            "overflow_y": null,
            "overflow_x": null,
            "grid_auto_flow": null,
            "grid_area": null,
            "grid_template_columns": null,
            "flex": null,
            "_model_name": "LayoutModel",
            "justify_items": null,
            "grid_row": null,
            "max_height": null,
            "align_content": null,
            "visibility": null,
            "align_self": null,
            "height": null,
            "min_height": null,
            "padding": null,
            "grid_auto_rows": null,
            "grid_gap": null,
            "max_width": null,
            "order": null,
            "_view_module_version": "1.2.0",
            "grid_template_areas": null,
            "object_position": null,
            "object_fit": null,
            "grid_auto_columns": null,
            "margin": null,
            "display": null,
            "left": null
          }
        },
        "9f64a95db3ef4ead94dd4338b32c541f": {
          "model_module": "@jupyter-widgets/controls",
          "model_name": "DescriptionStyleModel",
          "model_module_version": "1.5.0",
          "state": {
            "_view_name": "StyleView",
            "_model_name": "DescriptionStyleModel",
            "description_width": "",
            "_view_module": "@jupyter-widgets/base",
            "_model_module_version": "1.5.0",
            "_view_count": null,
            "_view_module_version": "1.2.0",
            "_model_module": "@jupyter-widgets/controls"
          }
        },
        "a7d3069d7b9246e5860a4463405fdb7b": {
          "model_module": "@jupyter-widgets/base",
          "model_name": "LayoutModel",
          "model_module_version": "1.2.0",
          "state": {
            "_view_name": "LayoutView",
            "grid_template_rows": null,
            "right": null,
            "justify_content": null,
            "_view_module": "@jupyter-widgets/base",
            "overflow": null,
            "_model_module_version": "1.2.0",
            "_view_count": null,
            "flex_flow": null,
            "width": null,
            "min_width": null,
            "border": null,
            "align_items": null,
            "bottom": null,
            "_model_module": "@jupyter-widgets/base",
            "top": null,
            "grid_column": null,
            "overflow_y": null,
            "overflow_x": null,
            "grid_auto_flow": null,
            "grid_area": null,
            "grid_template_columns": null,
            "flex": null,
            "_model_name": "LayoutModel",
            "justify_items": null,
            "grid_row": null,
            "max_height": null,
            "align_content": null,
            "visibility": null,
            "align_self": null,
            "height": null,
            "min_height": null,
            "padding": null,
            "grid_auto_rows": null,
            "grid_gap": null,
            "max_width": null,
            "order": null,
            "_view_module_version": "1.2.0",
            "grid_template_areas": null,
            "object_position": null,
            "object_fit": null,
            "grid_auto_columns": null,
            "margin": null,
            "display": null,
            "left": null
          }
        },
        "14fa64b8f0a541b48ee35ca411d221cf": {
          "model_module": "@jupyter-widgets/controls",
          "model_name": "HBoxModel",
          "model_module_version": "1.5.0",
          "state": {
            "_view_name": "HBoxView",
            "_dom_classes": [],
            "_model_name": "HBoxModel",
            "_view_module": "@jupyter-widgets/controls",
            "_model_module_version": "1.5.0",
            "_view_count": null,
            "_view_module_version": "1.5.0",
            "box_style": "",
            "layout": "IPY_MODEL_f9dd636924d3447a91f71841f678db51",
            "_model_module": "@jupyter-widgets/controls",
            "children": [
              "IPY_MODEL_70a05334262845c2a0eca54b8d471067",
              "IPY_MODEL_09438ee40786445d8bf637c33aba363c",
              "IPY_MODEL_469c5b78acb04ee1a8a8b26cf5c1ac38"
            ]
          }
        },
        "f9dd636924d3447a91f71841f678db51": {
          "model_module": "@jupyter-widgets/base",
          "model_name": "LayoutModel",
          "model_module_version": "1.2.0",
          "state": {
            "_view_name": "LayoutView",
            "grid_template_rows": null,
            "right": null,
            "justify_content": null,
            "_view_module": "@jupyter-widgets/base",
            "overflow": null,
            "_model_module_version": "1.2.0",
            "_view_count": null,
            "flex_flow": null,
            "width": null,
            "min_width": null,
            "border": null,
            "align_items": null,
            "bottom": null,
            "_model_module": "@jupyter-widgets/base",
            "top": null,
            "grid_column": null,
            "overflow_y": null,
            "overflow_x": null,
            "grid_auto_flow": null,
            "grid_area": null,
            "grid_template_columns": null,
            "flex": null,
            "_model_name": "LayoutModel",
            "justify_items": null,
            "grid_row": null,
            "max_height": null,
            "align_content": null,
            "visibility": null,
            "align_self": null,
            "height": null,
            "min_height": null,
            "padding": null,
            "grid_auto_rows": null,
            "grid_gap": null,
            "max_width": null,
            "order": null,
            "_view_module_version": "1.2.0",
            "grid_template_areas": null,
            "object_position": null,
            "object_fit": null,
            "grid_auto_columns": null,
            "margin": null,
            "display": null,
            "left": null
          }
        },
        "70a05334262845c2a0eca54b8d471067": {
          "model_module": "@jupyter-widgets/controls",
          "model_name": "HTMLModel",
          "model_module_version": "1.5.0",
          "state": {
            "_view_name": "HTMLView",
            "style": "IPY_MODEL_3f76be88ea424ea88b0f439393096d39",
            "_dom_classes": [],
            "description": "",
            "_model_name": "HTMLModel",
            "placeholder": "​",
            "_view_module": "@jupyter-widgets/controls",
            "_model_module_version": "1.5.0",
            "value": "100%",
            "_view_count": null,
            "_view_module_version": "1.5.0",
            "description_tooltip": null,
            "_model_module": "@jupyter-widgets/controls",
            "layout": "IPY_MODEL_c423f4261c3748ddbb861f7d7fbbeece"
          }
        },
        "09438ee40786445d8bf637c33aba363c": {
          "model_module": "@jupyter-widgets/controls",
          "model_name": "FloatProgressModel",
          "model_module_version": "1.5.0",
          "state": {
            "_view_name": "ProgressView",
            "style": "IPY_MODEL_cd0e069fb5c44908bbef851fd2d53a89",
            "_dom_classes": [],
            "description": "",
            "_model_name": "FloatProgressModel",
            "bar_style": "danger",
            "max": 1494,
            "_view_module": "@jupyter-widgets/controls",
            "_model_module_version": "1.5.0",
            "value": 1493,
            "_view_count": null,
            "_view_module_version": "1.5.0",
            "orientation": "horizontal",
            "min": 0,
            "description_tooltip": null,
            "_model_module": "@jupyter-widgets/controls",
            "layout": "IPY_MODEL_38532cc2aeda4566ba7c7e3f9ab43712"
          }
        },
        "469c5b78acb04ee1a8a8b26cf5c1ac38": {
          "model_module": "@jupyter-widgets/controls",
          "model_name": "HTMLModel",
          "model_module_version": "1.5.0",
          "state": {
            "_view_name": "HTMLView",
            "style": "IPY_MODEL_0cd716d6c1c94742893a69d8d7c287d5",
            "_dom_classes": [],
            "description": "",
            "_model_name": "HTMLModel",
            "placeholder": "​",
            "_view_module": "@jupyter-widgets/controls",
            "_model_module_version": "1.5.0",
            "value": " 1493/1494 [00:00&lt;00:00, 24607.03 examples/s]",
            "_view_count": null,
            "_view_module_version": "1.5.0",
            "description_tooltip": null,
            "_model_module": "@jupyter-widgets/controls",
            "layout": "IPY_MODEL_709bbb52d38f4912a346ae824f750fce"
          }
        },
        "3f76be88ea424ea88b0f439393096d39": {
          "model_module": "@jupyter-widgets/controls",
          "model_name": "DescriptionStyleModel",
          "model_module_version": "1.5.0",
          "state": {
            "_view_name": "StyleView",
            "_model_name": "DescriptionStyleModel",
            "description_width": "",
            "_view_module": "@jupyter-widgets/base",
            "_model_module_version": "1.5.0",
            "_view_count": null,
            "_view_module_version": "1.2.0",
            "_model_module": "@jupyter-widgets/controls"
          }
        },
        "c423f4261c3748ddbb861f7d7fbbeece": {
          "model_module": "@jupyter-widgets/base",
          "model_name": "LayoutModel",
          "model_module_version": "1.2.0",
          "state": {
            "_view_name": "LayoutView",
            "grid_template_rows": null,
            "right": null,
            "justify_content": null,
            "_view_module": "@jupyter-widgets/base",
            "overflow": null,
            "_model_module_version": "1.2.0",
            "_view_count": null,
            "flex_flow": null,
            "width": null,
            "min_width": null,
            "border": null,
            "align_items": null,
            "bottom": null,
            "_model_module": "@jupyter-widgets/base",
            "top": null,
            "grid_column": null,
            "overflow_y": null,
            "overflow_x": null,
            "grid_auto_flow": null,
            "grid_area": null,
            "grid_template_columns": null,
            "flex": null,
            "_model_name": "LayoutModel",
            "justify_items": null,
            "grid_row": null,
            "max_height": null,
            "align_content": null,
            "visibility": null,
            "align_self": null,
            "height": null,
            "min_height": null,
            "padding": null,
            "grid_auto_rows": null,
            "grid_gap": null,
            "max_width": null,
            "order": null,
            "_view_module_version": "1.2.0",
            "grid_template_areas": null,
            "object_position": null,
            "object_fit": null,
            "grid_auto_columns": null,
            "margin": null,
            "display": null,
            "left": null
          }
        },
        "cd0e069fb5c44908bbef851fd2d53a89": {
          "model_module": "@jupyter-widgets/controls",
          "model_name": "ProgressStyleModel",
          "model_module_version": "1.5.0",
          "state": {
            "_view_name": "StyleView",
            "_model_name": "ProgressStyleModel",
            "description_width": "",
            "_view_module": "@jupyter-widgets/base",
            "_model_module_version": "1.5.0",
            "_view_count": null,
            "_view_module_version": "1.2.0",
            "bar_color": null,
            "_model_module": "@jupyter-widgets/controls"
          }
        },
        "38532cc2aeda4566ba7c7e3f9ab43712": {
          "model_module": "@jupyter-widgets/base",
          "model_name": "LayoutModel",
          "model_module_version": "1.2.0",
          "state": {
            "_view_name": "LayoutView",
            "grid_template_rows": null,
            "right": null,
            "justify_content": null,
            "_view_module": "@jupyter-widgets/base",
            "overflow": null,
            "_model_module_version": "1.2.0",
            "_view_count": null,
            "flex_flow": null,
            "width": null,
            "min_width": null,
            "border": null,
            "align_items": null,
            "bottom": null,
            "_model_module": "@jupyter-widgets/base",
            "top": null,
            "grid_column": null,
            "overflow_y": null,
            "overflow_x": null,
            "grid_auto_flow": null,
            "grid_area": null,
            "grid_template_columns": null,
            "flex": null,
            "_model_name": "LayoutModel",
            "justify_items": null,
            "grid_row": null,
            "max_height": null,
            "align_content": null,
            "visibility": null,
            "align_self": null,
            "height": null,
            "min_height": null,
            "padding": null,
            "grid_auto_rows": null,
            "grid_gap": null,
            "max_width": null,
            "order": null,
            "_view_module_version": "1.2.0",
            "grid_template_areas": null,
            "object_position": null,
            "object_fit": null,
            "grid_auto_columns": null,
            "margin": null,
            "display": null,
            "left": null
          }
        },
        "0cd716d6c1c94742893a69d8d7c287d5": {
          "model_module": "@jupyter-widgets/controls",
          "model_name": "DescriptionStyleModel",
          "model_module_version": "1.5.0",
          "state": {
            "_view_name": "StyleView",
            "_model_name": "DescriptionStyleModel",
            "description_width": "",
            "_view_module": "@jupyter-widgets/base",
            "_model_module_version": "1.5.0",
            "_view_count": null,
            "_view_module_version": "1.2.0",
            "_model_module": "@jupyter-widgets/controls"
          }
        },
        "709bbb52d38f4912a346ae824f750fce": {
          "model_module": "@jupyter-widgets/base",
          "model_name": "LayoutModel",
          "model_module_version": "1.2.0",
          "state": {
            "_view_name": "LayoutView",
            "grid_template_rows": null,
            "right": null,
            "justify_content": null,
            "_view_module": "@jupyter-widgets/base",
            "overflow": null,
            "_model_module_version": "1.2.0",
            "_view_count": null,
            "flex_flow": null,
            "width": null,
            "min_width": null,
            "border": null,
            "align_items": null,
            "bottom": null,
            "_model_module": "@jupyter-widgets/base",
            "top": null,
            "grid_column": null,
            "overflow_y": null,
            "overflow_x": null,
            "grid_auto_flow": null,
            "grid_area": null,
            "grid_template_columns": null,
            "flex": null,
            "_model_name": "LayoutModel",
            "justify_items": null,
            "grid_row": null,
            "max_height": null,
            "align_content": null,
            "visibility": null,
            "align_self": null,
            "height": null,
            "min_height": null,
            "padding": null,
            "grid_auto_rows": null,
            "grid_gap": null,
            "max_width": null,
            "order": null,
            "_view_module_version": "1.2.0",
            "grid_template_areas": null,
            "object_position": null,
            "object_fit": null,
            "grid_auto_columns": null,
            "margin": null,
            "display": null,
            "left": null
          }
        }
      }
    }
  },
  "nbformat": 4,
  "nbformat_minor": 0
}